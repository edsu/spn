{
 "cells": [
  {
   "cell_type": "markdown",
   "metadata": {},
   "source": [
    "# URLs in Wayback SPN Data\n",
    "\n",
    "In addition to looking at popular host names it also could be useful to identify popular URLs that people (or bots) archived on each day. Were there attempts to archive multiple things on the same day, and what can we possibly infer about the significance of these multiple attempts?\n",
    "\n",
    "The trouble is that when a browser interacts with SavePageNow via the [web form](https://web.archive.org) it receive the HTML for the requested webpage which has been rewritten to include some JavaScript. This JavaScript gets the browser to request any additional resources that are needed for rendering the page (JavaScript, images, CSS, etc) through SavePageNow as well. This means that a more high-fidelity recording is made, since all the resources for a web page are needed to make it human readable.\n",
    "\n",
    "Some of these URLs may be for things like jQuery a Content Deliver Network, or a CSS file. These aren't terribly interesting in terms of this analysis which is attempting to find duplicates in the originally requested page. One thing we can do is limit our analysis to HTML pages, or requests that come back 200 OK with a `Content-Type` HTTP header containing text/html."
   ]
  },
  {
   "cell_type": "code",
   "execution_count": 1,
   "metadata": {},
   "outputs": [],
   "source": [
    "from warc_spark import init, extractor\n",
    "\n",
    "sc, sqlc = init()"
   ]
  },
  {
   "cell_type": "markdown",
   "metadata": {},
   "source": [
    "In order to find the URLs it's important that we also retain the User-Agent that executed the request, since this tells us something about the person who initiated SavePageNow. Unfortunately the User-Agent is in the WARC Resquest record, and the Content-Type of the response is in the WARC Response record. Luckily these can be connected together using the WARC-Record-ID and the WARC-Concurrent-To WARC headers.\n",
    "\n",
    "The `get_urls` function takes a WARC Record and depending on whether it is a request or a response will return a tuple containing the record id and either a User-Agent or a URL for a text/html response. For example:\n",
    "\n",
    "```\n",
    "(urn:uuid:551471a6-631b-4ef7-99a5-f1344348ab64>', 'Mozilla/5.0 (compatible; archive.org_bot; Wayback Machine Live Record; +http://archive.org/details/archive.org_bot)')\n",
    "(urn:uuid:551471a6-631b-4ef7-99a5-f1344348ab64>', 'https://yahoo.com')\n",
    " ```\n"
   ]
  },
  {
   "cell_type": "code",
   "execution_count": 145,
   "metadata": {},
   "outputs": [],
   "source": [
    "import re\n",
    "from urllib.parse import urlparse\n",
    "\n",
    "@extractor\n",
    "def get_urls(record):\n",
    "    \n",
    "    if record.rec_type == 'request':\n",
    "        id = record.rec_headers.get_header('WARC-Concurrent-To')\n",
    "        ua = record.http_headers.get('user-agent')\n",
    "        if id and ua:\n",
    "            yield (id, ua)\n",
    "            \n",
    "    elif record.rec_type == 'response' and 'html' in record.http_headers.get('content-type', ''):\n",
    "        id = record.rec_headers.get_header('WARC-Record-ID')\n",
    "        url = record.rec_headers.get_header('WARC-Target-URI')\n",
    "        status_code = record.http_headers.get_statuscode()\n",
    "        \n",
    "        # not all 200 OK text/html responses are for requests for HTML \n",
    "        # for example some sites return 200 OK with some HTML when an image isn't found\n",
    "        # this big of logic will try to identify known image, css and javascript extensions\n",
    "        # to elmiminate them from consideration.\n",
    "        \n",
    "        uri = urlparse(url)        \n",
    "        is_dependency = re.match(r'.*\\.(gif|jpg|jpeg|js|png|css)$', uri.path)\n",
    "        if not is_dependency and status_code == '200' and id and url:\n",
    "            yield {id, url}"
   ]
  },
  {
   "cell_type": "markdown",
   "metadata": {},
   "source": [
    "Now we can process our data by selecting the WARC files we want to process and applying the `get_urls` function to them. We then group the results by the WARC-Record-ID to yield something like:\n",
    "\n",
    "    ('<urn:uuid:551471a6-631b-4ef7-99a5-f1344348ab64>', 'Mozilla/5.0 (compatible; archive.org_bot; Wayback Machine Live Record; +http://archive.org/details/archive.org_bot)')\n",
    "    \n",
    "    ('<urn:uuid:551471a6-631b-4ef7-99a5-f1344348ab64>', 'https://yahoo.com')"
   ]
  },
  {
   "cell_type": "code",
   "execution_count": 167,
   "metadata": {},
   "outputs": [
    {
     "data": {
      "text/plain": [
       "[('<urn:uuid:551471a6-631b-4ef7-99a5-f1344348ab64>',\n",
       "  'Mozilla/5.0 (compatible; archive.org_bot; Wayback Machine Live Record; +http://archive.org/details/archive.org_bot)'),\n",
       " ('<urn:uuid:da689bb9-5774-48ef-9c24-e65ef059f226>',\n",
       "  'Mozilla/5.0 (compatible; archive.org_bot; Wayback Machine Live Record; +http://archive.org/details/archive.org_bot)'),\n",
       " ('<urn:uuid:c538b356-32d6-4120-bec9-89567b13eac4>',\n",
       "  'Mozilla/5.0 (compatible; archive.org_bot; Wayback Machine Live Record; +http://archive.org/details/archive.org_bot)'),\n",
       " ('<urn:uuid:4422fa50-a89d-4f82-91e8-4c0047eabf54>',\n",
       "  'Mozilla/5.0 (compatible; archive.org_bot; Wayback Machine Live Record; +http://archive.org/details/archive.org_bot)'),\n",
       " ('<urn:uuid:e1211a6a-6e6d-48e0-a87b-8bd2500065e6>',\n",
       "  'Mozilla/5.0 (compatible; archive.org_bot; Wayback Machine Live Record; +http://archive.org/details/archive.org_bot)')]"
      ]
     },
     "execution_count": 167,
     "metadata": {},
     "output_type": "execute_result"
    }
   ],
   "source": [
    "from glob import glob\n",
    "\n",
    "warc_files = glob('warcs/*/*.warc.gz')[0:1]\n",
    "warcs = sc.parallelize(warc_files)\n",
    "results = warcs.mapPartitions(get_urls)\n",
    "results.take(1)"
   ]
  },
  {
   "cell_type": "markdown",
   "metadata": {},
   "source": [
    "Now we can use `groupByKey` to merge the User-Agent and URL tuples using the WARC-Record-ID as a key. We are also going to add two new columns for the User-Agent Family and whether it is a known bot. Some JSON files that were developed as part of the UserAgents notebook can help with this. The resulting rows will look someting like this:\n",
    "\n",
    "    (\n",
    "        'urn:uuid:551471a6-631b-4ef7-99a5-f1344348ab64>',\n",
    "        'https://yahoo.com',\n",
    "        'Mozilla/5.0 (compatible; archive.org_bot; Wayback Machine Live Record; +http://archive.org/details/archive.org_bot)',\n",
    "      \n",
    "        'https://yahoo.com',\n",
    "        'archive.org_bot',\n",
    "        True\n",
    "    )"
   ]
  },
  {
   "cell_type": "code",
   "execution_count": 179,
   "metadata": {},
   "outputs": [],
   "source": [
    "# merge the dataset using the record-id\n",
    "dataset = results.groupByKey()\n",
    "\n",
    "# flatten the second cell into two different columns\n",
    "dataset = dataset.mapValues(list)\n",
    "\n",
    "# make sure each row has a user-agent and a url (not guaranteed)\n",
    "dataset = dataset.filter(lambda r: len(r[1]) == 2)\n",
    "\n",
    "# get our user-agent mapping dictionaries handy\n",
    "import json\n",
    "ua_families = json.load(open('../analysis/results/ua-families.json'))\n",
    "top_uas = json.load(open('../analysis/results/top-uas.json'))\n",
    "\n",
    "# Flatten the results so we can turn it into a DataFrame\n",
    "def unpack(d):\n",
    "    id = d[0]\n",
    "    ua, url = d[1]\n",
    "    ua_f = ua_families.get(ua, '')\n",
    "    bot = top_uas.get(ua_f, False)\n",
    "    return (id, url, ua, ua_f, bot)\n",
    "dataset = dataset.map(unpack)\n",
    "\n",
    "# Convert to a Spark DataFrame\n",
    "df = dataset.toDF([\"record_id\", \"url\", \"user_agent\", \"user_agent_family\", \"bot\"])"
   ]
  },
  {
   "cell_type": "code",
   "execution_count": 180,
   "metadata": {},
   "outputs": [
    {
     "data": {
      "text/plain": [
       "[Row(record_id='<urn:uuid:cb197848-45d8-453f-a542-bd5885ee91a3>', url='http://www.g4c.org/search/tsc.php?&ses=138272380120032a46d63a46c21730572a6a57d3ed&200=OTE4NzgxMDY=&21=MjA3LjI0MS4yMjkuMjM2&681=MTM4MjcyMzgwMTIwMDMyYTQ2ZDYzYTQ2YzIxNzMwNTcyYTZhNTdkM2Vk&682=&616=&crc=4e93e5a29334a0a679c87ba264af8a65c483826b&cv=1', user_agent='Mozilla/5.0 (compatible; archive.org_bot; Wayback Machine Live Record; +http://archive.org/details/archive.org_bot)', user_agent_family='archive.org_bot', bot=True)]"
      ]
     },
     "execution_count": 180,
     "metadata": {},
     "output_type": "execute_result"
    }
   ],
   "source": [
    "df.head(1)"
   ]
  },
  {
   "cell_type": "markdown",
   "metadata": {},
   "source": [
    "Ok let's save off these results before we do any more processing."
   ]
  },
  {
   "cell_type": "code",
   "execution_count": 175,
   "metadata": {},
   "outputs": [],
   "source": [
    "df.write.csv('../analysis/results/urls')"
   ]
  },
  {
   "cell_type": "markdown",
   "metadata": {},
   "source": [
    "Now let's count the URLs and see which ones have appeared more than once."
   ]
  },
  {
   "cell_type": "code",
   "execution_count": 200,
   "metadata": {},
   "outputs": [
    {
     "data": {
      "text/plain": [
       "[Row(url='http://www.youtube.com/embed/6Pi1SdYfscA?wmode=transparent&rel=0', count=1),\n",
       " Row(url='http://fsrussia.ru/news/page/8/', count=1),\n",
       " Row(url='http://www.hamlin.org/Page/Admission/Tuition-and-Financial-Assistance', count=1),\n",
       " Row(url='http://www.equibase.com/profiles/Results.cfm?type=Horse&refno=8598856&registry=T', count=1),\n",
       " Row(url='http://elmansour-host.com/record/_embed/http://elmansour-host.com?a76908a5258476fc14b355b5afd3bd28=325467165&6fa970d50480e816942b6fab7c4e7a23=506683626&5f17a83ba43604eb3d1c06f73d82e119=635182968597883072', count=1)]"
      ]
     },
     "execution_count": 200,
     "metadata": {},
     "output_type": "execute_result"
    }
   ],
   "source": [
    "from pyspark.sql.functions import countDistinct, desc\n",
    "\n",
    "url_counts = df.groupBy(\"url\").agg(countDistinct(\"url\").alias(\"count\")).sort(desc(\"count\"))\n",
    "url_counts.head(5)\n"
   ]
  }
 ],
 "metadata": {
  "kernelspec": {
   "display_name": "Python 3",
   "language": "python",
   "name": "python3"
  },
  "language_info": {
   "codemirror_mode": {
    "name": "ipython",
    "version": 3
   },
   "file_extension": ".py",
   "mimetype": "text/x-python",
   "name": "python",
   "nbconvert_exporter": "python",
   "pygments_lexer": "ipython3",
   "version": "3.7.3"
  }
 },
 "nbformat": 4,
 "nbformat_minor": 2
}
