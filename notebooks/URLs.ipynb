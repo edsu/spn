{
 "cells": [
  {
   "cell_type": "markdown",
   "metadata": {},
   "source": [
    "# URLs in Wayback SPN Data\n",
    "\n",
    "In addition to looking at popular host names it also could be useful to identify popular URLs that people (or bots) archived on each day. Were there attempts to archive multiple things on the same day, and what can we possibly infer about the significance of these multiple attempts?\n",
    "\n",
    "The trouble is that when a browser interacts with SavePageNow via the [web form](https://web.archive.org) it receive the HTML for the requested webpage which has been rewritten to include some JavaScript. This JavaScript gets the browser to request any additional resources that are needed for rendering the page (JavaScript, images, CSS, etc) through SavePageNow as well. This means that a more high-fidelity recording is made, since all the resources for a web page are needed to make it human readable.\n",
    "\n",
    "Some of these URLs may be for things like jQuery a Content Deliver Network, or a CSS file. These aren't terribly interesting in terms of this analysis which is attempting to find duplicates in the originally requested page. One thing we can do is limit our analysis to HTML pages, or requests that come back 200 OK with a `Content-Type` HTTP header containing text/html."
   ]
  },
  {
   "cell_type": "code",
   "execution_count": 1,
   "metadata": {},
   "outputs": [],
   "source": [
    "import sys\n",
    "sys.path.append('../utils')\n",
    "\n",
    "from warc_spark import init, extractor\n",
    "\n",
    "sc, sqlc = init()"
   ]
  },
  {
   "cell_type": "markdown",
   "metadata": {},
   "source": [
    "In order to find the URLs it's important that we also retain the User-Agent that executed the request, since this tells us something about the person or agent who initiated SavePageNow. Unfortunately the User-Agent is in the WARC Request record, and the Content-Type of the response is in the WARC Response record. To complicate matters further SavePageNow may record a response using a *revist* record if the response is identical to a previously response. This can happen when a given URL is requested multiple times in specific time window. Luckily these three record types can be merged together using the WARC-Record-ID and the WARC-Concurrent-To WARC headers.\n",
    "\n",
    "The `get_urls` function takes a WARC Record and depending on whether it is a request, response or revisit will return a tuple containing the record id and a dictionary with either a \"ua\" or \"url\" key (depending on the type of record). These dictionaries will be merged in the next step."
   ]
  },
  {
   "cell_type": "code",
   "execution_count": 2,
   "metadata": {},
   "outputs": [],
   "source": [
    "import re\n",
    "from urllib.parse import urlparse\n",
    "\n",
    "@extractor\n",
    "def get_urls(record, warc_file):\n",
    "    \n",
    "    date = record.rec_headers.get_header('WARC-Date').split('T')[0]\n",
    "    \n",
    "    if record.rec_type == 'request':\n",
    "        id = record.rec_headers.get_header('WARC-Concurrent-To')\n",
    "        ua = record.http_headers.get('user-agent')\n",
    "        if id and ua:\n",
    "            yield (id, {\"ua\": ua})\n",
    "            \n",
    "    elif record.rec_type in ['response', 'revisit'] and 'html' in record.http_headers.get('content-type', ''):\n",
    "        id = record.rec_headers.get_header('WARC-Record-ID')\n",
    "        url = record.rec_headers.get_header('WARC-Target-URI')\n",
    "        status_code = record.http_headers.get_statuscode()\n",
    "        \n",
    "        # not all 200 OK text/html responses are for requests for HTML \n",
    "        # for example some sites return 200 OK with some HTML when an image isn't found\n",
    "        # this big of logic will try to identify known image, css and javascript extensions\n",
    "        # to elmiminate them from consideration.\n",
    "        \n",
    "        uri = urlparse(url)        \n",
    "        is_dependency = re.match(r'.*\\.(gif|jpg|jpeg|js|png|css)$', uri.path)\n",
    "        if not is_dependency and status_code == '200' and id and url:\n",
    "            yield (id, {\"url\": url, \"date\": date, 'warc_file': warc_file})"
   ]
  },
  {
   "cell_type": "markdown",
   "metadata": {},
   "source": [
    "Now we can analyze our WARC data by selecting the WARC files we want to process and applying the `get_urls` function to them."
   ]
  },
  {
   "cell_type": "code",
   "execution_count": 3,
   "metadata": {},
   "outputs": [
    {
     "data": {
      "text/plain": [
       "[('<urn:uuid:744cf8bb-4a90-4c78-9a05-34d63c37c1c6>',\n",
       "  {'ua': 'Mozilla/5.0 (Windows NT 6.1; Win64; x64; rv:63.0) Gecko/20100101 Firefox/63.0'}),\n",
       " ('<urn:uuid:94cdf3c7-f437-4bb8-926e-292ced77030f>',\n",
       "  {'ua': 'Mozilla/5.0 (Macintosh; Intel Mac OS X 10_12_6) AppleWebKit/537.36 (KHTML, like Gecko) Chrome/69.0.3497.100 Safari/537.36'}),\n",
       " ('<urn:uuid:c8f70507-f78c-4cf6-a544-69bbb53f8ad2>',\n",
       "  {'ua': 'Mozilla/5.0 (Windows NT 10.0; Win64; x64; rv:61.0) Gecko/20100101 Firefox/61.0'}),\n",
       " ('<urn:uuid:9d11abcf-b15d-47a2-8fcb-05adf194222a>',\n",
       "  {'url': 'https://www.youtube.com/channel/UC6x7GwJxuoABSosgVXDYtTw',\n",
       "   'date': '2018-10-25',\n",
       "   'warc_file': 'warcs/liveweb-20181025224655/live-20181025214719-wwwb-app53.us.archive.org.warc.gz'}),\n",
       " ('<urn:uuid:9d11abcf-b15d-47a2-8fcb-05adf194222a>',\n",
       "  {'ua': 'Wget/1.19.5 (linux-gnu)'})]"
      ]
     },
     "execution_count": 3,
     "metadata": {},
     "output_type": "execute_result"
    }
   ],
   "source": [
    "from glob import glob\n",
    "\n",
    "warc_files = glob('warcs/liveweb-2018*/*.warc.gz')\n",
    "warcs = sc.parallelize(warc_files)\n",
    "results = warcs.mapPartitions(get_urls)\n",
    "results.take(5)"
   ]
  },
  {
   "cell_type": "markdown",
   "metadata": {},
   "source": [
    "Now we can use [combineByKey](http://abshinn.github.io/python/apache-spark/2014/10/11/using-combinebykey-in-apache-spark/) method to merge the dictinaries using the WARC-Record-ID as a key."
   ]
  },
  {
   "cell_type": "code",
   "execution_count": 4,
   "metadata": {},
   "outputs": [
    {
     "data": {
      "text/plain": [
       "[('<urn:uuid:5fc7e893-f91a-4fe7-bf0b-0f35d14c2958>',\n",
       "  {'url': 'https://www.youtube.com/channel/UCXZkaZ4f7d3-YuMyy76yS6A',\n",
       "   'date': '2018-10-25',\n",
       "   'warc_file': 'warcs/liveweb-20181025224655/live-20181025214719-wwwb-app53.us.archive.org.warc.gz',\n",
       "   'ua': 'Wget/1.19.5 (linux-gnu)'}),\n",
       " ('<urn:uuid:24ea637b-05c6-4591-8bfe-4a964650d8fa>',\n",
       "  {'url': 'https://www.youtube.com/channel/UCQIUhhcmXsu6cN6n3y9-Pww/about',\n",
       "   'date': '2018-10-25',\n",
       "   'warc_file': 'warcs/liveweb-20181025224655/live-20181025214719-wwwb-app53.us.archive.org.warc.gz',\n",
       "   'ua': 'Wget/1.19.5 (linux-gnu)'}),\n",
       " ('<urn:uuid:a9d9d853-3ce0-4d6b-88ae-f42d713b60c6>',\n",
       "  {'url': 'https://www.youtube.com/channel/UCQaX6TS_0hKrucF0LcuvWxA/about',\n",
       "   'date': '2018-10-25',\n",
       "   'warc_file': 'warcs/liveweb-20181025224655/live-20181025214719-wwwb-app53.us.archive.org.warc.gz',\n",
       "   'ua': 'Wget/1.19.5 (linux-gnu)'}),\n",
       " ('<urn:uuid:9da6bcdf-122d-45df-8e27-1fad5cb8d98e>',\n",
       "  {'url': 'https://www.youtube.com/channel/UC0jDoh3tVXCaqJ6oTve8ebA/playlists?flow=list&view=1&sort=lad',\n",
       "   'date': '2018-10-25',\n",
       "   'warc_file': 'warcs/liveweb-20181025224655/live-20181025214719-wwwb-app53.us.archive.org.warc.gz',\n",
       "   'ua': 'Wget/1.19.5 (linux-gnu)'}),\n",
       " ('<urn:uuid:3b099dd9-e23c-44cf-a550-97ca305d426a>',\n",
       "  {'url': 'https://www.youtube.com/channel/UCfM85hxqqKrgGHgFDwcwOpg/playlists?flow=list&view=1&sort=lad',\n",
       "   'date': '2018-10-25',\n",
       "   'warc_file': 'warcs/liveweb-20181025224655/live-20181025214719-wwwb-app53.us.archive.org.warc.gz',\n",
       "   'ua': 'Wget/1.19.5 (linux-gnu)'})]"
      ]
     },
     "execution_count": 4,
     "metadata": {},
     "output_type": "execute_result"
    }
   ],
   "source": [
    "def unpack(d1, d2):\n",
    "    d1.update(d2)\n",
    "    return d1\n",
    "\n",
    "# merge the dataset using the record-id\n",
    "dataset = results.combineByKey(\n",
    "    lambda d: d,\n",
    "    unpack,\n",
    "    unpack\n",
    ")\n",
    "\n",
    "# filter out non-html requests (things without a url)\n",
    "dataset = dataset.filter(lambda r: 'url' in r[1] and 'ua' in r[1])\n",
    "\n",
    "dataset.take(5)"
   ]
  },
  {
   "cell_type": "markdown",
   "metadata": {},
   "source": [
    "Finally we're going to convert our dictionaries into tuples so we can easily create a DataFrame out of them for analysis. As we don this we are also going to add two new columns for the User-Agent Family and whether it is a known bot. Some JSON files that were developed as part of the UserAgents notebook can help with this."
   ]
  },
  {
   "cell_type": "code",
   "execution_count": 5,
   "metadata": {},
   "outputs": [],
   "source": [
    "import json\n",
    "ua_families = json.load(open('results/ua-families.json'))\n",
    "top_uas = json.load(open('results/top-uas.json'))\n",
    "\n",
    "def unpack(r):\n",
    "    id = r[0]\n",
    "    url = r[1].get(\"url\", \"\")\n",
    "    ua = r[1].get(\"ua\", \"\")\n",
    "    date = r[1].get(\"date\", \"\")\n",
    "    warc_file = r[1][\"warc_file\"]\n",
    "    ua_f = ua_families.get(ua, \"\")\n",
    "    bot = top_uas.get(ua_f, False)\n",
    "    return (id, warc_file, date, url, ua, ua_f, bot)\n",
    "\n",
    "unpacked_dataset = dataset.map(unpack)\n",
    "\n",
    "# Convert to a Spark DataFrame\n",
    "df = unpacked_dataset.toDF([\"record_id\", \"warc_file\", \"date\", \"url\", \"user_agent\", \"user_agent_family\", \"bot\"])"
   ]
  },
  {
   "cell_type": "code",
   "execution_count": 6,
   "metadata": {},
   "outputs": [
    {
     "data": {
      "text/plain": [
       "[Row(record_id='<urn:uuid:5fc7e893-f91a-4fe7-bf0b-0f35d14c2958>', warc_file='warcs/liveweb-20181025224655/live-20181025214719-wwwb-app53.us.archive.org.warc.gz', date='2018-10-25', url='https://www.youtube.com/channel/UCXZkaZ4f7d3-YuMyy76yS6A', user_agent='Wget/1.19.5 (linux-gnu)', user_agent_family='Wget', bot=True),\n",
       " Row(record_id='<urn:uuid:24ea637b-05c6-4591-8bfe-4a964650d8fa>', warc_file='warcs/liveweb-20181025224655/live-20181025214719-wwwb-app53.us.archive.org.warc.gz', date='2018-10-25', url='https://www.youtube.com/channel/UCQIUhhcmXsu6cN6n3y9-Pww/about', user_agent='Wget/1.19.5 (linux-gnu)', user_agent_family='Wget', bot=True),\n",
       " Row(record_id='<urn:uuid:a9d9d853-3ce0-4d6b-88ae-f42d713b60c6>', warc_file='warcs/liveweb-20181025224655/live-20181025214719-wwwb-app53.us.archive.org.warc.gz', date='2018-10-25', url='https://www.youtube.com/channel/UCQaX6TS_0hKrucF0LcuvWxA/about', user_agent='Wget/1.19.5 (linux-gnu)', user_agent_family='Wget', bot=True),\n",
       " Row(record_id='<urn:uuid:9da6bcdf-122d-45df-8e27-1fad5cb8d98e>', warc_file='warcs/liveweb-20181025224655/live-20181025214719-wwwb-app53.us.archive.org.warc.gz', date='2018-10-25', url='https://www.youtube.com/channel/UC0jDoh3tVXCaqJ6oTve8ebA/playlists?flow=list&view=1&sort=lad', user_agent='Wget/1.19.5 (linux-gnu)', user_agent_family='Wget', bot=True),\n",
       " Row(record_id='<urn:uuid:3b099dd9-e23c-44cf-a550-97ca305d426a>', warc_file='warcs/liveweb-20181025224655/live-20181025214719-wwwb-app53.us.archive.org.warc.gz', date='2018-10-25', url='https://www.youtube.com/channel/UCfM85hxqqKrgGHgFDwcwOpg/playlists?flow=list&view=1&sort=lad', user_agent='Wget/1.19.5 (linux-gnu)', user_agent_family='Wget', bot=True)]"
      ]
     },
     "execution_count": 6,
     "metadata": {},
     "output_type": "execute_result"
    }
   ],
   "source": [
    "df.head(5)"
   ]
  },
  {
   "cell_type": "markdown",
   "metadata": {},
   "source": [
    "This looks good, so let's save off these results before we do any more processing.\n",
    "\n",
    "Spark writes CSVs as separate files with a `part` prefix to a given directory. We will import `move_csv_parts` which is a little function will concatenate the parts at a new location without repeating the column headers. So before we write the results let's create a little function that will consolidate these parts as a distinct csv file."
   ]
  },
  {
   "cell_type": "code",
   "execution_count": 7,
   "metadata": {},
   "outputs": [],
   "source": [
    "from warc_spark import move_csv_parts\n",
    "\n",
    "df.write.csv('urls', header=True)\n",
    "move_csv_parts('urls', 'results/urls.csv')"
   ]
  },
  {
   "cell_type": "markdown",
   "metadata": {},
   "source": [
    "Now let's count the URLs by day and see which ones have appeared more than once. First we'll save these off as CSV."
   ]
  },
  {
   "cell_type": "code",
   "execution_count": 9,
   "metadata": {},
   "outputs": [],
   "source": [
    "from pyspark.sql.functions import countDistinct, desc\n",
    "\n",
    "for year in range(2013, 2019):\n",
    "    date = \"{}-10-25\".format(year)\n",
    "    urls = df.filter(df.date == date)\n",
    "    \n",
    "    # useful in dev where note all data is being analyzed\n",
    "    if urls.count() == 0:\n",
    "        continue\n",
    "        \n",
    "    url_counts = urls.groupBy(\"url\").count().sort(desc('count'))\n",
    "    url_counts = url_counts.filter(url_counts[\"count\"] > 1)\n",
    "    url_counts = url_counts.coalesce(1)\n",
    "    url_counts.write.csv('url-counts/{}'.format(date), header=True)\n",
    "    move_csv_parts('url-counts/{}'.format(date), 'results/{}/url-counts.csv'.format(date))"
   ]
  },
  {
   "cell_type": "code",
   "execution_count": null,
   "metadata": {},
   "outputs": [],
   "source": []
  }
 ],
 "metadata": {
  "kernelspec": {
   "display_name": "Python 3",
   "language": "python",
   "name": "python3"
  },
  "language_info": {
   "codemirror_mode": {
    "name": "ipython",
    "version": 3
   },
   "file_extension": ".py",
   "mimetype": "text/x-python",
   "name": "python",
   "nbconvert_exporter": "python",
   "pygments_lexer": "ipython3",
   "version": "3.7.3"
  }
 },
 "nbformat": 4,
 "nbformat_minor": 2
}
