{
 "cells": [
  {
   "cell_type": "markdown",
   "metadata": {},
   "source": [
    "# URLs in Wayback SPN Data\n",
    "\n",
    "In addition to looking at popular host names it also could be useful to identify popular URLs that people (or bots) archived on each day. Were there attempts to archive multiple things on the same day, and what can we possibly infer about the significance of these multiple attempts?\n",
    "\n",
    "The trouble is that when a browser interacts with SavePageNow via the [web form](https://web.archive.org) it receive the HTML for the requested webpage which has been rewritten to include some JavaScript. This JavaScript gets the browser to request any additional resources that are needed for rendering the page (JavaScript, images, CSS, etc) through SavePageNow as well. This means that a more high-fidelity recording is made, since all the resources for a web page are needed to make it human readable.\n",
    "\n",
    "Some of these URLs may be for things like jQuery a Content Deliver Network, or a CSS file. These aren't terribly interesting in terms of this analysis which is attempting to find duplicates in the originally requested page. One thing we can do is limit our analysis to HTML pages, or requests that come back 200 OK with a `Content-Type` HTTP header containing text/html."
   ]
  },
  {
   "cell_type": "code",
   "execution_count": 1,
   "metadata": {},
   "outputs": [],
   "source": [
    "from warc_spark import init, extractor\n",
    "\n",
    "sc, sqlc = init()"
   ]
  },
  {
   "cell_type": "markdown",
   "metadata": {},
   "source": [
    "In order to find the URLs it's important that we also retain the User-Agent that executed the request, since this tells us something about the person who initiated SavePageNow. Unfortunately the User-Agent is in the WARC Resquest record, and the Content-Type of the response is in the WARC Response record. Luckily these can be connected together using the WARC-Record-ID and the WARC-Concurrent-To WARC headers.\n",
    "\n",
    "The `get_urls` function takes a WARC Record and depending on whether it is a request or a response will return a tuple containing the record id and either a User-Agent or a URL for a text/html response. For example:\n",
    "\n",
    "```\n",
    "(urn:uuid:551471a6-631b-4ef7-99a5-f1344348ab64>', 'Mozilla/5.0 (compatible; archive.org_bot; Wayback Machine Live Record; +http://archive.org/details/archive.org_bot)')\n",
    "(urn:uuid:551471a6-631b-4ef7-99a5-f1344348ab64>', 'https://yahoo.com')\n",
    " ```\n"
   ]
  },
  {
   "cell_type": "code",
   "execution_count": 39,
   "metadata": {},
   "outputs": [],
   "source": [
    "import re\n",
    "from urllib.parse import urlparse\n",
    "\n",
    "@extractor\n",
    "def get_urls(record):\n",
    "    \n",
    "    if record.rec_type == 'request':\n",
    "        id = record.rec_headers.get_header('WARC-Concurrent-To')\n",
    "        ua = record.http_headers.get('user-agent')\n",
    "        if id and ua:\n",
    "            yield (id, {\"ua\": ua})\n",
    "            \n",
    "    elif record.rec_type in ['response', 'revisit'] and 'html' in record.http_headers.get('content-type', ''):\n",
    "        id = record.rec_headers.get_header('WARC-Record-ID')\n",
    "        url = record.rec_headers.get_header('WARC-Target-URI')\n",
    "        status_code = record.http_headers.get_statuscode()\n",
    "        \n",
    "        # not all 200 OK text/html responses are for requests for HTML \n",
    "        # for example some sites return 200 OK with some HTML when an image isn't found\n",
    "        # this big of logic will try to identify known image, css and javascript extensions\n",
    "        # to elmiminate them from consideration.\n",
    "        \n",
    "        uri = urlparse(url)        \n",
    "        is_dependency = re.match(r'.*\\.(gif|jpg|jpeg|js|png|css)$', uri.path)\n",
    "        if not is_dependency and status_code == '200' and id and url:\n",
    "            yield (id, {\"url\": url})"
   ]
  },
  {
   "cell_type": "markdown",
   "metadata": {},
   "source": [
    "Now we can process our data by selecting the WARC files we want to process and applying the `get_urls` function to them. We then group the results by the WARC-Record-ID to yield something like:\n",
    "\n",
    "    ('<urn:uuid:551471a6-631b-4ef7-99a5-f1344348ab64>', 'Mozilla/5.0 (compatible; archive.org_bot; Wayback Machine Live Record; +http://archive.org/details/archive.org_bot)')\n",
    "    \n",
    "    ('<urn:uuid:551471a6-631b-4ef7-99a5-f1344348ab64>', 'https://yahoo.com')"
   ]
  },
  {
   "cell_type": "code",
   "execution_count": 40,
   "metadata": {},
   "outputs": [
    {
     "data": {
      "text/plain": [
       "[('<urn:uuid:bcf103dc-ac2f-40ea-928b-9c3b5fec297f>',\n",
       "  {'url': 'https://www.youtube.com/channel/UC6JnEv4XTE7kAG3B6PCXvnw/about'})]"
      ]
     },
     "execution_count": 40,
     "metadata": {},
     "output_type": "execute_result"
    }
   ],
   "source": [
    "from glob import glob\n",
    "\n",
    "warc_files = glob('warcs/liveweb-2018*/*.warc.gz')\n",
    "warcs = sc.parallelize(warc_files)\n",
    "results = warcs.mapPartitions(get_urls)\n",
    "results.take(1)"
   ]
  },
  {
   "cell_type": "markdown",
   "metadata": {},
   "source": [
    "Now we can use `groupByKey` to merge the User-Agent and URL tuples using the WARC-Record-ID as a key. We are also going to add two new columns for the User-Agent Family and whether it is a known bot. Some JSON files that were developed as part of the UserAgents notebook can help with this. The resulting rows will look someting like this:\n",
    "\n",
    "    (\n",
    "        'urn:uuid:551471a6-631b-4ef7-99a5-f1344348ab64>',\n",
    "        'https://yahoo.com',\n",
    "        'Mozilla/5.0 (compatible; archive.org_bot; Wayback Machine Live Record; +http://archive.org/details/archive.org_bot)',\n",
    "      \n",
    "        'https://yahoo.com',\n",
    "        'archive.org_bot',\n",
    "        True\n",
    "    )"
   ]
  },
  {
   "cell_type": "code",
   "execution_count": 70,
   "metadata": {},
   "outputs": [
    {
     "data": {
      "text/plain": [
       "[('<urn:uuid:346ee541-a0a6-484a-b117-54fe87710d57>',\n",
       "  {'url': 'https://www.youtube.com/channel/UC-J-KZfRV8c13fOCkhXdLiQ/about',\n",
       "   'ua': 'Wget/1.19.5 (linux-gnu)'}),\n",
       " ('<urn:uuid:caf7a37b-8e95-45a6-bab7-3d2b6dbd8923>',\n",
       "  {'ua': 'Mozilla/5.0 (Windows NT 10.0; WOW64) AppleWebKit/537.36 (KHTML, like Gecko) Chrome/69.0.3497.81 Safari/537.36'}),\n",
       " ('<urn:uuid:c12629e9-ee0d-4ea5-92de-db439eeb5051>',\n",
       "  {'ua': 'Mozilla/5.0 (Windows NT 10.0; Win64; x64) AppleWebKit/537.36 (KHTML, like Gecko) Chrome/69.0.3497.100 Safari/537.36'}),\n",
       " ('<urn:uuid:1aa1c607-5b43-4d2b-9804-c801f7287f15>',\n",
       "  {'ua': 'mediawords bot (http://cyber.law.harvard.edu)'}),\n",
       " ('<urn:uuid:6f43b0ec-bd4e-44ab-94ec-ba8dafbfa440>',\n",
       "  {'ua': 'Mozilla/5.0 (Windows NT 6.1; WOW64; Trident/7.0; rv:11.0) like Gecko'}),\n",
       " ('<urn:uuid:68c4923d-ef9f-448d-8882-6f523c113d3f>',\n",
       "  {'ua': 'Mozilla/5.0 (compatible; MSIE 10.0; Windows Phone 8.0; Trident/6.0; IEMobile/10.0; ARM; Touch; Microsoft; Lumia 535 Dual SIM)'}),\n",
       " ('<urn:uuid:d887bed1-2ef8-4f8f-9971-8fe00fba66e5>',\n",
       "  {'ua': 'Mozilla/5.0 (Windows NT 6.1; Win64; x64) AppleWebKit/537.36 (KHTML, like Gecko) Chrome/69.0.3497.100 Safari/537.36'}),\n",
       " ('<urn:uuid:c34767af-cfff-4876-89d7-fc99e21fd6c4>',\n",
       "  {'url': 'http://km.aifb.kit.edu/projects/numbers/web/n2322734',\n",
       "   'ua': 'Wget/1.19.4 (darwin17.3.0)'}),\n",
       " ('<urn:uuid:8e4142fe-32fc-47c5-9b47-6423e785bc79>',\n",
       "  {'ua': 'Mozilla/5.0 (iPhone; CPU iPhone OS 11_4_1 like Mac OS X) AppleWebKit/605.1.15 (KHTML, like Gecko) Mobile/15G77'}),\n",
       " ('<urn:uuid:90acf505-9588-4be7-93bd-1194215c8ff0>',\n",
       "  {'url': 'https://www.youtube.com/channel/UCANLZYMidaCbLQFWXBC95Jg/videos?flow=list&sort=p&view=0',\n",
       "   'ua': 'Wget/1.19.5 (linux-gnu)'})]"
      ]
     },
     "execution_count": 70,
     "metadata": {},
     "output_type": "execute_result"
    }
   ],
   "source": [
    "def unpack(d1, d2):\n",
    "    d1.update(d2)\n",
    "    return d1\n",
    "\n",
    "# merge the dataset using the record-id\n",
    "dataset = results.combineByKey(\n",
    "    lambda d: d,\n",
    "    unpack,\n",
    "    unpack\n",
    ")\n",
    "\n",
    "dataset.take(10)"
   ]
  },
  {
   "cell_type": "code",
   "execution_count": 71,
   "metadata": {},
   "outputs": [],
   "source": [
    "\n",
    "\n",
    "# flatten the second cell into two different columns\n",
    "# dataset = dataset.mapValues(list)\n",
    "\n",
    "# make sure each row has a user-agent and a url (not guaranteed)\n",
    "#dataset = dataset.filter(lambda r: len(r[1]) == 2)\n",
    "\n",
    "# get our user-agent mapping dictionaries handy\n",
    "import json\n",
    "ua_families = json.load(open('../analysis/results/ua-families.json'))\n",
    "top_uas = json.load(open('../analysis/results/top-uas.json'))\n",
    "\n",
    "def unpack(r):\n",
    "    id = r[0]\n",
    "    url = r[1].get(\"url\", \"\")\n",
    "    ua = r[1].get(\"ua\", \"\")\n",
    "    ua_f = ua_families.get(ua, '')\n",
    "    bot = top_uas.get(ua_f, False)\n",
    "    return (id, url, ua, ua_f, bot)\n",
    "\n",
    "dataset = dataset.map(unpack)\n",
    "\n",
    "# Convert to a Spark DataFrame\n",
    "df = dataset.toDF([\"record_id\", \"url\", \"user_agent\", \"user_agent_family\", \"bot\"])"
   ]
  },
  {
   "cell_type": "code",
   "execution_count": 72,
   "metadata": {},
   "outputs": [
    {
     "data": {
      "text/plain": [
       "[Row(record_id='<urn:uuid:346ee541-a0a6-484a-b117-54fe87710d57>', url='https://www.youtube.com/channel/UC-J-KZfRV8c13fOCkhXdLiQ/about', user_agent='Wget/1.19.5 (linux-gnu)', user_agent_family='Wget', bot=True),\n",
       " Row(record_id='<urn:uuid:caf7a37b-8e95-45a6-bab7-3d2b6dbd8923>', url='', user_agent='Mozilla/5.0 (Windows NT 10.0; WOW64) AppleWebKit/537.36 (KHTML, like Gecko) Chrome/69.0.3497.81 Safari/537.36', user_agent_family='Chrome', bot=False),\n",
       " Row(record_id='<urn:uuid:c12629e9-ee0d-4ea5-92de-db439eeb5051>', url='', user_agent='Mozilla/5.0 (Windows NT 10.0; Win64; x64) AppleWebKit/537.36 (KHTML, like Gecko) Chrome/69.0.3497.100 Safari/537.36', user_agent_family='Chrome', bot=False),\n",
       " Row(record_id='<urn:uuid:1aa1c607-5b43-4d2b-9804-c801f7287f15>', url='', user_agent='mediawords bot (http://cyber.law.harvard.edu)', user_agent_family='mediawords bot', bot=False),\n",
       " Row(record_id='<urn:uuid:6f43b0ec-bd4e-44ab-94ec-ba8dafbfa440>', url='', user_agent='Mozilla/5.0 (Windows NT 6.1; WOW64; Trident/7.0; rv:11.0) like Gecko', user_agent_family='IE', bot=False),\n",
       " Row(record_id='<urn:uuid:68c4923d-ef9f-448d-8882-6f523c113d3f>', url='', user_agent='Mozilla/5.0 (compatible; MSIE 10.0; Windows Phone 8.0; Trident/6.0; IEMobile/10.0; ARM; Touch; Microsoft; Lumia 535 Dual SIM)', user_agent_family='IE Mobile', bot=False),\n",
       " Row(record_id='<urn:uuid:d887bed1-2ef8-4f8f-9971-8fe00fba66e5>', url='', user_agent='Mozilla/5.0 (Windows NT 6.1; Win64; x64) AppleWebKit/537.36 (KHTML, like Gecko) Chrome/69.0.3497.100 Safari/537.36', user_agent_family='Chrome', bot=False),\n",
       " Row(record_id='<urn:uuid:c34767af-cfff-4876-89d7-fc99e21fd6c4>', url='http://km.aifb.kit.edu/projects/numbers/web/n2322734', user_agent='Wget/1.19.4 (darwin17.3.0)', user_agent_family='Wget', bot=True),\n",
       " Row(record_id='<urn:uuid:8e4142fe-32fc-47c5-9b47-6423e785bc79>', url='', user_agent='Mozilla/5.0 (iPhone; CPU iPhone OS 11_4_1 like Mac OS X) AppleWebKit/605.1.15 (KHTML, like Gecko) Mobile/15G77', user_agent_family='Mobile Safari UI/WKWebView', bot=False),\n",
       " Row(record_id='<urn:uuid:90acf505-9588-4be7-93bd-1194215c8ff0>', url='https://www.youtube.com/channel/UCANLZYMidaCbLQFWXBC95Jg/videos?flow=list&sort=p&view=0', user_agent='Wget/1.19.5 (linux-gnu)', user_agent_family='Wget', bot=True)]"
      ]
     },
     "execution_count": 72,
     "metadata": {},
     "output_type": "execute_result"
    }
   ],
   "source": [
    "df.head(10)"
   ]
  },
  {
   "cell_type": "markdown",
   "metadata": {},
   "source": [
    "Ok let's save off these results before we do any more processing."
   ]
  },
  {
   "cell_type": "code",
   "execution_count": 73,
   "metadata": {},
   "outputs": [],
   "source": [
    "df.write.csv('../analysis/results/urls')"
   ]
  },
  {
   "cell_type": "markdown",
   "metadata": {},
   "source": [
    "Now let's count the URLs and see which ones have appeared more than once."
   ]
  },
  {
   "cell_type": "code",
   "execution_count": 74,
   "metadata": {},
   "outputs": [
    {
     "data": {
      "text/plain": [
       "[Row(url='', count=33070),\n",
       " Row(url='http://www.witchgif.com/', count=10),\n",
       " Row(url='https://platform.twitter.com/widgets/widget_iframe.7922da55a4ca5d4a2b1d31eedc0501e8.html?origin=https%3A%2F%2Fweb.archive.org&settingsEndpoint=%2Fsave%2Fhttps%3A%2F%2Fsyndication.twitter.com%2Fsettings', count=10),\n",
       " Row(url='https://platform.twitter.com/widgets/tweet_button.7922da55a4ca5d4a2b1d31eedc0501e8.en.html', count=6),\n",
       " Row(url='http://www.chungling.org/event/', count=6),\n",
       " Row(url='https://platform.twitter.com/widgets/widget_iframe.7922da55a4ca5d4a2b1d31eedc0501e8.html?origin=http%3A%2F%2Fweb.archive.org&settingsEndpoint=%2Fsave%2Fhttps%3A%2F%2Fsyndication.twitter.com%2Fsettings', count=6),\n",
       " Row(url='http://www.clphs.edu.my/', count=5),\n",
       " Row(url='https://www.instagram.com/2spoopy4jews.jacket.chan/', count=5),\n",
       " Row(url='https://www.instagram.com/jacket.chan/', count=4),\n",
       " Row(url='https://www.chungling.org/', count=4),\n",
       " Row(url='https://blog.cryptographyengineering.com/2013/05/14/a-few-thoughts-on-cellular-encryption/', count=4),\n",
       " Row(url='https://widgets.wp.com/likes/master.html?ver=20180319', count=3),\n",
       " Row(url='http://css.tumblenet.ga/tables/', count=3),\n",
       " Row(url='https://www.rbc.ru/', count=3),\n",
       " Row(url='http://www.tumblenet.ga/services/', count=3),\n",
       " Row(url='https://twitter.com/robertbland14/status/942159533291446272', count=3),\n",
       " Row(url='https://www.the-tls.co.uk/articles/public/peer-review-industry-implausible-outrageous/', count=3),\n",
       " Row(url='http://css.tumblenet.ga/docs/Grid/', count=3),\n",
       " Row(url='http://tumblegamer.blog.tumblenet.ga/2018/05/test-video-1.html', count=3),\n",
       " Row(url='https://www.reddit.com/r/ChapoTrapHouse/comments/9remhx/where_is_michael_avenatti_on_your_2020_candidate/', count=3),\n",
       " Row(url='http://tumblegamer.blog.tumblenet.ga/2015/08/yesfinaly-done-it.html', count=3),\n",
       " Row(url='https://www.youtube.com/feed/trending?bp=4gIuCggvbS8wNzM1bBIiUExVMTJ1SVR4QkVQSFVTNFlORGZkYmNFVHVCY3FnSHQ2SQ%3D%3D&gl=TW', count=2),\n",
       " Row(url='http://www.nbc12.com/2018/10/25/reports-megyn-kelly-out-nbc/', count=2),\n",
       " Row(url='https://www.youtube.com/feed/trending?bp=4gIuCggvbS8wNWpoZxIiUEwzWlE1Q3BOdWxRa0hlcEk2bzlPNG53UEo0UE9Zbm9MZQ%3D%3D&gl=MY', count=2),\n",
       " Row(url='https://www.youtube.com/feed/trending?bp=4gIvCgkvbS8wYnp2bTISIlBMaUN2Vkp6QnVwS21GTDIzckxfZUY1M3BUTDF3Tm1hb1I%3D&gl=BG', count=2),\n",
       " Row(url='https://www.youtube.com/feed/trending?bp=4gIvCgkvbS8wYnp2bTISIlBMaUN2Vkp6QnVwS21GTDIzckxfZUY1M3BUTDF3Tm1hb1I%3D&gl=GR', count=2),\n",
       " Row(url='https://www.youtube.com/feed/trending?bp=4gIvCgkvbS8wYnp2bTISIlBMaUN2Vkp6QnVwS21GTDIzckxfZUY1M3BUTDF3Tm1hb1I%3D&gl=JM', count=2),\n",
       " Row(url='http://tumblegamer.blog.tumblenet.ga/2015/06/mineplex-survival-games.html', count=2),\n",
       " Row(url='http://www.dsns.gov.ua/ua/Nadzvichayni-podiyi/10254.html?PRINT', count=2),\n",
       " Row(url='http://tumble1999.wixsite.com/tumblegamer/blog', count=2),\n",
       " Row(url='http://archive.tumblenet.ga/search/', count=2),\n",
       " Row(url='http://css.tumblenet.ga/align/', count=2),\n",
       " Row(url='https://www.youtube.com/feed/trending?bp=4gIuCggvbS8wNHJsZhIiUExGZ3F1TG5MNTlhbkdHdzVtTFhLUGtQMW5TeU1WV0swMQ%3D%3D&gl=AU', count=2),\n",
       " Row(url='http://www.asiafun.ir/pages/2', count=2),\n",
       " Row(url='http://doctorbatmanwho.blog.tumblenet.ga/2015/09/update.html', count=2),\n",
       " Row(url='https://www.youtube.com/feed/trending?bp=4gIvCgkvbS8wYnp2bTISIlBMaUN2Vkp6QnVwS21GTDIzckxfZUY1M3BUTDF3Tm1hb1I%3D&gl=LY', count=2),\n",
       " Row(url='https://www.instagram.com/jacketless.chan/', count=2),\n",
       " Row(url='http://nando.seesaa.net/', count=2),\n",
       " Row(url='https://www.bbc.co.uk/news/technology-45823180', count=2),\n",
       " Row(url='https://www.youtube.com/feed/trending?gl=JP', count=2),\n",
       " Row(url='https://www.bronnen.net/int/res/2595286.html', count=2),\n",
       " Row(url='http://archive.tumblenet.ga/search/Dec_2015/about/', count=2),\n",
       " Row(url='http://doctorbatmanwho.blog.tumblenet.ga/2016/12/if-pirates-of-caribbean-were-chicken.html', count=2),\n",
       " Row(url='http://doctorbatmanwho.blog.tumblenet.ga/2017/01/if-pirates-of-caribbean-were-chicken.html', count=2),\n",
       " Row(url='http://www.tumblenet.ga/device-test/', count=2),\n",
       " Row(url='https://www.facebook.com/plugins/like.php?href=http%3A%2F%2Fbatuhanicoz.com%2Fyeni-konsept-2%2F&layout=default&show_faces=false&width=400&action=like&colorscheme=light', count=2),\n",
       " Row(url='https://steamcommunity.com/id/jacketchan/', count=2),\n",
       " Row(url='http://burstsms.com/index.php?page=get-pricing&currency=EUR', count=2),\n",
       " Row(url='https://www.facebook.com/plugins/like.php?href=http%3A%2F%2Fbatuhanicoz.com%2Ftoshiba-mi-bir-daha-asla%2F&layout=default&show_faces=false&width=400&action=like&colorscheme=light', count=2),\n",
       " Row(url='http://css.tumblenet.ga/colors/set-background/', count=2)]"
      ]
     },
     "execution_count": 74,
     "metadata": {},
     "output_type": "execute_result"
    }
   ],
   "source": [
    "from pyspark.sql.functions import countDistinct, desc\n",
    "\n",
    "url_counts = df.groupBy(\"url\").count().sort(desc('count'))\n",
    "url_counts.write.csv('../analysis/results/url-counts/')\n",
    "url_counts.head(50)"
   ]
  },
  {
   "cell_type": "code",
   "execution_count": null,
   "metadata": {},
   "outputs": [],
   "source": []
  }
 ],
 "metadata": {
  "kernelspec": {
   "display_name": "Python 3",
   "language": "python",
   "name": "python3"
  },
  "language_info": {
   "codemirror_mode": {
    "name": "ipython",
    "version": 3
   },
   "file_extension": ".py",
   "mimetype": "text/x-python",
   "name": "python",
   "nbconvert_exporter": "python",
   "pygments_lexer": "ipython3",
   "version": "3.7.3"
  }
 },
 "nbformat": 4,
 "nbformat_minor": 2
}
