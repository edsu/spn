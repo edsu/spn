{
 "cells": [
  {
   "cell_type": "markdown",
   "metadata": {},
   "source": [
    "# URLs in Wayback SPN Data\n",
    "\n",
    "In addition to looking at popular host names it also could be useful to identify popular URLs that people (or bots) archived on each day. Were there attempts to archive multiple things on the same day, and what can we possibly infer about the significance of these multiple attempts?\n",
    "\n",
    "The trouble is that when a browser interacts with SavePageNow via the [web form](https://web.archive.org) it receive the HTML for the requested webpage which has been rewritten to include some JavaScript. This JavaScript gets the browser to request any additional resources that are needed for rendering the page (JavaScript, images, CSS, etc) through SavePageNow as well. This means that a more high-fidelity recording is made, since all the resources for a web page are needed to make it human readable.\n",
    "\n",
    "Some of these URLs may be for things like jQuery a Content Deliver Network, or a CSS file. These aren't terribly interesting in terms of this analysis which is attempting to find duplicates in the originally requested page. One thing we can do is limit our analysis to HTML pages, or requests that come back 200 OK with a `Content-Type` HTTP header containing text/html."
   ]
  },
  {
   "cell_type": "code",
   "execution_count": 5,
   "metadata": {},
   "outputs": [],
   "source": [
    "import sys\n",
    "sys.path.append('../utils')\n",
    "\n",
    "from warc_spark import init, extractor\n",
    "\n",
    "sc, sqlc = init()"
   ]
  },
  {
   "cell_type": "markdown",
   "metadata": {},
   "source": [
    "In order to find the URLs it's important that we also retain the User-Agent that executed the request, since this tells us something about the person or agent who initiated SavePageNow. Unfortunately the User-Agent is in the WARC Request record, and the Content-Type of the response is in the WARC Response record. To complicate matters further SavePageNow may record a response using a *revist* record if the response is identical to a previously response. This can happen when a given URL is requested multiple times in specific time window. Luckily these three record types can be merged together using the WARC-Record-ID and the WARC-Concurrent-To WARC headers.\n",
    "\n",
    "The `get_urls` function takes a WARC Record and depending on whether it is a request, response or revisit will return a tuple containing the record id and a dictionary with either a \"ua\" or \"url\" key (depending on the type of record). These dictionaries will be merged in the next step."
   ]
  },
  {
   "cell_type": "code",
   "execution_count": 8,
   "metadata": {},
   "outputs": [],
   "source": [
    "import re\n",
    "from urllib.parse import urlparse\n",
    "\n",
    "@extractor\n",
    "def get_urls(record, warc_file):\n",
    "    \n",
    "    date = record.rec_headers.get_header('WARC-Date').split('T')[0]\n",
    "    \n",
    "    if record.rec_type == 'request':\n",
    "        id = record.rec_headers.get_header('WARC-Concurrent-To')\n",
    "        ua = record.http_headers.get('user-agent')\n",
    "        if id and ua:\n",
    "            yield (id, {\"ua\": ua})\n",
    "            \n",
    "    elif record.rec_type in ['response', 'revisit'] and 'html' in record.http_headers.get('content-type', ''):\n",
    "        id = record.rec_headers.get_header('WARC-Record-ID')\n",
    "        url = record.rec_headers.get_header('WARC-Target-URI')\n",
    "        status_code = record.http_headers.get_statuscode()\n",
    "        \n",
    "        # not all 200 OK text/html responses are for requests for HTML \n",
    "        # for example some sites return 200 OK with some HTML when an image isn't found\n",
    "        # this big of logic will try to identify known image, css and javascript extensions\n",
    "        # to elmiminate them from consideration.\n",
    "        \n",
    "        uri = urlparse(url)        \n",
    "        is_dependency = re.match(r'.*\\.(gif|jpg|jpeg|js|png|css)$', uri.path)\n",
    "        if not is_dependency and status_code == '200' and id and url:\n",
    "            yield (id, {\"url\": url, \"date\": date, 'warc_file': warc_file})"
   ]
  },
  {
   "cell_type": "markdown",
   "metadata": {},
   "source": [
    "Now we can analyze our WARC data by selecting the WARC files we want to process and applying the `get_urls` function to them."
   ]
  },
  {
   "cell_type": "code",
   "execution_count": 9,
   "metadata": {},
   "outputs": [
    {
     "data": {
      "text/plain": [
       "[('<urn:uuid:0b14c726-408e-40ca-82a1-c9455c71c59f>',\n",
       "  {'date': '2016-10-24',\n",
       "   'url': 'https://www.youtube.com/watch?v=bl_uPk4JDt0&list=PLmayP0qOPHaKa5mj0bmDvk2pghmEkVitr&index=6',\n",
       "   'warc_file': 'warcs/liveweb-20161025000152/live-20161024234426-wwwb-app13.us.archive.org.warc.gz'}),\n",
       " ('<urn:uuid:0b14c726-408e-40ca-82a1-c9455c71c59f>',\n",
       "  {'ua': 'Mozilla/5.0 (Windows NT 6.1; WOW64) AppleWebKit/537.36 (KHTML, like Gecko) Chrome/54.0.2840.71 Safari/537.36'}),\n",
       " ('<urn:uuid:0b90c117-06e5-4caf-92be-cc80d6175687>',\n",
       "  {'ua': 'Mozilla/5.0 (Windows NT 6.1; WOW64; Trident/7.0; rv:11.0) like Gecko'}),\n",
       " ('<urn:uuid:92146643-2a7f-40d2-82ea-21601b7554f0>',\n",
       "  {'ua': 'Mozilla/5.0 (Windows NT 6.1; WOW64) AppleWebKit/537.36 (KHTML, like Gecko) Chrome/54.0.2840.71 Safari/537.36'}),\n",
       " ('<urn:uuid:7571c9c2-fec3-4562-8b23-137db54e383a>',\n",
       "  {'ua': 'Mozilla/4.0 (compatible; MSIE 8.0; Windows NT 6.1; Trident/4.0; SLCC2; .NET CLR 2.0.50727; .NET CLR 3.5.30729; .NET CLR 3.0.30729; Media Center PC 6.0; .NET4.0C; McAfee; .NET4.0E)'})]"
      ]
     },
     "execution_count": 9,
     "metadata": {},
     "output_type": "execute_result"
    }
   ],
   "source": [
    "from glob import glob\n",
    "\n",
    "warc_files = glob('warcs/*/*.warc.gz')\n",
    "warcs = sc.parallelize(warc_files)\n",
    "results = warcs.mapPartitions(get_urls)\n",
    "results.take(5)"
   ]
  },
  {
   "cell_type": "markdown",
   "metadata": {},
   "source": [
    "Now we can use [combineByKey](http://abshinn.github.io/python/apache-spark/2014/10/11/using-combinebykey-in-apache-spark/) method to merge the dictinaries using the WARC-Record-ID as a key."
   ]
  },
  {
   "cell_type": "code",
   "execution_count": null,
   "metadata": {},
   "outputs": [],
   "source": [
    "def unpack(d1, d2):\n",
    "    d1.update(d2)\n",
    "    return d1\n",
    "\n",
    "# merge the dataset using the record-id\n",
    "dataset = results.combineByKey(\n",
    "    lambda d: d,\n",
    "    unpack,\n",
    "    unpack\n",
    ")\n",
    "\n",
    "# filter out non-html requests (things without a url)\n",
    "dataset = dataset.filter(lambda r: 'url' in r[1] and 'ua' in r[1])\n",
    "\n",
    "dataset.take(5)"
   ]
  },
  {
   "cell_type": "markdown",
   "metadata": {},
   "source": [
    "Finally we're going to convert our dictionaries into tuples so we can easily create a DataFrame out of them for analysis. As we don this we are also going to add two new columns for the User-Agent Family and whether it is a known bot. Some JSON files that were developed as part of the UserAgents notebook can help with this."
   ]
  },
  {
   "cell_type": "code",
   "execution_count": 5,
   "metadata": {},
   "outputs": [],
   "source": [
    "import json\n",
    "ua_families = json.load(open('results/ua-families.json'))\n",
    "top_uas = json.load(open('results/top-uas.json'))\n",
    "\n",
    "def unpack(r):\n",
    "    id = r[0]\n",
    "    url = r[1].get(\"url\", \"\")\n",
    "    ua = r[1].get(\"ua\", \"\")\n",
    "    date = r[1].get(\"date\", \"\")\n",
    "    warc_file = r[1][\"warc_file\"]\n",
    "    ua_f = ua_families.get(ua, \"\")\n",
    "    bot = top_uas.get(ua_f, False)\n",
    "    return (id, warc_file, date, url, ua, ua_f, bot)\n",
    "\n",
    "unpacked_dataset = dataset.map(unpack)\n",
    "\n",
    "# Convert to a Spark DataFrame\n",
    "df = unpacked_dataset.toDF([\"record_id\", \"warc_file\", \"date\", \"url\", \"user_agent\", \"user_agent_family\", \"bot\"])"
   ]
  },
  {
   "cell_type": "code",
   "execution_count": 6,
   "metadata": {},
   "outputs": [
    {
     "data": {
      "text/plain": [
       "[Row(record_id='<urn:uuid:5fc7e893-f91a-4fe7-bf0b-0f35d14c2958>', warc_file='warcs/liveweb-20181025224655/live-20181025214719-wwwb-app53.us.archive.org.warc.gz', date='2018-10-25', url='https://www.youtube.com/channel/UCXZkaZ4f7d3-YuMyy76yS6A', user_agent='Wget/1.19.5 (linux-gnu)', user_agent_family='Wget', bot=True),\n",
       " Row(record_id='<urn:uuid:24ea637b-05c6-4591-8bfe-4a964650d8fa>', warc_file='warcs/liveweb-20181025224655/live-20181025214719-wwwb-app53.us.archive.org.warc.gz', date='2018-10-25', url='https://www.youtube.com/channel/UCQIUhhcmXsu6cN6n3y9-Pww/about', user_agent='Wget/1.19.5 (linux-gnu)', user_agent_family='Wget', bot=True),\n",
       " Row(record_id='<urn:uuid:a9d9d853-3ce0-4d6b-88ae-f42d713b60c6>', warc_file='warcs/liveweb-20181025224655/live-20181025214719-wwwb-app53.us.archive.org.warc.gz', date='2018-10-25', url='https://www.youtube.com/channel/UCQaX6TS_0hKrucF0LcuvWxA/about', user_agent='Wget/1.19.5 (linux-gnu)', user_agent_family='Wget', bot=True),\n",
       " Row(record_id='<urn:uuid:9da6bcdf-122d-45df-8e27-1fad5cb8d98e>', warc_file='warcs/liveweb-20181025224655/live-20181025214719-wwwb-app53.us.archive.org.warc.gz', date='2018-10-25', url='https://www.youtube.com/channel/UC0jDoh3tVXCaqJ6oTve8ebA/playlists?flow=list&view=1&sort=lad', user_agent='Wget/1.19.5 (linux-gnu)', user_agent_family='Wget', bot=True),\n",
       " Row(record_id='<urn:uuid:3b099dd9-e23c-44cf-a550-97ca305d426a>', warc_file='warcs/liveweb-20181025224655/live-20181025214719-wwwb-app53.us.archive.org.warc.gz', date='2018-10-25', url='https://www.youtube.com/channel/UCfM85hxqqKrgGHgFDwcwOpg/playlists?flow=list&view=1&sort=lad', user_agent='Wget/1.19.5 (linux-gnu)', user_agent_family='Wget', bot=True)]"
      ]
     },
     "execution_count": 6,
     "metadata": {},
     "output_type": "execute_result"
    }
   ],
   "source": [
    "df.head(5)"
   ]
  },
  {
   "cell_type": "markdown",
   "metadata": {},
   "source": [
    "This looks good, so let's save off these results before we do any more processing.\n",
    "\n",
    "Spark writes CSVs as separate files with a `part` prefix to a given directory. We will import `move_csv_parts` which is a little function will concatenate the parts at a new location without repeating the column headers. So before we write the results let's create a little function that will consolidate these parts as a distinct csv file."
   ]
  },
  {
   "cell_type": "code",
   "execution_count": 4,
   "metadata": {},
   "outputs": [
    {
     "ename": "ModuleNotFoundError",
     "evalue": "No module named 'warc_spark'",
     "output_type": "error",
     "traceback": [
      "\u001b[0;31m---------------------------------------------------------------------------\u001b[0m",
      "\u001b[0;31mModuleNotFoundError\u001b[0m                       Traceback (most recent call last)",
      "\u001b[0;32m<ipython-input-4-fa32c3549424>\u001b[0m in \u001b[0;36m<module>\u001b[0;34m()\u001b[0m\n\u001b[0;32m----> 1\u001b[0;31m \u001b[0;32mfrom\u001b[0m \u001b[0mwarc_spark\u001b[0m \u001b[0;32mimport\u001b[0m \u001b[0mmove_csv_parts\u001b[0m\u001b[0;34m\u001b[0m\u001b[0m\n\u001b[0m\u001b[1;32m      2\u001b[0m \u001b[0;34m\u001b[0m\u001b[0m\n\u001b[1;32m      3\u001b[0m \u001b[0mdf\u001b[0m\u001b[0;34m.\u001b[0m\u001b[0mwrite\u001b[0m\u001b[0;34m.\u001b[0m\u001b[0mcsv\u001b[0m\u001b[0;34m(\u001b[0m\u001b[0;34m'results/urls'\u001b[0m\u001b[0;34m,\u001b[0m \u001b[0mheader\u001b[0m\u001b[0;34m=\u001b[0m\u001b[0;32mTrue\u001b[0m\u001b[0;34m)\u001b[0m\u001b[0;34m\u001b[0m\u001b[0m\n",
      "\u001b[0;31mModuleNotFoundError\u001b[0m: No module named 'warc_spark'"
     ]
    }
   ],
   "source": [
    "from warc_spark import move_csv_parts\n",
    "\n",
    "df.write.csv('results/urls', header=True, codec=\"gzip\")"
   ]
  },
  {
   "cell_type": "markdown",
   "metadata": {},
   "source": [
    "Now let's count the URLs by day and see which ones have appeared more than once. First we'll save these off as CSV."
   ]
  },
  {
   "cell_type": "code",
   "execution_count": 9,
   "metadata": {},
   "outputs": [],
   "source": [
    "from pyspark.sql.functions import countDistinct, desc\n",
    "\n",
    "for year in range(2013, 2019):\n",
    "    date = \"{}-10-25\".format(year)\n",
    "    urls = df.filter(df.date == date)\n",
    "    \n",
    "    # useful in dev where note all data is being analyzed\n",
    "    if urls.count() == 0:\n",
    "        continue\n",
    "        \n",
    "    url_counts = urls.groupBy(\"url\").count().sort(desc('count'))\n",
    "    \n",
    "    # remove the long tail of things that were only requested once\n",
    "    url_counts = url_counts.filter(url_counts[\"count\"] > 1)\n",
    "    \n",
    "    # flatten into a single csv\n",
    "    url_counts = url_counts.coalesce(1)\n",
    "    url_counts.write.csv('url-counts/{}'.format(date), header=True)\n",
    "    \n",
    "    # move \n",
    "    move_csv_parts('url-counts/{}'.format(date), 'results/{}/url-counts.csv'.format(date))"
   ]
  },
  {
   "cell_type": "markdown",
   "metadata": {},
   "source": [
    "## URL Analysis"
   ]
  },
  {
   "cell_type": "code",
   "execution_count": 3,
   "metadata": {},
   "outputs": [
    {
     "ename": "ParserError",
     "evalue": "Error tokenizing data. C error: Expected 7 fields in line 1190968, saw 8\n",
     "output_type": "error",
     "traceback": [
      "\u001b[0;31m---------------------------------------------------------------------------\u001b[0m",
      "\u001b[0;31mParserError\u001b[0m                               Traceback (most recent call last)",
      "\u001b[0;32m<ipython-input-3-0059c90eeefe>\u001b[0m in \u001b[0;36m<module>\u001b[0;34m()\u001b[0m\n\u001b[1;32m      1\u001b[0m \u001b[0;32mimport\u001b[0m \u001b[0mpandas\u001b[0m\u001b[0;34m\u001b[0m\u001b[0m\n\u001b[1;32m      2\u001b[0m \u001b[0;34m\u001b[0m\u001b[0m\n\u001b[0;32m----> 3\u001b[0;31m \u001b[0murls\u001b[0m \u001b[0;34m=\u001b[0m \u001b[0mpandas\u001b[0m\u001b[0;34m.\u001b[0m\u001b[0mread_csv\u001b[0m\u001b[0;34m(\u001b[0m\u001b[0;34m'results/urls.csv'\u001b[0m\u001b[0;34m)\u001b[0m\u001b[0;34m\u001b[0m\u001b[0m\n\u001b[0m",
      "\u001b[0;32m/opt/packages/anaconda/anaconda3-5.1.0/lib/python3.6/site-packages/pandas/io/parsers.py\u001b[0m in \u001b[0;36mparser_f\u001b[0;34m(filepath_or_buffer, sep, delimiter, header, names, index_col, usecols, squeeze, prefix, mangle_dupe_cols, dtype, engine, converters, true_values, false_values, skipinitialspace, skiprows, nrows, na_values, keep_default_na, na_filter, verbose, skip_blank_lines, parse_dates, infer_datetime_format, keep_date_col, date_parser, dayfirst, iterator, chunksize, compression, thousands, decimal, lineterminator, quotechar, quoting, escapechar, comment, encoding, dialect, tupleize_cols, error_bad_lines, warn_bad_lines, skipfooter, skip_footer, doublequote, delim_whitespace, as_recarray, compact_ints, use_unsigned, low_memory, buffer_lines, memory_map, float_precision)\u001b[0m\n\u001b[1;32m    707\u001b[0m                     skip_blank_lines=skip_blank_lines)\n\u001b[1;32m    708\u001b[0m \u001b[0;34m\u001b[0m\u001b[0m\n\u001b[0;32m--> 709\u001b[0;31m         \u001b[0;32mreturn\u001b[0m \u001b[0m_read\u001b[0m\u001b[0;34m(\u001b[0m\u001b[0mfilepath_or_buffer\u001b[0m\u001b[0;34m,\u001b[0m \u001b[0mkwds\u001b[0m\u001b[0;34m)\u001b[0m\u001b[0;34m\u001b[0m\u001b[0m\n\u001b[0m\u001b[1;32m    710\u001b[0m \u001b[0;34m\u001b[0m\u001b[0m\n\u001b[1;32m    711\u001b[0m     \u001b[0mparser_f\u001b[0m\u001b[0;34m.\u001b[0m\u001b[0m__name__\u001b[0m \u001b[0;34m=\u001b[0m \u001b[0mname\u001b[0m\u001b[0;34m\u001b[0m\u001b[0m\n",
      "\u001b[0;32m/opt/packages/anaconda/anaconda3-5.1.0/lib/python3.6/site-packages/pandas/io/parsers.py\u001b[0m in \u001b[0;36m_read\u001b[0;34m(filepath_or_buffer, kwds)\u001b[0m\n\u001b[1;32m    453\u001b[0m \u001b[0;34m\u001b[0m\u001b[0m\n\u001b[1;32m    454\u001b[0m     \u001b[0;32mtry\u001b[0m\u001b[0;34m:\u001b[0m\u001b[0;34m\u001b[0m\u001b[0m\n\u001b[0;32m--> 455\u001b[0;31m         \u001b[0mdata\u001b[0m \u001b[0;34m=\u001b[0m \u001b[0mparser\u001b[0m\u001b[0;34m.\u001b[0m\u001b[0mread\u001b[0m\u001b[0;34m(\u001b[0m\u001b[0mnrows\u001b[0m\u001b[0;34m)\u001b[0m\u001b[0;34m\u001b[0m\u001b[0m\n\u001b[0m\u001b[1;32m    456\u001b[0m     \u001b[0;32mfinally\u001b[0m\u001b[0;34m:\u001b[0m\u001b[0;34m\u001b[0m\u001b[0m\n\u001b[1;32m    457\u001b[0m         \u001b[0mparser\u001b[0m\u001b[0;34m.\u001b[0m\u001b[0mclose\u001b[0m\u001b[0;34m(\u001b[0m\u001b[0;34m)\u001b[0m\u001b[0;34m\u001b[0m\u001b[0m\n",
      "\u001b[0;32m/opt/packages/anaconda/anaconda3-5.1.0/lib/python3.6/site-packages/pandas/io/parsers.py\u001b[0m in \u001b[0;36mread\u001b[0;34m(self, nrows)\u001b[0m\n\u001b[1;32m   1067\u001b[0m                 \u001b[0;32mraise\u001b[0m \u001b[0mValueError\u001b[0m\u001b[0;34m(\u001b[0m\u001b[0;34m'skipfooter not supported for iteration'\u001b[0m\u001b[0;34m)\u001b[0m\u001b[0;34m\u001b[0m\u001b[0m\n\u001b[1;32m   1068\u001b[0m \u001b[0;34m\u001b[0m\u001b[0m\n\u001b[0;32m-> 1069\u001b[0;31m         \u001b[0mret\u001b[0m \u001b[0;34m=\u001b[0m \u001b[0mself\u001b[0m\u001b[0;34m.\u001b[0m\u001b[0m_engine\u001b[0m\u001b[0;34m.\u001b[0m\u001b[0mread\u001b[0m\u001b[0;34m(\u001b[0m\u001b[0mnrows\u001b[0m\u001b[0;34m)\u001b[0m\u001b[0;34m\u001b[0m\u001b[0m\n\u001b[0m\u001b[1;32m   1070\u001b[0m \u001b[0;34m\u001b[0m\u001b[0m\n\u001b[1;32m   1071\u001b[0m         \u001b[0;32mif\u001b[0m \u001b[0mself\u001b[0m\u001b[0;34m.\u001b[0m\u001b[0moptions\u001b[0m\u001b[0;34m.\u001b[0m\u001b[0mget\u001b[0m\u001b[0;34m(\u001b[0m\u001b[0;34m'as_recarray'\u001b[0m\u001b[0;34m)\u001b[0m\u001b[0;34m:\u001b[0m\u001b[0;34m\u001b[0m\u001b[0m\n",
      "\u001b[0;32m/opt/packages/anaconda/anaconda3-5.1.0/lib/python3.6/site-packages/pandas/io/parsers.py\u001b[0m in \u001b[0;36mread\u001b[0;34m(self, nrows)\u001b[0m\n\u001b[1;32m   1837\u001b[0m     \u001b[0;32mdef\u001b[0m \u001b[0mread\u001b[0m\u001b[0;34m(\u001b[0m\u001b[0mself\u001b[0m\u001b[0;34m,\u001b[0m \u001b[0mnrows\u001b[0m\u001b[0;34m=\u001b[0m\u001b[0;32mNone\u001b[0m\u001b[0;34m)\u001b[0m\u001b[0;34m:\u001b[0m\u001b[0;34m\u001b[0m\u001b[0m\n\u001b[1;32m   1838\u001b[0m         \u001b[0;32mtry\u001b[0m\u001b[0;34m:\u001b[0m\u001b[0;34m\u001b[0m\u001b[0m\n\u001b[0;32m-> 1839\u001b[0;31m             \u001b[0mdata\u001b[0m \u001b[0;34m=\u001b[0m \u001b[0mself\u001b[0m\u001b[0;34m.\u001b[0m\u001b[0m_reader\u001b[0m\u001b[0;34m.\u001b[0m\u001b[0mread\u001b[0m\u001b[0;34m(\u001b[0m\u001b[0mnrows\u001b[0m\u001b[0;34m)\u001b[0m\u001b[0;34m\u001b[0m\u001b[0m\n\u001b[0m\u001b[1;32m   1840\u001b[0m         \u001b[0;32mexcept\u001b[0m \u001b[0mStopIteration\u001b[0m\u001b[0;34m:\u001b[0m\u001b[0;34m\u001b[0m\u001b[0m\n\u001b[1;32m   1841\u001b[0m             \u001b[0;32mif\u001b[0m \u001b[0mself\u001b[0m\u001b[0;34m.\u001b[0m\u001b[0m_first_chunk\u001b[0m\u001b[0;34m:\u001b[0m\u001b[0;34m\u001b[0m\u001b[0m\n",
      "\u001b[0;32mpandas/_libs/parsers.pyx\u001b[0m in \u001b[0;36mpandas._libs.parsers.TextReader.read\u001b[0;34m()\u001b[0m\n",
      "\u001b[0;32mpandas/_libs/parsers.pyx\u001b[0m in \u001b[0;36mpandas._libs.parsers.TextReader._read_low_memory\u001b[0;34m()\u001b[0m\n",
      "\u001b[0;32mpandas/_libs/parsers.pyx\u001b[0m in \u001b[0;36mpandas._libs.parsers.TextReader._read_rows\u001b[0;34m()\u001b[0m\n",
      "\u001b[0;32mpandas/_libs/parsers.pyx\u001b[0m in \u001b[0;36mpandas._libs.parsers.TextReader._tokenize_rows\u001b[0;34m()\u001b[0m\n",
      "\u001b[0;32mpandas/_libs/parsers.pyx\u001b[0m in \u001b[0;36mpandas._libs.parsers.raise_parser_error\u001b[0;34m()\u001b[0m\n",
      "\u001b[0;31mParserError\u001b[0m: Error tokenizing data. C error: Expected 7 fields in line 1190968, saw 8\n"
     ]
    }
   ],
   "source": [
    "import pandas\n",
    "\n",
    "urls = pandas.read_csv('results/urls.csv')"
   ]
  },
  {
   "cell_type": "code",
   "execution_count": null,
   "metadata": {},
   "outputs": [],
   "source": []
  }
 ],
 "metadata": {
  "kernelspec": {
   "display_name": "Python 3",
   "language": "python",
   "name": "python3"
  },
  "language_info": {
   "codemirror_mode": {
    "name": "ipython",
    "version": 3
   },
   "file_extension": ".py",
   "mimetype": "text/x-python",
   "name": "python",
   "nbconvert_exporter": "python",
   "pygments_lexer": "ipython3",
   "version": "3.6.4"
  }
 },
 "nbformat": 4,
 "nbformat_minor": 2
}
