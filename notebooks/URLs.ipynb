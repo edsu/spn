{
 "cells": [
  {
   "cell_type": "markdown",
   "metadata": {},
   "source": [
    "# URLs in Wayback SPN Data\n",
    "\n",
    "In addition to looking at popular host names it also could be useful to identify popular URLs that people (or bots) archived on each day. Were there attempts to archive multiple things on the same day, and what can we possibly infer about the significance of these multiple attempts?\n",
    "\n",
    "The trouble is that when a browser interacts with SavePageNow via the [web form](https://web.archive.org) it receive the HTML for the requested webpage which has been rewritten to include some JavaScript. This JavaScript gets the browser to request any additional resources that are needed for rendering the page (JavaScript, images, CSS, etc) through SavePageNow as well. This means that a more high-fidelity recording is made, since all the resources for a web page are needed to make it human readable.\n",
    "\n",
    "Some of these URLs may be for things like jQuery a Content Deliver Network, or a CSS file. These aren't terribly interesting in terms of this analysis which is attempting to find duplicates in the originally requested page. One thing we can do is limit our analysis to HTML pages, or requests that come back 200 OK with a `Content-Type` HTTP header containing text/html."
   ]
  },
  {
   "cell_type": "code",
   "execution_count": 1,
   "metadata": {},
   "outputs": [],
   "source": [
    "from warc_spark import init, extractor\n",
    "\n",
    "sc, sqlc = init()"
   ]
  },
  {
   "cell_type": "markdown",
   "metadata": {},
   "source": [
    "In order to find the URLs it's important that we also retain the User-Agent that executed the request, since this tells us something about the person who initiated SavePageNow. Unfortunately the User-Agent is in the WARC Resquest record, and the Content-Type of the response is in the WARC Response record. Luckily these can be connected together using the WARC-Record-ID and the WARC-Concurrent-To WARC headers.\n",
    "\n",
    "The `get_urls` function takes a WARC Record and depending on whether it is a request or a response will return a tuple containing the record id and either a User-Agent or a URL for a text/html response. For example:\n",
    "\n",
    "```\n",
    "(urn:uuid:551471a6-631b-4ef7-99a5-f1344348ab64>', 'Mozilla/5.0 (compatible; archive.org_bot; Wayback Machine Live Record; +http://archive.org/details/archive.org_bot)')\n",
    "(urn:uuid:551471a6-631b-4ef7-99a5-f1344348ab64>', 'https://yahoo.com')\n",
    " ```\n"
   ]
  },
  {
   "cell_type": "code",
   "execution_count": 7,
   "metadata": {},
   "outputs": [],
   "source": [
    "import re\n",
    "from urllib.parse import urlparse\n",
    "\n",
    "@extractor\n",
    "def get_urls(record):\n",
    "    \n",
    "    if record.rec_type == 'request':\n",
    "        id = record.rec_headers.get_header('WARC-Concurrent-To')\n",
    "        ua = record.http_headers.get('user-agent')\n",
    "        if id and ua:\n",
    "            yield (id, ua)\n",
    "            \n",
    "    elif record.rec_type == 'response' and 'html' in record.http_headers.get('content-type', ''):\n",
    "        id = record.rec_headers.get_header('WARC-Record-ID')\n",
    "        url = record.rec_headers.get_header('WARC-Target-URI')\n",
    "        status_code = record.http_headers.get_statuscode()\n",
    "        \n",
    "        # not all 200 OK text/html responses are for requests for HTML \n",
    "        # for example some sites return 200 OK with some HTML when an image isn't found\n",
    "        # this big of logic will try to identify known image, css and javascript extensions\n",
    "        # to elmiminate them from consideration.\n",
    "        \n",
    "        uri = urlparse(url)        \n",
    "        is_dependency = re.match(r'.*\\.(gif|jpg|jpeg|js|png|css)$', uri.path)\n",
    "        if not is_dependency and status_code == '200' and id and url:\n",
    "            yield (id, url)"
   ]
  },
  {
   "cell_type": "markdown",
   "metadata": {},
   "source": [
    "Now we can process our data by selecting the WARC files we want to process and applying the `get_urls` function to them. We then group the results by the WARC-Record-ID to yield something like:\n",
    "\n",
    "    ('<urn:uuid:551471a6-631b-4ef7-99a5-f1344348ab64>', 'Mozilla/5.0 (compatible; archive.org_bot; Wayback Machine Live Record; +http://archive.org/details/archive.org_bot)')\n",
    "    \n",
    "    ('<urn:uuid:551471a6-631b-4ef7-99a5-f1344348ab64>', 'https://yahoo.com')"
   ]
  },
  {
   "cell_type": "code",
   "execution_count": 8,
   "metadata": {},
   "outputs": [
    {
     "data": {
      "text/plain": [
       "[('<urn:uuid:bcf103dc-ac2f-40ea-928b-9c3b5fec297f>',\n",
       "  'https://www.youtube.com/channel/UC6JnEv4XTE7kAG3B6PCXvnw/about')]"
      ]
     },
     "execution_count": 8,
     "metadata": {},
     "output_type": "execute_result"
    }
   ],
   "source": [
    "from glob import glob\n",
    "\n",
    "warc_files = glob('warcs/liveweb-2018*/*.warc.gz')\n",
    "warcs = sc.parallelize(warc_files)\n",
    "results = warcs.mapPartitions(get_urls)\n",
    "results.take(1)"
   ]
  },
  {
   "cell_type": "markdown",
   "metadata": {},
   "source": [
    "Now we can use `groupByKey` to merge the User-Agent and URL tuples using the WARC-Record-ID as a key. We are also going to add two new columns for the User-Agent Family and whether it is a known bot. Some JSON files that were developed as part of the UserAgents notebook can help with this. The resulting rows will look someting like this:\n",
    "\n",
    "    (\n",
    "        'urn:uuid:551471a6-631b-4ef7-99a5-f1344348ab64>',\n",
    "        'https://yahoo.com',\n",
    "        'Mozilla/5.0 (compatible; archive.org_bot; Wayback Machine Live Record; +http://archive.org/details/archive.org_bot)',\n",
    "      \n",
    "        'https://yahoo.com',\n",
    "        'archive.org_bot',\n",
    "        True\n",
    "    )"
   ]
  },
  {
   "cell_type": "code",
   "execution_count": 12,
   "metadata": {},
   "outputs": [],
   "source": [
    "# merge the dataset using the record-id\n",
    "dataset = results.groupByKey()\n",
    "\n",
    "# flatten the second cell into two different columns\n",
    "dataset = dataset.mapValues(list)\n",
    "\n",
    "# make sure each row has a user-agent and a url (not guaranteed)\n",
    "dataset = dataset.filter(lambda r: len(r[1]) == 2)\n",
    "\n",
    "# get our user-agent mapping dictionaries handy\n",
    "import json\n",
    "ua_families = json.load(open('../analysis/results/ua-families.json'))\n",
    "top_uas = json.load(open('../analysis/results/top-uas.json'))\n",
    "\n",
    "# Flatten the results so we can turn it into a DataFrame\n",
    "def unpack(d):\n",
    "    id = d[0]\n",
    "    url, ua = d[1]\n",
    "    ua_f = ua_families.get(ua, '')\n",
    "    bot = top_uas.get(ua_f, False)\n",
    "    return (id, url, ua, ua_f, bot)\n",
    "dataset = dataset.map(unpack)\n",
    "\n",
    "# Convert to a Spark DataFrame\n",
    "df = dataset.toDF([\"record_id\", \"url\", \"user_agent\", \"user_agent_family\", \"bot\"])"
   ]
  },
  {
   "cell_type": "code",
   "execution_count": 13,
   "metadata": {},
   "outputs": [
    {
     "data": {
      "text/plain": [
       "[Row(record_id='<urn:uuid:346ee541-a0a6-484a-b117-54fe87710d57>', url='https://www.youtube.com/channel/UC-J-KZfRV8c13fOCkhXdLiQ/about', user_agent='Wget/1.19.5 (linux-gnu)', user_agent_family='Wget', bot=True),\n",
       " Row(record_id='<urn:uuid:c34767af-cfff-4876-89d7-fc99e21fd6c4>', url='http://km.aifb.kit.edu/projects/numbers/web/n2322734', user_agent='Wget/1.19.4 (darwin17.3.0)', user_agent_family='Wget', bot=True),\n",
       " Row(record_id='<urn:uuid:90acf505-9588-4be7-93bd-1194215c8ff0>', url='https://www.youtube.com/channel/UCANLZYMidaCbLQFWXBC95Jg/videos?flow=list&sort=p&view=0', user_agent='Wget/1.19.5 (linux-gnu)', user_agent_family='Wget', bot=True),\n",
       " Row(record_id='<urn:uuid:487a4b5e-a31b-46ad-bf73-9fe24c57be4a>', url='https://www.youtube.com/channel/UCANLZYMidaCbLQFWXBC95Jg/videos?flow=list&sort=p&view=2', user_agent='Wget/1.19.5 (linux-gnu)', user_agent_family='Wget', bot=True),\n",
       " Row(record_id='<urn:uuid:b2fde961-5bbc-4890-8607-a17a00d41915>', url='https://www.youtube.com/channel/UCaNrhBiXsXIM2epDl_kEzgQ/videos?flow=list&sort=p&view=2', user_agent='Wget/1.19.5 (linux-gnu)', user_agent_family='Wget', bot=True),\n",
       " Row(record_id='<urn:uuid:cf07361a-cc40-4122-a06a-d91b5daa4b62>', url='https://www.youtube.com/channel/UCrjJjF6n6Ne7Qx04095hZLw/videos?flow=list&sort=dd&view=0', user_agent='Wget/1.19.5 (linux-gnu)', user_agent_family='Wget', bot=True),\n",
       " Row(record_id='<urn:uuid:2b13f5e3-1d55-48dd-ab39-c8651d17458d>', url='http://km.aifb.kit.edu/projects/numbers/web/n2322759', user_agent='Wget/1.19.4 (darwin17.3.0)', user_agent_family='Wget', bot=True),\n",
       " Row(record_id='<urn:uuid:88b32408-eceb-4033-b0eb-e4e532dbe6c7>', url='https://www.youtube.com/channel/UCmDWOcRAkUX-05hhopOnUDQ', user_agent='Wget/1.19.5 (linux-gnu)', user_agent_family='Wget', bot=True),\n",
       " Row(record_id='<urn:uuid:1d056f34-4b4e-486f-8f99-401db114b42d>', url='https://softserve.8ch.net/azvn/imagefetch/300x250/?pathname=/save/https://8ch.net/qresearch/res/3602857.html', user_agent='Mozilla/5.0 (Windows NT 6.1; WOW64; rv:52.0) Gecko/20100101 Firefox/52.0', user_agent_family='Firefox', bot=False),\n",
       " Row(record_id='<urn:uuid:68f4df2d-340d-4522-8dd4-9c963bfb8895>', url='https://tvtropes.org/pmwiki/pmwiki.php/JerkassHasAPoint/JerkassHasAPoint', user_agent='FUCKING CLOUDFLARE!', user_agent_family='FUCKING CLOUDFLARE!', bot=False)]"
      ]
     },
     "execution_count": 13,
     "metadata": {},
     "output_type": "execute_result"
    }
   ],
   "source": [
    "df.head(10)"
   ]
  },
  {
   "cell_type": "markdown",
   "metadata": {},
   "source": [
    "Ok let's save off these results before we do any more processing."
   ]
  },
  {
   "cell_type": "code",
   "execution_count": 14,
   "metadata": {},
   "outputs": [],
   "source": [
    "df.write.csv('../analysis/results/urls')"
   ]
  },
  {
   "cell_type": "markdown",
   "metadata": {},
   "source": [
    "Now let's count the URLs and see which ones have appeared more than once."
   ]
  },
  {
   "cell_type": "code",
   "execution_count": 18,
   "metadata": {},
   "outputs": [],
   "source": [
    "from pyspark.sql.functions import countDistinct, desc\n",
    "\n",
    "url_counts = df.groupBy(\"url\").agg(countDistinct(\"url\").alias(\"count\")).sort(desc(\"count\"))\n",
    "url_counts.write.csv('../analysis/results/url-counts/')"
   ]
  },
  {
   "cell_type": "code",
   "execution_count": null,
   "metadata": {},
   "outputs": [],
   "source": []
  }
 ],
 "metadata": {
  "kernelspec": {
   "display_name": "Python 3",
   "language": "python",
   "name": "python3"
  },
  "language_info": {
   "codemirror_mode": {
    "name": "ipython",
    "version": 3
   },
   "file_extension": ".py",
   "mimetype": "text/x-python",
   "name": "python",
   "nbconvert_exporter": "python",
   "pygments_lexer": "ipython3",
   "version": "3.7.3"
  }
 },
 "nbformat": 4,
 "nbformat_minor": 2
}
