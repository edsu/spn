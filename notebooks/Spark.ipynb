{
 "cells": [
  {
   "cell_type": "markdown",
   "metadata": {},
   "source": [
    "# WARC Processing with Spark and Python"
   ]
  },
  {
   "cell_type": "markdown",
   "metadata": {},
   "source": [
    "There are several [full featured](https://github.com/archivesunleashed/aut) [options](https://github.com/helgeho/ArchiveSpark) for processing [WARC](https://en.wikipedia.org/wiki/Web_ARChive) data with Scala in Spark. Unfortunately if you aren't familiar with Scala these can seem like a little bit of a black box, where you aren't quite sure what's going on behind the scenes. This can be particularly problematic when understanding what is going on behind the scenes is critical for your research.\n",
    "\n",
    "Fortunately, if you happen to know Python there is [PySpark](https://spark.apache.org/docs/0.9.0/python-programming-guide.html) which allows you to process your WARC data with the clearly documented [warcio](https://pypi.org/project/warcio/) library. The JVM isn't able to optimize Python code the same way it can Scala. But these performance difference really depend on what you are doing. And at any rate, you may be willing to trade off a bit of performance for an increase in readability. This notebook is a brief guide for processing WARC data using PySpark and warcio. Somewhat unhelpfully this notebook kind of assumes you are passingly familiar with Python, Spark and WARC already.\n",
    "\n",
    "*You may notice that some of the notes refer specifically to the [XSEDE platform](https://www.xsede.org/). You can comfortably ignore those bits.*\n",
    "\n",
    "## Install\n",
    "\n",
    "First you need to install [warcio](ttps://pypi.org/project/warcio/) and [findspark](https://github.com/minrk/findspark). If you are working in your own environment you can probably just:\n",
    "\n",
    "    pip install warcio findspark\n",
    "\n",
    "*XSEDE Users: Since you don't have root to install things globally, and Jupyter runs in the context of their Anaconda environment you'll need to:*\n",
    "\n",
    "    ssh edsu@bridges.psc.edu\n",
    "    module load anaconda\n",
    "    /opt/packages/anaconda/anaconda3-5.1.0/bin/pip install --user warcio findspark\n",
    "    \n",
    "If you know the location of your Spark installation you can set the `SPARK_HOME` environment variable, but if not `findspark` may be able to find it anyway. XSEDE users need to set this explicitly convincing:"
   ]
  },
  {
   "cell_type": "code",
   "execution_count": 1,
   "metadata": {},
   "outputs": [],
   "source": [
    "import os\n",
    "#os.environ['SPARK_HOME'] = '/opt/packages/spark/latest'"
   ]
  },
  {
   "cell_type": "markdown",
   "metadata": {},
   "source": [
    "## Setup\n",
    "\n",
    "Now we are ready to start up Spark here in our Jupyter notebook! We'll get a Spark Context and a Spark Session which are used for interacting with Spark from Python."
   ]
  },
  {
   "cell_type": "code",
   "execution_count": 2,
   "metadata": {},
   "outputs": [],
   "source": [
    "import findspark\n",
    "findspark.init()\n",
    "\n",
    "import pyspark\n",
    "sc = pyspark.SparkContext(appName=\"warc-analysis\")\n",
    "\n",
    "import pyspark.sql\n",
    "sqlc = pyspark.sql.SparkSession(sc)"
   ]
  },
  {
   "cell_type": "markdown",
   "metadata": {},
   "source": [
    "## Input Data\n",
    "\n",
    "Great, now lets create a list of all the WARC files we want to process. You can adjust the pattern to match where the data is on your filesystem. You may need to change this up depending on where your WARC files are stored."
   ]
  },
  {
   "cell_type": "code",
   "execution_count": 3,
   "metadata": {},
   "outputs": [
    {
     "name": "stdout",
     "output_type": "stream",
     "text": [
      "found 47 files\n",
      "e.g. /Users/edsu/Data/spn/liveweb-20131025181033/live-20131025001158-00002-wwwb-app2.us.archive.org.warc.gz\n"
     ]
    }
   ],
   "source": [
    "import glob\n",
    "\n",
    "warc_files = glob.glob('/Users/edsu/Data/spn/*/*.warc.gz')\n",
    "print(\"found {} files\".format(len(warc_files)))\n",
    "print(\"e.g. {}\".format(warc_files[0]))"
   ]
  },
  {
   "cell_type": "markdown",
   "metadata": {},
   "source": [
    "## Extractor Functions \n",
    "\n",
    "The needs of research are *many*, and it's not possible to anticipate all the possible ways you might want to analyze your WARC records. In fact, researchers are often concerned with asking *novel* questions, that have never been asked before. So they are unlikely to be interested in your code that has already answered it.\n",
    "\n",
    "However in the case of web archive data, it should be possible to have a simple framework for writing your own functions that analyze WARC records and use Spark to apply them right? An *extractor* function is a simple Python function that takes a `warcio.ArcWarcRecord` as an argument and returns data for processing in Spark. We will take a look at a simple *extractor* function in a moment. But before we do, how will we apply this function to all of our WARC data?\n",
    "\n",
    "To do do this we introduce the extractor *decorator*, which is a bit of syntactic sugar you use to annotate your extractor functions, to indicate that they are a function that will be iterating through a set of WARC records in a set of WARC files, and will apply your custom *extractor* function to each one. All the heavy lifting here is done by warcio, which is parsing the records."
   ]
  },
  {
   "cell_type": "code",
   "execution_count": 4,
   "metadata": {},
   "outputs": [],
   "source": [
    "import warcio\n",
    "\n",
    "def extractor(f):\n",
    "    def new_f(warc_files):\n",
    "        for warc_file in warc_files:\n",
    "            with open(warc_file, 'rb') as stream:\n",
    "                for record in warcio.ArchiveIterator(stream):\n",
    "                    yield from f(record)\n",
    "    return new_f"
   ]
  },
  {
   "cell_type": "markdown",
   "metadata": {},
   "source": [
    "So `extractor` is a function, that takes a function as an argument, that returns a new function. If this sounds complicated that's because, well, it is. But as complicated as it sounds [decorators](https://www.python.org/dev/peps/pep-0318/) are a standard part of Python for a reason--they cut down on code repetition, which can lead to bugs. Fortunately this hard part is over and we won't be writing any code like that again.\n",
    "\n",
    "Instead we will be writing consise (or complicated if you want) *extractor functions* that look something like this one, which returns the URL belonging to *WARC Response* records in our WARC data (yes there are [other types](https://iipc.github.io/warc-specifications/specifications/warc-format/warc-1.1/#warc-type-mandatory) of WARC records."
   ]
  },
  {
   "cell_type": "code",
   "execution_count": 5,
   "metadata": {},
   "outputs": [],
   "source": [
    "@extractor\n",
    "def url(record):\n",
    "    if record.rec_type == 'response':\n",
    "        yield (record.rec_headers.get_header('WARC-Target-URI'), )"
   ]
  },
  {
   "cell_type": "markdown",
   "metadata": {},
   "source": [
    "This one is pretty simple, but there are a few things to note about *extractor functions*:\n",
    "\n",
    "* You need to *deocrate* them with `@extractor` just before the function definition. Yep, this is the extractor function we just created.\n",
    "* Your function needs to take one argument, which will be the WARC record.\n",
    "* Your function needs to `yield` a `tuple` containing some piece or pieces of information from the WARC record that you would like to process with Spark.\n",
    "\n",
    "The *extractor functions* need to return a tuple because the thing being returned may be more complicated than a single value. And the function needs to *yield* instead of simply *return* because there may be more than one of these items to to return from a given WARC Record. For example, consider a function that returns all the hyperlinks in a WARC Response. More on this in a bit.\n",
    "\n",
    "In this case we'll start with a super simple function that is going to return the URL for a web resource that was was archived, which can be found in any *WARC Response* record. Remember there are  of WARC Records in a WARC File.\n"
   ]
  },
  {
   "cell_type": "code",
   "execution_count": 6,
   "metadata": {},
   "outputs": [],
   "source": [
    "def process(f):\n",
    "    def new_f(warc_files):\n",
    "        for warc_file in warc_files:\n",
    "            with open(warc_file, 'rb') as stream:\n",
    "                for record in warcio.ArchiveIterator(stream):\n",
    "                    yield from f(record)\n",
    "    return new_f"
   ]
  },
  {
   "cell_type": "markdown",
   "metadata": {},
   "source": [
    "## Analyze\n",
    "\n",
    "And finally for the fun bit, we've all been waiting for--to run the analysis! We apply tell Spark to process all our WARC files:"
   ]
  },
  {
   "cell_type": "code",
   "execution_count": 7,
   "metadata": {},
   "outputs": [],
   "source": [
    "warcs = sc.parallelize(warc_files[0:1])"
   ]
  },
  {
   "cell_type": "markdown",
   "metadata": {},
   "source": [
    "At this point `warcs` is a Spark Resilient Distributed Dataset (RDD). We then apply our extractor function to each one and get the result as...yes, another RDD."
   ]
  },
  {
   "cell_type": "code",
   "execution_count": 8,
   "metadata": {},
   "outputs": [],
   "source": [
    "output = warcs.mapPartitions(url)"
   ]
  },
  {
   "cell_type": "code",
   "execution_count": 9,
   "metadata": {},
   "outputs": [],
   "source": [
    "output.toDF([\"url\"]).coalesce(1).write.csv(\"urls.csv\")"
   ]
  },
  {
   "cell_type": "markdown",
   "metadata": {},
   "source": [
    "We can convert our RDD to a Spark Data Frame (giving it column headers to use), which for comfort we can even turn into a [Pandas](https://pandas.pydata.org/) dataframe. "
   ]
  },
  {
   "cell_type": "code",
   "execution_count": 47,
   "metadata": {},
   "outputs": [],
   "source": [
    "df = output.toDF([\"url\"]).toPandas()"
   ]
  },
  {
   "cell_type": "markdown",
   "metadata": {},
   "source": [
    "Ahhh pandas...."
   ]
  },
  {
   "cell_type": "code",
   "execution_count": 84,
   "metadata": {},
   "outputs": [
    {
     "data": {
      "text/plain": [
       "http://edge.quantserve.com/quant.js                                                                                                                                                                                                       24\n",
       "http://pagead2.googlesyndication.com/pagead/show_ads.js                                                                                                                                                                                   14\n",
       "http://www.live365.com/scripts/mini.js                                                                                                                                                                                                    13\n",
       "http://b.scorecardresearch.com/beacon.js                                                                                                                                                                                                  12\n",
       "http://partner.googleadservices.com/gampad/google_service.js                                                                                                                                                                              12\n",
       "http://www.live365.com/scp/live365/mini/pls.css                                                                                                                                                                                           12\n",
       "http://www.ptchan.net/images/bbanner.gif                                                                                                                                                                                                  11\n",
       "http://www.live365.com/scripts/cookiemonster.js                                                                                                                                                                                           10\n",
       "http://lifestream.aol.com/                                                                                                                                                                                                                10\n",
       "http://www.facebook.com/plugins/like.php?href=https%253A%252F%252Fwww.facebook.com%252Fpages%252FImageShack%252F133510786684471&send=false&layout=button_count&width=100&show_faces=false&action=like&colorscheme=light&font&height=21    10\n",
       "http://static.hugedomains.com/images/logo_huge_domains.gif                                                                                                                                                                                10\n",
       "http://www3.nhk.or.jp/error/error.html                                                                                                                                                                                                     9\n",
       "http://community.kabam.com/forums/forumdisplay.php?1089-Realm-of-the-Mad-God                                                                                                                                                               8\n",
       "http://pagead2.googlesyndication.com/pagead/js/adsbygoogle.js                                                                                                                                                                              8\n",
       "http://www.live365.com/scp/live365/mini/images/playlist-branding.gif                                                                                                                                                                       8\n",
       "http://www.swydm.com/?f                                                                                                                                                                                                                    8\n",
       "http://www.googleadservices.com/pagead/conversion.js                                                                                                                                                                                       8\n",
       "http://www.cocolog-nifty.com/error/403                                                                                                                                                                                                     7\n",
       "http://www.pasmag.com/images/logobdrop.jpg                                                                                                                                                                                                 7\n",
       "http://forums.wildshadow.com/sites/all/modules/smileys/packs/Example/smile.png                                                                                                                                                             6\n",
       "http://www.information.com/                                                                                                                                                                                                                6\n",
       "http://forums.wildshadow.com/sites/all/themes/acquia_prosper/images/search-icon.png                                                                                                                                                        6\n",
       "http://www.live365.com/scripts/navbar.js                                                                                                                                                                                                   6\n",
       "http://pixel.quantserve.com/api/segments.json?a=p-65DrxcUXjcWq6&callback=qc_results                                                                                                                                                        6\n",
       "http://fonts.googleapis.com/css?family=Open+Sans:400,600,700                                                                                                                                                                               6\n",
       "https://sb.scorecardresearch.com/beacon.js                                                                                                                                                                                                 5\n",
       "https://apis.google.com/js/plusone.js                                                                                                                                                                                                      5\n",
       "http://www.florencepictures.com/                                                                                                                                                                                                           5\n",
       "http://www.live365.com/scripts/pls.js                                                                                                                                                                                                      5\n",
       "http://fonts.googleapis.com/css?family=Ubuntu:r,b,i,bi%7CDroid+Serif:r,b,i,bi%7CAllerta                                                                                                                                                    5\n",
       "                                                                                                                                                                                                                                          ..\n",
       "http://chaknews.com/Nederland/themes/En_Beauty/images/printer.gif                                                                                                                                                                          1\n",
       "http://a.deviantart.net/avatars/c/u/cupcakegumdropstars.gif?3                                                                                                                                                                              1\n",
       "http://naturalelements.250free.com/Pictures/Links/SavageSims.gif                                                                                                                                                                           1\n",
       "http://www.melchers-werbung.de/uploads/pics/logo-toellner.jpg                                                                                                                                                                              1\n",
       "http://mig.kartographie.be/wp-content/themes/PRiNZ_BranfordMagazine_latest/branfordmagazine/styles/plugins.css                                                                                                                             1\n",
       "http://www.facepunch.com/avatar/99073.png                                                                                                                                                                                                  1\n",
       "http://www.bajolasfaldas.com/data/512/thumbs/AnjelikaL06_007.jpg                                                                                                                                                                           1\n",
       "http://www.loaded.vg/site/contenidos/videos/3246.Thumbnail                                                                                                                                                                                 1\n",
       "http://www.digicreationsxxx.com/image/summer_j_init43.jpg                                                                                                                                                                                  1\n",
       "http://www.hutnikwarszawa.pl/media/Image/sponsorzy/sponsorzy-primavera.jpg                                                                                                                                                                 1\n",
       "http://store3.yimg.com/I/celebritylingerie_1594_13647                                                                                                                                                                                      1\n",
       "http://friendfeed.com/static/html/ping.txt?action=revive&token=209123909352&prev=E-security_error&host=9685&lpi=33                                                                                                                         1\n",
       "http://www.girlsgonewild.com/images/captureBK.jpg                                                                                                                                                                                          1\n",
       "http://www.anightofstars.org/wp-content/uploads/stump-the-cartoonist-with-jack-cassady.jpg                                                                                                                                                 1\n",
       "http://data.worldwind.arc.nasa.gov/elev?SERVICE=WMS&REQUEST=GetMap&version=1.3&srs=EPSG:4326&layers=mergedAsterElevations&styles=&format=application/bil16&bgColor=-9999.0&width=150&height=150&bbox=-8.75,-2.5,-7.5,-1.25&                1\n",
       "http://sillielilliboutique.com.37923.fb.dbbsrv.com/frame/track.gif?referrer=http%253A%252F%252Fsillielilliboutique.com%252F&trackPageID=0                                                                                                  1\n",
       "http://portal.holden.de/__metadot__/image_library/get_image/452/txt-586-left_reara.jpg                                                                                                                                                     1\n",
       "http://svn.efixo.net/neufbox/2.1.5/openwrt/package/nvram/Makefile                                                                                                                                                                          1\n",
       "http://dg-yug.ru/images/article/2009/02/17/e1639f39-7fd1-4a6d-9eeb-ed79558e5379.jpg                                                                                                                                                        1\n",
       "http://www.newtrier.k12.il.us/workarea/java/ektronJs.ashx?id=EktronWebToolBarJS&_=1382743925858                                                                                                                                            1\n",
       "http://www.spirits-worldwide.net/bilder/back.gif                                                                                                                                                                                           1\n",
       "http://bodyspace.bodybuilding.com/img/user_images/growable/2010/03/02/21944541/gallerypic/1saO5ECTJOeAq6Y9tMALU6oDzRDT966g.jpeg                                                                                                            1\n",
       "http://www.gogirl.org.au/images/large-divider.gif                                                                                                                                                                                          1\n",
       "http://1.bp.blogspot.com/_ALNIXg9K3Jw/RxsFm4QMLXI/AAAAAAAAB8E/aX7fNVUuYgE/s320/2178905670066902739ehjrhW_fs.jpg                                                                                                                            1\n",
       "http://www.newtrier.k12.il.us/WorkArea/java/webtoolbar.js?_=1382745871499                                                                                                                                                                  1\n",
       "http://data.worldwind.arc.nasa.gov/elev?SERVICE=WMS&REQUEST=GetMap&version=1.3&srs=EPSG:4326&layers=mergedAsterElevations&styles=&format=application/bil16&bgColor=-9999.0&width=150&height=150&bbox=88.75,18.75,90,20&                    1\n",
       "http://img100.xvideos.com/videos/thumbs/8/1/2/812db110b27d30db478735e48087aff8.3.jpg                                                                                                                                                       1\n",
       "http://images7.ecarlist.com/ebay/1100/images/header_bg.jpg                                                                                                                                                                                 1\n",
       "http://elmansour-host.com/record/_embed/http://elmansour-host.com?a76908a5258476fc14b355b5afd3bd28=325467165&6fa970d50480e816942b6fab7c4e7a23=506683626&5f17a83ba43604eb3d1c06f73d82e119=635182832046138690                                1\n",
       "http://www.newtrier.k12.il.us/_scripts/ufo.js?_=1382744564240                                                                                                                                                                              1\n",
       "Name: url, Length: 32214, dtype: int64"
      ]
     },
     "execution_count": 84,
     "metadata": {},
     "output_type": "execute_result"
    }
   ],
   "source": [
    "df.url.value_counts()"
   ]
  },
  {
   "cell_type": "code",
   "execution_count": null,
   "metadata": {},
   "outputs": [],
   "source": []
  }
 ],
 "metadata": {
  "kernelspec": {
   "display_name": "Python 3",
   "language": "python",
   "name": "python3"
  },
  "language_info": {
   "codemirror_mode": {
    "name": "ipython",
    "version": 3
   },
   "file_extension": ".py",
   "mimetype": "text/x-python",
   "name": "python",
   "nbconvert_exporter": "python",
   "pygments_lexer": "ipython3",
   "version": "3.7.3"
  }
 },
 "nbformat": 4,
 "nbformat_minor": 2
}
