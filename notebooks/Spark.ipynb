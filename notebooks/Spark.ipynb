{
 "cells": [
  {
   "cell_type": "markdown",
   "metadata": {},
   "source": [
    "# WARC Processing with Spark and Python"
   ]
  },
  {
   "cell_type": "markdown",
   "metadata": {},
   "source": [
    "There are several [full featured](https://github.com/archivesunleashed/aut) [options](https://github.com/helgeho/ArchiveSpark) for processing [WARC](https://en.wikipedia.org/wiki/Web_ARChive) data with Scala in Spark. Unfortunately if you aren't familiar with Scala these can seem like a little bit of a black box, where you aren't quite sure what's going on behind the scenes. This can be particularly problematic when understanding what is going on behind the scenes is critical for your research.\n",
    "\n",
    "Fortunately, if you happen to know Python there is [PySpark](https://spark.apache.org/docs/0.9.0/python-programming-guide.html) which allows you to process your WARC data with the clearly documented [warcio](https://pypi.org/project/warcio/) library. The JVM isn't able to optimize Python code the same way it can Scala. But these performance differences really depend on what you are doing. You may be willing to trade off a bit of performance for an increase in readability and comprehension.\n",
    "\n",
    "This notebook is a brief guide for processing WARC data using PySpark and warcio. Somewhat unhelpfully it kind of assumes you are passingly familiar with Python, Spark and WARC already, and that you have working [Python3](https://www.python.org/downloads/) and [Spark](https://spark.apache.org/) environments installed. You may notice that some of the notes refer specifically to the [XSEDE platform](https://www.xsede.org/). You can comfortably ignore those bits if they aren't relevant to you.\n",
    "\n",
    "## Install\n",
    "\n",
    "\n",
    "First you need to install [warcio](https://pypi.org/project/warcio/) and [findspark](https://github.com/minrk/findspark). If you are working in your own environment you can probably just:\n",
    "\n",
    "    pip install warcio findspark\n",
    "\n",
    "*XSEDE Users: Since you don't have root to install things globally, and Jupyter runs in the context of their Anaconda environment you'll need to:*\n",
    "\n",
    "    ssh edsu@bridges.psc.edu\n",
    "    module load anaconda\n",
    "    /opt/packages/anaconda/anaconda3-5.1.0/bin/pip install --user warcio findspark\n",
    "    \n",
    "If you know the location of your Spark installation you can set the `SPARK_HOME` environment variable, but if not `findspark` may be able to find it anyway. XSEDE users need to set this explicitly convincing:"
   ]
  },
  {
   "cell_type": "code",
   "execution_count": 1,
   "metadata": {},
   "outputs": [],
   "source": [
    "import os\n",
    "#os.environ['SPARK_HOME'] = '/opt/packages/spark/latest'"
   ]
  },
  {
   "cell_type": "markdown",
   "metadata": {},
   "source": [
    "## Setup\n",
    "\n",
    "Now we are ready to start up Spark here in our Jupyter notebook! We'll get a Spark Context and a Spark Session which are used for interacting with Spark from Python."
   ]
  },
  {
   "cell_type": "code",
   "execution_count": 2,
   "metadata": {},
   "outputs": [],
   "source": [
    "import findspark\n",
    "findspark.init()\n",
    "\n",
    "import pyspark\n",
    "sc = pyspark.SparkContext(appName=\"warc-analysis\")\n",
    "\n",
    "import pyspark.sql\n",
    "sqlc = pyspark.sql.SparkSession(sc)"
   ]
  },
  {
   "cell_type": "markdown",
   "metadata": {},
   "source": [
    "## Input Data\n",
    "\n",
    "Now lets create a list of all the WARC files we want to process. You can adjust the pattern to match where the data is on your filesystem. You may need to change this up depending on where your WARC files are stored."
   ]
  },
  {
   "cell_type": "code",
   "execution_count": 3,
   "metadata": {},
   "outputs": [
    {
     "name": "stdout",
     "output_type": "stream",
     "text": [
      "found 47 files\n",
      "e.g. /Users/edsu/Data/spn/liveweb-20131025181033/live-20131025001158-00002-wwwb-app2.us.archive.org.warc.gz\n"
     ]
    }
   ],
   "source": [
    "import glob\n",
    "\n",
    "warc_files = glob.glob('/Users/edsu/Data/spn/*/*.warc.gz')\n",
    "print(\"found {} files\".format(len(warc_files)))\n",
    "print(\"e.g. {}\".format(warc_files[0]))"
   ]
  },
  {
   "cell_type": "markdown",
   "metadata": {},
   "source": [
    "## Extractor Functions \n",
    "\n",
    "The needs of research are *many*, and it's not possible to anticipate all the possible ways you might want to analyze your WARC records. In fact, researchers are often concerned with asking *novel* questions, that have never been asked before. So they may not be interested in your code that has already answered it.\n",
    "\n",
    "However in the case of web archive data, it should be possible to have a simple framework for writing your own functions that analyze WARC records and use Spark to apply them right? An *extractor* function is a simple Python function that takes a `warcio.ArcWarcRecord` as an argument and returns data for processing in Spark. We will take a look at a simple *extractor* function in a moment. But before we do, how will we apply this function to all of our WARC data?\n",
    "\n",
    "To do do this we introduce the extractor *decorator*, which is a bit of syntactic sugar you can use to annotate your own *extractor functions*, to indicate that they are a function that will be iterating through a set of WARC records in a set of WARC files, and will apply your custom *extractor* function to each record as it goes. All the heavy lifting here is done by warcio, which is parsing the records."
   ]
  },
  {
   "cell_type": "code",
   "execution_count": 4,
   "metadata": {},
   "outputs": [],
   "source": [
    "import warcio\n",
    "\n",
    "def extractor(f):\n",
    "    def new_f(warc_files):\n",
    "        for warc_file in warc_files:\n",
    "            with open(warc_file, 'rb') as stream:\n",
    "                for record in warcio.ArchiveIterator(stream):\n",
    "                    yield from f(record)\n",
    "    return new_f"
   ]
  },
  {
   "cell_type": "markdown",
   "metadata": {},
   "source": [
    "So `extractor` is a function, that takes a function as an argument, that returns a new function. If this sounds complicated that's because, well, it is.\n",
    "\n",
    "But as complicated as it sounds [decorators](https://www.python.org/dev/peps/pep-0318/) are a standard part of Python for a reason--they cut down on code repetition, which can lead to bloat and bugs. Fortunately you won't be writing any more functions like the one above.\n",
    "\n",
    "Instead we will be writing consise (or complicated if you want) *extractor functions* that look something like the one below, which returns the URL belonging to *WARC Response* records in our WARC data (yes there are [other types](https://iipc.github.io/warc-specifications/specifications/warc-format/warc-1.1/#warc-type-mandatory) of WARC records)."
   ]
  },
  {
   "cell_type": "code",
   "execution_count": 5,
   "metadata": {},
   "outputs": [],
   "source": [
    "@extractor\n",
    "def url(record):\n",
    "    if record.rec_type == 'response':\n",
    "        yield (record.rec_headers.get_header('WARC-Target-URI'), )"
   ]
  },
  {
   "cell_type": "markdown",
   "metadata": {},
   "source": [
    "This one is pretty simple, but there are a few things to note about *extractor functions*:\n",
    "\n",
    "* You need to *deocrate* them with `@extractor` just before the function definition. Yep, this is actually `extractor` which we just defined.\n",
    "* Your function needs to take one argument, which will be the WARC record to examine.\n",
    "* Your function needs to `yield` a `tuple` containing some piece or pieces of information from the WARC record that you would like to process with Spark.\n",
    "\n",
    "The *extractor functions* need to return a tuple because the thing being returned may be more complicated than a single value. And the function needs to *yield* instead of simply *return* because there may be more than one of these items to to return from a given WARC Record. For example, consider a function that returns all the hyperlinks in a WARC Response. More on this in a bit."
   ]
  },
  {
   "cell_type": "markdown",
   "metadata": {},
   "source": [
    "## Analyze\n",
    "\n",
    "And finally for the fun part you've been waiting for--running the analysis! We us `parallelize` to tell Spark to process all of our WARC files:"
   ]
  },
  {
   "cell_type": "code",
   "execution_count": 6,
   "metadata": {},
   "outputs": [],
   "source": [
    "warcs = sc.parallelize(warc_files)"
   ]
  },
  {
   "cell_type": "markdown",
   "metadata": {},
   "source": [
    "At this point `warcs` is a Spark [Resilient Distributed Dataset](https://www.tutorialspoint.com/apache_spark/apache_spark_rdd.htm) (RDD). We then use *mapPartititions* to apply our extractor function to each one and get the result as...yes, another RDD."
   ]
  },
  {
   "cell_type": "code",
   "execution_count": 7,
   "metadata": {},
   "outputs": [],
   "source": [
    "output = warcs.mapPartitions(url)"
   ]
  },
  {
   "cell_type": "markdown",
   "metadata": {},
   "source": [
    "We can convert our RDD to a Spark Data Frame (giving it column headers to use), which for comfort we can even turn into a [Pandas](https://pandas.pydata.org/) dataframe. "
   ]
  },
  {
   "cell_type": "code",
   "execution_count": 8,
   "metadata": {},
   "outputs": [],
   "source": [
    "df = output.toDF([\"url\"]).toPandas()"
   ]
  },
  {
   "cell_type": "markdown",
   "metadata": {},
   "source": [
    "Ahhh pandas...."
   ]
  },
  {
   "cell_type": "code",
   "execution_count": 9,
   "metadata": {},
   "outputs": [
    {
     "data": {
      "text/plain": [
       "http://edge.quantserve.com/quant.js                                                                                                                                                                                                                                                                                                                                                                                                                                                                                                                                                                                                                    730\n",
       "http://pagead2.googlesyndication.com/pagead/show_ads.js                                                                                                                                                                                                                                                                                                                                                                                                                                                                                                                                                                                                643\n",
       "http://b.scorecardresearch.com/beacon.js                                                                                                                                                                                                                                                                                                                                                                                                                                                                                                                                                                                                               526\n",
       "http://community.kabam.com/forums/forumdisplay.php?1089-Realm-of-the-Mad-God                                                                                                                                                                                                                                                                                                                                                                                                                                                                                                                                                                           370\n",
       "http://www.swydm.com/?f                                                                                                                                                                                                                                                                                                                                                                                                                                                                                                                                                                                                                                312\n",
       "https://apis.google.com/js/plusone.js                                                                                                                                                                                                                                                                                                                                                                                                                                                                                                                                                                                                                  276\n",
       "http://www.information.com/                                                                                                                                                                                                                                                                                                                                                                                                                                                                                                                                                                                                                            208\n",
       "https://sb.scorecardresearch.com/beacon.js                                                                                                                                                                                                                                                                                                                                                                                                                                                                                                                                                                                                             197\n",
       "http://www.wwtdd.com/user_files/14106_avatar_64x64.jpg                                                                                                                                                                                                                                                                                                                                                                                                                                                                                                                                                                                                 186\n",
       "http://lifestream.aol.com/                                                                                                                                                                                                                                                                                                                                                                                                                                                                                                                                                                                                                             184\n",
       "http://www.wwtdd.com/user_files/73752_avatar_64x64.jpg                                                                                                                                                                                                                                                                                                                                                                                                                                                                                                                                                                                                 178\n",
       "http://www.wwtdd.com/user_files/55131_avatar_64x64.jpg                                                                                                                                                                                                                                                                                                                                                                                                                                                                                                                                                                                                 178\n",
       "http://static.v4.skyrock.com/img/avatars/default.jpg                                                                                                                                                                                                                                                                                                                                                                                                                                                                                                                                                                                                   177\n",
       "http://www.wwtdd.com/user_files/47081_avatar_64x64.jpg                                                                                                                                                                                                                                                                                                                                                                                                                                                                                                                                                                                                 173\n",
       "http://www.wwtdd.com/user_files/71371_avatar_64x64.jpg                                                                                                                                                                                                                                                                                                                                                                                                                                                                                                                                                                                                 173\n",
       "http://www.wwtdd.com/user_files/30273_avatar_64x64.jpg                                                                                                                                                                                                                                                                                                                                                                                                                                                                                                                                                                                                 173\n",
       "http://www.wwtdd.com/user_files/12113_avatar_64x64.jpg                                                                                                                                                                                                                                                                                                                                                                                                                                                                                                                                                                                                 173\n",
       "http://www.wwtdd.com/user_files/63351_avatar_64x64.jpg                                                                                                                                                                                                                                                                                                                                                                                                                                                                                                                                                                                                 171\n",
       "http://partner.googleadservices.com/gampad/google_service.js                                                                                                                                                                                                                                                                                                                                                                                                                                                                                                                                                                                           159\n",
       "http://vjs.zencdn.net/c/video.js                                                                                                                                                                                                                                                                                                                                                                                                                                                                                                                                                                                                                       138\n",
       "http://vjs.zencdn.net/c/video-js.css                                                                                                                                                                                                                                                                                                                                                                                                                                                                                                                                                                                                                   136\n",
       "http://widgets.outbrain.com/outbrain.js                                                                                                                                                                                                                                                                                                                                                                                                                                                                                                                                                                                                                132\n",
       "http://bits.wikimedia.org/en.wikipedia.org/load.php?debug=false&lang=en&modules=skins.vector&only=scripts&skin=vector&*                                                                                                                                                                                                                                                                                                                                                                                                                                                                                                                                125\n",
       "http://static.hugedomains.com/images/logo_huge_domains.gif                                                                                                                                                                                                                                                                                                                                                                                                                                                                                                                                                                                             122\n",
       "http://www.googleadservices.com/pagead/conversion.js                                                                                                                                                                                                                                                                                                                                                                                                                                                                                                                                                                                                   117\n",
       "http://livepassdl.conviva.com/ver/2.72.0.13589/LivePass.js                                                                                                                                                                                                                                                                                                                                                                                                                                                                                                                                                                                             116\n",
       "http://as00.estara.com/as/InitiateCall2.php?accountid=200106287286&template=226613                                                                                                                                                                                                                                                                                                                                                                                                                                                                                                                                                                     111\n",
       "https://secure.quantserve.com/quant.js                                                                                                                                                                                                                                                                                                                                                                                                                                                                                                                                                                                                                 110\n",
       "http://error.fc2.com/web/403.html                                                                                                                                                                                                                                                                                                                                                                                                                                                                                                                                                                                                                      106\n",
       "http://s1.wp.com/_static/??-eJx9kFEOgjAMQC/krCgJ/hjPMrZSCmVd3JBwewl+SILhs8l7fWlhisZpyBgyDKOJMhKHBMI9JugwR+t6s05nl9IJNngtSj9BidDrmE2jIjrBxJ4w76RNg0PDgfMMucVhqcWxhjcTiw0Oj8SoacmI5RekPMue/bfwGG1LINHaylH3e1KCBQFS9S+0fn3Lc3gUt/v1UlRVVXYfeoZ+qA==                                                                                                                                                                                                                                                                                                                                                                                                       105\n",
       "                                                                                                                                                                                                                                                                                                                                                                                                                                                                                                                                                                                                                                                      ... \n",
       "http://www.georgiacarolinastatefair.com/Entertain/files/stacks_image_3292_1.png                                                                                                                                                                                                                                                                                                                                                                                                                                                                                                                                                                          1\n",
       "http://www.apidosbocas.com/Img/mordidas.gif                                                                                                                                                                                                                                                                                                                                                                                                                                                                                                                                                                                                              1\n",
       "http://www.google-analytics.com/__utm.gif?utmwv=5.4.5&utms=52&utmn=245873998&utmhn=web.archive.org&utmcs=utf-8&utmsr=1366x768&utmvp=1366x588&utmsc=24-bit&utmul=ja-jp&utmje=1&utmfl=11.9%2520r900&utmdt=main%2520%257C%2520%25E3%2583%258A%25E3%2583%258E&utmhid=488036895&utmr=0&utmp=%252Frecord%252Fhttp%253A%252F%252Fnanos.jp%252Fakanbe%252Fpage%252F5%252F&utmht=1382750809575&utmac=UA-30526335-1&utmcc=__utma%253D268623735.558713552.1380599647.1382632045.1382747498.16%253B%252B__utmz%253D268623735.1380599647.1.1.utmcsr%253Darchive.org%257Cutmccn%253D(referral)%257Cutmcmd%253Dreferral%257Cutmcct%253D%252Findex.php%253B&utmu=q~      1\n",
       "http://dor.ga.gov/ptd/adm/images/Header_r1_c1.jpg                                                                                                                                                                                                                                                                                                                                                                                                                                                                                                                                                                                                        1\n",
       "http://kaori-kias.cocolog-nifty.com/blog_otome/images/2008/05/01/default_2.jpg                                                                                                                                                                                                                                                                                                                                                                                                                                                                                                                                                                           1\n",
       "http://friendfeed.com/static/html/ping.txt?action=revive&token=209123909352&prev=E-security_error&host=4894&lpi=9                                                                                                                                                                                                                                                                                                                                                                                                                                                                                                                                        1\n",
       "http://www.cufc.co.uk/buttons/butmasml.jpg                                                                                                                                                                                                                                                                                                                                                                                                                                                                                                                                                                                                               1\n",
       "http://i1.squidoocdn.com/resize_smart/squidoo_images/60/60/lens19138028_1329649140a__aa.jpg                                                                                                                                                                                                                                                                                                                                                                                                                                                                                                                                                              1\n",
       "http://www.gerio.co.kr/shop/data/goods/1226388278s0.jpg                                                                                                                                                                                                                                                                                                                                                                                                                                                                                                                                                                                                  1\n",
       "http://thumbs5.img.xvideos.com/loading/thumbs/b/6/e/b6e4799651ca825a6240de583c2fa670.10.jpg                                                                                                                                                                                                                                                                                                                                                                                                                                                                                                                                                              1\n",
       "http://img.cityheaven.net/img/girls/q/embrace/grdr0000037716_0010558827pc.jpg                                                                                                                                                                                                                                                                                                                                                                                                                                                                                                                                                                            1\n",
       "http://www.svd.se/multimedia/dynamic/00275/sportlov_skidbacke__275795e.jpg                                                                                                                                                                                                                                                                                                                                                                                                                                                                                                                                                                               1\n",
       "http://subeta.net/hover_item.php?name=_wb_logo&ajax=true                                                                                                                                                                                                                                                                                                                                                                                                                                                                                                                                                                                                 1\n",
       "http://www.toptorrents.org/                                                                                                                                                                                                                                                                                                                                                                                                                                                                                                                                                                                                                              1\n",
       "http://www.imi.gov.my/images/picPegawai/DalamNegara/latest161012/PBC.JPG                                                                                                                                                                                                                                                                                                                                                                                                                                                                                                                                                                                 1\n",
       "http://www.satingirlslive.com/original_files/satin_mac_copy2_r2_c1.jpg                                                                                                                                                                                                                                                                                                                                                                                                                                                                                                                                                                                   1\n",
       "http://www.roslynoxley9.com.au/bin/images/logos/ozemail.homepage.gif                                                                                                                                                                                                                                                                                                                                                                                                                                                                                                                                                                                     1\n",
       "http://store.storeimages.cdn-apple.com/7011/as-images.apple.com/is/image/AppleInc/2012-ipod-overview-applecare?wid=109&hei=126&fmt=png-alpha&qlt=95&.v=1350427098399                                                                                                                                                                                                                                                                                                                                                                                                                                                                                     1\n",
       "http://expatsdiary.files.wordpress.com/2011/01/huetten.jpg?w=600&h=337                                                                                                                                                                                                                                                                                                                                                                                                                                                                                                                                                                                   1\n",
       "http://us.st11.yimg.com/store1.yimg.com/I/patsplace_1889_5096938                                                                                                                                                                                                                                                                                                                                                                                                                                                                                                                                                                                         1\n",
       "http://www.geocities.com/TimesSquare/Realm/4796/memb.jpg                                                                                                                                                                                                                                                                                                                                                                                                                                                                                                                                                                                                 1\n",
       "http://friendfeed.com/static/html/ping.txt?action=revive&token=209123909352&prev=E-security_error&host=639&lpi=25                                                                                                                                                                                                                                                                                                                                                                                                                                                                                                                                        1\n",
       "http://xsweb.xs-pro.co.uk/wp-content/themes/gfxmedia/css/slidercss.css                                                                                                                                                                                                                                                                                                                                                                                                                                                                                                                                                                                   1\n",
       "http://www.klkopio.fi/kuvat/o_monipuolisin.gif                                                                                                                                                                                                                                                                                                                                                                                                                                                                                                                                                                                                           1\n",
       "http://sim-lim.ru/published/publicdata/SHOPDB/attachments/SC/products_pictures/20ST168_thm.JPG                                                                                                                                                                                                                                                                                                                                                                                                                                                                                                                                                           1\n",
       "http://strassenbahnhagen.de/Bilder%2520Hausemann%2520&%2520Mager/Thumbnails/219_tm.jpg                                                                                                                                                                                                                                                                                                                                                                                                                                                                                                                                                                   1\n",
       "http://sites.google.com/site/kspacesopen/_/rsrc/1303515521000/system/app/css/overlay.css?cb=microblueprint1a90%252593150goog-ws-leftnonemiddlestandard                                                                                                                                                                                                                                                                                                                                                                                                                                                                                                   1\n",
       "http://voila.net/natureloisir/piscine1.jpg                                                                                                                                                                                                                                                                                                                                                                                                                                                                                                                                                                                                               1\n",
       "http://couponok.com/img.aspx?q=L3MkWGAkYGp0AmL5ZmHjZGN4ZQH5AQH5ZmLyZwMaWGAkZwRmZvHlAzHyZ3S1M2qwWGV1Z24yZwHlplHlAGWmnaWiYz5ypUI2nKVhLzI0WGV1ZaAdpz8yZwHlpmVjZGNkZQVkZQLkZGV5pTMsWGV1ZaA1M2qwWGV1Z24yZwHlplHlAGWmpTW                                                                                                                                                                                                                                                                                                                                                                                                                                       1\n",
       "http://www.digimonpets.xpg.com.br/css/style.php                                                                                                                                                                                                                                                                                                                                                                                                                                                                                                                                                                                                          1\n",
       "Name: url, Length: 959130, dtype: int64"
      ]
     },
     "execution_count": 9,
     "metadata": {},
     "output_type": "execute_result"
    }
   ],
   "source": [
    "df.url.value_counts()"
   ]
  },
  {
   "cell_type": "markdown",
   "metadata": {},
   "source": [
    "More soon ..."
   ]
  },
  {
   "cell_type": "code",
   "execution_count": null,
   "metadata": {},
   "outputs": [],
   "source": []
  }
 ],
 "metadata": {
  "kernelspec": {
   "display_name": "Python 3",
   "language": "python",
   "name": "python3"
  },
  "language_info": {
   "codemirror_mode": {
    "name": "ipython",
    "version": 3
   },
   "file_extension": ".py",
   "mimetype": "text/x-python",
   "name": "python",
   "nbconvert_exporter": "python",
   "pygments_lexer": "ipython3",
   "version": "3.7.3"
  }
 },
 "nbformat": 4,
 "nbformat_minor": 2
}
