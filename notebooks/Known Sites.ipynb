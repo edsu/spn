{
 "cells": [
  {
   "cell_type": "markdown",
   "metadata": {},
   "source": [
    "# Known Sites\n",
    "\n",
    "It might be interesting to get a sense of what is being archived at some known sites. For example newspapers like the New York Times or social media sites like Twitter. We can use spark to filter through all our URLs and pull ones out that match a particular pattern."
   ]
  },
  {
   "cell_type": "code",
   "execution_count": 1,
   "metadata": {},
   "outputs": [],
   "source": [
    "import sys\n",
    "\n",
    "sys.path.append('../utils')\n",
    "from warc_spark import init\n",
    "\n",
    "sc, sqlc = init()\n",
    "urls = sqlc.read.csv('results/urls', header=True)"
   ]
  },
  {
   "cell_type": "markdown",
   "metadata": {},
   "source": [
    "First lets add a norm_url column to our DataFrame which contains a normalized form of the original URL. This will remove tracking URL parameters and things that otherwise would make matching hard (http vs https, www, etc)."
   ]
  },
  {
   "cell_type": "code",
   "execution_count": 2,
   "metadata": {},
   "outputs": [],
   "source": [
    "from urllib.parse import urlparse\n",
    "from pyspark.sql.functions import udf\n",
    "from pyspark.sql.types import StringType\n",
    "\n",
    "def norm_url(url):\n",
    "    \"\"\"\n",
    "    Normalizes a URL by stripping protocol, www, query string and hash fragment.\n",
    "    \"\"\"\n",
    "    u = urlparse(url)\n",
    "    host = u.netloc.lstrip('www.')\n",
    "    \n",
    "    # keep youtube video urls that use the query string\n",
    "    if 'youtube.com' in host:\n",
    "        return ''.join([host, u.path, '?', u.query])\n",
    "    else:\n",
    "        return ''.join([host, u.path])\n",
    "\n",
    "# turn norm_url into a user defined function (udf) for spark\n",
    "norm_url = udf(norm_url, StringType())\n",
    "\n",
    "# create a new column (norm_url) using the udf\n",
    "urls = urls.withColumn('norm_url', norm_url(urls.url))"
   ]
  },
  {
   "cell_type": "markdown",
   "metadata": {},
   "source": [
    "## New York Times"
   ]
  },
  {
   "cell_type": "code",
   "execution_count": 3,
   "metadata": {},
   "outputs": [
    {
     "data": {
      "text/plain": [
       "[Row(url='nytimes.com/', total=174),\n",
       " Row(url='nytimes.com/1990/08/12/movies/film-sure-he-s-king-but-he-comes-from-las-vegas.html', total=83),\n",
       " Row(url='nytimes.com/2017/10/24/business/senate-vote-wall-street-regulation.html', total=56),\n",
       " Row(url='nytimes.com/2018/10/21/business/what-comes-after-the-roomba.html', total=41),\n",
       " Row(url='nytimes.com/2018/10/24/us/politics/trump-phone-security.html', total=40)]"
      ]
     },
     "execution_count": 3,
     "metadata": {},
     "output_type": "execute_result"
    }
   ],
   "source": [
    "urls.createOrReplaceTempView('urls')\n",
    "\n",
    "sql = '''\n",
    "      SELECT norm_url AS url, COUNT(norm_url) AS total\n",
    "      FROM urls\n",
    "      WHERE norm_url LIKE \"nytimes.com/%\"\n",
    "      GROUP BY norm_url\n",
    "      ORDER BY total DESC\n",
    "      '''\n",
    "\n",
    "nyt = sqlc.sql(sql)\n",
    "nyt.take(5)"
   ]
  },
  {
   "cell_type": "markdown",
   "metadata": {},
   "source": [
    "## Generalize\n",
    "\n",
    "For convenience it would be useful to have a function that will do this with any URL pattern, and will also go and attempt to get the title of the page.\n",
    "\n",
    "First lets create the function that goes and gets a page from the web. It will return the url, title and text of the page. We will use [requests](https://2.python-requests.org/en/master/) to fetch the page, [readability](https://github.com/buriy/python-readability) to extract the main content of the page from its boilerplate, and [bleach](https://github.com/mozilla/bleach) to remove all the HTML tags."
   ]
  },
  {
   "cell_type": "code",
   "execution_count": 18,
   "metadata": {},
   "outputs": [
    {
     "data": {
      "text/plain": [
       "{'url': 'https://www.nytimes.com/interactive/2019/06/14/opinion/bluetooth-wireless-tracking-privacy.html',\n",
       " 'title': 'Opinion | In Stores, Secret Bluetooth Surveillance Tracks Your Every Move - The New York Times',\n",
       " 'text': \" Imagine you are shopping in your favorite grocery store. As you approach the dairy aisle, you are sent a push notification in your phone: “10 percent off your favorite yogurt! Click here to redeem your coupon.” You considered buying yogurt on your last trip to the store, but you decided against it. How did your phone know? Your smartphone was tracking you. The grocery store got your location data and paid a shadowy group of marketers to use that information to target you with ads. Recent reports have noted how companies use data gathered from cell towers, ambient Wi-Fi, and GPS. But the location data industry has a much more precise, and unobtrusive, tool: Bluetooth beacons. These beacons are small, inobtrusive electronic devices that are hidden throughout the grocery store; an app on your phone that communicates with them informed the company not only that you had entered the building, but that you had lingered for two minutes in front of the low-fat Chobanis. Low location accuracy Widely used Accurate to around 5 meters Accurate within centimeters Most location services use cell towers and GPS, but these technologies have limitations. Cell towers have wide coverage, but low location accuracy: An advertiser can think you are in Walgreens, but you’re actually in McDonald’s next door. GPS, by contrast, can be accurate to a radius of around five meters (16 feet), but it does not work well indoors. Bluetooth beacons, however, can track your location accurately from a range of inches to about 50 meters. They use little energy, and they work well indoors. That has made them popular among companies that want precise tracking inside a store. The beacons are like little lighthouses that emit one-way messages to nearby devices. Those signals can be detected by apps on your phone, which can use your phone’s operating system to scan for nearby beacons. If a beacon is detected, it can notify the app, even if the app is closed. Once the app recognizes the beacon, it sends information (like the products you walked by or the departments you’re lingering in) back to a company’s server. Foot traffic information can reveal personal details such as your income and exercise habits. When paired with other information about you, companies can build a rich profile of who you are, where you are, and what you buy — all without your knowledge. The app can be prompted to display ads for products you seem likely to buy. It can send you a coupon after you leave, urging you to come back — a practice called “retargeting.” Most people aren’t aware they are being watched with beacons, but the “beacosystem” tracks millions of people every day. Beacons are placed at airports, malls, subways, buses, taxis, sporting arenas, gyms, hotels, hospitals, music festivals, cinemas and museums, and even on billboards. In order to track you or trigger an action like a coupon or message to your phone, companies need you to install an app on your phone that will recognize the beacon in the store. Retailers (like Target and Walmart) that use Bluetooth beacons typically build tracking into their own apps. But retailers want to make sure most of their customers can be tracked — not just the ones that download their own particular app. So a hidden industry of third-party location-marketing firms has proliferated in response. These companies take their beacon tracking code and bundle it into a toolkit developers can use. The makers of many popular apps, such as those for news or weather updates, insert these toolkits into their apps. They might be paid by the beacon companies or receive other benefits, like detailed reports on their users. Location data companies often collect additional data provided by apps. A location company called Pulsate, for example, encourages app developers to pass them customer email addresses and names. Companies like Reveal Mobile collect data from software development kits inside hundreds of frequently used apps. In the United States, another company, inMarket, covers 38 percent of millennial moms and about one-quarter of all smartphones, and tracks 50 million people each month. Other players have similar reach. Location data companies have other disturbing tricks up their sleeve. For example, inMarket developed “mindset targeting” techniques that predict when individuals are most receptive to ads. These techniques are based on statistical probabilities calculated through millions of observations of human behavior. Brands like Hellman’s, Heineken and Hillshire Farms have used these technologies to drive product campaigns. A Software Development Kit is code that's inserted into an app and enables certain features, like activating your phone's Bluetooth sensor. Location data companies create S.D.K.s and developers insert them into their apps, creating a conduit for recording and storing your movement data. Location marketing aims to understand “online-offline attribution.” If a Starbucks coffee ad is sent to your email, for example, marketers want to know if you actually went there and bought a coffee. The only way to know is to monitor your online and offline habits at all times. Beacons are also being used for smart cities initiatives. The location company Gimbal provided beacons for LinkNYC kiosks that provoked privacy concerns about tracking passers-by. Beacon initiatives have been started in other cities, including Amsterdam (in partnership with Google), London and Norwich. Familiar tech giants are also players in the beacosystem. In 2015, Facebook began shipping free Facebook Bluetooth beacons to businesses for location marketing inside the Facebook app. Leaked documents show that Facebook worried that users would “freak out” and spread “negative memes” about the program. The company recently removed the Facebook Bluetooth beacons section from their website. Not to be left out, in 2017, Google introduced Project Beacon and began sending beacons to businesses for use with Google Ads services. Google uses the beacons to send the businesses’ visitors notifications that ask them to leave photos and reviews, among other features. And last year, investigators at Quartz found that Google Android can track you using Bluetooth beacons even when you turn Bluetooth off in your phone. For years, Apple and Google have allowed companies to bury surveillance features inside the apps offered in their app stores. And both companies conduct their own beacon surveillance through iOS and Android. It should not be lost on the public that Apple created the first Bluetooth system of commercial surveillance. Apple’s chief executive, Tim Cook, recently wagged his finger at the “data-industrial complex.” Unlike other tech giants that monetize surveillance, Apple relies upon hardware sales, he said. But Mr. Cook knew what Apple was creating with iBeacon in 2013. Apple’s own website explains to developers how they can use iBeacon to micro-target consumers in stores. Companies collecting micro-location data defend the practice by arguing that users can opt out of location services. They maintain that consumers embrace targeted ads because they’re more relevant. Industry players further claim that data is anonymized through techniques that mask the identification of users. Your data may be stored as “ID-67aGb9ac72r” instead of “Jane Doe.” Yet studies have shown that it is relatively easy to deanonymize mobility data. Moreover, the process of “informed consent” fails to protect user privacy. As The Times noted in an investigation into smartphone location tracking, “The explanations people see when prompted to give permission are often incomplete or misleading.” For informed consent using beacons, you have to first know that the beacons exist. Then, you have to know which places use them, but venues and stores don’t put up signs or inform their customers. You can download an app like Beacon Scanner and scan for beacons when you enter a store. But even if you detect the beacons, you don’t know who is collecting the data. Let’s say you visit Target; it might be collecting data from you, but it might rent its beacons out to other businesses, allowing them to monitor your location. Moreover, some beacons are not secured, so third parties can “piggyback” off public beacons and use them to collect your location. There is no way to know if a store has secured its beacons. Apple and Google could be tracking you through iOS and Android, but they don’t make their Bluetooth beacon collection methods transparent. There is no easy way to determine which apps on your phone have the beacon location tracking built in. Even if you did know which companies have access to your beacon data, there’s no way to know what kind of data is collected through the app. It could be your micro-location, dwell time or foot traffic, but it can also include data from the app, such as your name, and your app data can be combined with other data sets compiled about you by data brokers. There is simply no transparency. To protect yourself from beacons in the short term, you can delete any apps that may be spying on you — including apps from retailers — and shut off location services and Bluetooth where they are not needed. You can also follow The Times’s guide on how to stop apps from tracking your location. For Android users, the F-Droid app store hosts free and open- source apps that do not spy on users with hidden trackers. Most of our concerns about privacy are tied to the online world, and can feel theoretical at times. But there is nothing theoretical about Bluetooth beacon technology that follows you into retail stores (and other venues) and tracks your movement down to the meter. Michael Kwet is a visiting fellow at the Information Society Project at Yale Law School, and host of the Tech Empire podcast. Follow The New York Times Opinion section on Facebook, Twitter (@NYTopinion) and Instagram. \"}"
      ]
     },
     "execution_count": 18,
     "metadata": {},
     "output_type": "execute_result"
    }
   ],
   "source": [
    "import re\n",
    "import bleach\n",
    "import requests\n",
    "import readability\n",
    "\n",
    "def get_page(url):\n",
    "    resp = requests.get(url)\n",
    "    result = {'url': url, 'title': '', 'text': ''}\n",
    "    if resp.status_code != 200:\n",
    "        return result\n",
    "    \n",
    "    html = resp.text   \n",
    "    doc = readability.Document(resp.text)\n",
    "    result['title'] = doc.title()\n",
    "    text = doc.summary(html_partial=True)\n",
    "    text = bleach.clean(text, tags=[], strip=True)\n",
    "    text = re.sub('  +', ' ', text)\n",
    "    result['text'] = re.sub('\\s\\s+', ' ', text)\n",
    "    \n",
    "    return result\n",
    "\n",
    "get_page('https://www.nytimes.com/interactive/2019/06/14/opinion/bluetooth-wireless-tracking-privacy.html')"
   ]
  },
  {
   "cell_type": "markdown",
   "metadata": {},
   "source": [
    "Now we just need a function that takes a pattern to apply to the normalized URLs and a number of results to return, and will go and do the query and return the results."
   ]
  },
  {
   "cell_type": "code",
   "execution_count": 11,
   "metadata": {},
   "outputs": [],
   "source": [
    "def pages(pattern, n=5):\n",
    "    # sql injection anyone?\n",
    "    sql = '''\n",
    "      SELECT norm_url AS url, COUNT(norm_url) AS total\n",
    "      FROM urls\n",
    "      WHERE norm_url RLIKE \"{}\"\n",
    "      GROUP BY norm_url\n",
    "      ORDER BY total DESC\n",
    "      LIMIT {}\n",
    "      '''.format(pattern, n)\n",
    "    \n",
    "    page_list = []\n",
    "    for r in sqlc.sql(sql).collect():\n",
    "        page = get_page('https://' + r.url)\n",
    "        page['count'] = r.total\n",
    "        page_list.append(page)\n",
    "    \n",
    "    return page_list"
   ]
  },
  {
   "cell_type": "markdown",
   "metadata": {},
   "source": [
    "Now we can test it out on the New York Times again. This time it will print the top 10 New York Times pages archived with their count, the url and the title."
   ]
  },
  {
   "cell_type": "code",
   "execution_count": 12,
   "metadata": {},
   "outputs": [
    {
     "name": "stdout",
     "output_type": "stream",
     "text": [
      "83 https://nytimes.com/1990/08/12/movies/film-sure-he-s-king-but-he-comes-from-las-vegas.html FILM; Sure He's King, But He Comes From Las Vegas - The New York Times\n",
      "56 https://nytimes.com/2017/10/24/business/senate-vote-wall-street-regulation.html Consumer Bureau Loses Fight to Allow More Class-Action Suits - The New York Times\n",
      "41 https://nytimes.com/2018/10/21/business/what-comes-after-the-roomba.html What Comes After the Roomba? - The New York Times\n",
      "40 https://nytimes.com/2018/10/24/us/politics/trump-phone-security.html When Trump Phones Friends, the Chinese and the Russians Listen and Learn - The New York Times\n",
      "39 https://nytimes.com/2018/10/24/us/fbi-white-nationalist-robert-paul-rundo-rise-above.html F.B.I. Arrests White Nationalist Leader Who Fled the Country for Central America - The New York Times\n",
      "36 https://nytimes.com/2018/10/24/nyregion/clinton-obama-explosive-device.html Hillary Clinton, Barack Obama and CNN Offices Are Sent Pipe Bombs - The New York Times\n",
      "35 https://nytimes.com/video/us/100000005473328/las-vegas-shooting-timeline-12-bursts.html 10 Minutes. 12 Gunfire Bursts. 30 Videos. Mapping the Las Vegas Massacre. - Video - NYTimes.com\n",
      "32 https://nytimes.com/2018/10/25/technology/google-sexual-harassment-andy-rubin.html How Google Protected Andy Rubin, the ‘Father of Android’ - The New York Times\n",
      "30 https://nytimes.com/interactive/2018/10/11/nyregion/sex-workers-massage-parlor.html The Case of Jane Doe Ponytail - The New York Times\n",
      "29 https://nytimes.com/interactive/2018/10/24/magazine/candy-world-favorite.html 33 Unique Treats From All Around the World - The New York Times\n"
     ]
    }
   ],
   "source": [
    "for page in pages('^nytimes.com/.+', 10):\n",
    "    print(page['count'], page['url'], page['title'])"
   ]
  },
  {
   "cell_type": "markdown",
   "metadata": {},
   "source": [
    "## Twitter"
   ]
  },
  {
   "cell_type": "code",
   "execution_count": 27,
   "metadata": {},
   "outputs": [
    {
     "name": "stdout",
     "output_type": "stream",
     "text": [
      "1115 https://twitter.com/search Twitter Search\n",
      "578 https://twitter.com/hechaocheng 阿城守候 (@hechaocheng) | Twitter\n",
      "334 https://twitter.com/intent/tweet Post a Tweet on Twitter\n",
      "296 https://twitter.com/login Login on Twitter\n",
      "200 https://twitter.com/undefined Twitter / Account Suspended\n",
      "192 https://twitter.com/ Twitter. It's what's happening.\n",
      "116 https://twitter.com/stillgray Ian Miles Cheong (@stillgray) | Twitter\n",
      "113 https://twitter.com/noriko_tkgs 塚越慎子 Noriko Tsukagoshi official (@noriko_tkgs) | Twitter\n",
      "108 https://twitter.com/tekumakumayucon 山口真由子 (@tekumakumayucon) | Twitter\n",
      "99 https://twitter.com/SmugZebra \n",
      "98 https://twitter.com/robertbland14/status/942159533291446272 Twitter / Account Suspended\n",
      "92 https://twitter.com/stillgray/status/922916100878172160 Ian Miles Cheong on Twitter: \"A Yale humanities student says she accidentally got her illegal alien father detained by ICE. https://t.co/2jvugHDcOQ\"\n",
      "91 https://twitter.com/_jacketchan_ jackie chan (@_jacketchan_) | Twitter\n",
      "91 https://twitter.com/CDisillusion Captain Disillusion (@CDisillusion) | Twitter\n",
      "91 https://twitter.com/Vuralol VuraLMAO🐧 (@Vuralol) | Twitter\n",
      "88 https://twitter.com/ravenokamura raven (@ravenokamura) | Twitter\n",
      "87 https://twitter.com/Bz_Hive Bee (@Bz_Hive) | Twitter\n",
      "85 https://twitter.com/DineshDSouza/status/966078572321562625 Dinesh D'Souza on Twitter: \"Worst news since their parents told them to get summer jobs… \"\n",
      "84 https://twitter.com/_cynthiaaileen 🥀 (@_cynthiaaileen) | Twitter\n",
      "82 https://twitter.com/zramosx3 𝚉 𝙾 𝙴 𝚈 ❥ (@zramosx3) | Twitter\n",
      "79 https://twitter.com/TitaniaMcGrath Titania McGrath (@TitaniaMcGrath) | Twitter\n",
      "68 https://twitter.com/account/suspended Twitter / Account Suspended\n",
      "62 https://twitter.com/andrejpwalker/status/922628584619085824 \n",
      "58 https://twitter.com/rxhmxo/status/1054539811346771969 Ara🐳 on Twitter: \"awkarin bilang kalo instagram setoxic itu. well, gue juga kdg ngerasa jenuh bgt si buka ig.. karena kdg2 dari ig gue harus ngeliat apa yg bisa bikin gue down. dr mulai isi snapgram org, atau mungkin post yg melintas di explore. hmm\"\n",
      "57 https://twitter.com/i/moments Today - Twitter Moments\n",
      "53 https://twitter.com/IainLJBrown Iain Brown, PhD (@IainLJBrown) | Twitter\n",
      "52 https://twitter.com/TitaniaMcGrath/status/1055205594347368448 \n",
      "51 https://twitter.com/alanmayers/status/1034091370124902400/ Alan Mayers on Twitter: \"I can just about take the Parliament website not being BBC One Sunday night prime time protagonist's preferred choice for voting records, but not showing up on the first page of Google? Savage.… https://t.co/Hh7oDVm8pM\"\n",
      "50 https://twitter.com/stillgray/status/923125217102249985 Ian Miles Cheong on Twitter: \"Happy birthday Madam President.… \"\n",
      "49 https://twitter.com/i/live/768633364911788032 NFL Thursday Night Football\n",
      "49 https://twitter.com/stillgray/status/923077500195835904 Ian Miles Cheong on Twitter: \"Why would anyone want to play an \"average\" shlub? No one wants to be Anthony Burch.\"\n",
      "48 https://twitter.com/vinegar \n",
      "47 https://twitter.com/ssnowphia sophia (@ssnowphia) | Twitter\n",
      "46 https://twitter.com/scrowder Steven Crowder (@scrowder) | Twitter\n",
      "46 https://twitter.com/HNA_online HNA-online (@HNA_online) | Twitter\n",
      "44 https://twitter.com/doubting_thomas/status/1055029654560489472 慎重派トマス on Twitter: \"東京駅で「構内で無理矢理名刺交換している人、警察に通報しますよ」と殺気立ったアナウンス。 何事かと調べたら 【新人研修と嘘こいて名刺交換】 →個人情報ゲット →架空請求や投資マンション詐欺に という流れで、まさに「善意に漬け込むクズ」 駅員さんも殺気立つ訳だ。\"\n",
      "44 https://twitter.com/cnnbrk CNN Breaking News (@cnnbrk) | Twitter\n",
      "44 https://twitter.com/alanmayers Alan Mayers (@alanmayers) | Twitter\n",
      "43 https://twitter.com/stillgray/status/923113854233489408 Ian Miles Cheong on Twitter: \"Hoax.… \"\n",
      "43 https://twitter.com/stillgray/status/923111914556682240 Ian Miles Cheong on Twitter: \"I don't like respecting people at the barrel of a gun. It doesn't seem like it matters, but when you give them an inch, they take a mile.… https://t.co/VPbuoeIuat\"\n",
      "43 https://twitter.com/topmailru/status/605742757886443520 Top.Mail.Ru on Twitter: \"Ещё один новый отчет с уникальными данными: процент пользователей сервиса с высшим образованием.\"\n",
      "43 https://twitter.com/stillgray/status/923076226050244609 Ian Miles Cheong on Twitter: \"How does anyone even take Anthony Burch seriously? Having named characters with histories for player characters is now \"subversive.\" Okay.… https://t.co/zjAv5M6x5O\"\n",
      "43 https://twitter.com/stillgray/status/922990020289470464 Ian Miles Cheong on Twitter: \"Nobody called anyone an ignorant slut.\"\n",
      "43 https://twitter.com/stillgray/status/923111226351087618 Ian Miles Cheong on Twitter: \"Perez Hilton and Tariq Nasheed should be sent off to sea on a raft with no food so they're forced to eat each other.… https://t.co/GVXhEP0tTA\"\n",
      "43 https://twitter.com/stillgray/status/923112257453621249 Ian Miles Cheong on Twitter: \"Not cultural appropriation apparently. I think it's fine for her to do that, just as I think it's fine if a white guy does that to black art… https://t.co/isASghmET0\"\n",
      "42 https://twitter.com/stillgray/status/923110994750029824 Ian Miles Cheong on Twitter: \"It's a cool costume.… \"\n",
      "41 https://twitter.com/stillgray/status/923075186512953344 Ian Miles Cheong on Twitter: \"I may not be special, but at least I'm not Anthony Burch.… \"\n",
      "40 https://twitter.com/stillgray/status/923073265010057216 Ian Miles Cheong on Twitter: \"What could he have done, anyway? Pissed on the bed Trump slept in and taken photos for Steele to use as proof?… \"\n",
      "40 https://twitter.com/stillgray/status/923074598060486656 Ian Miles Cheong on Twitter: \"The thirst is real.… \"\n",
      "40 https://twitter.com/stillgray/status/923074517928308737 Ian Miles Cheong on Twitter: \"Reminds me a lot of aguyuno's interactions with Shanley. \"Is this even legal? Being this cute, I mean.\"… \"\n"
     ]
    }
   ],
   "source": [
    "for page in pages(r'^twitter.com/', 50):\n",
    "    print(page['count'], page['url'], page['title'])"
   ]
  },
  {
   "cell_type": "code",
   "execution_count": null,
   "metadata": {},
   "outputs": [],
   "source": []
  }
 ],
 "metadata": {
  "kernelspec": {
   "display_name": "Python 3",
   "language": "python",
   "name": "python3"
  },
  "language_info": {
   "codemirror_mode": {
    "name": "ipython",
    "version": 3
   },
   "file_extension": ".py",
   "mimetype": "text/x-python",
   "name": "python",
   "nbconvert_exporter": "python",
   "pygments_lexer": "ipython3",
   "version": "3.7.3"
  }
 },
 "nbformat": 4,
 "nbformat_minor": 2
}
