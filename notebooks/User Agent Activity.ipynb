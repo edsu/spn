{
 "cells": [
  {
   "cell_type": "markdown",
   "metadata": {},
   "source": [
    "# User Agent Activity\n",
    "\n",
    "This notebook is some noodling around to try to get a sense of what hosts various User-Agents are archiving in SavePageNow. We're going to use Spark to do it."
   ]
  },
  {
   "cell_type": "code",
   "execution_count": 1,
   "metadata": {},
   "outputs": [],
   "source": [
    "import sys\n",
    "sys.path.append('../utils')\n",
    "\n",
    "from warc_spark import init, extractor\n",
    "\n",
    "sc, sqlc = init()"
   ]
  },
  {
   "cell_type": "markdown",
   "metadata": {},
   "source": [
    "Get some SavePageNow WARCs to analyze."
   ]
  },
  {
   "cell_type": "code",
   "execution_count": 2,
   "metadata": {},
   "outputs": [
    {
     "data": {
      "text/plain": [
       "2"
      ]
     },
     "execution_count": 2,
     "metadata": {},
     "output_type": "execute_result"
    }
   ],
   "source": [
    "from glob import glob\n",
    "\n",
    "warc_files = glob('warcs/liveweb-*/*.warc.gz')[0:2]\n",
    "len(warc_files)"
   ]
  },
  {
   "cell_type": "markdown",
   "metadata": {},
   "source": [
    "Back in another notebook we determined all the User-Agent strings that are present and mapped them to User-Agent families. We also created a set of User-Agents that appear in the top-10 requestors for each year (2013-2018), and whether they are ostensibly a bot or not. Let's load those in, we're going to need them both."
   ]
  },
  {
   "cell_type": "code",
   "execution_count": 3,
   "metadata": {},
   "outputs": [
    {
     "name": "stdout",
     "output_type": "stream",
     "text": [
      "93842\n",
      "{'Android': False,\n",
      " 'BingPreview': False,\n",
      " 'Chrome': False,\n",
      " 'Chrome Mobile': False,\n",
      " 'Chrome Mobile WebView': False,\n",
      " 'Firefox': False,\n",
      " 'Firefox Mobile': False,\n",
      " 'IE': False,\n",
      " 'Mobile Safari': False,\n",
      " 'Mozilla': False,\n",
      " 'OpenBSD ftp': False,\n",
      " 'Opera': False,\n",
      " 'Python Requests': False,\n",
      " 'Safari': False,\n",
      " 'UptimeRobot': True,\n",
      " 'Wget': True,\n",
      " 'archive.org_bot': True,\n",
      " 'curl': True,\n",
      " 'okhttp': True}\n"
     ]
    }
   ],
   "source": [
    "import json\n",
    "from pprint import pprint\n",
    "\n",
    "ua_families = json.load(open('results/ua-families.json'))\n",
    "top_uas = json.load(open('results/top-uas.json'))\n",
    "\n",
    "print(len(ua_families))\n",
    "pprint(top_uas)"
   ]
  },
  {
   "cell_type": "markdown",
   "metadata": {},
   "source": [
    "Ok, let's write an extractor function that will return a tuple of User-Agent family to whether it is a bot or not. Note this will favor false negative identification of bots, since we only classified the top-10 User-Agents per year. But this amounts for the vast majority (todo: how much % wise) of the requests. "
   ]
  },
  {
   "cell_type": "code",
   "execution_count": 4,
   "metadata": {},
   "outputs": [],
   "source": [
    "@extractor\n",
    "def ua_host(rec):\n",
    "    if rec.rec_type == 'request':\n",
    "        ua = rec.http_headers.get('user-agent', '')\n",
    "        host = rec.http_headers.get('host', '')\n",
    "        yield (ua, host)"
   ]
  },
  {
   "cell_type": "markdown",
   "metadata": {},
   "source": [
    "Now let's run it!"
   ]
  },
  {
   "cell_type": "code",
   "execution_count": 5,
   "metadata": {},
   "outputs": [],
   "source": [
    "warcs = sc.parallelize(warc_files)\n",
    "output = warcs.mapPartitions(ua_host)\n",
    "df = output.toDF()"
   ]
  },
  {
   "cell_type": "code",
   "execution_count": 8,
   "metadata": {},
   "outputs": [
    {
     "name": "stdout",
     "output_type": "stream",
     "text": [
      "[Row(_1='Mozilla/5.0 (compatible; archive.org_bot; Wayback Machine Live Record; +http://archive.org/details/archive.org_bot)', _2='img131.hotlinkimage.com')]\n"
     ]
    }
   ],
   "source": [
    "print(df.head(1))"
   ]
  },
  {
   "cell_type": "code",
   "execution_count": null,
   "metadata": {},
   "outputs": [],
   "source": []
  },
  {
   "cell_type": "code",
   "execution_count": null,
   "metadata": {},
   "outputs": [],
   "source": []
  }
 ],
 "metadata": {
  "kernelspec": {
   "display_name": "Python 3",
   "language": "python",
   "name": "python3"
  },
  "language_info": {
   "codemirror_mode": {
    "name": "ipython",
    "version": 3
   },
   "file_extension": ".py",
   "mimetype": "text/x-python",
   "name": "python",
   "nbconvert_exporter": "python",
   "pygments_lexer": "ipython3",
   "version": "3.7.3"
  }
 },
 "nbformat": 4,
 "nbformat_minor": 2
}
