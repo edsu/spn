{
 "cells": [
  {
   "cell_type": "markdown",
   "metadata": {},
   "source": [
    "# Sample\n",
    "\n",
    "This notebook can be used to sample WARC files from the liveweb collection, which corresponds to web archives created by Internet Archive's Save Page Now. This collection is ordinarily not public for privacy reasons, but Internet Archive do grant researchers access to their WARC collections on request."
   ]
  },
  {
   "cell_type": "code",
   "execution_count": 1,
   "metadata": {},
   "outputs": [],
   "source": [
    "import os\n",
    "import re\n",
    "import json\n",
    "import time\n",
    "import internetarchive as ia"
   ]
  },
  {
   "cell_type": "markdown",
   "metadata": {},
   "source": [
    "It will be important to know the total size of each item we are going to download for diagnostic purposes. This can only be obtained by fetching the item metadata from the Internet Archive API. Given an `item_id` this function will return the date, and size for each item."
   ]
  },
  {
   "cell_type": "code",
   "execution_count": 6,
   "metadata": {},
   "outputs": [],
   "source": [
    "def item_summary(item_id):\n",
    "    print(\"summarizing %s\" % item_id)\n",
    "    \n",
    "    # IA's api can thrown errors so try 10 times before failing\n",
    "    tries = 0\n",
    "    while tries < 10:\n",
    "        try:\n",
    "            item = ia.get_item(item_id)\n",
    "            break\n",
    "        except Exception as e:\n",
    "            print('caught exception: %s' % e)\n",
    "            time.sleep(10)\n",
    "            tries += 1        \n",
    "\n",
    "    size = 0\n",
    "    for file in item.item_metadata.get('files', []):\n",
    "        if file['name'].endswith('arc.gz'):\n",
    "            size += int(file['size'])\n",
    "            \n",
    "    m = re.match('^.+-(\\d\\d\\d\\d)(\\d\\d)(\\d\\d)', item.item_metadata['metadata']['identifier'])\n",
    "    date = '%s-%s-%s' % m.groups()\n",
    "    \n",
    "    if 'metadata' not in item.item_metadata:\n",
    "        print('missing metadata %s' % item_id)\n",
    "        return None, None\n",
    "    \n",
    "    return date, size"
   ]
  },
  {
   "cell_type": "markdown",
   "metadata": {},
   "source": [
    "Let's try out the function on a known identifier for a liveweb item:"
   ]
  },
  {
   "cell_type": "code",
   "execution_count": 7,
   "metadata": {},
   "outputs": [
    {
     "name": "stdout",
     "output_type": "stream",
     "text": [
      "summarizing liveweb-20180608000829\n",
      "('2018-06-08', 12235011191)\n"
     ]
    }
   ],
   "source": [
    "print(item_summary('liveweb-20180608000829'))"
   ]
  },
  {
   "cell_type": "markdown",
   "metadata": {},
   "source": [
    "Now we need to build up an index of items in the liveweb collection by date. There are thousands of items to look at, so we save the result as `items.json` which will be returned immediately if it is available, unless `reindex` is set to `True`."
   ]
  },
  {
   "cell_type": "code",
   "execution_count": 1,
   "metadata": {},
   "outputs": [],
   "source": [
    "def get_index(reindex=False):\n",
    "    # look for previously computed index\n",
    "    if not reindex and os.path.isfile('results/sample.json'):\n",
    "        return json.load(open('results/sample.json'))\n",
    "    \n",
    "    item_index = {}\n",
    "    \n",
    "    for item in ia.search_items('collection:liveweb'):\n",
    "        \n",
    "        # get the date from the item identifier\n",
    "        date, size = item_summary(item['identifier'])\n",
    "        \n",
    "        if date is None:\n",
    "            continue\n",
    "        \n",
    "        if date not in item_index:\n",
    "            item_index[date] = []\n",
    " \n",
    "        item_index[date].append({'id': item['identifier'], 'size': size})\n",
    "\n",
    "    # save the index to disk\n",
    "    json.dump(item_index, open('Sample.json', 'w'), indent=2)\n",
    "    return item_index"
   ]
  },
  {
   "cell_type": "markdown",
   "metadata": {},
   "source": [
    "Ok, let's run it ... this will take a while if `Sample.json` isn't already available."
   ]
  },
  {
   "cell_type": "code",
   "execution_count": 5,
   "metadata": {},
   "outputs": [],
   "source": [
    "item_index = get_index()"
   ]
  },
  {
   "cell_type": "markdown",
   "metadata": {},
   "source": [
    "Now we can determine what days we want to sample, and download the associated WARC and CDX files. In our case we are going to get all the data for a particular day each year. We chose **October 25, 2013** because it is our best estimate of when the SPN feature went live for the public. This is based on a few pieces of information, notably:\n",
    "\n",
    "* the introduction of `'liveweb-` prefixed identifiers in the liveweb collection which happened on 2013-10-22. Previously only `live-` identifiers were used.\n",
    "* the only items being generated now in the liveweb collection have the `liveweb-` prefix.\n",
    "* the overwhelming majority of the items use the `liveweb-` identifier prefix: 28257 / 34336 = 82%. \n",
    "* a conversation in Internet Archive Slack with Mark Graham and Kenji Nagahashi about how the `liveweb-` items are what SPN creates, and that the previous two years of material were of unknown origin. Or at least Kenji couldn't remember what their provenance was.\n",
    "* the record in the wayback machine: [2013-10-24](https://web.archive.org/web/20131024095443/https://archive.org/web/) and [2013-10-25](https://web.archive.org/web/20131025143028/http://archive.org/web/) seems to indicate that the SPN feature went live on 2013-10-25, 5 days after the start of `liveweb-` prefixed identifiers.\n",
    "\n",
    "This will get a list of item identifiers that match the date and the identifier prefix. It will also keep track of how much storage will be needed to donwload them."
   ]
  },
  {
   "cell_type": "code",
   "execution_count": 7,
   "metadata": {},
   "outputs": [
    {
     "name": "stdout",
     "output_type": "stream",
     "text": [
      "There are 121 Internet Archive items to download\n",
      "The total size will be 1354.38 GB\n",
      "And here they are\n",
      "liveweb-20131025002008\n",
      "liveweb-20131025181033\n",
      "liveweb-20141025001117\n",
      "liveweb-20141025073848\n",
      "liveweb-20141025150505\n",
      "liveweb-20141025212024\n",
      "liveweb-20151025020121\n",
      "liveweb-20151025060156\n",
      "liveweb-20151025100340\n",
      "liveweb-20151025151316\n",
      "liveweb-20151025201824\n",
      "liveweb-20151025230841\n",
      "liveweb-20161025000152\n",
      "liveweb-20161025022240\n",
      "liveweb-20161025031500\n",
      "liveweb-20161025050248\n",
      "liveweb-20161025072113\n",
      "liveweb-20161025091204\n",
      "liveweb-20161025114234\n",
      "liveweb-20161025131422\n",
      "liveweb-20161025133442\n",
      "liveweb-20161025135231\n",
      "liveweb-20161025142357\n",
      "liveweb-20161025154509\n",
      "liveweb-20161025185809\n",
      "liveweb-20161025202025\n",
      "liveweb-20161025204655\n",
      "liveweb-20161025215805\n",
      "liveweb-20171025004543\n",
      "liveweb-20171025011726\n",
      "liveweb-20171025015630\n",
      "liveweb-20171025022846\n",
      "liveweb-20171025030626\n",
      "liveweb-20171025035033\n",
      "liveweb-20171025043018\n",
      "liveweb-20171025050806\n",
      "liveweb-20171025055126\n",
      "liveweb-20171025063035\n",
      "liveweb-20171025072206\n",
      "liveweb-20171025080224\n",
      "liveweb-20171025085410\n",
      "liveweb-20171025093329\n",
      "liveweb-20171025102600\n",
      "liveweb-20171025111347\n",
      "liveweb-20171025121633\n",
      "liveweb-20171025130159\n",
      "liveweb-20171025140121\n",
      "liveweb-20171025144848\n",
      "liveweb-20171025153250\n",
      "liveweb-20171025162258\n",
      "liveweb-20171025171008\n",
      "liveweb-20171025181342\n",
      "liveweb-20171025191416\n",
      "liveweb-20171025200831\n",
      "liveweb-20171025205403\n",
      "liveweb-20171025214400\n",
      "liveweb-20171025221639\n",
      "liveweb-20171025231125\n",
      "liveweb-20171025234843\n",
      "liveweb-20181025000937\n",
      "liveweb-20181025003505\n",
      "liveweb-20181025004825\n",
      "liveweb-20181025005739\n",
      "liveweb-20181025011314\n",
      "liveweb-20181025013053\n",
      "liveweb-20181025014552\n",
      "liveweb-20181025015029\n",
      "liveweb-20181025020538\n",
      "liveweb-20181025022106\n",
      "liveweb-20181025023922\n",
      "liveweb-20181025030951\n",
      "liveweb-20181025032447\n",
      "liveweb-20181025034211\n",
      "liveweb-20181025034513\n",
      "liveweb-20181025040437\n",
      "liveweb-20181025043139\n",
      "liveweb-20181025050116\n",
      "liveweb-20181025054541\n",
      "liveweb-20181025060408\n",
      "liveweb-20181025062041\n",
      "liveweb-20181025064655\n",
      "liveweb-20181025070807\n",
      "liveweb-20181025072304\n",
      "liveweb-20181025073933\n",
      "liveweb-20181025075631\n",
      "liveweb-20181025081931\n",
      "liveweb-20181025082913\n",
      "liveweb-20181025090306\n",
      "liveweb-20181025092500\n",
      "liveweb-20181025095156\n",
      "liveweb-20181025101055\n",
      "liveweb-20181025103818\n",
      "liveweb-20181025105936\n",
      "liveweb-20181025111513\n",
      "liveweb-20181025113037\n",
      "liveweb-20181025114644\n",
      "liveweb-20181025120942\n",
      "liveweb-20181025122647\n",
      "liveweb-20181025125225\n",
      "liveweb-20181025131830\n",
      "liveweb-20181025134309\n",
      "liveweb-20181025135840\n",
      "liveweb-20181025141938\n",
      "liveweb-20181025150144\n",
      "liveweb-20181025153704\n",
      "liveweb-20181025160128\n",
      "liveweb-20181025161722\n",
      "liveweb-20181025163421\n",
      "liveweb-20181025164823\n",
      "liveweb-20181025165702\n",
      "liveweb-20181025170957\n",
      "liveweb-20181025172057\n",
      "liveweb-20181025173603\n",
      "liveweb-20181025174527\n",
      "liveweb-20181025175734\n",
      "liveweb-20181025181921\n",
      "liveweb-20181025185922\n",
      "liveweb-20181025194523\n",
      "liveweb-20181025212424\n",
      "liveweb-20181025224655\n",
      "liveweb-20181025233542\n"
     ]
    }
   ],
   "source": [
    "item_ids = []\n",
    "total_size = 0\n",
    "for year in range(2011, 2019):\n",
    "    date = '%s-10-25' % year\n",
    "    for item in item_index[date]:\n",
    "        if item['id'].startswith('liveweb-'):\n",
    "            item_ids.append(item['id'])\n",
    "            total_size += item['size']\n",
    "        \n",
    "print(\"There are %s Internet Archive items to download\" % len(item_ids))\n",
    "print(\"The total size will be %0.2f GB\" % (total_size / 1024 / 1024 / 1024.0))\n",
    "print(\"And here they are\")\n",
    "for item_id in item_ids:\n",
    "    print(item_id)"
   ]
  },
  {
   "cell_type": "markdown",
   "metadata": {},
   "source": [
    "Now let's download them."
   ]
  },
  {
   "cell_type": "code",
   "execution_count": null,
   "metadata": {},
   "outputs": [],
   "source": [
    "count = 0\n",
    "for item_id in item_ids:\n",
    "    count += 1\n",
    "    print('[%s/%s] downloading %s' % (count, len(item_ids), item_id))\n",
    "    ia.download(\n",
    "        item_id,\n",
    "        glob_pattern=[\"*arc.gz\", \"*cdx.gz\"],\n",
    "        destdir=\"data\",\n",
    "        ignore_existing=True\n",
    "    )"
   ]
  },
  {
   "cell_type": "markdown",
   "metadata": {},
   "source": [
    "The reality is that it can take weeks (or months) to sample and download, so you probably want to export this notebook as a .py file and run it on a reliable server in a screen or tmux session:\n",
    "\n",
    "```\n",
    "% jupyter nbconvert --to script Sample.ipynb\n",
    "% python Sample.py\n",
    "```\n"
   ]
  },
  {
   "cell_type": "code",
   "execution_count": null,
   "metadata": {},
   "outputs": [],
   "source": []
  }
 ],
 "metadata": {
  "kernelspec": {
   "display_name": "Python 3",
   "language": "python",
   "name": "python3"
  },
  "language_info": {
   "codemirror_mode": {
    "name": "ipython",
    "version": 3
   },
   "file_extension": ".py",
   "mimetype": "text/x-python",
   "name": "python",
   "nbconvert_exporter": "python",
   "pygments_lexer": "ipython3",
   "version": "3.7.3"
  }
 },
 "nbformat": 4,
 "nbformat_minor": 2
}
