{
 "cells": [
  {
   "cell_type": "markdown",
   "metadata": {},
   "source": [
    "# Liveliness\n",
    "\n",
    "It would be useful to know what archived URLs are still available on the web, and which are not. Determining if something is still available on the web is surprisingly fraught, because some web servers respond to 200 OK instead of 404 Not Found for things that are no longer available. So it's possible that we will get false positives in these results (higher numbers of URLs that are alive). But that's ok because we'll get a generous measure of liveliness which means we won't over-\n",
    "\n",
    "We do have a lot of URLs, and it's probably easier for us if we sample again. It also would be useful to be able to sample by year. Lets start by getting our urls dataset into Spark again."
   ]
  },
  {
   "cell_type": "code",
   "execution_count": 1,
   "metadata": {},
   "outputs": [],
   "source": [
    "import sys\n",
    "sys.path.append('../utils')\n",
    "\n",
    "from warc_spark import init\n",
    "\n",
    "sc, sqlc = init()\n",
    "urls = sqlc.read.csv('results/urls', header=True)"
   ]
  },
  {
   "cell_type": "markdown",
   "metadata": {},
   "source": [
    "Start with 2018:"
   ]
  },
  {
   "cell_type": "code",
   "execution_count": 3,
   "metadata": {},
   "outputs": [],
   "source": [
    "year = urls.filter(urls.date.startswith('2018-'))"
   ]
  },
  {
   "cell_type": "markdown",
   "metadata": {},
   "source": [
    "Create our sample, with a confidence interval of 5% and a confidence level of 95%."
   ]
  },
  {
   "cell_type": "code",
   "execution_count": 4,
   "metadata": {},
   "outputs": [],
   "source": [
    "pop_size = year.count()\n",
    "sample_size = int(pop_size / (1 + pop_size * (.05**2)))\n",
    "sample_list = year.rdd.takeSample(withReplacement=False, num=sample_size, seed=21)"
   ]
  },
  {
   "cell_type": "markdown",
   "metadata": {},
   "source": [
    "Put the sample into a Pandas DataFrame:"
   ]
  },
  {
   "cell_type": "code",
   "execution_count": 5,
   "metadata": {},
   "outputs": [
    {
     "data": {
      "text/html": [
       "<div>\n",
       "<style scoped>\n",
       "    .dataframe tbody tr th:only-of-type {\n",
       "        vertical-align: middle;\n",
       "    }\n",
       "\n",
       "    .dataframe tbody tr th {\n",
       "        vertical-align: top;\n",
       "    }\n",
       "\n",
       "    .dataframe thead th {\n",
       "        text-align: right;\n",
       "    }\n",
       "</style>\n",
       "<table border=\"1\" class=\"dataframe\">\n",
       "  <thead>\n",
       "    <tr style=\"text-align: right;\">\n",
       "      <th></th>\n",
       "      <th>warc_file</th>\n",
       "      <th>date</th>\n",
       "      <th>url</th>\n",
       "      <th>user_agent</th>\n",
       "      <th>user_agent_family</th>\n",
       "      <th>bot</th>\n",
       "    </tr>\n",
       "    <tr>\n",
       "      <th>record_id</th>\n",
       "      <th></th>\n",
       "      <th></th>\n",
       "      <th></th>\n",
       "      <th></th>\n",
       "      <th></th>\n",
       "      <th></th>\n",
       "    </tr>\n",
       "  </thead>\n",
       "  <tbody>\n",
       "    <tr>\n",
       "      <th>&lt;urn:uuid:584496d7-5296-4395-9362-7f7aba03ece2&gt;</th>\n",
       "      <td>warcs/liveweb-20181025034513/live-201810250335...</td>\n",
       "      <td>2018-10-25T03:39:24Z</td>\n",
       "      <td>https://www.youtube.com/channel/UCgefQJC5UgbWJ...</td>\n",
       "      <td>Wget/1.19.5 (linux-gnu)</td>\n",
       "      <td>Wget</td>\n",
       "      <td>true</td>\n",
       "    </tr>\n",
       "    <tr>\n",
       "      <th>&lt;urn:uuid:8c658003-6728-4cfa-a178-6d062fc0e5b0&gt;</th>\n",
       "      <td>warcs/liveweb-20181025014552/live-201810250114...</td>\n",
       "      <td>2018-10-25T01:15:18Z</td>\n",
       "      <td>http://km.aifb.kit.edu/projects/numbers/web/n2...</td>\n",
       "      <td>Wget/1.19.4 (darwin17.3.0)</td>\n",
       "      <td>Wget</td>\n",
       "      <td>true</td>\n",
       "    </tr>\n",
       "    <tr>\n",
       "      <th>&lt;urn:uuid:b4450919-a293-48c4-a163-31818f3ddb4a&gt;</th>\n",
       "      <td>warcs/liveweb-20181025070807/live-201810250655...</td>\n",
       "      <td>2018-10-25T06:58:26Z</td>\n",
       "      <td>https://www.wykop.pl/wpis/36150773/mow-do-mnie...</td>\n",
       "      <td>Mozilla/5.0 (Windows NT 10.0; Win64; x64; rv:6...</td>\n",
       "      <td>Firefox</td>\n",
       "      <td>false</td>\n",
       "    </tr>\n",
       "    <tr>\n",
       "      <th>&lt;urn:uuid:4f5a9ec0-4056-4336-99c9-de811dadf077&gt;</th>\n",
       "      <td>warcs/liveweb-20181025070807/live-201810250647...</td>\n",
       "      <td>2018-10-25T07:13:52Z</td>\n",
       "      <td>https://www.instagram.com/mufmunkedal/</td>\n",
       "      <td>python-requests/2.19.1</td>\n",
       "      <td>Python Requests</td>\n",
       "      <td>true</td>\n",
       "    </tr>\n",
       "    <tr>\n",
       "      <th>&lt;urn:uuid:2d08611a-8639-4dcb-8891-445454493535&gt;</th>\n",
       "      <td>warcs/liveweb-20181025111513/live-201810251107...</td>\n",
       "      <td>2018-10-25T11:12:37Z</td>\n",
       "      <td>https://www.wykop.pl/wpis/36154923/wrocil-i-od...</td>\n",
       "      <td>Mozilla/5.0 (Windows NT 10.0; Win64; x64; rv:6...</td>\n",
       "      <td>Firefox</td>\n",
       "      <td>false</td>\n",
       "    </tr>\n",
       "  </tbody>\n",
       "</table>\n",
       "</div>"
      ],
      "text/plain": [
       "                                                                                         warc_file  \\\n",
       "record_id                                                                                            \n",
       "<urn:uuid:584496d7-5296-4395-9362-7f7aba03ece2>  warcs/liveweb-20181025034513/live-201810250335...   \n",
       "<urn:uuid:8c658003-6728-4cfa-a178-6d062fc0e5b0>  warcs/liveweb-20181025014552/live-201810250114...   \n",
       "<urn:uuid:b4450919-a293-48c4-a163-31818f3ddb4a>  warcs/liveweb-20181025070807/live-201810250655...   \n",
       "<urn:uuid:4f5a9ec0-4056-4336-99c9-de811dadf077>  warcs/liveweb-20181025070807/live-201810250647...   \n",
       "<urn:uuid:2d08611a-8639-4dcb-8891-445454493535>  warcs/liveweb-20181025111513/live-201810251107...   \n",
       "\n",
       "                                                                 date  \\\n",
       "record_id                                                               \n",
       "<urn:uuid:584496d7-5296-4395-9362-7f7aba03ece2>  2018-10-25T03:39:24Z   \n",
       "<urn:uuid:8c658003-6728-4cfa-a178-6d062fc0e5b0>  2018-10-25T01:15:18Z   \n",
       "<urn:uuid:b4450919-a293-48c4-a163-31818f3ddb4a>  2018-10-25T06:58:26Z   \n",
       "<urn:uuid:4f5a9ec0-4056-4336-99c9-de811dadf077>  2018-10-25T07:13:52Z   \n",
       "<urn:uuid:2d08611a-8639-4dcb-8891-445454493535>  2018-10-25T11:12:37Z   \n",
       "\n",
       "                                                                                               url  \\\n",
       "record_id                                                                                            \n",
       "<urn:uuid:584496d7-5296-4395-9362-7f7aba03ece2>  https://www.youtube.com/channel/UCgefQJC5UgbWJ...   \n",
       "<urn:uuid:8c658003-6728-4cfa-a178-6d062fc0e5b0>  http://km.aifb.kit.edu/projects/numbers/web/n2...   \n",
       "<urn:uuid:b4450919-a293-48c4-a163-31818f3ddb4a>  https://www.wykop.pl/wpis/36150773/mow-do-mnie...   \n",
       "<urn:uuid:4f5a9ec0-4056-4336-99c9-de811dadf077>             https://www.instagram.com/mufmunkedal/   \n",
       "<urn:uuid:2d08611a-8639-4dcb-8891-445454493535>  https://www.wykop.pl/wpis/36154923/wrocil-i-od...   \n",
       "\n",
       "                                                                                        user_agent  \\\n",
       "record_id                                                                                            \n",
       "<urn:uuid:584496d7-5296-4395-9362-7f7aba03ece2>                            Wget/1.19.5 (linux-gnu)   \n",
       "<urn:uuid:8c658003-6728-4cfa-a178-6d062fc0e5b0>                         Wget/1.19.4 (darwin17.3.0)   \n",
       "<urn:uuid:b4450919-a293-48c4-a163-31818f3ddb4a>  Mozilla/5.0 (Windows NT 10.0; Win64; x64; rv:6...   \n",
       "<urn:uuid:4f5a9ec0-4056-4336-99c9-de811dadf077>                             python-requests/2.19.1   \n",
       "<urn:uuid:2d08611a-8639-4dcb-8891-445454493535>  Mozilla/5.0 (Windows NT 10.0; Win64; x64; rv:6...   \n",
       "\n",
       "                                                user_agent_family    bot  \n",
       "record_id                                                                 \n",
       "<urn:uuid:584496d7-5296-4395-9362-7f7aba03ece2>              Wget   true  \n",
       "<urn:uuid:8c658003-6728-4cfa-a178-6d062fc0e5b0>              Wget   true  \n",
       "<urn:uuid:b4450919-a293-48c4-a163-31818f3ddb4a>           Firefox  false  \n",
       "<urn:uuid:4f5a9ec0-4056-4336-99c9-de811dadf077>   Python Requests   true  \n",
       "<urn:uuid:2d08611a-8639-4dcb-8891-445454493535>           Firefox  false  "
      ]
     },
     "execution_count": 5,
     "metadata": {},
     "output_type": "execute_result"
    }
   ],
   "source": [
    "import pandas\n",
    "\n",
    "sample = pandas.DataFrame(sample_list, columns=year.schema.fieldNames())\n",
    "sample = sample.set_index('record_id')\n",
    "sample.head()"
   ]
  },
  {
   "cell_type": "markdown",
   "metadata": {},
   "source": [
    "Now let's create a function that checks if a URL is still available."
   ]
  },
  {
   "cell_type": "code",
   "execution_count": 6,
   "metadata": {},
   "outputs": [
    {
     "name": "stdout",
     "output_type": "stream",
     "text": [
      "https://nytimes.com True\n",
      "https://nytimes.com/no-way-forgetaboutit False\n",
      "https://this.is.not.a.host.name False\n"
     ]
    }
   ],
   "source": [
    "import requests\n",
    "\n",
    "def alive(url):\n",
    "    result = False\n",
    "    try:\n",
    "        resp = requests.get(url, timeout=10)\n",
    "        if resp.status_code == 200:\n",
    "            result = True\n",
    "    except Exception as e:\n",
    "        pass\n",
    "    return result\n",
    "\n",
    "for url in ['https://nytimes.com', 'https://nytimes.com/no-way-forgetaboutit', 'https://this.is.not.a.host.name']:\n",
    "    print(url, alive(url))"
   ]
  },
  {
   "cell_type": "markdown",
   "metadata": {},
   "source": [
    "Now lets add a new column to our data containing whether it is on the Internet now."
   ]
  },
  {
   "cell_type": "code",
   "execution_count": 7,
   "metadata": {},
   "outputs": [],
   "source": [
    "sample['alive'] = sample.url.map(alive)"
   ]
  },
  {
   "cell_type": "code",
   "execution_count": 8,
   "metadata": {},
   "outputs": [
    {
     "name": "stdout",
     "output_type": "stream",
     "text": [
      "n=399\n",
      "dead=15\n",
      "alive=384\n"
     ]
    }
   ],
   "source": [
    "print('n={}'.format(len(sample)))\n",
    "print('dead={}'.format(len(sample.query('alive == False'))))\n",
    "print('alive={}'.format(len(sample.query('alive == True'))))\n"
   ]
  },
  {
   "cell_type": "markdown",
   "metadata": {},
   "source": [
    "Let's bundle it up in a function so we can run it for different years."
   ]
  },
  {
   "cell_type": "code",
   "execution_count": 9,
   "metadata": {},
   "outputs": [],
   "source": [
    "def liveliness(y):\n",
    "    year = urls.filter(urls.date.startswith(str(y) + '-'))\n",
    "    pop_size = year.count()\n",
    "    sample_size = int(pop_size / (1 + pop_size * (.05**2)))\n",
    "    sample_list = year.rdd.takeSample(withReplacement=False, num=sample_size, seed=21)\n",
    "    sample = pandas.DataFrame(sample_list, columns=year.schema.fieldNames())\n",
    "    sample = sample.set_index('record_id')\n",
    "    sample['alive'] = sample.url.map(alive)\n",
    "    return sample"
   ]
  },
  {
   "cell_type": "markdown",
   "metadata": {},
   "source": [
    "First make sure it returns the same thing that we calculated previously:"
   ]
  },
  {
   "cell_type": "code",
   "execution_count": 10,
   "metadata": {},
   "outputs": [],
   "source": [
    "df = liveliness(2018)"
   ]
  },
  {
   "cell_type": "code",
   "execution_count": 12,
   "metadata": {},
   "outputs": [
    {
     "name": "stdout",
     "output_type": "stream",
     "text": [
      "n=399\n",
      "dead=15\n",
      "alive=384\n"
     ]
    }
   ],
   "source": [
    "def print_stats(df):\n",
    "    print('n={}'.format(len(df)))\n",
    "    print('dead={}'.format(len(df.query('alive == False'))))\n",
    "    print('alive={}'.format(len(df.query('alive == True'))))\n",
    "\n",
    "print_stats(df)"
   ]
  },
  {
   "cell_type": "markdown",
   "metadata": {},
   "source": [
    "They match! So now we can easily generate some stats for 2017."
   ]
  },
  {
   "cell_type": "code",
   "execution_count": 13,
   "metadata": {},
   "outputs": [
    {
     "name": "stdout",
     "output_type": "stream",
     "text": [
      "n=399\n",
      "dead=350\n",
      "alive=49\n"
     ]
    }
   ],
   "source": [
    "df = liveliness(2017)\n",
    "print_stats(df)"
   ]
  },
  {
   "cell_type": "code",
   "execution_count": 14,
   "metadata": {},
   "outputs": [
    {
     "name": "stdout",
     "output_type": "stream",
     "text": [
      "n=399\n",
      "dead=97\n",
      "alive=302\n"
     ]
    }
   ],
   "source": [
    "df = liveliness(2016)\n",
    "print_stats(df)"
   ]
  },
  {
   "cell_type": "code",
   "execution_count": null,
   "metadata": {},
   "outputs": [],
   "source": []
  }
 ],
 "metadata": {
  "kernelspec": {
   "display_name": "Python 3",
   "language": "python",
   "name": "python3"
  },
  "language_info": {
   "codemirror_mode": {
    "name": "ipython",
    "version": 3
   },
   "file_extension": ".py",
   "mimetype": "text/x-python",
   "name": "python",
   "nbconvert_exporter": "python",
   "pygments_lexer": "ipython3",
   "version": "3.7.3"
  }
 },
 "nbformat": 4,
 "nbformat_minor": 2
}
