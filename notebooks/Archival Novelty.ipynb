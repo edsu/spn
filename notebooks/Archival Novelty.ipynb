{
 "cells": [
  {
   "cell_type": "markdown",
   "metadata": {},
   "source": [
    "# Archival Novelty"
   ]
  },
  {
   "cell_type": "markdown",
   "metadata": {},
   "source": [
    "This notebook explores whether requests to archive web resources were the first such request. Or rather, whether the request provided the Internet Archive with first knowledge of the web resource. Let's call this *archival novelty* which will be a percentage of SavePageNow requests brought new knowledge of a URL to the Internet Archive. We are specifically going to look at *archival novelty* in terms of SavePageNow requests from automated agent or human agents.\n",
    "\n",
    "The Internet Archive's [CDX API](https://github.com/internetarchive/wayback/tree/master/wayback-cdx-server) can tell us exactly when a given URL has been archived over time. But there are 7 million requests for HTML pages in our dataset. So what we will do is generate two random samples for the bots and the humans, and check those against the CDX API.\n",
    "\n",
    "First we will read in the URLS csv data that we generated in the URLs notebook back into a Spark DataFrame. Remember this only SavePageNow requests that generated an HTML responses, so it doesn't include things like images, JavaScript or CSS that SavePageNow could request when proxying an actual browser. Also we have added a "
   ]
  },
  {
   "cell_type": "code",
   "execution_count": 1,
   "metadata": {},
   "outputs": [],
   "source": [
    "import sys\n",
    "sys.path.append('../utils')\n",
    "\n",
    "from warc_spark import init, extractor\n",
    "\n",
    "sc, sqlc = init()\n",
    "df = sqlc.read.csv('results/urls', header=True)"
   ]
  },
  {
   "cell_type": "markdown",
   "metadata": {},
   "source": [
    "## Create Samples\n",
    "\n",
    "Now lets look specifically at 2018, and generate random samples."
   ]
  },
  {
   "cell_type": "code",
   "execution_count": 145,
   "metadata": {},
   "outputs": [
    {
     "name": "stdout",
     "output_type": "stream",
     "text": [
      "count 1420587\n",
      "bots n=104 p=1071863\n",
      "humans n=30 p=348724\n"
     ]
    }
   ],
   "source": [
    "y2018 = df.filter(df.date.like('2018%'))\n",
    "y2018.persist()\n",
    "count = y2018.count()\n",
    "print('count {}'.format(count))\n",
    "\n",
    "bots = y2018.filter(df.bot == True)\n",
    "bots_sample = bots.sample(0.0001)\n",
    "print(\"bots n={} p={}\".format(bots_sample.count(), bots.count()))\n",
    "\n",
    "humans = y2018.filter(df.bot == False)\n",
    "humans_sample = humans.sample(0.0001)\n",
    "print(\"humans n={} p={}\".format(humans_sample.count(), humans.count()))"
   ]
  },
  {
   "cell_type": "code",
   "execution_count": 146,
   "metadata": {},
   "outputs": [
    {
     "data": {
      "text/plain": [
       "[Row(record_id='<urn:uuid:4b4156dd-1eb0-4c17-b2bc-f84a3faa2096>', warc_file='warcs/liveweb-20181025034513/live-20181025033513-wwwb-app15.us.archive.org.warc.gz', date='2018-10-25T03:41:08Z', url='https://www.youtube.com/channel/UCiPsX9jmY6Loe6F8EE6DPMQ/videos?flow=list&sort=p&view=0', user_agent='Wget/1.19.5 (linux-gnu)', user_agent_family='Wget', bot='true'),\n",
       " Row(record_id='<urn:uuid:ae91ba84-eb26-4133-863e-7e5ca9cff2b9>', warc_file='warcs/liveweb-20181025160128/live-20181025155856-wwwb-app1.us.archive.org.warc.gz', date='2018-10-25T16:02:08Z', url='https://www.youtube.com/channel/UC3d7Ix6GrtxESULE5Auj_Zg/videos?flow=list&sort=dd&view=0', user_agent='Wget/1.19.5 (linux-gnu)', user_agent_family='Wget', bot='true'),\n",
       " Row(record_id='<urn:uuid:3dd9b094-2683-4bee-82f8-6672341e296c>', warc_file='warcs/liveweb-20181025043139/live-20181025040713-wwwb-app1.us.archive.org.warc.gz', date='2018-10-25T04:25:59Z', url='https://crypterium.io/content/cap.json?hz=18984717', user_agent='Mozilla/5.0 (Macintosh; Intel Mac OS X 10_13_1) AppleWebKit/604.3.5 (KHTML, like Gecko) Version/11.0.1 Safari/604.3.5', user_agent_family='Safari', bot='false'),\n",
       " Row(record_id='<urn:uuid:24242ccc-6699-4425-ae4d-768b32090660>', warc_file='warcs/liveweb-20181025034211/live-20181025031728-wwwb-app0.us.archive.org.warc.gz', date='2018-10-25T03:24:23Z', url='https://ok-bar.love.mail.ru/&JSONP_call=MRG_updateWambaToolbar&rnd=0.9062242799732154', user_agent='Mozilla/5.0 (Windows NT 6.1) AppleWebKit/537.36 (KHTML, like Gecko) Chrome/67.0.3396.99 Safari/537.36', user_agent_family='Chrome', bot='false'),\n",
       " Row(record_id='<urn:uuid:6dca9697-78b1-4854-84ed-60828acaec79>', warc_file='warcs/liveweb-20181025082913/live-20181025075515-wwwb-app4.us.archive.org.warc.gz', date='2018-10-25T08:15:42Z', url='https://www.wykop.pl/wpis/36152115/i-kolejny-poniedzialek-szkoda-gadac-alizee-ratunku/', user_agent='Mozilla/5.0 (Windows NT 10.0; Win64; x64; rv:62.0) Gecko/20100101 Firefox/62.0', user_agent_family='Firefox', bot='false')]"
      ]
     },
     "execution_count": 146,
     "metadata": {},
     "output_type": "execute_result"
    }
   ],
   "source": [
    "y2018.head(5)"
   ]
  },
  {
   "cell_type": "markdown",
   "metadata": {},
   "source": [
    "## CDX API\n",
    "\n",
    "Now let's create a function that will return all the times a URL was archived. If supplied the `to` parameter will limit the results to snapshots that were taken prior to (and including) that time. This will limit the results we need to collect since we don't really need to know how many times a URL was collected *after* the time in question."
   ]
  },
  {
   "cell_type": "code",
   "execution_count": 22,
   "metadata": {},
   "outputs": [
    {
     "name": "stdout",
     "output_type": "stream",
     "text": [
      "https://mith.umd.edu [20000815201749, 20001204145800, 20010201091600, 20010203124200, 20010224212144, 20010301092808, 20010302112313, 20010309133144, 20010404212235, 20010418164605, 20010515215143, 20010721201430, 20010924024921, 20011202065537, 20020601134123, 20020604040017, 20020802093507, 20020927173901, 20020929183602]\n"
     ]
    }
   ],
   "source": [
    "import requests\n",
    "\n",
    "def archive_times(url, to=None):\n",
    "    params = {\"output\": \"json\", \"url\": url, \"limit\": 10000, 'showResumeKey': True}\n",
    "    if to:\n",
    "        params['to'] = to\n",
    "    \n",
    "    while True:\n",
    "        resp = requests.get('http://web.archive.org/cdx/search/cdx', params=params)\n",
    "        \n",
    "        if resp.status_code == 403:\n",
    "            # catch \"Blocked Site Error\" when robots.txt prevents lookup?\n",
    "            # e.g. http://www.jeuxvideo.com/forums/42-51-53683620-1-0-1-0-pour-etre-assure-au-niveau-de-la-sante-aux-usa.htm \n",
    "            yield None\n",
    "            break\n",
    "            \n",
    "        results = resp.json()\n",
    "        # ignore header\n",
    "        for result in results[1:]:\n",
    "            if len(result) > 1:\n",
    "                yield int(result[1])\n",
    "        \n",
    "        if len(results) != 0 and len(results[-1]) == 1:\n",
    "            params['resumeKey'] = results[-1][0]\n",
    "        else:\n",
    "            break\n",
    "\n",
    "\n",
    "print('https://mith.umd.edu', list(archive_times('https://mith.umd.edu/', to=20020929183602)))"
   ]
  },
  {
   "cell_type": "markdown",
   "metadata": {},
   "source": [
    "## Annotate Samples\n",
    "\n",
    "Now we can add a new column to the sample data to indicate if the URL was new to Internet Archive at at the time. This function `new_url` takes a url and a date and determines whether the snapshot taken at that time was the first one ever seen at that time."
   ]
  },
  {
   "cell_type": "code",
   "execution_count": 8,
   "metadata": {},
   "outputs": [],
   "source": [
    "import re\n",
    "\n",
    "def new_url(url, date):\n",
    "    # convert 2018-10-25T21:47:18Z to 20181025214718\n",
    "    request_date = int(re.sub(r'[:TZ-]', '', date))\n",
    "    \n",
    "    # cdx results should be sorted, but we'll make sure\n",
    "    earliest = sorted(archive_times(url, to=request_date))[0]\n",
    "    \n",
    "    return request_date == earliest"
   ]
  },
  {
   "cell_type": "markdown",
   "metadata": {},
   "source": [
    "Let's test it out on the first ten rows in the humans sample:"
   ]
  },
  {
   "cell_type": "code",
   "execution_count": 9,
   "metadata": {},
   "outputs": [
    {
     "ename": "NameError",
     "evalue": "name 'humans_sample' is not defined",
     "output_type": "error",
     "traceback": [
      "\u001b[0;31m---------------------------------------------------------------------------\u001b[0m",
      "\u001b[0;31mNameError\u001b[0m                                 Traceback (most recent call last)",
      "\u001b[0;32m<ipython-input-9-aa945709b652>\u001b[0m in \u001b[0;36m<module>\u001b[0;34m\u001b[0m\n\u001b[0;32m----> 1\u001b[0;31m \u001b[0;32mfor\u001b[0m \u001b[0mrow\u001b[0m \u001b[0;32min\u001b[0m \u001b[0mhumans_sample\u001b[0m\u001b[0;34m.\u001b[0m\u001b[0mtake\u001b[0m\u001b[0;34m(\u001b[0m\u001b[0;36m10\u001b[0m\u001b[0;34m)\u001b[0m\u001b[0;34m:\u001b[0m\u001b[0;34m\u001b[0m\u001b[0;34m\u001b[0m\u001b[0m\n\u001b[0m\u001b[1;32m      2\u001b[0m     \u001b[0mprint\u001b[0m\u001b[0;34m(\u001b[0m\u001b[0mrow\u001b[0m\u001b[0;34m.\u001b[0m\u001b[0murl\u001b[0m\u001b[0;34m,\u001b[0m \u001b[0mrow\u001b[0m\u001b[0;34m.\u001b[0m\u001b[0mdate\u001b[0m\u001b[0;34m,\u001b[0m \u001b[0mnew_url\u001b[0m\u001b[0;34m(\u001b[0m\u001b[0mrow\u001b[0m\u001b[0;34m.\u001b[0m\u001b[0murl\u001b[0m\u001b[0;34m,\u001b[0m \u001b[0mrow\u001b[0m\u001b[0;34m.\u001b[0m\u001b[0mdate\u001b[0m\u001b[0;34m)\u001b[0m\u001b[0;34m)\u001b[0m\u001b[0;34m\u001b[0m\u001b[0;34m\u001b[0m\u001b[0m\n",
      "\u001b[0;31mNameError\u001b[0m: name 'humans_sample' is not defined"
     ]
    }
   ],
   "source": [
    "for row in humans_sample.take(10):\n",
    "    print(row.url, row.date, new_url(row.url, row.date))"
   ]
  },
  {
   "cell_type": "markdown",
   "metadata": {},
   "source": [
    "Now we can create our new column, which is easier to do in pandas. Depending on the number of rows in the sample this can take some time, since each row triggers an API lookup, which will take a bout a second."
   ]
  },
  {
   "cell_type": "code",
   "execution_count": 140,
   "metadata": {},
   "outputs": [],
   "source": [
    "import pandas\n",
    "\n",
    "humans_df = humans_sample.toPandas()\n",
    "\n",
    "humans_df['new_url'] = pandas.Series(\n",
    "    [new_url(r.url, r.date) for i, r in humans_df.iterrows()], \n",
    "    index=humans_df.index\n",
    ")"
   ]
  },
  {
   "cell_type": "code",
   "execution_count": 141,
   "metadata": {},
   "outputs": [
    {
     "data": {
      "text/html": [
       "<div>\n",
       "<style scoped>\n",
       "    .dataframe tbody tr th:only-of-type {\n",
       "        vertical-align: middle;\n",
       "    }\n",
       "\n",
       "    .dataframe tbody tr th {\n",
       "        vertical-align: top;\n",
       "    }\n",
       "\n",
       "    .dataframe thead th {\n",
       "        text-align: right;\n",
       "    }\n",
       "</style>\n",
       "<table border=\"1\" class=\"dataframe\">\n",
       "  <thead>\n",
       "    <tr style=\"text-align: right;\">\n",
       "      <th></th>\n",
       "      <th>record_id</th>\n",
       "      <th>warc_file</th>\n",
       "      <th>date</th>\n",
       "      <th>url</th>\n",
       "      <th>user_agent</th>\n",
       "      <th>user_agent_family</th>\n",
       "      <th>bot</th>\n",
       "      <th>new_url</th>\n",
       "    </tr>\n",
       "  </thead>\n",
       "  <tbody>\n",
       "    <tr>\n",
       "      <th>0</th>\n",
       "      <td>&lt;urn:uuid:f782f2e7-cd61-4be4-b9b9-42e4ae43b8b9&gt;</td>\n",
       "      <td>warcs/liveweb-20161025000152/live-201610242344...</td>\n",
       "      <td>2016-10-25T00:30:25Z</td>\n",
       "      <td>http://ads.exoclick.com/iframe.php?idzone=3467...</td>\n",
       "      <td>Mozilla/5.0 (Windows NT 10.0; WOW64; rv:51.0) ...</td>\n",
       "      <td>Firefox</td>\n",
       "      <td>false</td>\n",
       "      <td>True</td>\n",
       "    </tr>\n",
       "    <tr>\n",
       "      <th>1</th>\n",
       "      <td>&lt;urn:uuid:50d98f32-ba89-4435-82af-f1b63266f2f0&gt;</td>\n",
       "      <td>warcs/liveweb-20161025142357/live-201610251220...</td>\n",
       "      <td>2016-10-25T12:26:38Z</td>\n",
       "      <td>http://www.universitystudios.ca/register</td>\n",
       "      <td>Mozilla/5.0 (Macintosh; Intel Mac OS X 10.10; ...</td>\n",
       "      <td>Firefox</td>\n",
       "      <td>false</td>\n",
       "      <td>False</td>\n",
       "    </tr>\n",
       "    <tr>\n",
       "      <th>2</th>\n",
       "      <td>&lt;urn:uuid:1d7bde95-41d5-4807-ad1a-f7bf68e3864e&gt;</td>\n",
       "      <td>warcs/liveweb-20161025185809/live-201610251526...</td>\n",
       "      <td>2016-10-25T15:46:16Z</td>\n",
       "      <td>https://twitter.com/MattHopeNotHate/status/785...</td>\n",
       "      <td>Mozilla/5.0 (Macintosh; Intel Mac OS X 10_11_3...</td>\n",
       "      <td>Chrome</td>\n",
       "      <td>false</td>\n",
       "      <td>True</td>\n",
       "    </tr>\n",
       "    <tr>\n",
       "      <th>3</th>\n",
       "      <td>&lt;urn:uuid:a1a905a1-b9d9-42dd-8fe1-7c26b6735b7d&gt;</td>\n",
       "      <td>warcs/liveweb-20161025142357/live-201610251140...</td>\n",
       "      <td>2016-10-25T11:54:54Z</td>\n",
       "      <td>https://www.instagram.com/shaniaburge/</td>\n",
       "      <td>Mozilla/5.0 (Macintosh; Intel Mac OS X 10_12_0...</td>\n",
       "      <td>Chrome</td>\n",
       "      <td>false</td>\n",
       "      <td>False</td>\n",
       "    </tr>\n",
       "    <tr>\n",
       "      <th>4</th>\n",
       "      <td>&lt;urn:uuid:08080dda-1c68-4362-825c-34234b743dea&gt;</td>\n",
       "      <td>warcs/liveweb-20161025185809/live-201610251618...</td>\n",
       "      <td>2016-10-25T17:41:10Z</td>\n",
       "      <td>http://danbooru.donmai.us/posts?page=13&amp;tags=t...</td>\n",
       "      <td>Mozilla/5.0 (Windows NT 6.1; WOW64; Trident/7....</td>\n",
       "      <td>IE</td>\n",
       "      <td>false</td>\n",
       "      <td>True</td>\n",
       "    </tr>\n",
       "  </tbody>\n",
       "</table>\n",
       "</div>"
      ],
      "text/plain": [
       "                                         record_id  \\\n",
       "0  <urn:uuid:f782f2e7-cd61-4be4-b9b9-42e4ae43b8b9>   \n",
       "1  <urn:uuid:50d98f32-ba89-4435-82af-f1b63266f2f0>   \n",
       "2  <urn:uuid:1d7bde95-41d5-4807-ad1a-f7bf68e3864e>   \n",
       "3  <urn:uuid:a1a905a1-b9d9-42dd-8fe1-7c26b6735b7d>   \n",
       "4  <urn:uuid:08080dda-1c68-4362-825c-34234b743dea>   \n",
       "\n",
       "                                           warc_file                  date  \\\n",
       "0  warcs/liveweb-20161025000152/live-201610242344...  2016-10-25T00:30:25Z   \n",
       "1  warcs/liveweb-20161025142357/live-201610251220...  2016-10-25T12:26:38Z   \n",
       "2  warcs/liveweb-20161025185809/live-201610251526...  2016-10-25T15:46:16Z   \n",
       "3  warcs/liveweb-20161025142357/live-201610251140...  2016-10-25T11:54:54Z   \n",
       "4  warcs/liveweb-20161025185809/live-201610251618...  2016-10-25T17:41:10Z   \n",
       "\n",
       "                                                 url  \\\n",
       "0  http://ads.exoclick.com/iframe.php?idzone=3467...   \n",
       "1           http://www.universitystudios.ca/register   \n",
       "2  https://twitter.com/MattHopeNotHate/status/785...   \n",
       "3             https://www.instagram.com/shaniaburge/   \n",
       "4  http://danbooru.donmai.us/posts?page=13&tags=t...   \n",
       "\n",
       "                                          user_agent user_agent_family    bot  \\\n",
       "0  Mozilla/5.0 (Windows NT 10.0; WOW64; rv:51.0) ...           Firefox  false   \n",
       "1  Mozilla/5.0 (Macintosh; Intel Mac OS X 10.10; ...           Firefox  false   \n",
       "2  Mozilla/5.0 (Macintosh; Intel Mac OS X 10_11_3...            Chrome  false   \n",
       "3  Mozilla/5.0 (Macintosh; Intel Mac OS X 10_12_0...            Chrome  false   \n",
       "4  Mozilla/5.0 (Windows NT 6.1; WOW64; Trident/7....                IE  false   \n",
       "\n",
       "   new_url  \n",
       "0     True  \n",
       "1    False  \n",
       "2     True  \n",
       "3    False  \n",
       "4     True  "
      ]
     },
     "execution_count": 141,
     "metadata": {},
     "output_type": "execute_result"
    }
   ],
   "source": [
    "humans_df.head(5)"
   ]
  },
  {
   "cell_type": "code",
   "execution_count": 142,
   "metadata": {},
   "outputs": [],
   "source": [
    "bots_df = bots_sample.toPandas()\n",
    "\n",
    "bots_df['new_url'] = pandas.Series(\n",
    "    [new_url(r.url, r.date) for i, r in bots_df.iterrows()], \n",
    "    index=bots_df.index\n",
    ")"
   ]
  },
  {
   "cell_type": "code",
   "execution_count": 143,
   "metadata": {},
   "outputs": [
    {
     "data": {
      "text/html": [
       "<div>\n",
       "<style scoped>\n",
       "    .dataframe tbody tr th:only-of-type {\n",
       "        vertical-align: middle;\n",
       "    }\n",
       "\n",
       "    .dataframe tbody tr th {\n",
       "        vertical-align: top;\n",
       "    }\n",
       "\n",
       "    .dataframe thead th {\n",
       "        text-align: right;\n",
       "    }\n",
       "</style>\n",
       "<table border=\"1\" class=\"dataframe\">\n",
       "  <thead>\n",
       "    <tr style=\"text-align: right;\">\n",
       "      <th></th>\n",
       "      <th>record_id</th>\n",
       "      <th>warc_file</th>\n",
       "      <th>date</th>\n",
       "      <th>url</th>\n",
       "      <th>user_agent</th>\n",
       "      <th>user_agent_family</th>\n",
       "      <th>bot</th>\n",
       "      <th>new_url</th>\n",
       "    </tr>\n",
       "  </thead>\n",
       "  <tbody>\n",
       "    <tr>\n",
       "      <th>0</th>\n",
       "      <td>&lt;urn:uuid:e57f6332-a047-475b-aa62-4446b0cf7912&gt;</td>\n",
       "      <td>warcs/liveweb-20161025202025/cachegw-201610160...</td>\n",
       "      <td>2016-10-16T10:31:23Z</td>\n",
       "      <td>https://nimbus.mako.cc/login</td>\n",
       "      <td>Mozilla/5.0 (compatible; archive.org_bot; Wayb...</td>\n",
       "      <td>archive.org_bot</td>\n",
       "      <td>true</td>\n",
       "      <td>False</td>\n",
       "    </tr>\n",
       "    <tr>\n",
       "      <th>1</th>\n",
       "      <td>&lt;urn:uuid:6a494140-b970-4a19-8b95-4d953ee62ea8&gt;</td>\n",
       "      <td>warcs/liveweb-20161025114234/live-201610250909...</td>\n",
       "      <td>2016-10-25T09:39:09Z</td>\n",
       "      <td>http://437299618.qzone.qq.com/</td>\n",
       "      <td>Mozilla/5.0+(compatible; UptimeRobot/2.0; http...</td>\n",
       "      <td>UptimeRobot</td>\n",
       "      <td>true</td>\n",
       "      <td>False</td>\n",
       "    </tr>\n",
       "    <tr>\n",
       "      <th>2</th>\n",
       "      <td>&lt;urn:uuid:9eb1f591-09b6-40f4-9b09-d4f85fbb1412&gt;</td>\n",
       "      <td>warcs/liveweb-20161025202025/cachegw-201610160...</td>\n",
       "      <td>2016-10-17T21:28:27Z</td>\n",
       "      <td>http://www.2011522.com/robots.txt</td>\n",
       "      <td>Mozilla/5.0 (compatible; archive.org_bot; Wayb...</td>\n",
       "      <td>archive.org_bot</td>\n",
       "      <td>true</td>\n",
       "      <td>False</td>\n",
       "    </tr>\n",
       "    <tr>\n",
       "      <th>3</th>\n",
       "      <td>&lt;urn:uuid:5148e7f1-8a6d-45e8-ae3f-cf145b212488&gt;</td>\n",
       "      <td>warcs/liveweb-20161025091204/live-201610250814...</td>\n",
       "      <td>2016-10-25T10:04:13Z</td>\n",
       "      <td>https://suumo.jp/tochi/saitama/sc_kasukabe/nc_...</td>\n",
       "      <td>Ruby</td>\n",
       "      <td>Ruby</td>\n",
       "      <td>true</td>\n",
       "      <td>False</td>\n",
       "    </tr>\n",
       "    <tr>\n",
       "      <th>4</th>\n",
       "      <td>&lt;urn:uuid:78a9144d-b782-462d-8320-f23486c0b837&gt;</td>\n",
       "      <td>warcs/liveweb-20161025142357/live-201610251209...</td>\n",
       "      <td>2016-10-25T12:31:41Z</td>\n",
       "      <td>http://www.skovdenyheter.se/article/har-tar-fr...</td>\n",
       "      <td>Mozilla/5.0 (compatible; archive.org_bot; Wayb...</td>\n",
       "      <td>archive.org_bot</td>\n",
       "      <td>true</td>\n",
       "      <td>False</td>\n",
       "    </tr>\n",
       "  </tbody>\n",
       "</table>\n",
       "</div>"
      ],
      "text/plain": [
       "                                         record_id  \\\n",
       "0  <urn:uuid:e57f6332-a047-475b-aa62-4446b0cf7912>   \n",
       "1  <urn:uuid:6a494140-b970-4a19-8b95-4d953ee62ea8>   \n",
       "2  <urn:uuid:9eb1f591-09b6-40f4-9b09-d4f85fbb1412>   \n",
       "3  <urn:uuid:5148e7f1-8a6d-45e8-ae3f-cf145b212488>   \n",
       "4  <urn:uuid:78a9144d-b782-462d-8320-f23486c0b837>   \n",
       "\n",
       "                                           warc_file                  date  \\\n",
       "0  warcs/liveweb-20161025202025/cachegw-201610160...  2016-10-16T10:31:23Z   \n",
       "1  warcs/liveweb-20161025114234/live-201610250909...  2016-10-25T09:39:09Z   \n",
       "2  warcs/liveweb-20161025202025/cachegw-201610160...  2016-10-17T21:28:27Z   \n",
       "3  warcs/liveweb-20161025091204/live-201610250814...  2016-10-25T10:04:13Z   \n",
       "4  warcs/liveweb-20161025142357/live-201610251209...  2016-10-25T12:31:41Z   \n",
       "\n",
       "                                                 url  \\\n",
       "0                       https://nimbus.mako.cc/login   \n",
       "1                     http://437299618.qzone.qq.com/   \n",
       "2                  http://www.2011522.com/robots.txt   \n",
       "3  https://suumo.jp/tochi/saitama/sc_kasukabe/nc_...   \n",
       "4  http://www.skovdenyheter.se/article/har-tar-fr...   \n",
       "\n",
       "                                          user_agent user_agent_family   bot  \\\n",
       "0  Mozilla/5.0 (compatible; archive.org_bot; Wayb...   archive.org_bot  true   \n",
       "1  Mozilla/5.0+(compatible; UptimeRobot/2.0; http...       UptimeRobot  true   \n",
       "2  Mozilla/5.0 (compatible; archive.org_bot; Wayb...   archive.org_bot  true   \n",
       "3                                               Ruby              Ruby  true   \n",
       "4  Mozilla/5.0 (compatible; archive.org_bot; Wayb...   archive.org_bot  true   \n",
       "\n",
       "   new_url  \n",
       "0    False  \n",
       "1    False  \n",
       "2    False  \n",
       "3    False  \n",
       "4    False  "
      ]
     },
     "execution_count": 143,
     "metadata": {},
     "output_type": "execute_result"
    }
   ],
   "source": [
    "bots_df.head(5)"
   ]
  },
  {
   "cell_type": "markdown",
   "metadata": {},
   "source": [
    "## Archival Novelty\n",
    "\n",
    "Now that we've added the `new_url` column we can calculate the *archival novelty* for each sample as the percentage of SavePageNow requests that brought brand new URLs to the Internet Archive."
   ]
  },
  {
   "cell_type": "code",
   "execution_count": 144,
   "metadata": {},
   "outputs": [
    {
     "name": "stdout",
     "output_type": "stream",
     "text": [
      "bots: %28.57\n",
      "humans: %52.63\n"
     ]
    }
   ],
   "source": [
    "bots_novelty = len(bots_df.query(\"new_url == True\")) / len(bots_df) * 100\n",
    "print(\"bots: %{0:.2f}\".format(bots_novelty))\n",
    "\n",
    "humans_novelty = len(humans_df.query('new_url == True')) / len(humans_df) * 100\n",
    "print(\"humans: %{0:.2f}\".format(humans_novelty))"
   ]
  },
  {
   "cell_type": "code",
   "execution_count": 137,
   "metadata": {},
   "outputs": [],
   "source": [
    "bots_df.to_csv('results/bots-sample.csv')\n",
    "humans_df.to_csv('results/humans-sample.csv')"
   ]
  },
  {
   "cell_type": "markdown",
   "metadata": {},
   "source": [
    "It would now be interesting to look at the percentages by year for all our years and visualize them as a barchart. To collect the data by year we'll create a function that bundles up all the operations we just did so we can call it for each year."
   ]
  },
  {
   "cell_type": "code",
   "execution_count": 18,
   "metadata": {},
   "outputs": [],
   "source": [
    "def novelty(year, bots):\n",
    "    pop = df.filter(df.date.like(year + '%')).filter(df.bot == bots)\n",
    "    pop_count = pop.count()\n",
    "    \n",
    "    if pop_count == 0:\n",
    "        return 0.0, 0, 0\n",
    "    \n",
    "    # determine n: \n",
    "    \n",
    "    sample = pop.sample(0.0001)\n",
    "    sample_df = sample.toPandas()\n",
    "\n",
    "    sample_df['new_url'] = pandas.Series(\n",
    "        [new_url(r.url, r.date) for i, r in sample_df.iterrows()], \n",
    "        index=sample_df.index\n",
    "    )\n",
    "    \n",
    "    novelty = len(sample_df.query(\"new_url == True\")) / len(sample_df)\n",
    "    return novelty, len(sample_df), pop_count"
   ]
  },
  {
   "cell_type": "code",
   "execution_count": 115,
   "metadata": {},
   "outputs": [
    {
     "name": "stdout",
     "output_type": "stream",
     "text": [
      "year=2013 novelty=83.33333333333334 n=6 p=59510\n",
      "year=2013 novelty=0.0 n=0 p=0\n",
      "year=2014 novelty=80.0 n=10 p=50315\n",
      "year=2014 novelty=70.0 n=10 p=108374\n",
      "year=2015 novelty=8.333333333333332 n=12 p=120016\n",
      "year=2015 novelty=47.61904761904761 n=21 p=153209\n",
      "year=2016 novelty=27.500000000000004 n=40 p=302830\n",
      "year=2016 novelty=28.57142857142857 n=14 p=182266\n",
      "year=2017 novelty=88.6128364389234 n=483 p=4688176\n",
      "year=2017 novelty=52.94117647058824 n=34 p=372386\n",
      "year=2018 novelty=32.6530612244898 n=98 p=1071863\n",
      "year=2018 novelty=62.96296296296296 n=27 p=348724\n"
     ]
    }
   ],
   "source": [
    "novelty_by_year = {'novelty': [], 'year': [], 'agent': [], 'p': [], 'n': []}\n",
    "\n",
    "for year in range(2013, 2019):\n",
    "    y = str(year)\n",
    "    for bots in [True, False]:\n",
    "        nov, n, p = novelty(y, bots=bots)\n",
    "        print(\"year={} novelty={} n={} p={}\".format(y, nov, n, p))\n",
    "        novelty_by_year['novelty'].append(nov)\n",
    "        novelty_by_year['year'].append(y)\n",
    "        novelty_by_year['agent'].append('bots' if bots else 'humans')   \n",
    "        novelty_by_year['p'].append(p)\n",
    "        novelty_by_year['n'].append(n)"
   ]
  },
  {
   "cell_type": "code",
   "execution_count": 114,
   "metadata": {},
   "outputs": [
    {
     "data": {
      "application/javascript": [
       "var spec = {\"config\": {\"view\": {\"width\": 400, \"height\": 300}, \"mark\": {\"tooltip\": null}}, \"data\": {\"name\": \"data-f29eedfdd8d3410d03c9ba6d79b5f0bc\"}, \"mark\": \"bar\", \"encoding\": {\"color\": {\"type\": \"nominal\", \"field\": \"bots\"}, \"column\": {\"type\": \"ordinal\", \"field\": \"year\", \"title\": \"\"}, \"x\": {\"type\": \"nominal\", \"field\": \"bots\", \"title\": \"\"}, \"y\": {\"type\": \"quantitative\", \"field\": \"novelty\"}}, \"title\": \"Archival Novelty by Year\", \"width\": 50, \"$schema\": \"https://vega.github.io/schema/vega-lite/v3.2.1.json\", \"datasets\": {\"data-f29eedfdd8d3410d03c9ba6d79b5f0bc\": [{\"year\": \"2013\", \"novelty\": 50.0, \"bots\": \"bots\"}, {\"year\": \"2013\", \"novelty\": 0.0, \"bots\": \"humans\"}, {\"year\": \"2014\", \"novelty\": 57.14285714285714, \"bots\": \"bots\"}, {\"year\": \"2014\", \"novelty\": 33.33333333333333, \"bots\": \"humans\"}, {\"year\": \"2015\", \"novelty\": 16.666666666666664, \"bots\": \"bots\"}, {\"year\": \"2015\", \"novelty\": 50.0, \"bots\": \"humans\"}, {\"year\": \"2016\", \"novelty\": 22.727272727272727, \"bots\": \"bots\"}, {\"year\": \"2016\", \"novelty\": 35.294117647058826, \"bots\": \"humans\"}, {\"year\": \"2017\", \"novelty\": 88.14655172413794, \"bots\": \"bots\"}, {\"year\": \"2017\", \"novelty\": 68.96551724137932, \"bots\": \"humans\"}, {\"year\": \"2018\", \"novelty\": 19.230769230769234, \"bots\": \"bots\"}, {\"year\": \"2018\", \"novelty\": 53.84615384615385, \"bots\": \"humans\"}]}};\n",
       "var opt = {};\n",
       "var type = \"vega-lite\";\n",
       "var id = \"fe8de975-e409-45ed-944a-8673cf33b8c7\";\n",
       "\n",
       "var output_area = this;\n",
       "\n",
       "require([\"nbextensions/jupyter-vega/index\"], function(vega) {\n",
       "  var target = document.createElement(\"div\");\n",
       "  target.id = id;\n",
       "  target.className = \"vega-embed\";\n",
       "\n",
       "  var style = document.createElement(\"style\");\n",
       "  style.textContent = [\n",
       "    \".vega-embed .error p {\",\n",
       "    \"  color: firebrick;\",\n",
       "    \"  font-size: 14px;\",\n",
       "    \"}\",\n",
       "  ].join(\"\\\\n\");\n",
       "\n",
       "  // element is a jQuery wrapped DOM element inside the output area\n",
       "  // see http://ipython.readthedocs.io/en/stable/api/generated/\\\n",
       "  // IPython.display.html#IPython.display.Javascript.__init__\n",
       "  element[0].appendChild(target);\n",
       "  element[0].appendChild(style);\n",
       "\n",
       "  vega.render(\"#\" + id, spec, type, opt, output_area);\n",
       "}, function (err) {\n",
       "  if (err.requireType !== \"scripterror\") {\n",
       "    throw(err);\n",
       "  }\n",
       "});\n"
      ],
      "text/plain": [
       "<vega.vegalite.VegaLite at 0x10fa8bcc0>"
      ]
     },
     "metadata": {
      "jupyter-vega": "#fe8de975-e409-45ed-944a-8673cf33b8c7"
     },
     "output_type": "display_data"
    },
    {
     "data": {
      "text/plain": []
     },
     "execution_count": 114,
     "metadata": {},
     "output_type": "execute_result"
    },
    {
     "data": {
      "image/png": "[encoded data removed]"
     },
     "metadata": {
      "jupyter-vega": "#fe8de975-e409-45ed-944a-8673cf33b8c7"
     },
     "output_type": "display_data"
    }
   ],
   "source": [
    "import altair\n",
    "altair.renderers.enable('notebook')\n",
    "\n",
    "novelty_df = pandas.DataFrame(novelty_by_year)\n",
    "\n",
    "chart = altair.Chart(novelty_df).mark_bar().encode(\n",
    "    altair.X('bots:N', title=''),    \n",
    "    altair.Y('novelty:Q', axis=altair.Axis(format='%')),\n",
    "    altair.Color('bots:N'), #, title='Bots', scale=altair.Scale(scheme='tableau20'))\n",
    "    altair.Column('year:O', title=''),\n",
    ")\n",
    "\n",
    "chart = chart.properties(\n",
    "    width=50,\n",
    "    title='Archival Novelty by Year'\n",
    ")\n",
    "\n",
    "chart"
   ]
  },
  {
   "cell_type": "code",
   "execution_count": null,
   "metadata": {},
   "outputs": [],
   "source": []
  }
 ],
 "metadata": {
  "kernelspec": {
   "display_name": "Python 3",
   "language": "python",
   "name": "python3"
  },
  "language_info": {
   "codemirror_mode": {
    "name": "ipython",
    "version": 3
   },
   "file_extension": ".py",
   "mimetype": "text/x-python",
   "name": "python",
   "nbconvert_exporter": "python",
   "pygments_lexer": "ipython3",
   "version": "3.7.3"
  }
 },
 "nbformat": 4,
 "nbformat_minor": 2
}
