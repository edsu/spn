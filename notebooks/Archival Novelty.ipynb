{
 "cells": [
  {
   "cell_type": "markdown",
   "metadata": {},
   "source": [
    "# Archival Novelty"
   ]
  },
  {
   "cell_type": "markdown",
   "metadata": {},
   "source": [
    "This notebook explores whether requests to archive web resources using SavePageNow were the first time the Internet Archive became aware of a URL. Or rather, whether the request provided the Internet Archive with first knowledge of the web resource. Let's call this *archival novelty* which will be the percentage of SavePageNow requests which brought new knowledge of a URL to the Internet Archive. We are specifically going to look at *archival novelty* in terms of SavePageNow requests from automated and human agents.\n",
    "\n",
    "The Internet Archive's [CDX API](https://github.com/internetarchive/wayback/tree/master/wayback-cdx-server) can tell us exactly when a given URL has been archived over time. But there are 7 million requests for HTML pages in our dataset. So what we will do is randomly sample the requests and check those against the CDX API.\n",
    "\n",
    "First we will read in the URLS csv data that we generated in the URLs notebook back into a Spark DataFrame. Remember this only SavePageNow requests that resulted in an HTML responses, so it doesn't include things like images, JavaScript or CSS that SavePageNow could request when proxying an actual browser."
   ]
  },
  {
   "cell_type": "code",
   "execution_count": 1,
   "metadata": {},
   "outputs": [],
   "source": [
    "import sys\n",
    "sys.path.append('../utils')\n",
    "\n",
    "from warc_spark import init\n",
    "\n",
    "sc, sqlc = init()\n",
    "df = sqlc.read.csv('results/urls', header=True)"
   ]
  },
  {
   "cell_type": "markdown",
   "metadata": {},
   "source": [
    "## Create Samples\n",
    "\n",
    "Lets look specifically at 2018. Since millions of SavePageNow requests were received, and it's not feasible to query the CDX API millions of times, we will generate a random sample. Since we know the size of the population (number of requests) we will use the [Yamane Method](http://www.research-system.siam.edu/images/independent/Consumer_acceptance_of_air_purifier_products_in_China/CHAPTER_3.pdf) to calculate the sample size needed for a confidence interval of 5% and a confidence level of 95%."
   ]
  },
  {
   "cell_type": "code",
   "execution_count": 74,
   "metadata": {},
   "outputs": [
    {
     "name": "stdout",
     "output_type": "stream",
     "text": [
      "sample size: 399\n"
     ]
    }
   ],
   "source": [
    "import pandas\n",
    "\n",
    "year = df.filter(df.date.like('2018%'))\n",
    "pop_size = year.count()\n",
    "sample_size = int(pop_size / (1 + pop_size * (.05**2)))\n",
    "sample_list = year.rdd.takeSample(withReplacement=False, num=sample_size, seed=42)\n",
    "\n",
    "print(\"sample size:\", len(sample_list))"
   ]
  },
  {
   "cell_type": "code",
   "execution_count": 84,
   "metadata": {},
   "outputs": [
    {
     "name": "stdout",
     "output_type": "stream",
     "text": [
      "Row(record_id='<urn:uuid:e70603a2-096a-4f82-b66d-7bc2bb5f286e>', warc_file='warcs/liveweb-20181025043139/live-20181025035248-wwwb-app53.us.archive.org.warc.gz', date='2018-10-25T04:12:23Z', url='http://eestipaevaleht.se/', user_agent='Python-urllib/2.7', user_agent_family='Python-urllib', bot='true')\n"
     ]
    }
   ],
   "source": [
    "print(sample_list[0])"
   ]
  },
  {
   "cell_type": "code",
   "execution_count": 87,
   "metadata": {},
   "outputs": [
    {
     "data": {
      "text/html": [
       "<div>\n",
       "<style scoped>\n",
       "    .dataframe tbody tr th:only-of-type {\n",
       "        vertical-align: middle;\n",
       "    }\n",
       "\n",
       "    .dataframe tbody tr th {\n",
       "        vertical-align: top;\n",
       "    }\n",
       "\n",
       "    .dataframe thead th {\n",
       "        text-align: right;\n",
       "    }\n",
       "</style>\n",
       "<table border=\"1\" class=\"dataframe\">\n",
       "  <thead>\n",
       "    <tr style=\"text-align: right;\">\n",
       "      <th></th>\n",
       "      <th>warc_file</th>\n",
       "      <th>date</th>\n",
       "      <th>url</th>\n",
       "      <th>user_agent</th>\n",
       "      <th>user_agent_family</th>\n",
       "      <th>bot</th>\n",
       "    </tr>\n",
       "    <tr>\n",
       "      <th>record_id</th>\n",
       "      <th></th>\n",
       "      <th></th>\n",
       "      <th></th>\n",
       "      <th></th>\n",
       "      <th></th>\n",
       "      <th></th>\n",
       "    </tr>\n",
       "  </thead>\n",
       "  <tbody>\n",
       "    <tr>\n",
       "      <th>&lt;urn:uuid:e70603a2-096a-4f82-b66d-7bc2bb5f286e&gt;</th>\n",
       "      <td>warcs/liveweb-20181025043139/live-201810250352...</td>\n",
       "      <td>2018-10-25T04:12:23Z</td>\n",
       "      <td>http://eestipaevaleht.se/</td>\n",
       "      <td>Python-urllib/2.7</td>\n",
       "      <td>Python-urllib</td>\n",
       "      <td>true</td>\n",
       "    </tr>\n",
       "    <tr>\n",
       "      <th>&lt;urn:uuid:8d3949bd-c7c4-45a1-b11f-90a0975de679&gt;</th>\n",
       "      <td>warcs/liveweb-20181025212424/live-201810252105...</td>\n",
       "      <td>2018-10-25T21:23:14Z</td>\n",
       "      <td>http://km.aifb.kit.edu/projects/numbers/web/n2...</td>\n",
       "      <td>Wget/1.19.4 (darwin17.3.0)</td>\n",
       "      <td>Wget</td>\n",
       "      <td>true</td>\n",
       "    </tr>\n",
       "    <tr>\n",
       "      <th>&lt;urn:uuid:87c47520-05d9-47ac-b8b5-79408549caff&gt;</th>\n",
       "      <td>warcs/liveweb-20181025170957/live-201810251658...</td>\n",
       "      <td>2018-10-25T17:05:13Z</td>\n",
       "      <td>https://socialblade.com/youtube/channel/UCCmXc...</td>\n",
       "      <td>Wget/1.19.5 (linux-gnu)</td>\n",
       "      <td>Wget</td>\n",
       "      <td>true</td>\n",
       "    </tr>\n",
       "    <tr>\n",
       "      <th>&lt;urn:uuid:0b7d69ca-d38c-4d6c-9f91-bcb63c82265c&gt;</th>\n",
       "      <td>warcs/liveweb-20181025000937/cachegw-201810240...</td>\n",
       "      <td>2018-10-24T13:44:56Z</td>\n",
       "      <td>https://www.reg.ru/domain/shop/lot/rockderzhav...</td>\n",
       "      <td>Mozilla/5.0 (compatible; archive.org_bot; Wayb...</td>\n",
       "      <td>archive.org_bot</td>\n",
       "      <td>true</td>\n",
       "    </tr>\n",
       "    <tr>\n",
       "      <th>&lt;urn:uuid:572b5006-3a51-43df-94fc-95ccfea727af&gt;</th>\n",
       "      <td>warcs/liveweb-20181025165702/live-201810251631...</td>\n",
       "      <td>2018-10-25T16:47:20Z</td>\n",
       "      <td>http://abelhas.pt/action/LastAccounts/LastSeen...</td>\n",
       "      <td>Mozilla/5.0 (Windows NT 6.1; Win64; x64; rv:63...</td>\n",
       "      <td>Firefox</td>\n",
       "      <td>false</td>\n",
       "    </tr>\n",
       "  </tbody>\n",
       "</table>\n",
       "</div>"
      ],
      "text/plain": [
       "                                                                                         warc_file  \\\n",
       "record_id                                                                                            \n",
       "<urn:uuid:e70603a2-096a-4f82-b66d-7bc2bb5f286e>  warcs/liveweb-20181025043139/live-201810250352...   \n",
       "<urn:uuid:8d3949bd-c7c4-45a1-b11f-90a0975de679>  warcs/liveweb-20181025212424/live-201810252105...   \n",
       "<urn:uuid:87c47520-05d9-47ac-b8b5-79408549caff>  warcs/liveweb-20181025170957/live-201810251658...   \n",
       "<urn:uuid:0b7d69ca-d38c-4d6c-9f91-bcb63c82265c>  warcs/liveweb-20181025000937/cachegw-201810240...   \n",
       "<urn:uuid:572b5006-3a51-43df-94fc-95ccfea727af>  warcs/liveweb-20181025165702/live-201810251631...   \n",
       "\n",
       "                                                                 date  \\\n",
       "record_id                                                               \n",
       "<urn:uuid:e70603a2-096a-4f82-b66d-7bc2bb5f286e>  2018-10-25T04:12:23Z   \n",
       "<urn:uuid:8d3949bd-c7c4-45a1-b11f-90a0975de679>  2018-10-25T21:23:14Z   \n",
       "<urn:uuid:87c47520-05d9-47ac-b8b5-79408549caff>  2018-10-25T17:05:13Z   \n",
       "<urn:uuid:0b7d69ca-d38c-4d6c-9f91-bcb63c82265c>  2018-10-24T13:44:56Z   \n",
       "<urn:uuid:572b5006-3a51-43df-94fc-95ccfea727af>  2018-10-25T16:47:20Z   \n",
       "\n",
       "                                                                                               url  \\\n",
       "record_id                                                                                            \n",
       "<urn:uuid:e70603a2-096a-4f82-b66d-7bc2bb5f286e>                          http://eestipaevaleht.se/   \n",
       "<urn:uuid:8d3949bd-c7c4-45a1-b11f-90a0975de679>  http://km.aifb.kit.edu/projects/numbers/web/n2...   \n",
       "<urn:uuid:87c47520-05d9-47ac-b8b5-79408549caff>  https://socialblade.com/youtube/channel/UCCmXc...   \n",
       "<urn:uuid:0b7d69ca-d38c-4d6c-9f91-bcb63c82265c>  https://www.reg.ru/domain/shop/lot/rockderzhav...   \n",
       "<urn:uuid:572b5006-3a51-43df-94fc-95ccfea727af>  http://abelhas.pt/action/LastAccounts/LastSeen...   \n",
       "\n",
       "                                                                                        user_agent  \\\n",
       "record_id                                                                                            \n",
       "<urn:uuid:e70603a2-096a-4f82-b66d-7bc2bb5f286e>                                  Python-urllib/2.7   \n",
       "<urn:uuid:8d3949bd-c7c4-45a1-b11f-90a0975de679>                         Wget/1.19.4 (darwin17.3.0)   \n",
       "<urn:uuid:87c47520-05d9-47ac-b8b5-79408549caff>                            Wget/1.19.5 (linux-gnu)   \n",
       "<urn:uuid:0b7d69ca-d38c-4d6c-9f91-bcb63c82265c>  Mozilla/5.0 (compatible; archive.org_bot; Wayb...   \n",
       "<urn:uuid:572b5006-3a51-43df-94fc-95ccfea727af>  Mozilla/5.0 (Windows NT 6.1; Win64; x64; rv:63...   \n",
       "\n",
       "                                                user_agent_family    bot  \n",
       "record_id                                                                 \n",
       "<urn:uuid:e70603a2-096a-4f82-b66d-7bc2bb5f286e>     Python-urllib   true  \n",
       "<urn:uuid:8d3949bd-c7c4-45a1-b11f-90a0975de679>              Wget   true  \n",
       "<urn:uuid:87c47520-05d9-47ac-b8b5-79408549caff>              Wget   true  \n",
       "<urn:uuid:0b7d69ca-d38c-4d6c-9f91-bcb63c82265c>   archive.org_bot   true  \n",
       "<urn:uuid:572b5006-3a51-43df-94fc-95ccfea727af>           Firefox  false  "
      ]
     },
     "execution_count": 87,
     "metadata": {},
     "output_type": "execute_result"
    }
   ],
   "source": [
    "sample = pandas.DataFrame(sample_list, columns=year.schema.fieldNames())\n",
    "sample = sample.set_index('record_id')\n",
    "sample.head()"
   ]
  },
  {
   "cell_type": "markdown",
   "metadata": {},
   "source": [
    "## Add Novelty\n",
    "\n",
    "Now let's create a function that will return all the times a URL was archived. If supplied the `to` parameter will limit the results to snapshots that were taken prior to (and including) that time. This will limit the results we need to collect since we don't really need to know how many times a URL was collected *after* the time in question."
   ]
  },
  {
   "cell_type": "code",
   "execution_count": 11,
   "metadata": {},
   "outputs": [
    {
     "name": "stdout",
     "output_type": "stream",
     "text": [
      "https://mith.umd.edu [20000815201749, 20001204145800, 20010201091600, 20010203124200, 20010224212144, 20010301092808, 20010302112313, 20010309133144, 20010404212235, 20010418164605, 20010515215143, 20010721201430, 20010924024921, 20011202065537, 20020601134123, 20020604040017, 20020802093507, 20020927173901, 20020929183602]\n"
     ]
    }
   ],
   "source": [
    "import requests\n",
    "\n",
    "def archive_times(url, to=None):\n",
    "    params = {\"output\": \"json\", \"url\": url, \"limit\": 10000, 'showResumeKey': True}\n",
    "    if to:\n",
    "        params['to'] = to\n",
    "    \n",
    "    while True:\n",
    "        resp = requests.get('http://web.archive.org/cdx/search/cdx', params=params)\n",
    "        \n",
    "        if resp.status_code == 403:\n",
    "            # catch \"Blocked Site Error\" when robots.txt prevents lookup?\n",
    "            # e.g. http://www.jeuxvideo.com/forums/42-51-53683620-1-0-1-0-pour-etre-assure-au-niveau-de-la-sante-aux-usa.htm \n",
    "            yield None\n",
    "            break\n",
    "            \n",
    "        results = resp.json()\n",
    "        # ignore header\n",
    "        for result in results[1:]:\n",
    "            if len(result) > 1:\n",
    "                yield int(result[1])\n",
    "        \n",
    "        if len(results) != 0 and len(results[-1]) == 1:\n",
    "            params['resumeKey'] = results[-1][0]\n",
    "        else:\n",
    "            break\n",
    "\n",
    "\n",
    "print('https://mith.umd.edu', list(archive_times('https://mith.umd.edu/', to=20020929183602)))"
   ]
  },
  {
   "cell_type": "markdown",
   "metadata": {},
   "source": [
    "Now that we have a function that returns all the times that a URL was archived we can create another function `new_url` that takes a uRL and a date and determines whether the snapshot taken at that time was the first time the URL was seen."
   ]
  },
  {
   "cell_type": "code",
   "execution_count": 103,
   "metadata": {},
   "outputs": [],
   "source": [
    "import re\n",
    "\n",
    "def new_url(url, date):\n",
    "    # convert 2018-10-25T21:47:18Z to 20181025214718\n",
    "    request_date = int(re.sub(r'[:TZ-]', '', date))\n",
    "    \n",
    "    # cdx results should be sorted, but we'll make sure\n",
    "    times = sorted(archive_times(url, to=request_date))\n",
    "    if len(times) > 0:\n",
    "        result = request_date == times[0]\n",
    "    else:\n",
    "        # sometimes it seems Wayback CDX doesn't know about things in the WARCs?\n",
    "        # e.g. http://josephinedark.net/code.php?PHPSESSID=96bb60faa7f178b21b949e9359129459\n",
    "        result = False\n",
    "    \n",
    "    return result"
   ]
  },
  {
   "cell_type": "markdown",
   "metadata": {},
   "source": [
    "Let's test it out on the first ten rows in the humans sample:"
   ]
  },
  {
   "cell_type": "code",
   "execution_count": 104,
   "metadata": {},
   "outputs": [
    {
     "name": "stdout",
     "output_type": "stream",
     "text": [
      "http://eestipaevaleht.se/ False\n",
      "http://km.aifb.kit.edu/projects/numbers/web/n2481513 True\n",
      "https://socialblade.com/youtube/channel/UCCmXcYtA4T9wxc3vmbGFxRA False\n",
      "https://www.reg.ru/domain/shop/lot/rockderzhava.ru?rid=2014 False\n",
      "http://abelhas.pt/action/LastAccounts/LastSeenRotation?TimeStamp=1540485933469&itemsCount=84&inRow=7&pageSize=21&page=4 True\n"
     ]
    }
   ],
   "source": [
    "for i, row in sample.head(5).iterrows():\n",
    "    print(row.url, new_url(row.url, row.date))"
   ]
  },
  {
   "cell_type": "markdown",
   "metadata": {},
   "source": [
    "You can go over to [Internet Archive's Wayback Machine](https://web.archive.org) to confirm the results. Now we can create our new column named `new_url` to indicate whether the URL was new when it was added to the Internet Archive. Depending on the number of rows in the sample this can take some time, since each row triggers a CDX API lookup, which will take about a second."
   ]
  },
  {
   "cell_type": "code",
   "execution_count": 89,
   "metadata": {},
   "outputs": [],
   "source": [
    "sample['new_url'] = pandas.Series(\n",
    "    [new_url(r.url, r.date) for i, r in sample.iterrows()], \n",
    "    index=sample.index\n",
    ")"
   ]
  },
  {
   "cell_type": "code",
   "execution_count": 90,
   "metadata": {},
   "outputs": [
    {
     "data": {
      "text/html": [
       "<div>\n",
       "<style scoped>\n",
       "    .dataframe tbody tr th:only-of-type {\n",
       "        vertical-align: middle;\n",
       "    }\n",
       "\n",
       "    .dataframe tbody tr th {\n",
       "        vertical-align: top;\n",
       "    }\n",
       "\n",
       "    .dataframe thead th {\n",
       "        text-align: right;\n",
       "    }\n",
       "</style>\n",
       "<table border=\"1\" class=\"dataframe\">\n",
       "  <thead>\n",
       "    <tr style=\"text-align: right;\">\n",
       "      <th></th>\n",
       "      <th>warc_file</th>\n",
       "      <th>date</th>\n",
       "      <th>url</th>\n",
       "      <th>user_agent</th>\n",
       "      <th>user_agent_family</th>\n",
       "      <th>bot</th>\n",
       "      <th>new_url</th>\n",
       "    </tr>\n",
       "    <tr>\n",
       "      <th>record_id</th>\n",
       "      <th></th>\n",
       "      <th></th>\n",
       "      <th></th>\n",
       "      <th></th>\n",
       "      <th></th>\n",
       "      <th></th>\n",
       "      <th></th>\n",
       "    </tr>\n",
       "  </thead>\n",
       "  <tbody>\n",
       "    <tr>\n",
       "      <th>&lt;urn:uuid:e70603a2-096a-4f82-b66d-7bc2bb5f286e&gt;</th>\n",
       "      <td>warcs/liveweb-20181025043139/live-201810250352...</td>\n",
       "      <td>2018-10-25T04:12:23Z</td>\n",
       "      <td>http://eestipaevaleht.se/</td>\n",
       "      <td>Python-urllib/2.7</td>\n",
       "      <td>Python-urllib</td>\n",
       "      <td>true</td>\n",
       "      <td>false</td>\n",
       "    </tr>\n",
       "    <tr>\n",
       "      <th>&lt;urn:uuid:8d3949bd-c7c4-45a1-b11f-90a0975de679&gt;</th>\n",
       "      <td>warcs/liveweb-20181025212424/live-201810252105...</td>\n",
       "      <td>2018-10-25T21:23:14Z</td>\n",
       "      <td>http://km.aifb.kit.edu/projects/numbers/web/n2...</td>\n",
       "      <td>Wget/1.19.4 (darwin17.3.0)</td>\n",
       "      <td>Wget</td>\n",
       "      <td>true</td>\n",
       "      <td>true</td>\n",
       "    </tr>\n",
       "    <tr>\n",
       "      <th>&lt;urn:uuid:87c47520-05d9-47ac-b8b5-79408549caff&gt;</th>\n",
       "      <td>warcs/liveweb-20181025170957/live-201810251658...</td>\n",
       "      <td>2018-10-25T17:05:13Z</td>\n",
       "      <td>https://socialblade.com/youtube/channel/UCCmXc...</td>\n",
       "      <td>Wget/1.19.5 (linux-gnu)</td>\n",
       "      <td>Wget</td>\n",
       "      <td>true</td>\n",
       "      <td>false</td>\n",
       "    </tr>\n",
       "    <tr>\n",
       "      <th>&lt;urn:uuid:0b7d69ca-d38c-4d6c-9f91-bcb63c82265c&gt;</th>\n",
       "      <td>warcs/liveweb-20181025000937/cachegw-201810240...</td>\n",
       "      <td>2018-10-24T13:44:56Z</td>\n",
       "      <td>https://www.reg.ru/domain/shop/lot/rockderzhav...</td>\n",
       "      <td>Mozilla/5.0 (compatible; archive.org_bot; Wayb...</td>\n",
       "      <td>archive.org_bot</td>\n",
       "      <td>true</td>\n",
       "      <td>false</td>\n",
       "    </tr>\n",
       "    <tr>\n",
       "      <th>&lt;urn:uuid:572b5006-3a51-43df-94fc-95ccfea727af&gt;</th>\n",
       "      <td>warcs/liveweb-20181025165702/live-201810251631...</td>\n",
       "      <td>2018-10-25T16:47:20Z</td>\n",
       "      <td>http://abelhas.pt/action/LastAccounts/LastSeen...</td>\n",
       "      <td>Mozilla/5.0 (Windows NT 6.1; Win64; x64; rv:63...</td>\n",
       "      <td>Firefox</td>\n",
       "      <td>false</td>\n",
       "      <td>true</td>\n",
       "    </tr>\n",
       "  </tbody>\n",
       "</table>\n",
       "</div>"
      ],
      "text/plain": [
       "                                                                                         warc_file  \\\n",
       "record_id                                                                                            \n",
       "<urn:uuid:e70603a2-096a-4f82-b66d-7bc2bb5f286e>  warcs/liveweb-20181025043139/live-201810250352...   \n",
       "<urn:uuid:8d3949bd-c7c4-45a1-b11f-90a0975de679>  warcs/liveweb-20181025212424/live-201810252105...   \n",
       "<urn:uuid:87c47520-05d9-47ac-b8b5-79408549caff>  warcs/liveweb-20181025170957/live-201810251658...   \n",
       "<urn:uuid:0b7d69ca-d38c-4d6c-9f91-bcb63c82265c>  warcs/liveweb-20181025000937/cachegw-201810240...   \n",
       "<urn:uuid:572b5006-3a51-43df-94fc-95ccfea727af>  warcs/liveweb-20181025165702/live-201810251631...   \n",
       "\n",
       "                                                                 date  \\\n",
       "record_id                                                               \n",
       "<urn:uuid:e70603a2-096a-4f82-b66d-7bc2bb5f286e>  2018-10-25T04:12:23Z   \n",
       "<urn:uuid:8d3949bd-c7c4-45a1-b11f-90a0975de679>  2018-10-25T21:23:14Z   \n",
       "<urn:uuid:87c47520-05d9-47ac-b8b5-79408549caff>  2018-10-25T17:05:13Z   \n",
       "<urn:uuid:0b7d69ca-d38c-4d6c-9f91-bcb63c82265c>  2018-10-24T13:44:56Z   \n",
       "<urn:uuid:572b5006-3a51-43df-94fc-95ccfea727af>  2018-10-25T16:47:20Z   \n",
       "\n",
       "                                                                                               url  \\\n",
       "record_id                                                                                            \n",
       "<urn:uuid:e70603a2-096a-4f82-b66d-7bc2bb5f286e>                          http://eestipaevaleht.se/   \n",
       "<urn:uuid:8d3949bd-c7c4-45a1-b11f-90a0975de679>  http://km.aifb.kit.edu/projects/numbers/web/n2...   \n",
       "<urn:uuid:87c47520-05d9-47ac-b8b5-79408549caff>  https://socialblade.com/youtube/channel/UCCmXc...   \n",
       "<urn:uuid:0b7d69ca-d38c-4d6c-9f91-bcb63c82265c>  https://www.reg.ru/domain/shop/lot/rockderzhav...   \n",
       "<urn:uuid:572b5006-3a51-43df-94fc-95ccfea727af>  http://abelhas.pt/action/LastAccounts/LastSeen...   \n",
       "\n",
       "                                                                                        user_agent  \\\n",
       "record_id                                                                                            \n",
       "<urn:uuid:e70603a2-096a-4f82-b66d-7bc2bb5f286e>                                  Python-urllib/2.7   \n",
       "<urn:uuid:8d3949bd-c7c4-45a1-b11f-90a0975de679>                         Wget/1.19.4 (darwin17.3.0)   \n",
       "<urn:uuid:87c47520-05d9-47ac-b8b5-79408549caff>                            Wget/1.19.5 (linux-gnu)   \n",
       "<urn:uuid:0b7d69ca-d38c-4d6c-9f91-bcb63c82265c>  Mozilla/5.0 (compatible; archive.org_bot; Wayb...   \n",
       "<urn:uuid:572b5006-3a51-43df-94fc-95ccfea727af>  Mozilla/5.0 (Windows NT 6.1; Win64; x64; rv:63...   \n",
       "\n",
       "                                                user_agent_family    bot  \\\n",
       "record_id                                                                  \n",
       "<urn:uuid:e70603a2-096a-4f82-b66d-7bc2bb5f286e>     Python-urllib   true   \n",
       "<urn:uuid:8d3949bd-c7c4-45a1-b11f-90a0975de679>              Wget   true   \n",
       "<urn:uuid:87c47520-05d9-47ac-b8b5-79408549caff>              Wget   true   \n",
       "<urn:uuid:0b7d69ca-d38c-4d6c-9f91-bcb63c82265c>   archive.org_bot   true   \n",
       "<urn:uuid:572b5006-3a51-43df-94fc-95ccfea727af>           Firefox  false   \n",
       "\n",
       "                                                new_url  \n",
       "record_id                                                \n",
       "<urn:uuid:e70603a2-096a-4f82-b66d-7bc2bb5f286e>   false  \n",
       "<urn:uuid:8d3949bd-c7c4-45a1-b11f-90a0975de679>    true  \n",
       "<urn:uuid:87c47520-05d9-47ac-b8b5-79408549caff>   false  \n",
       "<urn:uuid:0b7d69ca-d38c-4d6c-9f91-bcb63c82265c>   false  \n",
       "<urn:uuid:572b5006-3a51-43df-94fc-95ccfea727af>    true  "
      ]
     },
     "execution_count": 90,
     "metadata": {},
     "output_type": "execute_result"
    }
   ],
   "source": [
    "sample.head(5)"
   ]
  },
  {
   "cell_type": "markdown",
   "metadata": {},
   "source": [
    "Now we can calcuate the novelty for 2018, or the probability that a SavePageNow request generated brought a new URL to the archive."
   ]
  },
  {
   "cell_type": "code",
   "execution_count": 92,
   "metadata": {},
   "outputs": [
    {
     "name": "stdout",
     "output_type": "stream",
     "text": [
      "0.37343358395989973\n"
     ]
    }
   ],
   "source": [
    "novelty = len(sample.query('new_url == \"true\"')) / len(sample)\n",
    "print(novelty)"
   ]
  },
  {
   "cell_type": "markdown",
   "metadata": {},
   "source": [
    "So, 37% of SavePageNow requests on October 25, 2018 added a new (novel) URL to the archive. The margin of error is 5% with 95% level of confidence.\n",
    "\n",
    "Let's save our sampled dataset since it did take some time to generate."
   ]
  },
  {
   "cell_type": "code",
   "execution_count": 93,
   "metadata": {},
   "outputs": [],
   "source": [
    "sample.to_csv('results/novelty-sample.csv')"
   ]
  },
  {
   "cell_type": "markdown",
   "metadata": {},
   "source": [
    "## Automation and Archival Novelty\n",
    "\n",
    "The User Agents notebook provides a general sense of whether traffic was automated or not. So it should be possible to see if there is any statistical difference in archival novelty between these two types of agents.\n",
    "\n",
    "To do this we will run a [Chi-square Test for Association](https://en.wikipedia.org/wiki/Chi-squared_test). As our null-hypothesis we will assume that there is no difference in archival novelty between automated and human SavePageNow requests. If the null hypothesis can be rejected, then we must accept the alternate hypothesis that there is a difference in archival novelty between humans and bots."
   ]
  },
  {
   "cell_type": "markdown",
   "metadata": {},
   "source": [
    "If we we don't have it already load back the sample dataset that was created in the previous section."
   ]
  },
  {
   "cell_type": "code",
   "execution_count": 3,
   "metadata": {},
   "outputs": [
    {
     "data": {
      "text/html": [
       "<div>\n",
       "<style scoped>\n",
       "    .dataframe tbody tr th:only-of-type {\n",
       "        vertical-align: middle;\n",
       "    }\n",
       "\n",
       "    .dataframe tbody tr th {\n",
       "        vertical-align: top;\n",
       "    }\n",
       "\n",
       "    .dataframe thead th {\n",
       "        text-align: right;\n",
       "    }\n",
       "</style>\n",
       "<table border=\"1\" class=\"dataframe\">\n",
       "  <thead>\n",
       "    <tr style=\"text-align: right;\">\n",
       "      <th></th>\n",
       "      <th>warc_file</th>\n",
       "      <th>date</th>\n",
       "      <th>url</th>\n",
       "      <th>user_agent</th>\n",
       "      <th>user_agent_family</th>\n",
       "      <th>bot</th>\n",
       "      <th>new_url</th>\n",
       "    </tr>\n",
       "    <tr>\n",
       "      <th>record_id</th>\n",
       "      <th></th>\n",
       "      <th></th>\n",
       "      <th></th>\n",
       "      <th></th>\n",
       "      <th></th>\n",
       "      <th></th>\n",
       "      <th></th>\n",
       "    </tr>\n",
       "  </thead>\n",
       "  <tbody>\n",
       "    <tr>\n",
       "      <th>&lt;urn:uuid:e70603a2-096a-4f82-b66d-7bc2bb5f286e&gt;</th>\n",
       "      <td>warcs/liveweb-20181025043139/live-201810250352...</td>\n",
       "      <td>2018-10-25T04:12:23Z</td>\n",
       "      <td>http://eestipaevaleht.se/</td>\n",
       "      <td>Python-urllib/2.7</td>\n",
       "      <td>Python-urllib</td>\n",
       "      <td>True</td>\n",
       "      <td>False</td>\n",
       "    </tr>\n",
       "    <tr>\n",
       "      <th>&lt;urn:uuid:8d3949bd-c7c4-45a1-b11f-90a0975de679&gt;</th>\n",
       "      <td>warcs/liveweb-20181025212424/live-201810252105...</td>\n",
       "      <td>2018-10-25T21:23:14Z</td>\n",
       "      <td>http://km.aifb.kit.edu/projects/numbers/web/n2...</td>\n",
       "      <td>Wget/1.19.4 (darwin17.3.0)</td>\n",
       "      <td>Wget</td>\n",
       "      <td>True</td>\n",
       "      <td>True</td>\n",
       "    </tr>\n",
       "    <tr>\n",
       "      <th>&lt;urn:uuid:87c47520-05d9-47ac-b8b5-79408549caff&gt;</th>\n",
       "      <td>warcs/liveweb-20181025170957/live-201810251658...</td>\n",
       "      <td>2018-10-25T17:05:13Z</td>\n",
       "      <td>https://socialblade.com/youtube/channel/UCCmXc...</td>\n",
       "      <td>Wget/1.19.5 (linux-gnu)</td>\n",
       "      <td>Wget</td>\n",
       "      <td>True</td>\n",
       "      <td>False</td>\n",
       "    </tr>\n",
       "    <tr>\n",
       "      <th>&lt;urn:uuid:0b7d69ca-d38c-4d6c-9f91-bcb63c82265c&gt;</th>\n",
       "      <td>warcs/liveweb-20181025000937/cachegw-201810240...</td>\n",
       "      <td>2018-10-24T13:44:56Z</td>\n",
       "      <td>https://www.reg.ru/domain/shop/lot/rockderzhav...</td>\n",
       "      <td>Mozilla/5.0 (compatible; archive.org_bot; Wayb...</td>\n",
       "      <td>archive.org_bot</td>\n",
       "      <td>True</td>\n",
       "      <td>False</td>\n",
       "    </tr>\n",
       "    <tr>\n",
       "      <th>&lt;urn:uuid:572b5006-3a51-43df-94fc-95ccfea727af&gt;</th>\n",
       "      <td>warcs/liveweb-20181025165702/live-201810251631...</td>\n",
       "      <td>2018-10-25T16:47:20Z</td>\n",
       "      <td>http://abelhas.pt/action/LastAccounts/LastSeen...</td>\n",
       "      <td>Mozilla/5.0 (Windows NT 6.1; Win64; x64; rv:63...</td>\n",
       "      <td>Firefox</td>\n",
       "      <td>False</td>\n",
       "      <td>True</td>\n",
       "    </tr>\n",
       "  </tbody>\n",
       "</table>\n",
       "</div>"
      ],
      "text/plain": [
       "                                                                                         warc_file  \\\n",
       "record_id                                                                                            \n",
       "<urn:uuid:e70603a2-096a-4f82-b66d-7bc2bb5f286e>  warcs/liveweb-20181025043139/live-201810250352...   \n",
       "<urn:uuid:8d3949bd-c7c4-45a1-b11f-90a0975de679>  warcs/liveweb-20181025212424/live-201810252105...   \n",
       "<urn:uuid:87c47520-05d9-47ac-b8b5-79408549caff>  warcs/liveweb-20181025170957/live-201810251658...   \n",
       "<urn:uuid:0b7d69ca-d38c-4d6c-9f91-bcb63c82265c>  warcs/liveweb-20181025000937/cachegw-201810240...   \n",
       "<urn:uuid:572b5006-3a51-43df-94fc-95ccfea727af>  warcs/liveweb-20181025165702/live-201810251631...   \n",
       "\n",
       "                                                                 date  \\\n",
       "record_id                                                               \n",
       "<urn:uuid:e70603a2-096a-4f82-b66d-7bc2bb5f286e>  2018-10-25T04:12:23Z   \n",
       "<urn:uuid:8d3949bd-c7c4-45a1-b11f-90a0975de679>  2018-10-25T21:23:14Z   \n",
       "<urn:uuid:87c47520-05d9-47ac-b8b5-79408549caff>  2018-10-25T17:05:13Z   \n",
       "<urn:uuid:0b7d69ca-d38c-4d6c-9f91-bcb63c82265c>  2018-10-24T13:44:56Z   \n",
       "<urn:uuid:572b5006-3a51-43df-94fc-95ccfea727af>  2018-10-25T16:47:20Z   \n",
       "\n",
       "                                                                                               url  \\\n",
       "record_id                                                                                            \n",
       "<urn:uuid:e70603a2-096a-4f82-b66d-7bc2bb5f286e>                          http://eestipaevaleht.se/   \n",
       "<urn:uuid:8d3949bd-c7c4-45a1-b11f-90a0975de679>  http://km.aifb.kit.edu/projects/numbers/web/n2...   \n",
       "<urn:uuid:87c47520-05d9-47ac-b8b5-79408549caff>  https://socialblade.com/youtube/channel/UCCmXc...   \n",
       "<urn:uuid:0b7d69ca-d38c-4d6c-9f91-bcb63c82265c>  https://www.reg.ru/domain/shop/lot/rockderzhav...   \n",
       "<urn:uuid:572b5006-3a51-43df-94fc-95ccfea727af>  http://abelhas.pt/action/LastAccounts/LastSeen...   \n",
       "\n",
       "                                                                                        user_agent  \\\n",
       "record_id                                                                                            \n",
       "<urn:uuid:e70603a2-096a-4f82-b66d-7bc2bb5f286e>                                  Python-urllib/2.7   \n",
       "<urn:uuid:8d3949bd-c7c4-45a1-b11f-90a0975de679>                         Wget/1.19.4 (darwin17.3.0)   \n",
       "<urn:uuid:87c47520-05d9-47ac-b8b5-79408549caff>                            Wget/1.19.5 (linux-gnu)   \n",
       "<urn:uuid:0b7d69ca-d38c-4d6c-9f91-bcb63c82265c>  Mozilla/5.0 (compatible; archive.org_bot; Wayb...   \n",
       "<urn:uuid:572b5006-3a51-43df-94fc-95ccfea727af>  Mozilla/5.0 (Windows NT 6.1; Win64; x64; rv:63...   \n",
       "\n",
       "                                                user_agent_family    bot  \\\n",
       "record_id                                                                  \n",
       "<urn:uuid:e70603a2-096a-4f82-b66d-7bc2bb5f286e>     Python-urllib   True   \n",
       "<urn:uuid:8d3949bd-c7c4-45a1-b11f-90a0975de679>              Wget   True   \n",
       "<urn:uuid:87c47520-05d9-47ac-b8b5-79408549caff>              Wget   True   \n",
       "<urn:uuid:0b7d69ca-d38c-4d6c-9f91-bcb63c82265c>   archive.org_bot   True   \n",
       "<urn:uuid:572b5006-3a51-43df-94fc-95ccfea727af>           Firefox  False   \n",
       "\n",
       "                                                 new_url  \n",
       "record_id                                                 \n",
       "<urn:uuid:e70603a2-096a-4f82-b66d-7bc2bb5f286e>    False  \n",
       "<urn:uuid:8d3949bd-c7c4-45a1-b11f-90a0975de679>     True  \n",
       "<urn:uuid:87c47520-05d9-47ac-b8b5-79408549caff>    False  \n",
       "<urn:uuid:0b7d69ca-d38c-4d6c-9f91-bcb63c82265c>    False  \n",
       "<urn:uuid:572b5006-3a51-43df-94fc-95ccfea727af>     True  "
      ]
     },
     "execution_count": 3,
     "metadata": {},
     "output_type": "execute_result"
    }
   ],
   "source": [
    "import pandas\n",
    "\n",
    "sample = pandas.read_csv('results/novelty-sample.csv', index_col='record_id')\n",
    "sample.head()"
   ]
  },
  {
   "cell_type": "markdown",
   "metadata": {},
   "source": [
    "The next step is to obtain the relevant values for all the possible combinations of type of agent (bot or not) and novelty (new url or not)."
   ]
  },
  {
   "cell_type": "code",
   "execution_count": 4,
   "metadata": {},
   "outputs": [
    {
     "name": "stdout",
     "output_type": "stream",
     "text": [
      "[91, 58, 195, 55]\n"
     ]
    }
   ],
   "source": [
    "values = []\n",
    "values.append(len(sample.query('bot == True & new_url == True')))\n",
    "values.append(len(sample.query('bot == False & new_url == True')))\n",
    "values.append(len(sample.query('bot == True & new_url == False')))\n",
    "values.append(len(sample.query('bot == False & new_url == False')))\n",
    "print(values)"
   ]
  },
  {
   "cell_type": "markdown",
   "metadata": {},
   "source": [
    "I'm not sure why Jupyter centers tables by default, but we can change that..."
   ]
  },
  {
   "cell_type": "code",
   "execution_count": 5,
   "metadata": {},
   "outputs": [
    {
     "data": {
      "text/html": [
       "<style>\n",
       "table {float:left}\n",
       "</style>\n"
      ],
      "text/plain": [
       "<IPython.core.display.HTML object>"
      ]
     },
     "metadata": {},
     "output_type": "display_data"
    }
   ],
   "source": [
    "%%html\n",
    "<style>\n",
    "table {float:left}\n",
    "</style>"
   ]
  },
  {
   "cell_type": "markdown",
   "metadata": {},
   "source": [
    "In tabular form this data would look like this:\n",
    "\n",
    "| Novelty | Bots | Humans | Total |\n",
    "|---------|------|--------|-------|\n",
    "| New     | 91   | 58     | 149   |\n",
    "| Not New | 195  | 55     | 250   |\n",
    "| Total   | 286  | 113    | 399   |"
   ]
  },
  {
   "cell_type": "markdown",
   "metadata": {},
   "source": [
    "Assuming that there is no relation between the type of agent (bot, human) and the novelty of the URL (new, not-new) it is possible to calculate the values we would expect to see based on the prevalance of those values in our sample. First we deteremine the percentages that the various variables have in our sample."
   ]
  },
  {
   "cell_type": "code",
   "execution_count": 7,
   "metadata": {},
   "outputs": [
    {
     "name": "stdout",
     "output_type": "stream",
     "text": [
      "0.7167919799498746 0.2832080200501253 0.37343358395989973 0.6265664160401002 399\n"
     ]
    }
   ],
   "source": [
    "sample_size = len(sample)\n",
    "p_bots = len(sample.query('bot == True')) / sample_size\n",
    "p_humans = len(sample.query('bot == False')) / sample_size\n",
    "p_new = len(sample.query('new_url == True')) / sample_size\n",
    "p_not_new = len(sample.query('new_url == False')) / sample_size\n",
    "print(p_bots, p_humans, p_new, p_not_new, sample_size)"
   ]
  },
  {
   "cell_type": "markdown",
   "metadata": {},
   "source": [
    "Then we use these percentages and the sample size to calculate the values we would expect to see. Note: the order of these must match the ordering used in our values."
   ]
  },
  {
   "cell_type": "code",
   "execution_count": 8,
   "metadata": {},
   "outputs": [
    {
     "name": "stdout",
     "output_type": "stream",
     "text": [
      "[106.80200501253131, 42.19799498746867, 179.19799498746866, 70.80200501253132]\n"
     ]
    }
   ],
   "source": [
    "exp_values = []\n",
    "exp_values.append(p_bots * p_new * sample_size)\n",
    "exp_values.append(p_humans * p_new * sample_size)\n",
    "exp_values.append(p_bots * p_not_new * sample_size)\n",
    "exp_values.append(p_humans * p_not_new * sample_size)\n",
    "\n",
    "print(exp_values)"
   ]
  },
  {
   "cell_type": "markdown",
   "metadata": {},
   "source": [
    "Now we can run our chi-square test courtesy of the scipy module."
   ]
  },
  {
   "cell_type": "code",
   "execution_count": 9,
   "metadata": {},
   "outputs": [
    {
     "data": {
      "text/plain": [
       "Power_divergenceResult(statistic=13.175658317450203, pvalue=0.0013770260262489366)"
      ]
     },
     "execution_count": 9,
     "metadata": {},
     "output_type": "execute_result"
    }
   ],
   "source": [
    "import scipy.stats\n",
    "\n",
    "scipy.stats.chisquare(values, exp_values, ddof=1)"
   ]
  },
  {
   "cell_type": "markdown",
   "metadata": {},
   "source": [
    "Since the p-value is .0013, and well below our significance level (.05) we can reject the null-hypothesis and accept our alternative hypothesis that the type of agent is related to the novelty of URLs. Again based on our sample size we can say this with a confidence level of 95% with a margin of error of 5%.\n",
    "\n",
    "Let's look at the data visually to see what that relation might be. We can calcuate the percentage of each agents requests that resulted in new URLs being added to the Internet Archive."
   ]
  },
  {
   "cell_type": "code",
   "execution_count": 11,
   "metadata": {},
   "outputs": [
    {
     "data": {
      "application/javascript": [
       "var spec = {\"config\": {\"view\": {\"width\": 400, \"height\": 300}, \"mark\": {\"tooltip\": null}}, \"data\": {\"name\": \"data-1bcafff64ac65000eebfcee4fb3e2a16\"}, \"mark\": \"bar\", \"encoding\": {\"color\": {\"type\": \"nominal\", \"field\": \"agent\"}, \"x\": {\"type\": \"quantitative\", \"axis\": {\"format\": \"%\", \"title\": \"Percentage of New Urls Added\"}, \"field\": \"novelty\"}, \"y\": {\"type\": \"nominal\", \"field\": \"agent\", \"title\": \"\"}}, \"height\": 100, \"title\": \"Archival Novelty\", \"width\": 800, \"$schema\": \"https://vega.github.io/schema/vega-lite/v3.3.0.json\", \"datasets\": {\"data-1bcafff64ac65000eebfcee4fb3e2a16\": [{\"novelty\": 0.3181818181818182, \"agent\": \"bot\"}, {\"novelty\": 0.5132743362831859, \"agent\": \"human\"}]}};\n",
       "var opt = {};\n",
       "var type = \"vega-lite\";\n",
       "var id = \"2c4f42bb-7d8c-4476-9dc3-34907f700415\";\n",
       "\n",
       "var output_area = this;\n",
       "\n",
       "require([\"nbextensions/jupyter-vega/index\"], function(vega) {\n",
       "  var target = document.createElement(\"div\");\n",
       "  target.id = id;\n",
       "  target.className = \"vega-embed\";\n",
       "\n",
       "  var style = document.createElement(\"style\");\n",
       "  style.textContent = [\n",
       "    \".vega-embed .error p {\",\n",
       "    \"  color: firebrick;\",\n",
       "    \"  font-size: 14px;\",\n",
       "    \"}\",\n",
       "  ].join(\"\\\\n\");\n",
       "\n",
       "  // element is a jQuery wrapped DOM element inside the output area\n",
       "  // see http://ipython.readthedocs.io/en/stable/api/generated/\\\n",
       "  // IPython.display.html#IPython.display.Javascript.__init__\n",
       "  element[0].appendChild(target);\n",
       "  element[0].appendChild(style);\n",
       "\n",
       "  vega.render(\"#\" + id, spec, type, opt, output_area);\n",
       "}, function (err) {\n",
       "  if (err.requireType !== \"scripterror\") {\n",
       "    throw(err);\n",
       "  }\n",
       "});\n"
      ],
      "text/plain": [
       "<vega.vegalite.VegaLite at 0x1173a77b8>"
      ]
     },
     "metadata": {
      "jupyter-vega": "#2c4f42bb-7d8c-4476-9dc3-34907f700415"
     },
     "output_type": "display_data"
    },
    {
     "data": {
      "text/plain": []
     },
     "execution_count": 11,
     "metadata": {},
     "output_type": "execute_result"
    },
    {
     "data": {
      "image/png": "[encoded data removed]"
     },
     "metadata": {
      "jupyter-vega": "#2c4f42bb-7d8c-4476-9dc3-34907f700415"
     },
     "output_type": "display_data"
    }
   ],
   "source": [
    "import altair\n",
    "altair.renderers.enable('notebook')\n",
    "\n",
    "novelty_df = pandas.DataFrame({\n",
    "    'novelty': [\n",
    "        len(sample.query('bot == True & new_url == True')) / len(sample.query('bot == True')),\n",
    "        len(sample.query('bot == False & new_url == True')) / len(sample.query('bot == False'))\n",
    "    ],\n",
    "    'agent': [\"bot\", \"human\"]\n",
    "})\n",
    "                               \n",
    "chart = altair.Chart(novelty_df).mark_bar().encode(\n",
    "    altair.Y('agent:N', title=\"\"),\n",
    "    altair.X('novelty:Q', axis=altair.Axis(format='%', title=\"Percentage of New Urls Added\")),\n",
    "    altair.Color('agent:N')\n",
    ")\n",
    "\n",
    "chart = chart.properties(\n",
    "    width=800,\n",
    "    height=100,\n",
    "    title='Archival Novelty'\n",
    ")\n",
    "\n",
    "chart"
   ]
  },
  {
   "cell_type": "markdown",
   "metadata": {},
   "source": [
    "## What do the URLs look like?\n",
    "\n",
    "While we can only look the novel URLs in our sample and not the entire data set it still could be useful to see them to get a sense of how they might be different."
   ]
  },
  {
   "cell_type": "code",
   "execution_count": 35,
   "metadata": {},
   "outputs": [
    {
     "name": "stdout",
     "output_type": "stream",
     "text": [
      "http://km.aifb.kit.edu/projects/numbers/web/n2481513\n",
      "http://km.aifb.kit.edu/projects/numbers/web/n2327119\n",
      "http://www.virtualcinematography.org:80/log/jserr.php?msg=Uncaught+ReferenceError%3A+wbAutoComplete+is+not+defined&file=http%3A%2F%2Fweb.archive.org%2Fstatic%2Fjs%2Ftoolbar.js%3Fv%3D1538596186.0&line=209\n",
      "http://www.aaaclipart.com/cgi-bin/imagefolio/imageFolio.cgi?action=view&link=tools&image=dustpan300.gif&img=63&tt=gif\n",
      "http://km.aifb.kit.edu/projects/numbers/web/n2249709\n",
      "http://km.aifb.kit.edu/projects/numbers/web/n2305494\n",
      "http://www.geograph.org.uk/photo/1470929\n",
      "http://km.aifb.kit.edu/projects/numbers/web/n2272483\n",
      "http://km.aifb.kit.edu/projects/numbers/web/n2439183\n",
      "https://www.bloomberg.com/tosv2.html?vid=&uuid=891be260-d841-11e8-9277-317c2271a489&url=L25ld3MvdmlkZW9zLzIwMTgtMTAtMjUvc2FldHJlLXdlaWdocy1zaGFyZS1idXliYWNrLWFzLWVxdWlub3ItYmVhdHMtZXN0aW1hdGVzLXZpZGVv\n",
      "http://km.aifb.kit.edu/projects/numbers/web/n2310549\n",
      "http://km.aifb.kit.edu/projects/numbers/web/n2172589\n",
      "http://pagead2.googlesyndication.com/pagead/ads?client=ca-primedia-basic_js&dt=1540477998419&hints=AfricanAmerican%20History%2CThe%20Montgomery%20Bus%20Boycott&adsafe=high&oe=latin1&num_ads=8&output=js&channel=primedia_afroamhistory&url=https%3A%2F%2Fweb.archive.org%2Fweb%2F20070305201140%2Fhttp%3A%2F%2Fafroamhistory.about.com%2Fod%2Fmontgomerybusboycott%2Fa%2Fmontbusboycott.htm&num_radlinks=5&max_radlink_len=20&loc=https%3A%2F%2Fweb.archive.org%2Fweb%2F20070305201140%2Fhttp%3A%2F%2Fafroamhistory.about.com%2Fod%2Fmontgomerybusboycott%2Fa%2Fmontbusboycott.htm&u_h=667&u_w=375&u_ah=667&u_aw=375&u_cd=32&u_tz=-240&u_his=6\n",
      "http://km.aifb.kit.edu/projects/numbers/web/n2238263\n",
      "http://km.aifb.kit.edu/projects/numbers/web/n2383693\n",
      "https://twitter.com/saucercrabzero/status/955412167699902464\n",
      "http://km.aifb.kit.edu/projects/numbers/web/n2168503\n",
      "https://googleads.g.doubleclick.net/pagead/adview?ai=CSODWXcPRW_OTKIaXkwPJzovID6XVnbEFjdzCup8Cpp6tjWsQAyCbkZk0KAhgyQbIAQGoAwHIA8EEqgTXAU_Qpl_dTblmkBRGAvAQx6e_dvC_Ybuhp834VvLclTPwbKEmtMsASfV82EfjGG_MW0zq6a1t5auoRbyu1TxMcw_FD6K38Ll19et5apOvbSdT2FDLGfD1wbbJzpAGvW_AyFm4FNzi-X-V364ENp3tvI1u39dSwk8AJxXwOhXvNT90Wg6mdMvnVIy5ADL43fF2MJS776IQFwHHi4CSJC7wZ00tCIQWwXbHY1Zt17HmypgWwMxI2J79lg0sI_IK-iHyws6VAxE4RSklcygAa-Ue79iRJ7m_APzIkgUECBoYBKAGRcAGC4AH5ffiNagHjs4bqAfVyRuoB7nSG6gH2csbqAfPzBuoB6a-G9gHAdIIBwiAYRABGAKACgE&sigh=8UgtUFpYza0&tpd=AGWhJmviJoLdxDRuBmyntK4Ak3CsIs9jHnTg7L6N7uADHNLnLg\n",
      "https://twitter.com/fedehkgg/status/1055592497659944966\n",
      "https://codereview.adblockplus.org/5459448122310656/patchset/5754903989321728\n",
      "http://km.aifb.kit.edu/projects/numbers/web/n2313153\n",
      "http://km.aifb.kit.edu/projects/numbers/web/n2492608\n",
      "http://km.aifb.kit.edu/projects/numbers/web/n2461453\n",
      "https://www.loc.gov/pictures/item/2016873533/\n",
      "http://km.aifb.kit.edu/projects/numbers/web/n2279733\n",
      "http://km.aifb.kit.edu/projects/numbers/web/n2214439\n",
      "http://km.aifb.kit.edu/projects/numbers/web/n2130558\n",
      "http://km.aifb.kit.edu/projects/numbers/web/n2145649\n",
      "http://blocked.mts.ru/?host=?url=http%3A%2F%2Fwww.casinoo.ru%2Frobots.txt&ip=194.58.56.28\n",
      "http://km.aifb.kit.edu/projects/numbers/web/n2357753\n",
      "http://km.aifb.kit.edu/projects/numbers/web/n2320069\n",
      "http://km.aifb.kit.edu/projects/numbers/web/n2247209\n",
      "http://km.aifb.kit.edu/projects/numbers/web/n2174093\n",
      "http://km.aifb.kit.edu/projects/numbers/web/n2210998\n",
      "http://km.aifb.kit.edu/projects/numbers/web/n2256199\n",
      "http://km.aifb.kit.edu/projects/numbers/web/n2447068\n",
      "http://km.aifb.kit.edu/projects/numbers/web/n2153338\n",
      "https://twitter.com/PatriziaGiustiz/status/1055380008452214784\n",
      "https://twitter.com/mohicani/status/1055396925904707585\n",
      "http://km.aifb.kit.edu/projects/numbers/web/n2148724\n",
      "http://km.aifb.kit.edu/projects/numbers/web/n2169128\n",
      "http://km.aifb.kit.edu/projects/numbers/web/n2258288\n",
      "http://km.aifb.kit.edu/projects/numbers/web/n2125323\n",
      "https://socialblade.com/youtube/search/UCMivImF-asgnnInTNr7-B8w\n",
      "http://km.aifb.kit.edu/projects/numbers/web/n2099034\n",
      "http://km.aifb.kit.edu/projects/numbers/web/n2052939\n",
      "http://www.geograph.org.uk/photo/1443536\n",
      "http://www.geograph.org.uk/photo/1442851\n",
      "http://www.lletrescatalanes.cat/ca/lletres-2-0/agenda/year.listevents/2017/05/31/-\n",
      "http://km.aifb.kit.edu/projects/numbers/web/n2354434\n",
      "https://googleads.g.doubleclick.net/pagead/ads?client=ca-pub-4270855877885521&output=html&h=90&slotname=4392198746&adk=3170063659&adf=1564918987&w=920&fwr_io=true&fwrn=4&fwrnh=100&lmt=1540365953&rafmt=1&guci=2.2.0.0.2.2.0&format=920x90&url=https%3A%2F%2Fyelospace.blogspot.com%2F2018%2F10%2Fawesome-god-you-are-so-good-by-sinach.html&flash=0&host=ca-host-pub-1556223355139109&h_ch=L0007&fwr=0&fwrattr=true&resp_fmts=3&wgl=1&adsid=NT&dt=1540374900338&bpp=22&bdt=261&fdt=30&idt=359&shv=r20181017&cbv=r20180604&saldr=aa&abxe=1&correlator=4126058762955&frm=20&pv=2&ga_vid=419467804.1540374901&ga_sid=1540374901&ga_hid=1658320591&ga_fc=0&iag=0&icsg=34080800&dssz=21&mdo=0&mso=0&u_tz=0&u_his=50&u_java=0&u_h=1000&u_w=1600&u_ah=1000&u_aw=1600&u_cd=24&u_nplug=2&u_nmime=2&adx=83&ady=2479&biw=1085&bih=784&scr_x=0&scr_y=0&eid=21060853%2C21070024&oid=3&rx=0&eae=0&fc=528&brdim=10%2C10%2C10%2C10%2C1600%2C0%2C1100%2C900%2C1100%2C784&vis=1&rsz=%7C%7CeoEbr%7C&abl=CS&ppjl=u&pfx=0&fu=144&bc=7&osw_key=433795568&ifi=1&fsb=1&xpc=cMsBQ8TYCO&p=https%3A//yelospace.blogspot.com&dtd=404\n",
      "http://www.icffr.org/Research/Comments/November-2010/The-BIS-Maps-the-New-Capital-and-Liquidity-Require.aspx\n",
      "http://km.aifb.kit.edu/projects/numbers/web/n2261299\n",
      "https://tvtropes.org/pmwiki/pmwiki.php/Tropers/PancticeSquadCutterback?cloudflare=clusterfuck\n",
      "https://twitter.com/Hypvos/status/1055595751902973954\n",
      "http://km.aifb.kit.edu/projects/numbers/web/n2142779\n",
      "https://twitter.com/oriborohogf/status/954357580762984448\n",
      "http://km.aifb.kit.edu/projects/numbers/web/n2156074\n",
      "http://km.aifb.kit.edu/projects/numbers/web/n2424528\n",
      "http://km.aifb.kit.edu/projects/numbers/web/n2451178\n",
      "http://km.aifb.kit.edu/projects/numbers/web/n2072123\n",
      "http://km.aifb.kit.edu/projects/numbers/web/n2113694\n",
      "https://twitter.com/melaniejhnn/status/1055266487127207936\n",
      "http://km.aifb.kit.edu/projects/numbers/web/n2182869\n",
      "http://km.aifb.kit.edu/projects/numbers/web/n2263243\n",
      "http://www.geograph.org.uk/photo/1446543\n",
      "http://km.aifb.kit.edu/projects/numbers/web/n2242899\n",
      "https://twitter.com/Iluminadocv/status/1055421874753191936\n",
      "http://ad.ettoday.net/ads.php?bid=mobileweb_320x50_bottom2&rr=0.31280040374807416\n",
      "http://km.aifb.kit.edu/projects/numbers/web/n2284143\n",
      "http://km.aifb.kit.edu/projects/numbers/web/n2455768\n",
      "http://km.aifb.kit.edu/projects/numbers/web/n2128893\n",
      "http://km.aifb.kit.edu/projects/numbers/web/n2079928\n",
      "https://twitter.com/Zanyfelice/status/1055359930524418049\n",
      "http://km.aifb.kit.edu/projects/numbers/web/n2312679\n",
      "http://km.aifb.kit.edu/projects/numbers/web/n2294509\n",
      "http://km.aifb.kit.edu/projects/numbers/web/n2226898\n",
      "http://km.aifb.kit.edu/projects/numbers/web/n2460783\n",
      "https://twitter.com/MLohrane/status/1055270570886160385\n",
      "http://km.aifb.kit.edu/projects/numbers/web/n2442093\n",
      "http://km.aifb.kit.edu/projects/numbers/web/n2312173\n",
      "https://twitter.com/alanamartinsXVI/status/1055608377018122240\n",
      "http://km.aifb.kit.edu/projects/numbers/web/n2361944\n",
      "https://lax1-ib.adnxs.com/it?referrer=https%25253A%25252F%25252Fwww.derbytelegraph.co.uk%25252Fnews%25252Flocal-news%25252Fhygiene-inspectors-find-dog-kitchen-2092714&e=wqT_3QLDB_BCwwMAAAMA1gAFAQim1bzeBRCZxMKcivyNjUYY2cfakLPgxL8PKjYJnMQgsHJokT8RnMQgsHJokT8ZAAAAIFyP-j8hnA0SACkRJMgxAAAAgD0Ktz8wyqu2BjjMCkDMCkgCUIap0DZYtoxTYABo5o15eN-SBYABAYoBA1VTRJIFBvBGmAGsAqAB-gGoAQGwAQC4AQHAAQTIAQLQAQDYAQDgAQDwAQCKAld1ZignYScsIDE2NDA0MSwgMTU0MDMwMzUyNik7dWYoJ3IBHCAxNDU2MjE4MixCHwAkaScsIDQ1NTA2NTYcAPCKkgL9ASE5RFdqUWdpUzdzc0xFSWFwMERZWUFDQzJqRk13QkRnQVFBUkl6QXBReXF1MkJsZ0FZSWtFYUFCd0pIZ0lnQUZNaUFFSWtBRUJtQUVCb0FFU3FBRURzQUVBdVFIVmZqd19jMmlSUDhFQjFYNDhQM05va1RfSkFaOWhiZ04tSGRJXzJRRUFBQQEDMER3UC1BQm1lTWI5UUUBESxBbUFJQW9BSUF0UUkFEAB2DQiod0FJQXlBSUEwQUpNMkFJSTRBSUE2QUlBLUFJQWdBTUJrQU1BbUFNQnFBTwXYiHVnTUpURUZZTVRvME1EYzE0QU9MQVEuLpoCYSEtUV9KNHdpBSgxAFh0b3hUSUFRb0FER2N4Q0N3Y21pUlB6bzJEABhRSXNCU1FBCQEMUEFfVREMDEFBQVcdDPRVAdgCrAPgArmTQOoCaGh0dHBzJTNBJTJGJTJGd3d3LmRlcmJ5dGVsZWdyYXBoLmNvLnVrJTJGbmV3cyUyRmxvY2FsLW5ld3MlMkZoeWdpZW5lLWluc3BlY3RvcnMtZmluZC1kb2cta2l0Y2hlbi0yMDkyNzE0gAMAiAMBkAMAmAMXoAMBqgMAwAOsAsgDANgDsflE4AMA6AMA-AMBgAQAkgQNL3V0L3YzL3ByZWJpZJgEAKIEDjIwNy4yNDEuMjMyLjkwqAQfsgQQCAAQARisAiD6ASgAMAA4ArgEAMAEAMgEg42CAdIEDjEzNTYjTEFYMTo0MDc12gQCCAHgBAHwBIap0DaIBQGYBQCgBf___________wHABQDJBQAAAAAAAPA_0gUJCQAAAAAAAAAA2AUB4AUB8AWOrxj6BQQIABAAkAYAmAYAuAYAwQYAAAAAAADwP8gGAA..&s=a0eb8adace04afd2de63ddd5ddeba6c616745164\n",
      "http://km.aifb.kit.edu/projects/numbers/web/n2394548\n",
      "http://km.aifb.kit.edu/projects/numbers/web/n2076269\n",
      "http://km.aifb.kit.edu/projects/numbers/web/n2155073\n",
      "http://km.aifb.kit.edu/projects/numbers/web/n2138708\n",
      "http://km.aifb.kit.edu/projects/numbers/web/n2411448\n",
      "https://codereview.adblockplus.org/6035193882214400/patchset/5629499534213120\n",
      "https://twitter.com/EWErickson/status/1055453849585098753\n"
     ]
    }
   ],
   "source": [
    "bots = sample.query('bot == True & new_url == True')\n",
    "for i, r in bots.iterrows():\n",
    "    print(r.url)"
   ]
  },
  {
   "cell_type": "code",
   "execution_count": 36,
   "metadata": {},
   "outputs": [
    {
     "name": "stdout",
     "output_type": "stream",
     "text": [
      "http://abelhas.pt/action/LastAccounts/LastSeenRotation?TimeStamp=1540485933469&itemsCount=84&inRow=7&pageSize=21&page=4\n",
      "https://ameblo.jp/46292015/entry-12414331119.html\n",
      "https://www.youtube.com/embed/SGi4j-bdcLk\n",
      "https://mediacompaider.com/?wordfence_lh=1&hid=113194D9C466FBA698B788142F633407&r=0.9938724068405158\n",
      "https://stackoverflow.com/questions/10615872/bootstrap-align-input-with-button?answertab=oldest\n",
      "http://form.jotform.co/form/41331945693863\n",
      "https://shared.uoit.ca/global/inc/get/emergencyfeed.php?_=1540481047469\n",
      "https://web.archive.org/web/20070101000000*/https://forums.finalgear.com/forum/general-discussion/off-topic/29570-international-middleman-shipping\n",
      "https://forums.nightfury.net/viewtopic.php?f=29&p=10028809\n",
      "http://hello.distribeo.com/atconnect/c07c34aadeb1ec0eef081f88217a1d64d683e881?duration=300&lifetime=30&priority=1&rn=3858699218510308\n",
      "https://stackoverflow.com/questions/23154525/django-generic-detail-view-must-be-called-with-either-an-object-pk-or-a-slug?answertab=active\n",
      "https://www.google.com/search?safe=active&q=related:https://en.wikipedia.org/wiki/American_System_(economic_plan)+which+of+the+following+was+not+part+of+the+american+system&tbo=1&sa=X&ved=2ahUKEwjU7YPS_qHeAhXCnOAKHcS3BXAQHzALegQIABAF\n",
      "https://payments.amazon.de//gp/widgets/abtests?merchantId=xxxx&abtestName=NEW_WIDGETS&callback=jsonp1540455382365\n",
      "https://crypterium.io/content/cap.json?hz=74963202\n",
      "https://www.twitch.tv/g0bbelswowb/videos/all\n",
      "http://israblog.nana10.co.il/blogread.asp?blog=866952&blogcode=14970630\n",
      "https://ameblo.jp/spacelaw/archive-201710.html\n",
      "http://countus4.editeurjavascript.com/countus.exec.php?pseudo=ebony&timer=1540492037480&present=2\n",
      "http://www.aaaclipart.com/cgi-bin/imagefolio/imageFolio.cgi?action=view&link=tech_and_computers/household&image=B125clock.gif&img=27&tt=gif\n",
      "https://myanimelist.net/anime/9935/Chocolat_no_Mahou/episode?offset=0\n",
      "http://www.epcotlegacy.com/process/RecordHit?url=%2Fweb%2F20170211104028%2Fhttp%3A%2F%2Fwww.epcotlegacy.com%2Fmusic%2F&title=E82%20-%20The%20Epcot%20Legacy%20-%20Music&viewportInnerHeight=859&viewportInnerWidth=1665&screenHeight=1050&screenWidth=1680&userAgent=Mozilla%2F5.0%20(Macintosh%3B%20Intel%20Mac%20OS%20X%2010_14)%20AppleWebKit%2F605.1.15%20(KHTML%2C%20like%20Gecko)%20Version%2F12.0%20Safari%2F605.1.15&referrer=&pixelRatio=2&event=View\n",
      "http://www.pagerank-power.de/power_ranking.php?site=www.herausforderung-hund.de\n",
      "http://www.aaaclipart.com/cgi-bin/imagefolio/imageFolio.cgi?action=view&link=politics&image=malevoter.gif&img=9&tt=\n",
      "http://www.aaaclipart.com/cgi-bin/imagefolio/imageFolio.cgi?action=view&link=zodiac&image=STscorpioclr.gif&img=18&tt=gif\n",
      "https://www.wykop.pl/wpis/36153575/topmodel-oliwia-znowu-sie-boi-tym-razem-wygladac-b/\n",
      "https://www.google.com/search?q=%E3%83%9E%E3%82%B8%E3%83%AC%E3%82%B9+%E6%97%A9%E5%B7%9D&source=lnms&tbm=bks&sa=X&ved=0ahUKEwjwoPmL6aDeAhWMvbwKHWHmCBYQ_AUIFCgB\n",
      "http://pension-life.com/?wordfence_logHuman=1&hid=E8B38ABF3001882EE8BF0F3C2087C49B&r=0.47594119360927145\n",
      "http://secure.adultddl.ws/?decrypt=1815137\n",
      "http://abelhas.pt/action/LastAccounts/LastSeenRotation?TimeStamp=1540507410283&itemsCount=84&inRow=7&pageSize=21&page=1\n",
      "http://www.holdtheline.com/chat/cometchat_receive.php?callback=jqcc17109344728874731993_1540461681256&buddylist=1&initialize=1&currenttime=1540461684&timestamp=0&typingto=0&status=&basedata=null\n",
      "https://www.systutorials.com/docs/linux/man/1-xbindkeys/\n",
      "https://stackoverflow.com/posts/44208667/edit\n",
      "https://www.tumblr.com/safe-mode?url=http%3A%2F%2Fcolormush.tumblr.com%2Fpost%2F179373344263\n",
      "https://www3.nhk.or.jp/news/html/20181025/k10011684611000.html?utm_int=news-new_contents_list-items_021\n",
      "http://www.holdtheline.com/chat/cometchat_receive.php?callback=jqcc17109344728874731993_1540461687160&buddylist=1&initialize=1&currenttime=1540461684&timestamp=0&typingto=0&status=&basedata=null\n",
      "https://trw12.com/analytics_v2.php?_t=28502943682&trw_z=459\n",
      "http://pagead2.googlesyndication.com/pagead/ads?client=ca-prisacom-nonkey&dt=1540497791567&hl=es&adsafe=medium&lmt=1540497791&num_ads=3&output=js&adtest=off&correlator=1540497791566&channel=cs-hora25&url=https%3A%2F%2Fweb.archive.org%2Fweb%2F20071011035544%2Fhttp%3A%2F%2Fwww.cadenaser.com%3A80%2Fhora-25%2Fequipo%2F&color_line=ff0000&ad_type=text&feedback_link=on&ref=https%3A%2F%2Fweb.archive.org%2Fweb%2F20070929153107%2Fhttp%3A%2F%2Fwww.cadenaser.com%2Fhora-25%2F&cc=98&ga_vid=2003728567.1540497792&ga_sid=1540497792&ga_hid=35193005&flash=0&u_h=640&u_w=360&u_ah=640&u_aw=360&u_cd=24&u_tz=120&u_his=3\n",
      "https://www.gaccom.jp/safety/detail-286003\n",
      "https://github.com/jonashaag/bjoern/tree/signal-watcher\n",
      "https://www.google.com/search?q=matplotlib+%E3%82%B0%E3%83%A9%E3%83%95+%E5%A4%A7%E3%81%8D%E3%81%95&client=firefox-b-ab&ei=S0TRW6WfIpXs8wWPhL6ABQ&start=60&sa=N&ved=0ahUKEwjl8OfC3qDeAhUV9rwKHQ-CD1AQ8tMDCKAB\n",
      "https://www.therebel.media/stop_the_war_on_cars_petition_delivered_to_calgary_councillor\n",
      "https://aishoren.exblog.jp/24528082/\n",
      "https://stackoverflow.com/posts/24063905/revisions\n",
      "http://jun.2chan.net/junbi/res/59944.htm\n",
      "http://wdgaming.net:80/cometchat/cometchat_receive.php?callback=jqcc17102991652823339186_1540425144372&callbackfn=&buddylist=1&initialize=1&currenttime=1540439583&typingto=0&status=&basedata=null\n",
      "https://web.archive.org/web/20181025092804/https://twitter.com/alanmayers/status/1034091370124902400/?lang=th\n",
      "https://developer.mozilla.org/fr/docs/Mozilla/Add-ons/Distribution/Submitting_an_add-on\n",
      "https://ml314.com/imsync.ashx?pi=5978151441773580101&data=eyJwaCI6MzkzNSwid2giOjk2MCwidGJzIjo0Ljc4LCJkdCI6MTQ3LCJwaWQiOiIxNTQwNDUzNjgyODQ3X3pkZWx6cWZ1NSIsInNkIjoyNDYwLCJzZHMiOjE4Mi42MSwic3VzIjoyNDB9\n",
      "https://www.youtube.com/embed/ZY9APwuG-4Y?feature=oembed\n",
      "http://googleads.g.doubleclick.net/apps/domainpark/domainpark.cgi?callback=_google_json_callback&output=js&client=ca-dp-oversee_ncd&domain_name=web.archive.org&st=create&drid=as-drid-2540437855034467&s=web.archive.org&dt=1540438576761&u_tz=360&u_his=1&u_h=768&u_w=1366&frm=0&ref=https%3A%2F%2Fweb.archive.org%2Fweb%2F*%2Fpurepluscosmetics.com\n",
      "https://stackoverflow.com/questions/2345708/how-can-i-get-the-full-absolute-url-with-domain-in-django/37093428\n",
      "https://webcache.googleusercontent.com/search?q=cache:rn-Il-BNdf8J:https://zukucode.com/2017/04/javascript-yen-mark.html+&cd=9&hl=ja&ct=clnk&gl=jp&client=firefox-b-ab\n",
      "https://cdn-fr.hihonor.com/fr/fonts/proxima/proxima-bold/ProximaNova-Bold.otf\n",
      "http://blog.livedoor.jp/tezukuriaisai/archives/1072713109.html\n",
      "https://www.civildefence.govt.nz/assets/emergencychecker.html?_=1540268896322\n",
      "https://www.cityheaven.net/ibaraki/A0801/A080101/club-opus/girlid-23121672/diary/pd-260227085/\n",
      "https://rpg.stackexchange.com/questions/134208/what-is-the-difference-between-giving-advantage-on-a-roll-and-reducing-the-dc\n",
      "https://geoapi.indiatimes.com/?cb=1&_=1540449706226\n"
     ]
    }
   ],
   "source": [
    "humans = sample.query('bot == False & new_url == True')\n",
    "for i, r in humans.iterrows():\n",
    "    print(r.url)"
   ]
  },
  {
   "cell_type": "code",
   "execution_count": 20,
   "metadata": {},
   "outputs": [
    {
     "data": {
      "text/plain": [
       "58"
      ]
     },
     "execution_count": 20,
     "metadata": {},
     "output_type": "execute_result"
    }
   ],
   "source": [
    "len(humans)"
   ]
  },
  {
   "cell_type": "markdown",
   "metadata": {},
   "source": [
    "What are the hostnames in each?"
   ]
  },
  {
   "cell_type": "code",
   "execution_count": 45,
   "metadata": {},
   "outputs": [],
   "source": [
    "from urllib.parse import urlparse\n",
    "from collections import Counter"
   ]
  },
  {
   "cell_type": "code",
   "execution_count": 50,
   "metadata": {},
   "outputs": [
    {
     "data": {
      "text/plain": [
       "Counter({'abelhas.pt': 2,\n",
       "         'ameblo.jp': 2,\n",
       "         'www.youtube.com': 2,\n",
       "         'mediacompaider.com': 1,\n",
       "         'stackoverflow.com': 5,\n",
       "         'form.jotform.co': 1,\n",
       "         'shared.uoit.ca': 1,\n",
       "         'web.archive.org': 2,\n",
       "         'forums.nightfury.net': 1,\n",
       "         'hello.distribeo.com': 1,\n",
       "         'www.google.com': 3,\n",
       "         'payments.amazon.de': 1,\n",
       "         'crypterium.io': 1,\n",
       "         'www.twitch.tv': 1,\n",
       "         'israblog.nana10.co.il': 1,\n",
       "         'countus4.editeurjavascript.com': 1,\n",
       "         'www.aaaclipart.com': 3,\n",
       "         'myanimelist.net': 1,\n",
       "         'www.epcotlegacy.com': 1,\n",
       "         'www.pagerank-power.de': 1,\n",
       "         'www.wykop.pl': 1,\n",
       "         'pension-life.com': 1,\n",
       "         'secure.adultddl.ws': 1,\n",
       "         'www.holdtheline.com': 2,\n",
       "         'www.systutorials.com': 1,\n",
       "         'www.tumblr.com': 1,\n",
       "         'www3.nhk.or.jp': 1,\n",
       "         'trw12.com': 1,\n",
       "         'pagead2.googlesyndication.com': 1,\n",
       "         'www.gaccom.jp': 1,\n",
       "         'github.com': 1,\n",
       "         'www.therebel.media': 1,\n",
       "         'aishoren.exblog.jp': 1,\n",
       "         'jun.2chan.net': 1,\n",
       "         'wdgaming.net:80': 1,\n",
       "         'developer.mozilla.org': 1,\n",
       "         'ml314.com': 1,\n",
       "         'googleads.g.doubleclick.net': 1,\n",
       "         'webcache.googleusercontent.com': 1,\n",
       "         'cdn-fr.hihonor.com': 1,\n",
       "         'blog.livedoor.jp': 1,\n",
       "         'www.civildefence.govt.nz': 1,\n",
       "         'www.cityheaven.net': 1,\n",
       "         'rpg.stackexchange.com': 1,\n",
       "         'geoapi.indiatimes.com': 1})"
      ]
     },
     "execution_count": 50,
     "metadata": {},
     "output_type": "execute_result"
    }
   ],
   "source": [
    "human_hostnames = Counter([urlparse(row.url).netloc for i, row in humans.iterrows()])\n",
    "human_hostnames"
   ]
  },
  {
   "cell_type": "code",
   "execution_count": 51,
   "metadata": {},
   "outputs": [
    {
     "data": {
      "text/plain": [
       "Counter({'km.aifb.kit.edu': 59,\n",
       "         'www.virtualcinematography.org:80': 1,\n",
       "         'www.aaaclipart.com': 1,\n",
       "         'www.geograph.org.uk': 4,\n",
       "         'www.bloomberg.com': 1,\n",
       "         'pagead2.googlesyndication.com': 1,\n",
       "         'twitter.com': 12,\n",
       "         'googleads.g.doubleclick.net': 2,\n",
       "         'codereview.adblockplus.org': 2,\n",
       "         'www.loc.gov': 1,\n",
       "         'blocked.mts.ru': 1,\n",
       "         'socialblade.com': 1,\n",
       "         'www.lletrescatalanes.cat': 1,\n",
       "         'www.icffr.org': 1,\n",
       "         'tvtropes.org': 1,\n",
       "         'ad.ettoday.net': 1,\n",
       "         'lax1-ib.adnxs.com': 1})"
      ]
     },
     "execution_count": 51,
     "metadata": {},
     "output_type": "execute_result"
    }
   ],
   "source": [
    "bot_hostnames = Counter([urlparse(row.url).netloc for i, row in bots.iterrows()])\n",
    "bot_hostnames"
   ]
  },
  {
   "cell_type": "markdown",
   "metadata": {},
   "source": [
    "See the Diversity notebook for more on this."
   ]
  },
  {
   "cell_type": "code",
   "execution_count": null,
   "metadata": {},
   "outputs": [],
   "source": []
  }
 ],
 "metadata": {
  "kernelspec": {
   "display_name": "Python 3",
   "language": "python",
   "name": "python3"
  },
  "language_info": {
   "codemirror_mode": {
    "name": "ipython",
    "version": 3
   },
   "file_extension": ".py",
   "mimetype": "text/x-python",
   "name": "python",
   "nbconvert_exporter": "python",
   "pygments_lexer": "ipython3",
   "version": "3.7.3"
  }
 },
 "nbformat": 4,
 "nbformat_minor": 2
}
