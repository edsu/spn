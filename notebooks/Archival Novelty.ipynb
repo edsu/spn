{
 "cells": [
  {
   "cell_type": "markdown",
   "metadata": {},
   "source": [
    "# Archival Novelty"
   ]
  },
  {
   "cell_type": "markdown",
   "metadata": {},
   "source": [
    "This notebook explores whether requests to archive web resources were the first such request. Or rather, whether the request provided the Internet Archive with first knowledge of the web resource. Let's call this *archival novelty* which will be the percentage of SavePageNow requests which brought new knowledge of a URL to the Internet Archive. We are specifically going to look at *archival novelty* in terms of SavePageNow requests from automated and human agents.\n",
    "\n",
    "The Internet Archive's [CDX API](https://github.com/internetarchive/wayback/tree/master/wayback-cdx-server) can tell us exactly when a given URL has been archived over time. But there are 7 million requests for HTML pages in our dataset. So what we will do is randomly sample the requests and check those against the CDX API.\n",
    "\n",
    "First we will read in the URLS csv data that we generated in the URLs notebook back into a Spark DataFrame. Remember this only SavePageNow requests that resulted in an HTML responses, so it doesn't include things like images, JavaScript or CSS that SavePageNow could request when proxying an actual browser."
   ]
  },
  {
   "cell_type": "code",
   "execution_count": 1,
   "metadata": {},
   "outputs": [],
   "source": [
    "import sys\n",
    "sys.path.append('../utils')\n",
    "\n",
    "from warc_spark import init\n",
    "\n",
    "sc, sqlc = init()\n",
    "df = sqlc.read.csv('results/urls', header=True)"
   ]
  },
  {
   "cell_type": "markdown",
   "metadata": {},
   "source": [
    "## Create Samples\n",
    "\n",
    "Lets look specifically at 2018. Since millions of SavePageNow requests were received, and it's not feasible to query the CDX API millions of times, we will generate a random sample. Since we know the size of the population (number of requests) we will use the [Yamane Method](http://www.research-system.siam.edu/images/independent/Consumer_acceptance_of_air_purifier_products_in_China/CHAPTER_3.pdf) to calculate the sample size needed for a confidence interval of 5% and a confidence level of 95%."
   ]
  },
  {
   "cell_type": "code",
   "execution_count": 74,
   "metadata": {},
   "outputs": [
    {
     "name": "stdout",
     "output_type": "stream",
     "text": [
      "sample size: 399\n"
     ]
    }
   ],
   "source": [
    "import pandas\n",
    "\n",
    "year = df.filter(df.date.like('2018%'))\n",
    "pop_size = year.count()\n",
    "sample_size = int(pop_size / (1 + pop_size * (.05**2)))\n",
    "sample_list = year.rdd.takeSample(withReplacement=False, num=sample_size, seed=42)\n",
    "\n",
    "print(\"sample size:\", len(sample_list))"
   ]
  },
  {
   "cell_type": "code",
   "execution_count": 84,
   "metadata": {},
   "outputs": [
    {
     "name": "stdout",
     "output_type": "stream",
     "text": [
      "Row(record_id='<urn:uuid:e70603a2-096a-4f82-b66d-7bc2bb5f286e>', warc_file='warcs/liveweb-20181025043139/live-20181025035248-wwwb-app53.us.archive.org.warc.gz', date='2018-10-25T04:12:23Z', url='http://eestipaevaleht.se/', user_agent='Python-urllib/2.7', user_agent_family='Python-urllib', bot='true')\n"
     ]
    }
   ],
   "source": [
    "print(sample_list[0])"
   ]
  },
  {
   "cell_type": "code",
   "execution_count": 87,
   "metadata": {},
   "outputs": [
    {
     "data": {
      "text/html": [
       "<div>\n",
       "<style scoped>\n",
       "    .dataframe tbody tr th:only-of-type {\n",
       "        vertical-align: middle;\n",
       "    }\n",
       "\n",
       "    .dataframe tbody tr th {\n",
       "        vertical-align: top;\n",
       "    }\n",
       "\n",
       "    .dataframe thead th {\n",
       "        text-align: right;\n",
       "    }\n",
       "</style>\n",
       "<table border=\"1\" class=\"dataframe\">\n",
       "  <thead>\n",
       "    <tr style=\"text-align: right;\">\n",
       "      <th></th>\n",
       "      <th>warc_file</th>\n",
       "      <th>date</th>\n",
       "      <th>url</th>\n",
       "      <th>user_agent</th>\n",
       "      <th>user_agent_family</th>\n",
       "      <th>bot</th>\n",
       "    </tr>\n",
       "    <tr>\n",
       "      <th>record_id</th>\n",
       "      <th></th>\n",
       "      <th></th>\n",
       "      <th></th>\n",
       "      <th></th>\n",
       "      <th></th>\n",
       "      <th></th>\n",
       "    </tr>\n",
       "  </thead>\n",
       "  <tbody>\n",
       "    <tr>\n",
       "      <th>&lt;urn:uuid:e70603a2-096a-4f82-b66d-7bc2bb5f286e&gt;</th>\n",
       "      <td>warcs/liveweb-20181025043139/live-201810250352...</td>\n",
       "      <td>2018-10-25T04:12:23Z</td>\n",
       "      <td>http://eestipaevaleht.se/</td>\n",
       "      <td>Python-urllib/2.7</td>\n",
       "      <td>Python-urllib</td>\n",
       "      <td>true</td>\n",
       "    </tr>\n",
       "    <tr>\n",
       "      <th>&lt;urn:uuid:8d3949bd-c7c4-45a1-b11f-90a0975de679&gt;</th>\n",
       "      <td>warcs/liveweb-20181025212424/live-201810252105...</td>\n",
       "      <td>2018-10-25T21:23:14Z</td>\n",
       "      <td>http://km.aifb.kit.edu/projects/numbers/web/n2...</td>\n",
       "      <td>Wget/1.19.4 (darwin17.3.0)</td>\n",
       "      <td>Wget</td>\n",
       "      <td>true</td>\n",
       "    </tr>\n",
       "    <tr>\n",
       "      <th>&lt;urn:uuid:87c47520-05d9-47ac-b8b5-79408549caff&gt;</th>\n",
       "      <td>warcs/liveweb-20181025170957/live-201810251658...</td>\n",
       "      <td>2018-10-25T17:05:13Z</td>\n",
       "      <td>https://socialblade.com/youtube/channel/UCCmXc...</td>\n",
       "      <td>Wget/1.19.5 (linux-gnu)</td>\n",
       "      <td>Wget</td>\n",
       "      <td>true</td>\n",
       "    </tr>\n",
       "    <tr>\n",
       "      <th>&lt;urn:uuid:0b7d69ca-d38c-4d6c-9f91-bcb63c82265c&gt;</th>\n",
       "      <td>warcs/liveweb-20181025000937/cachegw-201810240...</td>\n",
       "      <td>2018-10-24T13:44:56Z</td>\n",
       "      <td>https://www.reg.ru/domain/shop/lot/rockderzhav...</td>\n",
       "      <td>Mozilla/5.0 (compatible; archive.org_bot; Wayb...</td>\n",
       "      <td>archive.org_bot</td>\n",
       "      <td>true</td>\n",
       "    </tr>\n",
       "    <tr>\n",
       "      <th>&lt;urn:uuid:572b5006-3a51-43df-94fc-95ccfea727af&gt;</th>\n",
       "      <td>warcs/liveweb-20181025165702/live-201810251631...</td>\n",
       "      <td>2018-10-25T16:47:20Z</td>\n",
       "      <td>http://abelhas.pt/action/LastAccounts/LastSeen...</td>\n",
       "      <td>Mozilla/5.0 (Windows NT 6.1; Win64; x64; rv:63...</td>\n",
       "      <td>Firefox</td>\n",
       "      <td>false</td>\n",
       "    </tr>\n",
       "  </tbody>\n",
       "</table>\n",
       "</div>"
      ],
      "text/plain": [
       "                                                                                         warc_file  \\\n",
       "record_id                                                                                            \n",
       "<urn:uuid:e70603a2-096a-4f82-b66d-7bc2bb5f286e>  warcs/liveweb-20181025043139/live-201810250352...   \n",
       "<urn:uuid:8d3949bd-c7c4-45a1-b11f-90a0975de679>  warcs/liveweb-20181025212424/live-201810252105...   \n",
       "<urn:uuid:87c47520-05d9-47ac-b8b5-79408549caff>  warcs/liveweb-20181025170957/live-201810251658...   \n",
       "<urn:uuid:0b7d69ca-d38c-4d6c-9f91-bcb63c82265c>  warcs/liveweb-20181025000937/cachegw-201810240...   \n",
       "<urn:uuid:572b5006-3a51-43df-94fc-95ccfea727af>  warcs/liveweb-20181025165702/live-201810251631...   \n",
       "\n",
       "                                                                 date  \\\n",
       "record_id                                                               \n",
       "<urn:uuid:e70603a2-096a-4f82-b66d-7bc2bb5f286e>  2018-10-25T04:12:23Z   \n",
       "<urn:uuid:8d3949bd-c7c4-45a1-b11f-90a0975de679>  2018-10-25T21:23:14Z   \n",
       "<urn:uuid:87c47520-05d9-47ac-b8b5-79408549caff>  2018-10-25T17:05:13Z   \n",
       "<urn:uuid:0b7d69ca-d38c-4d6c-9f91-bcb63c82265c>  2018-10-24T13:44:56Z   \n",
       "<urn:uuid:572b5006-3a51-43df-94fc-95ccfea727af>  2018-10-25T16:47:20Z   \n",
       "\n",
       "                                                                                               url  \\\n",
       "record_id                                                                                            \n",
       "<urn:uuid:e70603a2-096a-4f82-b66d-7bc2bb5f286e>                          http://eestipaevaleht.se/   \n",
       "<urn:uuid:8d3949bd-c7c4-45a1-b11f-90a0975de679>  http://km.aifb.kit.edu/projects/numbers/web/n2...   \n",
       "<urn:uuid:87c47520-05d9-47ac-b8b5-79408549caff>  https://socialblade.com/youtube/channel/UCCmXc...   \n",
       "<urn:uuid:0b7d69ca-d38c-4d6c-9f91-bcb63c82265c>  https://www.reg.ru/domain/shop/lot/rockderzhav...   \n",
       "<urn:uuid:572b5006-3a51-43df-94fc-95ccfea727af>  http://abelhas.pt/action/LastAccounts/LastSeen...   \n",
       "\n",
       "                                                                                        user_agent  \\\n",
       "record_id                                                                                            \n",
       "<urn:uuid:e70603a2-096a-4f82-b66d-7bc2bb5f286e>                                  Python-urllib/2.7   \n",
       "<urn:uuid:8d3949bd-c7c4-45a1-b11f-90a0975de679>                         Wget/1.19.4 (darwin17.3.0)   \n",
       "<urn:uuid:87c47520-05d9-47ac-b8b5-79408549caff>                            Wget/1.19.5 (linux-gnu)   \n",
       "<urn:uuid:0b7d69ca-d38c-4d6c-9f91-bcb63c82265c>  Mozilla/5.0 (compatible; archive.org_bot; Wayb...   \n",
       "<urn:uuid:572b5006-3a51-43df-94fc-95ccfea727af>  Mozilla/5.0 (Windows NT 6.1; Win64; x64; rv:63...   \n",
       "\n",
       "                                                user_agent_family    bot  \n",
       "record_id                                                                 \n",
       "<urn:uuid:e70603a2-096a-4f82-b66d-7bc2bb5f286e>     Python-urllib   true  \n",
       "<urn:uuid:8d3949bd-c7c4-45a1-b11f-90a0975de679>              Wget   true  \n",
       "<urn:uuid:87c47520-05d9-47ac-b8b5-79408549caff>              Wget   true  \n",
       "<urn:uuid:0b7d69ca-d38c-4d6c-9f91-bcb63c82265c>   archive.org_bot   true  \n",
       "<urn:uuid:572b5006-3a51-43df-94fc-95ccfea727af>           Firefox  false  "
      ]
     },
     "execution_count": 87,
     "metadata": {},
     "output_type": "execute_result"
    }
   ],
   "source": [
    "sample = pandas.DataFrame(sample_list, columns=year.schema.fieldNames())\n",
    "sample = sample.set_index('record_id')\n",
    "sample.head()"
   ]
  },
  {
   "cell_type": "markdown",
   "metadata": {},
   "source": [
    "## Add Novelty\n",
    "\n",
    "Now let's create a function that will return all the times a URL was archived. If supplied the `to` parameter will limit the results to snapshots that were taken prior to (and including) that time. This will limit the results we need to collect since we don't really need to know how many times a URL was collected *after* the time in question."
   ]
  },
  {
   "cell_type": "code",
   "execution_count": 11,
   "metadata": {},
   "outputs": [
    {
     "name": "stdout",
     "output_type": "stream",
     "text": [
      "https://mith.umd.edu [20000815201749, 20001204145800, 20010201091600, 20010203124200, 20010224212144, 20010301092808, 20010302112313, 20010309133144, 20010404212235, 20010418164605, 20010515215143, 20010721201430, 20010924024921, 20011202065537, 20020601134123, 20020604040017, 20020802093507, 20020927173901, 20020929183602]\n"
     ]
    }
   ],
   "source": [
    "import requests\n",
    "\n",
    "def archive_times(url, to=None):\n",
    "    params = {\"output\": \"json\", \"url\": url, \"limit\": 10000, 'showResumeKey': True}\n",
    "    if to:\n",
    "        params['to'] = to\n",
    "    \n",
    "    while True:\n",
    "        resp = requests.get('http://web.archive.org/cdx/search/cdx', params=params)\n",
    "        \n",
    "        if resp.status_code == 403:\n",
    "            # catch \"Blocked Site Error\" when robots.txt prevents lookup?\n",
    "            # e.g. http://www.jeuxvideo.com/forums/42-51-53683620-1-0-1-0-pour-etre-assure-au-niveau-de-la-sante-aux-usa.htm \n",
    "            yield None\n",
    "            break\n",
    "            \n",
    "        results = resp.json()\n",
    "        # ignore header\n",
    "        for result in results[1:]:\n",
    "            if len(result) > 1:\n",
    "                yield int(result[1])\n",
    "        \n",
    "        if len(results) != 0 and len(results[-1]) == 1:\n",
    "            params['resumeKey'] = results[-1][0]\n",
    "        else:\n",
    "            break\n",
    "\n",
    "\n",
    "print('https://mith.umd.edu', list(archive_times('https://mith.umd.edu/', to=20020929183602)))"
   ]
  },
  {
   "cell_type": "markdown",
   "metadata": {},
   "source": [
    "Now that we have a function that returns all the times that a URL was archived we can create another function `new_url` that takes a uRL and a date and determines whether the snapshot taken at that time was the first time the URL was seen."
   ]
  },
  {
   "cell_type": "code",
   "execution_count": 103,
   "metadata": {},
   "outputs": [],
   "source": [
    "import re\n",
    "\n",
    "def new_url(url, date):\n",
    "    # convert 2018-10-25T21:47:18Z to 20181025214718\n",
    "    request_date = int(re.sub(r'[:TZ-]', '', date))\n",
    "    \n",
    "    # cdx results should be sorted, but we'll make sure\n",
    "    times = sorted(archive_times(url, to=request_date))\n",
    "    if len(times) > 0:\n",
    "        result = request_date == times[0]\n",
    "    else:\n",
    "        # sometimes it seems Wayback CDX doesn't know about things in the WARCs?\n",
    "        # e.g. http://josephinedark.net/code.php?PHPSESSID=96bb60faa7f178b21b949e9359129459\n",
    "        result = False\n",
    "    \n",
    "    return result"
   ]
  },
  {
   "cell_type": "markdown",
   "metadata": {},
   "source": [
    "Let's test it out on the first ten rows in the humans sample:"
   ]
  },
  {
   "cell_type": "code",
   "execution_count": 104,
   "metadata": {},
   "outputs": [
    {
     "name": "stdout",
     "output_type": "stream",
     "text": [
      "http://eestipaevaleht.se/ False\n",
      "http://km.aifb.kit.edu/projects/numbers/web/n2481513 True\n",
      "https://socialblade.com/youtube/channel/UCCmXcYtA4T9wxc3vmbGFxRA False\n",
      "https://www.reg.ru/domain/shop/lot/rockderzhava.ru?rid=2014 False\n",
      "http://abelhas.pt/action/LastAccounts/LastSeenRotation?TimeStamp=1540485933469&itemsCount=84&inRow=7&pageSize=21&page=4 True\n"
     ]
    }
   ],
   "source": [
    "for i, row in sample.head(5).iterrows():\n",
    "    print(row.url, new_url(row.url, row.date))"
   ]
  },
  {
   "cell_type": "markdown",
   "metadata": {},
   "source": [
    "You can go over to [Internet Archive's Wayback Machine](https://web.archive.org) to confirm the results. Now we can create our new column named `new_url` to indicate whether the URL was new when it was added to the Internet Archive. Depending on the number of rows in the sample this can take some time, since each row triggers a CDX API lookup, which will take about a second."
   ]
  },
  {
   "cell_type": "code",
   "execution_count": 89,
   "metadata": {},
   "outputs": [],
   "source": [
    "sample['new_url'] = pandas.Series(\n",
    "    [new_url(r.url, r.date) for i, r in sample.iterrows()], \n",
    "    index=sample.index\n",
    ")"
   ]
  },
  {
   "cell_type": "code",
   "execution_count": 90,
   "metadata": {},
   "outputs": [
    {
     "data": {
      "text/html": [
       "<div>\n",
       "<style scoped>\n",
       "    .dataframe tbody tr th:only-of-type {\n",
       "        vertical-align: middle;\n",
       "    }\n",
       "\n",
       "    .dataframe tbody tr th {\n",
       "        vertical-align: top;\n",
       "    }\n",
       "\n",
       "    .dataframe thead th {\n",
       "        text-align: right;\n",
       "    }\n",
       "</style>\n",
       "<table border=\"1\" class=\"dataframe\">\n",
       "  <thead>\n",
       "    <tr style=\"text-align: right;\">\n",
       "      <th></th>\n",
       "      <th>warc_file</th>\n",
       "      <th>date</th>\n",
       "      <th>url</th>\n",
       "      <th>user_agent</th>\n",
       "      <th>user_agent_family</th>\n",
       "      <th>bot</th>\n",
       "      <th>new_url</th>\n",
       "    </tr>\n",
       "    <tr>\n",
       "      <th>record_id</th>\n",
       "      <th></th>\n",
       "      <th></th>\n",
       "      <th></th>\n",
       "      <th></th>\n",
       "      <th></th>\n",
       "      <th></th>\n",
       "      <th></th>\n",
       "    </tr>\n",
       "  </thead>\n",
       "  <tbody>\n",
       "    <tr>\n",
       "      <th>&lt;urn:uuid:e70603a2-096a-4f82-b66d-7bc2bb5f286e&gt;</th>\n",
       "      <td>warcs/liveweb-20181025043139/live-201810250352...</td>\n",
       "      <td>2018-10-25T04:12:23Z</td>\n",
       "      <td>http://eestipaevaleht.se/</td>\n",
       "      <td>Python-urllib/2.7</td>\n",
       "      <td>Python-urllib</td>\n",
       "      <td>true</td>\n",
       "      <td>false</td>\n",
       "    </tr>\n",
       "    <tr>\n",
       "      <th>&lt;urn:uuid:8d3949bd-c7c4-45a1-b11f-90a0975de679&gt;</th>\n",
       "      <td>warcs/liveweb-20181025212424/live-201810252105...</td>\n",
       "      <td>2018-10-25T21:23:14Z</td>\n",
       "      <td>http://km.aifb.kit.edu/projects/numbers/web/n2...</td>\n",
       "      <td>Wget/1.19.4 (darwin17.3.0)</td>\n",
       "      <td>Wget</td>\n",
       "      <td>true</td>\n",
       "      <td>true</td>\n",
       "    </tr>\n",
       "    <tr>\n",
       "      <th>&lt;urn:uuid:87c47520-05d9-47ac-b8b5-79408549caff&gt;</th>\n",
       "      <td>warcs/liveweb-20181025170957/live-201810251658...</td>\n",
       "      <td>2018-10-25T17:05:13Z</td>\n",
       "      <td>https://socialblade.com/youtube/channel/UCCmXc...</td>\n",
       "      <td>Wget/1.19.5 (linux-gnu)</td>\n",
       "      <td>Wget</td>\n",
       "      <td>true</td>\n",
       "      <td>false</td>\n",
       "    </tr>\n",
       "    <tr>\n",
       "      <th>&lt;urn:uuid:0b7d69ca-d38c-4d6c-9f91-bcb63c82265c&gt;</th>\n",
       "      <td>warcs/liveweb-20181025000937/cachegw-201810240...</td>\n",
       "      <td>2018-10-24T13:44:56Z</td>\n",
       "      <td>https://www.reg.ru/domain/shop/lot/rockderzhav...</td>\n",
       "      <td>Mozilla/5.0 (compatible; archive.org_bot; Wayb...</td>\n",
       "      <td>archive.org_bot</td>\n",
       "      <td>true</td>\n",
       "      <td>false</td>\n",
       "    </tr>\n",
       "    <tr>\n",
       "      <th>&lt;urn:uuid:572b5006-3a51-43df-94fc-95ccfea727af&gt;</th>\n",
       "      <td>warcs/liveweb-20181025165702/live-201810251631...</td>\n",
       "      <td>2018-10-25T16:47:20Z</td>\n",
       "      <td>http://abelhas.pt/action/LastAccounts/LastSeen...</td>\n",
       "      <td>Mozilla/5.0 (Windows NT 6.1; Win64; x64; rv:63...</td>\n",
       "      <td>Firefox</td>\n",
       "      <td>false</td>\n",
       "      <td>true</td>\n",
       "    </tr>\n",
       "  </tbody>\n",
       "</table>\n",
       "</div>"
      ],
      "text/plain": [
       "                                                                                         warc_file  \\\n",
       "record_id                                                                                            \n",
       "<urn:uuid:e70603a2-096a-4f82-b66d-7bc2bb5f286e>  warcs/liveweb-20181025043139/live-201810250352...   \n",
       "<urn:uuid:8d3949bd-c7c4-45a1-b11f-90a0975de679>  warcs/liveweb-20181025212424/live-201810252105...   \n",
       "<urn:uuid:87c47520-05d9-47ac-b8b5-79408549caff>  warcs/liveweb-20181025170957/live-201810251658...   \n",
       "<urn:uuid:0b7d69ca-d38c-4d6c-9f91-bcb63c82265c>  warcs/liveweb-20181025000937/cachegw-201810240...   \n",
       "<urn:uuid:572b5006-3a51-43df-94fc-95ccfea727af>  warcs/liveweb-20181025165702/live-201810251631...   \n",
       "\n",
       "                                                                 date  \\\n",
       "record_id                                                               \n",
       "<urn:uuid:e70603a2-096a-4f82-b66d-7bc2bb5f286e>  2018-10-25T04:12:23Z   \n",
       "<urn:uuid:8d3949bd-c7c4-45a1-b11f-90a0975de679>  2018-10-25T21:23:14Z   \n",
       "<urn:uuid:87c47520-05d9-47ac-b8b5-79408549caff>  2018-10-25T17:05:13Z   \n",
       "<urn:uuid:0b7d69ca-d38c-4d6c-9f91-bcb63c82265c>  2018-10-24T13:44:56Z   \n",
       "<urn:uuid:572b5006-3a51-43df-94fc-95ccfea727af>  2018-10-25T16:47:20Z   \n",
       "\n",
       "                                                                                               url  \\\n",
       "record_id                                                                                            \n",
       "<urn:uuid:e70603a2-096a-4f82-b66d-7bc2bb5f286e>                          http://eestipaevaleht.se/   \n",
       "<urn:uuid:8d3949bd-c7c4-45a1-b11f-90a0975de679>  http://km.aifb.kit.edu/projects/numbers/web/n2...   \n",
       "<urn:uuid:87c47520-05d9-47ac-b8b5-79408549caff>  https://socialblade.com/youtube/channel/UCCmXc...   \n",
       "<urn:uuid:0b7d69ca-d38c-4d6c-9f91-bcb63c82265c>  https://www.reg.ru/domain/shop/lot/rockderzhav...   \n",
       "<urn:uuid:572b5006-3a51-43df-94fc-95ccfea727af>  http://abelhas.pt/action/LastAccounts/LastSeen...   \n",
       "\n",
       "                                                                                        user_agent  \\\n",
       "record_id                                                                                            \n",
       "<urn:uuid:e70603a2-096a-4f82-b66d-7bc2bb5f286e>                                  Python-urllib/2.7   \n",
       "<urn:uuid:8d3949bd-c7c4-45a1-b11f-90a0975de679>                         Wget/1.19.4 (darwin17.3.0)   \n",
       "<urn:uuid:87c47520-05d9-47ac-b8b5-79408549caff>                            Wget/1.19.5 (linux-gnu)   \n",
       "<urn:uuid:0b7d69ca-d38c-4d6c-9f91-bcb63c82265c>  Mozilla/5.0 (compatible; archive.org_bot; Wayb...   \n",
       "<urn:uuid:572b5006-3a51-43df-94fc-95ccfea727af>  Mozilla/5.0 (Windows NT 6.1; Win64; x64; rv:63...   \n",
       "\n",
       "                                                user_agent_family    bot  \\\n",
       "record_id                                                                  \n",
       "<urn:uuid:e70603a2-096a-4f82-b66d-7bc2bb5f286e>     Python-urllib   true   \n",
       "<urn:uuid:8d3949bd-c7c4-45a1-b11f-90a0975de679>              Wget   true   \n",
       "<urn:uuid:87c47520-05d9-47ac-b8b5-79408549caff>              Wget   true   \n",
       "<urn:uuid:0b7d69ca-d38c-4d6c-9f91-bcb63c82265c>   archive.org_bot   true   \n",
       "<urn:uuid:572b5006-3a51-43df-94fc-95ccfea727af>           Firefox  false   \n",
       "\n",
       "                                                new_url  \n",
       "record_id                                                \n",
       "<urn:uuid:e70603a2-096a-4f82-b66d-7bc2bb5f286e>   false  \n",
       "<urn:uuid:8d3949bd-c7c4-45a1-b11f-90a0975de679>    true  \n",
       "<urn:uuid:87c47520-05d9-47ac-b8b5-79408549caff>   false  \n",
       "<urn:uuid:0b7d69ca-d38c-4d6c-9f91-bcb63c82265c>   false  \n",
       "<urn:uuid:572b5006-3a51-43df-94fc-95ccfea727af>    true  "
      ]
     },
     "execution_count": 90,
     "metadata": {},
     "output_type": "execute_result"
    }
   ],
   "source": [
    "sample.head(5)"
   ]
  },
  {
   "cell_type": "markdown",
   "metadata": {},
   "source": [
    "Now we can calcuate the novelty for 2018, or the probability that a SavePageNow request generated brought a new URL to the archive."
   ]
  },
  {
   "cell_type": "code",
   "execution_count": 92,
   "metadata": {},
   "outputs": [
    {
     "name": "stdout",
     "output_type": "stream",
     "text": [
      "0.37343358395989973\n"
     ]
    }
   ],
   "source": [
    "novelty = len(sample.query('new_url == \"true\"')) / len(sample)\n",
    "print(novelty)"
   ]
  },
  {
   "cell_type": "markdown",
   "metadata": {},
   "source": [
    "So, 37% of SavePageNow requests on October 25, 2018 added a new (novel) URL to the archive. The margin of error is 5% with 95% level of confidence.\n",
    "\n",
    "Let's save our sampled dataset since it did take some time to generate."
   ]
  },
  {
   "cell_type": "code",
   "execution_count": 93,
   "metadata": {},
   "outputs": [],
   "source": [
    "sample.to_csv('results/novelty-sample.csv')"
   ]
  },
  {
   "cell_type": "markdown",
   "metadata": {},
   "source": [
    "## Automation and Archival Novelty\n",
    "\n",
    "The User Agents notebook provides a general sense of whether traffic was automated or not. So it should be possible to see if there is any statistical difference in archival novelty between these two types of agents.\n",
    "\n",
    "To do this we will run a [Chi-square Test for Association](https://en.wikipedia.org/wiki/Chi-squared_test). As our null-hypothesis we will assume that there is no difference in archival novelty between automated and human SavePageNow requests. If the null hypothesis can be rejected, then we must accept the alternate hypothesis that there is a difference in archival novelty between humans and bots."
   ]
  },
  {
   "cell_type": "markdown",
   "metadata": {},
   "source": [
    "If we we don't have it already load back the sample dataset that was created in the previous section."
   ]
  },
  {
   "cell_type": "code",
   "execution_count": 102,
   "metadata": {},
   "outputs": [
    {
     "data": {
      "text/html": [
       "<div>\n",
       "<style scoped>\n",
       "    .dataframe tbody tr th:only-of-type {\n",
       "        vertical-align: middle;\n",
       "    }\n",
       "\n",
       "    .dataframe tbody tr th {\n",
       "        vertical-align: top;\n",
       "    }\n",
       "\n",
       "    .dataframe thead th {\n",
       "        text-align: right;\n",
       "    }\n",
       "</style>\n",
       "<table border=\"1\" class=\"dataframe\">\n",
       "  <thead>\n",
       "    <tr style=\"text-align: right;\">\n",
       "      <th></th>\n",
       "      <th>warc_file</th>\n",
       "      <th>date</th>\n",
       "      <th>url</th>\n",
       "      <th>user_agent</th>\n",
       "      <th>user_agent_family</th>\n",
       "      <th>bot</th>\n",
       "      <th>new_url</th>\n",
       "    </tr>\n",
       "    <tr>\n",
       "      <th>record_id</th>\n",
       "      <th></th>\n",
       "      <th></th>\n",
       "      <th></th>\n",
       "      <th></th>\n",
       "      <th></th>\n",
       "      <th></th>\n",
       "      <th></th>\n",
       "    </tr>\n",
       "  </thead>\n",
       "  <tbody>\n",
       "    <tr>\n",
       "      <th>&lt;urn:uuid:e70603a2-096a-4f82-b66d-7bc2bb5f286e&gt;</th>\n",
       "      <td>warcs/liveweb-20181025043139/live-201810250352...</td>\n",
       "      <td>2018-10-25T04:12:23Z</td>\n",
       "      <td>http://eestipaevaleht.se/</td>\n",
       "      <td>Python-urllib/2.7</td>\n",
       "      <td>Python-urllib</td>\n",
       "      <td>True</td>\n",
       "      <td>False</td>\n",
       "    </tr>\n",
       "    <tr>\n",
       "      <th>&lt;urn:uuid:8d3949bd-c7c4-45a1-b11f-90a0975de679&gt;</th>\n",
       "      <td>warcs/liveweb-20181025212424/live-201810252105...</td>\n",
       "      <td>2018-10-25T21:23:14Z</td>\n",
       "      <td>http://km.aifb.kit.edu/projects/numbers/web/n2...</td>\n",
       "      <td>Wget/1.19.4 (darwin17.3.0)</td>\n",
       "      <td>Wget</td>\n",
       "      <td>True</td>\n",
       "      <td>True</td>\n",
       "    </tr>\n",
       "    <tr>\n",
       "      <th>&lt;urn:uuid:87c47520-05d9-47ac-b8b5-79408549caff&gt;</th>\n",
       "      <td>warcs/liveweb-20181025170957/live-201810251658...</td>\n",
       "      <td>2018-10-25T17:05:13Z</td>\n",
       "      <td>https://socialblade.com/youtube/channel/UCCmXc...</td>\n",
       "      <td>Wget/1.19.5 (linux-gnu)</td>\n",
       "      <td>Wget</td>\n",
       "      <td>True</td>\n",
       "      <td>False</td>\n",
       "    </tr>\n",
       "    <tr>\n",
       "      <th>&lt;urn:uuid:0b7d69ca-d38c-4d6c-9f91-bcb63c82265c&gt;</th>\n",
       "      <td>warcs/liveweb-20181025000937/cachegw-201810240...</td>\n",
       "      <td>2018-10-24T13:44:56Z</td>\n",
       "      <td>https://www.reg.ru/domain/shop/lot/rockderzhav...</td>\n",
       "      <td>Mozilla/5.0 (compatible; archive.org_bot; Wayb...</td>\n",
       "      <td>archive.org_bot</td>\n",
       "      <td>True</td>\n",
       "      <td>False</td>\n",
       "    </tr>\n",
       "    <tr>\n",
       "      <th>&lt;urn:uuid:572b5006-3a51-43df-94fc-95ccfea727af&gt;</th>\n",
       "      <td>warcs/liveweb-20181025165702/live-201810251631...</td>\n",
       "      <td>2018-10-25T16:47:20Z</td>\n",
       "      <td>http://abelhas.pt/action/LastAccounts/LastSeen...</td>\n",
       "      <td>Mozilla/5.0 (Windows NT 6.1; Win64; x64; rv:63...</td>\n",
       "      <td>Firefox</td>\n",
       "      <td>False</td>\n",
       "      <td>True</td>\n",
       "    </tr>\n",
       "  </tbody>\n",
       "</table>\n",
       "</div>"
      ],
      "text/plain": [
       "                                                                                         warc_file  \\\n",
       "record_id                                                                                            \n",
       "<urn:uuid:e70603a2-096a-4f82-b66d-7bc2bb5f286e>  warcs/liveweb-20181025043139/live-201810250352...   \n",
       "<urn:uuid:8d3949bd-c7c4-45a1-b11f-90a0975de679>  warcs/liveweb-20181025212424/live-201810252105...   \n",
       "<urn:uuid:87c47520-05d9-47ac-b8b5-79408549caff>  warcs/liveweb-20181025170957/live-201810251658...   \n",
       "<urn:uuid:0b7d69ca-d38c-4d6c-9f91-bcb63c82265c>  warcs/liveweb-20181025000937/cachegw-201810240...   \n",
       "<urn:uuid:572b5006-3a51-43df-94fc-95ccfea727af>  warcs/liveweb-20181025165702/live-201810251631...   \n",
       "\n",
       "                                                                 date  \\\n",
       "record_id                                                               \n",
       "<urn:uuid:e70603a2-096a-4f82-b66d-7bc2bb5f286e>  2018-10-25T04:12:23Z   \n",
       "<urn:uuid:8d3949bd-c7c4-45a1-b11f-90a0975de679>  2018-10-25T21:23:14Z   \n",
       "<urn:uuid:87c47520-05d9-47ac-b8b5-79408549caff>  2018-10-25T17:05:13Z   \n",
       "<urn:uuid:0b7d69ca-d38c-4d6c-9f91-bcb63c82265c>  2018-10-24T13:44:56Z   \n",
       "<urn:uuid:572b5006-3a51-43df-94fc-95ccfea727af>  2018-10-25T16:47:20Z   \n",
       "\n",
       "                                                                                               url  \\\n",
       "record_id                                                                                            \n",
       "<urn:uuid:e70603a2-096a-4f82-b66d-7bc2bb5f286e>                          http://eestipaevaleht.se/   \n",
       "<urn:uuid:8d3949bd-c7c4-45a1-b11f-90a0975de679>  http://km.aifb.kit.edu/projects/numbers/web/n2...   \n",
       "<urn:uuid:87c47520-05d9-47ac-b8b5-79408549caff>  https://socialblade.com/youtube/channel/UCCmXc...   \n",
       "<urn:uuid:0b7d69ca-d38c-4d6c-9f91-bcb63c82265c>  https://www.reg.ru/domain/shop/lot/rockderzhav...   \n",
       "<urn:uuid:572b5006-3a51-43df-94fc-95ccfea727af>  http://abelhas.pt/action/LastAccounts/LastSeen...   \n",
       "\n",
       "                                                                                        user_agent  \\\n",
       "record_id                                                                                            \n",
       "<urn:uuid:e70603a2-096a-4f82-b66d-7bc2bb5f286e>                                  Python-urllib/2.7   \n",
       "<urn:uuid:8d3949bd-c7c4-45a1-b11f-90a0975de679>                         Wget/1.19.4 (darwin17.3.0)   \n",
       "<urn:uuid:87c47520-05d9-47ac-b8b5-79408549caff>                            Wget/1.19.5 (linux-gnu)   \n",
       "<urn:uuid:0b7d69ca-d38c-4d6c-9f91-bcb63c82265c>  Mozilla/5.0 (compatible; archive.org_bot; Wayb...   \n",
       "<urn:uuid:572b5006-3a51-43df-94fc-95ccfea727af>  Mozilla/5.0 (Windows NT 6.1; Win64; x64; rv:63...   \n",
       "\n",
       "                                                user_agent_family    bot  \\\n",
       "record_id                                                                  \n",
       "<urn:uuid:e70603a2-096a-4f82-b66d-7bc2bb5f286e>     Python-urllib   True   \n",
       "<urn:uuid:8d3949bd-c7c4-45a1-b11f-90a0975de679>              Wget   True   \n",
       "<urn:uuid:87c47520-05d9-47ac-b8b5-79408549caff>              Wget   True   \n",
       "<urn:uuid:0b7d69ca-d38c-4d6c-9f91-bcb63c82265c>   archive.org_bot   True   \n",
       "<urn:uuid:572b5006-3a51-43df-94fc-95ccfea727af>           Firefox  False   \n",
       "\n",
       "                                                 new_url  \n",
       "record_id                                                 \n",
       "<urn:uuid:e70603a2-096a-4f82-b66d-7bc2bb5f286e>    False  \n",
       "<urn:uuid:8d3949bd-c7c4-45a1-b11f-90a0975de679>     True  \n",
       "<urn:uuid:87c47520-05d9-47ac-b8b5-79408549caff>    False  \n",
       "<urn:uuid:0b7d69ca-d38c-4d6c-9f91-bcb63c82265c>    False  \n",
       "<urn:uuid:572b5006-3a51-43df-94fc-95ccfea727af>     True  "
      ]
     },
     "execution_count": 102,
     "metadata": {},
     "output_type": "execute_result"
    }
   ],
   "source": [
    "sample = pandas.read_csv('results/novelty-sample.csv', index_col='record_id')\n",
    "sample.head()"
   ]
  },
  {
   "cell_type": "markdown",
   "metadata": {},
   "source": [
    "The next step is to obtain the relevant values for all the possible combinations of type of agent (bot or not) and novelty (new url or not)."
   ]
  },
  {
   "cell_type": "code",
   "execution_count": 106,
   "metadata": {},
   "outputs": [
    {
     "name": "stdout",
     "output_type": "stream",
     "text": [
      "[91, 58, 195, 55]\n"
     ]
    }
   ],
   "source": [
    "values = []\n",
    "values.append(len(sample.query('bot == True & new_url == True')))\n",
    "values.append(len(sample.query('bot == False & new_url == True')))\n",
    "values.append(len(sample.query('bot == True & new_url == False')))\n",
    "values.append(len(sample.query('bot == False & new_url == False')))\n",
    "print(values)"
   ]
  },
  {
   "cell_type": "markdown",
   "metadata": {},
   "source": [
    "I'm not sure why Jupyter centers tables by default, but we can change that..."
   ]
  },
  {
   "cell_type": "code",
   "execution_count": 109,
   "metadata": {},
   "outputs": [
    {
     "data": {
      "text/html": [
       "<style>\n",
       "table {float:left}\n",
       "</style>\n"
      ],
      "text/plain": [
       "<IPython.core.display.HTML object>"
      ]
     },
     "metadata": {},
     "output_type": "display_data"
    }
   ],
   "source": [
    "%%html\n",
    "<style>\n",
    "table {float:left}\n",
    "</style>"
   ]
  },
  {
   "cell_type": "markdown",
   "metadata": {},
   "source": [
    "In tabular form this data would look like this:\n",
    "\n",
    "| Novelty | Bots | Humans | Total |\n",
    "|---------|------|--------|-------|\n",
    "| New     | 91   | 58     | 149   |\n",
    "| Not New | 195  | 55     | 250   |\n",
    "| Total   | 286  | 113    | 399   |"
   ]
  },
  {
   "cell_type": "markdown",
   "metadata": {},
   "source": [
    "Assuming that there is no relation between the type of agent (bot, human) and the novelty of the URL (new, not-new) it is possible to calculate the values we would expect to see based on the prevalance of those values in our sample. First we deteremine the percentages that the various variables have in our sample."
   ]
  },
  {
   "cell_type": "code",
   "execution_count": 37,
   "metadata": {},
   "outputs": [
    {
     "name": "stdout",
     "output_type": "stream",
     "text": [
      "0.7167919799498746 0.2832080200501253 0.37343358395989973 0.6265664160401002 399\n"
     ]
    }
   ],
   "source": [
    "\n",
    "sample_size = len(sample)\n",
    "p_bots = len(sample.query('bot == \"true\"')) / sample_size\n",
    "p_humans = len(sample.query('bot == \"false\"')) / sample_size\n",
    "p_new = len(sample.query('new_url == \"true\"')) / sample_size\n",
    "p_not_new = len(sample.query('new_url == \"false\"')) / sample_size\n",
    "print(p_bots, p_humans, p_new, p_not_new, sample_size)"
   ]
  },
  {
   "cell_type": "markdown",
   "metadata": {},
   "source": [
    "Then we use these percentages and the sample size to calculate the values we would expect to see. Note: the order of these must match the ordering used in our values."
   ]
  },
  {
   "cell_type": "code",
   "execution_count": 38,
   "metadata": {},
   "outputs": [
    {
     "name": "stdout",
     "output_type": "stream",
     "text": [
      "[106.80200501253131, 42.19799498746867, 179.19799498746866, 70.80200501253132]\n"
     ]
    }
   ],
   "source": [
    "exp_values = []\n",
    "exp_values.append(p_bots * p_new * sample_size)\n",
    "exp_values.append(p_humans * p_new * sample_size)\n",
    "exp_values.append(p_bots * p_not_new * sample_size)\n",
    "exp_values.append(p_humans * p_not_new * sample_size)\n",
    "\n",
    "print(exp_values)"
   ]
  },
  {
   "cell_type": "markdown",
   "metadata": {},
   "source": [
    "Now we can run our chi-square test courtesy of the scipy module."
   ]
  },
  {
   "cell_type": "code",
   "execution_count": 43,
   "metadata": {},
   "outputs": [
    {
     "data": {
      "text/plain": [
       "Power_divergenceResult(statistic=13.175658317450203, pvalue=0.0013770260262489366)"
      ]
     },
     "execution_count": 43,
     "metadata": {},
     "output_type": "execute_result"
    }
   ],
   "source": [
    "import scipy.stats\n",
    "\n",
    "scipy.stats.chisquare(values, exp_values, ddof=1)"
   ]
  },
  {
   "cell_type": "markdown",
   "metadata": {},
   "source": [
    "Since the p-value is .0013 we can reject the null-hypothesis and accept our alternative hypothesis that the type of agent is related to the novelty of URLs. Again based on our sample size we can say this with a confidence level of 95% with a margin of error of 5%.\n",
    "\n",
    "Let's look at the data visually to see what that relation might be. We can calcuate the percentage of each agents requests that resulted in new URLs being added to the Internet Archive."
   ]
  },
  {
   "cell_type": "code",
   "execution_count": 61,
   "metadata": {},
   "outputs": [
    {
     "data": {
      "application/javascript": [
       "var spec = {\"config\": {\"view\": {\"width\": 400, \"height\": 300}, \"mark\": {\"tooltip\": null}}, \"data\": {\"name\": \"data-1bcafff64ac65000eebfcee4fb3e2a16\"}, \"mark\": \"bar\", \"encoding\": {\"color\": {\"type\": \"nominal\", \"field\": \"agent\"}, \"x\": {\"type\": \"quantitative\", \"axis\": {\"format\": \"%\", \"title\": \"Percentage of New Urls Added\"}, \"field\": \"novelty\"}, \"y\": {\"type\": \"nominal\", \"field\": \"agent\", \"title\": \"\"}}, \"height\": 100, \"title\": \"Archival Novelty\", \"width\": 800, \"$schema\": \"https://vega.github.io/schema/vega-lite/v3.3.0.json\", \"datasets\": {\"data-1bcafff64ac65000eebfcee4fb3e2a16\": [{\"novelty\": 0.3181818181818182, \"agent\": \"bot\"}, {\"novelty\": 0.5132743362831859, \"agent\": \"human\"}]}};\n",
       "var opt = {};\n",
       "var type = \"vega-lite\";\n",
       "var id = \"a6610c0a-3e7f-485e-aeec-8ecdff73c9f8\";\n",
       "\n",
       "var output_area = this;\n",
       "\n",
       "require([\"nbextensions/jupyter-vega/index\"], function(vega) {\n",
       "  var target = document.createElement(\"div\");\n",
       "  target.id = id;\n",
       "  target.className = \"vega-embed\";\n",
       "\n",
       "  var style = document.createElement(\"style\");\n",
       "  style.textContent = [\n",
       "    \".vega-embed .error p {\",\n",
       "    \"  color: firebrick;\",\n",
       "    \"  font-size: 14px;\",\n",
       "    \"}\",\n",
       "  ].join(\"\\\\n\");\n",
       "\n",
       "  // element is a jQuery wrapped DOM element inside the output area\n",
       "  // see http://ipython.readthedocs.io/en/stable/api/generated/\\\n",
       "  // IPython.display.html#IPython.display.Javascript.__init__\n",
       "  element[0].appendChild(target);\n",
       "  element[0].appendChild(style);\n",
       "\n",
       "  vega.render(\"#\" + id, spec, type, opt, output_area);\n",
       "}, function (err) {\n",
       "  if (err.requireType !== \"scripterror\") {\n",
       "    throw(err);\n",
       "  }\n",
       "});\n"
      ],
      "text/plain": [
       "<vega.vegalite.VegaLite at 0x11efa97b8>"
      ]
     },
     "metadata": {
      "jupyter-vega": "#a6610c0a-3e7f-485e-aeec-8ecdff73c9f8"
     },
     "output_type": "display_data"
    },
    {
     "data": {
      "text/plain": []
     },
     "execution_count": 61,
     "metadata": {},
     "output_type": "execute_result"
    },
    {
     "data": {
      "image/png": "[encoded data removed]"
     },
     "metadata": {
      "jupyter-vega": "#a6610c0a-3e7f-485e-aeec-8ecdff73c9f8"
     },
     "output_type": "display_data"
    }
   ],
   "source": [
    "import altair\n",
    "altair.renderers.enable('notebook')\n",
    "\n",
    "novelty_df = pandas.DataFrame({\n",
    "    'novelty': [\n",
    "        len(sample.query('bot == \"true\" & new_url == \"true\"')) / len(sample.query('bot == \"true\"')),\n",
    "        len(sample.query('bot == \"false\" & new_url == \"true\"')) / len(sample.query('bot == \"false\"'))\n",
    "    ],\n",
    "    'agent': [\"bot\", \"human\"]\n",
    "})\n",
    "                               \n",
    "chart = altair.Chart(novelty_df).mark_bar().encode(\n",
    "    altair.Y('agent:N', title=\"\"),\n",
    "    altair.X('novelty:Q', axis=altair.Axis(format='%', title=\"Percentage of New Urls Added\")),\n",
    "    altair.Color('agent:N')\n",
    ")\n",
    "\n",
    "chart = chart.properties(\n",
    "    width=800,\n",
    "    height=100,\n",
    "    title='Archival Novelty'\n",
    ")\n",
    "\n",
    "chart"
   ]
  },
  {
   "cell_type": "code",
   "execution_count": null,
   "metadata": {},
   "outputs": [],
   "source": []
  }
 ],
 "metadata": {
  "kernelspec": {
   "display_name": "Python 3",
   "language": "python",
   "name": "python3"
  },
  "language_info": {
   "codemirror_mode": {
    "name": "ipython",
    "version": 3
   },
   "file_extension": ".py",
   "mimetype": "text/x-python",
   "name": "python",
   "nbconvert_exporter": "python",
   "pygments_lexer": "ipython3",
   "version": "3.7.3"
  }
 },
 "nbformat": 4,
 "nbformat_minor": 2
}
