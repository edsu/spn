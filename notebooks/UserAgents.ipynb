{
 "cells": [
  {
   "cell_type": "markdown",
   "metadata": {},
   "source": [
    "# User Agents in SavePageNow\n",
    "\n",
    "This notebook examines the User Agents that were used when asking for content to be saved at Internet Archive's SavePageNow.\n",
    "\n",
    "The User-Agent string has been used since the early days of the web as a way of identifying the software that is being used to access a web page. It is currently defined by [RFC 7231](https://tools.ietf.org/html/rfc7231#section-5.5.3) as a set of one ore more *product identifiers* which identify the software being used to perform the HTTP request.\n",
    "\n",
    "    User-Agent      = product *( RWS ( product / comment ) )\n",
    "    product         = token [\"/\" product-version]\n",
    "    product-version = token\n",
    "    \n",
    "So for example the browser I am using now has this User-Agent:\n",
    "\n",
    "    Mozilla/5.0 (Macintosh; Intel Mac OS X 10.14; rv:66.0) Gecko/20100101 Firefox/66.0\n",
    "    \n",
    "The product identifiers here are typically listed in increasing levels of specificity. \n",
    "\n",
    "* Mozilla/5.0 (Macintosh; Intel Mac OS X 10.14; rv:66.0)\n",
    "* Gecko/20100101\n",
    "* Firefox/66.0\n",
    "\n",
    "But they are freeform enough that the [ua-parser](https://www.uaparser.org/) project has built up a voluminous set of regular expressions to parse and make sense of them.\n",
    "\n",
    "The question is, what can the User-Agent's in the SavePageNow data tell us about the people who are participating in creation of the Internet Archive.\n",
    "\n",
    "## Analyze\n",
    "\n",
    "To find the User-Agents that were used to archive the web content we need to excavate the SavePageNow WARC data. WARC files store verious [types of records](https://iipc.github.io/warc-specifications/specifications/warc-format/warc-1.1/#warc-type-mandatory). In this case we need to find the *Request* records that represent the HTTP request that was used by SavePageNow to archive the content from the Web. Using Spark with warcio is one way of doing this analysis:"
   ]
  },
  {
   "cell_type": "code",
   "execution_count": 1,
   "metadata": {},
   "outputs": [],
   "source": [
    "from warc_spark import init, extractor\n",
    "sc, sqlc = init()"
   ]
  },
  {
   "cell_type": "markdown",
   "metadata": {},
   "source": [
    "An extractor function to get the User-Agent from the *WARC Request* objects:"
   ]
  },
  {
   "cell_type": "code",
   "execution_count": 2,
   "metadata": {},
   "outputs": [],
   "source": [
    "@extractor\n",
    "def ua(rec):\n",
    "    if rec.rec_type == 'request':\n",
    "        ua = rec.http_headers.get('user-agent')\n",
    "        if ua:\n",
    "            yield ua"
   ]
  },
  {
   "cell_type": "markdown",
   "metadata": {},
   "source": [
    "Now let's create a function that will run a Spark job to get the User-Agent counts for a year as a dictionary."
   ]
  },
  {
   "cell_type": "code",
   "execution_count": 8,
   "metadata": {},
   "outputs": [],
   "source": [
    "import pandas\n",
    "\n",
    "from glob import glob\n",
    "\n",
    "def get_year(year):\n",
    "    warc_files = glob('warcs/liveweb-{}*/*.warc.gz'.format(year))\n",
    "    warcs = sc.parallelize(warc_files)\n",
    "    output = warcs.mapPartitions(ua)\n",
    "    return output.countByValue()"
   ]
  },
  {
   "cell_type": "markdown",
   "metadata": {},
   "source": [
    "Now we can use `get_year` for each year of data we have for SPN and create a pandas DataFrame of the results."
   ]
  },
  {
   "cell_type": "code",
   "execution_count": 7,
   "metadata": {},
   "outputs": [
    {
     "name": "stdout",
     "output_type": "stream",
     "text": [
      "2013\n",
      "2014\n",
      "2015\n",
      "2016\n",
      "2017\n",
      "2018\n"
     ]
    }
   ],
   "source": [
    "ua_data = {}\n",
    "for year in range(2013, 2019):\n",
    "    print(year)\n",
    "    ua_data[str(year)] = get_year(year)\n",
    "\n",
    "df = pandas.DataFrame(ua_data)\n",
    "df.index.name = 'ua'"
   ]
  },
  {
   "cell_type": "markdown",
   "metadata": {},
   "source": [
    "We can quickly examine it to make sure it looks like it worrked:"
   ]
  },
  {
   "cell_type": "code",
   "execution_count": 41,
   "metadata": {},
   "outputs": [
    {
     "data": {
      "text/html": [
       "<div>\n",
       "<style scoped>\n",
       "    .dataframe tbody tr th:only-of-type {\n",
       "        vertical-align: middle;\n",
       "    }\n",
       "\n",
       "    .dataframe tbody tr th {\n",
       "        vertical-align: top;\n",
       "    }\n",
       "\n",
       "    .dataframe thead th {\n",
       "        text-align: right;\n",
       "    }\n",
       "</style>\n",
       "<table border=\"1\" class=\"dataframe\">\n",
       "  <thead>\n",
       "    <tr style=\"text-align: right;\">\n",
       "      <th></th>\n",
       "      <th>2013</th>\n",
       "      <th>2014</th>\n",
       "      <th>2015</th>\n",
       "      <th>2016</th>\n",
       "      <th>2017</th>\n",
       "      <th>2018</th>\n",
       "    </tr>\n",
       "    <tr>\n",
       "      <th>ua</th>\n",
       "      <th></th>\n",
       "      <th></th>\n",
       "      <th></th>\n",
       "      <th></th>\n",
       "      <th></th>\n",
       "      <th></th>\n",
       "    </tr>\n",
       "  </thead>\n",
       "  <tbody>\n",
       "    <tr>\n",
       "      <th>Mozilla/5.0 (compatible; archive.org_bot; Wayback Machine Live Record; +http://archive.org/details/archive.org_bot)</th>\n",
       "      <td>1238598.0</td>\n",
       "      <td>56591.0</td>\n",
       "      <td>21916.0</td>\n",
       "      <td>1211109.0</td>\n",
       "      <td>6633531.0</td>\n",
       "      <td>1487305.0</td>\n",
       "    </tr>\n",
       "    <tr>\n",
       "      <th>Wget/1.19.5 (linux-gnu)</th>\n",
       "      <td>NaN</td>\n",
       "      <td>NaN</td>\n",
       "      <td>NaN</td>\n",
       "      <td>NaN</td>\n",
       "      <td>NaN</td>\n",
       "      <td>719941.0</td>\n",
       "    </tr>\n",
       "    <tr>\n",
       "      <th>Mozilla/5.0 (Windows NT 10.0; Win64; x64) AppleWebKit/537.36 (KHTML, like Gecko) Chrome/69.0.3497.100 Safari/537.36</th>\n",
       "      <td>NaN</td>\n",
       "      <td>NaN</td>\n",
       "      <td>NaN</td>\n",
       "      <td>NaN</td>\n",
       "      <td>NaN</td>\n",
       "      <td>560050.0</td>\n",
       "    </tr>\n",
       "    <tr>\n",
       "      <th>Mozilla/5.0 (compatible; archive.org_bot; Wayback Machine Live Record; http://archive.org/details/archive.org_bot)</th>\n",
       "      <td>NaN</td>\n",
       "      <td>NaN</td>\n",
       "      <td>NaN</td>\n",
       "      <td>NaN</td>\n",
       "      <td>NaN</td>\n",
       "      <td>506645.0</td>\n",
       "    </tr>\n",
       "    <tr>\n",
       "      <th>Mozilla/5.0 (Windows NT 10.0; Win64; x64; rv:62.0) Gecko/20100101 Firefox/62.0</th>\n",
       "      <td>NaN</td>\n",
       "      <td>NaN</td>\n",
       "      <td>NaN</td>\n",
       "      <td>NaN</td>\n",
       "      <td>NaN</td>\n",
       "      <td>243023.0</td>\n",
       "    </tr>\n",
       "  </tbody>\n",
       "</table>\n",
       "</div>"
      ],
      "text/plain": [
       "                                                         2013     2014  \\\n",
       "ua                                                                       \n",
       "Mozilla/5.0 (compatible; archive.org_bot; Wayba...  1238598.0  56591.0   \n",
       "Wget/1.19.5 (linux-gnu)                                   NaN      NaN   \n",
       "Mozilla/5.0 (Windows NT 10.0; Win64; x64) Apple...        NaN      NaN   \n",
       "Mozilla/5.0 (compatible; archive.org_bot; Wayba...        NaN      NaN   \n",
       "Mozilla/5.0 (Windows NT 10.0; Win64; x64; rv:62...        NaN      NaN   \n",
       "\n",
       "                                                       2015       2016  \\\n",
       "ua                                                                       \n",
       "Mozilla/5.0 (compatible; archive.org_bot; Wayba...  21916.0  1211109.0   \n",
       "Wget/1.19.5 (linux-gnu)                                 NaN        NaN   \n",
       "Mozilla/5.0 (Windows NT 10.0; Win64; x64) Apple...      NaN        NaN   \n",
       "Mozilla/5.0 (compatible; archive.org_bot; Wayba...      NaN        NaN   \n",
       "Mozilla/5.0 (Windows NT 10.0; Win64; x64; rv:62...      NaN        NaN   \n",
       "\n",
       "                                                         2017       2018  \n",
       "ua                                                                        \n",
       "Mozilla/5.0 (compatible; archive.org_bot; Wayba...  6633531.0  1487305.0  \n",
       "Wget/1.19.5 (linux-gnu)                                   NaN   719941.0  \n",
       "Mozilla/5.0 (Windows NT 10.0; Win64; x64) Apple...        NaN   560050.0  \n",
       "Mozilla/5.0 (compatible; archive.org_bot; Wayba...        NaN   506645.0  \n",
       "Mozilla/5.0 (Windows NT 10.0; Win64; x64; rv:62...        NaN   243023.0  "
      ]
     },
     "execution_count": 41,
     "metadata": {},
     "output_type": "execute_result"
    }
   ],
   "source": [
    "df.head()"
   ]
  },
  {
   "cell_type": "markdown",
   "metadata": {},
   "source": [
    "Save it for later, since it took about 6 hours to compute on XSEDE."
   ]
  },
  {
   "cell_type": "code",
   "execution_count": 33,
   "metadata": {},
   "outputs": [],
   "source": [
    "df.to_csv('../analysis/results/ua.csv')"
   ]
  },
  {
   "cell_type": "markdown",
   "metadata": {},
   "source": [
    "## Top 10 User Agents\n",
    "\n",
    "Let's see if we can find any rhyme or reason in this data. If the CSV has already been calculated we can load it here instead of waiting 6 hours for the analysis to run."
   ]
  },
  {
   "cell_type": "code",
   "execution_count": 2,
   "metadata": {},
   "outputs": [],
   "source": [
    "import pandas\n",
    "\n",
    "df = pandas.read_csv('../analysis/results/ua.csv', index_col='ua')"
   ]
  },
  {
   "cell_type": "markdown",
   "metadata": {},
   "source": [
    "What are the top 10 per year? We can iterate through the years and generate a table from our DataFrame for each year:"
   ]
  },
  {
   "cell_type": "code",
   "execution_count": 3,
   "metadata": {
    "scrolled": false
   },
   "outputs": [
    {
     "data": {
      "text/markdown": [
       "### 2013\n",
       "| user-agent | count |\n",
       "| ---------- | ----- |\n",
       "| Mozilla/5.0 (compatible; archive.org_bot; Wayback Machine Live Record; +http://archive.org/details/archive.org_bot) | 1238598.0 |"
      ],
      "text/plain": [
       "<IPython.core.display.Markdown object>"
      ]
     },
     "metadata": {},
     "output_type": "display_data"
    },
    {
     "data": {
      "text/markdown": [
       "### 2014\n",
       "| user-agent | count |\n",
       "| ---------- | ----- |\n",
       "| Mozilla/5.0 (Windows NT 6.1; WOW64) AppleWebKit/537.36 (KHTML, like Gecko) Chrome/38.0.2125.104 Safari/537.36 (via Wayback Save Page) | 135766.0 |\n",
       "| Mozilla/5.0 (Windows NT 6.1; WOW64; rv:32.0) Gecko/20100101 Firefox/32.0 (via Wayback Save Page) | 81716.0 |\n",
       "| Mozilla/5.0 (Windows NT 6.3; WOW64) AppleWebKit/537.36 (KHTML, like Gecko) Chrome/38.0.2125.104 Safari/537.36 (via Wayback Save Page) | 76425.0 |\n",
       "| Mozilla/5.0 (Windows NT 6.1; WOW64; Trident/7.0; rv:11.0) like Gecko (via Wayback Save Page) | 61961.0 |\n",
       "| Mozilla/5.0 (compatible; archive.org_bot; Wayback Machine Live Record; +http://archive.org/details/archive.org_bot) | 56591.0 |\n",
       "| Mozilla/5.0 (Windows NT 6.1; WOW64; rv:33.0) Gecko/20100101 Firefox/33.0 (via Wayback Save Page) | 49612.0 |\n",
       "| Mozilla/5.0 (Windows NT 6.1) AppleWebKit/537.36 (KHTML, like Gecko) Chrome/38.0.2125.104 Safari/537.36 (via Wayback Save Page) | 48449.0 |\n",
       "| Mozilla/5.0 (Windows NT 6.1; WOW64; rv:17.0) Gecko/20100101 Firefox/17.0 (via Wayback Save Page) | 30932.0 |\n",
       "| Mozilla/5.0 (Windows NT 6.3; WOW64; rv:32.0) Gecko/20100101 Firefox/32.0 (via Wayback Save Page) | 27085.0 |\n",
       "| Mozilla/5.0 (Windows NT 6.1; rv:32.0) Gecko/20100101 Firefox/32.0 (via Wayback Save Page) | 26100.0 |"
      ],
      "text/plain": [
       "<IPython.core.display.Markdown object>"
      ]
     },
     "metadata": {},
     "output_type": "display_data"
    },
    {
     "data": {
      "text/markdown": [
       "### 2015\n",
       "| user-agent | count |\n",
       "| ---------- | ----- |\n",
       "| Mozilla/5.0 (Windows NT 6.1; WOW64; rv:41.0) Gecko/20100101 Firefox/41.0 (via Wayback Save Page) | 109033.0 |\n",
       "| Mozilla/5.0 (Windows NT 6.1; WOW64) AppleWebKit/537.36 (KHTML, like Gecko) Chrome/46.0.2490.71 Safari/537.36 (via Wayback Save Page) | 89467.0 |\n",
       "| Mozilla/5.0 (Windows NT 6.1; WOW64) AppleWebKit/537.36 (KHTML, like Gecko) Chrome/46.0.2490.80 Safari/537.36 (via Wayback Save Page) | 75917.0 |\n",
       "| Mozilla/5.0 (Windows NT 6.2; WOW64) AppleWebKit/537.36 (KHTML, like Gecko) Chrome/30.0.1599.17 Safari/537.36 (via Wayback Save Page) | 59968.0 |\n",
       "| Mozilla/5.0 (Windows NT 10.0; WOW64) AppleWebKit/537.36 (KHTML, like Gecko) Chrome/46.0.2490.80 Safari/537.36 (via Wayback Save Page) | 50673.0 |\n",
       "| Mozilla/5.0+(compatible; UptimeRobot/2.0; http://www.uptimerobot.com/) (via Wayback Save Page) | 50361.0 |\n",
       "| Mozilla/5.0 (Windows NT 6.1; WOW64; Trident/7.0; rv:11.0) like Gecko (via Wayback Save Page) | 50297.0 |\n",
       "| Mozilla/5.0 (Windows NT 6.3; WOW64) AppleWebKit/537.36 (KHTML, like Gecko) Chrome/46.0.2490.80 Safari/537.36 (via Wayback Save Page) | 44944.0 |\n",
       "| Mozilla/5.0 (Windows NT 10.0; WOW64) AppleWebKit/537.36 (KHTML, like Gecko) Chrome/46.0.2490.71 Safari/537.36 (via Wayback Save Page) | 43370.0 |\n",
       "| Mozilla/5.0 (Windows NT 10.0; WOW64; rv:41.0) Gecko/20100101 Firefox/41.0 (via Wayback Save Page) | 42281.0 |"
      ],
      "text/plain": [
       "<IPython.core.display.Markdown object>"
      ]
     },
     "metadata": {},
     "output_type": "display_data"
    },
    {
     "data": {
      "text/markdown": [
       "### 2016\n",
       "| user-agent | count |\n",
       "| ---------- | ----- |\n",
       "| Mozilla/5.0 (compatible; archive.org_bot; Wayback Machine Live Record; +http://archive.org/details/archive.org_bot) | 1211109.0 |\n",
       "| Mozilla/5.0 (Windows NT 6.1; WOW64) AppleWebKit/537.36 (KHTML, like Gecko) Chrome/53.0.2785.143 Safari/537.36 | 130914.0 |\n",
       "| Mozilla/5.0 (Windows NT 10.0; WOW64) AppleWebKit/537.36 (KHTML, like Gecko) Chrome/53.0.2785.143 Safari/537.36 | 121033.0 |\n",
       "| Mozilla/5.0 (Windows NT 6.1; WOW64; rv:49.0) Gecko/20100101 Firefox/49.0 | 114269.0 |\n",
       "| Mozilla/5.0 (Windows NT 6.3; WOW64; rv:49.0) Gecko/20100101 Firefox/49.0 | 105372.0 |\n",
       "| Mozilla/5.0 (Windows NT 10.0; WOW64; rv:49.0) Gecko/20100101 Firefox/49.0 | 100382.0 |\n",
       "| Mozilla/5.0 (Windows NT 6.1; WOW64) AppleWebKit/537.36 (KHTML, like Gecko) Chrome/54.0.2840.71 Safari/537.36 | 92051.0 |\n",
       "| Mozilla/5.0 (Windows NT 10.0; Win64; x64) AppleWebKit/537.36 (KHTML, like Gecko) Chrome/53.0.2785.143 Safari/537.36 | 74867.0 |\n",
       "| Mozilla/5.0 (Windows NT 6.1; WOW64; Trident/7.0; rv:11.0) like Gecko | 71952.0 |\n",
       "| Mozilla/5.0 (Windows NT 10.0; Win64; x64) AppleWebKit/537.36 (KHTML, like Gecko) Chrome/54.0.2840.71 Safari/537.36 | 52434.0 |"
      ],
      "text/plain": [
       "<IPython.core.display.Markdown object>"
      ]
     },
     "metadata": {},
     "output_type": "display_data"
    },
    {
     "data": {
      "text/markdown": [
       "### 2017\n",
       "| user-agent | count |\n",
       "| ---------- | ----- |\n",
       "| Mozilla/5.0 (compatible; archive.org_bot; Wayback Machine Live Record; +http://archive.org/details/archive.org_bot) | 6633531.0 |\n",
       "| okhttp/3.8.1 | 4096817.0 |\n",
       "| Mozilla/5.0 (Windows NT 10.0; Win64; x64) AppleWebKit/537.36 (KHTML, like Gecko) Chrome/61.0.3163.100 Safari/537.36 | 266695.0 |\n",
       "| curl/7.52.1 | 206883.0 |\n",
       "| Mozilla/5.0 (Windows NT 6.1; Win64; x64) AppleWebKit/537.36 (KHTML, like Gecko) Chrome/61.0.3163.100 Safari/537.36 | 120292.0 |\n",
       "| Mozilla | 100322.0 |\n",
       "| Mozilla/5.0 (Windows NT 6.2; WOW64) AppleWebKit/537.36 (KHTML, like Gecko) Chrome/30.0.1599.17 Safari/537.36 | 99970.0 |\n",
       "| Mozilla/5.0 (Macintosh; Intel Mac OS X 10_12_6) AppleWebKit/537.36 (KHTML, like Gecko) Chrome/61.0.3163.100 Safari/537.36 | 77720.0 |\n",
       "| Mozilla/5.0 (Windows NT 10.0; Win64; x64; rv:56.0) Gecko/20100101 Firefox/56.0 | 70324.0 |\n",
       "| python-requests/2.13.0 | 65643.0 |"
      ],
      "text/plain": [
       "<IPython.core.display.Markdown object>"
      ]
     },
     "metadata": {},
     "output_type": "display_data"
    },
    {
     "data": {
      "text/markdown": [
       "### 2018\n",
       "| user-agent | count |\n",
       "| ---------- | ----- |\n",
       "| Mozilla/5.0 (compatible; archive.org_bot; Wayback Machine Live Record; +http://archive.org/details/archive.org_bot) | 1487305.0 |\n",
       "| Wget/1.19.5 (linux-gnu) | 719941.0 |\n",
       "| Mozilla/5.0 (Windows NT 10.0; Win64; x64) AppleWebKit/537.36 (KHTML, like Gecko) Chrome/69.0.3497.100 Safari/537.36 | 560050.0 |\n",
       "| Mozilla/5.0 (compatible; archive.org_bot; Wayback Machine Live Record; http://archive.org/details/archive.org_bot) | 506645.0 |\n",
       "| Mozilla/5.0 (Windows NT 10.0; Win64; x64; rv:62.0) Gecko/20100101 Firefox/62.0 | 243023.0 |\n",
       "| Mozilla/5.0 (Windows NT 6.1; Win64; x64) AppleWebKit/537.36 (KHTML, like Gecko) Chrome/69.0.3497.100 Safari/537.36 | 223078.0 |\n",
       "| Wget/1.19.4 (darwin17.3.0) | 154725.0 |\n",
       "| Mozilla/5.0 (Windows NT 10.0; Win64; x64) AppleWebKit/537.36 (KHTML, like Gecko) Chrome/70.0.3538.67 Safari/537.36 | 109281.0 |\n",
       "| Mozilla/5.0 (Windows NT 10.0; Win64; x64) AppleWebKit/537.36 (KHTML, like Gecko) Chrome/70.0.3538.77 Safari/537.36 | 103726.0 |\n",
       "| Mozilla/5.0 (Windows NT 6.1; WOW64) AppleWebKit/534+ (KHTML, like Gecko) BingPreview/1.0b | 75130.0 |"
      ],
      "text/plain": [
       "<IPython.core.display.Markdown object>"
      ]
     },
     "metadata": {},
     "output_type": "display_data"
    }
   ],
   "source": [
    "from IPython.display import display, Markdown\n",
    "\n",
    "# create chunks of Markdown tables to display\n",
    "\n",
    "for year in range(2013, 2019):\n",
    "    y = str(year)\n",
    "    md_lines = [\n",
    "    \"### {}\".format(y),\n",
    "    \"| user-agent | count |\",\n",
    "    \"| ---------- | ----- |\"\n",
    "]\n",
    "    dfy = df.sort_values(by=y, ascending=False)\n",
    "    for ua, count in dfy[y].head(10).items():\n",
    "        if count > 0:\n",
    "            md_lines.append(\"| {} | {} |\".format(ua, count))\n",
    "    display(Markdown(\"\\n\".join(md_lines)))"
   ]
  },
  {
   "cell_type": "markdown",
   "metadata": {},
   "source": [
    "## Shifting Infrastructure\n",
    "\n",
    "A few interesting things pop out from just looking at the top 10 User-Agents by year. The first is that SavePageNow itself as a piece of software infrastructure has changed over the years. In 2013 it archived content from the web as\n",
    "\n",
    "    Mozilla/5.0 (compatible; archive.org_bot; Wayback Machine Live Record;\n",
    "    \n",
    "So as SavePageNow received requests from users to archive web content it simply went and requested those items from the web using a fixed User-Agent string. There is only one type of User-Agent that appears in all the HTTP requests in the WARC data for 2013 (or at least the day we sampled for that year).\n",
    "\n",
    "But in 2014 the User-Agent strings are much more varied. For example the top User-Agent was:\n",
    "\n",
    "    Mozilla/5.0 (Windows NT 6.1; WOW64) AppleWebKit/537.36 (KHTML, like Gecko) Chrome/38.0.2125.104 Safari/537.36 (via Wayback Save Page)`.\n",
    "\n",
    "This User-Agent string identifies a particular vesion of Chrome running on Windows. But also notice that appended on the end of this and other User-Agents in the list is the string `(via Wayback Save Page)`. It looks like in 2014 SavePageNow started using the User-Agent of the browser that original requestor, added an identifier for SavePageNow to the end, and then used that when requesting the web resource to archive.\n",
    "\n",
    "So in theory, web servers that log User-Agents would see User-Agents of that form in their server logs when SavePageNow was archiving content on their site.\n",
    "\n",
    "But then in 2016 things shift again and the top User-Agent changes to:\n",
    "\n",
    "    Mozilla/5.0 (compatible; archive.org_bot; Wayback Machine Live Record; +http://archive.org/details/archive.org_bot)\n",
    "    \n",
    "This User-Agent uniquely identifies *Wayback Machine Live Record* as a generic web client. While this is the #1 user agent for 2016, 2017, and 2018 it is always followed by a long tail of User-Agent strings that uniquely identifies a type of web client software, but the `(via Wayback Save Page)` has been dropped from the end. For example:\n",
    "\n",
    "    Mozilla/5.0 (Windows NT 6.1; WOW64) AppleWebKit/537.36 (KHTML, like Gecko) Chrome/53.0.2785.143 Safari/537.36 \t\n",
    "\n",
    "What might be going on here? \t\n",
    "\n",
    "One explanation is that in 2016 the SavePageNow software was adjusted in two ways. The first is that when archiving web content SavePageNow no longer appended `(via Wayback Save Page)` to the original User-Agent that requested the archive. It simply passed that original User-Agent through to its final destination. However the large number of `Wayback Machine Live Record` User-Agents is a bit of a mystery. When a browser requests something be archived could it be that request is passed through with the original User-Agent, but when it receives the HTML for that web page, and buids the DOM for it, resolving URLs for images, CSS, and JavaScript those subsequent requests get the `Wayback Machine Live Record` User-Agent when passing through SavePageNow?\n",
    "\n",
    "It's difficult to say without taking a much closer look at the WARC data. Which we will be doing in another notebook.\n"
   ]
  },
  {
   "cell_type": "markdown",
   "metadata": {},
   "source": [
    "## The Long-ish Tail\n",
    "\n",
    "Looking at the top 10 User-Agent was a useful start. But it also could be obscuring some patterns. So how many distinct User-Agent strings were there?\n"
   ]
  },
  {
   "cell_type": "code",
   "execution_count": 4,
   "metadata": {},
   "outputs": [
    {
     "data": {
      "text/plain": [
       "93843"
      ]
     },
     "execution_count": 4,
     "metadata": {},
     "output_type": "execute_result"
    }
   ],
   "source": [
    "len(df.index)"
   ]
  },
  {
   "cell_type": "markdown",
   "metadata": {},
   "source": [
    "93,843 is a lot of User-Agent strings! It might be interesting to examine what proportion of all the requests for a given year were from user agents in the top 10 for that year. To do that we need to massage our dataframe into a new dataframe so that we can easily visualize it with [Altair](https://altair-viz.github.io/)."
   ]
  },
  {
   "cell_type": "code",
   "execution_count": 5,
   "metadata": {},
   "outputs": [
    {
     "data": {
      "text/html": [
       "<div>\n",
       "<style scoped>\n",
       "    .dataframe tbody tr th:only-of-type {\n",
       "        vertical-align: middle;\n",
       "    }\n",
       "\n",
       "    .dataframe tbody tr th {\n",
       "        vertical-align: top;\n",
       "    }\n",
       "\n",
       "    .dataframe thead th {\n",
       "        text-align: right;\n",
       "    }\n",
       "</style>\n",
       "<table border=\"1\" class=\"dataframe\">\n",
       "  <thead>\n",
       "    <tr style=\"text-align: right;\">\n",
       "      <th></th>\n",
       "      <th>bucket</th>\n",
       "      <th>year</th>\n",
       "      <th>requests</th>\n",
       "    </tr>\n",
       "  </thead>\n",
       "  <tbody>\n",
       "    <tr>\n",
       "      <th>0</th>\n",
       "      <td>top-10</td>\n",
       "      <td>2013</td>\n",
       "      <td>1238598.0</td>\n",
       "    </tr>\n",
       "    <tr>\n",
       "      <th>1</th>\n",
       "      <td>the-rest</td>\n",
       "      <td>2013</td>\n",
       "      <td>0.0</td>\n",
       "    </tr>\n",
       "    <tr>\n",
       "      <th>2</th>\n",
       "      <td>top-10</td>\n",
       "      <td>2014</td>\n",
       "      <td>594637.0</td>\n",
       "    </tr>\n",
       "    <tr>\n",
       "      <th>3</th>\n",
       "      <td>the-rest</td>\n",
       "      <td>2014</td>\n",
       "      <td>966720.0</td>\n",
       "    </tr>\n",
       "    <tr>\n",
       "      <th>4</th>\n",
       "      <td>top-10</td>\n",
       "      <td>2015</td>\n",
       "      <td>616311.0</td>\n",
       "    </tr>\n",
       "  </tbody>\n",
       "</table>\n",
       "</div>"
      ],
      "text/plain": [
       "     bucket  year   requests\n",
       "0    top-10  2013  1238598.0\n",
       "1  the-rest  2013        0.0\n",
       "2    top-10  2014   594637.0\n",
       "3  the-rest  2014   966720.0\n",
       "4    top-10  2015   616311.0"
      ]
     },
     "execution_count": 5,
     "metadata": {},
     "output_type": "execute_result"
    }
   ],
   "source": [
    "ratios = {'bucket': [], 'year': [], 'requests': []}\n",
    "\n",
    "for year in range(2013, 2019):\n",
    "    y = str(year)\n",
    "    dfy = df.sort_values(by=y, ascending=False)\n",
    "    \n",
    "    ratios['year'].append(y)\n",
    "    ratios['bucket'].append('top-10')\n",
    "    ratios['requests'].append(dfy[y].head(10).sum())\n",
    "    \n",
    "    ratios['year'].append(y)\n",
    "    ratios['bucket'].append('the-rest')\n",
    "    ratios['requests'].append(dfy[y][10:].sum())\n",
    "\n",
    "ratios = pandas.DataFrame(ratios)\n",
    "ratios.head()"
   ]
  },
  {
   "cell_type": "code",
   "execution_count": 6,
   "metadata": {},
   "outputs": [
    {
     "data": {
      "application/javascript": [
       "var spec = {\"config\": {\"view\": {\"width\": 400, \"height\": 300}, \"mark\": {\"tooltip\": null}}, \"data\": {\"name\": \"data-f9ec30c71ad32e62561d78088aa6a437\"}, \"mark\": {\"type\": \"bar\", \"size\": 20}, \"encoding\": {\"color\": {\"type\": \"nominal\", \"field\": \"bucket\", \"scale\": {\"scheme\": \"tableau20\"}, \"title\": \"type\"}, \"x\": {\"type\": \"quantitative\", \"aggregate\": \"sum\", \"field\": \"requests\", \"title\": \"Archive Requests\"}, \"y\": {\"type\": \"nominal\", \"field\": \"year\", \"title\": \"Year\"}}, \"height\": 175, \"selection\": {\"selector001\": {\"type\": \"interval\", \"bind\": \"scales\", \"encodings\": [\"x\", \"y\"]}}, \"title\": \"User Agents Diversity per Year\", \"width\": 600, \"$schema\": \"https://vega.github.io/schema/vega-lite/v3.2.1.json\", \"datasets\": {\"data-f9ec30c71ad32e62561d78088aa6a437\": [{\"bucket\": \"top-10\", \"year\": \"2013\", \"requests\": 1238598.0}, {\"bucket\": \"the-rest\", \"year\": \"2013\", \"requests\": 0.0}, {\"bucket\": \"top-10\", \"year\": \"2014\", \"requests\": 594637.0}, {\"bucket\": \"the-rest\", \"year\": \"2014\", \"requests\": 966720.0}, {\"bucket\": \"top-10\", \"year\": \"2015\", \"requests\": 616311.0}, {\"bucket\": \"the-rest\", \"year\": \"2015\", \"requests\": 1245278.0}, {\"bucket\": \"top-10\", \"year\": \"2016\", \"requests\": 2074383.0}, {\"bucket\": \"the-rest\", \"year\": \"2016\", \"requests\": 1846440.0}, {\"bucket\": \"top-10\", \"year\": \"2017\", \"requests\": 11738197.0}, {\"bucket\": \"the-rest\", \"year\": \"2017\", \"requests\": 1657532.0}, {\"bucket\": \"top-10\", \"year\": \"2018\", \"requests\": 4182904.0}, {\"bucket\": \"the-rest\", \"year\": \"2018\", \"requests\": 3160246.0}]}};\n",
       "var opt = {};\n",
       "var type = \"vega-lite\";\n",
       "var id = \"5d99c1f8-e773-4be2-9d29-a5f9c7767952\";\n",
       "\n",
       "var output_area = this;\n",
       "\n",
       "require([\"nbextensions/jupyter-vega/index\"], function(vega) {\n",
       "  var target = document.createElement(\"div\");\n",
       "  target.id = id;\n",
       "  target.className = \"vega-embed\";\n",
       "\n",
       "  var style = document.createElement(\"style\");\n",
       "  style.textContent = [\n",
       "    \".vega-embed .error p {\",\n",
       "    \"  color: firebrick;\",\n",
       "    \"  font-size: 14px;\",\n",
       "    \"}\",\n",
       "  ].join(\"\\\\n\");\n",
       "\n",
       "  // element is a jQuery wrapped DOM element inside the output area\n",
       "  // see http://ipython.readthedocs.io/en/stable/api/generated/\\\n",
       "  // IPython.display.html#IPython.display.Javascript.__init__\n",
       "  element[0].appendChild(target);\n",
       "  element[0].appendChild(style);\n",
       "\n",
       "  vega.render(\"#\" + id, spec, type, opt, output_area);\n",
       "}, function (err) {\n",
       "  if (err.requireType !== \"scripterror\") {\n",
       "    throw(err);\n",
       "  }\n",
       "});\n"
      ],
      "text/plain": [
       "<vega.vegalite.VegaLite at 0x1178887b8>"
      ]
     },
     "metadata": {
      "jupyter-vega": "#5d99c1f8-e773-4be2-9d29-a5f9c7767952"
     },
     "output_type": "display_data"
    },
    {
     "data": {
      "text/plain": []
     },
     "execution_count": 6,
     "metadata": {},
     "output_type": "execute_result"
    },
    {
     "data": {
      "image/png": "[encoded data removed]"
     },
     "metadata": {
      "jupyter-vega": "#5d99c1f8-e773-4be2-9d29-a5f9c7767952"
     },
     "output_type": "display_data"
    }
   ],
   "source": [
    "import altair\n",
    "altair.renderers.enable('notebook')\n",
    "\n",
    "chart1 = altair.Chart(ratios).mark_bar(size=20).encode(\n",
    "    altair.X('sum(requests)', title='Archive Requests'),\n",
    "    altair.Y('year', title='Year'),    \n",
    "    altair.Color('bucket', title='type', scale=altair.Scale(scheme='tableau20'))\n",
    ")\n",
    "chart1 = chart1.properties(\n",
    "    width=600,\n",
    "    height=175,\n",
    "    title='User Agents Diversity per Year'\n",
    ")\n",
    "chart1.interactive()"
   ]
  },
  {
   "cell_type": "markdown",
   "metadata": {},
   "source": [
    "This is a helpful visualization because it shows that most of the time (except for year 1 when there is only one type of User-Agent) the top-10 User-Agents account for about 1/2 of the total requests. So there is definitely some diversity that's worth accounting for.\n",
    "\n",
    "But 2017 is unusual in that by far the top-10 User-Agents account for the majority of the requests. Also there appears to have been almost double the amount of WARC request records that year, as compared to the year following. This is counter-intuitive because the amount of WARC data on disk does not follow that same trend. "
   ]
  },
  {
   "cell_type": "code",
   "execution_count": 9,
   "metadata": {},
   "outputs": [
    {
     "data": {
      "application/javascript": [
       "var spec = {\"config\": {\"view\": {\"width\": 400, \"height\": 300}, \"mark\": {\"tooltip\": null}}, \"data\": {\"name\": \"data-2b43ecb2529f6a24325dacb447a8aef8\"}, \"mark\": {\"type\": \"bar\", \"size\": 20}, \"encoding\": {\"x\": {\"type\": \"quantitative\", \"field\": \"gb\", \"title\": \"Gigabytes\"}, \"y\": {\"type\": \"nominal\", \"field\": \"year\", \"title\": \"Year\"}}, \"height\": 150, \"selection\": {\"selector002\": {\"type\": \"interval\", \"bind\": \"scales\", \"encodings\": [\"x\", \"y\"]}}, \"title\": \"SPN WARC Data by Year\", \"width\": 600, \"$schema\": \"https://vega.github.io/schema/vega-lite/v3.2.1.json\", \"datasets\": {\"data-2b43ecb2529f6a24325dacb447a8aef8\": [{\"year\": \"2013\", \"gb\": 20.17127323243767}, {\"year\": \"2014\", \"gb\": 0.0}, {\"year\": \"2015\", \"gb\": 0.0}, {\"year\": \"2016\", \"gb\": 0.0}, {\"year\": \"2017\", \"gb\": 0.0}, {\"year\": \"2018\", \"gb\": 0.0}]}};\n",
       "var opt = {};\n",
       "var type = \"vega-lite\";\n",
       "var id = \"adac7978-51f2-466c-af51-6e228d1abdbc\";\n",
       "\n",
       "var output_area = this;\n",
       "\n",
       "require([\"nbextensions/jupyter-vega/index\"], function(vega) {\n",
       "  var target = document.createElement(\"div\");\n",
       "  target.id = id;\n",
       "  target.className = \"vega-embed\";\n",
       "\n",
       "  var style = document.createElement(\"style\");\n",
       "  style.textContent = [\n",
       "    \".vega-embed .error p {\",\n",
       "    \"  color: firebrick;\",\n",
       "    \"  font-size: 14px;\",\n",
       "    \"}\",\n",
       "  ].join(\"\\\\n\");\n",
       "\n",
       "  // element is a jQuery wrapped DOM element inside the output area\n",
       "  // see http://ipython.readthedocs.io/en/stable/api/generated/\\\n",
       "  // IPython.display.html#IPython.display.Javascript.__init__\n",
       "  element[0].appendChild(target);\n",
       "  element[0].appendChild(style);\n",
       "\n",
       "  vega.render(\"#\" + id, spec, type, opt, output_area);\n",
       "}, function (err) {\n",
       "  if (err.requireType !== \"scripterror\") {\n",
       "    throw(err);\n",
       "  }\n",
       "});\n"
      ],
      "text/plain": [
       "<vega.vegalite.VegaLite at 0x117764fd0>"
      ]
     },
     "metadata": {
      "jupyter-vega": "#adac7978-51f2-466c-af51-6e228d1abdbc"
     },
     "output_type": "display_data"
    },
    {
     "data": {
      "text/plain": []
     },
     "execution_count": 9,
     "metadata": {},
     "output_type": "execute_result"
    },
    {
     "data": {
      "image/png": "[encoded data removed]"
     },
     "metadata": {
      "jupyter-vega": "#adac7978-51f2-466c-af51-6e228d1abdbc"
     },
     "output_type": "display_data"
    }
   ],
   "source": [
    "from os.path import getsize\n",
    "\n",
    "sizes = {'year': [], 'gb': []}\n",
    "for year in range(2013, 2019):\n",
    "    sizes['year'].append(str(year))\n",
    "    warc_files = glob('warcs/liveweb-{}*/*.warc.gz'.format(year))\n",
    "    sizes['gb'].append(sum([getsize(path) for path in warc_files]) / (1024 ** 3))\n",
    "sizes = pandas.DataFrame(sizes)\n",
    "    \n",
    "chart2 = altair.Chart(sizes).mark_bar(size=20).encode(\n",
    "    altair.X('gb', title='Gigabytes'),\n",
    "    altair.Y('year', title='Year')\n",
    ")\n",
    "chart2 = chart2.properties(title='SPN WARC Data by Year', width=600, height=150)\n",
    "chart2.interactive()"
   ]
  },
  {
   "cell_type": "markdown",
   "metadata": {},
   "source": [
    "## Lumping\n",
    "\n",
    "As mentioned above there is some method in the madness of these strings. Fortunately the [ua-parser](https://www.uaparser.org/) project has built a dataset uf UserAgents, and used it to create a parser toolkit for various languages. There is one for Python that we can use to try to lump some of this data together by type of browser.\n",
    "\n",
    "For example we can give ua_parser this string, and get back a dictionary with keys for device, os, and user_agent.\n",
    "\n",
    "    Mozilla/5.0 (Macintosh; Intel Mac OS X 10_13_6) AppleWebKit/605.1.15 (KHTML, like Gecko) Version/12.0 Safari/605.1.15\n"
   ]
  },
  {
   "cell_type": "code",
   "execution_count": 10,
   "metadata": {
    "scrolled": true
   },
   "outputs": [
    {
     "name": "stdout",
     "output_type": "stream",
     "text": [
      "{\n",
      "  \"user_agent\": {\n",
      "    \"family\": \"Safari\",\n",
      "    \"major\": \"12\",\n",
      "    \"minor\": \"0\",\n",
      "    \"patch\": null\n",
      "  },\n",
      "  \"os\": {\n",
      "    \"family\": \"Mac OS X\",\n",
      "    \"major\": \"10\",\n",
      "    \"minor\": \"13\",\n",
      "    \"patch\": \"6\",\n",
      "    \"patch_minor\": null\n",
      "  },\n",
      "  \"device\": {\n",
      "    \"family\": \"Other\",\n",
      "    \"brand\": null,\n",
      "    \"model\": null\n",
      "  },\n",
      "  \"string\": \"Mozilla/5.0 (Macintosh; Intel Mac OS X 10_13_6) AppleWebKit/605.1.15 (KHTML, like Gecko) Version/12.0 Safari/605.1.15\"\n",
      "}\n"
     ]
    }
   ],
   "source": [
    "import json\n",
    "from ua_parser.user_agent_parser import Parse as parse_ua\n",
    "\n",
    "ua = 'Mozilla/5.0 (Macintosh; Intel Mac OS X 10_13_6) AppleWebKit/605.1.15 (KHTML, like Gecko) Version/12.0 Safari/605.1.15'\n",
    "print(json.dumps(parse_ua(ua), indent=2))"
   ]
  },
  {
   "cell_type": "markdown",
   "metadata": {},
   "source": [
    "Even if the UserAgent is a string from a client like curl or wget ua-parser still does something useful:"
   ]
  },
  {
   "cell_type": "code",
   "execution_count": 11,
   "metadata": {},
   "outputs": [
    {
     "name": "stdout",
     "output_type": "stream",
     "text": [
      "{\n",
      "  \"user_agent\": {\n",
      "    \"family\": \"curl\",\n",
      "    \"major\": \"7\",\n",
      "    \"minor\": \"55\",\n",
      "    \"patch\": \"1\"\n",
      "  },\n",
      "  \"os\": {\n",
      "    \"family\": \"Other\",\n",
      "    \"major\": null,\n",
      "    \"minor\": null,\n",
      "    \"patch\": null,\n",
      "    \"patch_minor\": null\n",
      "  },\n",
      "  \"device\": {\n",
      "    \"family\": \"Other\",\n",
      "    \"brand\": null,\n",
      "    \"model\": null\n",
      "  },\n",
      "  \"string\": \"curl/7.55.1\"\n",
      "}\n"
     ]
    }
   ],
   "source": [
    "ua = 'curl/7.55.1'\n",
    "print(json.dumps(parse_ua(ua), indent=2))"
   ]
  },
  {
   "cell_type": "markdown",
   "metadata": {},
   "source": [
    "So it looks like we can use the *user_agent.family* to group the User-Agent strings into a single value that identifies the piece of software (e.g. Safari, Firefox, curl, etc). Let's use our existing data to create a new DataFrame where the index is the *family_name* and the columns are the request counts by year.\n",
    "\n",
    "*Note: if ua-parser is unable to assign a family we will keep the original user-agent string (lines 9-10).*"
   ]
  },
  {
   "cell_type": "code",
   "execution_count": 12,
   "metadata": {},
   "outputs": [],
   "source": [
    "from collections import defaultdict\n",
    "\n",
    "ua_fams = defaultdict(defaultdict)\n",
    "for ua in df.index:\n",
    "    \n",
    "    if type(ua) != str:\n",
    "        continue\n",
    "        \n",
    "    parsed_ua = parse_ua(ua)\n",
    "    ua_fam = parsed_ua['user_agent']['family']\n",
    "    if ua_fam == 'Other':\n",
    "        ua_fam = ua\n",
    "        \n",
    "    for year in range(2013, 2019):\n",
    "        y = str(year)\n",
    "        if df.loc[ua][y] > 0:\n",
    "            if y in ua_fams[ua_fam]:\n",
    "                ua_fams[ua_fam][y] += df.loc[ua][y]\n",
    "            else:\n",
    "                ua_fams[ua_fam][y] = df.loc[ua][y]\n",
    "\n",
    "ua_fams = pandas.DataFrame.from_dict(ua_fams, orient='index')"
   ]
  },
  {
   "cell_type": "markdown",
   "metadata": {},
   "source": [
    "What do the top-10 User-Agent families look like?"
   ]
  },
  {
   "cell_type": "code",
   "execution_count": 13,
   "metadata": {},
   "outputs": [
    {
     "name": "stdout",
     "output_type": "stream",
     "text": [
      "                            2013      2014      2015       2016       2017  \\\n",
      "archive.org_bot        1238598.0   56592.0   21919.0  1211109.0  6633606.0   \n",
      "Chrome                       NaN  528107.0  733229.0  1148250.0   974904.0   \n",
      "Wget                         NaN     412.0   41166.0    21169.0   112692.0   \n",
      "Firefox                      NaN  477219.0  446959.0   663526.0   450984.0   \n",
      "Chrome Mobile                NaN   23113.0   37569.0    46737.0    55821.0   \n",
      "Mobile Safari                NaN   51708.0   61445.0    62882.0    54805.0   \n",
      "Safari                       NaN   61123.0   77051.0    98126.0    59622.0   \n",
      "IE                           NaN  223003.0  173350.0   223213.0   115447.0   \n",
      "BingPreview                  NaN      41.0      28.0      125.0     2595.0   \n",
      "Chrome Mobile WebView        NaN       NaN    5290.0     3807.0     6865.0   \n",
      "\n",
      "                            2018  \n",
      "archive.org_bot        1993950.0  \n",
      "Chrome                 1847441.0  \n",
      "Wget                    884542.0  \n",
      "Firefox                 815868.0  \n",
      "Chrome Mobile           378808.0  \n",
      "Mobile Safari           242143.0  \n",
      "Safari                  141215.0  \n",
      "IE                      113192.0  \n",
      "BingPreview             103098.0  \n",
      "Chrome Mobile WebView    99748.0  \n"
     ]
    }
   ],
   "source": [
    "ua_fams = ua_fams.sort_values(by='2018', ascending=False)\n",
    "print(ua_fams.head(10))"
   ]
  },
  {
   "cell_type": "markdown",
   "metadata": {},
   "source": [
    "How many User-Agent families are there?\n"
   ]
  },
  {
   "cell_type": "code",
   "execution_count": 14,
   "metadata": {},
   "outputs": [
    {
     "name": "stdout",
     "output_type": "stream",
     "text": [
      "919\n"
     ]
    }
   ],
   "source": [
    "print(len(ua_fams.index))"
   ]
  },
  {
   "cell_type": "markdown",
   "metadata": {},
   "source": [
    "So there are several orders of magnitude less User-Agents (remember the full list was 93,843. Let's run our top-10 stats again and see how it looks:"
   ]
  },
  {
   "cell_type": "code",
   "execution_count": 15,
   "metadata": {},
   "outputs": [
    {
     "data": {
      "application/javascript": [
       "var spec = {\"config\": {\"view\": {\"width\": 400, \"height\": 300}, \"mark\": {\"tooltip\": null}}, \"data\": {\"name\": \"data-0174b9e5fd69fddf76a26b8d40b4c897\"}, \"mark\": {\"type\": \"bar\", \"size\": 20}, \"encoding\": {\"color\": {\"type\": \"nominal\", \"field\": \"bucket\", \"scale\": {\"scheme\": \"tableau20\"}, \"title\": \"type\"}, \"x\": {\"type\": \"quantitative\", \"aggregate\": \"sum\", \"field\": \"requests\", \"title\": \"Archive Requests\"}, \"y\": {\"type\": \"nominal\", \"field\": \"year\", \"title\": \"Year\"}}, \"height\": 175, \"title\": \"User Agent Families Diversity per Year\", \"width\": 600, \"$schema\": \"https://vega.github.io/schema/vega-lite/v3.2.1.json\", \"datasets\": {\"data-0174b9e5fd69fddf76a26b8d40b4c897\": [{\"bucket\": \"top-10\", \"year\": \"2013\", \"requests\": 1238598.0}, {\"bucket\": \"the-rest\", \"year\": \"2013\", \"requests\": 0.0}, {\"bucket\": \"top-10\", \"year\": \"2014\", \"requests\": 1488395.0}, {\"bucket\": \"the-rest\", \"year\": \"2014\", \"requests\": 72962.0}, {\"bucket\": \"top-10\", \"year\": \"2015\", \"requests\": 1684446.0}, {\"bucket\": \"the-rest\", \"year\": \"2015\", \"requests\": 177143.0}, {\"bucket\": \"top-10\", \"year\": \"2016\", \"requests\": 3580190.0}, {\"bucket\": \"the-rest\", \"year\": \"2016\", \"requests\": 340633.0}, {\"bucket\": \"top-10\", \"year\": \"2017\", \"requests\": 12872644.0}, {\"bucket\": \"the-rest\", \"year\": \"2017\", \"requests\": 523085.0}, {\"bucket\": \"top-10\", \"year\": \"2018\", \"requests\": 6620005.0}, {\"bucket\": \"the-rest\", \"year\": \"2018\", \"requests\": 723142.0}]}};\n",
       "var opt = {};\n",
       "var type = \"vega-lite\";\n",
       "var id = \"6fd3015f-3e9d-42c7-b2aa-5334df7e3cf0\";\n",
       "\n",
       "var output_area = this;\n",
       "\n",
       "require([\"nbextensions/jupyter-vega/index\"], function(vega) {\n",
       "  var target = document.createElement(\"div\");\n",
       "  target.id = id;\n",
       "  target.className = \"vega-embed\";\n",
       "\n",
       "  var style = document.createElement(\"style\");\n",
       "  style.textContent = [\n",
       "    \".vega-embed .error p {\",\n",
       "    \"  color: firebrick;\",\n",
       "    \"  font-size: 14px;\",\n",
       "    \"}\",\n",
       "  ].join(\"\\\\n\");\n",
       "\n",
       "  // element is a jQuery wrapped DOM element inside the output area\n",
       "  // see http://ipython.readthedocs.io/en/stable/api/generated/\\\n",
       "  // IPython.display.html#IPython.display.Javascript.__init__\n",
       "  element[0].appendChild(target);\n",
       "  element[0].appendChild(style);\n",
       "\n",
       "  vega.render(\"#\" + id, spec, type, opt, output_area);\n",
       "}, function (err) {\n",
       "  if (err.requireType !== \"scripterror\") {\n",
       "    throw(err);\n",
       "  }\n",
       "});\n"
      ],
      "text/plain": [
       "<vega.vegalite.VegaLite at 0x11773db38>"
      ]
     },
     "metadata": {
      "jupyter-vega": "#6fd3015f-3e9d-42c7-b2aa-5334df7e3cf0"
     },
     "output_type": "display_data"
    },
    {
     "data": {
      "text/plain": []
     },
     "execution_count": 15,
     "metadata": {},
     "output_type": "execute_result"
    },
    {
     "data": {
      "image/png": "[encoded data removed]"
     },
     "metadata": {
      "jupyter-vega": "#6fd3015f-3e9d-42c7-b2aa-5334df7e3cf0"
     },
     "output_type": "display_data"
    }
   ],
   "source": [
    "ratios = {'bucket': [], 'year': [], 'requests': []}\n",
    "\n",
    "for year in range(2013, 2019):\n",
    "    y = str(year)\n",
    "    dfy = ua_fams.sort_values(by=y, ascending=False)\n",
    "    \n",
    "    ratios['year'].append(y)\n",
    "    ratios['bucket'].append('top-10')\n",
    "    ratios['requests'].append(dfy[y].head(10).sum())\n",
    "    \n",
    "    ratios['year'].append(y)\n",
    "    ratios['bucket'].append('the-rest')\n",
    "    ratios['requests'].append(dfy[y][10:].sum())\n",
    "\n",
    "ratios = pandas.DataFrame(ratios)\n",
    "\n",
    "chart3 = altair.Chart(ratios).mark_bar(size=20).encode(\n",
    "    altair.X('sum(requests)', title='Archive Requests'),\n",
    "    altair.Y('year', title='Year'),    \n",
    "    altair.Color('bucket', title='type', scale=altair.Scale(scheme='tableau20'))\n",
    ")\n",
    "chart3 = chart3.properties(\n",
    "    width=600,\n",
    "    height=175,\n",
    "    title='User Agent Families Diversity per Year'\n",
    ")\n",
    "chart3"
   ]
  },
  {
   "cell_type": "markdown",
   "metadata": {},
   "source": [
    "Nice, so our long tail of User-Agents may be long, but it doesn't account for many requests relative to the total volume. So what is the full set of top-10 User-Agents?"
   ]
  },
  {
   "cell_type": "code",
   "execution_count": 16,
   "metadata": {},
   "outputs": [
    {
     "data": {
      "text/plain": [
       "{'Android',\n",
       " 'BingPreview',\n",
       " 'Chrome',\n",
       " 'Chrome Mobile',\n",
       " 'Chrome Mobile WebView',\n",
       " 'Firefox',\n",
       " 'Firefox Mobile',\n",
       " 'IE',\n",
       " 'Mobile Safari',\n",
       " 'Mozilla',\n",
       " 'OpenBSD ftp',\n",
       " 'Opera',\n",
       " 'Python Requests',\n",
       " 'Safari',\n",
       " 'UptimeRobot',\n",
       " 'Wget',\n",
       " 'archive.org_bot',\n",
       " 'curl',\n",
       " 'okhttp'}"
      ]
     },
     "execution_count": 16,
     "metadata": {},
     "output_type": "execute_result"
    }
   ],
   "source": [
    "top_10_uas = set()\n",
    "for year in range(2013, 2019):\n",
    "    y = str(year)\n",
    "    for ua in ua_fams.sort_values(by=y, ascending=False).head(10).index:\n",
    "        top_10_uas.add(ua)\n",
    "\n",
    "top_10_uas"
   ]
  },
  {
   "cell_type": "markdown",
   "metadata": {},
   "source": [
    "One thing we can do to simplify even more is group the User-Agent families at face value based on whether they appear to be a browser or they appear to be a bot:"
   ]
  },
  {
   "cell_type": "code",
   "execution_count": 17,
   "metadata": {
    "scrolled": true
   },
   "outputs": [
    {
     "data": {
      "text/html": [
       "<div>\n",
       "<style scoped>\n",
       "    .dataframe tbody tr th:only-of-type {\n",
       "        vertical-align: middle;\n",
       "    }\n",
       "\n",
       "    .dataframe tbody tr th {\n",
       "        vertical-align: top;\n",
       "    }\n",
       "\n",
       "    .dataframe thead th {\n",
       "        text-align: right;\n",
       "    }\n",
       "</style>\n",
       "<table border=\"1\" class=\"dataframe\">\n",
       "  <thead>\n",
       "    <tr style=\"text-align: right;\">\n",
       "      <th></th>\n",
       "      <th>bucket</th>\n",
       "      <th>year</th>\n",
       "      <th>requests</th>\n",
       "    </tr>\n",
       "  </thead>\n",
       "  <tbody>\n",
       "    <tr>\n",
       "      <th>0</th>\n",
       "      <td>bot</td>\n",
       "      <td>2013</td>\n",
       "      <td>1238598.0</td>\n",
       "    </tr>\n",
       "    <tr>\n",
       "      <th>1</th>\n",
       "      <td>bot</td>\n",
       "      <td>2014</td>\n",
       "      <td>56592.0</td>\n",
       "    </tr>\n",
       "    <tr>\n",
       "      <th>2</th>\n",
       "      <td>bot</td>\n",
       "      <td>2015</td>\n",
       "      <td>21919.0</td>\n",
       "    </tr>\n",
       "    <tr>\n",
       "      <th>3</th>\n",
       "      <td>bot</td>\n",
       "      <td>2016</td>\n",
       "      <td>1211109.0</td>\n",
       "    </tr>\n",
       "    <tr>\n",
       "      <th>4</th>\n",
       "      <td>bot</td>\n",
       "      <td>2017</td>\n",
       "      <td>6633606.0</td>\n",
       "    </tr>\n",
       "    <tr>\n",
       "      <th>5</th>\n",
       "      <td>bot</td>\n",
       "      <td>2018</td>\n",
       "      <td>1993950.0</td>\n",
       "    </tr>\n",
       "    <tr>\n",
       "      <th>6</th>\n",
       "      <td>not</td>\n",
       "      <td>2013</td>\n",
       "      <td>NaN</td>\n",
       "    </tr>\n",
       "    <tr>\n",
       "      <th>7</th>\n",
       "      <td>not</td>\n",
       "      <td>2014</td>\n",
       "      <td>12918.0</td>\n",
       "    </tr>\n",
       "    <tr>\n",
       "      <th>8</th>\n",
       "      <td>not</td>\n",
       "      <td>2015</td>\n",
       "      <td>4261.0</td>\n",
       "    </tr>\n",
       "    <tr>\n",
       "      <th>9</th>\n",
       "      <td>not</td>\n",
       "      <td>2016</td>\n",
       "      <td>5472.0</td>\n",
       "    </tr>\n",
       "    <tr>\n",
       "      <th>10</th>\n",
       "      <td>not</td>\n",
       "      <td>2017</td>\n",
       "      <td>4871.0</td>\n",
       "    </tr>\n",
       "    <tr>\n",
       "      <th>11</th>\n",
       "      <td>not</td>\n",
       "      <td>2018</td>\n",
       "      <td>21421.0</td>\n",
       "    </tr>\n",
       "    <tr>\n",
       "      <th>12</th>\n",
       "      <td>not</td>\n",
       "      <td>2013</td>\n",
       "      <td>NaN</td>\n",
       "    </tr>\n",
       "    <tr>\n",
       "      <th>13</th>\n",
       "      <td>not</td>\n",
       "      <td>2014</td>\n",
       "      <td>37127.0</td>\n",
       "    </tr>\n",
       "    <tr>\n",
       "      <th>14</th>\n",
       "      <td>not</td>\n",
       "      <td>2015</td>\n",
       "      <td>41397.0</td>\n",
       "    </tr>\n",
       "    <tr>\n",
       "      <th>15</th>\n",
       "      <td>not</td>\n",
       "      <td>2016</td>\n",
       "      <td>52143.0</td>\n",
       "    </tr>\n",
       "    <tr>\n",
       "      <th>16</th>\n",
       "      <td>not</td>\n",
       "      <td>2017</td>\n",
       "      <td>40192.0</td>\n",
       "    </tr>\n",
       "    <tr>\n",
       "      <th>17</th>\n",
       "      <td>not</td>\n",
       "      <td>2018</td>\n",
       "      <td>79117.0</td>\n",
       "    </tr>\n",
       "    <tr>\n",
       "      <th>18</th>\n",
       "      <td>not</td>\n",
       "      <td>2013</td>\n",
       "      <td>NaN</td>\n",
       "    </tr>\n",
       "    <tr>\n",
       "      <th>19</th>\n",
       "      <td>not</td>\n",
       "      <td>2014</td>\n",
       "      <td>61123.0</td>\n",
       "    </tr>\n",
       "    <tr>\n",
       "      <th>20</th>\n",
       "      <td>not</td>\n",
       "      <td>2015</td>\n",
       "      <td>77051.0</td>\n",
       "    </tr>\n",
       "    <tr>\n",
       "      <th>21</th>\n",
       "      <td>not</td>\n",
       "      <td>2016</td>\n",
       "      <td>98126.0</td>\n",
       "    </tr>\n",
       "    <tr>\n",
       "      <th>22</th>\n",
       "      <td>not</td>\n",
       "      <td>2017</td>\n",
       "      <td>59622.0</td>\n",
       "    </tr>\n",
       "    <tr>\n",
       "      <th>23</th>\n",
       "      <td>not</td>\n",
       "      <td>2018</td>\n",
       "      <td>141215.0</td>\n",
       "    </tr>\n",
       "    <tr>\n",
       "      <th>24</th>\n",
       "      <td>not</td>\n",
       "      <td>2013</td>\n",
       "      <td>NaN</td>\n",
       "    </tr>\n",
       "    <tr>\n",
       "      <th>25</th>\n",
       "      <td>not</td>\n",
       "      <td>2014</td>\n",
       "      <td>17485.0</td>\n",
       "    </tr>\n",
       "    <tr>\n",
       "      <th>26</th>\n",
       "      <td>not</td>\n",
       "      <td>2015</td>\n",
       "      <td>10108.0</td>\n",
       "    </tr>\n",
       "    <tr>\n",
       "      <th>27</th>\n",
       "      <td>not</td>\n",
       "      <td>2016</td>\n",
       "      <td>4771.0</td>\n",
       "    </tr>\n",
       "    <tr>\n",
       "      <th>28</th>\n",
       "      <td>not</td>\n",
       "      <td>2017</td>\n",
       "      <td>1354.0</td>\n",
       "    </tr>\n",
       "    <tr>\n",
       "      <th>29</th>\n",
       "      <td>not</td>\n",
       "      <td>2018</td>\n",
       "      <td>9106.0</td>\n",
       "    </tr>\n",
       "    <tr>\n",
       "      <th>...</th>\n",
       "      <td>...</td>\n",
       "      <td>...</td>\n",
       "      <td>...</td>\n",
       "    </tr>\n",
       "    <tr>\n",
       "      <th>84</th>\n",
       "      <td>not</td>\n",
       "      <td>2013</td>\n",
       "      <td>NaN</td>\n",
       "    </tr>\n",
       "    <tr>\n",
       "      <th>85</th>\n",
       "      <td>not</td>\n",
       "      <td>2014</td>\n",
       "      <td>NaN</td>\n",
       "    </tr>\n",
       "    <tr>\n",
       "      <th>86</th>\n",
       "      <td>not</td>\n",
       "      <td>2015</td>\n",
       "      <td>NaN</td>\n",
       "    </tr>\n",
       "    <tr>\n",
       "      <th>87</th>\n",
       "      <td>not</td>\n",
       "      <td>2016</td>\n",
       "      <td>30391.0</td>\n",
       "    </tr>\n",
       "    <tr>\n",
       "      <th>88</th>\n",
       "      <td>not</td>\n",
       "      <td>2017</td>\n",
       "      <td>NaN</td>\n",
       "    </tr>\n",
       "    <tr>\n",
       "      <th>89</th>\n",
       "      <td>not</td>\n",
       "      <td>2018</td>\n",
       "      <td>NaN</td>\n",
       "    </tr>\n",
       "    <tr>\n",
       "      <th>90</th>\n",
       "      <td>bot</td>\n",
       "      <td>2013</td>\n",
       "      <td>NaN</td>\n",
       "    </tr>\n",
       "    <tr>\n",
       "      <th>91</th>\n",
       "      <td>bot</td>\n",
       "      <td>2014</td>\n",
       "      <td>NaN</td>\n",
       "    </tr>\n",
       "    <tr>\n",
       "      <th>92</th>\n",
       "      <td>bot</td>\n",
       "      <td>2015</td>\n",
       "      <td>50361.0</td>\n",
       "    </tr>\n",
       "    <tr>\n",
       "      <th>93</th>\n",
       "      <td>bot</td>\n",
       "      <td>2016</td>\n",
       "      <td>43813.0</td>\n",
       "    </tr>\n",
       "    <tr>\n",
       "      <th>94</th>\n",
       "      <td>bot</td>\n",
       "      <td>2017</td>\n",
       "      <td>405.0</td>\n",
       "    </tr>\n",
       "    <tr>\n",
       "      <th>95</th>\n",
       "      <td>bot</td>\n",
       "      <td>2018</td>\n",
       "      <td>484.0</td>\n",
       "    </tr>\n",
       "    <tr>\n",
       "      <th>96</th>\n",
       "      <td>not</td>\n",
       "      <td>2013</td>\n",
       "      <td>NaN</td>\n",
       "    </tr>\n",
       "    <tr>\n",
       "      <th>97</th>\n",
       "      <td>not</td>\n",
       "      <td>2014</td>\n",
       "      <td>41.0</td>\n",
       "    </tr>\n",
       "    <tr>\n",
       "      <th>98</th>\n",
       "      <td>not</td>\n",
       "      <td>2015</td>\n",
       "      <td>28.0</td>\n",
       "    </tr>\n",
       "    <tr>\n",
       "      <th>99</th>\n",
       "      <td>not</td>\n",
       "      <td>2016</td>\n",
       "      <td>125.0</td>\n",
       "    </tr>\n",
       "    <tr>\n",
       "      <th>100</th>\n",
       "      <td>not</td>\n",
       "      <td>2017</td>\n",
       "      <td>2595.0</td>\n",
       "    </tr>\n",
       "    <tr>\n",
       "      <th>101</th>\n",
       "      <td>not</td>\n",
       "      <td>2018</td>\n",
       "      <td>103098.0</td>\n",
       "    </tr>\n",
       "    <tr>\n",
       "      <th>102</th>\n",
       "      <td>not</td>\n",
       "      <td>2013</td>\n",
       "      <td>NaN</td>\n",
       "    </tr>\n",
       "    <tr>\n",
       "      <th>103</th>\n",
       "      <td>not</td>\n",
       "      <td>2014</td>\n",
       "      <td>23113.0</td>\n",
       "    </tr>\n",
       "    <tr>\n",
       "      <th>104</th>\n",
       "      <td>not</td>\n",
       "      <td>2015</td>\n",
       "      <td>37569.0</td>\n",
       "    </tr>\n",
       "    <tr>\n",
       "      <th>105</th>\n",
       "      <td>not</td>\n",
       "      <td>2016</td>\n",
       "      <td>46737.0</td>\n",
       "    </tr>\n",
       "    <tr>\n",
       "      <th>106</th>\n",
       "      <td>not</td>\n",
       "      <td>2017</td>\n",
       "      <td>55821.0</td>\n",
       "    </tr>\n",
       "    <tr>\n",
       "      <th>107</th>\n",
       "      <td>not</td>\n",
       "      <td>2018</td>\n",
       "      <td>378808.0</td>\n",
       "    </tr>\n",
       "    <tr>\n",
       "      <th>108</th>\n",
       "      <td>not</td>\n",
       "      <td>2013</td>\n",
       "      <td>NaN</td>\n",
       "    </tr>\n",
       "    <tr>\n",
       "      <th>109</th>\n",
       "      <td>not</td>\n",
       "      <td>2014</td>\n",
       "      <td>528107.0</td>\n",
       "    </tr>\n",
       "    <tr>\n",
       "      <th>110</th>\n",
       "      <td>not</td>\n",
       "      <td>2015</td>\n",
       "      <td>733229.0</td>\n",
       "    </tr>\n",
       "    <tr>\n",
       "      <th>111</th>\n",
       "      <td>not</td>\n",
       "      <td>2016</td>\n",
       "      <td>1148250.0</td>\n",
       "    </tr>\n",
       "    <tr>\n",
       "      <th>112</th>\n",
       "      <td>not</td>\n",
       "      <td>2017</td>\n",
       "      <td>974904.0</td>\n",
       "    </tr>\n",
       "    <tr>\n",
       "      <th>113</th>\n",
       "      <td>not</td>\n",
       "      <td>2018</td>\n",
       "      <td>1847441.0</td>\n",
       "    </tr>\n",
       "  </tbody>\n",
       "</table>\n",
       "<p>114 rows × 3 columns</p>\n",
       "</div>"
      ],
      "text/plain": [
       "    bucket  year   requests\n",
       "0      bot  2013  1238598.0\n",
       "1      bot  2014    56592.0\n",
       "2      bot  2015    21919.0\n",
       "3      bot  2016  1211109.0\n",
       "4      bot  2017  6633606.0\n",
       "5      bot  2018  1993950.0\n",
       "6      not  2013        NaN\n",
       "7      not  2014    12918.0\n",
       "8      not  2015     4261.0\n",
       "9      not  2016     5472.0\n",
       "10     not  2017     4871.0\n",
       "11     not  2018    21421.0\n",
       "12     not  2013        NaN\n",
       "13     not  2014    37127.0\n",
       "14     not  2015    41397.0\n",
       "15     not  2016    52143.0\n",
       "16     not  2017    40192.0\n",
       "17     not  2018    79117.0\n",
       "18     not  2013        NaN\n",
       "19     not  2014    61123.0\n",
       "20     not  2015    77051.0\n",
       "21     not  2016    98126.0\n",
       "22     not  2017    59622.0\n",
       "23     not  2018   141215.0\n",
       "24     not  2013        NaN\n",
       "25     not  2014    17485.0\n",
       "26     not  2015    10108.0\n",
       "27     not  2016     4771.0\n",
       "28     not  2017     1354.0\n",
       "29     not  2018     9106.0\n",
       "..     ...   ...        ...\n",
       "84     not  2013        NaN\n",
       "85     not  2014        NaN\n",
       "86     not  2015        NaN\n",
       "87     not  2016    30391.0\n",
       "88     not  2017        NaN\n",
       "89     not  2018        NaN\n",
       "90     bot  2013        NaN\n",
       "91     bot  2014        NaN\n",
       "92     bot  2015    50361.0\n",
       "93     bot  2016    43813.0\n",
       "94     bot  2017      405.0\n",
       "95     bot  2018      484.0\n",
       "96     not  2013        NaN\n",
       "97     not  2014       41.0\n",
       "98     not  2015       28.0\n",
       "99     not  2016      125.0\n",
       "100    not  2017     2595.0\n",
       "101    not  2018   103098.0\n",
       "102    not  2013        NaN\n",
       "103    not  2014    23113.0\n",
       "104    not  2015    37569.0\n",
       "105    not  2016    46737.0\n",
       "106    not  2017    55821.0\n",
       "107    not  2018   378808.0\n",
       "108    not  2013        NaN\n",
       "109    not  2014   528107.0\n",
       "110    not  2015   733229.0\n",
       "111    not  2016  1148250.0\n",
       "112    not  2017   974904.0\n",
       "113    not  2018  1847441.0\n",
       "\n",
       "[114 rows x 3 columns]"
      ]
     },
     "execution_count": 17,
     "metadata": {},
     "output_type": "execute_result"
    }
   ],
   "source": [
    "bots = [\n",
    "    \"OpenBSD ftp\"\n",
    "    \"Python Requests\",\n",
    "    \"UptimeRobot\",\n",
    "    \"Wget\",\n",
    "    \"archive.org_bot\",\n",
    "    \"curl\",\n",
    "    \"okhttp\"\n",
    "]\n",
    "\n",
    "bot_ratios = {\"bucket\": [], \"year\": [], \"requests\": []}\n",
    "\n",
    "for ua in top_10_uas:\n",
    "    if ua in bots:\n",
    "        bucket = \"bot\"\n",
    "    else:\n",
    "        bucket = \"not\"\n",
    "    for year in range(2013, 2019):\n",
    "        y = str(year)\n",
    "        bot_ratios['bucket'].append(bucket)\n",
    "        bot_ratios['year'].append(y)\n",
    "        bot_ratios['requests'].append(ua_fams.loc[ua][y])\n",
    "\n",
    "bot_ratios = pandas.DataFrame(bot_ratios)\n",
    "bot_ratios"
   ]
  },
  {
   "cell_type": "code",
   "execution_count": 19,
   "metadata": {},
   "outputs": [
    {
     "data": {
      "application/javascript": [
       "var spec = {\"config\": {\"view\": {\"width\": 400, \"height\": 300}, \"mark\": {\"tooltip\": null}}, \"data\": {\"name\": \"data-81576e8666385d68e41b812dcded5527\"}, \"mark\": {\"type\": \"bar\", \"size\": 20}, \"encoding\": {\"color\": {\"type\": \"nominal\", \"field\": \"bucket\", \"scale\": {\"scheme\": \"tableau20\"}, \"title\": \"type\"}, \"x\": {\"type\": \"quantitative\", \"aggregate\": \"sum\", \"field\": \"requests\", \"title\": \"Archive Requests\"}, \"y\": {\"type\": \"nominal\", \"field\": \"year\", \"title\": \"Year\"}}, \"height\": 175, \"title\": \"Bot vs Human SPN Requests\", \"width\": 600, \"$schema\": \"https://vega.github.io/schema/vega-lite/v3.2.1.json\", \"datasets\": {\"data-81576e8666385d68e41b812dcded5527\": [{\"bucket\": \"bot\", \"year\": \"2013\", \"requests\": 1238598.0}, {\"bucket\": \"bot\", \"year\": \"2014\", \"requests\": 56592.0}, {\"bucket\": \"bot\", \"year\": \"2015\", \"requests\": 21919.0}, {\"bucket\": \"bot\", \"year\": \"2016\", \"requests\": 1211109.0}, {\"bucket\": \"bot\", \"year\": \"2017\", \"requests\": 6633606.0}, {\"bucket\": \"bot\", \"year\": \"2018\", \"requests\": 1993950.0}, {\"bucket\": \"not\", \"year\": \"2013\", \"requests\": null}, {\"bucket\": \"not\", \"year\": \"2014\", \"requests\": 12918.0}, {\"bucket\": \"not\", \"year\": \"2015\", \"requests\": 4261.0}, {\"bucket\": \"not\", \"year\": \"2016\", \"requests\": 5472.0}, {\"bucket\": \"not\", \"year\": \"2017\", \"requests\": 4871.0}, {\"bucket\": \"not\", \"year\": \"2018\", \"requests\": 21421.0}, {\"bucket\": \"not\", \"year\": \"2013\", \"requests\": null}, {\"bucket\": \"not\", \"year\": \"2014\", \"requests\": 37127.0}, {\"bucket\": \"not\", \"year\": \"2015\", \"requests\": 41397.0}, {\"bucket\": \"not\", \"year\": \"2016\", \"requests\": 52143.0}, {\"bucket\": \"not\", \"year\": \"2017\", \"requests\": 40192.0}, {\"bucket\": \"not\", \"year\": \"2018\", \"requests\": 79117.0}, {\"bucket\": \"not\", \"year\": \"2013\", \"requests\": null}, {\"bucket\": \"not\", \"year\": \"2014\", \"requests\": 61123.0}, {\"bucket\": \"not\", \"year\": \"2015\", \"requests\": 77051.0}, {\"bucket\": \"not\", \"year\": \"2016\", \"requests\": 98126.0}, {\"bucket\": \"not\", \"year\": \"2017\", \"requests\": 59622.0}, {\"bucket\": \"not\", \"year\": \"2018\", \"requests\": 141215.0}, {\"bucket\": \"not\", \"year\": \"2013\", \"requests\": null}, {\"bucket\": \"not\", \"year\": \"2014\", \"requests\": 17485.0}, {\"bucket\": \"not\", \"year\": \"2015\", \"requests\": 10108.0}, {\"bucket\": \"not\", \"year\": \"2016\", \"requests\": 4771.0}, {\"bucket\": \"not\", \"year\": \"2017\", \"requests\": 1354.0}, {\"bucket\": \"not\", \"year\": \"2018\", \"requests\": 9106.0}, {\"bucket\": \"not\", \"year\": \"2013\", \"requests\": null}, {\"bucket\": \"not\", \"year\": \"2014\", \"requests\": null}, {\"bucket\": \"not\", \"year\": \"2015\", \"requests\": null}, {\"bucket\": \"not\", \"year\": \"2016\", \"requests\": 331.0}, {\"bucket\": \"not\", \"year\": \"2017\", \"requests\": 100322.0}, {\"bucket\": \"not\", \"year\": \"2018\", \"requests\": 648.0}, {\"bucket\": \"not\", \"year\": \"2013\", \"requests\": null}, {\"bucket\": \"not\", \"year\": \"2014\", \"requests\": 51708.0}, {\"bucket\": \"not\", \"year\": \"2015\", \"requests\": 61445.0}, {\"bucket\": \"not\", \"year\": \"2016\", \"requests\": 62882.0}, {\"bucket\": \"not\", \"year\": \"2017\", \"requests\": 54805.0}, {\"bucket\": \"not\", \"year\": \"2018\", \"requests\": 242143.0}, {\"bucket\": \"bot\", \"year\": \"2013\", \"requests\": null}, {\"bucket\": \"bot\", \"year\": \"2014\", \"requests\": 1904.0}, {\"bucket\": \"bot\", \"year\": \"2015\", \"requests\": 10927.0}, {\"bucket\": \"bot\", \"year\": \"2016\", \"requests\": 21283.0}, {\"bucket\": \"bot\", \"year\": \"2017\", \"requests\": 234076.0}, {\"bucket\": \"bot\", \"year\": \"2018\", \"requests\": 42445.0}, {\"bucket\": \"not\", \"year\": \"2013\", \"requests\": null}, {\"bucket\": \"not\", \"year\": \"2014\", \"requests\": 223003.0}, {\"bucket\": \"not\", \"year\": \"2015\", \"requests\": 173350.0}, {\"bucket\": \"not\", \"year\": \"2016\", \"requests\": 223213.0}, {\"bucket\": \"not\", \"year\": \"2017\", \"requests\": 115447.0}, {\"bucket\": \"not\", \"year\": \"2018\", \"requests\": 113192.0}, {\"bucket\": \"bot\", \"year\": \"2013\", \"requests\": null}, {\"bucket\": \"bot\", \"year\": \"2014\", \"requests\": 412.0}, {\"bucket\": \"bot\", \"year\": \"2015\", \"requests\": 41166.0}, {\"bucket\": \"bot\", \"year\": \"2016\", \"requests\": 21169.0}, {\"bucket\": \"bot\", \"year\": \"2017\", \"requests\": 112692.0}, {\"bucket\": \"bot\", \"year\": \"2018\", \"requests\": 884542.0}, {\"bucket\": \"not\", \"year\": \"2013\", \"requests\": null}, {\"bucket\": \"not\", \"year\": \"2014\", \"requests\": 79.0}, {\"bucket\": \"not\", \"year\": \"2015\", \"requests\": 827.0}, {\"bucket\": \"not\", \"year\": \"2016\", \"requests\": 26603.0}, {\"bucket\": \"not\", \"year\": \"2017\", \"requests\": 92122.0}, {\"bucket\": \"not\", \"year\": \"2018\", \"requests\": 23673.0}, {\"bucket\": \"not\", \"year\": \"2013\", \"requests\": null}, {\"bucket\": \"not\", \"year\": \"2014\", \"requests\": 477219.0}, {\"bucket\": \"not\", \"year\": \"2015\", \"requests\": 446959.0}, {\"bucket\": \"not\", \"year\": \"2016\", \"requests\": 663526.0}, {\"bucket\": \"not\", \"year\": \"2017\", \"requests\": 450984.0}, {\"bucket\": \"not\", \"year\": \"2018\", \"requests\": 815868.0}, {\"bucket\": \"not\", \"year\": \"2013\", \"requests\": null}, {\"bucket\": \"not\", \"year\": \"2014\", \"requests\": null}, {\"bucket\": \"not\", \"year\": \"2015\", \"requests\": 5290.0}, {\"bucket\": \"not\", \"year\": \"2016\", \"requests\": 3807.0}, {\"bucket\": \"not\", \"year\": \"2017\", \"requests\": 6865.0}, {\"bucket\": \"not\", \"year\": \"2018\", \"requests\": 99748.0}, {\"bucket\": \"bot\", \"year\": \"2013\", \"requests\": null}, {\"bucket\": \"bot\", \"year\": \"2014\", \"requests\": null}, {\"bucket\": \"bot\", \"year\": \"2015\", \"requests\": 158.0}, {\"bucket\": \"bot\", \"year\": \"2016\", \"requests\": 34.0}, {\"bucket\": \"bot\", \"year\": \"2017\", \"requests\": 4098869.0}, {\"bucket\": \"bot\", \"year\": \"2018\", \"requests\": 8.0}, {\"bucket\": \"not\", \"year\": \"2013\", \"requests\": null}, {\"bucket\": \"not\", \"year\": \"2014\", \"requests\": null}, {\"bucket\": \"not\", \"year\": \"2015\", \"requests\": null}, {\"bucket\": \"not\", \"year\": \"2016\", \"requests\": 30391.0}, {\"bucket\": \"not\", \"year\": \"2017\", \"requests\": null}, {\"bucket\": \"not\", \"year\": \"2018\", \"requests\": null}, {\"bucket\": \"bot\", \"year\": \"2013\", \"requests\": null}, {\"bucket\": \"bot\", \"year\": \"2014\", \"requests\": null}, {\"bucket\": \"bot\", \"year\": \"2015\", \"requests\": 50361.0}, {\"bucket\": \"bot\", \"year\": \"2016\", \"requests\": 43813.0}, {\"bucket\": \"bot\", \"year\": \"2017\", \"requests\": 405.0}, {\"bucket\": \"bot\", \"year\": \"2018\", \"requests\": 484.0}, {\"bucket\": \"not\", \"year\": \"2013\", \"requests\": null}, {\"bucket\": \"not\", \"year\": \"2014\", \"requests\": 41.0}, {\"bucket\": \"not\", \"year\": \"2015\", \"requests\": 28.0}, {\"bucket\": \"not\", \"year\": \"2016\", \"requests\": 125.0}, {\"bucket\": \"not\", \"year\": \"2017\", \"requests\": 2595.0}, {\"bucket\": \"not\", \"year\": \"2018\", \"requests\": 103098.0}, {\"bucket\": \"not\", \"year\": \"2013\", \"requests\": null}, {\"bucket\": \"not\", \"year\": \"2014\", \"requests\": 23113.0}, {\"bucket\": \"not\", \"year\": \"2015\", \"requests\": 37569.0}, {\"bucket\": \"not\", \"year\": \"2016\", \"requests\": 46737.0}, {\"bucket\": \"not\", \"year\": \"2017\", \"requests\": 55821.0}, {\"bucket\": \"not\", \"year\": \"2018\", \"requests\": 378808.0}, {\"bucket\": \"not\", \"year\": \"2013\", \"requests\": null}, {\"bucket\": \"not\", \"year\": \"2014\", \"requests\": 528107.0}, {\"bucket\": \"not\", \"year\": \"2015\", \"requests\": 733229.0}, {\"bucket\": \"not\", \"year\": \"2016\", \"requests\": 1148250.0}, {\"bucket\": \"not\", \"year\": \"2017\", \"requests\": 974904.0}, {\"bucket\": \"not\", \"year\": \"2018\", \"requests\": 1847441.0}]}};\n",
       "var opt = {};\n",
       "var type = \"vega-lite\";\n",
       "var id = \"80f7cb28-8605-4582-884d-825bb681e299\";\n",
       "\n",
       "var output_area = this;\n",
       "\n",
       "require([\"nbextensions/jupyter-vega/index\"], function(vega) {\n",
       "  var target = document.createElement(\"div\");\n",
       "  target.id = id;\n",
       "  target.className = \"vega-embed\";\n",
       "\n",
       "  var style = document.createElement(\"style\");\n",
       "  style.textContent = [\n",
       "    \".vega-embed .error p {\",\n",
       "    \"  color: firebrick;\",\n",
       "    \"  font-size: 14px;\",\n",
       "    \"}\",\n",
       "  ].join(\"\\\\n\");\n",
       "\n",
       "  // element is a jQuery wrapped DOM element inside the output area\n",
       "  // see http://ipython.readthedocs.io/en/stable/api/generated/\\\n",
       "  // IPython.display.html#IPython.display.Javascript.__init__\n",
       "  element[0].appendChild(target);\n",
       "  element[0].appendChild(style);\n",
       "\n",
       "  vega.render(\"#\" + id, spec, type, opt, output_area);\n",
       "}, function (err) {\n",
       "  if (err.requireType !== \"scripterror\") {\n",
       "    throw(err);\n",
       "  }\n",
       "});\n"
      ],
      "text/plain": [
       "<vega.vegalite.VegaLite at 0x1178206d8>"
      ]
     },
     "metadata": {
      "jupyter-vega": "#80f7cb28-8605-4582-884d-825bb681e299"
     },
     "output_type": "display_data"
    },
    {
     "data": {
      "text/plain": []
     },
     "execution_count": 19,
     "metadata": {},
     "output_type": "execute_result"
    },
    {
     "data": {
      "image/png": "[encoded data removed]"
     },
     "metadata": {
      "jupyter-vega": "#80f7cb28-8605-4582-884d-825bb681e299"
     },
     "output_type": "display_data"
    }
   ],
   "source": [
    "chart4 = altair.Chart(bot_ratios).mark_bar(size=20).encode(\n",
    "    altair.X('sum(requests)', title='Archive Requests'),\n",
    "    altair.Y('year', title='Year'),    \n",
    "    altair.Color('bucket', title='type', scale=altair.Scale(scheme='tableau20'))\n",
    ")\n",
    "chart4 = chart4.properties(\n",
    "    width=600,\n",
    "    height=175,\n",
    "    title='Bot vs Human SPN Requests'\n",
    ")\n",
    "chart4"
   ]
  },
  {
   "cell_type": "markdown",
   "metadata": {},
   "source": [
    "In trying to use the trace data in SavePageNow WARC data to understand the users of SavePageNow we've fallen down the rabbit hole of trying to understand the software."
   ]
  },
  {
   "cell_type": "code",
   "execution_count": null,
   "metadata": {},
   "outputs": [],
   "source": []
  }
 ],
 "metadata": {
  "kernelspec": {
   "display_name": "Python 3",
   "language": "python",
   "name": "python3"
  },
  "language_info": {
   "codemirror_mode": {
    "name": "ipython",
    "version": 3
   },
   "file_extension": ".py",
   "mimetype": "text/x-python",
   "name": "python",
   "nbconvert_exporter": "python",
   "pygments_lexer": "ipython3",
   "version": "3.7.3"
  }
 },
 "nbformat": 4,
 "nbformat_minor": 2
}
