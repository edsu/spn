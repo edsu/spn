{
 "cells": [
  {
   "cell_type": "markdown",
   "metadata": {},
   "source": [
    "# User Agents in SavePageNow\n",
    "\n",
    "This notebook examines the User Agents that were used when asking for content to be saved at Internet Archive's SavePageNow.\n",
    "\n",
    "The User-Agent string has been used since the early days of the web as a way of identifying the software that is being used to access a web page. It is currently defined by [RFC 7231](https://tools.ietf.org/html/rfc7231#section-5.5.3) as a set of one ore more *product identifiers* which identify the software being used to perform the HTTP request.\n",
    "\n",
    "    User-Agent      = product *( RWS ( product / comment ) )\n",
    "    product         = token [\"/\" product-version]\n",
    "    product-version = token\n",
    "    \n",
    "So for example the browser I am using now has this User-Agent:\n",
    "\n",
    "    Mozilla/5.0 (Macintosh; Intel Mac OS X 10.14; rv:66.0) Gecko/20100101 Firefox/66.0\n",
    "    \n",
    "The product identifiers here are typically listed in increasing levels of specificity. \n",
    "\n",
    "* Mozilla/5.0 (Macintosh; Intel Mac OS X 10.14; rv:66.0)\n",
    "* Gecko/20100101\n",
    "* Firefox/66.0\n",
    "\n",
    "But they are freeform enough that the [ua-parser](https://www.uaparser.org/) project has built up a voluminous set of regular expressions to parse and make sense of them.\n",
    "\n",
    "The question is, what can the User-Agent's in the SavePageNow data tell us about the people who are participating in creation of the Internet Archive.\n",
    "\n",
    "## Analyze\n",
    "\n",
    "To find the User-Agents that were used to archive the web content we need to excavate the SavePageNow WARC data. WARC files store verious [types of records](https://iipc.github.io/warc-specifications/specifications/warc-format/warc-1.1/#warc-type-mandatory). In this case we need to find the *Request* records that represent the HTTP request that was used by SavePageNow to archive the content from the Web. Using Spark with warcio is one way of doing this analysis:"
   ]
  },
  {
   "cell_type": "code",
   "execution_count": null,
   "metadata": {},
   "outputs": [],
   "source": [
    "import sys\n",
    "sys.path.append('../utils')\n",
    "\n",
    "from warc_spark import init, extractor\n",
    "sc, sqlc = init()"
   ]
  },
  {
   "cell_type": "markdown",
   "metadata": {},
   "source": [
    "An extractor function to get the User-Agent from the *WARC Request* objects:"
   ]
  },
  {
   "cell_type": "code",
   "execution_count": null,
   "metadata": {},
   "outputs": [],
   "source": [
    "@extractor\n",
    "def ua(rec):\n",
    "    if rec.rec_type == 'request':\n",
    "        yield rec.http_headers.get('user-agent', '')"
   ]
  },
  {
   "cell_type": "markdown",
   "metadata": {},
   "source": [
    "Now let's create a function that will run a Spark job to get the User-Agent counts for a year as a dictionary."
   ]
  },
  {
   "cell_type": "code",
   "execution_count": null,
   "metadata": {},
   "outputs": [],
   "source": [
    "from glob import glob\n",
    "\n",
    "def get_year(year):\n",
    "    warc_files = glob('warcs/liveweb-{}*/*.warc.gz'.format(year))\n",
    "    warcs = sc.parallelize(warc_files)\n",
    "    output = warcs.mapPartitions(ua)\n",
    "    return output.countByValue()"
   ]
  },
  {
   "cell_type": "markdown",
   "metadata": {},
   "source": [
    "Now we can use `get_year` for each year of data we have for SPN and create a pandas DataFrame of the results."
   ]
  },
  {
   "cell_type": "code",
   "execution_count": null,
   "metadata": {},
   "outputs": [],
   "source": [
    "import pandas\n",
    "\n",
    "ua_data = {}\n",
    "for year in range(2013, 2019):\n",
    "    print(year)\n",
    "    ua_data[str(year)] = get_year(year)\n",
    "\n",
    "df = pandas.DataFrame(ua_data)\n",
    "df.index.name = 'ua'"
   ]
  },
  {
   "cell_type": "markdown",
   "metadata": {},
   "source": [
    "We can quickly examine it to make sure it looks like it worrked:"
   ]
  },
  {
   "cell_type": "code",
   "execution_count": null,
   "metadata": {},
   "outputs": [],
   "source": [
    "df.head()"
   ]
  },
  {
   "cell_type": "markdown",
   "metadata": {},
   "source": [
    "Let's definitely save it for later, since it took about 6 hours to compute on XSEDE!"
   ]
  },
  {
   "cell_type": "code",
   "execution_count": null,
   "metadata": {},
   "outputs": [],
   "source": [
    "df.to_csv('results/user-agents.csv')"
   ]
  },
  {
   "cell_type": "markdown",
   "metadata": {},
   "source": [
    "## Top 10 User Agents\n",
    "\n",
    "Let's see if we can find any rhyme or reason in this data. If the CSV has already been calculated we can load it here instead of waiting 6 hours for the analysis to run."
   ]
  },
  {
   "cell_type": "code",
   "execution_count": null,
   "metadata": {},
   "outputs": [],
   "source": [
    "import pandas\n",
    "\n",
    "df = pandas.read_csv('results/user-agents.csv', index_col='ua')"
   ]
  },
  {
   "cell_type": "markdown",
   "metadata": {},
   "source": [
    "What are the top 10 per year? We can iterate through the years and generate a table from our DataFrame for each year:"
   ]
  },
  {
   "cell_type": "code",
   "execution_count": null,
   "metadata": {
    "scrolled": false
   },
   "outputs": [],
   "source": [
    "from IPython.display import display, Markdown\n",
    "\n",
    "# create chunks of Markdown tables to display\n",
    "\n",
    "for year in range(2013, 2019):\n",
    "    y = str(year)\n",
    "    md_lines = [\n",
    "    \"### {}\".format(y),\n",
    "    \"| user-agent | count |\",\n",
    "    \"| ---------- | ----- |\"\n",
    "]\n",
    "    dfy = df.sort_values(by=y, ascending=False)\n",
    "    for ua, count in dfy[y].head(10).items():\n",
    "        if count > 0:\n",
    "            md_lines.append(\"| {} | {} |\".format(ua, count))\n",
    "    display(Markdown(\"\\n\".join(md_lines)))"
   ]
  },
  {
   "cell_type": "markdown",
   "metadata": {},
   "source": [
    "## Shifting Infrastructure\n",
    "\n",
    "A few interesting things pop out from just looking at the top 10 User-Agents by year. The first is that SavePageNow itself as a piece of software infrastructure has changed over the years. In 2013 it archived content from the web as\n",
    "\n",
    "    Mozilla/5.0 (compatible; archive.org_bot; Wayback Machine Live Record;\n",
    "    \n",
    "So as SavePageNow received requests from users to archive web content it simply went and requested those items from the web using a fixed User-Agent string. There is only one type of User-Agent that appears in all the HTTP requests in the WARC data for 2013 (or at least the day we sampled for that year).\n",
    "\n",
    "But in 2014 the User-Agent strings are much more varied. For example the top User-Agent was:\n",
    "\n",
    "    Mozilla/5.0 (Windows NT 6.1; WOW64) AppleWebKit/537.36 (KHTML, like Gecko) Chrome/38.0.2125.104 Safari/537.36 (via Wayback Save Page)`.\n",
    "\n",
    "This User-Agent string identifies a particular vesion of Chrome running on Windows. But also notice that appended on the end of this and other User-Agents in the list is the string `(via Wayback Save Page)`. It looks like in 2014 SavePageNow started using the User-Agent of the browser that original requestor, added an identifier for SavePageNow to the end, and then used that when requesting the web resource to archive.\n",
    "\n",
    "So in theory, web servers that log User-Agents would see User-Agents of that form in their server logs when SavePageNow was archiving content on their site.\n",
    "\n",
    "But then in 2016 things shift again and the top User-Agent changes to:\n",
    "\n",
    "    Mozilla/5.0 (compatible; archive.org_bot; Wayback Machine Live Record; +http://archive.org/details/archive.org_bot)\n",
    "    \n",
    "This User-Agent uniquely identifies *Wayback Machine Live Record* as a generic web client. While this is the #1 user agent for 2016, 2017, and 2018 it is always followed by a long tail of User-Agent strings that uniquely identifies a type of web client software, but the `(via Wayback Save Page)` has been dropped from the end. For example:\n",
    "\n",
    "    Mozilla/5.0 (Windows NT 6.1; WOW64) AppleWebKit/537.36 (KHTML, like Gecko) Chrome/53.0.2785.143 Safari/537.36 \t\n",
    "\n",
    "What might be going on here? \t\n",
    "\n",
    "One explanation is that in 2016 the SavePageNow software was adjusted so that when it archived web content it no longer appended `(via Wayback Save Page)` to the original User-Agent that requested the archive. It simply passed that original User-Agent through to its final destination.\n",
    "\n",
    "However the large number of `Wayback Machine Live Record` User-Agents is a bit of a mystery. When a browser requests something be archived could it be that request is passed through with the original User-Agent, but when it receives the HTML for that web page, and buids the DOM for it, resolving URLs for images, CSS, and JavaScript those subsequent requests get the `Wayback Machine Live Record` User-Agent when passing through SavePageNow? Or perhaps `Wayback Machine Live Record` is only used when no User-Agent is supplied initially? User-Agent is optional, and there appear to be no WARC records that lack it.\n",
    "\n",
    "It's difficult to say without taking a much closer look at the WARC data. Which we will be doing in another notebook. It is interesting how in trying to use SavePageNow WARC data to understand the users of SavePageNow we've fallen down the rabbit hole of trying to understand the SavePageNow as a technical artifact.\n"
   ]
  },
  {
   "cell_type": "markdown",
   "metadata": {},
   "source": [
    "## The Long-ish Tail\n",
    "\n",
    "Looking at the top 10 User-Agent was a useful start. But it also could be obscuring some patterns. So how many distinct User-Agent strings were there?\n"
   ]
  },
  {
   "cell_type": "code",
   "execution_count": null,
   "metadata": {},
   "outputs": [],
   "source": [
    "len(df.index)"
   ]
  },
  {
   "cell_type": "markdown",
   "metadata": {},
   "source": [
    "93,843 is a lot of User-Agent strings! It might be interesting to examine what proportion of all the requests for a given year were from user agents in the top 10 for that year. To do that we need to massage our dataframe into a new dataframe so that we can easily visualize it with [Altair](https://altair-viz.github.io/)."
   ]
  },
  {
   "cell_type": "code",
   "execution_count": null,
   "metadata": {},
   "outputs": [],
   "source": [
    "ratios = {'bucket': [], 'year': [], 'requests': []}\n",
    "\n",
    "for year in range(2013, 2019):\n",
    "    y = str(year)\n",
    "    dfy = df.sort_values(by=y, ascending=False)\n",
    "    \n",
    "    ratios['year'].append(y)\n",
    "    ratios['bucket'].append('top-10')\n",
    "    ratios['requests'].append(dfy[y].head(10).sum())\n",
    "    \n",
    "    ratios['year'].append(y)\n",
    "    ratios['bucket'].append('the-rest')\n",
    "    ratios['requests'].append(dfy[y][10:].sum())\n",
    "\n",
    "ratios = pandas.DataFrame(ratios)\n",
    "ratios.head()"
   ]
  },
  {
   "cell_type": "code",
   "execution_count": 80,
   "metadata": {},
   "outputs": [
    {
     "data": {
      "text/html": [
       "\n",
       "<div id=\"altair-viz-ffca0d70f8754b72a5b7ba0ddac6a649\"></div>\n",
       "<script type=\"text/javascript\">\n",
       "  (function(spec, embedOpt){\n",
       "    let outputDiv = document.currentScript.previousElementSibling;\n",
       "    if (outputDiv.id !== \"altair-viz-ffca0d70f8754b72a5b7ba0ddac6a649\") {\n",
       "      outputDiv = document.getElementById(\"altair-viz-ffca0d70f8754b72a5b7ba0ddac6a649\");\n",
       "    }\n",
       "    const paths = {\n",
       "      \"vega\": \"https://cdn.jsdelivr.net/npm//vega@5?noext\",\n",
       "      \"vega-lib\": \"https://cdn.jsdelivr.net/npm//vega-lib?noext\",\n",
       "      \"vega-lite\": \"https://cdn.jsdelivr.net/npm//vega-lite@4.8.1?noext\",\n",
       "      \"vega-embed\": \"https://cdn.jsdelivr.net/npm//vega-embed@6?noext\",\n",
       "    };\n",
       "\n",
       "    function loadScript(lib) {\n",
       "      return new Promise(function(resolve, reject) {\n",
       "        var s = document.createElement('script');\n",
       "        s.src = paths[lib];\n",
       "        s.async = true;\n",
       "        s.onload = () => resolve(paths[lib]);\n",
       "        s.onerror = () => reject(`Error loading script: ${paths[lib]}`);\n",
       "        document.getElementsByTagName(\"head\")[0].appendChild(s);\n",
       "      });\n",
       "    }\n",
       "\n",
       "    function showError(err) {\n",
       "      outputDiv.innerHTML = `<div class=\"error\" style=\"color:red;\">${err}</div>`;\n",
       "      throw err;\n",
       "    }\n",
       "\n",
       "    function displayChart(vegaEmbed) {\n",
       "      vegaEmbed(outputDiv, spec, embedOpt)\n",
       "        .catch(err => showError(`Javascript Error: ${err.message}<br>This usually means there's a typo in your chart specification. See the javascript console for the full traceback.`));\n",
       "    }\n",
       "\n",
       "    if(typeof define === \"function\" && define.amd) {\n",
       "      requirejs.config({paths});\n",
       "      require([\"vega-embed\"], displayChart, err => showError(`Error loading script: ${err.message}`));\n",
       "    } else if (typeof vegaEmbed === \"function\") {\n",
       "      displayChart(vegaEmbed);\n",
       "    } else {\n",
       "      loadScript(\"vega\")\n",
       "        .then(() => loadScript(\"vega-lite\"))\n",
       "        .then(() => loadScript(\"vega-embed\"))\n",
       "        .catch(showError)\n",
       "        .then(() => displayChart(vegaEmbed));\n",
       "    }\n",
       "  })({\"config\": {\"view\": {\"continuousWidth\": 400, \"continuousHeight\": 300}, \"axis\": {\"labelFontSize\": 20, \"titleFontSize\": 20}, \"legend\": {\"labelFontSize\": 20, \"titleFontSize\": 20}, \"title\": {\"fontSize\": 20}}, \"data\": {\"name\": \"data-9550356f969637001f79a37a0b237f5a\"}, \"mark\": {\"type\": \"bar\", \"size\": 50}, \"encoding\": {\"color\": {\"type\": \"nominal\", \"field\": \"bucket\", \"scale\": {\"scheme\": \"tableau20\"}, \"title\": \"type\"}, \"x\": {\"type\": \"quantitative\", \"aggregate\": \"sum\", \"field\": \"requests\", \"title\": \"Archive Requests\"}, \"y\": {\"type\": \"nominal\", \"field\": \"year\", \"title\": \"Year\"}}, \"height\": 500, \"title\": \"User Agents Diversity per Year\", \"width\": 1200, \"$schema\": \"https://vega.github.io/schema/vega-lite/v4.8.1.json\", \"datasets\": {\"data-9550356f969637001f79a37a0b237f5a\": [{\"bucket\": \"top-10\", \"year\": \"2013\", \"requests\": 1266075.0}, {\"bucket\": \"the-rest\", \"year\": \"2013\", \"requests\": 0.0}, {\"bucket\": \"top-10\", \"year\": \"2014\", \"requests\": 594637.0}, {\"bucket\": \"the-rest\", \"year\": \"2014\", \"requests\": 966720.0}, {\"bucket\": \"top-10\", \"year\": \"2015\", \"requests\": 616311.0}, {\"bucket\": \"the-rest\", \"year\": \"2015\", \"requests\": 1245278.0}, {\"bucket\": \"top-10\", \"year\": \"2016\", \"requests\": 2908390.0}, {\"bucket\": \"the-rest\", \"year\": \"2016\", \"requests\": 1898874.0}, {\"bucket\": \"top-10\", \"year\": \"2017\", \"requests\": 11738197.0}, {\"bucket\": \"the-rest\", \"year\": \"2017\", \"requests\": 1657538.0}, {\"bucket\": \"top-10\", \"year\": \"2018\", \"requests\": 4182904.0}, {\"bucket\": \"the-rest\", \"year\": \"2018\", \"requests\": 3160249.0}]}}, {\"mode\": \"vega-lite\"});\n",
       "</script>"
      ],
      "text/plain": [
       "alt.Chart(...)"
      ]
     },
     "execution_count": 80,
     "metadata": {},
     "output_type": "execute_result"
    }
   ],
   "source": [
    "import altair\n",
    "altair.renderers.enable('default')\n",
    "\n",
    "chart1 = altair.Chart(ratios).mark_bar(size=50).encode(\n",
    "    altair.X('sum(requests)', title='Archive Requests'),\n",
    "    altair.Y('year', title='Year'),    \n",
    "    altair.Color('bucket', title='type', scale=altair.Scale(scheme='tableau20'))\n",
    ")\n",
    "chart1 = chart1.properties(\n",
    "    width=1200,\n",
    "    height=500,\n",
    "    title='User Agents Diversity per Year'\n",
    ").configure_axis(\n",
    "    labelFontSize=20,\n",
    "    titleFontSize=20\n",
    ").configure_legend(\n",
    "    labelFontSize=20,\n",
    "    titleFontSize=20\n",
    ").configure_title(\n",
    "    fontSize=20\n",
    ")\n",
    "chart1.save('images/ua-diversity.png')\n",
    "chart1"
   ]
  },
  {
   "cell_type": "markdown",
   "metadata": {},
   "source": [
    "This is a helpful visualization because it shows that most of the time (except for year 1 when there is only one type of User-Agent) the top-10 User-Agents account for about 1/2 of the total requests. So there is definitely some diversity that's worth accounting for.\n",
    "\n",
    "But 2017 is unusual in that by far the top-10 User-Agents account for the majority of the requests. Also there appears to have been almost double the amount of WARC request records that year, as compared to the year following. This is counter-intuitive because the amount of WARC data on disk does not follow that same trend. "
   ]
  },
  {
   "cell_type": "code",
   "execution_count": null,
   "metadata": {},
   "outputs": [],
   "source": [
    "from os.path import getsize\n",
    "\n",
    "sizes = {'year': [], 'gb': []}\n",
    "for year in range(2013, 2019):\n",
    "    sizes['year'].append(str(year))\n",
    "    warc_files = glob('warcs/liveweb-{}*/*.warc.gz'.format(year))\n",
    "    sizes['gb'].append(sum([getsize(path) for path in warc_files]) / (1024 ** 3))\n",
    "sizes = pandas.DataFrame(sizes)\n",
    "    \n",
    "chart2 = altair.Chart(sizes).mark_bar(size=20).encode(\n",
    "    altair.X('gb', title='Gigabytes'),\n",
    "    altair.Y('year', title='Year')\n",
    ")\n",
    "chart2 = chart2.properties(title='SPN WARC Data by Year', width=600, height=150)\n",
    "chart2"
   ]
  },
  {
   "cell_type": "markdown",
   "metadata": {},
   "source": [
    "## User-Agent Families\n",
    "\n",
    "As mentioned above there is some method in the madness of these strings. Fortunately the [ua-parser](https://www.uaparser.org/) project has built a dataset uf UserAgents, and used it to create a parser toolkit for various languages. There is one for Python that we can use to try to lump some of this data together by type of browser.\n",
    "\n",
    "For example we can give ua_parser this string, and get back a dictionary with keys for device, os, and user_agent.\n",
    "\n",
    "    Mozilla/5.0 (Macintosh; Intel Mac OS X 10_13_6) AppleWebKit/605.1.15 (KHTML, like Gecko) Version/12.0 Safari/605.1.15\n"
   ]
  },
  {
   "cell_type": "code",
   "execution_count": 37,
   "metadata": {
    "scrolled": true
   },
   "outputs": [
    {
     "name": "stdout",
     "output_type": "stream",
     "text": [
      "{\n",
      "  \"user_agent\": {\n",
      "    \"family\": \"Safari\",\n",
      "    \"major\": \"12\",\n",
      "    \"minor\": \"0\",\n",
      "    \"patch\": null\n",
      "  },\n",
      "  \"os\": {\n",
      "    \"family\": \"Mac OS X\",\n",
      "    \"major\": \"10\",\n",
      "    \"minor\": \"13\",\n",
      "    \"patch\": \"6\",\n",
      "    \"patch_minor\": null\n",
      "  },\n",
      "  \"device\": {\n",
      "    \"family\": \"Mac\",\n",
      "    \"brand\": \"Apple\",\n",
      "    \"model\": \"Mac\"\n",
      "  },\n",
      "  \"string\": \"Mozilla/5.0 (Macintosh; Intel Mac OS X 10_13_6) AppleWebKit/605.1.15 (KHTML, like Gecko) Version/12.0 Safari/605.1.15\"\n",
      "}\n"
     ]
    }
   ],
   "source": [
    "import json\n",
    "from ua_parser.user_agent_parser import Parse as parse_ua\n",
    "\n",
    "ua = 'Mozilla/5.0 (Macintosh; Intel Mac OS X 10_13_6) AppleWebKit/605.1.15 (KHTML, like Gecko) Version/12.0 Safari/605.1.15'\n",
    "print(json.dumps(parse_ua(ua), indent=2))"
   ]
  },
  {
   "cell_type": "markdown",
   "metadata": {},
   "source": [
    "Even if the UserAgent is a string from a client like curl or wget ua-parser still does something useful:"
   ]
  },
  {
   "cell_type": "code",
   "execution_count": 83,
   "metadata": {},
   "outputs": [
    {
     "name": "stdout",
     "output_type": "stream",
     "text": [
      "{\n",
      "  \"user_agent\": {\n",
      "    \"family\": \"curl\",\n",
      "    \"major\": \"7\",\n",
      "    \"minor\": \"55\",\n",
      "    \"patch\": \"1\"\n",
      "  },\n",
      "  \"os\": {\n",
      "    \"family\": \"Other\",\n",
      "    \"major\": null,\n",
      "    \"minor\": null,\n",
      "    \"patch\": null,\n",
      "    \"patch_minor\": null\n",
      "  },\n",
      "  \"device\": {\n",
      "    \"family\": \"Other\",\n",
      "    \"brand\": null,\n",
      "    \"model\": null\n",
      "  },\n",
      "  \"string\": \"curl/7.55.1\"\n",
      "}\n"
     ]
    }
   ],
   "source": [
    "ua = 'curl/7.55.1'\n",
    "print(json.dumps(parse_ua(ua), indent=2))"
   ]
  },
  {
   "cell_type": "markdown",
   "metadata": {},
   "source": [
    "So it looks like we can use the *user_agent.family* to group the User-Agent strings into a single value that identifies the piece of software (e.g. Safari, Firefox, curl, etc). Let's use our existing data to create a new DataFrame where the index is the *family_name* and the columns are the request counts by year. Along the way we'll also populate `ua_fam_map` which is a dictionary lookup for User-Agents to easily get their family. It turns out ua-parser is kinda slow and it will be useful to be able to do this operation quickly.\n",
    "\n",
    "*Note: if ua-parser is unable to assign a family we will keep the original user-agent string (lines 9-10).*"
   ]
  },
  {
   "cell_type": "code",
   "execution_count": null,
   "metadata": {},
   "outputs": [],
   "source": [
    "from collections import defaultdict\n",
    "\n",
    "ua_fams = defaultdict(defaultdict)\n",
    "ua_fam_map = {}\n",
    "for ua in df.index:\n",
    "    \n",
    "    if type(ua) != str:\n",
    "        continue\n",
    "        \n",
    "    parsed_ua = parse_ua(ua)\n",
    "    ua_fam = parsed_ua['user_agent']['family']\n",
    "    if ua_fam == 'Other':\n",
    "        ua_fam = ua\n",
    "        \n",
    "    ua_fam_map[ua] = ua_fam\n",
    "        \n",
    "    for year in range(2013, 2019):\n",
    "        y = str(year)\n",
    "        if df.loc[ua][y] > 0:\n",
    "            if y in ua_fams[ua_fam]:\n",
    "                ua_fams[ua_fam][y] += df.loc[ua][y]\n",
    "            else:\n",
    "                ua_fams[ua_fam][y] = df.loc[ua][y]\n",
    "\n",
    "ua_fams = pandas.DataFrame.from_dict(ua_fams, orient='index')\n",
    "ua_fams.to_csv('results/user-agent-families.csv', index=False)"
   ]
  },
  {
   "cell_type": "markdown",
   "metadata": {},
   "source": [
    "What do the top-10 User-Agent families look like?"
   ]
  },
  {
   "cell_type": "code",
   "execution_count": 50,
   "metadata": {},
   "outputs": [
    {
     "name": "stdout",
     "output_type": "stream",
     "text": [
      "                            2016       2017       2018      2015      2014  \\\n",
      "UA                                                                           \n",
      "archive.org_bot        1211109.0  6633606.0  1993950.0   21919.0   56592.0   \n",
      "Chrome                 1147165.0   973935.0  1842529.0  731837.0  527632.0   \n",
      "Wget                     21169.0   112692.0   884542.0   41166.0     412.0   \n",
      "Firefox                 662829.0   449724.0   815548.0  445321.0  476500.0   \n",
      "Chrome Mobile            38928.0    48478.0   348409.0   28295.0   17161.0   \n",
      "Mobile Safari            61321.0    53474.0   229480.0   60230.0   50506.0   \n",
      "Safari                   98126.0    59622.0   141217.0   77051.0   61123.0   \n",
      "Chrome Mobile WebView    12575.0    14110.0   129243.0   15630.0    6427.0   \n",
      "IE                      223199.0   115446.0   113185.0  173350.0  223003.0   \n",
      "BingPreview                125.0     2595.0   103098.0      28.0      41.0   \n",
      "\n",
      "                            2013  \n",
      "UA                                \n",
      "archive.org_bot        1238598.0  \n",
      "Chrome                       NaN  \n",
      "Wget                         NaN  \n",
      "Firefox                      NaN  \n",
      "Chrome Mobile                NaN  \n",
      "Mobile Safari                NaN  \n",
      "Safari                       NaN  \n",
      "Chrome Mobile WebView        NaN  \n",
      "IE                           NaN  \n",
      "BingPreview                  NaN  \n"
     ]
    }
   ],
   "source": [
    "ua_fams = pandas.read_csv('results/user-agent-families.csv', index_col='UA')\n",
    "ua_fams = ua_fams.sort_values(by='2018', ascending=False)\n",
    "print(ua_fams.head(10))"
   ]
  },
  {
   "cell_type": "markdown",
   "metadata": {},
   "source": [
    "How many User-Agent families are there?\n"
   ]
  },
  {
   "cell_type": "code",
   "execution_count": 51,
   "metadata": {},
   "outputs": [
    {
     "name": "stdout",
     "output_type": "stream",
     "text": [
      "934\n"
     ]
    }
   ],
   "source": [
    "print(len(ua_fams.index))"
   ]
  },
  {
   "cell_type": "markdown",
   "metadata": {},
   "source": [
    "So there are now several orders of magnitude *less* User-Agents (remember the full list was 93,843. Let's run our top-10 stats again and see how it looks:"
   ]
  },
  {
   "cell_type": "code",
   "execution_count": 88,
   "metadata": {},
   "outputs": [
    {
     "data": {
      "text/html": [
       "\n",
       "<div id=\"altair-viz-38c1246ab15649a1a597dbe038fd0907\"></div>\n",
       "<script type=\"text/javascript\">\n",
       "  (function(spec, embedOpt){\n",
       "    let outputDiv = document.currentScript.previousElementSibling;\n",
       "    if (outputDiv.id !== \"altair-viz-38c1246ab15649a1a597dbe038fd0907\") {\n",
       "      outputDiv = document.getElementById(\"altair-viz-38c1246ab15649a1a597dbe038fd0907\");\n",
       "    }\n",
       "    const paths = {\n",
       "      \"vega\": \"https://cdn.jsdelivr.net/npm//vega@5?noext\",\n",
       "      \"vega-lib\": \"https://cdn.jsdelivr.net/npm//vega-lib?noext\",\n",
       "      \"vega-lite\": \"https://cdn.jsdelivr.net/npm//vega-lite@4.8.1?noext\",\n",
       "      \"vega-embed\": \"https://cdn.jsdelivr.net/npm//vega-embed@6?noext\",\n",
       "    };\n",
       "\n",
       "    function loadScript(lib) {\n",
       "      return new Promise(function(resolve, reject) {\n",
       "        var s = document.createElement('script');\n",
       "        s.src = paths[lib];\n",
       "        s.async = true;\n",
       "        s.onload = () => resolve(paths[lib]);\n",
       "        s.onerror = () => reject(`Error loading script: ${paths[lib]}`);\n",
       "        document.getElementsByTagName(\"head\")[0].appendChild(s);\n",
       "      });\n",
       "    }\n",
       "\n",
       "    function showError(err) {\n",
       "      outputDiv.innerHTML = `<div class=\"error\" style=\"color:red;\">${err}</div>`;\n",
       "      throw err;\n",
       "    }\n",
       "\n",
       "    function displayChart(vegaEmbed) {\n",
       "      vegaEmbed(outputDiv, spec, embedOpt)\n",
       "        .catch(err => showError(`Javascript Error: ${err.message}<br>This usually means there's a typo in your chart specification. See the javascript console for the full traceback.`));\n",
       "    }\n",
       "\n",
       "    if(typeof define === \"function\" && define.amd) {\n",
       "      requirejs.config({paths});\n",
       "      require([\"vega-embed\"], displayChart, err => showError(`Error loading script: ${err.message}`));\n",
       "    } else if (typeof vegaEmbed === \"function\") {\n",
       "      displayChart(vegaEmbed);\n",
       "    } else {\n",
       "      loadScript(\"vega\")\n",
       "        .then(() => loadScript(\"vega-lite\"))\n",
       "        .then(() => loadScript(\"vega-embed\"))\n",
       "        .catch(showError)\n",
       "        .then(() => displayChart(vegaEmbed));\n",
       "    }\n",
       "  })({\"config\": {\"view\": {\"continuousWidth\": 400, \"continuousHeight\": 300}, \"axis\": {\"labelFontSize\": 20, \"titleFontSize\": 20}, \"legend\": {\"labelFontSize\": 20, \"titleFontSize\": 20}, \"title\": {\"fontSize\": 20}}, \"data\": {\"name\": \"data-17f1db5be9ff09dfbb294317314e20a7\"}, \"mark\": {\"type\": \"bar\", \"size\": 50}, \"encoding\": {\"color\": {\"type\": \"nominal\", \"field\": \"bucket\", \"scale\": {\"scheme\": \"tableau20\"}, \"title\": \"type\"}, \"x\": {\"type\": \"quantitative\", \"aggregate\": \"sum\", \"field\": \"requests\", \"title\": \"Archive Requests\"}, \"y\": {\"type\": \"nominal\", \"field\": \"year\", \"title\": \"Year\"}}, \"height\": 500, \"title\": \"User Agent Families Diversity per Year\", \"width\": 1200, \"$schema\": \"https://vega.github.io/schema/vega-lite/v4.8.1.json\", \"datasets\": {\"data-17f1db5be9ff09dfbb294317314e20a7\": [{\"bucket\": \"top-50\", \"year\": \"2013\", \"requests\": 1238598.0}, {\"bucket\": \"the-rest\", \"year\": \"2013\", \"requests\": 0.0}, {\"bucket\": \"top-50\", \"year\": \"2014\", \"requests\": 1553769.0}, {\"bucket\": \"the-rest\", \"year\": \"2014\", \"requests\": 7588.0}, {\"bucket\": \"top-50\", \"year\": \"2015\", \"requests\": 1850733.0}, {\"bucket\": \"the-rest\", \"year\": \"2015\", \"requests\": 10856.0}, {\"bucket\": \"top-50\", \"year\": \"2016\", \"requests\": 3895245.0}, {\"bucket\": \"the-rest\", \"year\": \"2016\", \"requests\": 25578.0}, {\"bucket\": \"top-50\", \"year\": \"2017\", \"requests\": 13347160.0}, {\"bucket\": \"the-rest\", \"year\": \"2017\", \"requests\": 48569.0}, {\"bucket\": \"top-50\", \"year\": \"2018\", \"requests\": 7281233.0}, {\"bucket\": \"the-rest\", \"year\": \"2018\", \"requests\": 61914.0}]}}, {\"mode\": \"vega-lite\"});\n",
       "</script>"
      ],
      "text/plain": [
       "alt.Chart(...)"
      ]
     },
     "execution_count": 88,
     "metadata": {},
     "output_type": "execute_result"
    }
   ],
   "source": [
    "ratios2 = {'bucket': [], 'year': [], 'requests': []}\n",
    "\n",
    "for year in range(2013, 2019):\n",
    "    y = str(year)\n",
    "    dfy = ua_fams.sort_values(by=y, ascending=False)\n",
    "    \n",
    "    ratios2['year'].append(y)\n",
    "    ratios2['bucket'].append('top-50')\n",
    "    ratios2['requests'].append(dfy[y].head(50).sum())\n",
    "    \n",
    "    ratios2['year'].append(y)\n",
    "    ratios2['bucket'].append('the-rest')\n",
    "    ratios2['requests'].append(dfy[y][50:].sum())\n",
    "\n",
    "ratios2 = pandas.DataFrame(ratios2)\n",
    "\n",
    "chart3 = altair.Chart(ratios2).mark_bar(size=50).encode(\n",
    "    altair.X('sum(requests)', title='Archive Requests'),\n",
    "    altair.Y('year', title='Year'),    \n",
    "    altair.Color('bucket', title='type', scale=altair.Scale(scheme='tableau20'))\n",
    ")\n",
    "chart3 = chart3.properties(\n",
    "    width=1200,\n",
    "    height=500,\n",
    "    title='User Agent Families Diversity per Year'\n",
    ").configure_axis(\n",
    "    labelFontSize=20,\n",
    "    titleFontSize=20\n",
    ").configure_legend(\n",
    "    labelFontSize=20,\n",
    "    titleFontSize=20\n",
    ").configure_title(\n",
    "    fontSize=20\n",
    ")\n",
    "chart3.save('images/ua-families-diversity.png')\n",
    "chart3"
   ]
  },
  {
   "cell_type": "markdown",
   "metadata": {},
   "source": [
    "Nice, so our long tail of User-Agents may be long, but it doesn't account for many requests relative to the total volume. So what is the full set of top-10 User-Agents?"
   ]
  },
  {
   "cell_type": "code",
   "execution_count": 89,
   "metadata": {},
   "outputs": [
    {
     "data": {
      "text/plain": [
       "{'Android',\n",
       " 'BingPreview',\n",
       " 'Chrome',\n",
       " 'Chrome Mobile',\n",
       " 'Chrome Mobile WebView',\n",
       " 'Firefox',\n",
       " 'Firefox Mobile',\n",
       " 'IE',\n",
       " 'Mobile Safari',\n",
       " 'Mozilla',\n",
       " 'OpenBSD ftp',\n",
       " 'Opera',\n",
       " 'Python Requests',\n",
       " 'Safari',\n",
       " 'UptimeRobot',\n",
       " 'Wget',\n",
       " 'archive.org_bot',\n",
       " 'curl',\n",
       " 'okhttp'}"
      ]
     },
     "execution_count": 89,
     "metadata": {},
     "output_type": "execute_result"
    }
   ],
   "source": [
    "top_10_uas = set()\n",
    "for year in range(2013, 2019):\n",
    "    y = str(year)\n",
    "    for ua in ua_fams.sort_values(by=y, ascending=False).head(10).index:\n",
    "        top_10_uas.add(ua)\n",
    "\n",
    "top_10_uas"
   ]
  },
  {
   "cell_type": "markdown",
   "metadata": {},
   "source": [
    "How about the top-50 per year?"
   ]
  },
  {
   "cell_type": "code",
   "execution_count": 90,
   "metadata": {},
   "outputs": [
    {
     "data": {
      "text/plain": [
       "{'AhrefsBot',\n",
       " 'Amazon Silk',\n",
       " 'Android',\n",
       " 'Apache-HttpClient',\n",
       " 'AppEngine-Google',\n",
       " 'Apple Mail',\n",
       " 'BingPreview',\n",
       " 'BlackBerry WebKit',\n",
       " 'CheckHost (http://check-host.net/)',\n",
       " 'Chrome',\n",
       " 'Chrome 41.0.2227.0',\n",
       " 'Chrome 41.0.2227.1',\n",
       " 'Chrome 41.0.2228.0',\n",
       " 'Chrome Mobile',\n",
       " 'Chrome Mobile WebView',\n",
       " 'Chrome Mobile iOS',\n",
       " 'Chromium',\n",
       " 'Coc Coc',\n",
       " 'Dragon',\n",
       " 'Edge',\n",
       " 'Edge Mobile',\n",
       " 'FUCKING CLOUDFLARE!',\n",
       " 'Facebook',\n",
       " 'Firefox',\n",
       " 'Firefox (Namoroka)',\n",
       " 'Firefox (via Wayback Save Page)',\n",
       " 'Firefox 33.0',\n",
       " 'Firefox 36.0',\n",
       " 'Firefox 40.1',\n",
       " 'Firefox Mobile',\n",
       " 'Firefox iOS',\n",
       " 'Google',\n",
       " 'Hatena Antenna/0.5 (http://a.hatena.ne.jp/help)',\n",
       " 'Hatena Antenna/0.5 (http://a.hatena.ne.jp/help) (via Wayback Save Page)',\n",
       " 'HeadlessChrome',\n",
       " 'IE',\n",
       " 'IE Mobile',\n",
       " 'Iceweasel',\n",
       " 'Iron',\n",
       " 'K-Meleon',\n",
       " 'LinkArchiver twitter bot',\n",
       " 'Maxthon',\n",
       " 'Mediapartners-Google',\n",
       " 'Mobile Safari',\n",
       " 'Mobile Safari UI/WKWebView',\n",
       " 'Mozilla',\n",
       " 'Mozilla/4.0 (compatible;HostTracker/2.0;+http://www.host-tracker.com/)',\n",
       " 'Mozilla/5.0',\n",
       " 'Mozilla/5.0 (Linux i686)',\n",
       " 'Mozilla/5.0 (compatible; Google-Apps-Script) (via Wayback Save Page)',\n",
       " 'NetFront NX',\n",
       " 'Netscape',\n",
       " 'OpenBSD ftp',\n",
       " 'Opera',\n",
       " 'Opera Mini',\n",
       " 'Opera Mobile',\n",
       " 'Opera/hokan',\n",
       " 'Opera/hokan (via Wayback Save Page)',\n",
       " 'PHP/5.4',\n",
       " 'Pale Moon',\n",
       " 'Patterbot',\n",
       " 'PhantomJS',\n",
       " 'Pinterest',\n",
       " 'Puffin',\n",
       " 'Python Requests',\n",
       " 'Python Wayback Backup API-Client',\n",
       " 'Python-urllib',\n",
       " 'Ruby',\n",
       " 'Ruby (via Wayback Save Page)',\n",
       " 'Safari',\n",
       " 'Safari 5.1.7',\n",
       " 'Safari 6.0',\n",
       " 'Safari 7.0.3',\n",
       " 'Samsung Internet',\n",
       " 'Scrapy',\n",
       " 'SeaMonkey',\n",
       " 'Sleipnir',\n",
       " 'Sogou Explorer',\n",
       " 'TweetSave/0.1 (+http://tweetsave.com/)',\n",
       " 'Twitter',\n",
       " 'UC Browser',\n",
       " 'UP.Browser',\n",
       " 'URL Status Checker/0.1 (via Wayback Save Page)',\n",
       " 'UptimeRobot',\n",
       " 'Vital Source Rescuing Bot',\n",
       " 'Vivaldi',\n",
       " 'Watchbot monitoring robot',\n",
       " 'Waterfox',\n",
       " 'WebKit2HTML/1.0',\n",
       " 'Wget',\n",
       " 'WordPress',\n",
       " 'Yandex Browser',\n",
       " 'archive.org_bot',\n",
       " 'archiver',\n",
       " 'curl',\n",
       " 'diffengine/0.0.42 (+https://github.com/docnow/diffengine)',\n",
       " 'diffengine/0.1.0 (+https://github.com/docnow/diffengine)',\n",
       " 'http://Anonymouse.org/ (Unix)',\n",
       " 'libwww-perl',\n",
       " 'mediawords bot',\n",
       " 'okhttp',\n",
       " 'sentry/8.18.0 (https://sentry.io)',\n",
       " 'waybackmachinedownloader'}"
      ]
     },
     "execution_count": 90,
     "metadata": {},
     "output_type": "execute_result"
    }
   ],
   "source": [
    "top_50_uas = set()\n",
    "for year in range(2013, 2019):\n",
    "    y = str(year)\n",
    "    for ua in ua_fams.sort_values(by=y, ascending=False).head(50).index:\n",
    "        top_50_uas.add(ua)\n",
    "\n",
    "top_50_uas"
   ]
  },
  {
   "cell_type": "code",
   "execution_count": 91,
   "metadata": {},
   "outputs": [
    {
     "data": {
      "text/plain": [
       "103"
      ]
     },
     "execution_count": 91,
     "metadata": {},
     "output_type": "execute_result"
    }
   ],
   "source": [
    "len(top_50_uas)"
   ]
  },
  {
   "cell_type": "markdown",
   "metadata": {},
   "source": [
    "This is a remarkable list in a way, because we see browsers such as Netscape, Puffin, K-Meleon, Iceweasel, Coc Coc, Vivaldi. Not everyone is running Chrome and Firefox apparently, at least when they use SavePageNow.\n",
    "\n",
    "One thing we can do to simplify even more is group the User-Agent families at face value based on whether they appear to be a browser or they appear to be a bot. Let's create a list of the obvious bots, this should cover a large number of the archiving activity at least on the days we're looking at. We will exclude Internet Archive bots."
   ]
  },
  {
   "cell_type": "code",
   "execution_count": 92,
   "metadata": {
    "scrolled": true
   },
   "outputs": [
    {
     "data": {
      "text/html": [
       "<div>\n",
       "<style scoped>\n",
       "    .dataframe tbody tr th:only-of-type {\n",
       "        vertical-align: middle;\n",
       "    }\n",
       "\n",
       "    .dataframe tbody tr th {\n",
       "        vertical-align: top;\n",
       "    }\n",
       "\n",
       "    .dataframe thead th {\n",
       "        text-align: right;\n",
       "    }\n",
       "</style>\n",
       "<table border=\"1\" class=\"dataframe\">\n",
       "  <thead>\n",
       "    <tr style=\"text-align: right;\">\n",
       "      <th></th>\n",
       "      <th>ua</th>\n",
       "      <th>bucket</th>\n",
       "      <th>year</th>\n",
       "      <th>requests</th>\n",
       "    </tr>\n",
       "  </thead>\n",
       "  <tbody>\n",
       "    <tr>\n",
       "      <th>0</th>\n",
       "      <td>Facebook</td>\n",
       "      <td>obvious bot</td>\n",
       "      <td>2013</td>\n",
       "      <td>NaN</td>\n",
       "    </tr>\n",
       "    <tr>\n",
       "      <th>1</th>\n",
       "      <td>Facebook</td>\n",
       "      <td>obvious bot</td>\n",
       "      <td>2014</td>\n",
       "      <td>554.0</td>\n",
       "    </tr>\n",
       "    <tr>\n",
       "      <th>2</th>\n",
       "      <td>Facebook</td>\n",
       "      <td>obvious bot</td>\n",
       "      <td>2015</td>\n",
       "      <td>2825.0</td>\n",
       "    </tr>\n",
       "    <tr>\n",
       "      <th>3</th>\n",
       "      <td>Facebook</td>\n",
       "      <td>obvious bot</td>\n",
       "      <td>2016</td>\n",
       "      <td>1638.0</td>\n",
       "    </tr>\n",
       "    <tr>\n",
       "      <th>4</th>\n",
       "      <td>Facebook</td>\n",
       "      <td>obvious bot</td>\n",
       "      <td>2017</td>\n",
       "      <td>5432.0</td>\n",
       "    </tr>\n",
       "    <tr>\n",
       "      <th>...</th>\n",
       "      <td>...</td>\n",
       "      <td>...</td>\n",
       "      <td>...</td>\n",
       "      <td>...</td>\n",
       "    </tr>\n",
       "    <tr>\n",
       "      <th>613</th>\n",
       "      <td>http://Anonymouse.org/ (Unix)</td>\n",
       "      <td>obvious bot</td>\n",
       "      <td>2014</td>\n",
       "      <td>NaN</td>\n",
       "    </tr>\n",
       "    <tr>\n",
       "      <th>614</th>\n",
       "      <td>http://Anonymouse.org/ (Unix)</td>\n",
       "      <td>obvious bot</td>\n",
       "      <td>2015</td>\n",
       "      <td>NaN</td>\n",
       "    </tr>\n",
       "    <tr>\n",
       "      <th>615</th>\n",
       "      <td>http://Anonymouse.org/ (Unix)</td>\n",
       "      <td>obvious bot</td>\n",
       "      <td>2016</td>\n",
       "      <td>2048.0</td>\n",
       "    </tr>\n",
       "    <tr>\n",
       "      <th>616</th>\n",
       "      <td>http://Anonymouse.org/ (Unix)</td>\n",
       "      <td>obvious bot</td>\n",
       "      <td>2017</td>\n",
       "      <td>2366.0</td>\n",
       "    </tr>\n",
       "    <tr>\n",
       "      <th>617</th>\n",
       "      <td>http://Anonymouse.org/ (Unix)</td>\n",
       "      <td>obvious bot</td>\n",
       "      <td>2018</td>\n",
       "      <td>1047.0</td>\n",
       "    </tr>\n",
       "  </tbody>\n",
       "</table>\n",
       "<p>618 rows × 4 columns</p>\n",
       "</div>"
      ],
      "text/plain": [
       "                                ua       bucket  year  requests\n",
       "0                         Facebook  obvious bot  2013       NaN\n",
       "1                         Facebook  obvious bot  2014     554.0\n",
       "2                         Facebook  obvious bot  2015    2825.0\n",
       "3                         Facebook  obvious bot  2016    1638.0\n",
       "4                         Facebook  obvious bot  2017    5432.0\n",
       "..                             ...          ...   ...       ...\n",
       "613  http://Anonymouse.org/ (Unix)  obvious bot  2014       NaN\n",
       "614  http://Anonymouse.org/ (Unix)  obvious bot  2015       NaN\n",
       "615  http://Anonymouse.org/ (Unix)  obvious bot  2016    2048.0\n",
       "616  http://Anonymouse.org/ (Unix)  obvious bot  2017    2366.0\n",
       "617  http://Anonymouse.org/ (Unix)  obvious bot  2018    1047.0\n",
       "\n",
       "[618 rows x 4 columns]"
      ]
     },
     "execution_count": 92,
     "metadata": {},
     "output_type": "execute_result"
    }
   ],
   "source": [
    "bots = [   \n",
    " 'AhrefsBot',\n",
    " 'Apache-HttpClient',\n",
    " 'AppEngine-Google',\n",
    " 'CheckHost (http://check-host.net/)',\n",
    " 'Coc Coc',\n",
    " 'FUCKING CLOUDFLARE!',\n",
    " 'Facebook',\n",
    " 'FacebookBot',\n",
    " 'HTTPClient/1.0 (2.3.4.1, ruby 1.9.3 (2014-05-14)) (via Wayback Save Page)',\n",
    " 'HeadlessChrome',\n",
    " 'Java',\n",
    " 'LinkArchiver twitter bot',\n",
    " 'OpenBSD ftp',\n",
    " 'PHP/5.4',\n",
    " 'Patterbot',\n",
    " 'PhantomJS',\n",
    " 'Pinterest',\n",
    " 'Python Requests',\n",
    " 'Python Wayback Backup API-Client',\n",
    " 'Python-urllib',\n",
    " 'Ruby',\n",
    " 'Ruby (via Wayback Save Page)',\n",
    " 'Scrapy',\n",
    " 'SeaMonkey',\n",
    " 'Source Rescuing Bot',\n",
    " 'TweetSave/0.1 (+http://tweetsave.com/)',\n",
    " 'URL Status Checker/0.1 (via Wayback Save Page)',\n",
    " 'UptimeRobot',\n",
    " 'Watchbot',\n",
    " 'WebKit2HTML/1.0',\n",
    " 'Wget',\n",
    " 'WordPress',\n",
    " 'archiver',\n",
    " 'curl',\n",
    " 'diffengine/0.0.42 (+https://github.com/docnow/diffengine)',\n",
    " 'diffengine/0.1.0 (+https://github.com/docnow/diffengine)',\n",
    " 'haskell-HTTP/4000.2.17 (via Wayback Save Page)',\n",
    " 'http://Anonymouse.org/ (Unix)',\n",
    " 'libwww-perl',\n",
    " 'mediawords bot',\n",
    " 'okhttp',\n",
    " 'sentry/8.18.0 (https://sentry.io)',\n",
    "]\n",
    "\n",
    "bot_ratios = {\"ua\": [], \"bucket\": [], \"year\": [], \"requests\": []}\n",
    "\n",
    "for ua in top_50_uas:\n",
    "    if ua in bots:\n",
    "        bucket = \"obvious bot\"\n",
    "    else:\n",
    "        bucket = \"browser\"\n",
    "    for year in range(2013, 2019):\n",
    "        y = str(year)\n",
    "        bot_ratios['ua'].append(ua)\n",
    "        bot_ratios['bucket'].append(bucket)\n",
    "        bot_ratios['year'].append(y)\n",
    "        bot_ratios['requests'].append(ua_fams.loc[ua][y])\n",
    "\n",
    "bot_ratios = pandas.DataFrame(bot_ratios)\n",
    "bot_ratios"
   ]
  },
  {
   "cell_type": "code",
   "execution_count": 93,
   "metadata": {},
   "outputs": [
    {
     "data": {
      "text/html": [
       "\n",
       "<div id=\"altair-viz-293ed2be436b45f7976a7a14d8149d76\"></div>\n",
       "<script type=\"text/javascript\">\n",
       "  (function(spec, embedOpt){\n",
       "    let outputDiv = document.currentScript.previousElementSibling;\n",
       "    if (outputDiv.id !== \"altair-viz-293ed2be436b45f7976a7a14d8149d76\") {\n",
       "      outputDiv = document.getElementById(\"altair-viz-293ed2be436b45f7976a7a14d8149d76\");\n",
       "    }\n",
       "    const paths = {\n",
       "      \"vega\": \"https://cdn.jsdelivr.net/npm//vega@5?noext\",\n",
       "      \"vega-lib\": \"https://cdn.jsdelivr.net/npm//vega-lib?noext\",\n",
       "      \"vega-lite\": \"https://cdn.jsdelivr.net/npm//vega-lite@4.8.1?noext\",\n",
       "      \"vega-embed\": \"https://cdn.jsdelivr.net/npm//vega-embed@6?noext\",\n",
       "    };\n",
       "\n",
       "    function loadScript(lib) {\n",
       "      return new Promise(function(resolve, reject) {\n",
       "        var s = document.createElement('script');\n",
       "        s.src = paths[lib];\n",
       "        s.async = true;\n",
       "        s.onload = () => resolve(paths[lib]);\n",
       "        s.onerror = () => reject(`Error loading script: ${paths[lib]}`);\n",
       "        document.getElementsByTagName(\"head\")[0].appendChild(s);\n",
       "      });\n",
       "    }\n",
       "\n",
       "    function showError(err) {\n",
       "      outputDiv.innerHTML = `<div class=\"error\" style=\"color:red;\">${err}</div>`;\n",
       "      throw err;\n",
       "    }\n",
       "\n",
       "    function displayChart(vegaEmbed) {\n",
       "      vegaEmbed(outputDiv, spec, embedOpt)\n",
       "        .catch(err => showError(`Javascript Error: ${err.message}<br>This usually means there's a typo in your chart specification. See the javascript console for the full traceback.`));\n",
       "    }\n",
       "\n",
       "    if(typeof define === \"function\" && define.amd) {\n",
       "      requirejs.config({paths});\n",
       "      require([\"vega-embed\"], displayChart, err => showError(`Error loading script: ${err.message}`));\n",
       "    } else if (typeof vegaEmbed === \"function\") {\n",
       "      displayChart(vegaEmbed);\n",
       "    } else {\n",
       "      loadScript(\"vega\")\n",
       "        .then(() => loadScript(\"vega-lite\"))\n",
       "        .then(() => loadScript(\"vega-embed\"))\n",
       "        .catch(showError)\n",
       "        .then(() => displayChart(vegaEmbed));\n",
       "    }\n",
       "  })({\"config\": {\"view\": {\"continuousWidth\": 400, \"continuousHeight\": 300}, \"axis\": {\"labelFontSize\": 20, \"titleFontSize\": 20}, \"legend\": {\"labelFontSize\": 20, \"titleFontSize\": 20}, \"title\": {\"fontSize\": 20}}, \"data\": {\"name\": \"data-b8e4894402fb940e9de2bc464c0aa353\"}, \"mark\": {\"type\": \"bar\", \"size\": 50}, \"encoding\": {\"color\": {\"type\": \"nominal\", \"field\": \"bucket\", \"scale\": {\"scheme\": \"tableau20\"}, \"title\": \"type\"}, \"x\": {\"type\": \"quantitative\", \"aggregate\": \"sum\", \"field\": \"requests\", \"title\": \"Archive Requests\"}, \"y\": {\"type\": \"nominal\", \"field\": \"year\", \"title\": \"One Day in the Year\"}}, \"height\": 500, \"title\": \"Obvious Bots vs Browser SPN Requests\", \"width\": 1200, \"$schema\": \"https://vega.github.io/schema/vega-lite/v4.8.1.json\", \"datasets\": {\"data-b8e4894402fb940e9de2bc464c0aa353\": [{\"ua\": \"Facebook\", \"bucket\": \"obvious bot\", \"year\": \"2013\", \"requests\": null}, {\"ua\": \"Facebook\", \"bucket\": \"obvious bot\", \"year\": \"2014\", \"requests\": 554.0}, {\"ua\": \"Facebook\", \"bucket\": \"obvious bot\", \"year\": \"2015\", \"requests\": 2825.0}, {\"ua\": \"Facebook\", \"bucket\": \"obvious bot\", \"year\": \"2016\", \"requests\": 1638.0}, {\"ua\": \"Facebook\", \"bucket\": \"obvious bot\", \"year\": \"2017\", \"requests\": 5432.0}, {\"ua\": \"Facebook\", \"bucket\": \"obvious bot\", \"year\": \"2018\", \"requests\": 39831.0}, {\"ua\": \"URL Status Checker/0.1 (via Wayback Save Page)\", \"bucket\": \"obvious bot\", \"year\": \"2013\", \"requests\": null}, {\"ua\": \"URL Status Checker/0.1 (via Wayback Save Page)\", \"bucket\": \"obvious bot\", \"year\": \"2014\", \"requests\": 1178.0}, {\"ua\": \"URL Status Checker/0.1 (via Wayback Save Page)\", \"bucket\": \"obvious bot\", \"year\": \"2015\", \"requests\": 1102.0}, {\"ua\": \"URL Status Checker/0.1 (via Wayback Save Page)\", \"bucket\": \"obvious bot\", \"year\": \"2016\", \"requests\": null}, {\"ua\": \"URL Status Checker/0.1 (via Wayback Save Page)\", \"bucket\": \"obvious bot\", \"year\": \"2017\", \"requests\": null}, {\"ua\": \"URL Status Checker/0.1 (via Wayback Save Page)\", \"bucket\": \"obvious bot\", \"year\": \"2018\", \"requests\": null}, {\"ua\": \"AhrefsBot\", \"bucket\": \"obvious bot\", \"year\": \"2013\", \"requests\": null}, {\"ua\": \"AhrefsBot\", \"bucket\": \"obvious bot\", \"year\": \"2014\", \"requests\": null}, {\"ua\": \"AhrefsBot\", \"bucket\": \"obvious bot\", \"year\": \"2015\", \"requests\": null}, {\"ua\": \"AhrefsBot\", \"bucket\": \"obvious bot\", \"year\": \"2016\", \"requests\": null}, {\"ua\": \"AhrefsBot\", \"bucket\": \"obvious bot\", \"year\": \"2017\", \"requests\": 967.0}, {\"ua\": \"AhrefsBot\", \"bucket\": \"obvious bot\", \"year\": \"2018\", \"requests\": 3299.0}, {\"ua\": \"Yandex Browser\", \"bucket\": \"browser\", \"year\": \"2013\", \"requests\": null}, {\"ua\": \"Yandex Browser\", \"bucket\": \"browser\", \"year\": \"2014\", \"requests\": 3780.0}, {\"ua\": \"Yandex Browser\", \"bucket\": \"browser\", \"year\": \"2015\", \"requests\": 7805.0}, {\"ua\": \"Yandex Browser\", \"bucket\": \"browser\", \"year\": \"2016\", \"requests\": 10739.0}, {\"ua\": \"Yandex Browser\", \"bucket\": \"browser\", \"year\": \"2017\", \"requests\": 13771.0}, {\"ua\": \"Yandex Browser\", \"bucket\": \"browser\", \"year\": \"2018\", \"requests\": 15339.0}, {\"ua\": \"Iron\", \"bucket\": \"browser\", \"year\": \"2013\", \"requests\": null}, {\"ua\": \"Iron\", \"bucket\": \"browser\", \"year\": \"2014\", \"requests\": 1872.0}, {\"ua\": \"Iron\", \"bucket\": \"browser\", \"year\": \"2015\", \"requests\": 1807.0}, {\"ua\": \"Iron\", \"bucket\": \"browser\", \"year\": \"2016\", \"requests\": 2218.0}, {\"ua\": \"Iron\", \"bucket\": \"browser\", \"year\": \"2017\", \"requests\": 2074.0}, {\"ua\": \"Iron\", \"bucket\": \"browser\", \"year\": \"2018\", \"requests\": 5553.0}, {\"ua\": \"Safari\", \"bucket\": \"browser\", \"year\": \"2013\", \"requests\": null}, {\"ua\": \"Safari\", \"bucket\": \"browser\", \"year\": \"2014\", \"requests\": 61123.0}, {\"ua\": \"Safari\", \"bucket\": \"browser\", \"year\": \"2015\", \"requests\": 77051.0}, {\"ua\": \"Safari\", \"bucket\": \"browser\", \"year\": \"2016\", \"requests\": 98126.0}, {\"ua\": \"Safari\", \"bucket\": \"browser\", \"year\": \"2017\", \"requests\": 59622.0}, {\"ua\": \"Safari\", \"bucket\": \"browser\", \"year\": \"2018\", \"requests\": 141217.0}, {\"ua\": \"Hatena Antenna/0.5 (http://a.hatena.ne.jp/help)\", \"bucket\": \"browser\", \"year\": \"2013\", \"requests\": null}, {\"ua\": \"Hatena Antenna/0.5 (http://a.hatena.ne.jp/help)\", \"bucket\": \"browser\", \"year\": \"2014\", \"requests\": null}, {\"ua\": \"Hatena Antenna/0.5 (http://a.hatena.ne.jp/help)\", \"bucket\": \"browser\", \"year\": \"2015\", \"requests\": null}, {\"ua\": \"Hatena Antenna/0.5 (http://a.hatena.ne.jp/help)\", \"bucket\": \"browser\", \"year\": \"2016\", \"requests\": 7699.0}, {\"ua\": \"Hatena Antenna/0.5 (http://a.hatena.ne.jp/help)\", \"bucket\": \"browser\", \"year\": \"2017\", \"requests\": 3825.0}, {\"ua\": \"Hatena Antenna/0.5 (http://a.hatena.ne.jp/help)\", \"bucket\": \"browser\", \"year\": \"2018\", \"requests\": 1694.0}, {\"ua\": \"Firefox 40.1\", \"bucket\": \"browser\", \"year\": \"2013\", \"requests\": null}, {\"ua\": \"Firefox 40.1\", \"bucket\": \"browser\", \"year\": \"2014\", \"requests\": null}, {\"ua\": \"Firefox 40.1\", \"bucket\": \"browser\", \"year\": \"2015\", \"requests\": null}, {\"ua\": \"Firefox 40.1\", \"bucket\": \"browser\", \"year\": \"2016\", \"requests\": null}, {\"ua\": \"Firefox 40.1\", \"bucket\": \"browser\", \"year\": \"2017\", \"requests\": 3916.0}, {\"ua\": \"Firefox 40.1\", \"bucket\": \"browser\", \"year\": \"2018\", \"requests\": 1297.0}, {\"ua\": \"TweetSave/0.1 (+http://tweetsave.com/)\", \"bucket\": \"obvious bot\", \"year\": \"2013\", \"requests\": null}, {\"ua\": \"TweetSave/0.1 (+http://tweetsave.com/)\", \"bucket\": \"obvious bot\", \"year\": \"2014\", \"requests\": null}, {\"ua\": \"TweetSave/0.1 (+http://tweetsave.com/)\", \"bucket\": \"obvious bot\", \"year\": \"2015\", \"requests\": null}, {\"ua\": \"TweetSave/0.1 (+http://tweetsave.com/)\", \"bucket\": \"obvious bot\", \"year\": \"2016\", \"requests\": 2545.0}, {\"ua\": \"TweetSave/0.1 (+http://tweetsave.com/)\", \"bucket\": \"obvious bot\", \"year\": \"2017\", \"requests\": 15.0}, {\"ua\": \"TweetSave/0.1 (+http://tweetsave.com/)\", \"bucket\": \"obvious bot\", \"year\": \"2018\", \"requests\": 2558.0}, {\"ua\": \"Twitter\", \"bucket\": \"browser\", \"year\": \"2013\", \"requests\": null}, {\"ua\": \"Twitter\", \"bucket\": \"browser\", \"year\": \"2014\", \"requests\": 149.0}, {\"ua\": \"Twitter\", \"bucket\": \"browser\", \"year\": \"2015\", \"requests\": 1016.0}, {\"ua\": \"Twitter\", \"bucket\": \"browser\", \"year\": \"2016\", \"requests\": 305.0}, {\"ua\": \"Twitter\", \"bucket\": \"browser\", \"year\": \"2017\", \"requests\": 1221.0}, {\"ua\": \"Twitter\", \"bucket\": \"browser\", \"year\": \"2018\", \"requests\": 537.0}, {\"ua\": \"waybackmachinedownloader\", \"bucket\": \"browser\", \"year\": \"2013\", \"requests\": null}, {\"ua\": \"waybackmachinedownloader\", \"bucket\": \"browser\", \"year\": \"2014\", \"requests\": null}, {\"ua\": \"waybackmachinedownloader\", \"bucket\": \"browser\", \"year\": \"2015\", \"requests\": null}, {\"ua\": \"waybackmachinedownloader\", \"bucket\": \"browser\", \"year\": \"2016\", \"requests\": 967.0}, {\"ua\": \"waybackmachinedownloader\", \"bucket\": \"browser\", \"year\": \"2017\", \"requests\": 657.0}, {\"ua\": \"waybackmachinedownloader\", \"bucket\": \"browser\", \"year\": \"2018\", \"requests\": 16960.0}, {\"ua\": \"archiver\", \"bucket\": \"obvious bot\", \"year\": \"2013\", \"requests\": null}, {\"ua\": \"archiver\", \"bucket\": \"obvious bot\", \"year\": \"2014\", \"requests\": null}, {\"ua\": \"archiver\", \"bucket\": \"obvious bot\", \"year\": \"2015\", \"requests\": null}, {\"ua\": \"archiver\", \"bucket\": \"obvious bot\", \"year\": \"2016\", \"requests\": null}, {\"ua\": \"archiver\", \"bucket\": \"obvious bot\", \"year\": \"2017\", \"requests\": 7.0}, {\"ua\": \"archiver\", \"bucket\": \"obvious bot\", \"year\": \"2018\", \"requests\": 9523.0}, {\"ua\": \"Sogou Explorer\", \"bucket\": \"browser\", \"year\": \"2013\", \"requests\": null}, {\"ua\": \"Sogou Explorer\", \"bucket\": \"browser\", \"year\": \"2014\", \"requests\": 1543.0}, {\"ua\": \"Sogou Explorer\", \"bucket\": \"browser\", \"year\": \"2015\", \"requests\": 27.0}, {\"ua\": \"Sogou Explorer\", \"bucket\": \"browser\", \"year\": \"2016\", \"requests\": 403.0}, {\"ua\": \"Sogou Explorer\", \"bucket\": \"browser\", \"year\": \"2017\", \"requests\": 261.0}, {\"ua\": \"Sogou Explorer\", \"bucket\": \"browser\", \"year\": \"2018\", \"requests\": 754.0}, {\"ua\": \"Google\", \"bucket\": \"browser\", \"year\": \"2013\", \"requests\": null}, {\"ua\": \"Google\", \"bucket\": \"browser\", \"year\": \"2014\", \"requests\": 1202.0}, {\"ua\": \"Google\", \"bucket\": \"browser\", \"year\": \"2015\", \"requests\": 1200.0}, {\"ua\": \"Google\", \"bucket\": \"browser\", \"year\": \"2016\", \"requests\": 1475.0}, {\"ua\": \"Google\", \"bucket\": \"browser\", \"year\": \"2017\", \"requests\": 1181.0}, {\"ua\": \"Google\", \"bucket\": \"browser\", \"year\": \"2018\", \"requests\": 11819.0}, {\"ua\": \"Ruby\", \"bucket\": \"obvious bot\", \"year\": \"2013\", \"requests\": null}, {\"ua\": \"Ruby\", \"bucket\": \"obvious bot\", \"year\": \"2014\", \"requests\": null}, {\"ua\": \"Ruby\", \"bucket\": \"obvious bot\", \"year\": \"2015\", \"requests\": null}, {\"ua\": \"Ruby\", \"bucket\": \"obvious bot\", \"year\": \"2016\", \"requests\": 11182.0}, {\"ua\": \"Ruby\", \"bucket\": \"obvious bot\", \"year\": \"2017\", \"requests\": 19416.0}, {\"ua\": \"Ruby\", \"bucket\": \"obvious bot\", \"year\": \"2018\", \"requests\": 1544.0}, {\"ua\": \"sentry/8.18.0 (https://sentry.io)\", \"bucket\": \"obvious bot\", \"year\": \"2013\", \"requests\": null}, {\"ua\": \"sentry/8.18.0 (https://sentry.io)\", \"bucket\": \"obvious bot\", \"year\": \"2014\", \"requests\": null}, {\"ua\": \"sentry/8.18.0 (https://sentry.io)\", \"bucket\": \"obvious bot\", \"year\": \"2015\", \"requests\": null}, {\"ua\": \"sentry/8.18.0 (https://sentry.io)\", \"bucket\": \"obvious bot\", \"year\": \"2016\", \"requests\": null}, {\"ua\": \"sentry/8.18.0 (https://sentry.io)\", \"bucket\": \"obvious bot\", \"year\": \"2017\", \"requests\": 4310.0}, {\"ua\": \"sentry/8.18.0 (https://sentry.io)\", \"bucket\": \"obvious bot\", \"year\": \"2018\", \"requests\": 507.0}, {\"ua\": \"NetFront NX\", \"bucket\": \"browser\", \"year\": \"2013\", \"requests\": null}, {\"ua\": \"NetFront NX\", \"bucket\": \"browser\", \"year\": \"2014\", \"requests\": 1013.0}, {\"ua\": \"NetFront NX\", \"bucket\": \"browser\", \"year\": \"2015\", \"requests\": 724.0}, {\"ua\": \"NetFront NX\", \"bucket\": \"browser\", \"year\": \"2016\", \"requests\": 1348.0}, {\"ua\": \"NetFront NX\", \"bucket\": \"browser\", \"year\": \"2017\", \"requests\": 1504.0}, {\"ua\": \"NetFront NX\", \"bucket\": \"browser\", \"year\": \"2018\", \"requests\": 837.0}, {\"ua\": \"UptimeRobot\", \"bucket\": \"obvious bot\", \"year\": \"2013\", \"requests\": null}, {\"ua\": \"UptimeRobot\", \"bucket\": \"obvious bot\", \"year\": \"2014\", \"requests\": null}, {\"ua\": \"UptimeRobot\", \"bucket\": \"obvious bot\", \"year\": \"2015\", \"requests\": 50361.0}, {\"ua\": \"UptimeRobot\", \"bucket\": \"obvious bot\", \"year\": \"2016\", \"requests\": 43813.0}, {\"ua\": \"UptimeRobot\", \"bucket\": \"obvious bot\", \"year\": \"2017\", \"requests\": 405.0}, {\"ua\": \"UptimeRobot\", \"bucket\": \"obvious bot\", \"year\": \"2018\", \"requests\": 484.0}, {\"ua\": \"Mozilla/5.0 (Linux i686)\", \"bucket\": \"browser\", \"year\": \"2013\", \"requests\": null}, {\"ua\": \"Mozilla/5.0 (Linux i686)\", \"bucket\": \"browser\", \"year\": \"2014\", \"requests\": null}, {\"ua\": \"Mozilla/5.0 (Linux i686)\", \"bucket\": \"browser\", \"year\": \"2015\", \"requests\": null}, {\"ua\": \"Mozilla/5.0 (Linux i686)\", \"bucket\": \"browser\", \"year\": \"2016\", \"requests\": 11547.0}, {\"ua\": \"Mozilla/5.0 (Linux i686)\", \"bucket\": \"browser\", \"year\": \"2017\", \"requests\": null}, {\"ua\": \"Mozilla/5.0 (Linux i686)\", \"bucket\": \"browser\", \"year\": \"2018\", \"requests\": null}, {\"ua\": \"Mozilla/5.0\", \"bucket\": \"browser\", \"year\": \"2013\", \"requests\": null}, {\"ua\": \"Mozilla/5.0\", \"bucket\": \"browser\", \"year\": \"2014\", \"requests\": null}, {\"ua\": \"Mozilla/5.0\", \"bucket\": \"browser\", \"year\": \"2015\", \"requests\": null}, {\"ua\": \"Mozilla/5.0\", \"bucket\": \"browser\", \"year\": \"2016\", \"requests\": 9005.0}, {\"ua\": \"Mozilla/5.0\", \"bucket\": \"browser\", \"year\": \"2017\", \"requests\": 105.0}, {\"ua\": \"Mozilla/5.0\", \"bucket\": \"browser\", \"year\": \"2018\", \"requests\": 217.0}, {\"ua\": \"BingPreview\", \"bucket\": \"browser\", \"year\": \"2013\", \"requests\": null}, {\"ua\": \"BingPreview\", \"bucket\": \"browser\", \"year\": \"2014\", \"requests\": 41.0}, {\"ua\": \"BingPreview\", \"bucket\": \"browser\", \"year\": \"2015\", \"requests\": 28.0}, {\"ua\": \"BingPreview\", \"bucket\": \"browser\", \"year\": \"2016\", \"requests\": 125.0}, {\"ua\": \"BingPreview\", \"bucket\": \"browser\", \"year\": \"2017\", \"requests\": 2595.0}, {\"ua\": \"BingPreview\", \"bucket\": \"browser\", \"year\": \"2018\", \"requests\": 103098.0}, {\"ua\": \"Apple Mail\", \"bucket\": \"browser\", \"year\": \"2013\", \"requests\": null}, {\"ua\": \"Apple Mail\", \"bucket\": \"browser\", \"year\": \"2014\", \"requests\": 504.0}, {\"ua\": \"Apple Mail\", \"bucket\": \"browser\", \"year\": \"2015\", \"requests\": 150.0}, {\"ua\": \"Apple Mail\", \"bucket\": \"browser\", \"year\": \"2016\", \"requests\": 124.0}, {\"ua\": \"Apple Mail\", \"bucket\": \"browser\", \"year\": \"2017\", \"requests\": 89.0}, {\"ua\": \"Apple Mail\", \"bucket\": \"browser\", \"year\": \"2018\", \"requests\": 1826.0}, {\"ua\": \"Watchbot monitoring robot\", \"bucket\": \"browser\", \"year\": \"2013\", \"requests\": null}, {\"ua\": \"Watchbot monitoring robot\", \"bucket\": \"browser\", \"year\": \"2014\", \"requests\": null}, {\"ua\": \"Watchbot monitoring robot\", \"bucket\": \"browser\", \"year\": \"2015\", \"requests\": null}, {\"ua\": \"Watchbot monitoring robot\", \"bucket\": \"browser\", \"year\": \"2016\", \"requests\": 1996.0}, {\"ua\": \"Watchbot monitoring robot\", \"bucket\": \"browser\", \"year\": \"2017\", \"requests\": 322.0}, {\"ua\": \"Watchbot monitoring robot\", \"bucket\": \"browser\", \"year\": \"2018\", \"requests\": 454.0}, {\"ua\": \"Hatena Antenna/0.5 (http://a.hatena.ne.jp/help) (via Wayback Save Page)\", \"bucket\": \"browser\", \"year\": \"2013\", \"requests\": null}, {\"ua\": \"Hatena Antenna/0.5 (http://a.hatena.ne.jp/help) (via Wayback Save Page)\", \"bucket\": \"browser\", \"year\": \"2014\", \"requests\": null}, {\"ua\": \"Hatena Antenna/0.5 (http://a.hatena.ne.jp/help) (via Wayback Save Page)\", \"bucket\": \"browser\", \"year\": \"2015\", \"requests\": 4122.0}, {\"ua\": \"Hatena Antenna/0.5 (http://a.hatena.ne.jp/help) (via Wayback Save Page)\", \"bucket\": \"browser\", \"year\": \"2016\", \"requests\": null}, {\"ua\": \"Hatena Antenna/0.5 (http://a.hatena.ne.jp/help) (via Wayback Save Page)\", \"bucket\": \"browser\", \"year\": \"2017\", \"requests\": null}, {\"ua\": \"Hatena Antenna/0.5 (http://a.hatena.ne.jp/help) (via Wayback Save Page)\", \"bucket\": \"browser\", \"year\": \"2018\", \"requests\": null}, {\"ua\": \"Maxthon\", \"bucket\": \"browser\", \"year\": \"2013\", \"requests\": null}, {\"ua\": \"Maxthon\", \"bucket\": \"browser\", \"year\": \"2014\", \"requests\": 733.0}, {\"ua\": \"Maxthon\", \"bucket\": \"browser\", \"year\": \"2015\", \"requests\": 2530.0}, {\"ua\": \"Maxthon\", \"bucket\": \"browser\", \"year\": \"2016\", \"requests\": 2562.0}, {\"ua\": \"Maxthon\", \"bucket\": \"browser\", \"year\": \"2017\", \"requests\": 246.0}, {\"ua\": \"Maxthon\", \"bucket\": \"browser\", \"year\": \"2018\", \"requests\": 585.0}, {\"ua\": \"Firefox 36.0\", \"bucket\": \"browser\", \"year\": \"2013\", \"requests\": null}, {\"ua\": \"Firefox 36.0\", \"bucket\": \"browser\", \"year\": \"2014\", \"requests\": null}, {\"ua\": \"Firefox 36.0\", \"bucket\": \"browser\", \"year\": \"2015\", \"requests\": null}, {\"ua\": \"Firefox 36.0\", \"bucket\": \"browser\", \"year\": \"2016\", \"requests\": null}, {\"ua\": \"Firefox 36.0\", \"bucket\": \"browser\", \"year\": \"2017\", \"requests\": 4051.0}, {\"ua\": \"Firefox 36.0\", \"bucket\": \"browser\", \"year\": \"2018\", \"requests\": 1275.0}, {\"ua\": \"mediawords bot\", \"bucket\": \"obvious bot\", \"year\": \"2013\", \"requests\": null}, {\"ua\": \"mediawords bot\", \"bucket\": \"obvious bot\", \"year\": \"2014\", \"requests\": null}, {\"ua\": \"mediawords bot\", \"bucket\": \"obvious bot\", \"year\": \"2015\", \"requests\": null}, {\"ua\": \"mediawords bot\", \"bucket\": \"obvious bot\", \"year\": \"2016\", \"requests\": null}, {\"ua\": \"mediawords bot\", \"bucket\": \"obvious bot\", \"year\": \"2017\", \"requests\": null}, {\"ua\": \"mediawords bot\", \"bucket\": \"obvious bot\", \"year\": \"2018\", \"requests\": 4629.0}, {\"ua\": \"Dragon\", \"bucket\": \"browser\", \"year\": \"2013\", \"requests\": null}, {\"ua\": \"Dragon\", \"bucket\": \"browser\", \"year\": \"2014\", \"requests\": 1083.0}, {\"ua\": \"Dragon\", \"bucket\": \"browser\", \"year\": \"2015\", \"requests\": 488.0}, {\"ua\": \"Dragon\", \"bucket\": \"browser\", \"year\": \"2016\", \"requests\": 513.0}, {\"ua\": \"Dragon\", \"bucket\": \"browser\", \"year\": \"2017\", \"requests\": 1258.0}, {\"ua\": \"Dragon\", \"bucket\": \"browser\", \"year\": \"2018\", \"requests\": 934.0}, {\"ua\": \"archive.org_bot\", \"bucket\": \"browser\", \"year\": \"2013\", \"requests\": 1238598.0}, {\"ua\": \"archive.org_bot\", \"bucket\": \"browser\", \"year\": \"2014\", \"requests\": 56592.0}, {\"ua\": \"archive.org_bot\", \"bucket\": \"browser\", \"year\": \"2015\", \"requests\": 21919.0}, {\"ua\": \"archive.org_bot\", \"bucket\": \"browser\", \"year\": \"2016\", \"requests\": 1211109.0}, {\"ua\": \"archive.org_bot\", \"bucket\": \"browser\", \"year\": \"2017\", \"requests\": 6633606.0}, {\"ua\": \"archive.org_bot\", \"bucket\": \"browser\", \"year\": \"2018\", \"requests\": 1993950.0}, {\"ua\": \"Samsung Internet\", \"bucket\": \"browser\", \"year\": \"2013\", \"requests\": null}, {\"ua\": \"Samsung Internet\", \"bucket\": \"browser\", \"year\": \"2014\", \"requests\": null}, {\"ua\": \"Samsung Internet\", \"bucket\": \"browser\", \"year\": \"2015\", \"requests\": 4835.0}, {\"ua\": \"Samsung Internet\", \"bucket\": \"browser\", \"year\": \"2016\", \"requests\": 6411.0}, {\"ua\": \"Samsung Internet\", \"bucket\": \"browser\", \"year\": \"2017\", \"requests\": 6518.0}, {\"ua\": \"Samsung Internet\", \"bucket\": \"browser\", \"year\": \"2018\", \"requests\": 58346.0}, {\"ua\": \"Python Requests\", \"bucket\": \"obvious bot\", \"year\": \"2013\", \"requests\": null}, {\"ua\": \"Python Requests\", \"bucket\": \"obvious bot\", \"year\": \"2014\", \"requests\": 79.0}, {\"ua\": \"Python Requests\", \"bucket\": \"obvious bot\", \"year\": \"2015\", \"requests\": 827.0}, {\"ua\": \"Python Requests\", \"bucket\": \"obvious bot\", \"year\": \"2016\", \"requests\": 26603.0}, {\"ua\": \"Python Requests\", \"bucket\": \"obvious bot\", \"year\": \"2017\", \"requests\": 92122.0}, {\"ua\": \"Python Requests\", \"bucket\": \"obvious bot\", \"year\": \"2018\", \"requests\": 23673.0}, {\"ua\": \"Edge Mobile\", \"bucket\": \"browser\", \"year\": \"2013\", \"requests\": null}, {\"ua\": \"Edge Mobile\", \"bucket\": \"browser\", \"year\": \"2014\", \"requests\": null}, {\"ua\": \"Edge Mobile\", \"bucket\": \"browser\", \"year\": \"2015\", \"requests\": 58.0}, {\"ua\": \"Edge Mobile\", \"bucket\": \"browser\", \"year\": \"2016\", \"requests\": 743.0}, {\"ua\": \"Edge Mobile\", \"bucket\": \"browser\", \"year\": \"2017\", \"requests\": 1213.0}, {\"ua\": \"Edge Mobile\", \"bucket\": \"browser\", \"year\": \"2018\", \"requests\": 3145.0}, {\"ua\": \"Pinterest\", \"bucket\": \"obvious bot\", \"year\": \"2013\", \"requests\": null}, {\"ua\": \"Pinterest\", \"bucket\": \"obvious bot\", \"year\": \"2014\", \"requests\": 561.0}, {\"ua\": \"Pinterest\", \"bucket\": \"obvious bot\", \"year\": \"2015\", \"requests\": 2534.0}, {\"ua\": \"Pinterest\", \"bucket\": \"obvious bot\", \"year\": \"2016\", \"requests\": 2722.0}, {\"ua\": \"Pinterest\", \"bucket\": \"obvious bot\", \"year\": \"2017\", \"requests\": 1496.0}, {\"ua\": \"Pinterest\", \"bucket\": \"obvious bot\", \"year\": \"2018\", \"requests\": 5661.0}, {\"ua\": \"Chrome Mobile iOS\", \"bucket\": \"browser\", \"year\": \"2013\", \"requests\": null}, {\"ua\": \"Chrome Mobile iOS\", \"bucket\": \"browser\", \"year\": \"2014\", \"requests\": 7597.0}, {\"ua\": \"Chrome Mobile iOS\", \"bucket\": \"browser\", \"year\": \"2015\", \"requests\": 10385.0}, {\"ua\": \"Chrome Mobile iOS\", \"bucket\": \"browser\", \"year\": \"2016\", \"requests\": 5740.0}, {\"ua\": \"Chrome Mobile iOS\", \"bucket\": \"browser\", \"year\": \"2017\", \"requests\": 7294.0}, {\"ua\": \"Chrome Mobile iOS\", \"bucket\": \"browser\", \"year\": \"2018\", \"requests\": 24811.0}, {\"ua\": \"Sleipnir\", \"bucket\": \"browser\", \"year\": \"2013\", \"requests\": null}, {\"ua\": \"Sleipnir\", \"bucket\": \"browser\", \"year\": \"2014\", \"requests\": 1373.0}, {\"ua\": \"Sleipnir\", \"bucket\": \"browser\", \"year\": \"2015\", \"requests\": 941.0}, {\"ua\": \"Sleipnir\", \"bucket\": \"browser\", \"year\": \"2016\", \"requests\": 928.0}, {\"ua\": \"Sleipnir\", \"bucket\": \"browser\", \"year\": \"2017\", \"requests\": 546.0}, {\"ua\": \"Sleipnir\", \"bucket\": \"browser\", \"year\": \"2018\", \"requests\": 770.0}, {\"ua\": \"Mobile Safari\", \"bucket\": \"browser\", \"year\": \"2013\", \"requests\": null}, {\"ua\": \"Mobile Safari\", \"bucket\": \"browser\", \"year\": \"2014\", \"requests\": 50506.0}, {\"ua\": \"Mobile Safari\", \"bucket\": \"browser\", \"year\": \"2015\", \"requests\": 60230.0}, {\"ua\": \"Mobile Safari\", \"bucket\": \"browser\", \"year\": \"2016\", \"requests\": 61321.0}, {\"ua\": \"Mobile Safari\", \"bucket\": \"browser\", \"year\": \"2017\", \"requests\": 53474.0}, {\"ua\": \"Mobile Safari\", \"bucket\": \"browser\", \"year\": \"2018\", \"requests\": 229480.0}, {\"ua\": \"FUCKING CLOUDFLARE!\", \"bucket\": \"obvious bot\", \"year\": \"2013\", \"requests\": null}, {\"ua\": \"FUCKING CLOUDFLARE!\", \"bucket\": \"obvious bot\", \"year\": \"2014\", \"requests\": null}, {\"ua\": \"FUCKING CLOUDFLARE!\", \"bucket\": \"obvious bot\", \"year\": \"2015\", \"requests\": null}, {\"ua\": \"FUCKING CLOUDFLARE!\", \"bucket\": \"obvious bot\", \"year\": \"2016\", \"requests\": null}, {\"ua\": \"FUCKING CLOUDFLARE!\", \"bucket\": \"obvious bot\", \"year\": \"2017\", \"requests\": null}, {\"ua\": \"FUCKING CLOUDFLARE!\", \"bucket\": \"obvious bot\", \"year\": \"2018\", \"requests\": 15216.0}, {\"ua\": \"Chrome Mobile WebView\", \"bucket\": \"browser\", \"year\": \"2013\", \"requests\": null}, {\"ua\": \"Chrome Mobile WebView\", \"bucket\": \"browser\", \"year\": \"2014\", \"requests\": 6427.0}, {\"ua\": \"Chrome Mobile WebView\", \"bucket\": \"browser\", \"year\": \"2015\", \"requests\": 15630.0}, {\"ua\": \"Chrome Mobile WebView\", \"bucket\": \"browser\", \"year\": \"2016\", \"requests\": 12575.0}, {\"ua\": \"Chrome Mobile WebView\", \"bucket\": \"browser\", \"year\": \"2017\", \"requests\": 14110.0}, {\"ua\": \"Chrome Mobile WebView\", \"bucket\": \"browser\", \"year\": \"2018\", \"requests\": 129243.0}, {\"ua\": \"Edge\", \"bucket\": \"browser\", \"year\": \"2013\", \"requests\": null}, {\"ua\": \"Edge\", \"bucket\": \"browser\", \"year\": \"2014\", \"requests\": null}, {\"ua\": \"Edge\", \"bucket\": \"browser\", \"year\": \"2015\", \"requests\": 18052.0}, {\"ua\": \"Edge\", \"bucket\": \"browser\", \"year\": \"2016\", \"requests\": 30179.0}, {\"ua\": \"Edge\", \"bucket\": \"browser\", \"year\": \"2017\", \"requests\": 27273.0}, {\"ua\": \"Edge\", \"bucket\": \"browser\", \"year\": \"2018\", \"requests\": 70932.0}, {\"ua\": \"Puffin\", \"bucket\": \"browser\", \"year\": \"2013\", \"requests\": null}, {\"ua\": \"Puffin\", \"bucket\": \"browser\", \"year\": \"2014\", \"requests\": 769.0}, {\"ua\": \"Puffin\", \"bucket\": \"browser\", \"year\": \"2015\", \"requests\": 1783.0}, {\"ua\": \"Puffin\", \"bucket\": \"browser\", \"year\": \"2016\", \"requests\": 1470.0}, {\"ua\": \"Puffin\", \"bucket\": \"browser\", \"year\": \"2017\", \"requests\": 1807.0}, {\"ua\": \"Puffin\", \"bucket\": \"browser\", \"year\": \"2018\", \"requests\": 2624.0}, {\"ua\": \"CheckHost (http://check-host.net/)\", \"bucket\": \"obvious bot\", \"year\": \"2013\", \"requests\": null}, {\"ua\": \"CheckHost (http://check-host.net/)\", \"bucket\": \"obvious bot\", \"year\": \"2014\", \"requests\": null}, {\"ua\": \"CheckHost (http://check-host.net/)\", \"bucket\": \"obvious bot\", \"year\": \"2015\", \"requests\": null}, {\"ua\": \"CheckHost (http://check-host.net/)\", \"bucket\": \"obvious bot\", \"year\": \"2016\", \"requests\": 11501.0}, {\"ua\": \"CheckHost (http://check-host.net/)\", \"bucket\": \"obvious bot\", \"year\": \"2017\", \"requests\": 4001.0}, {\"ua\": \"CheckHost (http://check-host.net/)\", \"bucket\": \"obvious bot\", \"year\": \"2018\", \"requests\": null}, {\"ua\": \"Coc Coc\", \"bucket\": \"obvious bot\", \"year\": \"2013\", \"requests\": null}, {\"ua\": \"Coc Coc\", \"bucket\": \"obvious bot\", \"year\": \"2014\", \"requests\": 492.0}, {\"ua\": \"Coc Coc\", \"bucket\": \"obvious bot\", \"year\": \"2015\", \"requests\": 811.0}, {\"ua\": \"Coc Coc\", \"bucket\": \"obvious bot\", \"year\": \"2016\", \"requests\": 4430.0}, {\"ua\": \"Coc Coc\", \"bucket\": \"obvious bot\", \"year\": \"2017\", \"requests\": 1302.0}, {\"ua\": \"Coc Coc\", \"bucket\": \"obvious bot\", \"year\": \"2018\", \"requests\": 1520.0}, {\"ua\": \"diffengine/0.0.42 (+https://github.com/docnow/diffengine)\", \"bucket\": \"obvious bot\", \"year\": \"2013\", \"requests\": null}, {\"ua\": \"diffengine/0.0.42 (+https://github.com/docnow/diffengine)\", \"bucket\": \"obvious bot\", \"year\": \"2014\", \"requests\": null}, {\"ua\": \"diffengine/0.0.42 (+https://github.com/docnow/diffengine)\", \"bucket\": \"obvious bot\", \"year\": \"2015\", \"requests\": null}, {\"ua\": \"diffengine/0.0.42 (+https://github.com/docnow/diffengine)\", \"bucket\": \"obvious bot\", \"year\": \"2016\", \"requests\": null}, {\"ua\": \"diffengine/0.0.42 (+https://github.com/docnow/diffengine)\", \"bucket\": \"obvious bot\", \"year\": \"2017\", \"requests\": 3574.0}, {\"ua\": \"diffengine/0.0.42 (+https://github.com/docnow/diffengine)\", \"bucket\": \"obvious bot\", \"year\": \"2018\", \"requests\": null}, {\"ua\": \"K-Meleon\", \"bucket\": \"browser\", \"year\": \"2013\", \"requests\": null}, {\"ua\": \"K-Meleon\", \"bucket\": \"browser\", \"year\": \"2014\", \"requests\": 60.0}, {\"ua\": \"K-Meleon\", \"bucket\": \"browser\", \"year\": \"2015\", \"requests\": 851.0}, {\"ua\": \"K-Meleon\", \"bucket\": \"browser\", \"year\": \"2016\", \"requests\": 106.0}, {\"ua\": \"K-Meleon\", \"bucket\": \"browser\", \"year\": \"2017\", \"requests\": 493.0}, {\"ua\": \"K-Meleon\", \"bucket\": \"browser\", \"year\": \"2018\", \"requests\": 195.0}, {\"ua\": \"Wget\", \"bucket\": \"obvious bot\", \"year\": \"2013\", \"requests\": null}, {\"ua\": \"Wget\", \"bucket\": \"obvious bot\", \"year\": \"2014\", \"requests\": 412.0}, {\"ua\": \"Wget\", \"bucket\": \"obvious bot\", \"year\": \"2015\", \"requests\": 41166.0}, {\"ua\": \"Wget\", \"bucket\": \"obvious bot\", \"year\": \"2016\", \"requests\": 21169.0}, {\"ua\": \"Wget\", \"bucket\": \"obvious bot\", \"year\": \"2017\", \"requests\": 112692.0}, {\"ua\": \"Wget\", \"bucket\": \"obvious bot\", \"year\": \"2018\", \"requests\": 884542.0}, {\"ua\": \"Firefox Mobile\", \"bucket\": \"browser\", \"year\": \"2013\", \"requests\": null}, {\"ua\": \"Firefox Mobile\", \"bucket\": \"browser\", \"year\": \"2014\", \"requests\": 12918.0}, {\"ua\": \"Firefox Mobile\", \"bucket\": \"browser\", \"year\": \"2015\", \"requests\": 4251.0}, {\"ua\": \"Firefox Mobile\", \"bucket\": \"browser\", \"year\": \"2016\", \"requests\": 5472.0}, {\"ua\": \"Firefox Mobile\", \"bucket\": \"browser\", \"year\": \"2017\", \"requests\": 4852.0}, {\"ua\": \"Firefox Mobile\", \"bucket\": \"browser\", \"year\": \"2018\", \"requests\": 21404.0}, {\"ua\": \"Vital Source Rescuing Bot\", \"bucket\": \"browser\", \"year\": \"2013\", \"requests\": null}, {\"ua\": \"Vital Source Rescuing Bot\", \"bucket\": \"browser\", \"year\": \"2014\", \"requests\": null}, {\"ua\": \"Vital Source Rescuing Bot\", \"bucket\": \"browser\", \"year\": \"2015\", \"requests\": 10717.0}, {\"ua\": \"Vital Source Rescuing Bot\", \"bucket\": \"browser\", \"year\": \"2016\", \"requests\": null}, {\"ua\": \"Vital Source Rescuing Bot\", \"bucket\": \"browser\", \"year\": \"2017\", \"requests\": null}, {\"ua\": \"Vital Source Rescuing Bot\", \"bucket\": \"browser\", \"year\": \"2018\", \"requests\": null}, {\"ua\": \"Chrome 41.0.2227.0\", \"bucket\": \"browser\", \"year\": \"2013\", \"requests\": null}, {\"ua\": \"Chrome 41.0.2227.0\", \"bucket\": \"browser\", \"year\": \"2014\", \"requests\": null}, {\"ua\": \"Chrome 41.0.2227.0\", \"bucket\": \"browser\", \"year\": \"2015\", \"requests\": null}, {\"ua\": \"Chrome 41.0.2227.0\", \"bucket\": \"browser\", \"year\": \"2016\", \"requests\": null}, {\"ua\": \"Chrome 41.0.2227.0\", \"bucket\": \"browser\", \"year\": \"2017\", \"requests\": 4020.0}, {\"ua\": \"Chrome 41.0.2227.0\", \"bucket\": \"browser\", \"year\": \"2018\", \"requests\": 1344.0}, {\"ua\": \"Chrome\", \"bucket\": \"browser\", \"year\": \"2013\", \"requests\": null}, {\"ua\": \"Chrome\", \"bucket\": \"browser\", \"year\": \"2014\", \"requests\": 527632.0}, {\"ua\": \"Chrome\", \"bucket\": \"browser\", \"year\": \"2015\", \"requests\": 731837.0}, {\"ua\": \"Chrome\", \"bucket\": \"browser\", \"year\": \"2016\", \"requests\": 1147165.0}, {\"ua\": \"Chrome\", \"bucket\": \"browser\", \"year\": \"2017\", \"requests\": 973935.0}, {\"ua\": \"Chrome\", \"bucket\": \"browser\", \"year\": \"2018\", \"requests\": 1842529.0}, {\"ua\": \"Safari 6.0\", \"bucket\": \"browser\", \"year\": \"2013\", \"requests\": null}, {\"ua\": \"Safari 6.0\", \"bucket\": \"browser\", \"year\": \"2014\", \"requests\": null}, {\"ua\": \"Safari 6.0\", \"bucket\": \"browser\", \"year\": \"2015\", \"requests\": null}, {\"ua\": \"Safari 6.0\", \"bucket\": \"browser\", \"year\": \"2016\", \"requests\": null}, {\"ua\": \"Safari 6.0\", \"bucket\": \"browser\", \"year\": \"2017\", \"requests\": 4032.0}, {\"ua\": \"Safari 6.0\", \"bucket\": \"browser\", \"year\": \"2018\", \"requests\": 1426.0}, {\"ua\": \"Mozilla\", \"bucket\": \"browser\", \"year\": \"2013\", \"requests\": null}, {\"ua\": \"Mozilla\", \"bucket\": \"browser\", \"year\": \"2014\", \"requests\": null}, {\"ua\": \"Mozilla\", \"bucket\": \"browser\", \"year\": \"2015\", \"requests\": null}, {\"ua\": \"Mozilla\", \"bucket\": \"browser\", \"year\": \"2016\", \"requests\": 331.0}, {\"ua\": \"Mozilla\", \"bucket\": \"browser\", \"year\": \"2017\", \"requests\": 100322.0}, {\"ua\": \"Mozilla\", \"bucket\": \"browser\", \"year\": \"2018\", \"requests\": 648.0}, {\"ua\": \"Opera/hokan\", \"bucket\": \"browser\", \"year\": \"2013\", \"requests\": null}, {\"ua\": \"Opera/hokan\", \"bucket\": \"browser\", \"year\": \"2014\", \"requests\": null}, {\"ua\": \"Opera/hokan\", \"bucket\": \"browser\", \"year\": \"2015\", \"requests\": null}, {\"ua\": \"Opera/hokan\", \"bucket\": \"browser\", \"year\": \"2016\", \"requests\": 4731.0}, {\"ua\": \"Opera/hokan\", \"bucket\": \"browser\", \"year\": \"2017\", \"requests\": 40328.0}, {\"ua\": \"Opera/hokan\", \"bucket\": \"browser\", \"year\": \"2018\", \"requests\": 7004.0}, {\"ua\": \"UC Browser\", \"bucket\": \"browser\", \"year\": \"2013\", \"requests\": null}, {\"ua\": \"UC Browser\", \"bucket\": \"browser\", \"year\": \"2014\", \"requests\": 2183.0}, {\"ua\": \"UC Browser\", \"bucket\": \"browser\", \"year\": \"2015\", \"requests\": 2655.0}, {\"ua\": \"UC Browser\", \"bucket\": \"browser\", \"year\": \"2016\", \"requests\": 4625.0}, {\"ua\": \"UC Browser\", \"bucket\": \"browser\", \"year\": \"2017\", \"requests\": 2830.0}, {\"ua\": \"UC Browser\", \"bucket\": \"browser\", \"year\": \"2018\", \"requests\": 38007.0}, {\"ua\": \"okhttp\", \"bucket\": \"obvious bot\", \"year\": \"2013\", \"requests\": null}, {\"ua\": \"okhttp\", \"bucket\": \"obvious bot\", \"year\": \"2014\", \"requests\": null}, {\"ua\": \"okhttp\", \"bucket\": \"obvious bot\", \"year\": \"2015\", \"requests\": 158.0}, {\"ua\": \"okhttp\", \"bucket\": \"obvious bot\", \"year\": \"2016\", \"requests\": 34.0}, {\"ua\": \"okhttp\", \"bucket\": \"obvious bot\", \"year\": \"2017\", \"requests\": 4098869.0}, {\"ua\": \"okhttp\", \"bucket\": \"obvious bot\", \"year\": \"2018\", \"requests\": 8.0}, {\"ua\": \"Amazon Silk\", \"bucket\": \"browser\", \"year\": \"2013\", \"requests\": null}, {\"ua\": \"Amazon Silk\", \"bucket\": \"browser\", \"year\": \"2014\", \"requests\": 1747.0}, {\"ua\": \"Amazon Silk\", \"bucket\": \"browser\", \"year\": \"2015\", \"requests\": 3244.0}, {\"ua\": \"Amazon Silk\", \"bucket\": \"browser\", \"year\": \"2016\", \"requests\": 3950.0}, {\"ua\": \"Amazon Silk\", \"bucket\": \"browser\", \"year\": \"2017\", \"requests\": 1646.0}, {\"ua\": \"Amazon Silk\", \"bucket\": \"browser\", \"year\": \"2018\", \"requests\": 5332.0}, {\"ua\": \"Firefox 33.0\", \"bucket\": \"browser\", \"year\": \"2013\", \"requests\": null}, {\"ua\": \"Firefox 33.0\", \"bucket\": \"browser\", \"year\": \"2014\", \"requests\": null}, {\"ua\": \"Firefox 33.0\", \"bucket\": \"browser\", \"year\": \"2015\", \"requests\": null}, {\"ua\": \"Firefox 33.0\", \"bucket\": \"browser\", \"year\": \"2016\", \"requests\": null}, {\"ua\": \"Firefox 33.0\", \"bucket\": \"browser\", \"year\": \"2017\", \"requests\": 4072.0}, {\"ua\": \"Firefox 33.0\", \"bucket\": \"browser\", \"year\": \"2018\", \"requests\": 1347.0}, {\"ua\": \"PhantomJS\", \"bucket\": \"obvious bot\", \"year\": \"2013\", \"requests\": null}, {\"ua\": \"PhantomJS\", \"bucket\": \"obvious bot\", \"year\": \"2014\", \"requests\": 601.0}, {\"ua\": \"PhantomJS\", \"bucket\": \"obvious bot\", \"year\": \"2015\", \"requests\": 359.0}, {\"ua\": \"PhantomJS\", \"bucket\": \"obvious bot\", \"year\": \"2016\", \"requests\": 4928.0}, {\"ua\": \"PhantomJS\", \"bucket\": \"obvious bot\", \"year\": \"2017\", \"requests\": 2058.0}, {\"ua\": \"PhantomJS\", \"bucket\": \"obvious bot\", \"year\": \"2018\", \"requests\": 6095.0}, {\"ua\": \"Safari 5.1.7\", \"bucket\": \"browser\", \"year\": \"2013\", \"requests\": null}, {\"ua\": \"Safari 5.1.7\", \"bucket\": \"browser\", \"year\": \"2014\", \"requests\": null}, {\"ua\": \"Safari 5.1.7\", \"bucket\": \"browser\", \"year\": \"2015\", \"requests\": null}, {\"ua\": \"Safari 5.1.7\", \"bucket\": \"browser\", \"year\": \"2016\", \"requests\": null}, {\"ua\": \"Safari 5.1.7\", \"bucket\": \"browser\", \"year\": \"2017\", \"requests\": 3999.0}, {\"ua\": \"Safari 5.1.7\", \"bucket\": \"browser\", \"year\": \"2018\", \"requests\": 1352.0}, {\"ua\": \"Opera\", \"bucket\": \"browser\", \"year\": \"2013\", \"requests\": null}, {\"ua\": \"Opera\", \"bucket\": \"browser\", \"year\": \"2014\", \"requests\": 37127.0}, {\"ua\": \"Opera\", \"bucket\": \"browser\", \"year\": \"2015\", \"requests\": 41397.0}, {\"ua\": \"Opera\", \"bucket\": \"browser\", \"year\": \"2016\", \"requests\": 52143.0}, {\"ua\": \"Opera\", \"bucket\": \"browser\", \"year\": \"2017\", \"requests\": 40192.0}, {\"ua\": \"Opera\", \"bucket\": \"browser\", \"year\": \"2018\", \"requests\": 79117.0}, {\"ua\": \"Firefox (via Wayback Save Page)\", \"bucket\": \"browser\", \"year\": \"2013\", \"requests\": null}, {\"ua\": \"Firefox (via Wayback Save Page)\", \"bucket\": \"browser\", \"year\": \"2014\", \"requests\": 5947.0}, {\"ua\": \"Firefox (via Wayback Save Page)\", \"bucket\": \"browser\", \"year\": \"2015\", \"requests\": 567.0}, {\"ua\": \"Firefox (via Wayback Save Page)\", \"bucket\": \"browser\", \"year\": \"2016\", \"requests\": null}, {\"ua\": \"Firefox (via Wayback Save Page)\", \"bucket\": \"browser\", \"year\": \"2017\", \"requests\": null}, {\"ua\": \"Firefox (via Wayback Save Page)\", \"bucket\": \"browser\", \"year\": \"2018\", \"requests\": null}, {\"ua\": \"WebKit2HTML/1.0\", \"bucket\": \"obvious bot\", \"year\": \"2013\", \"requests\": null}, {\"ua\": \"WebKit2HTML/1.0\", \"bucket\": \"obvious bot\", \"year\": \"2014\", \"requests\": null}, {\"ua\": \"WebKit2HTML/1.0\", \"bucket\": \"obvious bot\", \"year\": \"2015\", \"requests\": null}, {\"ua\": \"WebKit2HTML/1.0\", \"bucket\": \"obvious bot\", \"year\": \"2016\", \"requests\": 23384.0}, {\"ua\": \"WebKit2HTML/1.0\", \"bucket\": \"obvious bot\", \"year\": \"2017\", \"requests\": null}, {\"ua\": \"WebKit2HTML/1.0\", \"bucket\": \"obvious bot\", \"year\": \"2018\", \"requests\": null}, {\"ua\": \"Mozilla/5.0 (compatible; Google-Apps-Script) (via Wayback Save Page)\", \"bucket\": \"browser\", \"year\": \"2013\", \"requests\": null}, {\"ua\": \"Mozilla/5.0 (compatible; Google-Apps-Script) (via Wayback Save Page)\", \"bucket\": \"browser\", \"year\": \"2014\", \"requests\": 571.0}, {\"ua\": \"Mozilla/5.0 (compatible; Google-Apps-Script) (via Wayback Save Page)\", \"bucket\": \"browser\", \"year\": \"2015\", \"requests\": 930.0}, {\"ua\": \"Mozilla/5.0 (compatible; Google-Apps-Script) (via Wayback Save Page)\", \"bucket\": \"browser\", \"year\": \"2016\", \"requests\": null}, {\"ua\": \"Mozilla/5.0 (compatible; Google-Apps-Script) (via Wayback Save Page)\", \"bucket\": \"browser\", \"year\": \"2017\", \"requests\": null}, {\"ua\": \"Mozilla/5.0 (compatible; Google-Apps-Script) (via Wayback Save Page)\", \"bucket\": \"browser\", \"year\": \"2018\", \"requests\": null}, {\"ua\": \"libwww-perl\", \"bucket\": \"obvious bot\", \"year\": \"2013\", \"requests\": null}, {\"ua\": \"libwww-perl\", \"bucket\": \"obvious bot\", \"year\": \"2014\", \"requests\": 885.0}, {\"ua\": \"libwww-perl\", \"bucket\": \"obvious bot\", \"year\": \"2015\", \"requests\": 175.0}, {\"ua\": \"libwww-perl\", \"bucket\": \"obvious bot\", \"year\": \"2016\", \"requests\": 94.0}, {\"ua\": \"libwww-perl\", \"bucket\": \"obvious bot\", \"year\": \"2017\", \"requests\": 165.0}, {\"ua\": \"libwww-perl\", \"bucket\": \"obvious bot\", \"year\": \"2018\", \"requests\": 28.0}, {\"ua\": \"LinkArchiver twitter bot\", \"bucket\": \"obvious bot\", \"year\": \"2013\", \"requests\": null}, {\"ua\": \"LinkArchiver twitter bot\", \"bucket\": \"obvious bot\", \"year\": \"2014\", \"requests\": null}, {\"ua\": \"LinkArchiver twitter bot\", \"bucket\": \"obvious bot\", \"year\": \"2015\", \"requests\": null}, {\"ua\": \"LinkArchiver twitter bot\", \"bucket\": \"obvious bot\", \"year\": \"2016\", \"requests\": null}, {\"ua\": \"LinkArchiver twitter bot\", \"bucket\": \"obvious bot\", \"year\": \"2017\", \"requests\": 28505.0}, {\"ua\": \"LinkArchiver twitter bot\", \"bucket\": \"obvious bot\", \"year\": \"2018\", \"requests\": null}, {\"ua\": \"Firefox iOS\", \"bucket\": \"browser\", \"year\": \"2013\", \"requests\": null}, {\"ua\": \"Firefox iOS\", \"bucket\": \"browser\", \"year\": \"2014\", \"requests\": null}, {\"ua\": \"Firefox iOS\", \"bucket\": \"browser\", \"year\": \"2015\", \"requests\": null}, {\"ua\": \"Firefox iOS\", \"bucket\": \"browser\", \"year\": \"2016\", \"requests\": 452.0}, {\"ua\": \"Firefox iOS\", \"bucket\": \"browser\", \"year\": \"2017\", \"requests\": 1597.0}, {\"ua\": \"Firefox iOS\", \"bucket\": \"browser\", \"year\": \"2018\", \"requests\": 3754.0}, {\"ua\": \"IE\", \"bucket\": \"browser\", \"year\": \"2013\", \"requests\": null}, {\"ua\": \"IE\", \"bucket\": \"browser\", \"year\": \"2014\", \"requests\": 223003.0}, {\"ua\": \"IE\", \"bucket\": \"browser\", \"year\": \"2015\", \"requests\": 173350.0}, {\"ua\": \"IE\", \"bucket\": \"browser\", \"year\": \"2016\", \"requests\": 223199.0}, {\"ua\": \"IE\", \"bucket\": \"browser\", \"year\": \"2017\", \"requests\": 115446.0}, {\"ua\": \"IE\", \"bucket\": \"browser\", \"year\": \"2018\", \"requests\": 113185.0}, {\"ua\": \"Opera Mobile\", \"bucket\": \"browser\", \"year\": \"2013\", \"requests\": null}, {\"ua\": \"Opera Mobile\", \"bucket\": \"browser\", \"year\": \"2014\", \"requests\": 372.0}, {\"ua\": \"Opera Mobile\", \"bucket\": \"browser\", \"year\": \"2015\", \"requests\": 2490.0}, {\"ua\": \"Opera Mobile\", \"bucket\": \"browser\", \"year\": \"2016\", \"requests\": 435.0}, {\"ua\": \"Opera Mobile\", \"bucket\": \"browser\", \"year\": \"2017\", \"requests\": 1671.0}, {\"ua\": \"Opera Mobile\", \"bucket\": \"browser\", \"year\": \"2018\", \"requests\": 10131.0}, {\"ua\": \"Opera Mini\", \"bucket\": \"browser\", \"year\": \"2013\", \"requests\": null}, {\"ua\": \"Opera Mini\", \"bucket\": \"browser\", \"year\": \"2014\", \"requests\": 4536.0}, {\"ua\": \"Opera Mini\", \"bucket\": \"browser\", \"year\": \"2015\", \"requests\": 2427.0}, {\"ua\": \"Opera Mini\", \"bucket\": \"browser\", \"year\": \"2016\", \"requests\": 3082.0}, {\"ua\": \"Opera Mini\", \"bucket\": \"browser\", \"year\": \"2017\", \"requests\": 3795.0}, {\"ua\": \"Opera Mini\", \"bucket\": \"browser\", \"year\": \"2018\", \"requests\": 5948.0}, {\"ua\": \"Firefox (Namoroka)\", \"bucket\": \"browser\", \"year\": \"2013\", \"requests\": null}, {\"ua\": \"Firefox (Namoroka)\", \"bucket\": \"browser\", \"year\": \"2014\", \"requests\": 1569.0}, {\"ua\": \"Firefox (Namoroka)\", \"bucket\": \"browser\", \"year\": \"2015\", \"requests\": 355.0}, {\"ua\": \"Firefox (Namoroka)\", \"bucket\": \"browser\", \"year\": \"2016\", \"requests\": 2.0}, {\"ua\": \"Firefox (Namoroka)\", \"bucket\": \"browser\", \"year\": \"2017\", \"requests\": null}, {\"ua\": \"Firefox (Namoroka)\", \"bucket\": \"browser\", \"year\": \"2018\", \"requests\": 3.0}, {\"ua\": \"SeaMonkey\", \"bucket\": \"obvious bot\", \"year\": \"2013\", \"requests\": null}, {\"ua\": \"SeaMonkey\", \"bucket\": \"obvious bot\", \"year\": \"2014\", \"requests\": 1700.0}, {\"ua\": \"SeaMonkey\", \"bucket\": \"obvious bot\", \"year\": \"2015\", \"requests\": 1419.0}, {\"ua\": \"SeaMonkey\", \"bucket\": \"obvious bot\", \"year\": \"2016\", \"requests\": 6288.0}, {\"ua\": \"SeaMonkey\", \"bucket\": \"obvious bot\", \"year\": \"2017\", \"requests\": 1287.0}, {\"ua\": \"SeaMonkey\", \"bucket\": \"obvious bot\", \"year\": \"2018\", \"requests\": 1255.0}, {\"ua\": \"OpenBSD ftp\", \"bucket\": \"obvious bot\", \"year\": \"2013\", \"requests\": null}, {\"ua\": \"OpenBSD ftp\", \"bucket\": \"obvious bot\", \"year\": \"2014\", \"requests\": null}, {\"ua\": \"OpenBSD ftp\", \"bucket\": \"obvious bot\", \"year\": \"2015\", \"requests\": null}, {\"ua\": \"OpenBSD ftp\", \"bucket\": \"obvious bot\", \"year\": \"2016\", \"requests\": 30391.0}, {\"ua\": \"OpenBSD ftp\", \"bucket\": \"obvious bot\", \"year\": \"2017\", \"requests\": null}, {\"ua\": \"OpenBSD ftp\", \"bucket\": \"obvious bot\", \"year\": \"2018\", \"requests\": null}, {\"ua\": \"curl\", \"bucket\": \"obvious bot\", \"year\": \"2013\", \"requests\": null}, {\"ua\": \"curl\", \"bucket\": \"obvious bot\", \"year\": \"2014\", \"requests\": 1904.0}, {\"ua\": \"curl\", \"bucket\": \"obvious bot\", \"year\": \"2015\", \"requests\": 10927.0}, {\"ua\": \"curl\", \"bucket\": \"obvious bot\", \"year\": \"2016\", \"requests\": 21283.0}, {\"ua\": \"curl\", \"bucket\": \"obvious bot\", \"year\": \"2017\", \"requests\": 234076.0}, {\"ua\": \"curl\", \"bucket\": \"obvious bot\", \"year\": \"2018\", \"requests\": 42445.0}, {\"ua\": \"Chrome 41.0.2228.0\", \"bucket\": \"browser\", \"year\": \"2013\", \"requests\": null}, {\"ua\": \"Chrome 41.0.2228.0\", \"bucket\": \"browser\", \"year\": \"2014\", \"requests\": null}, {\"ua\": \"Chrome 41.0.2228.0\", \"bucket\": \"browser\", \"year\": \"2015\", \"requests\": null}, {\"ua\": \"Chrome 41.0.2228.0\", \"bucket\": \"browser\", \"year\": \"2016\", \"requests\": null}, {\"ua\": \"Chrome 41.0.2228.0\", \"bucket\": \"browser\", \"year\": \"2017\", \"requests\": 3979.0}, {\"ua\": \"Chrome 41.0.2228.0\", \"bucket\": \"browser\", \"year\": \"2018\", \"requests\": 1390.0}, {\"ua\": \"Apache-HttpClient\", \"bucket\": \"obvious bot\", \"year\": \"2013\", \"requests\": null}, {\"ua\": \"Apache-HttpClient\", \"bucket\": \"obvious bot\", \"year\": \"2014\", \"requests\": null}, {\"ua\": \"Apache-HttpClient\", \"bucket\": \"obvious bot\", \"year\": \"2015\", \"requests\": 4.0}, {\"ua\": \"Apache-HttpClient\", \"bucket\": \"obvious bot\", \"year\": \"2016\", \"requests\": 1747.0}, {\"ua\": \"Apache-HttpClient\", \"bucket\": \"obvious bot\", \"year\": \"2017\", \"requests\": 60.0}, {\"ua\": \"Apache-HttpClient\", \"bucket\": \"obvious bot\", \"year\": \"2018\", \"requests\": 192.0}, {\"ua\": \"Pale Moon\", \"bucket\": \"browser\", \"year\": \"2013\", \"requests\": null}, {\"ua\": \"Pale Moon\", \"bucket\": \"browser\", \"year\": \"2014\", \"requests\": 2559.0}, {\"ua\": \"Pale Moon\", \"bucket\": \"browser\", \"year\": \"2015\", \"requests\": 5118.0}, {\"ua\": \"Pale Moon\", \"bucket\": \"browser\", \"year\": \"2016\", \"requests\": 5217.0}, {\"ua\": \"Pale Moon\", \"bucket\": \"browser\", \"year\": \"2017\", \"requests\": 4676.0}, {\"ua\": \"Pale Moon\", \"bucket\": \"browser\", \"year\": \"2018\", \"requests\": 4308.0}, {\"ua\": \"WordPress\", \"bucket\": \"obvious bot\", \"year\": \"2013\", \"requests\": null}, {\"ua\": \"WordPress\", \"bucket\": \"obvious bot\", \"year\": \"2014\", \"requests\": 343.0}, {\"ua\": \"WordPress\", \"bucket\": \"obvious bot\", \"year\": \"2015\", \"requests\": 72.0}, {\"ua\": \"WordPress\", \"bucket\": \"obvious bot\", \"year\": \"2016\", \"requests\": 24740.0}, {\"ua\": \"WordPress\", \"bucket\": \"obvious bot\", \"year\": \"2017\", \"requests\": 4776.0}, {\"ua\": \"WordPress\", \"bucket\": \"obvious bot\", \"year\": \"2018\", \"requests\": 4773.0}, {\"ua\": \"UP.Browser\", \"bucket\": \"browser\", \"year\": \"2013\", \"requests\": null}, {\"ua\": \"UP.Browser\", \"bucket\": \"browser\", \"year\": \"2014\", \"requests\": 1195.0}, {\"ua\": \"UP.Browser\", \"bucket\": \"browser\", \"year\": \"2015\", \"requests\": null}, {\"ua\": \"UP.Browser\", \"bucket\": \"browser\", \"year\": \"2016\", \"requests\": null}, {\"ua\": \"UP.Browser\", \"bucket\": \"browser\", \"year\": \"2017\", \"requests\": null}, {\"ua\": \"UP.Browser\", \"bucket\": \"browser\", \"year\": \"2018\", \"requests\": null}, {\"ua\": \"Waterfox\", \"bucket\": \"browser\", \"year\": \"2013\", \"requests\": null}, {\"ua\": \"Waterfox\", \"bucket\": \"browser\", \"year\": \"2014\", \"requests\": 719.0}, {\"ua\": \"Waterfox\", \"bucket\": \"browser\", \"year\": \"2015\", \"requests\": 1638.0}, {\"ua\": \"Waterfox\", \"bucket\": \"browser\", \"year\": \"2016\", \"requests\": 697.0}, {\"ua\": \"Waterfox\", \"bucket\": \"browser\", \"year\": \"2017\", \"requests\": 1263.0}, {\"ua\": \"Waterfox\", \"bucket\": \"browser\", \"year\": \"2018\", \"requests\": 200.0}, {\"ua\": \"Vivaldi\", \"bucket\": \"browser\", \"year\": \"2013\", \"requests\": null}, {\"ua\": \"Vivaldi\", \"bucket\": \"browser\", \"year\": \"2014\", \"requests\": null}, {\"ua\": \"Vivaldi\", \"bucket\": \"browser\", \"year\": \"2015\", \"requests\": 1159.0}, {\"ua\": \"Vivaldi\", \"bucket\": \"browser\", \"year\": \"2016\", \"requests\": 3721.0}, {\"ua\": \"Vivaldi\", \"bucket\": \"browser\", \"year\": \"2017\", \"requests\": 9448.0}, {\"ua\": \"Vivaldi\", \"bucket\": \"browser\", \"year\": \"2018\", \"requests\": 18809.0}, {\"ua\": \"Scrapy\", \"bucket\": \"obvious bot\", \"year\": \"2013\", \"requests\": null}, {\"ua\": \"Scrapy\", \"bucket\": \"obvious bot\", \"year\": \"2014\", \"requests\": 662.0}, {\"ua\": \"Scrapy\", \"bucket\": \"obvious bot\", \"year\": \"2015\", \"requests\": null}, {\"ua\": \"Scrapy\", \"bucket\": \"obvious bot\", \"year\": \"2016\", \"requests\": null}, {\"ua\": \"Scrapy\", \"bucket\": \"obvious bot\", \"year\": \"2017\", \"requests\": null}, {\"ua\": \"Scrapy\", \"bucket\": \"obvious bot\", \"year\": \"2018\", \"requests\": null}, {\"ua\": \"Firefox\", \"bucket\": \"browser\", \"year\": \"2013\", \"requests\": null}, {\"ua\": \"Firefox\", \"bucket\": \"browser\", \"year\": \"2014\", \"requests\": 476500.0}, {\"ua\": \"Firefox\", \"bucket\": \"browser\", \"year\": \"2015\", \"requests\": 445321.0}, {\"ua\": \"Firefox\", \"bucket\": \"browser\", \"year\": \"2016\", \"requests\": 662829.0}, {\"ua\": \"Firefox\", \"bucket\": \"browser\", \"year\": \"2017\", \"requests\": 449724.0}, {\"ua\": \"Firefox\", \"bucket\": \"browser\", \"year\": \"2018\", \"requests\": 815548.0}, {\"ua\": \"Python Wayback Backup API-Client\", \"bucket\": \"obvious bot\", \"year\": \"2013\", \"requests\": null}, {\"ua\": \"Python Wayback Backup API-Client\", \"bucket\": \"obvious bot\", \"year\": \"2014\", \"requests\": null}, {\"ua\": \"Python Wayback Backup API-Client\", \"bucket\": \"obvious bot\", \"year\": \"2015\", \"requests\": null}, {\"ua\": \"Python Wayback Backup API-Client\", \"bucket\": \"obvious bot\", \"year\": \"2016\", \"requests\": null}, {\"ua\": \"Python Wayback Backup API-Client\", \"bucket\": \"obvious bot\", \"year\": \"2017\", \"requests\": 35382.0}, {\"ua\": \"Python Wayback Backup API-Client\", \"bucket\": \"obvious bot\", \"year\": \"2018\", \"requests\": null}, {\"ua\": \"PHP/5.4\", \"bucket\": \"obvious bot\", \"year\": \"2013\", \"requests\": null}, {\"ua\": \"PHP/5.4\", \"bucket\": \"obvious bot\", \"year\": \"2014\", \"requests\": null}, {\"ua\": \"PHP/5.4\", \"bucket\": \"obvious bot\", \"year\": \"2015\", \"requests\": null}, {\"ua\": \"PHP/5.4\", \"bucket\": \"obvious bot\", \"year\": \"2016\", \"requests\": null}, {\"ua\": \"PHP/5.4\", \"bucket\": \"obvious bot\", \"year\": \"2017\", \"requests\": 2091.0}, {\"ua\": \"PHP/5.4\", \"bucket\": \"obvious bot\", \"year\": \"2018\", \"requests\": 254.0}, {\"ua\": \"AppEngine-Google\", \"bucket\": \"obvious bot\", \"year\": \"2013\", \"requests\": null}, {\"ua\": \"AppEngine-Google\", \"bucket\": \"obvious bot\", \"year\": \"2014\", \"requests\": 699.0}, {\"ua\": \"AppEngine-Google\", \"bucket\": \"obvious bot\", \"year\": \"2015\", \"requests\": 1024.0}, {\"ua\": \"AppEngine-Google\", \"bucket\": \"obvious bot\", \"year\": \"2016\", \"requests\": 331.0}, {\"ua\": \"AppEngine-Google\", \"bucket\": \"obvious bot\", \"year\": \"2017\", \"requests\": 204.0}, {\"ua\": \"AppEngine-Google\", \"bucket\": \"obvious bot\", \"year\": \"2018\", \"requests\": 211.0}, {\"ua\": \"Ruby (via Wayback Save Page)\", \"bucket\": \"obvious bot\", \"year\": \"2013\", \"requests\": null}, {\"ua\": \"Ruby (via Wayback Save Page)\", \"bucket\": \"obvious bot\", \"year\": \"2014\", \"requests\": 1055.0}, {\"ua\": \"Ruby (via Wayback Save Page)\", \"bucket\": \"obvious bot\", \"year\": \"2015\", \"requests\": 18718.0}, {\"ua\": \"Ruby (via Wayback Save Page)\", \"bucket\": \"obvious bot\", \"year\": \"2016\", \"requests\": null}, {\"ua\": \"Ruby (via Wayback Save Page)\", \"bucket\": \"obvious bot\", \"year\": \"2017\", \"requests\": null}, {\"ua\": \"Ruby (via Wayback Save Page)\", \"bucket\": \"obvious bot\", \"year\": \"2018\", \"requests\": null}, {\"ua\": \"Mobile Safari UI/WKWebView\", \"bucket\": \"browser\", \"year\": \"2013\", \"requests\": null}, {\"ua\": \"Mobile Safari UI/WKWebView\", \"bucket\": \"browser\", \"year\": \"2014\", \"requests\": 2586.0}, {\"ua\": \"Mobile Safari UI/WKWebView\", \"bucket\": \"browser\", \"year\": \"2015\", \"requests\": 4318.0}, {\"ua\": \"Mobile Safari UI/WKWebView\", \"bucket\": \"browser\", \"year\": \"2016\", \"requests\": 2698.0}, {\"ua\": \"Mobile Safari UI/WKWebView\", \"bucket\": \"browser\", \"year\": \"2017\", \"requests\": 5718.0}, {\"ua\": \"Mobile Safari UI/WKWebView\", \"bucket\": \"browser\", \"year\": \"2018\", \"requests\": 23752.0}, {\"ua\": \"Chrome 41.0.2227.1\", \"bucket\": \"browser\", \"year\": \"2013\", \"requests\": null}, {\"ua\": \"Chrome 41.0.2227.1\", \"bucket\": \"browser\", \"year\": \"2014\", \"requests\": null}, {\"ua\": \"Chrome 41.0.2227.1\", \"bucket\": \"browser\", \"year\": \"2015\", \"requests\": null}, {\"ua\": \"Chrome 41.0.2227.1\", \"bucket\": \"browser\", \"year\": \"2016\", \"requests\": null}, {\"ua\": \"Chrome 41.0.2227.1\", \"bucket\": \"browser\", \"year\": \"2017\", \"requests\": 4010.0}, {\"ua\": \"Chrome 41.0.2227.1\", \"bucket\": \"browser\", \"year\": \"2018\", \"requests\": 1281.0}, {\"ua\": \"diffengine/0.1.0 (+https://github.com/docnow/diffengine)\", \"bucket\": \"obvious bot\", \"year\": \"2013\", \"requests\": null}, {\"ua\": \"diffengine/0.1.0 (+https://github.com/docnow/diffengine)\", \"bucket\": \"obvious bot\", \"year\": \"2014\", \"requests\": null}, {\"ua\": \"diffengine/0.1.0 (+https://github.com/docnow/diffengine)\", \"bucket\": \"obvious bot\", \"year\": \"2015\", \"requests\": null}, {\"ua\": \"diffengine/0.1.0 (+https://github.com/docnow/diffengine)\", \"bucket\": \"obvious bot\", \"year\": \"2016\", \"requests\": null}, {\"ua\": \"diffengine/0.1.0 (+https://github.com/docnow/diffengine)\", \"bucket\": \"obvious bot\", \"year\": \"2017\", \"requests\": 2413.0}, {\"ua\": \"diffengine/0.1.0 (+https://github.com/docnow/diffengine)\", \"bucket\": \"obvious bot\", \"year\": \"2018\", \"requests\": 42.0}, {\"ua\": \"Mediapartners-Google\", \"bucket\": \"browser\", \"year\": \"2013\", \"requests\": null}, {\"ua\": \"Mediapartners-Google\", \"bucket\": \"browser\", \"year\": \"2014\", \"requests\": 1690.0}, {\"ua\": \"Mediapartners-Google\", \"bucket\": \"browser\", \"year\": \"2015\", \"requests\": 847.0}, {\"ua\": \"Mediapartners-Google\", \"bucket\": \"browser\", \"year\": \"2016\", \"requests\": 917.0}, {\"ua\": \"Mediapartners-Google\", \"bucket\": \"browser\", \"year\": \"2017\", \"requests\": 570.0}, {\"ua\": \"Mediapartners-Google\", \"bucket\": \"browser\", \"year\": \"2018\", \"requests\": 355.0}, {\"ua\": \"Android\", \"bucket\": \"browser\", \"year\": \"2013\", \"requests\": null}, {\"ua\": \"Android\", \"bucket\": \"browser\", \"year\": \"2014\", \"requests\": 17485.0}, {\"ua\": \"Android\", \"bucket\": \"browser\", \"year\": \"2015\", \"requests\": 10099.0}, {\"ua\": \"Android\", \"bucket\": \"browser\", \"year\": \"2016\", \"requests\": 4771.0}, {\"ua\": \"Android\", \"bucket\": \"browser\", \"year\": \"2017\", \"requests\": 1351.0}, {\"ua\": \"Android\", \"bucket\": \"browser\", \"year\": \"2018\", \"requests\": 9086.0}, {\"ua\": \"HeadlessChrome\", \"bucket\": \"obvious bot\", \"year\": \"2013\", \"requests\": null}, {\"ua\": \"HeadlessChrome\", \"bucket\": \"obvious bot\", \"year\": \"2014\", \"requests\": null}, {\"ua\": \"HeadlessChrome\", \"bucket\": \"obvious bot\", \"year\": \"2015\", \"requests\": null}, {\"ua\": \"HeadlessChrome\", \"bucket\": \"obvious bot\", \"year\": \"2016\", \"requests\": null}, {\"ua\": \"HeadlessChrome\", \"bucket\": \"obvious bot\", \"year\": \"2017\", \"requests\": 6015.0}, {\"ua\": \"HeadlessChrome\", \"bucket\": \"obvious bot\", \"year\": \"2018\", \"requests\": 10568.0}, {\"ua\": \"Python-urllib\", \"bucket\": \"obvious bot\", \"year\": \"2013\", \"requests\": null}, {\"ua\": \"Python-urllib\", \"bucket\": \"obvious bot\", \"year\": \"2014\", \"requests\": 1389.0}, {\"ua\": \"Python-urllib\", \"bucket\": \"obvious bot\", \"year\": \"2015\", \"requests\": 7411.0}, {\"ua\": \"Python-urllib\", \"bucket\": \"obvious bot\", \"year\": \"2016\", \"requests\": 8125.0}, {\"ua\": \"Python-urllib\", \"bucket\": \"obvious bot\", \"year\": \"2017\", \"requests\": 21740.0}, {\"ua\": \"Python-urllib\", \"bucket\": \"obvious bot\", \"year\": \"2018\", \"requests\": 20184.0}, {\"ua\": \"Chrome Mobile\", \"bucket\": \"browser\", \"year\": \"2013\", \"requests\": null}, {\"ua\": \"Chrome Mobile\", \"bucket\": \"browser\", \"year\": \"2014\", \"requests\": 17161.0}, {\"ua\": \"Chrome Mobile\", \"bucket\": \"browser\", \"year\": \"2015\", \"requests\": 28295.0}, {\"ua\": \"Chrome Mobile\", \"bucket\": \"browser\", \"year\": \"2016\", \"requests\": 38928.0}, {\"ua\": \"Chrome Mobile\", \"bucket\": \"browser\", \"year\": \"2017\", \"requests\": 48478.0}, {\"ua\": \"Chrome Mobile\", \"bucket\": \"browser\", \"year\": \"2018\", \"requests\": 348409.0}, {\"ua\": \"Opera/hokan (via Wayback Save Page)\", \"bucket\": \"browser\", \"year\": \"2013\", \"requests\": null}, {\"ua\": \"Opera/hokan (via Wayback Save Page)\", \"bucket\": \"browser\", \"year\": \"2014\", \"requests\": null}, {\"ua\": \"Opera/hokan (via Wayback Save Page)\", \"bucket\": \"browser\", \"year\": \"2015\", \"requests\": 2158.0}, {\"ua\": \"Opera/hokan (via Wayback Save Page)\", \"bucket\": \"browser\", \"year\": \"2016\", \"requests\": null}, {\"ua\": \"Opera/hokan (via Wayback Save Page)\", \"bucket\": \"browser\", \"year\": \"2017\", \"requests\": null}, {\"ua\": \"Opera/hokan (via Wayback Save Page)\", \"bucket\": \"browser\", \"year\": \"2018\", \"requests\": null}, {\"ua\": \"Mozilla/4.0 (compatible;HostTracker/2.0;+http://www.host-tracker.com/)\", \"bucket\": \"browser\", \"year\": \"2013\", \"requests\": null}, {\"ua\": \"Mozilla/4.0 (compatible;HostTracker/2.0;+http://www.host-tracker.com/)\", \"bucket\": \"browser\", \"year\": \"2014\", \"requests\": null}, {\"ua\": \"Mozilla/4.0 (compatible;HostTracker/2.0;+http://www.host-tracker.com/)\", \"bucket\": \"browser\", \"year\": \"2015\", \"requests\": null}, {\"ua\": \"Mozilla/4.0 (compatible;HostTracker/2.0;+http://www.host-tracker.com/)\", \"bucket\": \"browser\", \"year\": \"2016\", \"requests\": null}, {\"ua\": \"Mozilla/4.0 (compatible;HostTracker/2.0;+http://www.host-tracker.com/)\", \"bucket\": \"browser\", \"year\": \"2017\", \"requests\": null}, {\"ua\": \"Mozilla/4.0 (compatible;HostTracker/2.0;+http://www.host-tracker.com/)\", \"bucket\": \"browser\", \"year\": \"2018\", \"requests\": 3070.0}, {\"ua\": \"Netscape\", \"bucket\": \"browser\", \"year\": \"2013\", \"requests\": null}, {\"ua\": \"Netscape\", \"bucket\": \"browser\", \"year\": \"2014\", \"requests\": 3058.0}, {\"ua\": \"Netscape\", \"bucket\": \"browser\", \"year\": \"2015\", \"requests\": 17.0}, {\"ua\": \"Netscape\", \"bucket\": \"browser\", \"year\": \"2016\", \"requests\": 1580.0}, {\"ua\": \"Netscape\", \"bucket\": \"browser\", \"year\": \"2017\", \"requests\": 185.0}, {\"ua\": \"Netscape\", \"bucket\": \"browser\", \"year\": \"2018\", \"requests\": 10334.0}, {\"ua\": \"IE Mobile\", \"bucket\": \"browser\", \"year\": \"2013\", \"requests\": null}, {\"ua\": \"IE Mobile\", \"bucket\": \"browser\", \"year\": \"2014\", \"requests\": 1062.0}, {\"ua\": \"IE Mobile\", \"bucket\": \"browser\", \"year\": \"2015\", \"requests\": 1794.0}, {\"ua\": \"IE Mobile\", \"bucket\": \"browser\", \"year\": \"2016\", \"requests\": 1020.0}, {\"ua\": \"IE Mobile\", \"bucket\": \"browser\", \"year\": \"2017\", \"requests\": 435.0}, {\"ua\": \"IE Mobile\", \"bucket\": \"browser\", \"year\": \"2018\", \"requests\": 17194.0}, {\"ua\": \"Iceweasel\", \"bucket\": \"browser\", \"year\": \"2013\", \"requests\": null}, {\"ua\": \"Iceweasel\", \"bucket\": \"browser\", \"year\": \"2014\", \"requests\": 1500.0}, {\"ua\": \"Iceweasel\", \"bucket\": \"browser\", \"year\": \"2015\", \"requests\": 2377.0}, {\"ua\": \"Iceweasel\", \"bucket\": \"browser\", \"year\": \"2016\", \"requests\": 813.0}, {\"ua\": \"Iceweasel\", \"bucket\": \"browser\", \"year\": \"2017\", \"requests\": 737.0}, {\"ua\": \"Iceweasel\", \"bucket\": \"browser\", \"year\": \"2018\", \"requests\": 717.0}, {\"ua\": \"Safari 7.0.3\", \"bucket\": \"browser\", \"year\": \"2013\", \"requests\": null}, {\"ua\": \"Safari 7.0.3\", \"bucket\": \"browser\", \"year\": \"2014\", \"requests\": null}, {\"ua\": \"Safari 7.0.3\", \"bucket\": \"browser\", \"year\": \"2015\", \"requests\": null}, {\"ua\": \"Safari 7.0.3\", \"bucket\": \"browser\", \"year\": \"2016\", \"requests\": null}, {\"ua\": \"Safari 7.0.3\", \"bucket\": \"browser\", \"year\": \"2017\", \"requests\": 4118.0}, {\"ua\": \"Safari 7.0.3\", \"bucket\": \"browser\", \"year\": \"2018\", \"requests\": 1386.0}, {\"ua\": \"Chromium\", \"bucket\": \"browser\", \"year\": \"2013\", \"requests\": null}, {\"ua\": \"Chromium\", \"bucket\": \"browser\", \"year\": \"2014\", \"requests\": 2646.0}, {\"ua\": \"Chromium\", \"bucket\": \"browser\", \"year\": \"2015\", \"requests\": 5029.0}, {\"ua\": \"Chromium\", \"bucket\": \"browser\", \"year\": \"2016\", \"requests\": 8425.0}, {\"ua\": \"Chromium\", \"bucket\": \"browser\", \"year\": \"2017\", \"requests\": 11351.0}, {\"ua\": \"Chromium\", \"bucket\": \"browser\", \"year\": \"2018\", \"requests\": 10202.0}, {\"ua\": \"BlackBerry WebKit\", \"bucket\": \"browser\", \"year\": \"2013\", \"requests\": null}, {\"ua\": \"BlackBerry WebKit\", \"bucket\": \"browser\", \"year\": \"2014\", \"requests\": 578.0}, {\"ua\": \"BlackBerry WebKit\", \"bucket\": \"browser\", \"year\": \"2015\", \"requests\": 318.0}, {\"ua\": \"BlackBerry WebKit\", \"bucket\": \"browser\", \"year\": \"2016\", \"requests\": 386.0}, {\"ua\": \"BlackBerry WebKit\", \"bucket\": \"browser\", \"year\": \"2017\", \"requests\": 107.0}, {\"ua\": \"BlackBerry WebKit\", \"bucket\": \"browser\", \"year\": \"2018\", \"requests\": 8605.0}, {\"ua\": \"Patterbot\", \"bucket\": \"obvious bot\", \"year\": \"2013\", \"requests\": null}, {\"ua\": \"Patterbot\", \"bucket\": \"obvious bot\", \"year\": \"2014\", \"requests\": null}, {\"ua\": \"Patterbot\", \"bucket\": \"obvious bot\", \"year\": \"2015\", \"requests\": null}, {\"ua\": \"Patterbot\", \"bucket\": \"obvious bot\", \"year\": \"2016\", \"requests\": null}, {\"ua\": \"Patterbot\", \"bucket\": \"obvious bot\", \"year\": \"2017\", \"requests\": null}, {\"ua\": \"Patterbot\", \"bucket\": \"obvious bot\", \"year\": \"2018\", \"requests\": 5991.0}, {\"ua\": \"http://Anonymouse.org/ (Unix)\", \"bucket\": \"obvious bot\", \"year\": \"2013\", \"requests\": null}, {\"ua\": \"http://Anonymouse.org/ (Unix)\", \"bucket\": \"obvious bot\", \"year\": \"2014\", \"requests\": null}, {\"ua\": \"http://Anonymouse.org/ (Unix)\", \"bucket\": \"obvious bot\", \"year\": \"2015\", \"requests\": null}, {\"ua\": \"http://Anonymouse.org/ (Unix)\", \"bucket\": \"obvious bot\", \"year\": \"2016\", \"requests\": 2048.0}, {\"ua\": \"http://Anonymouse.org/ (Unix)\", \"bucket\": \"obvious bot\", \"year\": \"2017\", \"requests\": 2366.0}, {\"ua\": \"http://Anonymouse.org/ (Unix)\", \"bucket\": \"obvious bot\", \"year\": \"2018\", \"requests\": 1047.0}]}}, {\"mode\": \"vega-lite\"});\n",
       "</script>"
      ],
      "text/plain": [
       "alt.Chart(...)"
      ]
     },
     "execution_count": 93,
     "metadata": {},
     "output_type": "execute_result"
    }
   ],
   "source": [
    "chart4 = altair.Chart(bot_ratios).mark_bar(size=50).encode(\n",
    "    altair.X('sum(requests)', title='Archive Requests'),\n",
    "    altair.Y('year', title='One Day in the Year'),    \n",
    "    altair.Color('bucket', title='type', scale=altair.Scale(scheme='tableau20'))\n",
    ")\n",
    "chart4 = chart4.properties(\n",
    "    width=1200,\n",
    "    height=500,\n",
    "    title='Obvious Bots vs Browser SPN Requests'\n",
    ").configure_axis(\n",
    "    labelFontSize=20,\n",
    "    titleFontSize=20\n",
    ").configure_legend(\n",
    "    labelFontSize=20,\n",
    "    titleFontSize=20\n",
    ").configure_title(\n",
    "    fontSize=20\n",
    ")\n",
    "chart4.save('images/bot-human.png')\n",
    "chart4"
   ]
  },
  {
   "cell_type": "markdown",
   "metadata": {},
   "source": [
    "So if you remember the anomalous number of requests in 2017 we can see that bots appear to have been responsible. The proportion of bot User-Agents is much greater in 2017. In fact all we have to do is look at the top User-Agent for that year, and it tells us which one is responsible:"
   ]
  },
  {
   "cell_type": "code",
   "execution_count": null,
   "metadata": {},
   "outputs": [],
   "source": [
    "dfy = df.sort_values('2017', ascending=False)\n",
    "first = dfy['2017'][0]\n",
    "print(dfy.index[0], dfy['2017'][0])"
   ]
  },
  {
   "cell_type": "markdown",
   "metadata": {},
   "source": [
    "Yes. it's the mysterious `Wayback Machine Live Record`. At 6 million requests it amounts for the majority of the bots in 2017--about half of the additional traffic. But what were these bots doing? I asked in the Internet Archive Slack and was told that this User-Agent is used by SavePageNow to request content when no User-Agent is used at all. So we can safely assume that this automated traffic since all browsers will send a User-Agent of some kind.\n",
    "\n",
    "But what can we infer about what types of material was being archived by the bots vs the humans? Answering these questions is a topic for another notebook. But for now let's save a mapping of User-Agents to their family so we can use it later when processing WARC data."
   ]
  },
  {
   "cell_type": "code",
   "execution_count": null,
   "metadata": {},
   "outputs": [],
   "source": [
    "json.dump(ua_fam_map, open('results/user-agent-families.json', 'w'), indent=2)"
   ]
  },
  {
   "cell_type": "markdown",
   "metadata": {},
   "source": [
    "And we might as well save our top-50 User-Agents per year, along with whether we classed it as a bot or not."
   ]
  },
  {
   "cell_type": "code",
   "execution_count": null,
   "metadata": {},
   "outputs": [],
   "source": [
    "top_uas = {ua: ua in bots for ua in top_50_uas}\n",
    "json.dump(top_uas, open('results/top-user-agents.json', 'w'), indent=2)"
   ]
  },
  {
   "cell_type": "code",
   "execution_count": null,
   "metadata": {},
   "outputs": [],
   "source": []
  }
 ],
 "metadata": {
  "kernelspec": {
   "display_name": "Python 3",
   "language": "python",
   "name": "python3"
  },
  "language_info": {
   "codemirror_mode": {
    "name": "ipython",
    "version": 3
   },
   "file_extension": ".py",
   "mimetype": "text/x-python",
   "name": "python",
   "nbconvert_exporter": "python",
   "pygments_lexer": "ipython3",
   "version": "3.9.7"
  }
 },
 "nbformat": 4,
 "nbformat_minor": 2
}
