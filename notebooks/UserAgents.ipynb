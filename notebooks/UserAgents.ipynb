{
 "cells": [
  {
   "cell_type": "markdown",
   "metadata": {},
   "source": [
    "# User Agents in SavePageNow\n",
    "\n",
    "This notebook examines the User Agents that were used when asking for content to be saved at Internet Archive's SavePageNow.\n",
    "\n",
    "The User-Agent string has been used since the early days of the web as a way of identifying the software that is being used to access a web page. It is currently defined by [RFC 7231](https://tools.ietf.org/html/rfc7231#section-5.5.3) as a set of one ore more *product identifiers* which identify the software being used to perform the HTTP request.\n",
    "\n",
    "    User-Agent      = product *( RWS ( product / comment ) )\n",
    "    product         = token [\"/\" product-version]\n",
    "    product-version = token\n",
    "    \n",
    "So for example the browser I am using now has this User-Agent:\n",
    "\n",
    "    Mozilla/5.0 (Macintosh; Intel Mac OS X 10.14; rv:66.0) Gecko/20100101 Firefox/66.0\n",
    "    \n",
    "The product identifiers here are typically listed in increasing levels of specificity. \n",
    "\n",
    "* Mozilla/5.0 (Macintosh; Intel Mac OS X 10.14; rv:66.0)\n",
    "* Gecko/20100101\n",
    "* Firefox/66.0\n",
    "\n",
    "But they are freeform enough that the [ua-parser](https://www.uaparser.org/) project has built up a voluminous set of regular expressions to parse and make sense of them.\n",
    "\n",
    "The question is, what can the User-Agent's in the SavePageNow data tell us about the people who are participating in creation of the Internet Archive.\n",
    "\n",
    "## Analyze\n",
    "\n",
    "To find the User-Agents that were used to archive the web content we need to excavate the SavePageNow WARC data. WARC files store verious [types of records](https://iipc.github.io/warc-specifications/specifications/warc-format/warc-1.1/#warc-type-mandatory). In this case we need to find the *Request* records that represent the HTTP request that was used by SavePageNow to archive the content from the Web. Using Spark with warcio is one way of doing this analysis:"
   ]
  },
  {
   "cell_type": "code",
   "execution_count": 1,
   "metadata": {},
   "outputs": [],
   "source": [
    "from warc_spark import init, extractor\n",
    "sc, sqlc = init()"
   ]
  },
  {
   "cell_type": "markdown",
   "metadata": {},
   "source": [
    "An extractor function to get the User-Agent from the *WARC Request* objects:"
   ]
  },
  {
   "cell_type": "code",
   "execution_count": 2,
   "metadata": {},
   "outputs": [],
   "source": [
    "@extractor\n",
    "def ua(rec):\n",
    "    if rec.rec_type == 'request':\n",
    "        ua = rec.http_headers.get('user-agent')\n",
    "        if ua:\n",
    "            yield ua"
   ]
  },
  {
   "cell_type": "markdown",
   "metadata": {},
   "source": [
    "Now let's create a function that will run a Spark job to get the User-Agent counts for a year as a dictionary."
   ]
  },
  {
   "cell_type": "code",
   "execution_count": 101,
   "metadata": {},
   "outputs": [],
   "source": [
    "import pandas\n",
    "\n",
    "from glob import glob\n",
    "\n",
    "def get_year(year):\n",
    "    warc_files = glob('warcs/liveweb-{}*/*.warc.gz'.format(year))\n",
    "    warcs = sc.parallelize(warc_files)\n",
    "    output = warcs.mapPartitions(ua)\n",
    "    return output.countByValue()"
   ]
  },
  {
   "cell_type": "markdown",
   "metadata": {},
   "source": [
    "Now we can use `get_year` for each year of data we have for SPN and create a pandas DataFrame of the results."
   ]
  },
  {
   "cell_type": "code",
   "execution_count": 7,
   "metadata": {},
   "outputs": [
    {
     "name": "stdout",
     "output_type": "stream",
     "text": [
      "2013\n",
      "2014\n",
      "2015\n",
      "2016\n",
      "2017\n",
      "2018\n"
     ]
    }
   ],
   "source": [
    "ua_data = {}\n",
    "for year in range(2013, 2019):\n",
    "    print(year)\n",
    "    ua_data[str(year)] = get_year(year)\n",
    "\n",
    "df = pandas.DataFrame(ua_data)\n",
    "df.index.name = 'ua'"
   ]
  },
  {
   "cell_type": "markdown",
   "metadata": {},
   "source": [
    "We can quickly examine it to make sure it looks like it worrked:"
   ]
  },
  {
   "cell_type": "code",
   "execution_count": 41,
   "metadata": {},
   "outputs": [
    {
     "data": {
      "text/html": [
       "<div>\n",
       "<style scoped>\n",
       "    .dataframe tbody tr th:only-of-type {\n",
       "        vertical-align: middle;\n",
       "    }\n",
       "\n",
       "    .dataframe tbody tr th {\n",
       "        vertical-align: top;\n",
       "    }\n",
       "\n",
       "    .dataframe thead th {\n",
       "        text-align: right;\n",
       "    }\n",
       "</style>\n",
       "<table border=\"1\" class=\"dataframe\">\n",
       "  <thead>\n",
       "    <tr style=\"text-align: right;\">\n",
       "      <th></th>\n",
       "      <th>2013</th>\n",
       "      <th>2014</th>\n",
       "      <th>2015</th>\n",
       "      <th>2016</th>\n",
       "      <th>2017</th>\n",
       "      <th>2018</th>\n",
       "    </tr>\n",
       "    <tr>\n",
       "      <th>ua</th>\n",
       "      <th></th>\n",
       "      <th></th>\n",
       "      <th></th>\n",
       "      <th></th>\n",
       "      <th></th>\n",
       "      <th></th>\n",
       "    </tr>\n",
       "  </thead>\n",
       "  <tbody>\n",
       "    <tr>\n",
       "      <th>Mozilla/5.0 (compatible; archive.org_bot; Wayback Machine Live Record; +http://archive.org/details/archive.org_bot)</th>\n",
       "      <td>1238598.0</td>\n",
       "      <td>56591.0</td>\n",
       "      <td>21916.0</td>\n",
       "      <td>1211109.0</td>\n",
       "      <td>6633531.0</td>\n",
       "      <td>1487305.0</td>\n",
       "    </tr>\n",
       "    <tr>\n",
       "      <th>Wget/1.19.5 (linux-gnu)</th>\n",
       "      <td>NaN</td>\n",
       "      <td>NaN</td>\n",
       "      <td>NaN</td>\n",
       "      <td>NaN</td>\n",
       "      <td>NaN</td>\n",
       "      <td>719941.0</td>\n",
       "    </tr>\n",
       "    <tr>\n",
       "      <th>Mozilla/5.0 (Windows NT 10.0; Win64; x64) AppleWebKit/537.36 (KHTML, like Gecko) Chrome/69.0.3497.100 Safari/537.36</th>\n",
       "      <td>NaN</td>\n",
       "      <td>NaN</td>\n",
       "      <td>NaN</td>\n",
       "      <td>NaN</td>\n",
       "      <td>NaN</td>\n",
       "      <td>560050.0</td>\n",
       "    </tr>\n",
       "    <tr>\n",
       "      <th>Mozilla/5.0 (compatible; archive.org_bot; Wayback Machine Live Record; http://archive.org/details/archive.org_bot)</th>\n",
       "      <td>NaN</td>\n",
       "      <td>NaN</td>\n",
       "      <td>NaN</td>\n",
       "      <td>NaN</td>\n",
       "      <td>NaN</td>\n",
       "      <td>506645.0</td>\n",
       "    </tr>\n",
       "    <tr>\n",
       "      <th>Mozilla/5.0 (Windows NT 10.0; Win64; x64; rv:62.0) Gecko/20100101 Firefox/62.0</th>\n",
       "      <td>NaN</td>\n",
       "      <td>NaN</td>\n",
       "      <td>NaN</td>\n",
       "      <td>NaN</td>\n",
       "      <td>NaN</td>\n",
       "      <td>243023.0</td>\n",
       "    </tr>\n",
       "  </tbody>\n",
       "</table>\n",
       "</div>"
      ],
      "text/plain": [
       "                                                         2013     2014  \\\n",
       "ua                                                                       \n",
       "Mozilla/5.0 (compatible; archive.org_bot; Wayba...  1238598.0  56591.0   \n",
       "Wget/1.19.5 (linux-gnu)                                   NaN      NaN   \n",
       "Mozilla/5.0 (Windows NT 10.0; Win64; x64) Apple...        NaN      NaN   \n",
       "Mozilla/5.0 (compatible; archive.org_bot; Wayba...        NaN      NaN   \n",
       "Mozilla/5.0 (Windows NT 10.0; Win64; x64; rv:62...        NaN      NaN   \n",
       "\n",
       "                                                       2015       2016  \\\n",
       "ua                                                                       \n",
       "Mozilla/5.0 (compatible; archive.org_bot; Wayba...  21916.0  1211109.0   \n",
       "Wget/1.19.5 (linux-gnu)                                 NaN        NaN   \n",
       "Mozilla/5.0 (Windows NT 10.0; Win64; x64) Apple...      NaN        NaN   \n",
       "Mozilla/5.0 (compatible; archive.org_bot; Wayba...      NaN        NaN   \n",
       "Mozilla/5.0 (Windows NT 10.0; Win64; x64; rv:62...      NaN        NaN   \n",
       "\n",
       "                                                         2017       2018  \n",
       "ua                                                                        \n",
       "Mozilla/5.0 (compatible; archive.org_bot; Wayba...  6633531.0  1487305.0  \n",
       "Wget/1.19.5 (linux-gnu)                                   NaN   719941.0  \n",
       "Mozilla/5.0 (Windows NT 10.0; Win64; x64) Apple...        NaN   560050.0  \n",
       "Mozilla/5.0 (compatible; archive.org_bot; Wayba...        NaN   506645.0  \n",
       "Mozilla/5.0 (Windows NT 10.0; Win64; x64; rv:62...        NaN   243023.0  "
      ]
     },
     "execution_count": 41,
     "metadata": {},
     "output_type": "execute_result"
    }
   ],
   "source": [
    "df.head()"
   ]
  },
  {
   "cell_type": "markdown",
   "metadata": {},
   "source": [
    "Save it for later, since it took about 6 hours to compute on XSEDE."
   ]
  },
  {
   "cell_type": "code",
   "execution_count": 33,
   "metadata": {},
   "outputs": [],
   "source": [
    "df.to_csv('../analysis/results/ua.csv')"
   ]
  },
  {
   "cell_type": "markdown",
   "metadata": {},
   "source": [
    "## Top 10 User Agents\n",
    "\n",
    "Let's see if we can find any rhyme or reason in this data. If the CSV has already been calculated we can load it here instead of waiting 6 hours for the analysis to run."
   ]
  },
  {
   "cell_type": "code",
   "execution_count": 1,
   "metadata": {},
   "outputs": [],
   "source": [
    "import pandas\n",
    "\n",
    "df = pandas.read_csv('../analysis/results/ua.csv', index_col='ua')"
   ]
  },
  {
   "cell_type": "markdown",
   "metadata": {},
   "source": [
    "What are the top 10 per year? We can iterate through the years and generate a table from our DataFrame for each year:"
   ]
  },
  {
   "cell_type": "code",
   "execution_count": 2,
   "metadata": {
    "scrolled": false
   },
   "outputs": [
    {
     "data": {
      "text/markdown": [
       "### 2013\n",
       "| user-agent | count |\n",
       "| ---------- | ----- |\n",
       "| Mozilla/5.0 (compatible; archive.org_bot; Wayback Machine Live Record; +http://archive.org/details/archive.org_bot) | 1238598.0 |"
      ],
      "text/plain": [
       "<IPython.core.display.Markdown object>"
      ]
     },
     "metadata": {},
     "output_type": "display_data"
    },
    {
     "data": {
      "text/markdown": [
       "### 2014\n",
       "| user-agent | count |\n",
       "| ---------- | ----- |\n",
       "| Mozilla/5.0 (Windows NT 6.1; WOW64) AppleWebKit/537.36 (KHTML, like Gecko) Chrome/38.0.2125.104 Safari/537.36 (via Wayback Save Page) | 135766.0 |\n",
       "| Mozilla/5.0 (Windows NT 6.1; WOW64; rv:32.0) Gecko/20100101 Firefox/32.0 (via Wayback Save Page) | 81716.0 |\n",
       "| Mozilla/5.0 (Windows NT 6.3; WOW64) AppleWebKit/537.36 (KHTML, like Gecko) Chrome/38.0.2125.104 Safari/537.36 (via Wayback Save Page) | 76425.0 |\n",
       "| Mozilla/5.0 (Windows NT 6.1; WOW64; Trident/7.0; rv:11.0) like Gecko (via Wayback Save Page) | 61961.0 |\n",
       "| Mozilla/5.0 (compatible; archive.org_bot; Wayback Machine Live Record; +http://archive.org/details/archive.org_bot) | 56591.0 |\n",
       "| Mozilla/5.0 (Windows NT 6.1; WOW64; rv:33.0) Gecko/20100101 Firefox/33.0 (via Wayback Save Page) | 49612.0 |\n",
       "| Mozilla/5.0 (Windows NT 6.1) AppleWebKit/537.36 (KHTML, like Gecko) Chrome/38.0.2125.104 Safari/537.36 (via Wayback Save Page) | 48449.0 |\n",
       "| Mozilla/5.0 (Windows NT 6.1; WOW64; rv:17.0) Gecko/20100101 Firefox/17.0 (via Wayback Save Page) | 30932.0 |\n",
       "| Mozilla/5.0 (Windows NT 6.3; WOW64; rv:32.0) Gecko/20100101 Firefox/32.0 (via Wayback Save Page) | 27085.0 |\n",
       "| Mozilla/5.0 (Windows NT 6.1; rv:32.0) Gecko/20100101 Firefox/32.0 (via Wayback Save Page) | 26100.0 |"
      ],
      "text/plain": [
       "<IPython.core.display.Markdown object>"
      ]
     },
     "metadata": {},
     "output_type": "display_data"
    },
    {
     "data": {
      "text/markdown": [
       "### 2015\n",
       "| user-agent | count |\n",
       "| ---------- | ----- |\n",
       "| Mozilla/5.0 (Windows NT 6.1; WOW64; rv:41.0) Gecko/20100101 Firefox/41.0 (via Wayback Save Page) | 109033.0 |\n",
       "| Mozilla/5.0 (Windows NT 6.1; WOW64) AppleWebKit/537.36 (KHTML, like Gecko) Chrome/46.0.2490.71 Safari/537.36 (via Wayback Save Page) | 89467.0 |\n",
       "| Mozilla/5.0 (Windows NT 6.1; WOW64) AppleWebKit/537.36 (KHTML, like Gecko) Chrome/46.0.2490.80 Safari/537.36 (via Wayback Save Page) | 75917.0 |\n",
       "| Mozilla/5.0 (Windows NT 6.2; WOW64) AppleWebKit/537.36 (KHTML, like Gecko) Chrome/30.0.1599.17 Safari/537.36 (via Wayback Save Page) | 59968.0 |\n",
       "| Mozilla/5.0 (Windows NT 10.0; WOW64) AppleWebKit/537.36 (KHTML, like Gecko) Chrome/46.0.2490.80 Safari/537.36 (via Wayback Save Page) | 50673.0 |\n",
       "| Mozilla/5.0+(compatible; UptimeRobot/2.0; http://www.uptimerobot.com/) (via Wayback Save Page) | 50361.0 |\n",
       "| Mozilla/5.0 (Windows NT 6.1; WOW64; Trident/7.0; rv:11.0) like Gecko (via Wayback Save Page) | 50297.0 |\n",
       "| Mozilla/5.0 (Windows NT 6.3; WOW64) AppleWebKit/537.36 (KHTML, like Gecko) Chrome/46.0.2490.80 Safari/537.36 (via Wayback Save Page) | 44944.0 |\n",
       "| Mozilla/5.0 (Windows NT 10.0; WOW64) AppleWebKit/537.36 (KHTML, like Gecko) Chrome/46.0.2490.71 Safari/537.36 (via Wayback Save Page) | 43370.0 |\n",
       "| Mozilla/5.0 (Windows NT 10.0; WOW64; rv:41.0) Gecko/20100101 Firefox/41.0 (via Wayback Save Page) | 42281.0 |"
      ],
      "text/plain": [
       "<IPython.core.display.Markdown object>"
      ]
     },
     "metadata": {},
     "output_type": "display_data"
    },
    {
     "data": {
      "text/markdown": [
       "### 2016\n",
       "| user-agent | count |\n",
       "| ---------- | ----- |\n",
       "| Mozilla/5.0 (compatible; archive.org_bot; Wayback Machine Live Record; +http://archive.org/details/archive.org_bot) | 1211109.0 |\n",
       "| Mozilla/5.0 (Windows NT 6.1; WOW64) AppleWebKit/537.36 (KHTML, like Gecko) Chrome/53.0.2785.143 Safari/537.36 | 130914.0 |\n",
       "| Mozilla/5.0 (Windows NT 10.0; WOW64) AppleWebKit/537.36 (KHTML, like Gecko) Chrome/53.0.2785.143 Safari/537.36 | 121033.0 |\n",
       "| Mozilla/5.0 (Windows NT 6.1; WOW64; rv:49.0) Gecko/20100101 Firefox/49.0 | 114269.0 |\n",
       "| Mozilla/5.0 (Windows NT 6.3; WOW64; rv:49.0) Gecko/20100101 Firefox/49.0 | 105372.0 |\n",
       "| Mozilla/5.0 (Windows NT 10.0; WOW64; rv:49.0) Gecko/20100101 Firefox/49.0 | 100382.0 |\n",
       "| Mozilla/5.0 (Windows NT 6.1; WOW64) AppleWebKit/537.36 (KHTML, like Gecko) Chrome/54.0.2840.71 Safari/537.36 | 92051.0 |\n",
       "| Mozilla/5.0 (Windows NT 10.0; Win64; x64) AppleWebKit/537.36 (KHTML, like Gecko) Chrome/53.0.2785.143 Safari/537.36 | 74867.0 |\n",
       "| Mozilla/5.0 (Windows NT 6.1; WOW64; Trident/7.0; rv:11.0) like Gecko | 71952.0 |\n",
       "| Mozilla/5.0 (Windows NT 10.0; Win64; x64) AppleWebKit/537.36 (KHTML, like Gecko) Chrome/54.0.2840.71 Safari/537.36 | 52434.0 |"
      ],
      "text/plain": [
       "<IPython.core.display.Markdown object>"
      ]
     },
     "metadata": {},
     "output_type": "display_data"
    },
    {
     "data": {
      "text/markdown": [
       "### 2017\n",
       "| user-agent | count |\n",
       "| ---------- | ----- |\n",
       "| Mozilla/5.0 (compatible; archive.org_bot; Wayback Machine Live Record; +http://archive.org/details/archive.org_bot) | 6633531.0 |\n",
       "| okhttp/3.8.1 | 4096817.0 |\n",
       "| Mozilla/5.0 (Windows NT 10.0; Win64; x64) AppleWebKit/537.36 (KHTML, like Gecko) Chrome/61.0.3163.100 Safari/537.36 | 266695.0 |\n",
       "| curl/7.52.1 | 206883.0 |\n",
       "| Mozilla/5.0 (Windows NT 6.1; Win64; x64) AppleWebKit/537.36 (KHTML, like Gecko) Chrome/61.0.3163.100 Safari/537.36 | 120292.0 |\n",
       "| Mozilla | 100322.0 |\n",
       "| Mozilla/5.0 (Windows NT 6.2; WOW64) AppleWebKit/537.36 (KHTML, like Gecko) Chrome/30.0.1599.17 Safari/537.36 | 99970.0 |\n",
       "| Mozilla/5.0 (Macintosh; Intel Mac OS X 10_12_6) AppleWebKit/537.36 (KHTML, like Gecko) Chrome/61.0.3163.100 Safari/537.36 | 77720.0 |\n",
       "| Mozilla/5.0 (Windows NT 10.0; Win64; x64; rv:56.0) Gecko/20100101 Firefox/56.0 | 70324.0 |\n",
       "| python-requests/2.13.0 | 65643.0 |"
      ],
      "text/plain": [
       "<IPython.core.display.Markdown object>"
      ]
     },
     "metadata": {},
     "output_type": "display_data"
    },
    {
     "data": {
      "text/markdown": [
       "### 2018\n",
       "| user-agent | count |\n",
       "| ---------- | ----- |\n",
       "| Mozilla/5.0 (compatible; archive.org_bot; Wayback Machine Live Record; +http://archive.org/details/archive.org_bot) | 1487305.0 |\n",
       "| Wget/1.19.5 (linux-gnu) | 719941.0 |\n",
       "| Mozilla/5.0 (Windows NT 10.0; Win64; x64) AppleWebKit/537.36 (KHTML, like Gecko) Chrome/69.0.3497.100 Safari/537.36 | 560050.0 |\n",
       "| Mozilla/5.0 (compatible; archive.org_bot; Wayback Machine Live Record; http://archive.org/details/archive.org_bot) | 506645.0 |\n",
       "| Mozilla/5.0 (Windows NT 10.0; Win64; x64; rv:62.0) Gecko/20100101 Firefox/62.0 | 243023.0 |\n",
       "| Mozilla/5.0 (Windows NT 6.1; Win64; x64) AppleWebKit/537.36 (KHTML, like Gecko) Chrome/69.0.3497.100 Safari/537.36 | 223078.0 |\n",
       "| Wget/1.19.4 (darwin17.3.0) | 154725.0 |\n",
       "| Mozilla/5.0 (Windows NT 10.0; Win64; x64) AppleWebKit/537.36 (KHTML, like Gecko) Chrome/70.0.3538.67 Safari/537.36 | 109281.0 |\n",
       "| Mozilla/5.0 (Windows NT 10.0; Win64; x64) AppleWebKit/537.36 (KHTML, like Gecko) Chrome/70.0.3538.77 Safari/537.36 | 103726.0 |\n",
       "| Mozilla/5.0 (Windows NT 6.1; WOW64) AppleWebKit/534+ (KHTML, like Gecko) BingPreview/1.0b | 75130.0 |"
      ],
      "text/plain": [
       "<IPython.core.display.Markdown object>"
      ]
     },
     "metadata": {},
     "output_type": "display_data"
    }
   ],
   "source": [
    "from IPython.display import display, Markdown\n",
    "\n",
    "# create chunks of Markdown tables to display\n",
    "\n",
    "for year in range(2013, 2019):\n",
    "    y = str(year)\n",
    "    md_lines = [\n",
    "    \"### {}\".format(y),\n",
    "    \"| user-agent | count |\",\n",
    "    \"| ---------- | ----- |\"\n",
    "]\n",
    "    dfy = df.sort_values(by=y, ascending=False)\n",
    "    for ua, count in dfy[y].head(10).items():\n",
    "        if count > 0:\n",
    "            md_lines.append(\"| {} | {} |\".format(ua, count))\n",
    "    display(Markdown(\"\\n\".join(md_lines)))"
   ]
  },
  {
   "cell_type": "markdown",
   "metadata": {},
   "source": [
    "## Shifting Infrastructure\n",
    "\n",
    "A few interesting things pop out from just looking at the top 10 User-Agents by year. The first is that SavePageNow itself as a piece of software infrastructure has changed over the years. In 2013 it archived content from the web as\n",
    "\n",
    "    Mozilla/5.0 (compatible; archive.org_bot; Wayback Machine Live Record;\n",
    "    \n",
    "So as SavePageNow received requests from users to archive web content it simply went and requested those items from the web using a fixed User-Agent string. There is only one type of User-Agent that appears in all the HTTP requests in the WARC data for 2013 (or at least the day we sampled for that year).\n",
    "\n",
    "But in 2014 the User-Agent strings are much more varied. For example the top User-Agent was:\n",
    "\n",
    "    Mozilla/5.0 (Windows NT 6.1; WOW64) AppleWebKit/537.36 (KHTML, like Gecko) Chrome/38.0.2125.104 Safari/537.36 (via Wayback Save Page)`.\n",
    "\n",
    "This User-Agent string identifies a particular vesion of Chrome running on Windows. But also notice that appended on the end of this and other User-Agents in the list is the string `(via Wayback Save Page)`. It looks like in 2014 SavePageNow started using the User-Agent of the browser that original requestor, added an identifier for SavePageNow to the end, and then used that when requesting the web resource to archive.\n",
    "\n",
    "So in theory, web servers that log User-Agents would see User-Agents of that form in their server logs when SavePageNow was archiving content on their site.\n",
    "\n",
    "But then in 2016 things shift again and the top User-Agent changes to:\n",
    "\n",
    "    Mozilla/5.0 (compatible; archive.org_bot; Wayback Machine Live Record; +http://archive.org/details/archive.org_bot)\n",
    "    \n",
    "This User-Agent uniquely identifies *Wayback Machine Live Record* as a generic web client. While this is the #1 user agent for 2016, 2017, and 2018 it is always followed by a long tail of User-Agent strings that uniquely identifies a type of web client software, but the `(via Wayback Save Page)` has been dropped from the end. For example:\n",
    "\n",
    "    Mozilla/5.0 (Windows NT 6.1; WOW64) AppleWebKit/537.36 (KHTML, like Gecko) Chrome/53.0.2785.143 Safari/537.36 \t\n",
    "\n",
    "What might be going on here? \t\n",
    "\n",
    "One explanation is that in 2016 the SavePageNow software was adjusted in two ways. The first is that when archiving web content SavePageNow no longer appended `(via Wayback Save Page)` to the original User-Agent that requested the archive. It simply passed that original User-Agent through to its final destination. However the large number of `Wayback Machine Live Record` User-Agents is a bit of a mystery. When a browser requests something be archived could it be that request is passed through with the original User-Agent, but when it receives the HTML for that web page, and buids the DOM for it, resolving URLs for images, CSS, and JavaScript those subsequent requests get the `Wayback Machine Live Record` User-Agent when passing through SavePageNow?\n",
    "\n",
    "It's difficult to say without taking a much closer look at the WARC data. Which we will be doing in another notebook.\n"
   ]
  },
  {
   "cell_type": "markdown",
   "metadata": {},
   "source": [
    "## The Long-ish Tail\n",
    "\n",
    "Looking at the top 10 User-Agent was a useful start. But it also could be obscuring some patterns. So how many distinct User-Agent strings were there?\n"
   ]
  },
  {
   "cell_type": "code",
   "execution_count": 3,
   "metadata": {},
   "outputs": [
    {
     "data": {
      "text/plain": [
       "93843"
      ]
     },
     "execution_count": 3,
     "metadata": {},
     "output_type": "execute_result"
    }
   ],
   "source": [
    "len(df.index)"
   ]
  },
  {
   "cell_type": "markdown",
   "metadata": {},
   "source": [
    "93,843 is a lot of User-Agent strings! It might be interesting to examine what proportion of all the requests for a given year were from user agents in the top 10 for that year. To do that we need to massage our dataframe into a new dataframe so that we can easily visualize it with [Altair](https://altair-viz.github.io/)."
   ]
  },
  {
   "cell_type": "code",
   "execution_count": 94,
   "metadata": {},
   "outputs": [
    {
     "data": {
      "text/html": [
       "<div>\n",
       "<style scoped>\n",
       "    .dataframe tbody tr th:only-of-type {\n",
       "        vertical-align: middle;\n",
       "    }\n",
       "\n",
       "    .dataframe tbody tr th {\n",
       "        vertical-align: top;\n",
       "    }\n",
       "\n",
       "    .dataframe thead th {\n",
       "        text-align: right;\n",
       "    }\n",
       "</style>\n",
       "<table border=\"1\" class=\"dataframe\">\n",
       "  <thead>\n",
       "    <tr style=\"text-align: right;\">\n",
       "      <th></th>\n",
       "      <th>bucket</th>\n",
       "      <th>year</th>\n",
       "      <th>requests</th>\n",
       "    </tr>\n",
       "  </thead>\n",
       "  <tbody>\n",
       "    <tr>\n",
       "      <th>0</th>\n",
       "      <td>top-10</td>\n",
       "      <td>2013</td>\n",
       "      <td>1238598.0</td>\n",
       "    </tr>\n",
       "    <tr>\n",
       "      <th>1</th>\n",
       "      <td>the-rest</td>\n",
       "      <td>2013</td>\n",
       "      <td>0.0</td>\n",
       "    </tr>\n",
       "    <tr>\n",
       "      <th>2</th>\n",
       "      <td>top-10</td>\n",
       "      <td>2014</td>\n",
       "      <td>594637.0</td>\n",
       "    </tr>\n",
       "    <tr>\n",
       "      <th>3</th>\n",
       "      <td>the-rest</td>\n",
       "      <td>2014</td>\n",
       "      <td>966720.0</td>\n",
       "    </tr>\n",
       "    <tr>\n",
       "      <th>4</th>\n",
       "      <td>top-10</td>\n",
       "      <td>2015</td>\n",
       "      <td>616311.0</td>\n",
       "    </tr>\n",
       "  </tbody>\n",
       "</table>\n",
       "</div>"
      ],
      "text/plain": [
       "     bucket  year   requests\n",
       "0    top-10  2013  1238598.0\n",
       "1  the-rest  2013        0.0\n",
       "2    top-10  2014   594637.0\n",
       "3  the-rest  2014   966720.0\n",
       "4    top-10  2015   616311.0"
      ]
     },
     "execution_count": 94,
     "metadata": {},
     "output_type": "execute_result"
    }
   ],
   "source": [
    "ratios = {'bucket': [], 'year': [], 'requests': []}\n",
    "\n",
    "for year in range(2013, 2019):\n",
    "    y = str(year)\n",
    "    dfy = df.sort_values(by=y, ascending=False)\n",
    "    \n",
    "    ratios['year'].append(y)\n",
    "    ratios['bucket'].append('top-10')\n",
    "    ratios['requests'].append(dfy[y].head(10).sum())\n",
    "    \n",
    "    ratios['year'].append(y)\n",
    "    ratios['bucket'].append('the-rest')\n",
    "    ratios['requests'].append(dfy[y][10:].sum())\n",
    "\n",
    "ratios = pandas.DataFrame(ratios)\n",
    "ratios.head()"
   ]
  },
  {
   "cell_type": "code",
   "execution_count": 95,
   "metadata": {},
   "outputs": [
    {
     "data": {
      "application/javascript": [
       "var spec = {\"config\": {\"view\": {\"width\": 400, \"height\": 300}, \"mark\": {\"tooltip\": null}}, \"data\": {\"name\": \"data-f9ec30c71ad32e62561d78088aa6a437\"}, \"mark\": {\"type\": \"bar\", \"size\": 20}, \"encoding\": {\"color\": {\"type\": \"nominal\", \"field\": \"bucket\", \"scale\": {\"scheme\": \"tableau20\"}, \"title\": \"type\"}, \"x\": {\"type\": \"quantitative\", \"aggregate\": \"sum\", \"field\": \"requests\", \"title\": \"Archive Requests\"}, \"y\": {\"type\": \"nominal\", \"field\": \"year\", \"title\": \"Year\"}}, \"height\": 175, \"title\": \"User Agents Diversity per Year\", \"width\": 600, \"$schema\": \"https://vega.github.io/schema/vega-lite/v3.2.1.json\", \"datasets\": {\"data-f9ec30c71ad32e62561d78088aa6a437\": [{\"bucket\": \"top-10\", \"year\": \"2013\", \"requests\": 1238598.0}, {\"bucket\": \"the-rest\", \"year\": \"2013\", \"requests\": 0.0}, {\"bucket\": \"top-10\", \"year\": \"2014\", \"requests\": 594637.0}, {\"bucket\": \"the-rest\", \"year\": \"2014\", \"requests\": 966720.0}, {\"bucket\": \"top-10\", \"year\": \"2015\", \"requests\": 616311.0}, {\"bucket\": \"the-rest\", \"year\": \"2015\", \"requests\": 1245278.0}, {\"bucket\": \"top-10\", \"year\": \"2016\", \"requests\": 2074383.0}, {\"bucket\": \"the-rest\", \"year\": \"2016\", \"requests\": 1846440.0}, {\"bucket\": \"top-10\", \"year\": \"2017\", \"requests\": 11738197.0}, {\"bucket\": \"the-rest\", \"year\": \"2017\", \"requests\": 1657532.0}, {\"bucket\": \"top-10\", \"year\": \"2018\", \"requests\": 4182904.0}, {\"bucket\": \"the-rest\", \"year\": \"2018\", \"requests\": 3160246.0}]}};\n",
       "var opt = {};\n",
       "var type = \"vega-lite\";\n",
       "var id = \"9c0f6f4f-fa5f-4170-b1d1-b019e423a975\";\n",
       "\n",
       "var output_area = this;\n",
       "\n",
       "require([\"nbextensions/jupyter-vega/index\"], function(vega) {\n",
       "  var target = document.createElement(\"div\");\n",
       "  target.id = id;\n",
       "  target.className = \"vega-embed\";\n",
       "\n",
       "  var style = document.createElement(\"style\");\n",
       "  style.textContent = [\n",
       "    \".vega-embed .error p {\",\n",
       "    \"  color: firebrick;\",\n",
       "    \"  font-size: 14px;\",\n",
       "    \"}\",\n",
       "  ].join(\"\\\\n\");\n",
       "\n",
       "  // element is a jQuery wrapped DOM element inside the output area\n",
       "  // see http://ipython.readthedocs.io/en/stable/api/generated/\\\n",
       "  // IPython.display.html#IPython.display.Javascript.__init__\n",
       "  element[0].appendChild(target);\n",
       "  element[0].appendChild(style);\n",
       "\n",
       "  vega.render(\"#\" + id, spec, type, opt, output_area);\n",
       "}, function (err) {\n",
       "  if (err.requireType !== \"scripterror\") {\n",
       "    throw(err);\n",
       "  }\n",
       "});\n"
      ],
      "text/plain": [
       "<vega.vegalite.VegaLite at 0x1175d8320>"
      ]
     },
     "metadata": {
      "jupyter-vega": "#9c0f6f4f-fa5f-4170-b1d1-b019e423a975"
     },
     "output_type": "display_data"
    },
    {
     "data": {
      "text/plain": []
     },
     "execution_count": 95,
     "metadata": {},
     "output_type": "execute_result"
    },
    {
     "data": {
      "image/png": "[encoded data removed]"
     },
     "metadata": {
      "jupyter-vega": "#9c0f6f4f-fa5f-4170-b1d1-b019e423a975"
     },
     "output_type": "display_data"
    }
   ],
   "source": [
    "import altair\n",
    "altair.renderers.enable('notebook')\n",
    "\n",
    "chart = altair.Chart(ratios).mark_bar(size=20).encode(\n",
    "    altair.X('sum(requests)', title='Archive Requests'),\n",
    "    altair.Y('year', title='Year'),    \n",
    "    altair.Color('bucket', title='type', scale=altair.Scale(scheme='tableau20'))\n",
    ")\n",
    "chart = chart.properties(\n",
    "    width=600,\n",
    "    height=175,\n",
    "    title='User Agents Diversity per Year'\n",
    ")\n",
    "chart"
   ]
  },
  {
   "cell_type": "markdown",
   "metadata": {},
   "source": [
    "This is a helpful visualization because it shows that most of the time (except for year 1 when there is only one type of User-Agent) the top-10 User-Agents account for about 1/2 of the total requests. So there is definitely some diversity that's worth accounting for.\n",
    "\n",
    "But 2017 is unusual in that by far the top-10 User-Agents account for the majority of the requests. Also there appears to have been almost double the amount of WARC request records that year, as compared to the year following. This is counter-intuitive because the amount of WARC data on disk does not follow that same trend. "
   ]
  },
  {
   "cell_type": "code",
   "execution_count": 114,
   "metadata": {},
   "outputs": [
    {
     "data": {
      "application/javascript": [
       "var spec = {\"config\": {\"view\": {\"width\": 400, \"height\": 300}, \"mark\": {\"tooltip\": null}}, \"data\": {\"name\": \"data-2b43ecb2529f6a24325dacb447a8aef8\"}, \"mark\": {\"type\": \"bar\", \"size\": 20}, \"encoding\": {\"x\": {\"type\": \"quantitative\", \"field\": \"gb\", \"title\": \"Gigabytes\"}, \"y\": {\"type\": \"nominal\", \"field\": \"year\", \"title\": \"Year\"}}, \"title\": \"SPN WARC Data by Year\", \"$schema\": \"https://vega.github.io/schema/vega-lite/v3.2.1.json\", \"datasets\": {\"data-2b43ecb2529f6a24325dacb447a8aef8\": [{\"year\": \"2013\", \"gb\": 20.17127323243767}, {\"year\": \"2014\", \"gb\": 0.0}, {\"year\": \"2015\", \"gb\": 0.0}, {\"year\": \"2016\", \"gb\": 0.0}, {\"year\": \"2017\", \"gb\": 0.0}, {\"year\": \"2018\", \"gb\": 0.0}]}};\n",
       "var opt = {};\n",
       "var type = \"vega-lite\";\n",
       "var id = \"8a59e948-560b-4bed-a9f8-4234cb446e9f\";\n",
       "\n",
       "var output_area = this;\n",
       "\n",
       "require([\"nbextensions/jupyter-vega/index\"], function(vega) {\n",
       "  var target = document.createElement(\"div\");\n",
       "  target.id = id;\n",
       "  target.className = \"vega-embed\";\n",
       "\n",
       "  var style = document.createElement(\"style\");\n",
       "  style.textContent = [\n",
       "    \".vega-embed .error p {\",\n",
       "    \"  color: firebrick;\",\n",
       "    \"  font-size: 14px;\",\n",
       "    \"}\",\n",
       "  ].join(\"\\\\n\");\n",
       "\n",
       "  // element is a jQuery wrapped DOM element inside the output area\n",
       "  // see http://ipython.readthedocs.io/en/stable/api/generated/\\\n",
       "  // IPython.display.html#IPython.display.Javascript.__init__\n",
       "  element[0].appendChild(target);\n",
       "  element[0].appendChild(style);\n",
       "\n",
       "  vega.render(\"#\" + id, spec, type, opt, output_area);\n",
       "}, function (err) {\n",
       "  if (err.requireType !== \"scripterror\") {\n",
       "    throw(err);\n",
       "  }\n",
       "});\n"
      ],
      "text/plain": [
       "<vega.vegalite.VegaLite at 0x116bfc860>"
      ]
     },
     "metadata": {
      "jupyter-vega": "#8a59e948-560b-4bed-a9f8-4234cb446e9f"
     },
     "output_type": "display_data"
    },
    {
     "data": {
      "text/plain": []
     },
     "execution_count": 114,
     "metadata": {},
     "output_type": "execute_result"
    },
    {
     "data": {
      "image/png": "[encoded data removed]"
     },
     "metadata": {
      "jupyter-vega": "#8a59e948-560b-4bed-a9f8-4234cb446e9f"
     },
     "output_type": "display_data"
    }
   ],
   "source": [
    "from os.path import getsize\n",
    "\n",
    "sizes = {'year': [], 'gb': []}\n",
    "for year in range(2013, 2019):\n",
    "    sizes['year'].append(str(year))\n",
    "    warc_files = glob('warcs/liveweb-{}*/*.warc.gz'.format(year))\n",
    "    sizes['gb'].append(sum([getsize(path) for path in warc_files]) / (1024 ** 3))\n",
    "sizes = pandas.DataFrame(sizes)\n",
    "    \n",
    "chart = altair.Chart(sizes).mark_bar(size=20).encode(\n",
    "    altair.X('gb', title='Gigabytes'),\n",
    "    altair.Y('year', title='Year')\n",
    ")\n",
    "chart = chart.properties(title='SPN WARC Data by Year')\n",
    "chart"
   ]
  },
  {
   "cell_type": "markdown",
   "metadata": {},
   "source": [
    "# Lumping\n",
    "\n",
    "As mentioned above there is some method in the madness of these strings. Fortunately the [ua-parser](https://www.uaparser.org/) project has collected a lot of data about web User-Agents, and buit a database of patterns that are used in parser toolkits for various languages. There is one for Python that we can use."
   ]
  },
  {
   "cell_type": "code",
   "execution_count": 47,
   "metadata": {
    "scrolled": true
   },
   "outputs": [
    {
     "data": {
      "text/plain": [
       "{'user_agent': {'family': 'Safari',\n",
       "  'major': '12',\n",
       "  'minor': '0',\n",
       "  'patch': None},\n",
       " 'os': {'family': 'Mac OS X',\n",
       "  'major': '10',\n",
       "  'minor': '13',\n",
       "  'patch': '6',\n",
       "  'patch_minor': None},\n",
       " 'device': {'family': 'Other', 'brand': None, 'model': None},\n",
       " 'string': 'Mozilla/5.0 (Macintosh; Intel Mac OS X 10_13_6) AppleWebKit/605.1.15 (KHTML, like Gecko) Version/12.0 Safari/605.1.15'}"
      ]
     },
     "execution_count": 47,
     "metadata": {},
     "output_type": "execute_result"
    }
   ],
   "source": [
    "from ua_parser.user_agent_parser import Parse as parse_ua\n",
    "\n",
    "parse_ua('Mozilla/5.0 (Macintosh; Intel Mac OS X 10_13_6) AppleWebKit/605.1.15 (KHTML, like Gecko) Version/12.0 Safari/605.1.15')"
   ]
  },
  {
   "cell_type": "markdown",
   "metadata": {},
   "source": [
    "ua-parser breaks the User-Agent down into information about the user-agent, the operating system and the device."
   ]
  },
  {
   "cell_type": "code",
   "execution_count": 84,
   "metadata": {},
   "outputs": [
    {
     "name": "stdout",
     "output_type": "stream",
     "text": [
      "('2013', ua\n",
      "Mozilla/5.0 (compatible; archive.org_bot; Wayback Machine Live Record; +http://archive.org/details/archive.org_bot)                                                                                                        1238598.0\n",
      "Wget/1.19.5 (linux-gnu)                                                                                                                                                                                                          NaN\n",
      "Mozilla/5.0 (Windows NT 10.0; Win64; x64) AppleWebKit/537.36 (KHTML, like Gecko) Chrome/69.0.3497.100 Safari/537.36                                                                                                              NaN\n",
      "Mozilla/5.0 (compatible; archive.org_bot; Wayback Machine Live Record; http://archive.org/details/archive.org_bot)                                                                                                               NaN\n",
      "Mozilla/5.0 (Windows NT 10.0; Win64; x64; rv:62.0) Gecko/20100101 Firefox/62.0                                                                                                                                                   NaN\n",
      "Mozilla/5.0 (Windows NT 6.1; Win64; x64) AppleWebKit/537.36 (KHTML, like Gecko) Chrome/69.0.3497.100 Safari/537.36                                                                                                               NaN\n",
      "Wget/1.19.4 (darwin17.3.0)                                                                                                                                                                                                       NaN\n",
      "Mozilla/5.0 (Windows NT 10.0; Win64; x64) AppleWebKit/537.36 (KHTML, like Gecko) Chrome/70.0.3538.67 Safari/537.36                                                                                                               NaN\n",
      "Mozilla/5.0 (Windows NT 10.0; Win64; x64) AppleWebKit/537.36 (KHTML, like Gecko) Chrome/70.0.3538.77 Safari/537.36                                                                                                               NaN\n",
      "Mozilla/5.0 (Windows NT 6.1; WOW64) AppleWebKit/534+ (KHTML, like Gecko) BingPreview/1.0b                                                                                                                                        NaN\n",
      "Mozilla/5.0 (iPhone; CPU iPhone OS 12_0_1 like Mac OS X) AppleWebKit/605.1.15 (KHTML, like Gecko) Version/12.0 Mobile/15E148 Safari/604.1                                                                                        NaN\n",
      "Mozilla/5.0 (Windows NT 10.0; Win64; x64; rv:63.0) Gecko/20100101 Firefox/63.0                                                                                                                                                   NaN\n",
      "Mozilla/5.0 (Windows NT 6.1; Win64; x64; rv:62.0) Gecko/20100101 Firefox/62.0                                                                                                                                                    NaN\n",
      "Mozilla/5.0 (Macintosh; Intel Mac OS X 10_13_6) AppleWebKit/537.36 (KHTML, like Gecko) Chrome/69.0.3497.100 Safari/537.36                                                                                                        NaN\n",
      "Mozilla/5.0 (Windows NT 10.0; Win64; x64) AppleWebKit/537.36 (KHTML, like Gecko) Chrome/64.0.3282.140 Safari/537.36 Edge/17.17134                                                                                                NaN\n",
      "Mozilla/5.0 (Windows NT 6.1; Win64; x64; rv:63.0) Gecko/20100101 Firefox/63.0                                                                                                                                                    NaN\n",
      "Mozilla/5.0 (Windows NT 6.1) AppleWebKit/537.36 (KHTML, like Gecko) Chrome/69.0.3497.100 Safari/537.36                                                                                                                           NaN\n",
      "Mozilla/5.0 (Windows NT 6.3; Win64; x64) AppleWebKit/537.36 (KHTML, like Gecko) Chrome/69.0.3497.100 Safari/537.36                                                                                                               NaN\n",
      "Mozilla/5.0 (Linux; Android 4.2.1; en-us; Nexus 5 Build/JOP40D) AppleWebKit/535.19 (KHTML, like Gecko; googleweblight) Chrome/38.0.1025.166 Mobile Safari/535.19                                                                 NaN\n",
      "Mozilla/5.0 (Macintosh; Intel Mac OS X 10_14) AppleWebKit/605.1.15 (KHTML, like Gecko) Version/12.0 Safari/605.1.15                                                                                                              NaN\n",
      "Mozilla/5.0 (Macintosh; Intel Mac OS X 10_14_0) AppleWebKit/537.36 (KHTML, like Gecko) Chrome/69.0.3497.100 Safari/537.36                                                                                                        NaN\n",
      "Mozilla/5.0 (Windows NT 6.1; Win64; x64) AppleWebKit/537.36 (KHTML, like Gecko) Chrome/70.0.3538.67 Safari/537.36                                                                                                                NaN\n",
      "Mozilla/5.0 (Windows NT 6.1; Win64; x64) AppleWebKit/537.36 (KHTML, like Gecko) Chrome/70.0.3538.77 Safari/537.36                                                                                                                NaN\n",
      "Mozilla/5.0 (Windows NT 6.1; WOW64; Trident/7.0; rv:11.0) like Gecko                                                                                                                                                             NaN\n",
      "Mozilla/5.0 (Windows NT 10.0; Win64; x64) AppleWebKit/537.36 (KHTML, like Gecko) Chrome/60.0.3112.113 Safari/537.36                                                                                                              NaN\n",
      "curl/7.55.1                                                                                                                                                                                                                      NaN\n",
      "Mozilla/5.0 (Windows NT 6.1; rv:60.0) Gecko/20100101 Firefox/60.0                                                                                                                                                                NaN\n",
      "Mozilla/5.0 (iPhone; CPU iPhone OS 7_0 like Mac OS X) AppleWebKit/537.51.1 (KHTML, like Gecko) Version/7.0 Mobile/11A465 Safari/9537.53 BingPreview/1.0b                                                                         NaN\n",
      "Mozilla/5.0 (X11; CrOS x86_64 10895.78.0) AppleWebKit/537.36 (KHTML, like Gecko) Chrome/69.0.3497.120 Safari/537.36                                                                                                              NaN\n",
      "Mozilla/5.0 (iPhone; CPU iPhone OS 11_4_1 like Mac OS X) AppleWebKit/605.1.15 (KHTML, like Gecko) Version/11.0 Mobile/15E148 Safari/604.1                                                                                        NaN\n",
      "                                                                                                                                                                                                                             ...    \n",
      "JOSM/1.5 (7647 fr) Linux Mint 17 Qiana Java/1.7.0_65 (via Wayback Save Page)                                                                                                                                                     NaN\n",
      "Opera/9.80 (Windows NT 6.1; WOW64; MRA 8.2 (build 7134)) Presto/2.12.388 Version/12.17 (via Wayback Save Page)                                                                                                                   NaN\n",
      "Opera/9.80 (Android; Opera Mini/7.5.33361/35.5125; U; vi) Presto/2.8.119 Version/11.10 (via Wayback Save Page)                                                                                                                   NaN\n",
      "Opera/9.80 (Windows NT 6.1; WOW64; U; Edition Indian Local; en) Presto/2.10.229 Version/11.64 (via Wayback Save Page)                                                                                                            NaN\n",
      "DoCoMo/2.0 F01C(c500;TB;W24H16) (via Wayback Save Page)                                                                                                                                                                          NaN\n",
      "Mozilla/4.0 (compatible; MSIE 6.0; Windows ME) Opera 7.11  [en] (via Wayback Save Page)                                                                                                                                          NaN\n",
      "PEAR HTTP_Request class ( http://pear.php.net/ ) (via Wayback Save Page)                                                                                                                                                         NaN\n",
      "Mozilla/5.0 (compatible; MSIE 10.0; AOL 9.6; AOLBuild 4340.168; Windows NT 6.1; WOW64; Trident/6.0) (via Wayback Save Page)                                                                                                      NaN\n",
      "Mozilla/4.0 (compatible; MSIE 8.0; Windows NT 5.1; Trident/4.0; .NET4.0C; .NET4.0E; .NET CLR 2.0.50727; .NET CLR 3.0.04506.648; .NET CLR 3.5.21022; .NET CLR 3.0.4506.2152; .NET CLR 3.5.30729) (via Wayback Save Page)          NaN\n",
      "SAMSUNG-GT-S3802 Opera/9.80 (J2ME/MIDP; Opera Mini/7.1.33578/35.5125; U; en) Presto/2.8.119 Version/11.10 (via Wayback Save Page)                                                                                                NaN\n",
      "QuickTime/7.7.1 (qtver=7.7.1;cpu=IA32;os=Mac 10.7.5) (via Wayback Save Page)                                                                                                                                                     NaN\n",
      "Mozilla/5.0 (compatible; MSIE 10.0; Windows Phone 8.0; Trident/6.0; IEMobile/10.0; ARM; Touch; NOKIA; Lumia 525) (via Wayback Save Page)                                                                                         NaN\n",
      "Mozilla/5.0 (compatible; MSIE 10.0; Windows Phone 8.0; Trident/6.0; IEMobile/10.0; ARM; Touch; NOKIA; Lumia 530 Dual SIM) (via Wayback Save Page)                                                                                NaN\n",
      "Mozilla/5.0 (compatible; MSIE 10.0; Windows Phone 8.0; Trident/6.0; IEMobile/10.0; ARM; Touch; NOKIA; Lumia 625; Vodafone) (via Wayback Save Page)                                                                               NaN\n",
      "Mozilla/5.0 (compatible; MSIE 9.0; AOL 9.7; AOLBuild 4343.30; Windows NT 6.0; Trident/5.0) (via Wayback Save Page)                                                                                                               NaN\n",
      "Mozilla/4.0 (compatible; MSIE 6.0; Windows NT 5.1; SV1; .NET4.0C; .NET4.0E) (via Wayback Save Page)                                                                                                                              NaN\n",
      "Mozilla/5.0 (compatible; MSIE 9.0; Windows NT 6.0; Trident/5.0; DI7SP2; DI7SP2) (via Wayback Save Page)                                                                                                                          NaN\n",
      "Opera/9.80 (Windows NT 6.0; U; ru) Presto/2.8.131 Version/11.10 (via Wayback Save Page)                                                                                                                                          NaN\n",
      "Mozilla/5.0 (compatible; MSIE 9.0; Windows NT 6.0; Trident/5.0; BOIE9;ENUSMSNIP) (via Wayback Save Page)                                                                                                                         NaN\n",
      "Mozilla/5.0 (compatible; MSIE 9.0; Windows NT 6.0; Trident/5.0; BOIE9;ENUSMSE) (via Wayback Save Page)                                                                                                                           NaN\n",
      "Mozilla/5.0 (compatible; MSIE 9.0; Windows NT 6.0; Trident/5.0; BOIE9;ENUS; YTB730) (via Wayback Save Page)                                                                                                                      NaN\n",
      "Mozilla/4.0 (compatible; MSIE 8.0; Windows NT 5.1; Trident/4.0; .NET CLR 2.0.50727; .NET CLR 3.0.04506.648; .NET4.0C; .NET4.0E) (via Wayback Save Page)                                                                          NaN\n",
      "Opera/9.80 (Windows NT 5.2) Presto/2.12.388 Version/12.14 (via Wayback Save Page)                                                                                                                                                NaN\n",
      "Opera/9.80 (Windows NT 5.1; U; ru) Presto/2.6.30 Version/10.62 (via Wayback Save Page)                                                                                                                                           NaN\n",
      "Mozilla/4.0 (compatible; MSIE 8.0; Windows NT 5.1; Trident/4.0; BTRS100287; GTB7.5; .NET4.0C; .NET CLR 3.0.4506.2152; .NET CLR 2.0.50727; .NET CLR 3.5.30729; BRI/2) (via Wayback Save Page)                                     NaN\n",
      "Mozilla/5.0 (iPad; CPU OS 7_0_4 like Mac OS X) AppleWebKit/537.51.1 (KHTML, like Gecko) Mobile/11B554a Twitter for iPhone (via Wayback Save Page)                                                                                NaN\n",
      "Opera/9.80 (iPad; Opera Mini/8.0.5/35.5125; U; pl) Presto/2.8.119 Version/11.10 (via Wayback Save Page)                                                                                                                          NaN\n",
      "Mozilla/5.0 (compatible; MSIE 10.0; Windows NT 6.1; WOW64; Trident/6.0; BOIE9;ENUSSEM) (via Wayback Save Page)                                                                                                                   NaN\n",
      "POLARIS/6.1 (BREW 3.1.5; U; en-us; LG; POLARIS/6.1/WAP) Sprint LX101 MMP/2.0 Profile/MIDP-2.1 Configuration/CLDC-1.1 UNTRUSTED/1.0 (via Wayback Save Page)                                                                       NaN\n",
      "stagefright/1.2 (Linux;Android 4.2.1) (via Wayback Save Page)                                                                                                                                                                    NaN\n",
      "Name: 2013, Length: 93843, dtype: float64)\n",
      "('2014', ua\n",
      "Mozilla/5.0 (compatible; archive.org_bot; Wayback Machine Live Record; +http://archive.org/details/archive.org_bot)                                                                                                        56591.0\n",
      "Wget/1.19.5 (linux-gnu)                                                                                                                                                                                                        NaN\n",
      "Mozilla/5.0 (Windows NT 10.0; Win64; x64) AppleWebKit/537.36 (KHTML, like Gecko) Chrome/69.0.3497.100 Safari/537.36                                                                                                            NaN\n",
      "Mozilla/5.0 (compatible; archive.org_bot; Wayback Machine Live Record; http://archive.org/details/archive.org_bot)                                                                                                             NaN\n",
      "Mozilla/5.0 (Windows NT 10.0; Win64; x64; rv:62.0) Gecko/20100101 Firefox/62.0                                                                                                                                                 NaN\n",
      "Mozilla/5.0 (Windows NT 6.1; Win64; x64) AppleWebKit/537.36 (KHTML, like Gecko) Chrome/69.0.3497.100 Safari/537.36                                                                                                             NaN\n",
      "Wget/1.19.4 (darwin17.3.0)                                                                                                                                                                                                     NaN\n",
      "Mozilla/5.0 (Windows NT 10.0; Win64; x64) AppleWebKit/537.36 (KHTML, like Gecko) Chrome/70.0.3538.67 Safari/537.36                                                                                                             NaN\n",
      "Mozilla/5.0 (Windows NT 10.0; Win64; x64) AppleWebKit/537.36 (KHTML, like Gecko) Chrome/70.0.3538.77 Safari/537.36                                                                                                             NaN\n",
      "Mozilla/5.0 (Windows NT 6.1; WOW64) AppleWebKit/534+ (KHTML, like Gecko) BingPreview/1.0b                                                                                                                                      NaN\n",
      "Mozilla/5.0 (iPhone; CPU iPhone OS 12_0_1 like Mac OS X) AppleWebKit/605.1.15 (KHTML, like Gecko) Version/12.0 Mobile/15E148 Safari/604.1                                                                                      NaN\n",
      "Mozilla/5.0 (Windows NT 10.0; Win64; x64; rv:63.0) Gecko/20100101 Firefox/63.0                                                                                                                                                 NaN\n",
      "Mozilla/5.0 (Windows NT 6.1; Win64; x64; rv:62.0) Gecko/20100101 Firefox/62.0                                                                                                                                                  NaN\n",
      "Mozilla/5.0 (Macintosh; Intel Mac OS X 10_13_6) AppleWebKit/537.36 (KHTML, like Gecko) Chrome/69.0.3497.100 Safari/537.36                                                                                                      NaN\n",
      "Mozilla/5.0 (Windows NT 10.0; Win64; x64) AppleWebKit/537.36 (KHTML, like Gecko) Chrome/64.0.3282.140 Safari/537.36 Edge/17.17134                                                                                              NaN\n",
      "Mozilla/5.0 (Windows NT 6.1; Win64; x64; rv:63.0) Gecko/20100101 Firefox/63.0                                                                                                                                                  NaN\n",
      "Mozilla/5.0 (Windows NT 6.1) AppleWebKit/537.36 (KHTML, like Gecko) Chrome/69.0.3497.100 Safari/537.36                                                                                                                         NaN\n",
      "Mozilla/5.0 (Windows NT 6.3; Win64; x64) AppleWebKit/537.36 (KHTML, like Gecko) Chrome/69.0.3497.100 Safari/537.36                                                                                                             NaN\n",
      "Mozilla/5.0 (Linux; Android 4.2.1; en-us; Nexus 5 Build/JOP40D) AppleWebKit/535.19 (KHTML, like Gecko; googleweblight) Chrome/38.0.1025.166 Mobile Safari/535.19                                                               NaN\n",
      "Mozilla/5.0 (Macintosh; Intel Mac OS X 10_14) AppleWebKit/605.1.15 (KHTML, like Gecko) Version/12.0 Safari/605.1.15                                                                                                            NaN\n",
      "Mozilla/5.0 (Macintosh; Intel Mac OS X 10_14_0) AppleWebKit/537.36 (KHTML, like Gecko) Chrome/69.0.3497.100 Safari/537.36                                                                                                      NaN\n",
      "Mozilla/5.0 (Windows NT 6.1; Win64; x64) AppleWebKit/537.36 (KHTML, like Gecko) Chrome/70.0.3538.67 Safari/537.36                                                                                                              NaN\n",
      "Mozilla/5.0 (Windows NT 6.1; Win64; x64) AppleWebKit/537.36 (KHTML, like Gecko) Chrome/70.0.3538.77 Safari/537.36                                                                                                              NaN\n",
      "Mozilla/5.0 (Windows NT 6.1; WOW64; Trident/7.0; rv:11.0) like Gecko                                                                                                                                                           NaN\n",
      "Mozilla/5.0 (Windows NT 10.0; Win64; x64) AppleWebKit/537.36 (KHTML, like Gecko) Chrome/60.0.3112.113 Safari/537.36                                                                                                            NaN\n",
      "curl/7.55.1                                                                                                                                                                                                                    NaN\n",
      "Mozilla/5.0 (Windows NT 6.1; rv:60.0) Gecko/20100101 Firefox/60.0                                                                                                                                                              NaN\n",
      "Mozilla/5.0 (iPhone; CPU iPhone OS 7_0 like Mac OS X) AppleWebKit/537.51.1 (KHTML, like Gecko) Version/7.0 Mobile/11A465 Safari/9537.53 BingPreview/1.0b                                                                       NaN\n",
      "Mozilla/5.0 (X11; CrOS x86_64 10895.78.0) AppleWebKit/537.36 (KHTML, like Gecko) Chrome/69.0.3497.120 Safari/537.36                                                                                                            NaN\n",
      "Mozilla/5.0 (iPhone; CPU iPhone OS 11_4_1 like Mac OS X) AppleWebKit/605.1.15 (KHTML, like Gecko) Version/11.0 Mobile/15E148 Safari/604.1                                                                                      NaN\n",
      "                                                                                                                                                                                                                            ...   \n",
      "JOSM/1.5 (7647 fr) Linux Mint 17 Qiana Java/1.7.0_65 (via Wayback Save Page)                                                                                                                                                   1.0\n",
      "Opera/9.80 (Windows NT 6.1; WOW64; MRA 8.2 (build 7134)) Presto/2.12.388 Version/12.17 (via Wayback Save Page)                                                                                                                 1.0\n",
      "Opera/9.80 (Android; Opera Mini/7.5.33361/35.5125; U; vi) Presto/2.8.119 Version/11.10 (via Wayback Save Page)                                                                                                                 1.0\n",
      "Opera/9.80 (Windows NT 6.1; WOW64; U; Edition Indian Local; en) Presto/2.10.229 Version/11.64 (via Wayback Save Page)                                                                                                          1.0\n",
      "DoCoMo/2.0 F01C(c500;TB;W24H16) (via Wayback Save Page)                                                                                                                                                                        1.0\n",
      "Mozilla/4.0 (compatible; MSIE 6.0; Windows ME) Opera 7.11  [en] (via Wayback Save Page)                                                                                                                                        1.0\n",
      "PEAR HTTP_Request class ( http://pear.php.net/ ) (via Wayback Save Page)                                                                                                                                                       1.0\n",
      "Mozilla/5.0 (compatible; MSIE 10.0; AOL 9.6; AOLBuild 4340.168; Windows NT 6.1; WOW64; Trident/6.0) (via Wayback Save Page)                                                                                                    1.0\n",
      "Mozilla/4.0 (compatible; MSIE 8.0; Windows NT 5.1; Trident/4.0; .NET4.0C; .NET4.0E; .NET CLR 2.0.50727; .NET CLR 3.0.04506.648; .NET CLR 3.5.21022; .NET CLR 3.0.4506.2152; .NET CLR 3.5.30729) (via Wayback Save Page)        1.0\n",
      "SAMSUNG-GT-S3802 Opera/9.80 (J2ME/MIDP; Opera Mini/7.1.33578/35.5125; U; en) Presto/2.8.119 Version/11.10 (via Wayback Save Page)                                                                                              1.0\n",
      "QuickTime/7.7.1 (qtver=7.7.1;cpu=IA32;os=Mac 10.7.5) (via Wayback Save Page)                                                                                                                                                   1.0\n",
      "Mozilla/5.0 (compatible; MSIE 10.0; Windows Phone 8.0; Trident/6.0; IEMobile/10.0; ARM; Touch; NOKIA; Lumia 525) (via Wayback Save Page)                                                                                       1.0\n",
      "Mozilla/5.0 (compatible; MSIE 10.0; Windows Phone 8.0; Trident/6.0; IEMobile/10.0; ARM; Touch; NOKIA; Lumia 530 Dual SIM) (via Wayback Save Page)                                                                              1.0\n",
      "Mozilla/5.0 (compatible; MSIE 10.0; Windows Phone 8.0; Trident/6.0; IEMobile/10.0; ARM; Touch; NOKIA; Lumia 625; Vodafone) (via Wayback Save Page)                                                                             1.0\n",
      "Mozilla/5.0 (compatible; MSIE 9.0; AOL 9.7; AOLBuild 4343.30; Windows NT 6.0; Trident/5.0) (via Wayback Save Page)                                                                                                             1.0\n",
      "Mozilla/4.0 (compatible; MSIE 6.0; Windows NT 5.1; SV1; .NET4.0C; .NET4.0E) (via Wayback Save Page)                                                                                                                            1.0\n",
      "Mozilla/5.0 (compatible; MSIE 9.0; Windows NT 6.0; Trident/5.0; DI7SP2; DI7SP2) (via Wayback Save Page)                                                                                                                        1.0\n",
      "Opera/9.80 (Windows NT 6.0; U; ru) Presto/2.8.131 Version/11.10 (via Wayback Save Page)                                                                                                                                        1.0\n",
      "Mozilla/5.0 (compatible; MSIE 9.0; Windows NT 6.0; Trident/5.0; BOIE9;ENUSMSNIP) (via Wayback Save Page)                                                                                                                       1.0\n",
      "Mozilla/5.0 (compatible; MSIE 9.0; Windows NT 6.0; Trident/5.0; BOIE9;ENUSMSE) (via Wayback Save Page)                                                                                                                         1.0\n",
      "Mozilla/5.0 (compatible; MSIE 9.0; Windows NT 6.0; Trident/5.0; BOIE9;ENUS; YTB730) (via Wayback Save Page)                                                                                                                    1.0\n",
      "Mozilla/4.0 (compatible; MSIE 8.0; Windows NT 5.1; Trident/4.0; .NET CLR 2.0.50727; .NET CLR 3.0.04506.648; .NET4.0C; .NET4.0E) (via Wayback Save Page)                                                                        1.0\n",
      "Opera/9.80 (Windows NT 5.2) Presto/2.12.388 Version/12.14 (via Wayback Save Page)                                                                                                                                              1.0\n",
      "Opera/9.80 (Windows NT 5.1; U; ru) Presto/2.6.30 Version/10.62 (via Wayback Save Page)                                                                                                                                         1.0\n",
      "Mozilla/4.0 (compatible; MSIE 8.0; Windows NT 5.1; Trident/4.0; BTRS100287; GTB7.5; .NET4.0C; .NET CLR 3.0.4506.2152; .NET CLR 2.0.50727; .NET CLR 3.5.30729; BRI/2) (via Wayback Save Page)                                   1.0\n",
      "Mozilla/5.0 (iPad; CPU OS 7_0_4 like Mac OS X) AppleWebKit/537.51.1 (KHTML, like Gecko) Mobile/11B554a Twitter for iPhone (via Wayback Save Page)                                                                              1.0\n",
      "Opera/9.80 (iPad; Opera Mini/8.0.5/35.5125; U; pl) Presto/2.8.119 Version/11.10 (via Wayback Save Page)                                                                                                                        1.0\n",
      "Mozilla/5.0 (compatible; MSIE 10.0; Windows NT 6.1; WOW64; Trident/6.0; BOIE9;ENUSSEM) (via Wayback Save Page)                                                                                                                 1.0\n",
      "POLARIS/6.1 (BREW 3.1.5; U; en-us; LG; POLARIS/6.1/WAP) Sprint LX101 MMP/2.0 Profile/MIDP-2.1 Configuration/CLDC-1.1 UNTRUSTED/1.0 (via Wayback Save Page)                                                                     1.0\n",
      "stagefright/1.2 (Linux;Android 4.2.1) (via Wayback Save Page)                                                                                                                                                                  1.0\n",
      "Name: 2014, Length: 93843, dtype: float64)\n",
      "('2015', ua\n",
      "Mozilla/5.0 (compatible; archive.org_bot; Wayback Machine Live Record; +http://archive.org/details/archive.org_bot)                                                                                                        21916.0\n",
      "Wget/1.19.5 (linux-gnu)                                                                                                                                                                                                        NaN\n",
      "Mozilla/5.0 (Windows NT 10.0; Win64; x64) AppleWebKit/537.36 (KHTML, like Gecko) Chrome/69.0.3497.100 Safari/537.36                                                                                                            NaN\n",
      "Mozilla/5.0 (compatible; archive.org_bot; Wayback Machine Live Record; http://archive.org/details/archive.org_bot)                                                                                                             NaN\n",
      "Mozilla/5.0 (Windows NT 10.0; Win64; x64; rv:62.0) Gecko/20100101 Firefox/62.0                                                                                                                                                 NaN\n",
      "Mozilla/5.0 (Windows NT 6.1; Win64; x64) AppleWebKit/537.36 (KHTML, like Gecko) Chrome/69.0.3497.100 Safari/537.36                                                                                                             NaN\n",
      "Wget/1.19.4 (darwin17.3.0)                                                                                                                                                                                                     NaN\n",
      "Mozilla/5.0 (Windows NT 10.0; Win64; x64) AppleWebKit/537.36 (KHTML, like Gecko) Chrome/70.0.3538.67 Safari/537.36                                                                                                             NaN\n",
      "Mozilla/5.0 (Windows NT 10.0; Win64; x64) AppleWebKit/537.36 (KHTML, like Gecko) Chrome/70.0.3538.77 Safari/537.36                                                                                                             NaN\n",
      "Mozilla/5.0 (Windows NT 6.1; WOW64) AppleWebKit/534+ (KHTML, like Gecko) BingPreview/1.0b                                                                                                                                      NaN\n",
      "Mozilla/5.0 (iPhone; CPU iPhone OS 12_0_1 like Mac OS X) AppleWebKit/605.1.15 (KHTML, like Gecko) Version/12.0 Mobile/15E148 Safari/604.1                                                                                      NaN\n",
      "Mozilla/5.0 (Windows NT 10.0; Win64; x64; rv:63.0) Gecko/20100101 Firefox/63.0                                                                                                                                                 NaN\n",
      "Mozilla/5.0 (Windows NT 6.1; Win64; x64; rv:62.0) Gecko/20100101 Firefox/62.0                                                                                                                                                  NaN\n",
      "Mozilla/5.0 (Macintosh; Intel Mac OS X 10_13_6) AppleWebKit/537.36 (KHTML, like Gecko) Chrome/69.0.3497.100 Safari/537.36                                                                                                      NaN\n",
      "Mozilla/5.0 (Windows NT 10.0; Win64; x64) AppleWebKit/537.36 (KHTML, like Gecko) Chrome/64.0.3282.140 Safari/537.36 Edge/17.17134                                                                                              NaN\n",
      "Mozilla/5.0 (Windows NT 6.1; Win64; x64; rv:63.0) Gecko/20100101 Firefox/63.0                                                                                                                                                  NaN\n",
      "Mozilla/5.0 (Windows NT 6.1) AppleWebKit/537.36 (KHTML, like Gecko) Chrome/69.0.3497.100 Safari/537.36                                                                                                                         NaN\n",
      "Mozilla/5.0 (Windows NT 6.3; Win64; x64) AppleWebKit/537.36 (KHTML, like Gecko) Chrome/69.0.3497.100 Safari/537.36                                                                                                             NaN\n",
      "Mozilla/5.0 (Linux; Android 4.2.1; en-us; Nexus 5 Build/JOP40D) AppleWebKit/535.19 (KHTML, like Gecko; googleweblight) Chrome/38.0.1025.166 Mobile Safari/535.19                                                               NaN\n",
      "Mozilla/5.0 (Macintosh; Intel Mac OS X 10_14) AppleWebKit/605.1.15 (KHTML, like Gecko) Version/12.0 Safari/605.1.15                                                                                                            NaN\n",
      "Mozilla/5.0 (Macintosh; Intel Mac OS X 10_14_0) AppleWebKit/537.36 (KHTML, like Gecko) Chrome/69.0.3497.100 Safari/537.36                                                                                                      NaN\n",
      "Mozilla/5.0 (Windows NT 6.1; Win64; x64) AppleWebKit/537.36 (KHTML, like Gecko) Chrome/70.0.3538.67 Safari/537.36                                                                                                              NaN\n",
      "Mozilla/5.0 (Windows NT 6.1; Win64; x64) AppleWebKit/537.36 (KHTML, like Gecko) Chrome/70.0.3538.77 Safari/537.36                                                                                                              NaN\n",
      "Mozilla/5.0 (Windows NT 6.1; WOW64; Trident/7.0; rv:11.0) like Gecko                                                                                                                                                           NaN\n",
      "Mozilla/5.0 (Windows NT 10.0; Win64; x64) AppleWebKit/537.36 (KHTML, like Gecko) Chrome/60.0.3112.113 Safari/537.36                                                                                                            NaN\n",
      "curl/7.55.1                                                                                                                                                                                                                    NaN\n",
      "Mozilla/5.0 (Windows NT 6.1; rv:60.0) Gecko/20100101 Firefox/60.0                                                                                                                                                              NaN\n",
      "Mozilla/5.0 (iPhone; CPU iPhone OS 7_0 like Mac OS X) AppleWebKit/537.51.1 (KHTML, like Gecko) Version/7.0 Mobile/11A465 Safari/9537.53 BingPreview/1.0b                                                                       NaN\n",
      "Mozilla/5.0 (X11; CrOS x86_64 10895.78.0) AppleWebKit/537.36 (KHTML, like Gecko) Chrome/69.0.3497.120 Safari/537.36                                                                                                            NaN\n",
      "Mozilla/5.0 (iPhone; CPU iPhone OS 11_4_1 like Mac OS X) AppleWebKit/605.1.15 (KHTML, like Gecko) Version/11.0 Mobile/15E148 Safari/604.1                                                                                      NaN\n",
      "                                                                                                                                                                                                                            ...   \n",
      "JOSM/1.5 (7647 fr) Linux Mint 17 Qiana Java/1.7.0_65 (via Wayback Save Page)                                                                                                                                                   NaN\n",
      "Opera/9.80 (Windows NT 6.1; WOW64; MRA 8.2 (build 7134)) Presto/2.12.388 Version/12.17 (via Wayback Save Page)                                                                                                                 NaN\n",
      "Opera/9.80 (Android; Opera Mini/7.5.33361/35.5125; U; vi) Presto/2.8.119 Version/11.10 (via Wayback Save Page)                                                                                                                 NaN\n",
      "Opera/9.80 (Windows NT 6.1; WOW64; U; Edition Indian Local; en) Presto/2.10.229 Version/11.64 (via Wayback Save Page)                                                                                                          NaN\n",
      "DoCoMo/2.0 F01C(c500;TB;W24H16) (via Wayback Save Page)                                                                                                                                                                        NaN\n",
      "Mozilla/4.0 (compatible; MSIE 6.0; Windows ME) Opera 7.11  [en] (via Wayback Save Page)                                                                                                                                        NaN\n",
      "PEAR HTTP_Request class ( http://pear.php.net/ ) (via Wayback Save Page)                                                                                                                                                       NaN\n",
      "Mozilla/5.0 (compatible; MSIE 10.0; AOL 9.6; AOLBuild 4340.168; Windows NT 6.1; WOW64; Trident/6.0) (via Wayback Save Page)                                                                                                    NaN\n",
      "Mozilla/4.0 (compatible; MSIE 8.0; Windows NT 5.1; Trident/4.0; .NET4.0C; .NET4.0E; .NET CLR 2.0.50727; .NET CLR 3.0.04506.648; .NET CLR 3.5.21022; .NET CLR 3.0.4506.2152; .NET CLR 3.5.30729) (via Wayback Save Page)        NaN\n",
      "SAMSUNG-GT-S3802 Opera/9.80 (J2ME/MIDP; Opera Mini/7.1.33578/35.5125; U; en) Presto/2.8.119 Version/11.10 (via Wayback Save Page)                                                                                              NaN\n",
      "QuickTime/7.7.1 (qtver=7.7.1;cpu=IA32;os=Mac 10.7.5) (via Wayback Save Page)                                                                                                                                                   NaN\n",
      "Mozilla/5.0 (compatible; MSIE 10.0; Windows Phone 8.0; Trident/6.0; IEMobile/10.0; ARM; Touch; NOKIA; Lumia 525) (via Wayback Save Page)                                                                                       NaN\n",
      "Mozilla/5.0 (compatible; MSIE 10.0; Windows Phone 8.0; Trident/6.0; IEMobile/10.0; ARM; Touch; NOKIA; Lumia 530 Dual SIM) (via Wayback Save Page)                                                                              NaN\n",
      "Mozilla/5.0 (compatible; MSIE 10.0; Windows Phone 8.0; Trident/6.0; IEMobile/10.0; ARM; Touch; NOKIA; Lumia 625; Vodafone) (via Wayback Save Page)                                                                             NaN\n",
      "Mozilla/5.0 (compatible; MSIE 9.0; AOL 9.7; AOLBuild 4343.30; Windows NT 6.0; Trident/5.0) (via Wayback Save Page)                                                                                                             NaN\n",
      "Mozilla/4.0 (compatible; MSIE 6.0; Windows NT 5.1; SV1; .NET4.0C; .NET4.0E) (via Wayback Save Page)                                                                                                                            NaN\n",
      "Mozilla/5.0 (compatible; MSIE 9.0; Windows NT 6.0; Trident/5.0; DI7SP2; DI7SP2) (via Wayback Save Page)                                                                                                                        NaN\n",
      "Opera/9.80 (Windows NT 6.0; U; ru) Presto/2.8.131 Version/11.10 (via Wayback Save Page)                                                                                                                                        NaN\n",
      "Mozilla/5.0 (compatible; MSIE 9.0; Windows NT 6.0; Trident/5.0; BOIE9;ENUSMSNIP) (via Wayback Save Page)                                                                                                                       NaN\n",
      "Mozilla/5.0 (compatible; MSIE 9.0; Windows NT 6.0; Trident/5.0; BOIE9;ENUSMSE) (via Wayback Save Page)                                                                                                                         NaN\n",
      "Mozilla/5.0 (compatible; MSIE 9.0; Windows NT 6.0; Trident/5.0; BOIE9;ENUS; YTB730) (via Wayback Save Page)                                                                                                                    NaN\n",
      "Mozilla/4.0 (compatible; MSIE 8.0; Windows NT 5.1; Trident/4.0; .NET CLR 2.0.50727; .NET CLR 3.0.04506.648; .NET4.0C; .NET4.0E) (via Wayback Save Page)                                                                        NaN\n",
      "Opera/9.80 (Windows NT 5.2) Presto/2.12.388 Version/12.14 (via Wayback Save Page)                                                                                                                                              NaN\n",
      "Opera/9.80 (Windows NT 5.1; U; ru) Presto/2.6.30 Version/10.62 (via Wayback Save Page)                                                                                                                                         NaN\n",
      "Mozilla/4.0 (compatible; MSIE 8.0; Windows NT 5.1; Trident/4.0; BTRS100287; GTB7.5; .NET4.0C; .NET CLR 3.0.4506.2152; .NET CLR 2.0.50727; .NET CLR 3.5.30729; BRI/2) (via Wayback Save Page)                                   NaN\n",
      "Mozilla/5.0 (iPad; CPU OS 7_0_4 like Mac OS X) AppleWebKit/537.51.1 (KHTML, like Gecko) Mobile/11B554a Twitter for iPhone (via Wayback Save Page)                                                                              NaN\n",
      "Opera/9.80 (iPad; Opera Mini/8.0.5/35.5125; U; pl) Presto/2.8.119 Version/11.10 (via Wayback Save Page)                                                                                                                        NaN\n",
      "Mozilla/5.0 (compatible; MSIE 10.0; Windows NT 6.1; WOW64; Trident/6.0; BOIE9;ENUSSEM) (via Wayback Save Page)                                                                                                                 NaN\n",
      "POLARIS/6.1 (BREW 3.1.5; U; en-us; LG; POLARIS/6.1/WAP) Sprint LX101 MMP/2.0 Profile/MIDP-2.1 Configuration/CLDC-1.1 UNTRUSTED/1.0 (via Wayback Save Page)                                                                     NaN\n",
      "stagefright/1.2 (Linux;Android 4.2.1) (via Wayback Save Page)                                                                                                                                                                  NaN\n",
      "Name: 2015, Length: 93843, dtype: float64)\n",
      "('2016', ua\n",
      "Mozilla/5.0 (compatible; archive.org_bot; Wayback Machine Live Record; +http://archive.org/details/archive.org_bot)                                                                                                        1211109.0\n",
      "Wget/1.19.5 (linux-gnu)                                                                                                                                                                                                          NaN\n",
      "Mozilla/5.0 (Windows NT 10.0; Win64; x64) AppleWebKit/537.36 (KHTML, like Gecko) Chrome/69.0.3497.100 Safari/537.36                                                                                                              NaN\n",
      "Mozilla/5.0 (compatible; archive.org_bot; Wayback Machine Live Record; http://archive.org/details/archive.org_bot)                                                                                                               NaN\n",
      "Mozilla/5.0 (Windows NT 10.0; Win64; x64; rv:62.0) Gecko/20100101 Firefox/62.0                                                                                                                                                   NaN\n",
      "Mozilla/5.0 (Windows NT 6.1; Win64; x64) AppleWebKit/537.36 (KHTML, like Gecko) Chrome/69.0.3497.100 Safari/537.36                                                                                                               NaN\n",
      "Wget/1.19.4 (darwin17.3.0)                                                                                                                                                                                                       NaN\n",
      "Mozilla/5.0 (Windows NT 10.0; Win64; x64) AppleWebKit/537.36 (KHTML, like Gecko) Chrome/70.0.3538.67 Safari/537.36                                                                                                               NaN\n",
      "Mozilla/5.0 (Windows NT 10.0; Win64; x64) AppleWebKit/537.36 (KHTML, like Gecko) Chrome/70.0.3538.77 Safari/537.36                                                                                                               NaN\n",
      "Mozilla/5.0 (Windows NT 6.1; WOW64) AppleWebKit/534+ (KHTML, like Gecko) BingPreview/1.0b                                                                                                                                       44.0\n",
      "Mozilla/5.0 (iPhone; CPU iPhone OS 12_0_1 like Mac OS X) AppleWebKit/605.1.15 (KHTML, like Gecko) Version/12.0 Mobile/15E148 Safari/604.1                                                                                        NaN\n",
      "Mozilla/5.0 (Windows NT 10.0; Win64; x64; rv:63.0) Gecko/20100101 Firefox/63.0                                                                                                                                                   NaN\n",
      "Mozilla/5.0 (Windows NT 6.1; Win64; x64; rv:62.0) Gecko/20100101 Firefox/62.0                                                                                                                                                    NaN\n",
      "Mozilla/5.0 (Macintosh; Intel Mac OS X 10_13_6) AppleWebKit/537.36 (KHTML, like Gecko) Chrome/69.0.3497.100 Safari/537.36                                                                                                        NaN\n",
      "Mozilla/5.0 (Windows NT 10.0; Win64; x64) AppleWebKit/537.36 (KHTML, like Gecko) Chrome/64.0.3282.140 Safari/537.36 Edge/17.17134                                                                                                NaN\n",
      "Mozilla/5.0 (Windows NT 6.1; Win64; x64; rv:63.0) Gecko/20100101 Firefox/63.0                                                                                                                                                    NaN\n",
      "Mozilla/5.0 (Windows NT 6.1) AppleWebKit/537.36 (KHTML, like Gecko) Chrome/69.0.3497.100 Safari/537.36                                                                                                                           NaN\n",
      "Mozilla/5.0 (Windows NT 6.3; Win64; x64) AppleWebKit/537.36 (KHTML, like Gecko) Chrome/69.0.3497.100 Safari/537.36                                                                                                               NaN\n",
      "Mozilla/5.0 (Linux; Android 4.2.1; en-us; Nexus 5 Build/JOP40D) AppleWebKit/535.19 (KHTML, like Gecko; googleweblight) Chrome/38.0.1025.166 Mobile Safari/535.19                                                               185.0\n",
      "Mozilla/5.0 (Macintosh; Intel Mac OS X 10_14) AppleWebKit/605.1.15 (KHTML, like Gecko) Version/12.0 Safari/605.1.15                                                                                                              NaN\n",
      "Mozilla/5.0 (Macintosh; Intel Mac OS X 10_14_0) AppleWebKit/537.36 (KHTML, like Gecko) Chrome/69.0.3497.100 Safari/537.36                                                                                                        NaN\n",
      "Mozilla/5.0 (Windows NT 6.1; Win64; x64) AppleWebKit/537.36 (KHTML, like Gecko) Chrome/70.0.3538.67 Safari/537.36                                                                                                                NaN\n",
      "Mozilla/5.0 (Windows NT 6.1; Win64; x64) AppleWebKit/537.36 (KHTML, like Gecko) Chrome/70.0.3538.77 Safari/537.36                                                                                                                NaN\n",
      "Mozilla/5.0 (Windows NT 6.1; WOW64; Trident/7.0; rv:11.0) like Gecko                                                                                                                                                         71952.0\n",
      "Mozilla/5.0 (Windows NT 10.0; Win64; x64) AppleWebKit/537.36 (KHTML, like Gecko) Chrome/60.0.3112.113 Safari/537.36                                                                                                              NaN\n",
      "curl/7.55.1                                                                                                                                                                                                                      NaN\n",
      "Mozilla/5.0 (Windows NT 6.1; rv:60.0) Gecko/20100101 Firefox/60.0                                                                                                                                                                NaN\n",
      "Mozilla/5.0 (iPhone; CPU iPhone OS 7_0 like Mac OS X) AppleWebKit/537.51.1 (KHTML, like Gecko) Version/7.0 Mobile/11A465 Safari/9537.53 BingPreview/1.0b                                                                        81.0\n",
      "Mozilla/5.0 (X11; CrOS x86_64 10895.78.0) AppleWebKit/537.36 (KHTML, like Gecko) Chrome/69.0.3497.120 Safari/537.36                                                                                                              NaN\n",
      "Mozilla/5.0 (iPhone; CPU iPhone OS 11_4_1 like Mac OS X) AppleWebKit/605.1.15 (KHTML, like Gecko) Version/11.0 Mobile/15E148 Safari/604.1                                                                                        NaN\n",
      "                                                                                                                                                                                                                             ...    \n",
      "JOSM/1.5 (7647 fr) Linux Mint 17 Qiana Java/1.7.0_65 (via Wayback Save Page)                                                                                                                                                     NaN\n",
      "Opera/9.80 (Windows NT 6.1; WOW64; MRA 8.2 (build 7134)) Presto/2.12.388 Version/12.17 (via Wayback Save Page)                                                                                                                   NaN\n",
      "Opera/9.80 (Android; Opera Mini/7.5.33361/35.5125; U; vi) Presto/2.8.119 Version/11.10 (via Wayback Save Page)                                                                                                                   NaN\n",
      "Opera/9.80 (Windows NT 6.1; WOW64; U; Edition Indian Local; en) Presto/2.10.229 Version/11.64 (via Wayback Save Page)                                                                                                            NaN\n",
      "DoCoMo/2.0 F01C(c500;TB;W24H16) (via Wayback Save Page)                                                                                                                                                                          NaN\n",
      "Mozilla/4.0 (compatible; MSIE 6.0; Windows ME) Opera 7.11  [en] (via Wayback Save Page)                                                                                                                                          NaN\n",
      "PEAR HTTP_Request class ( http://pear.php.net/ ) (via Wayback Save Page)                                                                                                                                                         NaN\n",
      "Mozilla/5.0 (compatible; MSIE 10.0; AOL 9.6; AOLBuild 4340.168; Windows NT 6.1; WOW64; Trident/6.0) (via Wayback Save Page)                                                                                                      NaN\n",
      "Mozilla/4.0 (compatible; MSIE 8.0; Windows NT 5.1; Trident/4.0; .NET4.0C; .NET4.0E; .NET CLR 2.0.50727; .NET CLR 3.0.04506.648; .NET CLR 3.5.21022; .NET CLR 3.0.4506.2152; .NET CLR 3.5.30729) (via Wayback Save Page)          NaN\n",
      "SAMSUNG-GT-S3802 Opera/9.80 (J2ME/MIDP; Opera Mini/7.1.33578/35.5125; U; en) Presto/2.8.119 Version/11.10 (via Wayback Save Page)                                                                                                NaN\n",
      "QuickTime/7.7.1 (qtver=7.7.1;cpu=IA32;os=Mac 10.7.5) (via Wayback Save Page)                                                                                                                                                     NaN\n",
      "Mozilla/5.0 (compatible; MSIE 10.0; Windows Phone 8.0; Trident/6.0; IEMobile/10.0; ARM; Touch; NOKIA; Lumia 525) (via Wayback Save Page)                                                                                         NaN\n",
      "Mozilla/5.0 (compatible; MSIE 10.0; Windows Phone 8.0; Trident/6.0; IEMobile/10.0; ARM; Touch; NOKIA; Lumia 530 Dual SIM) (via Wayback Save Page)                                                                                NaN\n",
      "Mozilla/5.0 (compatible; MSIE 10.0; Windows Phone 8.0; Trident/6.0; IEMobile/10.0; ARM; Touch; NOKIA; Lumia 625; Vodafone) (via Wayback Save Page)                                                                               NaN\n",
      "Mozilla/5.0 (compatible; MSIE 9.0; AOL 9.7; AOLBuild 4343.30; Windows NT 6.0; Trident/5.0) (via Wayback Save Page)                                                                                                               NaN\n",
      "Mozilla/4.0 (compatible; MSIE 6.0; Windows NT 5.1; SV1; .NET4.0C; .NET4.0E) (via Wayback Save Page)                                                                                                                              NaN\n",
      "Mozilla/5.0 (compatible; MSIE 9.0; Windows NT 6.0; Trident/5.0; DI7SP2; DI7SP2) (via Wayback Save Page)                                                                                                                          NaN\n",
      "Opera/9.80 (Windows NT 6.0; U; ru) Presto/2.8.131 Version/11.10 (via Wayback Save Page)                                                                                                                                          NaN\n",
      "Mozilla/5.0 (compatible; MSIE 9.0; Windows NT 6.0; Trident/5.0; BOIE9;ENUSMSNIP) (via Wayback Save Page)                                                                                                                         NaN\n",
      "Mozilla/5.0 (compatible; MSIE 9.0; Windows NT 6.0; Trident/5.0; BOIE9;ENUSMSE) (via Wayback Save Page)                                                                                                                           NaN\n",
      "Mozilla/5.0 (compatible; MSIE 9.0; Windows NT 6.0; Trident/5.0; BOIE9;ENUS; YTB730) (via Wayback Save Page)                                                                                                                      NaN\n",
      "Mozilla/4.0 (compatible; MSIE 8.0; Windows NT 5.1; Trident/4.0; .NET CLR 2.0.50727; .NET CLR 3.0.04506.648; .NET4.0C; .NET4.0E) (via Wayback Save Page)                                                                          NaN\n",
      "Opera/9.80 (Windows NT 5.2) Presto/2.12.388 Version/12.14 (via Wayback Save Page)                                                                                                                                                NaN\n",
      "Opera/9.80 (Windows NT 5.1; U; ru) Presto/2.6.30 Version/10.62 (via Wayback Save Page)                                                                                                                                           NaN\n",
      "Mozilla/4.0 (compatible; MSIE 8.0; Windows NT 5.1; Trident/4.0; BTRS100287; GTB7.5; .NET4.0C; .NET CLR 3.0.4506.2152; .NET CLR 2.0.50727; .NET CLR 3.5.30729; BRI/2) (via Wayback Save Page)                                     NaN\n",
      "Mozilla/5.0 (iPad; CPU OS 7_0_4 like Mac OS X) AppleWebKit/537.51.1 (KHTML, like Gecko) Mobile/11B554a Twitter for iPhone (via Wayback Save Page)                                                                                NaN\n",
      "Opera/9.80 (iPad; Opera Mini/8.0.5/35.5125; U; pl) Presto/2.8.119 Version/11.10 (via Wayback Save Page)                                                                                                                          NaN\n",
      "Mozilla/5.0 (compatible; MSIE 10.0; Windows NT 6.1; WOW64; Trident/6.0; BOIE9;ENUSSEM) (via Wayback Save Page)                                                                                                                   NaN\n",
      "POLARIS/6.1 (BREW 3.1.5; U; en-us; LG; POLARIS/6.1/WAP) Sprint LX101 MMP/2.0 Profile/MIDP-2.1 Configuration/CLDC-1.1 UNTRUSTED/1.0 (via Wayback Save Page)                                                                       NaN\n",
      "stagefright/1.2 (Linux;Android 4.2.1) (via Wayback Save Page)                                                                                                                                                                    NaN\n",
      "Name: 2016, Length: 93843, dtype: float64)\n",
      "('2017', ua\n",
      "Mozilla/5.0 (compatible; archive.org_bot; Wayback Machine Live Record; +http://archive.org/details/archive.org_bot)                                                                                                        6633531.0\n",
      "Wget/1.19.5 (linux-gnu)                                                                                                                                                                                                          NaN\n",
      "Mozilla/5.0 (Windows NT 10.0; Win64; x64) AppleWebKit/537.36 (KHTML, like Gecko) Chrome/69.0.3497.100 Safari/537.36                                                                                                              NaN\n",
      "Mozilla/5.0 (compatible; archive.org_bot; Wayback Machine Live Record; http://archive.org/details/archive.org_bot)                                                                                                               NaN\n",
      "Mozilla/5.0 (Windows NT 10.0; Win64; x64; rv:62.0) Gecko/20100101 Firefox/62.0                                                                                                                                                   NaN\n",
      "Mozilla/5.0 (Windows NT 6.1; Win64; x64) AppleWebKit/537.36 (KHTML, like Gecko) Chrome/69.0.3497.100 Safari/537.36                                                                                                               NaN\n",
      "Wget/1.19.4 (darwin17.3.0)                                                                                                                                                                                                       NaN\n",
      "Mozilla/5.0 (Windows NT 10.0; Win64; x64) AppleWebKit/537.36 (KHTML, like Gecko) Chrome/70.0.3538.67 Safari/537.36                                                                                                               NaN\n",
      "Mozilla/5.0 (Windows NT 10.0; Win64; x64) AppleWebKit/537.36 (KHTML, like Gecko) Chrome/70.0.3538.77 Safari/537.36                                                                                                               NaN\n",
      "Mozilla/5.0 (Windows NT 6.1; WOW64) AppleWebKit/534+ (KHTML, like Gecko) BingPreview/1.0b                                                                                                                                      244.0\n",
      "Mozilla/5.0 (iPhone; CPU iPhone OS 12_0_1 like Mac OS X) AppleWebKit/605.1.15 (KHTML, like Gecko) Version/12.0 Mobile/15E148 Safari/604.1                                                                                        NaN\n",
      "Mozilla/5.0 (Windows NT 10.0; Win64; x64; rv:63.0) Gecko/20100101 Firefox/63.0                                                                                                                                                   NaN\n",
      "Mozilla/5.0 (Windows NT 6.1; Win64; x64; rv:62.0) Gecko/20100101 Firefox/62.0                                                                                                                                                    NaN\n",
      "Mozilla/5.0 (Macintosh; Intel Mac OS X 10_13_6) AppleWebKit/537.36 (KHTML, like Gecko) Chrome/69.0.3497.100 Safari/537.36                                                                                                        NaN\n",
      "Mozilla/5.0 (Windows NT 10.0; Win64; x64) AppleWebKit/537.36 (KHTML, like Gecko) Chrome/64.0.3282.140 Safari/537.36 Edge/17.17134                                                                                                NaN\n",
      "Mozilla/5.0 (Windows NT 6.1; Win64; x64; rv:63.0) Gecko/20100101 Firefox/63.0                                                                                                                                                    NaN\n",
      "Mozilla/5.0 (Windows NT 6.1) AppleWebKit/537.36 (KHTML, like Gecko) Chrome/69.0.3497.100 Safari/537.36                                                                                                                           NaN\n",
      "Mozilla/5.0 (Windows NT 6.3; Win64; x64) AppleWebKit/537.36 (KHTML, like Gecko) Chrome/69.0.3497.100 Safari/537.36                                                                                                               NaN\n",
      "Mozilla/5.0 (Linux; Android 4.2.1; en-us; Nexus 5 Build/JOP40D) AppleWebKit/535.19 (KHTML, like Gecko; googleweblight) Chrome/38.0.1025.166 Mobile Safari/535.19                                                              1036.0\n",
      "Mozilla/5.0 (Macintosh; Intel Mac OS X 10_14) AppleWebKit/605.1.15 (KHTML, like Gecko) Version/12.0 Safari/605.1.15                                                                                                              NaN\n",
      "Mozilla/5.0 (Macintosh; Intel Mac OS X 10_14_0) AppleWebKit/537.36 (KHTML, like Gecko) Chrome/69.0.3497.100 Safari/537.36                                                                                                        NaN\n",
      "Mozilla/5.0 (Windows NT 6.1; Win64; x64) AppleWebKit/537.36 (KHTML, like Gecko) Chrome/70.0.3538.67 Safari/537.36                                                                                                                NaN\n",
      "Mozilla/5.0 (Windows NT 6.1; Win64; x64) AppleWebKit/537.36 (KHTML, like Gecko) Chrome/70.0.3538.77 Safari/537.36                                                                                                                NaN\n",
      "Mozilla/5.0 (Windows NT 6.1; WOW64; Trident/7.0; rv:11.0) like Gecko                                                                                                                                                         27585.0\n",
      "Mozilla/5.0 (Windows NT 10.0; Win64; x64) AppleWebKit/537.36 (KHTML, like Gecko) Chrome/60.0.3112.113 Safari/537.36                                                                                                           5446.0\n",
      "curl/7.55.1                                                                                                                                                                                                                      5.0\n",
      "Mozilla/5.0 (Windows NT 6.1; rv:60.0) Gecko/20100101 Firefox/60.0                                                                                                                                                                NaN\n",
      "Mozilla/5.0 (iPhone; CPU iPhone OS 7_0 like Mac OS X) AppleWebKit/537.51.1 (KHTML, like Gecko) Version/7.0 Mobile/11A465 Safari/9537.53 BingPreview/1.0b                                                                      2351.0\n",
      "Mozilla/5.0 (X11; CrOS x86_64 10895.78.0) AppleWebKit/537.36 (KHTML, like Gecko) Chrome/69.0.3497.120 Safari/537.36                                                                                                              NaN\n",
      "Mozilla/5.0 (iPhone; CPU iPhone OS 11_4_1 like Mac OS X) AppleWebKit/605.1.15 (KHTML, like Gecko) Version/11.0 Mobile/15E148 Safari/604.1                                                                                        NaN\n",
      "                                                                                                                                                                                                                             ...    \n",
      "JOSM/1.5 (7647 fr) Linux Mint 17 Qiana Java/1.7.0_65 (via Wayback Save Page)                                                                                                                                                     NaN\n",
      "Opera/9.80 (Windows NT 6.1; WOW64; MRA 8.2 (build 7134)) Presto/2.12.388 Version/12.17 (via Wayback Save Page)                                                                                                                   NaN\n",
      "Opera/9.80 (Android; Opera Mini/7.5.33361/35.5125; U; vi) Presto/2.8.119 Version/11.10 (via Wayback Save Page)                                                                                                                   NaN\n",
      "Opera/9.80 (Windows NT 6.1; WOW64; U; Edition Indian Local; en) Presto/2.10.229 Version/11.64 (via Wayback Save Page)                                                                                                            NaN\n",
      "DoCoMo/2.0 F01C(c500;TB;W24H16) (via Wayback Save Page)                                                                                                                                                                          NaN\n",
      "Mozilla/4.0 (compatible; MSIE 6.0; Windows ME) Opera 7.11  [en] (via Wayback Save Page)                                                                                                                                          NaN\n",
      "PEAR HTTP_Request class ( http://pear.php.net/ ) (via Wayback Save Page)                                                                                                                                                         NaN\n",
      "Mozilla/5.0 (compatible; MSIE 10.0; AOL 9.6; AOLBuild 4340.168; Windows NT 6.1; WOW64; Trident/6.0) (via Wayback Save Page)                                                                                                      NaN\n",
      "Mozilla/4.0 (compatible; MSIE 8.0; Windows NT 5.1; Trident/4.0; .NET4.0C; .NET4.0E; .NET CLR 2.0.50727; .NET CLR 3.0.04506.648; .NET CLR 3.5.21022; .NET CLR 3.0.4506.2152; .NET CLR 3.5.30729) (via Wayback Save Page)          NaN\n",
      "SAMSUNG-GT-S3802 Opera/9.80 (J2ME/MIDP; Opera Mini/7.1.33578/35.5125; U; en) Presto/2.8.119 Version/11.10 (via Wayback Save Page)                                                                                                NaN\n",
      "QuickTime/7.7.1 (qtver=7.7.1;cpu=IA32;os=Mac 10.7.5) (via Wayback Save Page)                                                                                                                                                     NaN\n",
      "Mozilla/5.0 (compatible; MSIE 10.0; Windows Phone 8.0; Trident/6.0; IEMobile/10.0; ARM; Touch; NOKIA; Lumia 525) (via Wayback Save Page)                                                                                         NaN\n",
      "Mozilla/5.0 (compatible; MSIE 10.0; Windows Phone 8.0; Trident/6.0; IEMobile/10.0; ARM; Touch; NOKIA; Lumia 530 Dual SIM) (via Wayback Save Page)                                                                                NaN\n",
      "Mozilla/5.0 (compatible; MSIE 10.0; Windows Phone 8.0; Trident/6.0; IEMobile/10.0; ARM; Touch; NOKIA; Lumia 625; Vodafone) (via Wayback Save Page)                                                                               NaN\n",
      "Mozilla/5.0 (compatible; MSIE 9.0; AOL 9.7; AOLBuild 4343.30; Windows NT 6.0; Trident/5.0) (via Wayback Save Page)                                                                                                               NaN\n",
      "Mozilla/4.0 (compatible; MSIE 6.0; Windows NT 5.1; SV1; .NET4.0C; .NET4.0E) (via Wayback Save Page)                                                                                                                              NaN\n",
      "Mozilla/5.0 (compatible; MSIE 9.0; Windows NT 6.0; Trident/5.0; DI7SP2; DI7SP2) (via Wayback Save Page)                                                                                                                          NaN\n",
      "Opera/9.80 (Windows NT 6.0; U; ru) Presto/2.8.131 Version/11.10 (via Wayback Save Page)                                                                                                                                          NaN\n",
      "Mozilla/5.0 (compatible; MSIE 9.0; Windows NT 6.0; Trident/5.0; BOIE9;ENUSMSNIP) (via Wayback Save Page)                                                                                                                         NaN\n",
      "Mozilla/5.0 (compatible; MSIE 9.0; Windows NT 6.0; Trident/5.0; BOIE9;ENUSMSE) (via Wayback Save Page)                                                                                                                           NaN\n",
      "Mozilla/5.0 (compatible; MSIE 9.0; Windows NT 6.0; Trident/5.0; BOIE9;ENUS; YTB730) (via Wayback Save Page)                                                                                                                      NaN\n",
      "Mozilla/4.0 (compatible; MSIE 8.0; Windows NT 5.1; Trident/4.0; .NET CLR 2.0.50727; .NET CLR 3.0.04506.648; .NET4.0C; .NET4.0E) (via Wayback Save Page)                                                                          NaN\n",
      "Opera/9.80 (Windows NT 5.2) Presto/2.12.388 Version/12.14 (via Wayback Save Page)                                                                                                                                                NaN\n",
      "Opera/9.80 (Windows NT 5.1; U; ru) Presto/2.6.30 Version/10.62 (via Wayback Save Page)                                                                                                                                           NaN\n",
      "Mozilla/4.0 (compatible; MSIE 8.0; Windows NT 5.1; Trident/4.0; BTRS100287; GTB7.5; .NET4.0C; .NET CLR 3.0.4506.2152; .NET CLR 2.0.50727; .NET CLR 3.5.30729; BRI/2) (via Wayback Save Page)                                     NaN\n",
      "Mozilla/5.0 (iPad; CPU OS 7_0_4 like Mac OS X) AppleWebKit/537.51.1 (KHTML, like Gecko) Mobile/11B554a Twitter for iPhone (via Wayback Save Page)                                                                                NaN\n",
      "Opera/9.80 (iPad; Opera Mini/8.0.5/35.5125; U; pl) Presto/2.8.119 Version/11.10 (via Wayback Save Page)                                                                                                                          NaN\n",
      "Mozilla/5.0 (compatible; MSIE 10.0; Windows NT 6.1; WOW64; Trident/6.0; BOIE9;ENUSSEM) (via Wayback Save Page)                                                                                                                   NaN\n",
      "POLARIS/6.1 (BREW 3.1.5; U; en-us; LG; POLARIS/6.1/WAP) Sprint LX101 MMP/2.0 Profile/MIDP-2.1 Configuration/CLDC-1.1 UNTRUSTED/1.0 (via Wayback Save Page)                                                                       NaN\n",
      "stagefright/1.2 (Linux;Android 4.2.1) (via Wayback Save Page)                                                                                                                                                                    NaN\n",
      "Name: 2017, Length: 93843, dtype: float64)\n",
      "('2018', ua\n",
      "Mozilla/5.0 (compatible; archive.org_bot; Wayback Machine Live Record; +http://archive.org/details/archive.org_bot)                                                                                                        1487305.0\n",
      "Wget/1.19.5 (linux-gnu)                                                                                                                                                                                                     719941.0\n",
      "Mozilla/5.0 (Windows NT 10.0; Win64; x64) AppleWebKit/537.36 (KHTML, like Gecko) Chrome/69.0.3497.100 Safari/537.36                                                                                                         560050.0\n",
      "Mozilla/5.0 (compatible; archive.org_bot; Wayback Machine Live Record; http://archive.org/details/archive.org_bot)                                                                                                          506645.0\n",
      "Mozilla/5.0 (Windows NT 10.0; Win64; x64; rv:62.0) Gecko/20100101 Firefox/62.0                                                                                                                                              243023.0\n",
      "Mozilla/5.0 (Windows NT 6.1; Win64; x64) AppleWebKit/537.36 (KHTML, like Gecko) Chrome/69.0.3497.100 Safari/537.36                                                                                                          223078.0\n",
      "Wget/1.19.4 (darwin17.3.0)                                                                                                                                                                                                  154725.0\n",
      "Mozilla/5.0 (Windows NT 10.0; Win64; x64) AppleWebKit/537.36 (KHTML, like Gecko) Chrome/70.0.3538.67 Safari/537.36                                                                                                          109281.0\n",
      "Mozilla/5.0 (Windows NT 10.0; Win64; x64) AppleWebKit/537.36 (KHTML, like Gecko) Chrome/70.0.3538.77 Safari/537.36                                                                                                          103726.0\n",
      "Mozilla/5.0 (Windows NT 6.1; WOW64) AppleWebKit/534+ (KHTML, like Gecko) BingPreview/1.0b                                                                                                                                    75130.0\n",
      "Mozilla/5.0 (iPhone; CPU iPhone OS 12_0_1 like Mac OS X) AppleWebKit/605.1.15 (KHTML, like Gecko) Version/12.0 Mobile/15E148 Safari/604.1                                                                                    74652.0\n",
      "Mozilla/5.0 (Windows NT 10.0; Win64; x64; rv:63.0) Gecko/20100101 Firefox/63.0                                                                                                                                               68084.0\n",
      "Mozilla/5.0 (Windows NT 6.1; Win64; x64; rv:62.0) Gecko/20100101 Firefox/62.0                                                                                                                                                63900.0\n",
      "Mozilla/5.0 (Macintosh; Intel Mac OS X 10_13_6) AppleWebKit/537.36 (KHTML, like Gecko) Chrome/69.0.3497.100 Safari/537.36                                                                                                    50536.0\n",
      "Mozilla/5.0 (Windows NT 10.0; Win64; x64) AppleWebKit/537.36 (KHTML, like Gecko) Chrome/64.0.3282.140 Safari/537.36 Edge/17.17134                                                                                            47339.0\n",
      "Mozilla/5.0 (Windows NT 6.1; Win64; x64; rv:63.0) Gecko/20100101 Firefox/63.0                                                                                                                                                46303.0\n",
      "Mozilla/5.0 (Windows NT 6.1) AppleWebKit/537.36 (KHTML, like Gecko) Chrome/69.0.3497.100 Safari/537.36                                                                                                                       43418.0\n",
      "Mozilla/5.0 (Windows NT 6.3; Win64; x64) AppleWebKit/537.36 (KHTML, like Gecko) Chrome/69.0.3497.100 Safari/537.36                                                                                                           43333.0\n",
      "Mozilla/5.0 (Linux; Android 4.2.1; en-us; Nexus 5 Build/JOP40D) AppleWebKit/535.19 (KHTML, like Gecko; googleweblight) Chrome/38.0.1025.166 Mobile Safari/535.19                                                             38697.0\n",
      "Mozilla/5.0 (Macintosh; Intel Mac OS X 10_14) AppleWebKit/605.1.15 (KHTML, like Gecko) Version/12.0 Safari/605.1.15                                                                                                          38511.0\n",
      "Mozilla/5.0 (Macintosh; Intel Mac OS X 10_14_0) AppleWebKit/537.36 (KHTML, like Gecko) Chrome/69.0.3497.100 Safari/537.36                                                                                                    36586.0\n",
      "Mozilla/5.0 (Windows NT 6.1; Win64; x64) AppleWebKit/537.36 (KHTML, like Gecko) Chrome/70.0.3538.67 Safari/537.36                                                                                                            33597.0\n",
      "Mozilla/5.0 (Windows NT 6.1; Win64; x64) AppleWebKit/537.36 (KHTML, like Gecko) Chrome/70.0.3538.77 Safari/537.36                                                                                                            32702.0\n",
      "Mozilla/5.0 (Windows NT 6.1; WOW64; Trident/7.0; rv:11.0) like Gecko                                                                                                                                                         31586.0\n",
      "Mozilla/5.0 (Windows NT 10.0; Win64; x64) AppleWebKit/537.36 (KHTML, like Gecko) Chrome/60.0.3112.113 Safari/537.36                                                                                                          31415.0\n",
      "curl/7.55.1                                                                                                                                                                                                                  29672.0\n",
      "Mozilla/5.0 (Windows NT 6.1; rv:60.0) Gecko/20100101 Firefox/60.0                                                                                                                                                            29370.0\n",
      "Mozilla/5.0 (iPhone; CPU iPhone OS 7_0 like Mac OS X) AppleWebKit/537.51.1 (KHTML, like Gecko) Version/7.0 Mobile/11A465 Safari/9537.53 BingPreview/1.0b                                                                     27968.0\n",
      "Mozilla/5.0 (X11; CrOS x86_64 10895.78.0) AppleWebKit/537.36 (KHTML, like Gecko) Chrome/69.0.3497.120 Safari/537.36                                                                                                          27765.0\n",
      "Mozilla/5.0 (iPhone; CPU iPhone OS 11_4_1 like Mac OS X) AppleWebKit/605.1.15 (KHTML, like Gecko) Version/11.0 Mobile/15E148 Safari/604.1                                                                                    27319.0\n",
      "                                                                                                                                                                                                                             ...    \n",
      "JOSM/1.5 (7647 fr) Linux Mint 17 Qiana Java/1.7.0_65 (via Wayback Save Page)                                                                                                                                                     NaN\n",
      "Opera/9.80 (Windows NT 6.1; WOW64; MRA 8.2 (build 7134)) Presto/2.12.388 Version/12.17 (via Wayback Save Page)                                                                                                                   NaN\n",
      "Opera/9.80 (Android; Opera Mini/7.5.33361/35.5125; U; vi) Presto/2.8.119 Version/11.10 (via Wayback Save Page)                                                                                                                   NaN\n",
      "Opera/9.80 (Windows NT 6.1; WOW64; U; Edition Indian Local; en) Presto/2.10.229 Version/11.64 (via Wayback Save Page)                                                                                                            NaN\n",
      "DoCoMo/2.0 F01C(c500;TB;W24H16) (via Wayback Save Page)                                                                                                                                                                          NaN\n",
      "Mozilla/4.0 (compatible; MSIE 6.0; Windows ME) Opera 7.11  [en] (via Wayback Save Page)                                                                                                                                          NaN\n",
      "PEAR HTTP_Request class ( http://pear.php.net/ ) (via Wayback Save Page)                                                                                                                                                         NaN\n",
      "Mozilla/5.0 (compatible; MSIE 10.0; AOL 9.6; AOLBuild 4340.168; Windows NT 6.1; WOW64; Trident/6.0) (via Wayback Save Page)                                                                                                      NaN\n",
      "Mozilla/4.0 (compatible; MSIE 8.0; Windows NT 5.1; Trident/4.0; .NET4.0C; .NET4.0E; .NET CLR 2.0.50727; .NET CLR 3.0.04506.648; .NET CLR 3.5.21022; .NET CLR 3.0.4506.2152; .NET CLR 3.5.30729) (via Wayback Save Page)          NaN\n",
      "SAMSUNG-GT-S3802 Opera/9.80 (J2ME/MIDP; Opera Mini/7.1.33578/35.5125; U; en) Presto/2.8.119 Version/11.10 (via Wayback Save Page)                                                                                                NaN\n",
      "QuickTime/7.7.1 (qtver=7.7.1;cpu=IA32;os=Mac 10.7.5) (via Wayback Save Page)                                                                                                                                                     NaN\n",
      "Mozilla/5.0 (compatible; MSIE 10.0; Windows Phone 8.0; Trident/6.0; IEMobile/10.0; ARM; Touch; NOKIA; Lumia 525) (via Wayback Save Page)                                                                                         NaN\n",
      "Mozilla/5.0 (compatible; MSIE 10.0; Windows Phone 8.0; Trident/6.0; IEMobile/10.0; ARM; Touch; NOKIA; Lumia 530 Dual SIM) (via Wayback Save Page)                                                                                NaN\n",
      "Mozilla/5.0 (compatible; MSIE 10.0; Windows Phone 8.0; Trident/6.0; IEMobile/10.0; ARM; Touch; NOKIA; Lumia 625; Vodafone) (via Wayback Save Page)                                                                               NaN\n",
      "Mozilla/5.0 (compatible; MSIE 9.0; AOL 9.7; AOLBuild 4343.30; Windows NT 6.0; Trident/5.0) (via Wayback Save Page)                                                                                                               NaN\n",
      "Mozilla/4.0 (compatible; MSIE 6.0; Windows NT 5.1; SV1; .NET4.0C; .NET4.0E) (via Wayback Save Page)                                                                                                                              NaN\n",
      "Mozilla/5.0 (compatible; MSIE 9.0; Windows NT 6.0; Trident/5.0; DI7SP2; DI7SP2) (via Wayback Save Page)                                                                                                                          NaN\n",
      "Opera/9.80 (Windows NT 6.0; U; ru) Presto/2.8.131 Version/11.10 (via Wayback Save Page)                                                                                                                                          NaN\n",
      "Mozilla/5.0 (compatible; MSIE 9.0; Windows NT 6.0; Trident/5.0; BOIE9;ENUSMSNIP) (via Wayback Save Page)                                                                                                                         NaN\n",
      "Mozilla/5.0 (compatible; MSIE 9.0; Windows NT 6.0; Trident/5.0; BOIE9;ENUSMSE) (via Wayback Save Page)                                                                                                                           NaN\n",
      "Mozilla/5.0 (compatible; MSIE 9.0; Windows NT 6.0; Trident/5.0; BOIE9;ENUS; YTB730) (via Wayback Save Page)                                                                                                                      NaN\n",
      "Mozilla/4.0 (compatible; MSIE 8.0; Windows NT 5.1; Trident/4.0; .NET CLR 2.0.50727; .NET CLR 3.0.04506.648; .NET4.0C; .NET4.0E) (via Wayback Save Page)                                                                          NaN\n",
      "Opera/9.80 (Windows NT 5.2) Presto/2.12.388 Version/12.14 (via Wayback Save Page)                                                                                                                                                NaN\n",
      "Opera/9.80 (Windows NT 5.1; U; ru) Presto/2.6.30 Version/10.62 (via Wayback Save Page)                                                                                                                                           NaN\n",
      "Mozilla/4.0 (compatible; MSIE 8.0; Windows NT 5.1; Trident/4.0; BTRS100287; GTB7.5; .NET4.0C; .NET CLR 3.0.4506.2152; .NET CLR 2.0.50727; .NET CLR 3.5.30729; BRI/2) (via Wayback Save Page)                                     NaN\n",
      "Mozilla/5.0 (iPad; CPU OS 7_0_4 like Mac OS X) AppleWebKit/537.51.1 (KHTML, like Gecko) Mobile/11B554a Twitter for iPhone (via Wayback Save Page)                                                                                NaN\n",
      "Opera/9.80 (iPad; Opera Mini/8.0.5/35.5125; U; pl) Presto/2.8.119 Version/11.10 (via Wayback Save Page)                                                                                                                          NaN\n",
      "Mozilla/5.0 (compatible; MSIE 10.0; Windows NT 6.1; WOW64; Trident/6.0; BOIE9;ENUSSEM) (via Wayback Save Page)                                                                                                                   NaN\n",
      "POLARIS/6.1 (BREW 3.1.5; U; en-us; LG; POLARIS/6.1/WAP) Sprint LX101 MMP/2.0 Profile/MIDP-2.1 Configuration/CLDC-1.1 UNTRUSTED/1.0 (via Wayback Save Page)                                                                       NaN\n",
      "stagefright/1.2 (Linux;Android 4.2.1) (via Wayback Save Page)                                                                                                                                                                    NaN\n",
      "Name: 2018, Length: 93843, dtype: float64)\n"
     ]
    }
   ],
   "source": [
    "\n",
    "from collections import defaultdict\n",
    "data = defaultdict(int)\n",
    "for row in df.items():\n",
    "    if type(row[1]) != str:\n",
    "        print(row)\n",
    "    #if ua:\n",
    "    #    parsed_ua = parse_ua(ua)\n",
    "    #    if parsed_ua['user_agent']['family']:\n",
    "    #        data[parsed_ua['user_agent']['family']] += 1\n",
    "\n",
    "#print(data)\n",
    "    "
   ]
  },
  {
   "cell_type": "code",
   "execution_count": 44,
   "metadata": {},
   "outputs": [
    {
     "data": {
      "text/plain": [
       "{'user_agent': {'family': 'curl', 'major': '7', 'minor': '55', 'patch': '1'},\n",
       " 'os': {'family': 'Other',\n",
       "  'major': None,\n",
       "  'minor': None,\n",
       "  'patch': None,\n",
       "  'patch_minor': None},\n",
       " 'device': {'family': 'Other', 'brand': None, 'model': None},\n",
       " 'string': 'curl/7.55.1'}"
      ]
     },
     "execution_count": 44,
     "metadata": {},
     "output_type": "execute_result"
    }
   ],
   "source": [
    "parse_ua('curl/7.55.1')"
   ]
  },
  {
   "cell_type": "markdown",
   "metadata": {},
   "source": [
    "In trying to use the trace data in SavePageNow WARC data to understand the users of SavePageNow we've fallen down the rabbit hole of trying to understand the software."
   ]
  },
  {
   "cell_type": "code",
   "execution_count": null,
   "metadata": {},
   "outputs": [],
   "source": []
  }
 ],
 "metadata": {
  "kernelspec": {
   "display_name": "Python 3",
   "language": "python",
   "name": "python3"
  },
  "language_info": {
   "codemirror_mode": {
    "name": "ipython",
    "version": 3
   },
   "file_extension": ".py",
   "mimetype": "text/x-python",
   "name": "python",
   "nbconvert_exporter": "python",
   "pygments_lexer": "ipython3",
   "version": "3.7.3"
  }
 },
 "nbformat": 4,
 "nbformat_minor": 2
}
