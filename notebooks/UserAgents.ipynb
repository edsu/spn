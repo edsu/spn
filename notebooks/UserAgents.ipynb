{
 "cells": [
  {
   "cell_type": "markdown",
   "metadata": {},
   "source": [
    "# User Agents in SavePageNow\n",
    "\n",
    "This notebook examines the User Agents that were used when asking for content to be saved at Internet Archive's SavePageNow.\n",
    "\n",
    "The User-Agent string has been used since the early days of the web as a way of identifying the software that is being used to access a web page. It is currently defined by [RFC 7231](https://tools.ietf.org/html/rfc7231#section-5.5.3) as a set of one ore more *product identifiers* which identify the software being used to perform the HTTP request.\n",
    "\n",
    "    User-Agent      = product *( RWS ( product / comment ) )\n",
    "    product         = token [\"/\" product-version]\n",
    "    product-version = token\n",
    "    \n",
    "So for example the browser I am using now has this User-Agent:\n",
    "\n",
    "    Mozilla/5.0 (Macintosh; Intel Mac OS X 10.14; rv:66.0) Gecko/20100101 Firefox/66.0\n",
    "    \n",
    "The product identifiers here are typically listed in increasing levels of specificity. \n",
    "\n",
    "* Mozilla/5.0 (Macintosh; Intel Mac OS X 10.14; rv:66.0)\n",
    "* Gecko/20100101\n",
    "* Firefox/66.0\n",
    "\n",
    "But they are freeform enough that the [ua-parser](https://www.uaparser.org/) project has built up a voluminous set of regular expressions to parse and make sense of them.\n",
    "\n",
    "The question is, what can the User-Agent's in the SavePageNow data tell us about the people who are participating in creation of the Internet Archive.\n",
    "\n",
    "## Analyze\n",
    "\n",
    "To find the User-Agents that were used to archive the web content we need to excavate the SavePageNow WARC data. WARC files store verious [types of records](https://iipc.github.io/warc-specifications/specifications/warc-format/warc-1.1/#warc-type-mandatory). In this case we need to find the *Request* records that represent the HTTP request that was used by SavePageNow to archive the content from the Web. Using Spark with warcio is one way of doing this analysis:"
   ]
  },
  {
   "cell_type": "code",
   "execution_count": 1,
   "metadata": {},
   "outputs": [],
   "source": [
    "import sys\n",
    "sys.path.append('../utils')\n",
    "\n",
    "from warc_spark import init, extractor\n",
    "sc, sqlc = init()"
   ]
  },
  {
   "cell_type": "markdown",
   "metadata": {},
   "source": [
    "An extractor function to get the User-Agent from the *WARC Request* objects:"
   ]
  },
  {
   "cell_type": "code",
   "execution_count": 3,
   "metadata": {},
   "outputs": [],
   "source": [
    "@extractor\n",
    "def ua(rec):\n",
    "    if rec.rec_type == 'request':\n",
    "        yield rec.http_headers.get('user-agent', '')"
   ]
  },
  {
   "cell_type": "markdown",
   "metadata": {},
   "source": [
    "Now let's create a function that will run a Spark job to get the User-Agent counts for a year as a dictionary."
   ]
  },
  {
   "cell_type": "code",
   "execution_count": 8,
   "metadata": {},
   "outputs": [],
   "source": [
    "from glob import glob\n",
    "\n",
    "def get_year(year):\n",
    "    warc_files = glob('warcs/liveweb-{}*/*.warc.gz'.format(year))\n",
    "    warcs = sc.parallelize(warc_files)\n",
    "    output = warcs.mapPartitions(ua)\n",
    "    return output.countByValue()"
   ]
  },
  {
   "cell_type": "markdown",
   "metadata": {},
   "source": [
    "Now we can use `get_year` for each year of data we have for SPN and create a pandas DataFrame of the results."
   ]
  },
  {
   "cell_type": "code",
   "execution_count": null,
   "metadata": {},
   "outputs": [
    {
     "name": "stdout",
     "output_type": "stream",
     "text": [
      "2013\n",
      "2014\n",
      "2015\n",
      "2016\n",
      "2017\n",
      "2018\n"
     ]
    }
   ],
   "source": [
    "import pandas\n",
    "\n",
    "ua_data = {}\n",
    "for year in range(2013, 2019):\n",
    "    print(year)\n",
    "    ua_data[str(year)] = get_year(year)\n",
    "\n",
    "df = pandas.DataFrame(ua_data)\n",
    "df.index.name = 'ua'"
   ]
  },
  {
   "cell_type": "markdown",
   "metadata": {},
   "source": [
    "We can quickly examine it to make sure it looks like it worrked:"
   ]
  },
  {
   "cell_type": "code",
   "execution_count": null,
   "metadata": {},
   "outputs": [],
   "source": [
    "df.head()"
   ]
  },
  {
   "cell_type": "markdown",
   "metadata": {},
   "source": [
    "Let's definitely save it for later, since it took about 6 hours to compute on XSEDE!"
   ]
  },
  {
   "cell_type": "code",
   "execution_count": null,
   "metadata": {},
   "outputs": [],
   "source": [
    "df.to_csv('results/user-agents.csv')"
   ]
  },
  {
   "cell_type": "markdown",
   "metadata": {},
   "source": [
    "## Top 10 User Agents\n",
    "\n",
    "Let's see if we can find any rhyme or reason in this data. If the CSV has already been calculated we can load it here instead of waiting 6 hours for the analysis to run."
   ]
  },
  {
   "cell_type": "code",
   "execution_count": 1,
   "metadata": {},
   "outputs": [],
   "source": [
    "import pandas\n",
    "\n",
    "df = pandas.read_csv('results/user-agents.csv', index_col='ua')"
   ]
  },
  {
   "cell_type": "markdown",
   "metadata": {},
   "source": [
    "What are the top 10 per year? We can iterate through the years and generate a table from our DataFrame for each year:"
   ]
  },
  {
   "cell_type": "code",
   "execution_count": 2,
   "metadata": {
    "scrolled": false
   },
   "outputs": [
    {
     "data": {
      "text/markdown": [
       "### 2013\n",
       "| user-agent | count |\n",
       "| ---------- | ----- |\n",
       "| Mozilla/5.0 (compatible; archive.org_bot; Wayback Machine Live Record; +http://archive.org/details/archive.org_bot) | 1238598.0 |\n",
       "| nan | 27477.0 |"
      ],
      "text/plain": [
       "<IPython.core.display.Markdown object>"
      ]
     },
     "metadata": {},
     "output_type": "display_data"
    },
    {
     "data": {
      "text/markdown": [
       "### 2014\n",
       "| user-agent | count |\n",
       "| ---------- | ----- |\n",
       "| Mozilla/5.0 (Windows NT 6.1; WOW64) AppleWebKit/537.36 (KHTML, like Gecko) Chrome/38.0.2125.104 Safari/537.36 (via Wayback Save Page) | 135766.0 |\n",
       "| Mozilla/5.0 (Windows NT 6.1; WOW64; rv:32.0) Gecko/20100101 Firefox/32.0 (via Wayback Save Page) | 81716.0 |\n",
       "| Mozilla/5.0 (Windows NT 6.3; WOW64) AppleWebKit/537.36 (KHTML, like Gecko) Chrome/38.0.2125.104 Safari/537.36 (via Wayback Save Page) | 76425.0 |\n",
       "| Mozilla/5.0 (Windows NT 6.1; WOW64; Trident/7.0; rv:11.0) like Gecko (via Wayback Save Page) | 61961.0 |\n",
       "| Mozilla/5.0 (compatible; archive.org_bot; Wayback Machine Live Record; +http://archive.org/details/archive.org_bot) | 56591.0 |\n",
       "| Mozilla/5.0 (Windows NT 6.1; WOW64; rv:33.0) Gecko/20100101 Firefox/33.0 (via Wayback Save Page) | 49612.0 |\n",
       "| Mozilla/5.0 (Windows NT 6.1) AppleWebKit/537.36 (KHTML, like Gecko) Chrome/38.0.2125.104 Safari/537.36 (via Wayback Save Page) | 48449.0 |\n",
       "| Mozilla/5.0 (Windows NT 6.1; WOW64; rv:17.0) Gecko/20100101 Firefox/17.0 (via Wayback Save Page) | 30932.0 |\n",
       "| Mozilla/5.0 (Windows NT 6.3; WOW64; rv:32.0) Gecko/20100101 Firefox/32.0 (via Wayback Save Page) | 27085.0 |\n",
       "| Mozilla/5.0 (Windows NT 6.1; rv:32.0) Gecko/20100101 Firefox/32.0 (via Wayback Save Page) | 26100.0 |"
      ],
      "text/plain": [
       "<IPython.core.display.Markdown object>"
      ]
     },
     "metadata": {},
     "output_type": "display_data"
    },
    {
     "data": {
      "text/markdown": [
       "### 2015\n",
       "| user-agent | count |\n",
       "| ---------- | ----- |\n",
       "| Mozilla/5.0 (Windows NT 6.1; WOW64; rv:41.0) Gecko/20100101 Firefox/41.0 (via Wayback Save Page) | 109033.0 |\n",
       "| Mozilla/5.0 (Windows NT 6.1; WOW64) AppleWebKit/537.36 (KHTML, like Gecko) Chrome/46.0.2490.71 Safari/537.36 (via Wayback Save Page) | 89467.0 |\n",
       "| Mozilla/5.0 (Windows NT 6.1; WOW64) AppleWebKit/537.36 (KHTML, like Gecko) Chrome/46.0.2490.80 Safari/537.36 (via Wayback Save Page) | 75917.0 |\n",
       "| Mozilla/5.0 (Windows NT 6.2; WOW64) AppleWebKit/537.36 (KHTML, like Gecko) Chrome/30.0.1599.17 Safari/537.36 (via Wayback Save Page) | 59968.0 |\n",
       "| Mozilla/5.0 (Windows NT 10.0; WOW64) AppleWebKit/537.36 (KHTML, like Gecko) Chrome/46.0.2490.80 Safari/537.36 (via Wayback Save Page) | 50673.0 |\n",
       "| Mozilla/5.0+(compatible; UptimeRobot/2.0; http://www.uptimerobot.com/) (via Wayback Save Page) | 50361.0 |\n",
       "| Mozilla/5.0 (Windows NT 6.1; WOW64; Trident/7.0; rv:11.0) like Gecko (via Wayback Save Page) | 50297.0 |\n",
       "| Mozilla/5.0 (Windows NT 6.3; WOW64) AppleWebKit/537.36 (KHTML, like Gecko) Chrome/46.0.2490.80 Safari/537.36 (via Wayback Save Page) | 44944.0 |\n",
       "| Mozilla/5.0 (Windows NT 10.0; WOW64) AppleWebKit/537.36 (KHTML, like Gecko) Chrome/46.0.2490.71 Safari/537.36 (via Wayback Save Page) | 43370.0 |\n",
       "| Mozilla/5.0 (Windows NT 10.0; WOW64; rv:41.0) Gecko/20100101 Firefox/41.0 (via Wayback Save Page) | 42281.0 |"
      ],
      "text/plain": [
       "<IPython.core.display.Markdown object>"
      ]
     },
     "metadata": {},
     "output_type": "display_data"
    },
    {
     "data": {
      "text/markdown": [
       "### 2016\n",
       "| user-agent | count |\n",
       "| ---------- | ----- |\n",
       "| Mozilla/5.0 (compatible; archive.org_bot; Wayback Machine Live Record; +http://archive.org/details/archive.org_bot) | 1211109.0 |\n",
       "| nan | 886441.0 |\n",
       "| Mozilla/5.0 (Windows NT 6.1; WOW64) AppleWebKit/537.36 (KHTML, like Gecko) Chrome/53.0.2785.143 Safari/537.36 | 130914.0 |\n",
       "| Mozilla/5.0 (Windows NT 10.0; WOW64) AppleWebKit/537.36 (KHTML, like Gecko) Chrome/53.0.2785.143 Safari/537.36 | 121033.0 |\n",
       "| Mozilla/5.0 (Windows NT 6.1; WOW64; rv:49.0) Gecko/20100101 Firefox/49.0 | 114269.0 |\n",
       "| Mozilla/5.0 (Windows NT 6.3; WOW64; rv:49.0) Gecko/20100101 Firefox/49.0 | 105372.0 |\n",
       "| Mozilla/5.0 (Windows NT 10.0; WOW64; rv:49.0) Gecko/20100101 Firefox/49.0 | 100382.0 |\n",
       "| Mozilla/5.0 (Windows NT 6.1; WOW64) AppleWebKit/537.36 (KHTML, like Gecko) Chrome/54.0.2840.71 Safari/537.36 | 92051.0 |\n",
       "| Mozilla/5.0 (Windows NT 10.0; Win64; x64) AppleWebKit/537.36 (KHTML, like Gecko) Chrome/53.0.2785.143 Safari/537.36 | 74867.0 |\n",
       "| Mozilla/5.0 (Windows NT 6.1; WOW64; Trident/7.0; rv:11.0) like Gecko | 71952.0 |"
      ],
      "text/plain": [
       "<IPython.core.display.Markdown object>"
      ]
     },
     "metadata": {},
     "output_type": "display_data"
    },
    {
     "data": {
      "text/markdown": [
       "### 2017\n",
       "| user-agent | count |\n",
       "| ---------- | ----- |\n",
       "| Mozilla/5.0 (compatible; archive.org_bot; Wayback Machine Live Record; +http://archive.org/details/archive.org_bot) | 6633531.0 |\n",
       "| okhttp/3.8.1 | 4096817.0 |\n",
       "| Mozilla/5.0 (Windows NT 10.0; Win64; x64) AppleWebKit/537.36 (KHTML, like Gecko) Chrome/61.0.3163.100 Safari/537.36 | 266695.0 |\n",
       "| curl/7.52.1 | 206883.0 |\n",
       "| Mozilla/5.0 (Windows NT 6.1; Win64; x64) AppleWebKit/537.36 (KHTML, like Gecko) Chrome/61.0.3163.100 Safari/537.36 | 120292.0 |\n",
       "| Mozilla | 100322.0 |\n",
       "| Mozilla/5.0 (Windows NT 6.2; WOW64) AppleWebKit/537.36 (KHTML, like Gecko) Chrome/30.0.1599.17 Safari/537.36 | 99970.0 |\n",
       "| Mozilla/5.0 (Macintosh; Intel Mac OS X 10_12_6) AppleWebKit/537.36 (KHTML, like Gecko) Chrome/61.0.3163.100 Safari/537.36 | 77720.0 |\n",
       "| Mozilla/5.0 (Windows NT 10.0; Win64; x64; rv:56.0) Gecko/20100101 Firefox/56.0 | 70324.0 |\n",
       "| python-requests/2.13.0 | 65643.0 |"
      ],
      "text/plain": [
       "<IPython.core.display.Markdown object>"
      ]
     },
     "metadata": {},
     "output_type": "display_data"
    },
    {
     "data": {
      "text/markdown": [
       "### 2018\n",
       "| user-agent | count |\n",
       "| ---------- | ----- |\n",
       "| Mozilla/5.0 (compatible; archive.org_bot; Wayback Machine Live Record; +http://archive.org/details/archive.org_bot) | 1487305.0 |\n",
       "| Wget/1.19.5 (linux-gnu) | 719941.0 |\n",
       "| Mozilla/5.0 (Windows NT 10.0; Win64; x64) AppleWebKit/537.36 (KHTML, like Gecko) Chrome/69.0.3497.100 Safari/537.36 | 560050.0 |\n",
       "| Mozilla/5.0 (compatible; archive.org_bot; Wayback Machine Live Record; http://archive.org/details/archive.org_bot) | 506645.0 |\n",
       "| Mozilla/5.0 (Windows NT 10.0; Win64; x64; rv:62.0) Gecko/20100101 Firefox/62.0 | 243023.0 |\n",
       "| Mozilla/5.0 (Windows NT 6.1; Win64; x64) AppleWebKit/537.36 (KHTML, like Gecko) Chrome/69.0.3497.100 Safari/537.36 | 223078.0 |\n",
       "| Wget/1.19.4 (darwin17.3.0) | 154725.0 |\n",
       "| Mozilla/5.0 (Windows NT 10.0; Win64; x64) AppleWebKit/537.36 (KHTML, like Gecko) Chrome/70.0.3538.67 Safari/537.36 | 109281.0 |\n",
       "| Mozilla/5.0 (Windows NT 10.0; Win64; x64) AppleWebKit/537.36 (KHTML, like Gecko) Chrome/70.0.3538.77 Safari/537.36 | 103726.0 |\n",
       "| Mozilla/5.0 (Windows NT 6.1; WOW64) AppleWebKit/534+ (KHTML, like Gecko) BingPreview/1.0b | 75130.0 |"
      ],
      "text/plain": [
       "<IPython.core.display.Markdown object>"
      ]
     },
     "metadata": {},
     "output_type": "display_data"
    }
   ],
   "source": [
    "from IPython.display import display, Markdown\n",
    "\n",
    "# create chunks of Markdown tables to display\n",
    "\n",
    "for year in range(2013, 2019):\n",
    "    y = str(year)\n",
    "    md_lines = [\n",
    "    \"### {}\".format(y),\n",
    "    \"| user-agent | count |\",\n",
    "    \"| ---------- | ----- |\"\n",
    "]\n",
    "    dfy = df.sort_values(by=y, ascending=False)\n",
    "    for ua, count in dfy[y].head(10).items():\n",
    "        if count > 0:\n",
    "            md_lines.append(\"| {} | {} |\".format(ua, count))\n",
    "    display(Markdown(\"\\n\".join(md_lines)))"
   ]
  },
  {
   "cell_type": "markdown",
   "metadata": {},
   "source": [
    "## Shifting Infrastructure\n",
    "\n",
    "A few interesting things pop out from just looking at the top 10 User-Agents by year. The first is that SavePageNow itself as a piece of software infrastructure has changed over the years. In 2013 it archived content from the web as\n",
    "\n",
    "    Mozilla/5.0 (compatible; archive.org_bot; Wayback Machine Live Record;\n",
    "    \n",
    "So as SavePageNow received requests from users to archive web content it simply went and requested those items from the web using a fixed User-Agent string. There is only one type of User-Agent that appears in all the HTTP requests in the WARC data for 2013 (or at least the day we sampled for that year).\n",
    "\n",
    "But in 2014 the User-Agent strings are much more varied. For example the top User-Agent was:\n",
    "\n",
    "    Mozilla/5.0 (Windows NT 6.1; WOW64) AppleWebKit/537.36 (KHTML, like Gecko) Chrome/38.0.2125.104 Safari/537.36 (via Wayback Save Page)`.\n",
    "\n",
    "This User-Agent string identifies a particular vesion of Chrome running on Windows. But also notice that appended on the end of this and other User-Agents in the list is the string `(via Wayback Save Page)`. It looks like in 2014 SavePageNow started using the User-Agent of the browser that original requestor, added an identifier for SavePageNow to the end, and then used that when requesting the web resource to archive.\n",
    "\n",
    "So in theory, web servers that log User-Agents would see User-Agents of that form in their server logs when SavePageNow was archiving content on their site.\n",
    "\n",
    "But then in 2016 things shift again and the top User-Agent changes to:\n",
    "\n",
    "    Mozilla/5.0 (compatible; archive.org_bot; Wayback Machine Live Record; +http://archive.org/details/archive.org_bot)\n",
    "    \n",
    "This User-Agent uniquely identifies *Wayback Machine Live Record* as a generic web client. While this is the #1 user agent for 2016, 2017, and 2018 it is always followed by a long tail of User-Agent strings that uniquely identifies a type of web client software, but the `(via Wayback Save Page)` has been dropped from the end. For example:\n",
    "\n",
    "    Mozilla/5.0 (Windows NT 6.1; WOW64) AppleWebKit/537.36 (KHTML, like Gecko) Chrome/53.0.2785.143 Safari/537.36 \t\n",
    "\n",
    "What might be going on here? \t\n",
    "\n",
    "One explanation is that in 2016 the SavePageNow software was adjusted so that when it archived web content it no longer appended `(via Wayback Save Page)` to the original User-Agent that requested the archive. It simply passed that original User-Agent through to its final destination.\n",
    "\n",
    "However the large number of `Wayback Machine Live Record` User-Agents is a bit of a mystery. When a browser requests something be archived could it be that request is passed through with the original User-Agent, but when it receives the HTML for that web page, and buids the DOM for it, resolving URLs for images, CSS, and JavaScript those subsequent requests get the `Wayback Machine Live Record` User-Agent when passing through SavePageNow? Or perhaps `Wayback Machine Live Record` is only used when no User-Agent is supplied initially? User-Agent is optional, and there appear to be no WARC records that lack it.\n",
    "\n",
    "It's difficult to say without taking a much closer look at the WARC data. Which we will be doing in another notebook. It is interesting how in trying to use SavePageNow WARC data to understand the users of SavePageNow we've fallen down the rabbit hole of trying to understand the SavePageNow as a technical artifact.\n"
   ]
  },
  {
   "cell_type": "markdown",
   "metadata": {},
   "source": [
    "## The Long-ish Tail\n",
    "\n",
    "Looking at the top 10 User-Agent was a useful start. But it also could be obscuring some patterns. So how many distinct User-Agent strings were there?\n"
   ]
  },
  {
   "cell_type": "code",
   "execution_count": 12,
   "metadata": {},
   "outputs": [
    {
     "data": {
      "text/plain": [
       "93843"
      ]
     },
     "execution_count": 12,
     "metadata": {},
     "output_type": "execute_result"
    }
   ],
   "source": [
    "len(df.index)"
   ]
  },
  {
   "cell_type": "markdown",
   "metadata": {},
   "source": [
    "93,843 is a lot of User-Agent strings! It might be interesting to examine what proportion of all the requests for a given year were from user agents in the top 10 for that year. To do that we need to massage our dataframe into a new dataframe so that we can easily visualize it with [Altair](https://altair-viz.github.io/)."
   ]
  },
  {
   "cell_type": "code",
   "execution_count": 4,
   "metadata": {},
   "outputs": [
    {
     "data": {
      "text/html": [
       "<div>\n",
       "<style scoped>\n",
       "    .dataframe tbody tr th:only-of-type {\n",
       "        vertical-align: middle;\n",
       "    }\n",
       "\n",
       "    .dataframe tbody tr th {\n",
       "        vertical-align: top;\n",
       "    }\n",
       "\n",
       "    .dataframe thead th {\n",
       "        text-align: right;\n",
       "    }\n",
       "</style>\n",
       "<table border=\"1\" class=\"dataframe\">\n",
       "  <thead>\n",
       "    <tr style=\"text-align: right;\">\n",
       "      <th></th>\n",
       "      <th>bucket</th>\n",
       "      <th>requests</th>\n",
       "      <th>year</th>\n",
       "    </tr>\n",
       "  </thead>\n",
       "  <tbody>\n",
       "    <tr>\n",
       "      <th>0</th>\n",
       "      <td>top-10</td>\n",
       "      <td>1266075.0</td>\n",
       "      <td>2013</td>\n",
       "    </tr>\n",
       "    <tr>\n",
       "      <th>1</th>\n",
       "      <td>the-rest</td>\n",
       "      <td>0.0</td>\n",
       "      <td>2013</td>\n",
       "    </tr>\n",
       "    <tr>\n",
       "      <th>2</th>\n",
       "      <td>top-10</td>\n",
       "      <td>594637.0</td>\n",
       "      <td>2014</td>\n",
       "    </tr>\n",
       "    <tr>\n",
       "      <th>3</th>\n",
       "      <td>the-rest</td>\n",
       "      <td>966720.0</td>\n",
       "      <td>2014</td>\n",
       "    </tr>\n",
       "    <tr>\n",
       "      <th>4</th>\n",
       "      <td>top-10</td>\n",
       "      <td>616311.0</td>\n",
       "      <td>2015</td>\n",
       "    </tr>\n",
       "  </tbody>\n",
       "</table>\n",
       "</div>"
      ],
      "text/plain": [
       "     bucket   requests  year\n",
       "0    top-10  1266075.0  2013\n",
       "1  the-rest        0.0  2013\n",
       "2    top-10   594637.0  2014\n",
       "3  the-rest   966720.0  2014\n",
       "4    top-10   616311.0  2015"
      ]
     },
     "execution_count": 4,
     "metadata": {},
     "output_type": "execute_result"
    }
   ],
   "source": [
    "ratios = {'bucket': [], 'year': [], 'requests': []}\n",
    "\n",
    "for year in range(2013, 2019):\n",
    "    y = str(year)\n",
    "    dfy = df.sort_values(by=y, ascending=False)\n",
    "    \n",
    "    ratios['year'].append(y)\n",
    "    ratios['bucket'].append('top-10')\n",
    "    ratios['requests'].append(dfy[y].head(10).sum())\n",
    "    \n",
    "    ratios['year'].append(y)\n",
    "    ratios['bucket'].append('the-rest')\n",
    "    ratios['requests'].append(dfy[y][10:].sum())\n",
    "\n",
    "ratios = pandas.DataFrame(ratios)\n",
    "ratios.head()"
   ]
  },
  {
   "cell_type": "code",
   "execution_count": 7,
   "metadata": {},
   "outputs": [
    {
     "data": {
      "application/javascript": [
       "var spec = {\"config\": {\"view\": {\"width\": 400, \"height\": 300}, \"mark\": {\"tooltip\": null}}, \"data\": {\"name\": \"data-9550356f969637001f79a37a0b237f5a\"}, \"mark\": {\"type\": \"bar\", \"size\": 20}, \"encoding\": {\"color\": {\"type\": \"nominal\", \"field\": \"bucket\", \"scale\": {\"scheme\": \"tableau20\"}, \"title\": \"type\"}, \"x\": {\"type\": \"quantitative\", \"aggregate\": \"sum\", \"field\": \"requests\", \"title\": \"Archive Requests\"}, \"y\": {\"type\": \"nominal\", \"field\": \"year\", \"title\": \"Year\"}}, \"height\": 175, \"title\": \"User Agents Diversity per Year\", \"width\": 600, \"$schema\": \"https://vega.github.io/schema/vega-lite/v3.2.1.json\", \"datasets\": {\"data-9550356f969637001f79a37a0b237f5a\": [{\"bucket\": \"top-10\", \"requests\": 1266075.0, \"year\": \"2013\"}, {\"bucket\": \"the-rest\", \"requests\": 0.0, \"year\": \"2013\"}, {\"bucket\": \"top-10\", \"requests\": 594637.0, \"year\": \"2014\"}, {\"bucket\": \"the-rest\", \"requests\": 966720.0, \"year\": \"2014\"}, {\"bucket\": \"top-10\", \"requests\": 616311.0, \"year\": \"2015\"}, {\"bucket\": \"the-rest\", \"requests\": 1245278.0, \"year\": \"2015\"}, {\"bucket\": \"top-10\", \"requests\": 2908390.0, \"year\": \"2016\"}, {\"bucket\": \"the-rest\", \"requests\": 1898874.0, \"year\": \"2016\"}, {\"bucket\": \"top-10\", \"requests\": 11738197.0, \"year\": \"2017\"}, {\"bucket\": \"the-rest\", \"requests\": 1657538.0, \"year\": \"2017\"}, {\"bucket\": \"top-10\", \"requests\": 4182904.0, \"year\": \"2018\"}, {\"bucket\": \"the-rest\", \"requests\": 3160249.0, \"year\": \"2018\"}]}};\n",
       "var opt = {};\n",
       "var type = \"vega-lite\";\n",
       "var id = \"2e8453b6-6735-4fe0-a907-bf7d12c06542\";\n",
       "\n",
       "var output_area = this;\n",
       "\n",
       "require([\"nbextensions/jupyter-vega/index\"], function(vega) {\n",
       "  var target = document.createElement(\"div\");\n",
       "  target.id = id;\n",
       "  target.className = \"vega-embed\";\n",
       "\n",
       "  var style = document.createElement(\"style\");\n",
       "  style.textContent = [\n",
       "    \".vega-embed .error p {\",\n",
       "    \"  color: firebrick;\",\n",
       "    \"  font-size: 14px;\",\n",
       "    \"}\",\n",
       "  ].join(\"\\\\n\");\n",
       "\n",
       "  // element is a jQuery wrapped DOM element inside the output area\n",
       "  // see http://ipython.readthedocs.io/en/stable/api/generated/\\\n",
       "  // IPython.display.html#IPython.display.Javascript.__init__\n",
       "  element[0].appendChild(target);\n",
       "  element[0].appendChild(style);\n",
       "\n",
       "  vega.render(\"#\" + id, spec, type, opt, output_area);\n",
       "}, function (err) {\n",
       "  if (err.requireType !== \"scripterror\") {\n",
       "    throw(err);\n",
       "  }\n",
       "});\n"
      ],
      "text/plain": [
       "<vega.vegalite.VegaLite at 0x7f263c62bc18>"
      ]
     },
     "metadata": {
      "jupyter-vega": "#2e8453b6-6735-4fe0-a907-bf7d12c06542"
     },
     "output_type": "display_data"
    },
    {
     "data": {
      "text/plain": []
     },
     "execution_count": 7,
     "metadata": {},
     "output_type": "execute_result"
    },
    {
     "data": {
      "image/png": "[encoded data removed]"
     },
     "metadata": {
      "jupyter-vega": "#2e8453b6-6735-4fe0-a907-bf7d12c06542"
     },
     "output_type": "display_data"
    }
   ],
   "source": [
    "import altair\n",
    "altair.renderers.enable('notebook')\n",
    "\n",
    "chart1 = altair.Chart(ratios).mark_bar(size=20).encode(\n",
    "    altair.X('sum(requests)', title='Archive Requests'),\n",
    "    altair.Y('year', title='Year'),    \n",
    "    altair.Color('bucket', title='type', scale=altair.Scale(scheme='tableau20'))\n",
    ")\n",
    "chart1 = chart1.properties(\n",
    "    width=600,\n",
    "    height=175,\n",
    "    title='User Agents Diversity per Year'\n",
    ")\n",
    "chart1"
   ]
  },
  {
   "cell_type": "markdown",
   "metadata": {},
   "source": [
    "This is a helpful visualization because it shows that most of the time (except for year 1 when there is only one type of User-Agent) the top-10 User-Agents account for about 1/2 of the total requests. So there is definitely some diversity that's worth accounting for.\n",
    "\n",
    "But 2017 is unusual in that by far the top-10 User-Agents account for the majority of the requests. Also there appears to have been almost double the amount of WARC request records that year, as compared to the year following. This is counter-intuitive because the amount of WARC data on disk does not follow that same trend. "
   ]
  },
  {
   "cell_type": "code",
   "execution_count": 9,
   "metadata": {},
   "outputs": [
    {
     "data": {
      "application/javascript": [
       "var spec = {\"config\": {\"view\": {\"width\": 400, \"height\": 300}, \"mark\": {\"tooltip\": null}}, \"data\": {\"name\": \"data-5b10a857fe5892330532bccba6330dba\"}, \"mark\": {\"type\": \"bar\", \"size\": 20}, \"encoding\": {\"x\": {\"type\": \"quantitative\", \"field\": \"gb\", \"title\": \"Gigabytes\"}, \"y\": {\"type\": \"nominal\", \"field\": \"year\", \"title\": \"Year\"}}, \"height\": 150, \"title\": \"SPN WARC Data by Year\", \"width\": 600, \"$schema\": \"https://vega.github.io/schema/vega-lite/v3.2.1.json\", \"datasets\": {\"data-5b10a857fe5892330532bccba6330dba\": [{\"gb\": 20.17127323243767, \"year\": \"2013\"}, {\"gb\": 40.861971464939415, \"year\": \"2014\"}, {\"gb\": 62.38306078221649, \"year\": \"2015\"}, {\"gb\": 263.18858346529305, \"year\": \"2016\"}, {\"gb\": 321.41176579799503, \"year\": \"2017\"}, {\"gb\": 645.6738020274788, \"year\": \"2018\"}]}};\n",
       "var opt = {};\n",
       "var type = \"vega-lite\";\n",
       "var id = \"ed326243-0646-45b3-bfee-002d54c43109\";\n",
       "\n",
       "var output_area = this;\n",
       "\n",
       "require([\"nbextensions/jupyter-vega/index\"], function(vega) {\n",
       "  var target = document.createElement(\"div\");\n",
       "  target.id = id;\n",
       "  target.className = \"vega-embed\";\n",
       "\n",
       "  var style = document.createElement(\"style\");\n",
       "  style.textContent = [\n",
       "    \".vega-embed .error p {\",\n",
       "    \"  color: firebrick;\",\n",
       "    \"  font-size: 14px;\",\n",
       "    \"}\",\n",
       "  ].join(\"\\\\n\");\n",
       "\n",
       "  // element is a jQuery wrapped DOM element inside the output area\n",
       "  // see http://ipython.readthedocs.io/en/stable/api/generated/\\\n",
       "  // IPython.display.html#IPython.display.Javascript.__init__\n",
       "  element[0].appendChild(target);\n",
       "  element[0].appendChild(style);\n",
       "\n",
       "  vega.render(\"#\" + id, spec, type, opt, output_area);\n",
       "}, function (err) {\n",
       "  if (err.requireType !== \"scripterror\") {\n",
       "    throw(err);\n",
       "  }\n",
       "});\n"
      ],
      "text/plain": [
       "<vega.vegalite.VegaLite at 0x7f35449825f8>"
      ]
     },
     "metadata": {
      "jupyter-vega": "#ed326243-0646-45b3-bfee-002d54c43109"
     },
     "output_type": "display_data"
    },
    {
     "data": {
      "text/plain": []
     },
     "execution_count": 9,
     "metadata": {},
     "output_type": "execute_result"
    },
    {
     "data": {
      "image/png": "[encoded data removed]"
     },
     "metadata": {
      "jupyter-vega": "#ed326243-0646-45b3-bfee-002d54c43109"
     },
     "output_type": "display_data"
    }
   ],
   "source": [
    "from os.path import getsize\n",
    "\n",
    "sizes = {'year': [], 'gb': []}\n",
    "for year in range(2013, 2019):\n",
    "    sizes['year'].append(str(year))\n",
    "    warc_files = glob('warcs/liveweb-{}*/*.warc.gz'.format(year))\n",
    "    sizes['gb'].append(sum([getsize(path) for path in warc_files]) / (1024 ** 3))\n",
    "sizes = pandas.DataFrame(sizes)\n",
    "    \n",
    "chart2 = altair.Chart(sizes).mark_bar(size=20).encode(\n",
    "    altair.X('gb', title='Gigabytes'),\n",
    "    altair.Y('year', title='Year')\n",
    ")\n",
    "chart2 = chart2.properties(title='SPN WARC Data by Year', width=600, height=150)\n",
    "chart2"
   ]
  },
  {
   "cell_type": "markdown",
   "metadata": {},
   "source": [
    "## User-Agent Families\n",
    "\n",
    "As mentioned above there is some method in the madness of these strings. Fortunately the [ua-parser](https://www.uaparser.org/) project has built a dataset uf UserAgents, and used it to create a parser toolkit for various languages. There is one for Python that we can use to try to lump some of this data together by type of browser.\n",
    "\n",
    "For example we can give ua_parser this string, and get back a dictionary with keys for device, os, and user_agent.\n",
    "\n",
    "    Mozilla/5.0 (Macintosh; Intel Mac OS X 10_13_6) AppleWebKit/605.1.15 (KHTML, like Gecko) Version/12.0 Safari/605.1.15\n"
   ]
  },
  {
   "cell_type": "code",
   "execution_count": 12,
   "metadata": {},
   "outputs": [
    {
     "name": "stdout",
     "output_type": "stream",
     "text": [
      "3.6.4 |Anaconda, Inc.| (default, Jan 16 2018, 18:10:19) \n",
      "[GCC 7.2.0]\n"
     ]
    }
   ],
   "source": [
    "import sys\n",
    "print(sys.version)"
   ]
  },
  {
   "cell_type": "code",
   "execution_count": 13,
   "metadata": {
    "scrolled": true
   },
   "outputs": [
    {
     "name": "stdout",
     "output_type": "stream",
     "text": [
      "{\n",
      "  \"user_agent\": {\n",
      "    \"family\": \"Safari\",\n",
      "    \"major\": \"12\",\n",
      "    \"minor\": \"0\",\n",
      "    \"patch\": null\n",
      "  },\n",
      "  \"os\": {\n",
      "    \"family\": \"Mac OS X\",\n",
      "    \"major\": \"10\",\n",
      "    \"minor\": \"13\",\n",
      "    \"patch\": \"6\",\n",
      "    \"patch_minor\": null\n",
      "  },\n",
      "  \"device\": {\n",
      "    \"family\": \"Other\",\n",
      "    \"brand\": null,\n",
      "    \"model\": null\n",
      "  },\n",
      "  \"string\": \"Mozilla/5.0 (Macintosh; Intel Mac OS X 10_13_6) AppleWebKit/605.1.15 (KHTML, like Gecko) Version/12.0 Safari/605.1.15\"\n",
      "}\n"
     ]
    }
   ],
   "source": [
    "import json\n",
    "from ua_parser.user_agent_parser import Parse as parse_ua\n",
    "\n",
    "ua = 'Mozilla/5.0 (Macintosh; Intel Mac OS X 10_13_6) AppleWebKit/605.1.15 (KHTML, like Gecko) Version/12.0 Safari/605.1.15'\n",
    "print(json.dumps(parse_ua(ua), indent=2))"
   ]
  },
  {
   "cell_type": "markdown",
   "metadata": {},
   "source": [
    "Even if the UserAgent is a string from a client like curl or wget ua-parser still does something useful:"
   ]
  },
  {
   "cell_type": "code",
   "execution_count": 14,
   "metadata": {},
   "outputs": [
    {
     "name": "stdout",
     "output_type": "stream",
     "text": [
      "{\n",
      "  \"user_agent\": {\n",
      "    \"family\": \"curl\",\n",
      "    \"major\": \"7\",\n",
      "    \"minor\": \"55\",\n",
      "    \"patch\": \"1\"\n",
      "  },\n",
      "  \"os\": {\n",
      "    \"family\": \"Other\",\n",
      "    \"major\": null,\n",
      "    \"minor\": null,\n",
      "    \"patch\": null,\n",
      "    \"patch_minor\": null\n",
      "  },\n",
      "  \"device\": {\n",
      "    \"family\": \"Other\",\n",
      "    \"brand\": null,\n",
      "    \"model\": null\n",
      "  },\n",
      "  \"string\": \"curl/7.55.1\"\n",
      "}\n"
     ]
    }
   ],
   "source": [
    "ua = 'curl/7.55.1'\n",
    "print(json.dumps(parse_ua(ua), indent=2))"
   ]
  },
  {
   "cell_type": "markdown",
   "metadata": {},
   "source": [
    "So it looks like we can use the *user_agent.family* to group the User-Agent strings into a single value that identifies the piece of software (e.g. Safari, Firefox, curl, etc). Let's use our existing data to create a new DataFrame where the index is the *family_name* and the columns are the request counts by year. Along the way we'll also populate `ua_fam_map` which is a dictionary lookup for User-Agents to easily get their family. It turns out ua-parser is kinda slow and it will be useful to be able to do this operation quickly.\n",
    "\n",
    "*Note: if ua-parser is unable to assign a family we will keep the original user-agent string (lines 9-10).*"
   ]
  },
  {
   "cell_type": "code",
   "execution_count": 16,
   "metadata": {},
   "outputs": [],
   "source": [
    "from collections import defaultdict\n",
    "\n",
    "ua_fams = defaultdict(defaultdict)\n",
    "ua_fam_map = {}\n",
    "for ua in df.index:\n",
    "    \n",
    "    if type(ua) != str:\n",
    "        continue\n",
    "        \n",
    "    parsed_ua = parse_ua(ua)\n",
    "    ua_fam = parsed_ua['user_agent']['family']\n",
    "    if ua_fam == 'Other':\n",
    "        ua_fam = ua\n",
    "        \n",
    "    ua_fam_map[ua] = ua_fam\n",
    "        \n",
    "    for year in range(2013, 2019):\n",
    "        y = str(year)\n",
    "        if df.loc[ua][y] > 0:\n",
    "            if y in ua_fams[ua_fam]:\n",
    "                ua_fams[ua_fam][y] += df.loc[ua][y]\n",
    "            else:\n",
    "                ua_fams[ua_fam][y] = df.loc[ua][y]\n",
    "\n",
    "ua_fams = pandas.DataFrame.from_dict(ua_fams, orient='index')\n",
    "ua_fams.to_csv('results/user-agent-families.csv')"
   ]
  },
  {
   "cell_type": "markdown",
   "metadata": {},
   "source": [
    "What do the top-10 User-Agent families look like?"
   ]
  },
  {
   "cell_type": "code",
   "execution_count": 17,
   "metadata": {},
   "outputs": [
    {
     "name": "stdout",
     "output_type": "stream",
     "text": [
      "                            2016       2017       2018      2015      2014  \\\n",
      "archive.org_bot        1211109.0  6633606.0  1993950.0   21919.0   56592.0   \n",
      "Chrome                 1148250.0   974904.0  1847441.0  733229.0  528107.0   \n",
      "Wget                     21169.0   112692.0   884542.0   41166.0     412.0   \n",
      "Firefox                 663526.0   450984.0   815868.0  446959.0  477219.0   \n",
      "Chrome Mobile            46737.0    55821.0   378808.0   37569.0   23113.0   \n",
      "Mobile Safari            62882.0    54805.0   242143.0   61445.0   51708.0   \n",
      "Safari                   98126.0    59622.0   141215.0   77051.0   61123.0   \n",
      "IE                      223213.0   115447.0   113192.0  173350.0  223003.0   \n",
      "BingPreview                125.0     2595.0   103098.0      28.0      41.0   \n",
      "Chrome Mobile WebView     3807.0     6865.0    99748.0    5290.0       NaN   \n",
      "\n",
      "                            2013  \n",
      "archive.org_bot        1238598.0  \n",
      "Chrome                       NaN  \n",
      "Wget                         NaN  \n",
      "Firefox                      NaN  \n",
      "Chrome Mobile                NaN  \n",
      "Mobile Safari                NaN  \n",
      "Safari                       NaN  \n",
      "IE                           NaN  \n",
      "BingPreview                  NaN  \n",
      "Chrome Mobile WebView        NaN  \n"
     ]
    }
   ],
   "source": [
    "ua_fams = ua_fams.sort_values(by='2018', ascending=False)\n",
    "print(ua_fams.head(10))"
   ]
  },
  {
   "cell_type": "markdown",
   "metadata": {},
   "source": [
    "How many User-Agent families are there?\n"
   ]
  },
  {
   "cell_type": "code",
   "execution_count": 18,
   "metadata": {},
   "outputs": [
    {
     "name": "stdout",
     "output_type": "stream",
     "text": [
      "919\n"
     ]
    }
   ],
   "source": [
    "print(len(ua_fams.index))"
   ]
  },
  {
   "cell_type": "markdown",
   "metadata": {},
   "source": [
    "So there are now several orders of magnitude *less* User-Agents (remember the full list was 93,843. Let's run our top-10 stats again and see how it looks:"
   ]
  },
  {
   "cell_type": "code",
   "execution_count": 19,
   "metadata": {},
   "outputs": [
    {
     "data": {
      "application/javascript": [
       "var spec = {\"config\": {\"view\": {\"width\": 400, \"height\": 300}, \"mark\": {\"tooltip\": null}}, \"data\": {\"name\": \"data-0174b9e5fd69fddf76a26b8d40b4c897\"}, \"mark\": {\"type\": \"bar\", \"size\": 20}, \"encoding\": {\"color\": {\"type\": \"nominal\", \"field\": \"bucket\", \"scale\": {\"scheme\": \"tableau20\"}, \"title\": \"type\"}, \"x\": {\"type\": \"quantitative\", \"aggregate\": \"sum\", \"field\": \"requests\", \"title\": \"Archive Requests\"}, \"y\": {\"type\": \"nominal\", \"field\": \"year\", \"title\": \"Year\"}}, \"height\": 175, \"title\": \"User Agent Families Diversity per Year\", \"width\": 600, \"$schema\": \"https://vega.github.io/schema/vega-lite/v3.2.1.json\", \"datasets\": {\"data-0174b9e5fd69fddf76a26b8d40b4c897\": [{\"bucket\": \"top-10\", \"requests\": 1238598.0, \"year\": \"2013\"}, {\"bucket\": \"the-rest\", \"requests\": 0.0, \"year\": \"2013\"}, {\"bucket\": \"top-10\", \"requests\": 1488395.0, \"year\": \"2014\"}, {\"bucket\": \"the-rest\", \"requests\": 72962.0, \"year\": \"2014\"}, {\"bucket\": \"top-10\", \"requests\": 1684446.0, \"year\": \"2015\"}, {\"bucket\": \"the-rest\", \"requests\": 177143.0, \"year\": \"2015\"}, {\"bucket\": \"top-10\", \"requests\": 3580190.0, \"year\": \"2016\"}, {\"bucket\": \"the-rest\", \"requests\": 340633.0, \"year\": \"2016\"}, {\"bucket\": \"top-10\", \"requests\": 12872644.0, \"year\": \"2017\"}, {\"bucket\": \"the-rest\", \"requests\": 523085.0, \"year\": \"2017\"}, {\"bucket\": \"top-10\", \"requests\": 6620005.0, \"year\": \"2018\"}, {\"bucket\": \"the-rest\", \"requests\": 723142.0, \"year\": \"2018\"}]}};\n",
       "var opt = {};\n",
       "var type = \"vega-lite\";\n",
       "var id = \"fe55a97d-1c79-49af-ba02-a9770a2b1fde\";\n",
       "\n",
       "var output_area = this;\n",
       "\n",
       "require([\"nbextensions/jupyter-vega/index\"], function(vega) {\n",
       "  var target = document.createElement(\"div\");\n",
       "  target.id = id;\n",
       "  target.className = \"vega-embed\";\n",
       "\n",
       "  var style = document.createElement(\"style\");\n",
       "  style.textContent = [\n",
       "    \".vega-embed .error p {\",\n",
       "    \"  color: firebrick;\",\n",
       "    \"  font-size: 14px;\",\n",
       "    \"}\",\n",
       "  ].join(\"\\\\n\");\n",
       "\n",
       "  // element is a jQuery wrapped DOM element inside the output area\n",
       "  // see http://ipython.readthedocs.io/en/stable/api/generated/\\\n",
       "  // IPython.display.html#IPython.display.Javascript.__init__\n",
       "  element[0].appendChild(target);\n",
       "  element[0].appendChild(style);\n",
       "\n",
       "  vega.render(\"#\" + id, spec, type, opt, output_area);\n",
       "}, function (err) {\n",
       "  if (err.requireType !== \"scripterror\") {\n",
       "    throw(err);\n",
       "  }\n",
       "});\n"
      ],
      "text/plain": [
       "<vega.vegalite.VegaLite at 0x7f263c262d30>"
      ]
     },
     "metadata": {
      "jupyter-vega": "#fe55a97d-1c79-49af-ba02-a9770a2b1fde"
     },
     "output_type": "display_data"
    },
    {
     "data": {
      "image/png": "[encoded data removed]"
     },
     "metadata": {
      "jupyter-vega": "#fe55a97d-1c79-49af-ba02-a9770a2b1fde"
     },
     "output_type": "display_data"
    },
    {
     "data": {
      "text/plain": []
     },
     "execution_count": 19,
     "metadata": {},
     "output_type": "execute_result"
    }
   ],
   "source": [
    "ratios2 = {'bucket': [], 'year': [], 'requests': []}\n",
    "\n",
    "for year in range(2013, 2019):\n",
    "    y = str(year)\n",
    "    dfy = ua_fams.sort_values(by=y, ascending=False)\n",
    "    \n",
    "    ratios2['year'].append(y)\n",
    "    ratios2['bucket'].append('top-10')\n",
    "    ratios2['requests'].append(dfy[y].head(10).sum())\n",
    "    \n",
    "    ratios2['year'].append(y)\n",
    "    ratios2['bucket'].append('the-rest')\n",
    "    ratios2['requests'].append(dfy[y][10:].sum())\n",
    "\n",
    "ratios2 = pandas.DataFrame(ratios2)\n",
    "\n",
    "chart3 = altair.Chart(ratios2).mark_bar(size=20).encode(\n",
    "    altair.X('sum(requests)', title='Archive Requests'),\n",
    "    altair.Y('year', title='Year'),    \n",
    "    altair.Color('bucket', title='type', scale=altair.Scale(scheme='tableau20'))\n",
    ")\n",
    "chart3 = chart3.properties(\n",
    "    width=600,\n",
    "    height=175,\n",
    "    title='User Agent Families Diversity per Year'\n",
    ")\n",
    "chart3"
   ]
  },
  {
   "cell_type": "markdown",
   "metadata": {},
   "source": [
    "Nice, so our long tail of User-Agents may be long, but it doesn't account for many requests relative to the total volume. So what is the full set of top-10 User-Agents?"
   ]
  },
  {
   "cell_type": "code",
   "execution_count": 20,
   "metadata": {},
   "outputs": [
    {
     "data": {
      "text/plain": [
       "{'Android',\n",
       " 'BingPreview',\n",
       " 'Chrome',\n",
       " 'Chrome Mobile',\n",
       " 'Chrome Mobile WebView',\n",
       " 'Firefox',\n",
       " 'Firefox Mobile',\n",
       " 'IE',\n",
       " 'Mobile Safari',\n",
       " 'Mozilla',\n",
       " 'OpenBSD ftp',\n",
       " 'Opera',\n",
       " 'Python Requests',\n",
       " 'Safari',\n",
       " 'UptimeRobot',\n",
       " 'Wget',\n",
       " 'archive.org_bot',\n",
       " 'curl',\n",
       " 'okhttp'}"
      ]
     },
     "execution_count": 20,
     "metadata": {},
     "output_type": "execute_result"
    }
   ],
   "source": [
    "top_10_uas = set()\n",
    "for year in range(2013, 2019):\n",
    "    y = str(year)\n",
    "    for ua in ua_fams.sort_values(by=y, ascending=False).head(10).index:\n",
    "        top_10_uas.add(ua)\n",
    "\n",
    "top_10_uas"
   ]
  },
  {
   "cell_type": "markdown",
   "metadata": {},
   "source": [
    "How about the top-50 per year?"
   ]
  },
  {
   "cell_type": "code",
   "execution_count": 21,
   "metadata": {},
   "outputs": [
    {
     "data": {
      "text/plain": [
       "{'AhrefsBot',\n",
       " 'Amazon Silk',\n",
       " 'Android',\n",
       " 'Apache-HttpClient',\n",
       " 'AppEngine-Google',\n",
       " 'Apple Mail',\n",
       " 'BingPreview',\n",
       " 'BlackBerry WebKit',\n",
       " 'CheckHost (http://check-host.net/)',\n",
       " 'Chrome',\n",
       " 'Chrome 41.0.2227.0',\n",
       " 'Chrome 41.0.2227.1',\n",
       " 'Chrome 41.0.2228.0',\n",
       " 'Chrome Mobile',\n",
       " 'Chrome Mobile WebView',\n",
       " 'Chrome Mobile iOS',\n",
       " 'Chromium',\n",
       " 'Coc Coc',\n",
       " 'Dragon',\n",
       " 'Edge',\n",
       " 'Edge Mobile',\n",
       " 'FUCKING CLOUDFLARE!',\n",
       " 'Facebook',\n",
       " 'FacebookBot',\n",
       " 'Firefox',\n",
       " 'Firefox (Namoroka)',\n",
       " 'Firefox (via Wayback Save Page)',\n",
       " 'Firefox 33.0',\n",
       " 'Firefox 36.0',\n",
       " 'Firefox 40.1',\n",
       " 'Firefox Mobile',\n",
       " 'Firefox iOS',\n",
       " 'HTTPClient/1.0 (2.3.4.1, ruby 1.9.3 (2014-05-14)) (via Wayback Save Page)',\n",
       " 'Hatena Antenna/0.5 (http://a.hatena.ne.jp/help)',\n",
       " 'Hatena Antenna/0.5 (http://a.hatena.ne.jp/help) (via Wayback Save Page)',\n",
       " 'HeadlessChrome',\n",
       " 'IE',\n",
       " 'IE Mobile',\n",
       " 'Iceweasel',\n",
       " 'Iron',\n",
       " 'Java',\n",
       " 'K-Meleon',\n",
       " 'LinkArchiver twitter bot',\n",
       " 'Maxthon',\n",
       " 'Mediapartners-Google',\n",
       " 'Mobile Safari',\n",
       " 'Mobile Safari UI/WKWebView',\n",
       " 'Mozilla',\n",
       " 'Mozilla/4.0 (compatible;HostTracker/2.0;+http://www.host-tracker.com/)',\n",
       " 'Mozilla/5.0',\n",
       " 'Mozilla/5.0 (Linux i686)',\n",
       " 'Mozilla/5.0 (compatible; Google-Apps-Script) (via Wayback Save Page)',\n",
       " 'NetFront NX',\n",
       " 'Netscape',\n",
       " 'OpenBSD ftp',\n",
       " 'Opera',\n",
       " 'Opera Mini',\n",
       " 'Opera Mobile',\n",
       " 'Opera/hokan',\n",
       " 'Opera/hokan (via Wayback Save Page)',\n",
       " 'PHP/5.4',\n",
       " 'Pale Moon',\n",
       " 'Patterbot',\n",
       " 'PhantomJS',\n",
       " 'Pinterest',\n",
       " 'Puffin',\n",
       " 'Python Requests',\n",
       " 'Python Wayback Backup API-Client',\n",
       " 'Python-urllib',\n",
       " 'Ruby',\n",
       " 'Ruby (via Wayback Save Page)',\n",
       " 'Safari',\n",
       " 'Safari 5.1.7',\n",
       " 'Safari 6.0',\n",
       " 'Safari 7.0.3',\n",
       " 'Samsung Internet',\n",
       " 'Scrapy',\n",
       " 'SeaMonkey',\n",
       " 'Sleipnir',\n",
       " 'Sogou Explorer',\n",
       " 'Source Rescuing Bot',\n",
       " 'TweetSave/0.1 (+http://tweetsave.com/)',\n",
       " 'UC Browser',\n",
       " 'UP.Browser',\n",
       " 'URL Status Checker/0.1 (via Wayback Save Page)',\n",
       " 'UptimeRobot',\n",
       " 'Vivaldi',\n",
       " 'Watchbot',\n",
       " 'WebKit2HTML/1.0',\n",
       " 'Wget',\n",
       " 'WordPress',\n",
       " 'Yandex Browser',\n",
       " 'archive.org_bot',\n",
       " 'archiver',\n",
       " 'curl',\n",
       " 'diffengine/0.0.42 (+https://github.com/docnow/diffengine)',\n",
       " 'diffengine/0.1.0 (+https://github.com/docnow/diffengine)',\n",
       " 'haskell-HTTP/4000.2.17 (via Wayback Save Page)',\n",
       " 'http://Anonymouse.org/ (Unix)',\n",
       " 'libwww-perl',\n",
       " 'mediawords bot',\n",
       " 'okhttp',\n",
       " 'sentry/8.18.0 (https://sentry.io)',\n",
       " 'waybackmachinedownloader'}"
      ]
     },
     "execution_count": 21,
     "metadata": {},
     "output_type": "execute_result"
    }
   ],
   "source": [
    "top_50_uas = set()\n",
    "for year in range(2013, 2019):\n",
    "    y = str(year)\n",
    "    for ua in ua_fams.sort_values(by=y, ascending=False).head(50).index:\n",
    "        top_50_uas.add(ua)\n",
    "\n",
    "top_50_uas"
   ]
  },
  {
   "cell_type": "markdown",
   "metadata": {},
   "source": [
    "This is a remarkable list in a way, because we see browsers such as Netscape, Puffin, K-Meleon, Iceweasel, Coc Coc, Vivaldi. Not everyone is running Chrome and Firefox apparently, at least when they use SavePageNow.\n",
    "\n",
    "One thing we can do to simplify even more is group the User-Agent families at face value based on whether they appear to be a browser or they appear to be a bot. Let's create a list of the obvious bots, this should cover a large number of the archiving activity at least on the days we're looking at."
   ]
  },
  {
   "cell_type": "code",
   "execution_count": 29,
   "metadata": {
    "scrolled": true
   },
   "outputs": [
    {
     "data": {
      "text/html": [
       "<div>\n",
       "<style scoped>\n",
       "    .dataframe tbody tr th:only-of-type {\n",
       "        vertical-align: middle;\n",
       "    }\n",
       "\n",
       "    .dataframe tbody tr th {\n",
       "        vertical-align: top;\n",
       "    }\n",
       "\n",
       "    .dataframe thead th {\n",
       "        text-align: right;\n",
       "    }\n",
       "</style>\n",
       "<table border=\"1\" class=\"dataframe\">\n",
       "  <thead>\n",
       "    <tr style=\"text-align: right;\">\n",
       "      <th></th>\n",
       "      <th>bucket</th>\n",
       "      <th>requests</th>\n",
       "      <th>ua</th>\n",
       "      <th>year</th>\n",
       "    </tr>\n",
       "  </thead>\n",
       "  <tbody>\n",
       "    <tr>\n",
       "      <th>0</th>\n",
       "      <td>human</td>\n",
       "      <td>NaN</td>\n",
       "      <td>Pale Moon</td>\n",
       "      <td>2013</td>\n",
       "    </tr>\n",
       "    <tr>\n",
       "      <th>1</th>\n",
       "      <td>human</td>\n",
       "      <td>2559.0</td>\n",
       "      <td>Pale Moon</td>\n",
       "      <td>2014</td>\n",
       "    </tr>\n",
       "    <tr>\n",
       "      <th>2</th>\n",
       "      <td>human</td>\n",
       "      <td>5118.0</td>\n",
       "      <td>Pale Moon</td>\n",
       "      <td>2015</td>\n",
       "    </tr>\n",
       "    <tr>\n",
       "      <th>3</th>\n",
       "      <td>human</td>\n",
       "      <td>5217.0</td>\n",
       "      <td>Pale Moon</td>\n",
       "      <td>2016</td>\n",
       "    </tr>\n",
       "    <tr>\n",
       "      <th>4</th>\n",
       "      <td>human</td>\n",
       "      <td>4676.0</td>\n",
       "      <td>Pale Moon</td>\n",
       "      <td>2017</td>\n",
       "    </tr>\n",
       "    <tr>\n",
       "      <th>5</th>\n",
       "      <td>human</td>\n",
       "      <td>4308.0</td>\n",
       "      <td>Pale Moon</td>\n",
       "      <td>2018</td>\n",
       "    </tr>\n",
       "    <tr>\n",
       "      <th>6</th>\n",
       "      <td>human</td>\n",
       "      <td>NaN</td>\n",
       "      <td>Safari 7.0.3</td>\n",
       "      <td>2013</td>\n",
       "    </tr>\n",
       "    <tr>\n",
       "      <th>7</th>\n",
       "      <td>human</td>\n",
       "      <td>NaN</td>\n",
       "      <td>Safari 7.0.3</td>\n",
       "      <td>2014</td>\n",
       "    </tr>\n",
       "    <tr>\n",
       "      <th>8</th>\n",
       "      <td>human</td>\n",
       "      <td>NaN</td>\n",
       "      <td>Safari 7.0.3</td>\n",
       "      <td>2015</td>\n",
       "    </tr>\n",
       "    <tr>\n",
       "      <th>9</th>\n",
       "      <td>human</td>\n",
       "      <td>NaN</td>\n",
       "      <td>Safari 7.0.3</td>\n",
       "      <td>2016</td>\n",
       "    </tr>\n",
       "    <tr>\n",
       "      <th>10</th>\n",
       "      <td>human</td>\n",
       "      <td>4118.0</td>\n",
       "      <td>Safari 7.0.3</td>\n",
       "      <td>2017</td>\n",
       "    </tr>\n",
       "    <tr>\n",
       "      <th>11</th>\n",
       "      <td>human</td>\n",
       "      <td>1386.0</td>\n",
       "      <td>Safari 7.0.3</td>\n",
       "      <td>2018</td>\n",
       "    </tr>\n",
       "    <tr>\n",
       "      <th>12</th>\n",
       "      <td>human</td>\n",
       "      <td>NaN</td>\n",
       "      <td>Chrome 41.0.2228.0</td>\n",
       "      <td>2013</td>\n",
       "    </tr>\n",
       "    <tr>\n",
       "      <th>13</th>\n",
       "      <td>human</td>\n",
       "      <td>NaN</td>\n",
       "      <td>Chrome 41.0.2228.0</td>\n",
       "      <td>2014</td>\n",
       "    </tr>\n",
       "    <tr>\n",
       "      <th>14</th>\n",
       "      <td>human</td>\n",
       "      <td>NaN</td>\n",
       "      <td>Chrome 41.0.2228.0</td>\n",
       "      <td>2015</td>\n",
       "    </tr>\n",
       "    <tr>\n",
       "      <th>15</th>\n",
       "      <td>human</td>\n",
       "      <td>NaN</td>\n",
       "      <td>Chrome 41.0.2228.0</td>\n",
       "      <td>2016</td>\n",
       "    </tr>\n",
       "    <tr>\n",
       "      <th>16</th>\n",
       "      <td>human</td>\n",
       "      <td>3979.0</td>\n",
       "      <td>Chrome 41.0.2228.0</td>\n",
       "      <td>2017</td>\n",
       "    </tr>\n",
       "    <tr>\n",
       "      <th>17</th>\n",
       "      <td>human</td>\n",
       "      <td>1390.0</td>\n",
       "      <td>Chrome 41.0.2228.0</td>\n",
       "      <td>2018</td>\n",
       "    </tr>\n",
       "    <tr>\n",
       "      <th>18</th>\n",
       "      <td>human</td>\n",
       "      <td>NaN</td>\n",
       "      <td>Opera/hokan</td>\n",
       "      <td>2013</td>\n",
       "    </tr>\n",
       "    <tr>\n",
       "      <th>19</th>\n",
       "      <td>human</td>\n",
       "      <td>NaN</td>\n",
       "      <td>Opera/hokan</td>\n",
       "      <td>2014</td>\n",
       "    </tr>\n",
       "    <tr>\n",
       "      <th>20</th>\n",
       "      <td>human</td>\n",
       "      <td>NaN</td>\n",
       "      <td>Opera/hokan</td>\n",
       "      <td>2015</td>\n",
       "    </tr>\n",
       "    <tr>\n",
       "      <th>21</th>\n",
       "      <td>human</td>\n",
       "      <td>4731.0</td>\n",
       "      <td>Opera/hokan</td>\n",
       "      <td>2016</td>\n",
       "    </tr>\n",
       "    <tr>\n",
       "      <th>22</th>\n",
       "      <td>human</td>\n",
       "      <td>40328.0</td>\n",
       "      <td>Opera/hokan</td>\n",
       "      <td>2017</td>\n",
       "    </tr>\n",
       "    <tr>\n",
       "      <th>23</th>\n",
       "      <td>human</td>\n",
       "      <td>7004.0</td>\n",
       "      <td>Opera/hokan</td>\n",
       "      <td>2018</td>\n",
       "    </tr>\n",
       "    <tr>\n",
       "      <th>24</th>\n",
       "      <td>human</td>\n",
       "      <td>NaN</td>\n",
       "      <td>Netscape</td>\n",
       "      <td>2013</td>\n",
       "    </tr>\n",
       "    <tr>\n",
       "      <th>25</th>\n",
       "      <td>human</td>\n",
       "      <td>3058.0</td>\n",
       "      <td>Netscape</td>\n",
       "      <td>2014</td>\n",
       "    </tr>\n",
       "    <tr>\n",
       "      <th>26</th>\n",
       "      <td>human</td>\n",
       "      <td>17.0</td>\n",
       "      <td>Netscape</td>\n",
       "      <td>2015</td>\n",
       "    </tr>\n",
       "    <tr>\n",
       "      <th>27</th>\n",
       "      <td>human</td>\n",
       "      <td>1580.0</td>\n",
       "      <td>Netscape</td>\n",
       "      <td>2016</td>\n",
       "    </tr>\n",
       "    <tr>\n",
       "      <th>28</th>\n",
       "      <td>human</td>\n",
       "      <td>185.0</td>\n",
       "      <td>Netscape</td>\n",
       "      <td>2017</td>\n",
       "    </tr>\n",
       "    <tr>\n",
       "      <th>29</th>\n",
       "      <td>human</td>\n",
       "      <td>10334.0</td>\n",
       "      <td>Netscape</td>\n",
       "      <td>2018</td>\n",
       "    </tr>\n",
       "    <tr>\n",
       "      <th>...</th>\n",
       "      <td>...</td>\n",
       "      <td>...</td>\n",
       "      <td>...</td>\n",
       "      <td>...</td>\n",
       "    </tr>\n",
       "    <tr>\n",
       "      <th>594</th>\n",
       "      <td>human</td>\n",
       "      <td>NaN</td>\n",
       "      <td>K-Meleon</td>\n",
       "      <td>2013</td>\n",
       "    </tr>\n",
       "    <tr>\n",
       "      <th>595</th>\n",
       "      <td>human</td>\n",
       "      <td>60.0</td>\n",
       "      <td>K-Meleon</td>\n",
       "      <td>2014</td>\n",
       "    </tr>\n",
       "    <tr>\n",
       "      <th>596</th>\n",
       "      <td>human</td>\n",
       "      <td>851.0</td>\n",
       "      <td>K-Meleon</td>\n",
       "      <td>2015</td>\n",
       "    </tr>\n",
       "    <tr>\n",
       "      <th>597</th>\n",
       "      <td>human</td>\n",
       "      <td>106.0</td>\n",
       "      <td>K-Meleon</td>\n",
       "      <td>2016</td>\n",
       "    </tr>\n",
       "    <tr>\n",
       "      <th>598</th>\n",
       "      <td>human</td>\n",
       "      <td>493.0</td>\n",
       "      <td>K-Meleon</td>\n",
       "      <td>2017</td>\n",
       "    </tr>\n",
       "    <tr>\n",
       "      <th>599</th>\n",
       "      <td>human</td>\n",
       "      <td>195.0</td>\n",
       "      <td>K-Meleon</td>\n",
       "      <td>2018</td>\n",
       "    </tr>\n",
       "    <tr>\n",
       "      <th>600</th>\n",
       "      <td>bot</td>\n",
       "      <td>NaN</td>\n",
       "      <td>Pinterest</td>\n",
       "      <td>2013</td>\n",
       "    </tr>\n",
       "    <tr>\n",
       "      <th>601</th>\n",
       "      <td>bot</td>\n",
       "      <td>561.0</td>\n",
       "      <td>Pinterest</td>\n",
       "      <td>2014</td>\n",
       "    </tr>\n",
       "    <tr>\n",
       "      <th>602</th>\n",
       "      <td>bot</td>\n",
       "      <td>2534.0</td>\n",
       "      <td>Pinterest</td>\n",
       "      <td>2015</td>\n",
       "    </tr>\n",
       "    <tr>\n",
       "      <th>603</th>\n",
       "      <td>bot</td>\n",
       "      <td>2722.0</td>\n",
       "      <td>Pinterest</td>\n",
       "      <td>2016</td>\n",
       "    </tr>\n",
       "    <tr>\n",
       "      <th>604</th>\n",
       "      <td>bot</td>\n",
       "      <td>1496.0</td>\n",
       "      <td>Pinterest</td>\n",
       "      <td>2017</td>\n",
       "    </tr>\n",
       "    <tr>\n",
       "      <th>605</th>\n",
       "      <td>bot</td>\n",
       "      <td>5661.0</td>\n",
       "      <td>Pinterest</td>\n",
       "      <td>2018</td>\n",
       "    </tr>\n",
       "    <tr>\n",
       "      <th>606</th>\n",
       "      <td>human</td>\n",
       "      <td>NaN</td>\n",
       "      <td>Sleipnir</td>\n",
       "      <td>2013</td>\n",
       "    </tr>\n",
       "    <tr>\n",
       "      <th>607</th>\n",
       "      <td>human</td>\n",
       "      <td>1373.0</td>\n",
       "      <td>Sleipnir</td>\n",
       "      <td>2014</td>\n",
       "    </tr>\n",
       "    <tr>\n",
       "      <th>608</th>\n",
       "      <td>human</td>\n",
       "      <td>941.0</td>\n",
       "      <td>Sleipnir</td>\n",
       "      <td>2015</td>\n",
       "    </tr>\n",
       "    <tr>\n",
       "      <th>609</th>\n",
       "      <td>human</td>\n",
       "      <td>928.0</td>\n",
       "      <td>Sleipnir</td>\n",
       "      <td>2016</td>\n",
       "    </tr>\n",
       "    <tr>\n",
       "      <th>610</th>\n",
       "      <td>human</td>\n",
       "      <td>546.0</td>\n",
       "      <td>Sleipnir</td>\n",
       "      <td>2017</td>\n",
       "    </tr>\n",
       "    <tr>\n",
       "      <th>611</th>\n",
       "      <td>human</td>\n",
       "      <td>770.0</td>\n",
       "      <td>Sleipnir</td>\n",
       "      <td>2018</td>\n",
       "    </tr>\n",
       "    <tr>\n",
       "      <th>612</th>\n",
       "      <td>bot</td>\n",
       "      <td>NaN</td>\n",
       "      <td>Python Wayback Backup API-Client</td>\n",
       "      <td>2013</td>\n",
       "    </tr>\n",
       "    <tr>\n",
       "      <th>613</th>\n",
       "      <td>bot</td>\n",
       "      <td>NaN</td>\n",
       "      <td>Python Wayback Backup API-Client</td>\n",
       "      <td>2014</td>\n",
       "    </tr>\n",
       "    <tr>\n",
       "      <th>614</th>\n",
       "      <td>bot</td>\n",
       "      <td>NaN</td>\n",
       "      <td>Python Wayback Backup API-Client</td>\n",
       "      <td>2015</td>\n",
       "    </tr>\n",
       "    <tr>\n",
       "      <th>615</th>\n",
       "      <td>bot</td>\n",
       "      <td>NaN</td>\n",
       "      <td>Python Wayback Backup API-Client</td>\n",
       "      <td>2016</td>\n",
       "    </tr>\n",
       "    <tr>\n",
       "      <th>616</th>\n",
       "      <td>bot</td>\n",
       "      <td>35382.0</td>\n",
       "      <td>Python Wayback Backup API-Client</td>\n",
       "      <td>2017</td>\n",
       "    </tr>\n",
       "    <tr>\n",
       "      <th>617</th>\n",
       "      <td>bot</td>\n",
       "      <td>NaN</td>\n",
       "      <td>Python Wayback Backup API-Client</td>\n",
       "      <td>2018</td>\n",
       "    </tr>\n",
       "    <tr>\n",
       "      <th>618</th>\n",
       "      <td>bot</td>\n",
       "      <td>NaN</td>\n",
       "      <td>UptimeRobot</td>\n",
       "      <td>2013</td>\n",
       "    </tr>\n",
       "    <tr>\n",
       "      <th>619</th>\n",
       "      <td>bot</td>\n",
       "      <td>NaN</td>\n",
       "      <td>UptimeRobot</td>\n",
       "      <td>2014</td>\n",
       "    </tr>\n",
       "    <tr>\n",
       "      <th>620</th>\n",
       "      <td>bot</td>\n",
       "      <td>50361.0</td>\n",
       "      <td>UptimeRobot</td>\n",
       "      <td>2015</td>\n",
       "    </tr>\n",
       "    <tr>\n",
       "      <th>621</th>\n",
       "      <td>bot</td>\n",
       "      <td>43813.0</td>\n",
       "      <td>UptimeRobot</td>\n",
       "      <td>2016</td>\n",
       "    </tr>\n",
       "    <tr>\n",
       "      <th>622</th>\n",
       "      <td>bot</td>\n",
       "      <td>405.0</td>\n",
       "      <td>UptimeRobot</td>\n",
       "      <td>2017</td>\n",
       "    </tr>\n",
       "    <tr>\n",
       "      <th>623</th>\n",
       "      <td>bot</td>\n",
       "      <td>484.0</td>\n",
       "      <td>UptimeRobot</td>\n",
       "      <td>2018</td>\n",
       "    </tr>\n",
       "  </tbody>\n",
       "</table>\n",
       "<p>624 rows × 4 columns</p>\n",
       "</div>"
      ],
      "text/plain": [
       "    bucket  requests                                ua  year\n",
       "0    human       NaN                         Pale Moon  2013\n",
       "1    human    2559.0                         Pale Moon  2014\n",
       "2    human    5118.0                         Pale Moon  2015\n",
       "3    human    5217.0                         Pale Moon  2016\n",
       "4    human    4676.0                         Pale Moon  2017\n",
       "5    human    4308.0                         Pale Moon  2018\n",
       "6    human       NaN                      Safari 7.0.3  2013\n",
       "7    human       NaN                      Safari 7.0.3  2014\n",
       "8    human       NaN                      Safari 7.0.3  2015\n",
       "9    human       NaN                      Safari 7.0.3  2016\n",
       "10   human    4118.0                      Safari 7.0.3  2017\n",
       "11   human    1386.0                      Safari 7.0.3  2018\n",
       "12   human       NaN                Chrome 41.0.2228.0  2013\n",
       "13   human       NaN                Chrome 41.0.2228.0  2014\n",
       "14   human       NaN                Chrome 41.0.2228.0  2015\n",
       "15   human       NaN                Chrome 41.0.2228.0  2016\n",
       "16   human    3979.0                Chrome 41.0.2228.0  2017\n",
       "17   human    1390.0                Chrome 41.0.2228.0  2018\n",
       "18   human       NaN                       Opera/hokan  2013\n",
       "19   human       NaN                       Opera/hokan  2014\n",
       "20   human       NaN                       Opera/hokan  2015\n",
       "21   human    4731.0                       Opera/hokan  2016\n",
       "22   human   40328.0                       Opera/hokan  2017\n",
       "23   human    7004.0                       Opera/hokan  2018\n",
       "24   human       NaN                          Netscape  2013\n",
       "25   human    3058.0                          Netscape  2014\n",
       "26   human      17.0                          Netscape  2015\n",
       "27   human    1580.0                          Netscape  2016\n",
       "28   human     185.0                          Netscape  2017\n",
       "29   human   10334.0                          Netscape  2018\n",
       "..     ...       ...                               ...   ...\n",
       "594  human       NaN                          K-Meleon  2013\n",
       "595  human      60.0                          K-Meleon  2014\n",
       "596  human     851.0                          K-Meleon  2015\n",
       "597  human     106.0                          K-Meleon  2016\n",
       "598  human     493.0                          K-Meleon  2017\n",
       "599  human     195.0                          K-Meleon  2018\n",
       "600    bot       NaN                         Pinterest  2013\n",
       "601    bot     561.0                         Pinterest  2014\n",
       "602    bot    2534.0                         Pinterest  2015\n",
       "603    bot    2722.0                         Pinterest  2016\n",
       "604    bot    1496.0                         Pinterest  2017\n",
       "605    bot    5661.0                         Pinterest  2018\n",
       "606  human       NaN                          Sleipnir  2013\n",
       "607  human    1373.0                          Sleipnir  2014\n",
       "608  human     941.0                          Sleipnir  2015\n",
       "609  human     928.0                          Sleipnir  2016\n",
       "610  human     546.0                          Sleipnir  2017\n",
       "611  human     770.0                          Sleipnir  2018\n",
       "612    bot       NaN  Python Wayback Backup API-Client  2013\n",
       "613    bot       NaN  Python Wayback Backup API-Client  2014\n",
       "614    bot       NaN  Python Wayback Backup API-Client  2015\n",
       "615    bot       NaN  Python Wayback Backup API-Client  2016\n",
       "616    bot   35382.0  Python Wayback Backup API-Client  2017\n",
       "617    bot       NaN  Python Wayback Backup API-Client  2018\n",
       "618    bot       NaN                       UptimeRobot  2013\n",
       "619    bot       NaN                       UptimeRobot  2014\n",
       "620    bot   50361.0                       UptimeRobot  2015\n",
       "621    bot   43813.0                       UptimeRobot  2016\n",
       "622    bot     405.0                       UptimeRobot  2017\n",
       "623    bot     484.0                       UptimeRobot  2018\n",
       "\n",
       "[624 rows x 4 columns]"
      ]
     },
     "execution_count": 29,
     "metadata": {},
     "output_type": "execute_result"
    }
   ],
   "source": [
    "bots = [   \n",
    " 'AhrefsBot',\n",
    " 'Apache-HttpClient',\n",
    " 'AppEngine-Google',\n",
    " 'CheckHost (http://check-host.net/)',\n",
    " 'Coc Coc',\n",
    " 'FUCKING CLOUDFLARE!',\n",
    " 'Facebook',\n",
    " 'FacebookBot',\n",
    " 'HTTPClient/1.0 (2.3.4.1, ruby 1.9.3 (2014-05-14)) (via Wayback Save Page)',\n",
    " 'Hatena Antenna/0.5 (http://a.hatena.ne.jp/help)',\n",
    " 'Hatena Antenna/0.5 (http://a.hatena.ne.jp/help) (via Wayback Save Page)',\n",
    " 'HeadlessChrome',\n",
    " 'Java',\n",
    " 'LinkArchiver twitter bot',\n",
    " 'Mediapartners-Google',\n",
    " 'Mobile Safari',\n",
    " 'Mobile Safari UI/WKWebView',\n",
    " 'OpenBSD ftp',\n",
    " 'PHP/5.4',\n",
    " 'Patterbot',\n",
    " 'PhantomJS',\n",
    " 'Pinterest',\n",
    " 'Python Requests',\n",
    " 'Python Wayback Backup API-Client',\n",
    " 'Python-urllib',\n",
    " 'Ruby',\n",
    " 'Ruby (via Wayback Save Page)',\n",
    " 'Scrapy',\n",
    " 'SeaMonkey',\n",
    " 'Source Rescuing Bot',\n",
    " 'TweetSave/0.1 (+http://tweetsave.com/)',\n",
    " 'URL Status Checker/0.1 (via Wayback Save Page)',\n",
    " 'UptimeRobot',\n",
    " 'Watchbot',\n",
    " 'WebKit2HTML/1.0',\n",
    " 'Wget',\n",
    " 'WordPress',\n",
    " 'archive.org_bot',\n",
    " 'archiver',\n",
    " 'curl',\n",
    " 'diffengine/0.0.42 (+https://github.com/docnow/diffengine)',\n",
    " 'diffengine/0.1.0 (+https://github.com/docnow/diffengine)',\n",
    " 'haskell-HTTP/4000.2.17 (via Wayback Save Page)',\n",
    " 'http://Anonymouse.org/ (Unix)',\n",
    " 'libwww-perl',\n",
    " 'mediawords bot',\n",
    " 'okhttp',\n",
    " 'sentry/8.18.0 (https://sentry.io)',\n",
    " 'waybackmachinedownloader'    \n",
    "]\n",
    "\n",
    "bot_ratios = {\"ua\": [], \"bucket\": [], \"year\": [], \"requests\": []}\n",
    "\n",
    "for ua in top_50_uas:\n",
    "    if ua in bots:\n",
    "        bucket = \"bot\"\n",
    "    else:\n",
    "        bucket = \"human\"\n",
    "    for year in range(2013, 2019):\n",
    "        y = str(year)\n",
    "        bot_ratios['ua'].append(ua)\n",
    "        bot_ratios['bucket'].append(bucket)\n",
    "        bot_ratios['year'].append(y)\n",
    "        bot_ratios['requests'].append(ua_fams.loc[ua][y])\n",
    "\n",
    "bot_ratios = pandas.DataFrame(bot_ratios)\n",
    "bot_ratios"
   ]
  },
  {
   "cell_type": "code",
   "execution_count": 36,
   "metadata": {},
   "outputs": [
    {
     "data": {
      "application/javascript": [
       "var spec = {\"config\": {\"view\": {\"width\": 400, \"height\": 300}, \"mark\": {\"tooltip\": null}}, \"data\": {\"name\": \"data-fd04e105fc9fbcc449bb994fba2486b4\"}, \"mark\": {\"type\": \"bar\", \"size\": 20}, \"encoding\": {\"color\": {\"type\": \"nominal\", \"field\": \"bucket\", \"scale\": {\"scheme\": \"tableau20\"}, \"title\": \"type\"}, \"x\": {\"type\": \"quantitative\", \"aggregate\": \"sum\", \"field\": \"requests\", \"title\": \"Archive Requests\"}, \"y\": {\"type\": \"nominal\", \"field\": \"year\", \"title\": \"One Day in Year\"}}, \"height\": 175, \"title\": \"Bot vs Human SPN Requests\", \"width\": 600, \"$schema\": \"https://vega.github.io/schema/vega-lite/v3.2.1.json\", \"datasets\": {\"data-fd04e105fc9fbcc449bb994fba2486b4\": [{\"bucket\": \"human\", \"requests\": null, \"ua\": \"Pale Moon\", \"year\": \"2013\"}, {\"bucket\": \"human\", \"requests\": 2559.0, \"ua\": \"Pale Moon\", \"year\": \"2014\"}, {\"bucket\": \"human\", \"requests\": 5118.0, \"ua\": \"Pale Moon\", \"year\": \"2015\"}, {\"bucket\": \"human\", \"requests\": 5217.0, \"ua\": \"Pale Moon\", \"year\": \"2016\"}, {\"bucket\": \"human\", \"requests\": 4676.0, \"ua\": \"Pale Moon\", \"year\": \"2017\"}, {\"bucket\": \"human\", \"requests\": 4308.0, \"ua\": \"Pale Moon\", \"year\": \"2018\"}, {\"bucket\": \"human\", \"requests\": null, \"ua\": \"Safari 7.0.3\", \"year\": \"2013\"}, {\"bucket\": \"human\", \"requests\": null, \"ua\": \"Safari 7.0.3\", \"year\": \"2014\"}, {\"bucket\": \"human\", \"requests\": null, \"ua\": \"Safari 7.0.3\", \"year\": \"2015\"}, {\"bucket\": \"human\", \"requests\": null, \"ua\": \"Safari 7.0.3\", \"year\": \"2016\"}, {\"bucket\": \"human\", \"requests\": 4118.0, \"ua\": \"Safari 7.0.3\", \"year\": \"2017\"}, {\"bucket\": \"human\", \"requests\": 1386.0, \"ua\": \"Safari 7.0.3\", \"year\": \"2018\"}, {\"bucket\": \"human\", \"requests\": null, \"ua\": \"Chrome 41.0.2228.0\", \"year\": \"2013\"}, {\"bucket\": \"human\", \"requests\": null, \"ua\": \"Chrome 41.0.2228.0\", \"year\": \"2014\"}, {\"bucket\": \"human\", \"requests\": null, \"ua\": \"Chrome 41.0.2228.0\", \"year\": \"2015\"}, {\"bucket\": \"human\", \"requests\": null, \"ua\": \"Chrome 41.0.2228.0\", \"year\": \"2016\"}, {\"bucket\": \"human\", \"requests\": 3979.0, \"ua\": \"Chrome 41.0.2228.0\", \"year\": \"2017\"}, {\"bucket\": \"human\", \"requests\": 1390.0, \"ua\": \"Chrome 41.0.2228.0\", \"year\": \"2018\"}, {\"bucket\": \"human\", \"requests\": null, \"ua\": \"Opera/hokan\", \"year\": \"2013\"}, {\"bucket\": \"human\", \"requests\": null, \"ua\": \"Opera/hokan\", \"year\": \"2014\"}, {\"bucket\": \"human\", \"requests\": null, \"ua\": \"Opera/hokan\", \"year\": \"2015\"}, {\"bucket\": \"human\", \"requests\": 4731.0, \"ua\": \"Opera/hokan\", \"year\": \"2016\"}, {\"bucket\": \"human\", \"requests\": 40328.0, \"ua\": \"Opera/hokan\", \"year\": \"2017\"}, {\"bucket\": \"human\", \"requests\": 7004.0, \"ua\": \"Opera/hokan\", \"year\": \"2018\"}, {\"bucket\": \"human\", \"requests\": null, \"ua\": \"Netscape\", \"year\": \"2013\"}, {\"bucket\": \"human\", \"requests\": 3058.0, \"ua\": \"Netscape\", \"year\": \"2014\"}, {\"bucket\": \"human\", \"requests\": 17.0, \"ua\": \"Netscape\", \"year\": \"2015\"}, {\"bucket\": \"human\", \"requests\": 1580.0, \"ua\": \"Netscape\", \"year\": \"2016\"}, {\"bucket\": \"human\", \"requests\": 185.0, \"ua\": \"Netscape\", \"year\": \"2017\"}, {\"bucket\": \"human\", \"requests\": 10334.0, \"ua\": \"Netscape\", \"year\": \"2018\"}, {\"bucket\": \"human\", \"requests\": null, \"ua\": \"Chrome Mobile iOS\", \"year\": \"2013\"}, {\"bucket\": \"human\", \"requests\": 7597.0, \"ua\": \"Chrome Mobile iOS\", \"year\": \"2014\"}, {\"bucket\": \"human\", \"requests\": 10385.0, \"ua\": \"Chrome Mobile iOS\", \"year\": \"2015\"}, {\"bucket\": \"human\", \"requests\": 5740.0, \"ua\": \"Chrome Mobile iOS\", \"year\": \"2016\"}, {\"bucket\": \"human\", \"requests\": 7294.0, \"ua\": \"Chrome Mobile iOS\", \"year\": \"2017\"}, {\"bucket\": \"human\", \"requests\": 24811.0, \"ua\": \"Chrome Mobile iOS\", \"year\": \"2018\"}, {\"bucket\": \"human\", \"requests\": null, \"ua\": \"Vivaldi\", \"year\": \"2013\"}, {\"bucket\": \"human\", \"requests\": null, \"ua\": \"Vivaldi\", \"year\": \"2014\"}, {\"bucket\": \"human\", \"requests\": 1159.0, \"ua\": \"Vivaldi\", \"year\": \"2015\"}, {\"bucket\": \"human\", \"requests\": 3721.0, \"ua\": \"Vivaldi\", \"year\": \"2016\"}, {\"bucket\": \"human\", \"requests\": 9448.0, \"ua\": \"Vivaldi\", \"year\": \"2017\"}, {\"bucket\": \"human\", \"requests\": 18809.0, \"ua\": \"Vivaldi\", \"year\": \"2018\"}, {\"bucket\": \"bot\", \"requests\": null, \"ua\": \"FacebookBot\", \"year\": \"2013\"}, {\"bucket\": \"bot\", \"requests\": 435.0, \"ua\": \"FacebookBot\", \"year\": \"2014\"}, {\"bucket\": \"bot\", \"requests\": 247.0, \"ua\": \"FacebookBot\", \"year\": \"2015\"}, {\"bucket\": \"bot\", \"requests\": 80.0, \"ua\": \"FacebookBot\", \"year\": \"2016\"}, {\"bucket\": \"bot\", \"requests\": 443.0, \"ua\": \"FacebookBot\", \"year\": \"2017\"}, {\"bucket\": \"bot\", \"requests\": 183.0, \"ua\": \"FacebookBot\", \"year\": \"2018\"}, {\"bucket\": \"bot\", \"requests\": null, \"ua\": \"Patterbot\", \"year\": \"2013\"}, {\"bucket\": \"bot\", \"requests\": null, \"ua\": \"Patterbot\", \"year\": \"2014\"}, {\"bucket\": \"bot\", \"requests\": null, \"ua\": \"Patterbot\", \"year\": \"2015\"}, {\"bucket\": \"bot\", \"requests\": null, \"ua\": \"Patterbot\", \"year\": \"2016\"}, {\"bucket\": \"bot\", \"requests\": null, \"ua\": \"Patterbot\", \"year\": \"2017\"}, {\"bucket\": \"bot\", \"requests\": 5991.0, \"ua\": \"Patterbot\", \"year\": \"2018\"}, {\"bucket\": \"bot\", \"requests\": null, \"ua\": \"waybackmachinedownloader\", \"year\": \"2013\"}, {\"bucket\": \"bot\", \"requests\": null, \"ua\": \"waybackmachinedownloader\", \"year\": \"2014\"}, {\"bucket\": \"bot\", \"requests\": null, \"ua\": \"waybackmachinedownloader\", \"year\": \"2015\"}, {\"bucket\": \"bot\", \"requests\": 967.0, \"ua\": \"waybackmachinedownloader\", \"year\": \"2016\"}, {\"bucket\": \"bot\", \"requests\": 657.0, \"ua\": \"waybackmachinedownloader\", \"year\": \"2017\"}, {\"bucket\": \"bot\", \"requests\": 16960.0, \"ua\": \"waybackmachinedownloader\", \"year\": \"2018\"}, {\"bucket\": \"bot\", \"requests\": null, \"ua\": \"Wget\", \"year\": \"2013\"}, {\"bucket\": \"bot\", \"requests\": 412.0, \"ua\": \"Wget\", \"year\": \"2014\"}, {\"bucket\": \"bot\", \"requests\": 41166.0, \"ua\": \"Wget\", \"year\": \"2015\"}, {\"bucket\": \"bot\", \"requests\": 21169.0, \"ua\": \"Wget\", \"year\": \"2016\"}, {\"bucket\": \"bot\", \"requests\": 112692.0, \"ua\": \"Wget\", \"year\": \"2017\"}, {\"bucket\": \"bot\", \"requests\": 884542.0, \"ua\": \"Wget\", \"year\": \"2018\"}, {\"bucket\": \"bot\", \"requests\": null, \"ua\": \"Java\", \"year\": \"2013\"}, {\"bucket\": \"bot\", \"requests\": 45.0, \"ua\": \"Java\", \"year\": \"2014\"}, {\"bucket\": \"bot\", \"requests\": 11.0, \"ua\": \"Java\", \"year\": \"2015\"}, {\"bucket\": \"bot\", \"requests\": 13.0, \"ua\": \"Java\", \"year\": \"2016\"}, {\"bucket\": \"bot\", \"requests\": 834.0, \"ua\": \"Java\", \"year\": \"2017\"}, {\"bucket\": \"bot\", \"requests\": 2448.0, \"ua\": \"Java\", \"year\": \"2018\"}, {\"bucket\": \"human\", \"requests\": null, \"ua\": \"Android\", \"year\": \"2013\"}, {\"bucket\": \"human\", \"requests\": 17485.0, \"ua\": \"Android\", \"year\": \"2014\"}, {\"bucket\": \"human\", \"requests\": 10108.0, \"ua\": \"Android\", \"year\": \"2015\"}, {\"bucket\": \"human\", \"requests\": 4771.0, \"ua\": \"Android\", \"year\": \"2016\"}, {\"bucket\": \"human\", \"requests\": 1354.0, \"ua\": \"Android\", \"year\": \"2017\"}, {\"bucket\": \"human\", \"requests\": 9106.0, \"ua\": \"Android\", \"year\": \"2018\"}, {\"bucket\": \"bot\", \"requests\": null, \"ua\": \"mediawords bot\", \"year\": \"2013\"}, {\"bucket\": \"bot\", \"requests\": null, \"ua\": \"mediawords bot\", \"year\": \"2014\"}, {\"bucket\": \"bot\", \"requests\": null, \"ua\": \"mediawords bot\", \"year\": \"2015\"}, {\"bucket\": \"bot\", \"requests\": null, \"ua\": \"mediawords bot\", \"year\": \"2016\"}, {\"bucket\": \"bot\", \"requests\": null, \"ua\": \"mediawords bot\", \"year\": \"2017\"}, {\"bucket\": \"bot\", \"requests\": 4629.0, \"ua\": \"mediawords bot\", \"year\": \"2018\"}, {\"bucket\": \"human\", \"requests\": null, \"ua\": \"Mozilla/5.0 (compatible; Google-Apps-Script) (via Wayback Save Page)\", \"year\": \"2013\"}, {\"bucket\": \"human\", \"requests\": 571.0, \"ua\": \"Mozilla/5.0 (compatible; Google-Apps-Script) (via Wayback Save Page)\", \"year\": \"2014\"}, {\"bucket\": \"human\", \"requests\": 930.0, \"ua\": \"Mozilla/5.0 (compatible; Google-Apps-Script) (via Wayback Save Page)\", \"year\": \"2015\"}, {\"bucket\": \"human\", \"requests\": null, \"ua\": \"Mozilla/5.0 (compatible; Google-Apps-Script) (via Wayback Save Page)\", \"year\": \"2016\"}, {\"bucket\": \"human\", \"requests\": null, \"ua\": \"Mozilla/5.0 (compatible; Google-Apps-Script) (via Wayback Save Page)\", \"year\": \"2017\"}, {\"bucket\": \"human\", \"requests\": null, \"ua\": \"Mozilla/5.0 (compatible; Google-Apps-Script) (via Wayback Save Page)\", \"year\": \"2018\"}, {\"bucket\": \"bot\", \"requests\": null, \"ua\": \"Scrapy\", \"year\": \"2013\"}, {\"bucket\": \"bot\", \"requests\": 662.0, \"ua\": \"Scrapy\", \"year\": \"2014\"}, {\"bucket\": \"bot\", \"requests\": null, \"ua\": \"Scrapy\", \"year\": \"2015\"}, {\"bucket\": \"bot\", \"requests\": null, \"ua\": \"Scrapy\", \"year\": \"2016\"}, {\"bucket\": \"bot\", \"requests\": null, \"ua\": \"Scrapy\", \"year\": \"2017\"}, {\"bucket\": \"bot\", \"requests\": null, \"ua\": \"Scrapy\", \"year\": \"2018\"}, {\"bucket\": \"human\", \"requests\": null, \"ua\": \"Yandex Browser\", \"year\": \"2013\"}, {\"bucket\": \"human\", \"requests\": 3780.0, \"ua\": \"Yandex Browser\", \"year\": \"2014\"}, {\"bucket\": \"human\", \"requests\": 7805.0, \"ua\": \"Yandex Browser\", \"year\": \"2015\"}, {\"bucket\": \"human\", \"requests\": 10739.0, \"ua\": \"Yandex Browser\", \"year\": \"2016\"}, {\"bucket\": \"human\", \"requests\": 13774.0, \"ua\": \"Yandex Browser\", \"year\": \"2017\"}, {\"bucket\": \"human\", \"requests\": 15339.0, \"ua\": \"Yandex Browser\", \"year\": \"2018\"}, {\"bucket\": \"human\", \"requests\": null, \"ua\": \"Apple Mail\", \"year\": \"2013\"}, {\"bucket\": \"human\", \"requests\": 504.0, \"ua\": \"Apple Mail\", \"year\": \"2014\"}, {\"bucket\": \"human\", \"requests\": 150.0, \"ua\": \"Apple Mail\", \"year\": \"2015\"}, {\"bucket\": \"human\", \"requests\": 124.0, \"ua\": \"Apple Mail\", \"year\": \"2016\"}, {\"bucket\": \"human\", \"requests\": 89.0, \"ua\": \"Apple Mail\", \"year\": \"2017\"}, {\"bucket\": \"human\", \"requests\": 1826.0, \"ua\": \"Apple Mail\", \"year\": \"2018\"}, {\"bucket\": \"human\", \"requests\": null, \"ua\": \"Mozilla/5.0 (Linux i686)\", \"year\": \"2013\"}, {\"bucket\": \"human\", \"requests\": null, \"ua\": \"Mozilla/5.0 (Linux i686)\", \"year\": \"2014\"}, {\"bucket\": \"human\", \"requests\": null, \"ua\": \"Mozilla/5.0 (Linux i686)\", \"year\": \"2015\"}, {\"bucket\": \"human\", \"requests\": 11547.0, \"ua\": \"Mozilla/5.0 (Linux i686)\", \"year\": \"2016\"}, {\"bucket\": \"human\", \"requests\": null, \"ua\": \"Mozilla/5.0 (Linux i686)\", \"year\": \"2017\"}, {\"bucket\": \"human\", \"requests\": null, \"ua\": \"Mozilla/5.0 (Linux i686)\", \"year\": \"2018\"}, {\"bucket\": \"human\", \"requests\": null, \"ua\": \"Puffin\", \"year\": \"2013\"}, {\"bucket\": \"human\", \"requests\": 769.0, \"ua\": \"Puffin\", \"year\": \"2014\"}, {\"bucket\": \"human\", \"requests\": 1783.0, \"ua\": \"Puffin\", \"year\": \"2015\"}, {\"bucket\": \"human\", \"requests\": 1470.0, \"ua\": \"Puffin\", \"year\": \"2016\"}, {\"bucket\": \"human\", \"requests\": 1807.0, \"ua\": \"Puffin\", \"year\": \"2017\"}, {\"bucket\": \"human\", \"requests\": 2624.0, \"ua\": \"Puffin\", \"year\": \"2018\"}, {\"bucket\": \"human\", \"requests\": null, \"ua\": \"Firefox\", \"year\": \"2013\"}, {\"bucket\": \"human\", \"requests\": 477219.0, \"ua\": \"Firefox\", \"year\": \"2014\"}, {\"bucket\": \"human\", \"requests\": 446959.0, \"ua\": \"Firefox\", \"year\": \"2015\"}, {\"bucket\": \"human\", \"requests\": 663526.0, \"ua\": \"Firefox\", \"year\": \"2016\"}, {\"bucket\": \"human\", \"requests\": 450984.0, \"ua\": \"Firefox\", \"year\": \"2017\"}, {\"bucket\": \"human\", \"requests\": 815868.0, \"ua\": \"Firefox\", \"year\": \"2018\"}, {\"bucket\": \"bot\", \"requests\": null, \"ua\": \"Facebook\", \"year\": \"2013\"}, {\"bucket\": \"bot\", \"requests\": 624.0, \"ua\": \"Facebook\", \"year\": \"2014\"}, {\"bucket\": \"bot\", \"requests\": 2920.0, \"ua\": \"Facebook\", \"year\": \"2015\"}, {\"bucket\": \"bot\", \"requests\": 1713.0, \"ua\": \"Facebook\", \"year\": \"2016\"}, {\"bucket\": \"bot\", \"requests\": 5745.0, \"ua\": \"Facebook\", \"year\": \"2017\"}, {\"bucket\": \"bot\", \"requests\": 40070.0, \"ua\": \"Facebook\", \"year\": \"2018\"}, {\"bucket\": \"bot\", \"requests\": null, \"ua\": \"TweetSave/0.1 (+http://tweetsave.com/)\", \"year\": \"2013\"}, {\"bucket\": \"bot\", \"requests\": null, \"ua\": \"TweetSave/0.1 (+http://tweetsave.com/)\", \"year\": \"2014\"}, {\"bucket\": \"bot\", \"requests\": null, \"ua\": \"TweetSave/0.1 (+http://tweetsave.com/)\", \"year\": \"2015\"}, {\"bucket\": \"bot\", \"requests\": 2545.0, \"ua\": \"TweetSave/0.1 (+http://tweetsave.com/)\", \"year\": \"2016\"}, {\"bucket\": \"bot\", \"requests\": 15.0, \"ua\": \"TweetSave/0.1 (+http://tweetsave.com/)\", \"year\": \"2017\"}, {\"bucket\": \"bot\", \"requests\": 2558.0, \"ua\": \"TweetSave/0.1 (+http://tweetsave.com/)\", \"year\": \"2018\"}, {\"bucket\": \"human\", \"requests\": null, \"ua\": \"Firefox Mobile\", \"year\": \"2013\"}, {\"bucket\": \"human\", \"requests\": 12918.0, \"ua\": \"Firefox Mobile\", \"year\": \"2014\"}, {\"bucket\": \"human\", \"requests\": 4261.0, \"ua\": \"Firefox Mobile\", \"year\": \"2015\"}, {\"bucket\": \"human\", \"requests\": 5472.0, \"ua\": \"Firefox Mobile\", \"year\": \"2016\"}, {\"bucket\": \"human\", \"requests\": 4871.0, \"ua\": \"Firefox Mobile\", \"year\": \"2017\"}, {\"bucket\": \"human\", \"requests\": 21421.0, \"ua\": \"Firefox Mobile\", \"year\": \"2018\"}, {\"bucket\": \"human\", \"requests\": null, \"ua\": \"Edge Mobile\", \"year\": \"2013\"}, {\"bucket\": \"human\", \"requests\": null, \"ua\": \"Edge Mobile\", \"year\": \"2014\"}, {\"bucket\": \"human\", \"requests\": 58.0, \"ua\": \"Edge Mobile\", \"year\": \"2015\"}, {\"bucket\": \"human\", \"requests\": 743.0, \"ua\": \"Edge Mobile\", \"year\": \"2016\"}, {\"bucket\": \"human\", \"requests\": 1213.0, \"ua\": \"Edge Mobile\", \"year\": \"2017\"}, {\"bucket\": \"human\", \"requests\": 2288.0, \"ua\": \"Edge Mobile\", \"year\": \"2018\"}, {\"bucket\": \"bot\", \"requests\": null, \"ua\": \"Ruby\", \"year\": \"2013\"}, {\"bucket\": \"bot\", \"requests\": null, \"ua\": \"Ruby\", \"year\": \"2014\"}, {\"bucket\": \"bot\", \"requests\": null, \"ua\": \"Ruby\", \"year\": \"2015\"}, {\"bucket\": \"bot\", \"requests\": 11182.0, \"ua\": \"Ruby\", \"year\": \"2016\"}, {\"bucket\": \"bot\", \"requests\": 19416.0, \"ua\": \"Ruby\", \"year\": \"2017\"}, {\"bucket\": \"bot\", \"requests\": 1544.0, \"ua\": \"Ruby\", \"year\": \"2018\"}, {\"bucket\": \"bot\", \"requests\": null, \"ua\": \"CheckHost (http://check-host.net/)\", \"year\": \"2013\"}, {\"bucket\": \"bot\", \"requests\": null, \"ua\": \"CheckHost (http://check-host.net/)\", \"year\": \"2014\"}, {\"bucket\": \"bot\", \"requests\": null, \"ua\": \"CheckHost (http://check-host.net/)\", \"year\": \"2015\"}, {\"bucket\": \"bot\", \"requests\": 11501.0, \"ua\": \"CheckHost (http://check-host.net/)\", \"year\": \"2016\"}, {\"bucket\": \"bot\", \"requests\": 4001.0, \"ua\": \"CheckHost (http://check-host.net/)\", \"year\": \"2017\"}, {\"bucket\": \"bot\", \"requests\": null, \"ua\": \"CheckHost (http://check-host.net/)\", \"year\": \"2018\"}, {\"bucket\": \"bot\", \"requests\": null, \"ua\": \"HTTPClient/1.0 (2.3.4.1, ruby 1.9.3 (2014-05-14)) (via Wayback Save Page)\", \"year\": \"2013\"}, {\"bucket\": \"bot\", \"requests\": 479.0, \"ua\": \"HTTPClient/1.0 (2.3.4.1, ruby 1.9.3 (2014-05-14)) (via Wayback Save Page)\", \"year\": \"2014\"}, {\"bucket\": \"bot\", \"requests\": null, \"ua\": \"HTTPClient/1.0 (2.3.4.1, ruby 1.9.3 (2014-05-14)) (via Wayback Save Page)\", \"year\": \"2015\"}, {\"bucket\": \"bot\", \"requests\": null, \"ua\": \"HTTPClient/1.0 (2.3.4.1, ruby 1.9.3 (2014-05-14)) (via Wayback Save Page)\", \"year\": \"2016\"}, {\"bucket\": \"bot\", \"requests\": null, \"ua\": \"HTTPClient/1.0 (2.3.4.1, ruby 1.9.3 (2014-05-14)) (via Wayback Save Page)\", \"year\": \"2017\"}, {\"bucket\": \"bot\", \"requests\": null, \"ua\": \"HTTPClient/1.0 (2.3.4.1, ruby 1.9.3 (2014-05-14)) (via Wayback Save Page)\", \"year\": \"2018\"}, {\"bucket\": \"bot\", \"requests\": null, \"ua\": \"Coc Coc\", \"year\": \"2013\"}, {\"bucket\": \"bot\", \"requests\": 492.0, \"ua\": \"Coc Coc\", \"year\": \"2014\"}, {\"bucket\": \"bot\", \"requests\": 811.0, \"ua\": \"Coc Coc\", \"year\": \"2015\"}, {\"bucket\": \"bot\", \"requests\": 4430.0, \"ua\": \"Coc Coc\", \"year\": \"2016\"}, {\"bucket\": \"bot\", \"requests\": 1302.0, \"ua\": \"Coc Coc\", \"year\": \"2017\"}, {\"bucket\": \"bot\", \"requests\": 1520.0, \"ua\": \"Coc Coc\", \"year\": \"2018\"}, {\"bucket\": \"human\", \"requests\": null, \"ua\": \"Chrome 41.0.2227.1\", \"year\": \"2013\"}, {\"bucket\": \"human\", \"requests\": null, \"ua\": \"Chrome 41.0.2227.1\", \"year\": \"2014\"}, {\"bucket\": \"human\", \"requests\": null, \"ua\": \"Chrome 41.0.2227.1\", \"year\": \"2015\"}, {\"bucket\": \"human\", \"requests\": null, \"ua\": \"Chrome 41.0.2227.1\", \"year\": \"2016\"}, {\"bucket\": \"human\", \"requests\": 4010.0, \"ua\": \"Chrome 41.0.2227.1\", \"year\": \"2017\"}, {\"bucket\": \"human\", \"requests\": 1281.0, \"ua\": \"Chrome 41.0.2227.1\", \"year\": \"2018\"}, {\"bucket\": \"bot\", \"requests\": null, \"ua\": \"Mobile Safari UI/WKWebView\", \"year\": \"2013\"}, {\"bucket\": \"bot\", \"requests\": 2735.0, \"ua\": \"Mobile Safari UI/WKWebView\", \"year\": \"2014\"}, {\"bucket\": \"bot\", \"requests\": 5008.0, \"ua\": \"Mobile Safari UI/WKWebView\", \"year\": \"2015\"}, {\"bucket\": \"bot\", \"requests\": 3002.0, \"ua\": \"Mobile Safari UI/WKWebView\", \"year\": \"2016\"}, {\"bucket\": \"bot\", \"requests\": 6982.0, \"ua\": \"Mobile Safari UI/WKWebView\", \"year\": \"2017\"}, {\"bucket\": \"bot\", \"requests\": 25341.0, \"ua\": \"Mobile Safari UI/WKWebView\", \"year\": \"2018\"}, {\"bucket\": \"human\", \"requests\": null, \"ua\": \"Opera Mobile\", \"year\": \"2013\"}, {\"bucket\": \"human\", \"requests\": 372.0, \"ua\": \"Opera Mobile\", \"year\": \"2014\"}, {\"bucket\": \"human\", \"requests\": 2490.0, \"ua\": \"Opera Mobile\", \"year\": \"2015\"}, {\"bucket\": \"human\", \"requests\": 435.0, \"ua\": \"Opera Mobile\", \"year\": \"2016\"}, {\"bucket\": \"human\", \"requests\": 1671.0, \"ua\": \"Opera Mobile\", \"year\": \"2017\"}, {\"bucket\": \"human\", \"requests\": 10131.0, \"ua\": \"Opera Mobile\", \"year\": \"2018\"}, {\"bucket\": \"bot\", \"requests\": null, \"ua\": \"haskell-HTTP/4000.2.17 (via Wayback Save Page)\", \"year\": \"2013\"}, {\"bucket\": \"bot\", \"requests\": 423.0, \"ua\": \"haskell-HTTP/4000.2.17 (via Wayback Save Page)\", \"year\": \"2014\"}, {\"bucket\": \"bot\", \"requests\": 410.0, \"ua\": \"haskell-HTTP/4000.2.17 (via Wayback Save Page)\", \"year\": \"2015\"}, {\"bucket\": \"bot\", \"requests\": null, \"ua\": \"haskell-HTTP/4000.2.17 (via Wayback Save Page)\", \"year\": \"2016\"}, {\"bucket\": \"bot\", \"requests\": null, \"ua\": \"haskell-HTTP/4000.2.17 (via Wayback Save Page)\", \"year\": \"2017\"}, {\"bucket\": \"bot\", \"requests\": null, \"ua\": \"haskell-HTTP/4000.2.17 (via Wayback Save Page)\", \"year\": \"2018\"}, {\"bucket\": \"human\", \"requests\": null, \"ua\": \"Iron\", \"year\": \"2013\"}, {\"bucket\": \"human\", \"requests\": 1872.0, \"ua\": \"Iron\", \"year\": \"2014\"}, {\"bucket\": \"human\", \"requests\": 1807.0, \"ua\": \"Iron\", \"year\": \"2015\"}, {\"bucket\": \"human\", \"requests\": 2218.0, \"ua\": \"Iron\", \"year\": \"2016\"}, {\"bucket\": \"human\", \"requests\": 2074.0, \"ua\": \"Iron\", \"year\": \"2017\"}, {\"bucket\": \"human\", \"requests\": 5553.0, \"ua\": \"Iron\", \"year\": \"2018\"}, {\"bucket\": \"bot\", \"requests\": null, \"ua\": \"archiver\", \"year\": \"2013\"}, {\"bucket\": \"bot\", \"requests\": null, \"ua\": \"archiver\", \"year\": \"2014\"}, {\"bucket\": \"bot\", \"requests\": null, \"ua\": \"archiver\", \"year\": \"2015\"}, {\"bucket\": \"bot\", \"requests\": null, \"ua\": \"archiver\", \"year\": \"2016\"}, {\"bucket\": \"bot\", \"requests\": 7.0, \"ua\": \"archiver\", \"year\": \"2017\"}, {\"bucket\": \"bot\", \"requests\": 9523.0, \"ua\": \"archiver\", \"year\": \"2018\"}, {\"bucket\": \"human\", \"requests\": null, \"ua\": \"BlackBerry WebKit\", \"year\": \"2013\"}, {\"bucket\": \"human\", \"requests\": 578.0, \"ua\": \"BlackBerry WebKit\", \"year\": \"2014\"}, {\"bucket\": \"human\", \"requests\": 318.0, \"ua\": \"BlackBerry WebKit\", \"year\": \"2015\"}, {\"bucket\": \"human\", \"requests\": 386.0, \"ua\": \"BlackBerry WebKit\", \"year\": \"2016\"}, {\"bucket\": \"human\", \"requests\": 107.0, \"ua\": \"BlackBerry WebKit\", \"year\": \"2017\"}, {\"bucket\": \"human\", \"requests\": 8605.0, \"ua\": \"BlackBerry WebKit\", \"year\": \"2018\"}, {\"bucket\": \"bot\", \"requests\": null, \"ua\": \"URL Status Checker/0.1 (via Wayback Save Page)\", \"year\": \"2013\"}, {\"bucket\": \"bot\", \"requests\": 1178.0, \"ua\": \"URL Status Checker/0.1 (via Wayback Save Page)\", \"year\": \"2014\"}, {\"bucket\": \"bot\", \"requests\": 1102.0, \"ua\": \"URL Status Checker/0.1 (via Wayback Save Page)\", \"year\": \"2015\"}, {\"bucket\": \"bot\", \"requests\": null, \"ua\": \"URL Status Checker/0.1 (via Wayback Save Page)\", \"year\": \"2016\"}, {\"bucket\": \"bot\", \"requests\": null, \"ua\": \"URL Status Checker/0.1 (via Wayback Save Page)\", \"year\": \"2017\"}, {\"bucket\": \"bot\", \"requests\": null, \"ua\": \"URL Status Checker/0.1 (via Wayback Save Page)\", \"year\": \"2018\"}, {\"bucket\": \"bot\", \"requests\": null, \"ua\": \"Hatena Antenna/0.5 (http://a.hatena.ne.jp/help) (via Wayback Save Page)\", \"year\": \"2013\"}, {\"bucket\": \"bot\", \"requests\": null, \"ua\": \"Hatena Antenna/0.5 (http://a.hatena.ne.jp/help) (via Wayback Save Page)\", \"year\": \"2014\"}, {\"bucket\": \"bot\", \"requests\": 4122.0, \"ua\": \"Hatena Antenna/0.5 (http://a.hatena.ne.jp/help) (via Wayback Save Page)\", \"year\": \"2015\"}, {\"bucket\": \"bot\", \"requests\": null, \"ua\": \"Hatena Antenna/0.5 (http://a.hatena.ne.jp/help) (via Wayback Save Page)\", \"year\": \"2016\"}, {\"bucket\": \"bot\", \"requests\": null, \"ua\": \"Hatena Antenna/0.5 (http://a.hatena.ne.jp/help) (via Wayback Save Page)\", \"year\": \"2017\"}, {\"bucket\": \"bot\", \"requests\": null, \"ua\": \"Hatena Antenna/0.5 (http://a.hatena.ne.jp/help) (via Wayback Save Page)\", \"year\": \"2018\"}, {\"bucket\": \"bot\", \"requests\": null, \"ua\": \"Mobile Safari\", \"year\": \"2013\"}, {\"bucket\": \"bot\", \"requests\": 51708.0, \"ua\": \"Mobile Safari\", \"year\": \"2014\"}, {\"bucket\": \"bot\", \"requests\": 61445.0, \"ua\": \"Mobile Safari\", \"year\": \"2015\"}, {\"bucket\": \"bot\", \"requests\": 62882.0, \"ua\": \"Mobile Safari\", \"year\": \"2016\"}, {\"bucket\": \"bot\", \"requests\": 54805.0, \"ua\": \"Mobile Safari\", \"year\": \"2017\"}, {\"bucket\": \"bot\", \"requests\": 242143.0, \"ua\": \"Mobile Safari\", \"year\": \"2018\"}, {\"bucket\": \"human\", \"requests\": null, \"ua\": \"Mozilla\", \"year\": \"2013\"}, {\"bucket\": \"human\", \"requests\": null, \"ua\": \"Mozilla\", \"year\": \"2014\"}, {\"bucket\": \"human\", \"requests\": null, \"ua\": \"Mozilla\", \"year\": \"2015\"}, {\"bucket\": \"human\", \"requests\": 331.0, \"ua\": \"Mozilla\", \"year\": \"2016\"}, {\"bucket\": \"human\", \"requests\": 100322.0, \"ua\": \"Mozilla\", \"year\": \"2017\"}, {\"bucket\": \"human\", \"requests\": 648.0, \"ua\": \"Mozilla\", \"year\": \"2018\"}, {\"bucket\": \"bot\", \"requests\": null, \"ua\": \"AppEngine-Google\", \"year\": \"2013\"}, {\"bucket\": \"bot\", \"requests\": 699.0, \"ua\": \"AppEngine-Google\", \"year\": \"2014\"}, {\"bucket\": \"bot\", \"requests\": 1024.0, \"ua\": \"AppEngine-Google\", \"year\": \"2015\"}, {\"bucket\": \"bot\", \"requests\": 331.0, \"ua\": \"AppEngine-Google\", \"year\": \"2016\"}, {\"bucket\": \"bot\", \"requests\": 204.0, \"ua\": \"AppEngine-Google\", \"year\": \"2017\"}, {\"bucket\": \"bot\", \"requests\": 211.0, \"ua\": \"AppEngine-Google\", \"year\": \"2018\"}, {\"bucket\": \"human\", \"requests\": null, \"ua\": \"Chrome Mobile\", \"year\": \"2013\"}, {\"bucket\": \"human\", \"requests\": 23113.0, \"ua\": \"Chrome Mobile\", \"year\": \"2014\"}, {\"bucket\": \"human\", \"requests\": 37569.0, \"ua\": \"Chrome Mobile\", \"year\": \"2015\"}, {\"bucket\": \"human\", \"requests\": 46737.0, \"ua\": \"Chrome Mobile\", \"year\": \"2016\"}, {\"bucket\": \"human\", \"requests\": 55821.0, \"ua\": \"Chrome Mobile\", \"year\": \"2017\"}, {\"bucket\": \"human\", \"requests\": 378808.0, \"ua\": \"Chrome Mobile\", \"year\": \"2018\"}, {\"bucket\": \"human\", \"requests\": null, \"ua\": \"BingPreview\", \"year\": \"2013\"}, {\"bucket\": \"human\", \"requests\": 41.0, \"ua\": \"BingPreview\", \"year\": \"2014\"}, {\"bucket\": \"human\", \"requests\": 28.0, \"ua\": \"BingPreview\", \"year\": \"2015\"}, {\"bucket\": \"human\", \"requests\": 125.0, \"ua\": \"BingPreview\", \"year\": \"2016\"}, {\"bucket\": \"human\", \"requests\": 2595.0, \"ua\": \"BingPreview\", \"year\": \"2017\"}, {\"bucket\": \"human\", \"requests\": 103098.0, \"ua\": \"BingPreview\", \"year\": \"2018\"}, {\"bucket\": \"bot\", \"requests\": null, \"ua\": \"diffengine/0.0.42 (+https://github.com/docnow/diffengine)\", \"year\": \"2013\"}, {\"bucket\": \"bot\", \"requests\": null, \"ua\": \"diffengine/0.0.42 (+https://github.com/docnow/diffengine)\", \"year\": \"2014\"}, {\"bucket\": \"bot\", \"requests\": null, \"ua\": \"diffengine/0.0.42 (+https://github.com/docnow/diffengine)\", \"year\": \"2015\"}, {\"bucket\": \"bot\", \"requests\": null, \"ua\": \"diffengine/0.0.42 (+https://github.com/docnow/diffengine)\", \"year\": \"2016\"}, {\"bucket\": \"bot\", \"requests\": 3574.0, \"ua\": \"diffengine/0.0.42 (+https://github.com/docnow/diffengine)\", \"year\": \"2017\"}, {\"bucket\": \"bot\", \"requests\": null, \"ua\": \"diffengine/0.0.42 (+https://github.com/docnow/diffengine)\", \"year\": \"2018\"}, {\"bucket\": \"bot\", \"requests\": null, \"ua\": \"WebKit2HTML/1.0\", \"year\": \"2013\"}, {\"bucket\": \"bot\", \"requests\": null, \"ua\": \"WebKit2HTML/1.0\", \"year\": \"2014\"}, {\"bucket\": \"bot\", \"requests\": null, \"ua\": \"WebKit2HTML/1.0\", \"year\": \"2015\"}, {\"bucket\": \"bot\", \"requests\": 23384.0, \"ua\": \"WebKit2HTML/1.0\", \"year\": \"2016\"}, {\"bucket\": \"bot\", \"requests\": null, \"ua\": \"WebKit2HTML/1.0\", \"year\": \"2017\"}, {\"bucket\": \"bot\", \"requests\": null, \"ua\": \"WebKit2HTML/1.0\", \"year\": \"2018\"}, {\"bucket\": \"human\", \"requests\": null, \"ua\": \"Chrome\", \"year\": \"2013\"}, {\"bucket\": \"human\", \"requests\": 528107.0, \"ua\": \"Chrome\", \"year\": \"2014\"}, {\"bucket\": \"human\", \"requests\": 733229.0, \"ua\": \"Chrome\", \"year\": \"2015\"}, {\"bucket\": \"human\", \"requests\": 1148250.0, \"ua\": \"Chrome\", \"year\": \"2016\"}, {\"bucket\": \"human\", \"requests\": 974904.0, \"ua\": \"Chrome\", \"year\": \"2017\"}, {\"bucket\": \"human\", \"requests\": 1847441.0, \"ua\": \"Chrome\", \"year\": \"2018\"}, {\"bucket\": \"human\", \"requests\": null, \"ua\": \"Firefox 33.0\", \"year\": \"2013\"}, {\"bucket\": \"human\", \"requests\": null, \"ua\": \"Firefox 33.0\", \"year\": \"2014\"}, {\"bucket\": \"human\", \"requests\": null, \"ua\": \"Firefox 33.0\", \"year\": \"2015\"}, {\"bucket\": \"human\", \"requests\": null, \"ua\": \"Firefox 33.0\", \"year\": \"2016\"}, {\"bucket\": \"human\", \"requests\": 4072.0, \"ua\": \"Firefox 33.0\", \"year\": \"2017\"}, {\"bucket\": \"human\", \"requests\": 1347.0, \"ua\": \"Firefox 33.0\", \"year\": \"2018\"}, {\"bucket\": \"bot\", \"requests\": null, \"ua\": \"Hatena Antenna/0.5 (http://a.hatena.ne.jp/help)\", \"year\": \"2013\"}, {\"bucket\": \"bot\", \"requests\": null, \"ua\": \"Hatena Antenna/0.5 (http://a.hatena.ne.jp/help)\", \"year\": \"2014\"}, {\"bucket\": \"bot\", \"requests\": null, \"ua\": \"Hatena Antenna/0.5 (http://a.hatena.ne.jp/help)\", \"year\": \"2015\"}, {\"bucket\": \"bot\", \"requests\": 7699.0, \"ua\": \"Hatena Antenna/0.5 (http://a.hatena.ne.jp/help)\", \"year\": \"2016\"}, {\"bucket\": \"bot\", \"requests\": 3825.0, \"ua\": \"Hatena Antenna/0.5 (http://a.hatena.ne.jp/help)\", \"year\": \"2017\"}, {\"bucket\": \"bot\", \"requests\": 1694.0, \"ua\": \"Hatena Antenna/0.5 (http://a.hatena.ne.jp/help)\", \"year\": \"2018\"}, {\"bucket\": \"bot\", \"requests\": null, \"ua\": \"okhttp\", \"year\": \"2013\"}, {\"bucket\": \"bot\", \"requests\": null, \"ua\": \"okhttp\", \"year\": \"2014\"}, {\"bucket\": \"bot\", \"requests\": 158.0, \"ua\": \"okhttp\", \"year\": \"2015\"}, {\"bucket\": \"bot\", \"requests\": 34.0, \"ua\": \"okhttp\", \"year\": \"2016\"}, {\"bucket\": \"bot\", \"requests\": 4098869.0, \"ua\": \"okhttp\", \"year\": \"2017\"}, {\"bucket\": \"bot\", \"requests\": 8.0, \"ua\": \"okhttp\", \"year\": \"2018\"}, {\"bucket\": \"human\", \"requests\": null, \"ua\": \"Opera Mini\", \"year\": \"2013\"}, {\"bucket\": \"human\", \"requests\": 4536.0, \"ua\": \"Opera Mini\", \"year\": \"2014\"}, {\"bucket\": \"human\", \"requests\": 2427.0, \"ua\": \"Opera Mini\", \"year\": \"2015\"}, {\"bucket\": \"human\", \"requests\": 3082.0, \"ua\": \"Opera Mini\", \"year\": \"2016\"}, {\"bucket\": \"human\", \"requests\": 3795.0, \"ua\": \"Opera Mini\", \"year\": \"2017\"}, {\"bucket\": \"human\", \"requests\": 5948.0, \"ua\": \"Opera Mini\", \"year\": \"2018\"}, {\"bucket\": \"bot\", \"requests\": null, \"ua\": \"curl\", \"year\": \"2013\"}, {\"bucket\": \"bot\", \"requests\": 1904.0, \"ua\": \"curl\", \"year\": \"2014\"}, {\"bucket\": \"bot\", \"requests\": 10927.0, \"ua\": \"curl\", \"year\": \"2015\"}, {\"bucket\": \"bot\", \"requests\": 21283.0, \"ua\": \"curl\", \"year\": \"2016\"}, {\"bucket\": \"bot\", \"requests\": 234076.0, \"ua\": \"curl\", \"year\": \"2017\"}, {\"bucket\": \"bot\", \"requests\": 42445.0, \"ua\": \"curl\", \"year\": \"2018\"}, {\"bucket\": \"human\", \"requests\": null, \"ua\": \"Firefox (Namoroka)\", \"year\": \"2013\"}, {\"bucket\": \"human\", \"requests\": 1569.0, \"ua\": \"Firefox (Namoroka)\", \"year\": \"2014\"}, {\"bucket\": \"human\", \"requests\": 355.0, \"ua\": \"Firefox (Namoroka)\", \"year\": \"2015\"}, {\"bucket\": \"human\", \"requests\": 2.0, \"ua\": \"Firefox (Namoroka)\", \"year\": \"2016\"}, {\"bucket\": \"human\", \"requests\": null, \"ua\": \"Firefox (Namoroka)\", \"year\": \"2017\"}, {\"bucket\": \"human\", \"requests\": 3.0, \"ua\": \"Firefox (Namoroka)\", \"year\": \"2018\"}, {\"bucket\": \"human\", \"requests\": null, \"ua\": \"UP.Browser\", \"year\": \"2013\"}, {\"bucket\": \"human\", \"requests\": 1195.0, \"ua\": \"UP.Browser\", \"year\": \"2014\"}, {\"bucket\": \"human\", \"requests\": null, \"ua\": \"UP.Browser\", \"year\": \"2015\"}, {\"bucket\": \"human\", \"requests\": null, \"ua\": \"UP.Browser\", \"year\": \"2016\"}, {\"bucket\": \"human\", \"requests\": null, \"ua\": \"UP.Browser\", \"year\": \"2017\"}, {\"bucket\": \"human\", \"requests\": null, \"ua\": \"UP.Browser\", \"year\": \"2018\"}, {\"bucket\": \"bot\", \"requests\": null, \"ua\": \"SeaMonkey\", \"year\": \"2013\"}, {\"bucket\": \"bot\", \"requests\": 1700.0, \"ua\": \"SeaMonkey\", \"year\": \"2014\"}, {\"bucket\": \"bot\", \"requests\": 1419.0, \"ua\": \"SeaMonkey\", \"year\": \"2015\"}, {\"bucket\": \"bot\", \"requests\": 6288.0, \"ua\": \"SeaMonkey\", \"year\": \"2016\"}, {\"bucket\": \"bot\", \"requests\": 1287.0, \"ua\": \"SeaMonkey\", \"year\": \"2017\"}, {\"bucket\": \"bot\", \"requests\": 1255.0, \"ua\": \"SeaMonkey\", \"year\": \"2018\"}, {\"bucket\": \"human\", \"requests\": null, \"ua\": \"Samsung Internet\", \"year\": \"2013\"}, {\"bucket\": \"human\", \"requests\": null, \"ua\": \"Samsung Internet\", \"year\": \"2014\"}, {\"bucket\": \"human\", \"requests\": 4835.0, \"ua\": \"Samsung Internet\", \"year\": \"2015\"}, {\"bucket\": \"human\", \"requests\": 6411.0, \"ua\": \"Samsung Internet\", \"year\": \"2016\"}, {\"bucket\": \"human\", \"requests\": 6518.0, \"ua\": \"Samsung Internet\", \"year\": \"2017\"}, {\"bucket\": \"human\", \"requests\": 58346.0, \"ua\": \"Samsung Internet\", \"year\": \"2018\"}, {\"bucket\": \"human\", \"requests\": null, \"ua\": \"IE\", \"year\": \"2013\"}, {\"bucket\": \"human\", \"requests\": 223003.0, \"ua\": \"IE\", \"year\": \"2014\"}, {\"bucket\": \"human\", \"requests\": 173350.0, \"ua\": \"IE\", \"year\": \"2015\"}, {\"bucket\": \"human\", \"requests\": 223213.0, \"ua\": \"IE\", \"year\": \"2016\"}, {\"bucket\": \"human\", \"requests\": 115447.0, \"ua\": \"IE\", \"year\": \"2017\"}, {\"bucket\": \"human\", \"requests\": 113192.0, \"ua\": \"IE\", \"year\": \"2018\"}, {\"bucket\": \"human\", \"requests\": null, \"ua\": \"Safari 5.1.7\", \"year\": \"2013\"}, {\"bucket\": \"human\", \"requests\": null, \"ua\": \"Safari 5.1.7\", \"year\": \"2014\"}, {\"bucket\": \"human\", \"requests\": null, \"ua\": \"Safari 5.1.7\", \"year\": \"2015\"}, {\"bucket\": \"human\", \"requests\": null, \"ua\": \"Safari 5.1.7\", \"year\": \"2016\"}, {\"bucket\": \"human\", \"requests\": 3999.0, \"ua\": \"Safari 5.1.7\", \"year\": \"2017\"}, {\"bucket\": \"human\", \"requests\": 1352.0, \"ua\": \"Safari 5.1.7\", \"year\": \"2018\"}, {\"bucket\": \"bot\", \"requests\": null, \"ua\": \"PHP/5.4\", \"year\": \"2013\"}, {\"bucket\": \"bot\", \"requests\": null, \"ua\": \"PHP/5.4\", \"year\": \"2014\"}, {\"bucket\": \"bot\", \"requests\": null, \"ua\": \"PHP/5.4\", \"year\": \"2015\"}, {\"bucket\": \"bot\", \"requests\": null, \"ua\": \"PHP/5.4\", \"year\": \"2016\"}, {\"bucket\": \"bot\", \"requests\": 2091.0, \"ua\": \"PHP/5.4\", \"year\": \"2017\"}, {\"bucket\": \"bot\", \"requests\": 254.0, \"ua\": \"PHP/5.4\", \"year\": \"2018\"}, {\"bucket\": \"human\", \"requests\": null, \"ua\": \"Opera\", \"year\": \"2013\"}, {\"bucket\": \"human\", \"requests\": 37127.0, \"ua\": \"Opera\", \"year\": \"2014\"}, {\"bucket\": \"human\", \"requests\": 41397.0, \"ua\": \"Opera\", \"year\": \"2015\"}, {\"bucket\": \"human\", \"requests\": 52143.0, \"ua\": \"Opera\", \"year\": \"2016\"}, {\"bucket\": \"human\", \"requests\": 40192.0, \"ua\": \"Opera\", \"year\": \"2017\"}, {\"bucket\": \"human\", \"requests\": 79117.0, \"ua\": \"Opera\", \"year\": \"2018\"}, {\"bucket\": \"human\", \"requests\": null, \"ua\": \"Iceweasel\", \"year\": \"2013\"}, {\"bucket\": \"human\", \"requests\": 1500.0, \"ua\": \"Iceweasel\", \"year\": \"2014\"}, {\"bucket\": \"human\", \"requests\": 2377.0, \"ua\": \"Iceweasel\", \"year\": \"2015\"}, {\"bucket\": \"human\", \"requests\": 813.0, \"ua\": \"Iceweasel\", \"year\": \"2016\"}, {\"bucket\": \"human\", \"requests\": 737.0, \"ua\": \"Iceweasel\", \"year\": \"2017\"}, {\"bucket\": \"human\", \"requests\": 717.0, \"ua\": \"Iceweasel\", \"year\": \"2018\"}, {\"bucket\": \"bot\", \"requests\": null, \"ua\": \"LinkArchiver twitter bot\", \"year\": \"2013\"}, {\"bucket\": \"bot\", \"requests\": null, \"ua\": \"LinkArchiver twitter bot\", \"year\": \"2014\"}, {\"bucket\": \"bot\", \"requests\": null, \"ua\": \"LinkArchiver twitter bot\", \"year\": \"2015\"}, {\"bucket\": \"bot\", \"requests\": null, \"ua\": \"LinkArchiver twitter bot\", \"year\": \"2016\"}, {\"bucket\": \"bot\", \"requests\": 28505.0, \"ua\": \"LinkArchiver twitter bot\", \"year\": \"2017\"}, {\"bucket\": \"bot\", \"requests\": null, \"ua\": \"LinkArchiver twitter bot\", \"year\": \"2018\"}, {\"bucket\": \"human\", \"requests\": null, \"ua\": \"Dragon\", \"year\": \"2013\"}, {\"bucket\": \"human\", \"requests\": 1083.0, \"ua\": \"Dragon\", \"year\": \"2014\"}, {\"bucket\": \"human\", \"requests\": 488.0, \"ua\": \"Dragon\", \"year\": \"2015\"}, {\"bucket\": \"human\", \"requests\": 513.0, \"ua\": \"Dragon\", \"year\": \"2016\"}, {\"bucket\": \"human\", \"requests\": 1258.0, \"ua\": \"Dragon\", \"year\": \"2017\"}, {\"bucket\": \"human\", \"requests\": 934.0, \"ua\": \"Dragon\", \"year\": \"2018\"}, {\"bucket\": \"human\", \"requests\": null, \"ua\": \"IE Mobile\", \"year\": \"2013\"}, {\"bucket\": \"human\", \"requests\": 1062.0, \"ua\": \"IE Mobile\", \"year\": \"2014\"}, {\"bucket\": \"human\", \"requests\": 1794.0, \"ua\": \"IE Mobile\", \"year\": \"2015\"}, {\"bucket\": \"human\", \"requests\": 1020.0, \"ua\": \"IE Mobile\", \"year\": \"2016\"}, {\"bucket\": \"human\", \"requests\": 435.0, \"ua\": \"IE Mobile\", \"year\": \"2017\"}, {\"bucket\": \"human\", \"requests\": 17194.0, \"ua\": \"IE Mobile\", \"year\": \"2018\"}, {\"bucket\": \"bot\", \"requests\": null, \"ua\": \"AhrefsBot\", \"year\": \"2013\"}, {\"bucket\": \"bot\", \"requests\": null, \"ua\": \"AhrefsBot\", \"year\": \"2014\"}, {\"bucket\": \"bot\", \"requests\": null, \"ua\": \"AhrefsBot\", \"year\": \"2015\"}, {\"bucket\": \"bot\", \"requests\": null, \"ua\": \"AhrefsBot\", \"year\": \"2016\"}, {\"bucket\": \"bot\", \"requests\": 967.0, \"ua\": \"AhrefsBot\", \"year\": \"2017\"}, {\"bucket\": \"bot\", \"requests\": 3299.0, \"ua\": \"AhrefsBot\", \"year\": \"2018\"}, {\"bucket\": \"human\", \"requests\": null, \"ua\": \"Amazon Silk\", \"year\": \"2013\"}, {\"bucket\": \"human\", \"requests\": 1747.0, \"ua\": \"Amazon Silk\", \"year\": \"2014\"}, {\"bucket\": \"human\", \"requests\": 3244.0, \"ua\": \"Amazon Silk\", \"year\": \"2015\"}, {\"bucket\": \"human\", \"requests\": 3950.0, \"ua\": \"Amazon Silk\", \"year\": \"2016\"}, {\"bucket\": \"human\", \"requests\": 1646.0, \"ua\": \"Amazon Silk\", \"year\": \"2017\"}, {\"bucket\": \"human\", \"requests\": 5332.0, \"ua\": \"Amazon Silk\", \"year\": \"2018\"}, {\"bucket\": \"human\", \"requests\": null, \"ua\": \"UC Browser\", \"year\": \"2013\"}, {\"bucket\": \"human\", \"requests\": 2183.0, \"ua\": \"UC Browser\", \"year\": \"2014\"}, {\"bucket\": \"human\", \"requests\": 2655.0, \"ua\": \"UC Browser\", \"year\": \"2015\"}, {\"bucket\": \"human\", \"requests\": 4625.0, \"ua\": \"UC Browser\", \"year\": \"2016\"}, {\"bucket\": \"human\", \"requests\": 2830.0, \"ua\": \"UC Browser\", \"year\": \"2017\"}, {\"bucket\": \"human\", \"requests\": 38007.0, \"ua\": \"UC Browser\", \"year\": \"2018\"}, {\"bucket\": \"bot\", \"requests\": null, \"ua\": \"WordPress\", \"year\": \"2013\"}, {\"bucket\": \"bot\", \"requests\": 343.0, \"ua\": \"WordPress\", \"year\": \"2014\"}, {\"bucket\": \"bot\", \"requests\": 72.0, \"ua\": \"WordPress\", \"year\": \"2015\"}, {\"bucket\": \"bot\", \"requests\": 24740.0, \"ua\": \"WordPress\", \"year\": \"2016\"}, {\"bucket\": \"bot\", \"requests\": 4776.0, \"ua\": \"WordPress\", \"year\": \"2017\"}, {\"bucket\": \"bot\", \"requests\": 4773.0, \"ua\": \"WordPress\", \"year\": \"2018\"}, {\"bucket\": \"bot\", \"requests\": null, \"ua\": \"Source Rescuing Bot\", \"year\": \"2013\"}, {\"bucket\": \"bot\", \"requests\": null, \"ua\": \"Source Rescuing Bot\", \"year\": \"2014\"}, {\"bucket\": \"bot\", \"requests\": 10717.0, \"ua\": \"Source Rescuing Bot\", \"year\": \"2015\"}, {\"bucket\": \"bot\", \"requests\": null, \"ua\": \"Source Rescuing Bot\", \"year\": \"2016\"}, {\"bucket\": \"bot\", \"requests\": null, \"ua\": \"Source Rescuing Bot\", \"year\": \"2017\"}, {\"bucket\": \"bot\", \"requests\": null, \"ua\": \"Source Rescuing Bot\", \"year\": \"2018\"}, {\"bucket\": \"bot\", \"requests\": null, \"ua\": \"FUCKING CLOUDFLARE!\", \"year\": \"2013\"}, {\"bucket\": \"bot\", \"requests\": null, \"ua\": \"FUCKING CLOUDFLARE!\", \"year\": \"2014\"}, {\"bucket\": \"bot\", \"requests\": null, \"ua\": \"FUCKING CLOUDFLARE!\", \"year\": \"2015\"}, {\"bucket\": \"bot\", \"requests\": null, \"ua\": \"FUCKING CLOUDFLARE!\", \"year\": \"2016\"}, {\"bucket\": \"bot\", \"requests\": null, \"ua\": \"FUCKING CLOUDFLARE!\", \"year\": \"2017\"}, {\"bucket\": \"bot\", \"requests\": 15216.0, \"ua\": \"FUCKING CLOUDFLARE!\", \"year\": \"2018\"}, {\"bucket\": \"human\", \"requests\": null, \"ua\": \"Maxthon\", \"year\": \"2013\"}, {\"bucket\": \"human\", \"requests\": 733.0, \"ua\": \"Maxthon\", \"year\": \"2014\"}, {\"bucket\": \"human\", \"requests\": 2532.0, \"ua\": \"Maxthon\", \"year\": \"2015\"}, {\"bucket\": \"human\", \"requests\": 2562.0, \"ua\": \"Maxthon\", \"year\": \"2016\"}, {\"bucket\": \"human\", \"requests\": 246.0, \"ua\": \"Maxthon\", \"year\": \"2017\"}, {\"bucket\": \"human\", \"requests\": 585.0, \"ua\": \"Maxthon\", \"year\": \"2018\"}, {\"bucket\": \"human\", \"requests\": null, \"ua\": \"Edge\", \"year\": \"2013\"}, {\"bucket\": \"human\", \"requests\": null, \"ua\": \"Edge\", \"year\": \"2014\"}, {\"bucket\": \"human\", \"requests\": 18052.0, \"ua\": \"Edge\", \"year\": \"2015\"}, {\"bucket\": \"human\", \"requests\": 30179.0, \"ua\": \"Edge\", \"year\": \"2016\"}, {\"bucket\": \"human\", \"requests\": 27273.0, \"ua\": \"Edge\", \"year\": \"2017\"}, {\"bucket\": \"human\", \"requests\": 70932.0, \"ua\": \"Edge\", \"year\": \"2018\"}, {\"bucket\": \"bot\", \"requests\": null, \"ua\": \"HeadlessChrome\", \"year\": \"2013\"}, {\"bucket\": \"bot\", \"requests\": null, \"ua\": \"HeadlessChrome\", \"year\": \"2014\"}, {\"bucket\": \"bot\", \"requests\": null, \"ua\": \"HeadlessChrome\", \"year\": \"2015\"}, {\"bucket\": \"bot\", \"requests\": null, \"ua\": \"HeadlessChrome\", \"year\": \"2016\"}, {\"bucket\": \"bot\", \"requests\": 6015.0, \"ua\": \"HeadlessChrome\", \"year\": \"2017\"}, {\"bucket\": \"bot\", \"requests\": 10568.0, \"ua\": \"HeadlessChrome\", \"year\": \"2018\"}, {\"bucket\": \"bot\", \"requests\": null, \"ua\": \"OpenBSD ftp\", \"year\": \"2013\"}, {\"bucket\": \"bot\", \"requests\": null, \"ua\": \"OpenBSD ftp\", \"year\": \"2014\"}, {\"bucket\": \"bot\", \"requests\": null, \"ua\": \"OpenBSD ftp\", \"year\": \"2015\"}, {\"bucket\": \"bot\", \"requests\": 30391.0, \"ua\": \"OpenBSD ftp\", \"year\": \"2016\"}, {\"bucket\": \"bot\", \"requests\": null, \"ua\": \"OpenBSD ftp\", \"year\": \"2017\"}, {\"bucket\": \"bot\", \"requests\": null, \"ua\": \"OpenBSD ftp\", \"year\": \"2018\"}, {\"bucket\": \"human\", \"requests\": null, \"ua\": \"Firefox (via Wayback Save Page)\", \"year\": \"2013\"}, {\"bucket\": \"human\", \"requests\": 5947.0, \"ua\": \"Firefox (via Wayback Save Page)\", \"year\": \"2014\"}, {\"bucket\": \"human\", \"requests\": 567.0, \"ua\": \"Firefox (via Wayback Save Page)\", \"year\": \"2015\"}, {\"bucket\": \"human\", \"requests\": null, \"ua\": \"Firefox (via Wayback Save Page)\", \"year\": \"2016\"}, {\"bucket\": \"human\", \"requests\": null, \"ua\": \"Firefox (via Wayback Save Page)\", \"year\": \"2017\"}, {\"bucket\": \"human\", \"requests\": null, \"ua\": \"Firefox (via Wayback Save Page)\", \"year\": \"2018\"}, {\"bucket\": \"human\", \"requests\": null, \"ua\": \"Sogou Explorer\", \"year\": \"2013\"}, {\"bucket\": \"human\", \"requests\": 1543.0, \"ua\": \"Sogou Explorer\", \"year\": \"2014\"}, {\"bucket\": \"human\", \"requests\": 27.0, \"ua\": \"Sogou Explorer\", \"year\": \"2015\"}, {\"bucket\": \"human\", \"requests\": 403.0, \"ua\": \"Sogou Explorer\", \"year\": \"2016\"}, {\"bucket\": \"human\", \"requests\": 261.0, \"ua\": \"Sogou Explorer\", \"year\": \"2017\"}, {\"bucket\": \"human\", \"requests\": 754.0, \"ua\": \"Sogou Explorer\", \"year\": \"2018\"}, {\"bucket\": \"bot\", \"requests\": null, \"ua\": \"Ruby (via Wayback Save Page)\", \"year\": \"2013\"}, {\"bucket\": \"bot\", \"requests\": 1055.0, \"ua\": \"Ruby (via Wayback Save Page)\", \"year\": \"2014\"}, {\"bucket\": \"bot\", \"requests\": 18718.0, \"ua\": \"Ruby (via Wayback Save Page)\", \"year\": \"2015\"}, {\"bucket\": \"bot\", \"requests\": null, \"ua\": \"Ruby (via Wayback Save Page)\", \"year\": \"2016\"}, {\"bucket\": \"bot\", \"requests\": null, \"ua\": \"Ruby (via Wayback Save Page)\", \"year\": \"2017\"}, {\"bucket\": \"bot\", \"requests\": null, \"ua\": \"Ruby (via Wayback Save Page)\", \"year\": \"2018\"}, {\"bucket\": \"human\", \"requests\": null, \"ua\": \"Mozilla/5.0\", \"year\": \"2013\"}, {\"bucket\": \"human\", \"requests\": null, \"ua\": \"Mozilla/5.0\", \"year\": \"2014\"}, {\"bucket\": \"human\", \"requests\": null, \"ua\": \"Mozilla/5.0\", \"year\": \"2015\"}, {\"bucket\": \"human\", \"requests\": 9005.0, \"ua\": \"Mozilla/5.0\", \"year\": \"2016\"}, {\"bucket\": \"human\", \"requests\": 105.0, \"ua\": \"Mozilla/5.0\", \"year\": \"2017\"}, {\"bucket\": \"human\", \"requests\": 217.0, \"ua\": \"Mozilla/5.0\", \"year\": \"2018\"}, {\"bucket\": \"human\", \"requests\": null, \"ua\": \"Mozilla/4.0 (compatible;HostTracker/2.0;+http://www.host-tracker.com/)\", \"year\": \"2013\"}, {\"bucket\": \"human\", \"requests\": null, \"ua\": \"Mozilla/4.0 (compatible;HostTracker/2.0;+http://www.host-tracker.com/)\", \"year\": \"2014\"}, {\"bucket\": \"human\", \"requests\": null, \"ua\": \"Mozilla/4.0 (compatible;HostTracker/2.0;+http://www.host-tracker.com/)\", \"year\": \"2015\"}, {\"bucket\": \"human\", \"requests\": null, \"ua\": \"Mozilla/4.0 (compatible;HostTracker/2.0;+http://www.host-tracker.com/)\", \"year\": \"2016\"}, {\"bucket\": \"human\", \"requests\": null, \"ua\": \"Mozilla/4.0 (compatible;HostTracker/2.0;+http://www.host-tracker.com/)\", \"year\": \"2017\"}, {\"bucket\": \"human\", \"requests\": 3070.0, \"ua\": \"Mozilla/4.0 (compatible;HostTracker/2.0;+http://www.host-tracker.com/)\", \"year\": \"2018\"}, {\"bucket\": \"human\", \"requests\": null, \"ua\": \"Firefox 36.0\", \"year\": \"2013\"}, {\"bucket\": \"human\", \"requests\": null, \"ua\": \"Firefox 36.0\", \"year\": \"2014\"}, {\"bucket\": \"human\", \"requests\": null, \"ua\": \"Firefox 36.0\", \"year\": \"2015\"}, {\"bucket\": \"human\", \"requests\": null, \"ua\": \"Firefox 36.0\", \"year\": \"2016\"}, {\"bucket\": \"human\", \"requests\": 4051.0, \"ua\": \"Firefox 36.0\", \"year\": \"2017\"}, {\"bucket\": \"human\", \"requests\": 1275.0, \"ua\": \"Firefox 36.0\", \"year\": \"2018\"}, {\"bucket\": \"human\", \"requests\": null, \"ua\": \"Firefox 40.1\", \"year\": \"2013\"}, {\"bucket\": \"human\", \"requests\": null, \"ua\": \"Firefox 40.1\", \"year\": \"2014\"}, {\"bucket\": \"human\", \"requests\": null, \"ua\": \"Firefox 40.1\", \"year\": \"2015\"}, {\"bucket\": \"human\", \"requests\": null, \"ua\": \"Firefox 40.1\", \"year\": \"2016\"}, {\"bucket\": \"human\", \"requests\": 3916.0, \"ua\": \"Firefox 40.1\", \"year\": \"2017\"}, {\"bucket\": \"human\", \"requests\": 1297.0, \"ua\": \"Firefox 40.1\", \"year\": \"2018\"}, {\"bucket\": \"bot\", \"requests\": null, \"ua\": \"diffengine/0.1.0 (+https://github.com/docnow/diffengine)\", \"year\": \"2013\"}, {\"bucket\": \"bot\", \"requests\": null, \"ua\": \"diffengine/0.1.0 (+https://github.com/docnow/diffengine)\", \"year\": \"2014\"}, {\"bucket\": \"bot\", \"requests\": null, \"ua\": \"diffengine/0.1.0 (+https://github.com/docnow/diffengine)\", \"year\": \"2015\"}, {\"bucket\": \"bot\", \"requests\": null, \"ua\": \"diffengine/0.1.0 (+https://github.com/docnow/diffengine)\", \"year\": \"2016\"}, {\"bucket\": \"bot\", \"requests\": 2413.0, \"ua\": \"diffengine/0.1.0 (+https://github.com/docnow/diffengine)\", \"year\": \"2017\"}, {\"bucket\": \"bot\", \"requests\": 42.0, \"ua\": \"diffengine/0.1.0 (+https://github.com/docnow/diffengine)\", \"year\": \"2018\"}, {\"bucket\": \"bot\", \"requests\": null, \"ua\": \"Python-urllib\", \"year\": \"2013\"}, {\"bucket\": \"bot\", \"requests\": 1389.0, \"ua\": \"Python-urllib\", \"year\": \"2014\"}, {\"bucket\": \"bot\", \"requests\": 7411.0, \"ua\": \"Python-urllib\", \"year\": \"2015\"}, {\"bucket\": \"bot\", \"requests\": 8125.0, \"ua\": \"Python-urllib\", \"year\": \"2016\"}, {\"bucket\": \"bot\", \"requests\": 21740.0, \"ua\": \"Python-urllib\", \"year\": \"2017\"}, {\"bucket\": \"bot\", \"requests\": 20184.0, \"ua\": \"Python-urllib\", \"year\": \"2018\"}, {\"bucket\": \"human\", \"requests\": null, \"ua\": \"Chromium\", \"year\": \"2013\"}, {\"bucket\": \"human\", \"requests\": 2646.0, \"ua\": \"Chromium\", \"year\": \"2014\"}, {\"bucket\": \"human\", \"requests\": 5029.0, \"ua\": \"Chromium\", \"year\": \"2015\"}, {\"bucket\": \"human\", \"requests\": 8425.0, \"ua\": \"Chromium\", \"year\": \"2016\"}, {\"bucket\": \"human\", \"requests\": 11351.0, \"ua\": \"Chromium\", \"year\": \"2017\"}, {\"bucket\": \"human\", \"requests\": 10202.0, \"ua\": \"Chromium\", \"year\": \"2018\"}, {\"bucket\": \"bot\", \"requests\": null, \"ua\": \"sentry/8.18.0 (https://sentry.io)\", \"year\": \"2013\"}, {\"bucket\": \"bot\", \"requests\": null, \"ua\": \"sentry/8.18.0 (https://sentry.io)\", \"year\": \"2014\"}, {\"bucket\": \"bot\", \"requests\": null, \"ua\": \"sentry/8.18.0 (https://sentry.io)\", \"year\": \"2015\"}, {\"bucket\": \"bot\", \"requests\": null, \"ua\": \"sentry/8.18.0 (https://sentry.io)\", \"year\": \"2016\"}, {\"bucket\": \"bot\", \"requests\": 4310.0, \"ua\": \"sentry/8.18.0 (https://sentry.io)\", \"year\": \"2017\"}, {\"bucket\": \"bot\", \"requests\": 507.0, \"ua\": \"sentry/8.18.0 (https://sentry.io)\", \"year\": \"2018\"}, {\"bucket\": \"human\", \"requests\": null, \"ua\": \"NetFront NX\", \"year\": \"2013\"}, {\"bucket\": \"human\", \"requests\": 1013.0, \"ua\": \"NetFront NX\", \"year\": \"2014\"}, {\"bucket\": \"human\", \"requests\": 724.0, \"ua\": \"NetFront NX\", \"year\": \"2015\"}, {\"bucket\": \"human\", \"requests\": 1348.0, \"ua\": \"NetFront NX\", \"year\": \"2016\"}, {\"bucket\": \"human\", \"requests\": 1504.0, \"ua\": \"NetFront NX\", \"year\": \"2017\"}, {\"bucket\": \"human\", \"requests\": 837.0, \"ua\": \"NetFront NX\", \"year\": \"2018\"}, {\"bucket\": \"human\", \"requests\": null, \"ua\": \"Chrome Mobile WebView\", \"year\": \"2013\"}, {\"bucket\": \"human\", \"requests\": null, \"ua\": \"Chrome Mobile WebView\", \"year\": \"2014\"}, {\"bucket\": \"human\", \"requests\": 5290.0, \"ua\": \"Chrome Mobile WebView\", \"year\": \"2015\"}, {\"bucket\": \"human\", \"requests\": 3807.0, \"ua\": \"Chrome Mobile WebView\", \"year\": \"2016\"}, {\"bucket\": \"human\", \"requests\": 6865.0, \"ua\": \"Chrome Mobile WebView\", \"year\": \"2017\"}, {\"bucket\": \"human\", \"requests\": 99748.0, \"ua\": \"Chrome Mobile WebView\", \"year\": \"2018\"}, {\"bucket\": \"bot\", \"requests\": null, \"ua\": \"libwww-perl\", \"year\": \"2013\"}, {\"bucket\": \"bot\", \"requests\": 885.0, \"ua\": \"libwww-perl\", \"year\": \"2014\"}, {\"bucket\": \"bot\", \"requests\": 175.0, \"ua\": \"libwww-perl\", \"year\": \"2015\"}, {\"bucket\": \"bot\", \"requests\": 94.0, \"ua\": \"libwww-perl\", \"year\": \"2016\"}, {\"bucket\": \"bot\", \"requests\": 165.0, \"ua\": \"libwww-perl\", \"year\": \"2017\"}, {\"bucket\": \"bot\", \"requests\": 28.0, \"ua\": \"libwww-perl\", \"year\": \"2018\"}, {\"bucket\": \"human\", \"requests\": null, \"ua\": \"Safari 6.0\", \"year\": \"2013\"}, {\"bucket\": \"human\", \"requests\": null, \"ua\": \"Safari 6.0\", \"year\": \"2014\"}, {\"bucket\": \"human\", \"requests\": null, \"ua\": \"Safari 6.0\", \"year\": \"2015\"}, {\"bucket\": \"human\", \"requests\": null, \"ua\": \"Safari 6.0\", \"year\": \"2016\"}, {\"bucket\": \"human\", \"requests\": 4032.0, \"ua\": \"Safari 6.0\", \"year\": \"2017\"}, {\"bucket\": \"human\", \"requests\": 1426.0, \"ua\": \"Safari 6.0\", \"year\": \"2018\"}, {\"bucket\": \"bot\", \"requests\": 1238598.0, \"ua\": \"archive.org_bot\", \"year\": \"2013\"}, {\"bucket\": \"bot\", \"requests\": 56592.0, \"ua\": \"archive.org_bot\", \"year\": \"2014\"}, {\"bucket\": \"bot\", \"requests\": 21919.0, \"ua\": \"archive.org_bot\", \"year\": \"2015\"}, {\"bucket\": \"bot\", \"requests\": 1211109.0, \"ua\": \"archive.org_bot\", \"year\": \"2016\"}, {\"bucket\": \"bot\", \"requests\": 6633606.0, \"ua\": \"archive.org_bot\", \"year\": \"2017\"}, {\"bucket\": \"bot\", \"requests\": 1993950.0, \"ua\": \"archive.org_bot\", \"year\": \"2018\"}, {\"bucket\": \"bot\", \"requests\": null, \"ua\": \"PhantomJS\", \"year\": \"2013\"}, {\"bucket\": \"bot\", \"requests\": 601.0, \"ua\": \"PhantomJS\", \"year\": \"2014\"}, {\"bucket\": \"bot\", \"requests\": 359.0, \"ua\": \"PhantomJS\", \"year\": \"2015\"}, {\"bucket\": \"bot\", \"requests\": 4928.0, \"ua\": \"PhantomJS\", \"year\": \"2016\"}, {\"bucket\": \"bot\", \"requests\": 2058.0, \"ua\": \"PhantomJS\", \"year\": \"2017\"}, {\"bucket\": \"bot\", \"requests\": 6095.0, \"ua\": \"PhantomJS\", \"year\": \"2018\"}, {\"bucket\": \"bot\", \"requests\": null, \"ua\": \"Mediapartners-Google\", \"year\": \"2013\"}, {\"bucket\": \"bot\", \"requests\": 1690.0, \"ua\": \"Mediapartners-Google\", \"year\": \"2014\"}, {\"bucket\": \"bot\", \"requests\": 847.0, \"ua\": \"Mediapartners-Google\", \"year\": \"2015\"}, {\"bucket\": \"bot\", \"requests\": 917.0, \"ua\": \"Mediapartners-Google\", \"year\": \"2016\"}, {\"bucket\": \"bot\", \"requests\": 570.0, \"ua\": \"Mediapartners-Google\", \"year\": \"2017\"}, {\"bucket\": \"bot\", \"requests\": 355.0, \"ua\": \"Mediapartners-Google\", \"year\": \"2018\"}, {\"bucket\": \"human\", \"requests\": null, \"ua\": \"Chrome 41.0.2227.0\", \"year\": \"2013\"}, {\"bucket\": \"human\", \"requests\": null, \"ua\": \"Chrome 41.0.2227.0\", \"year\": \"2014\"}, {\"bucket\": \"human\", \"requests\": null, \"ua\": \"Chrome 41.0.2227.0\", \"year\": \"2015\"}, {\"bucket\": \"human\", \"requests\": null, \"ua\": \"Chrome 41.0.2227.0\", \"year\": \"2016\"}, {\"bucket\": \"human\", \"requests\": 4020.0, \"ua\": \"Chrome 41.0.2227.0\", \"year\": \"2017\"}, {\"bucket\": \"human\", \"requests\": 1344.0, \"ua\": \"Chrome 41.0.2227.0\", \"year\": \"2018\"}, {\"bucket\": \"bot\", \"requests\": null, \"ua\": \"http://Anonymouse.org/ (Unix)\", \"year\": \"2013\"}, {\"bucket\": \"bot\", \"requests\": null, \"ua\": \"http://Anonymouse.org/ (Unix)\", \"year\": \"2014\"}, {\"bucket\": \"bot\", \"requests\": null, \"ua\": \"http://Anonymouse.org/ (Unix)\", \"year\": \"2015\"}, {\"bucket\": \"bot\", \"requests\": 2048.0, \"ua\": \"http://Anonymouse.org/ (Unix)\", \"year\": \"2016\"}, {\"bucket\": \"bot\", \"requests\": 2366.0, \"ua\": \"http://Anonymouse.org/ (Unix)\", \"year\": \"2017\"}, {\"bucket\": \"bot\", \"requests\": 1047.0, \"ua\": \"http://Anonymouse.org/ (Unix)\", \"year\": \"2018\"}, {\"bucket\": \"bot\", \"requests\": null, \"ua\": \"Apache-HttpClient\", \"year\": \"2013\"}, {\"bucket\": \"bot\", \"requests\": null, \"ua\": \"Apache-HttpClient\", \"year\": \"2014\"}, {\"bucket\": \"bot\", \"requests\": 4.0, \"ua\": \"Apache-HttpClient\", \"year\": \"2015\"}, {\"bucket\": \"bot\", \"requests\": 1747.0, \"ua\": \"Apache-HttpClient\", \"year\": \"2016\"}, {\"bucket\": \"bot\", \"requests\": 60.0, \"ua\": \"Apache-HttpClient\", \"year\": \"2017\"}, {\"bucket\": \"bot\", \"requests\": 192.0, \"ua\": \"Apache-HttpClient\", \"year\": \"2018\"}, {\"bucket\": \"human\", \"requests\": null, \"ua\": \"Safari\", \"year\": \"2013\"}, {\"bucket\": \"human\", \"requests\": 61123.0, \"ua\": \"Safari\", \"year\": \"2014\"}, {\"bucket\": \"human\", \"requests\": 77051.0, \"ua\": \"Safari\", \"year\": \"2015\"}, {\"bucket\": \"human\", \"requests\": 98126.0, \"ua\": \"Safari\", \"year\": \"2016\"}, {\"bucket\": \"human\", \"requests\": 59622.0, \"ua\": \"Safari\", \"year\": \"2017\"}, {\"bucket\": \"human\", \"requests\": 141215.0, \"ua\": \"Safari\", \"year\": \"2018\"}, {\"bucket\": \"human\", \"requests\": null, \"ua\": \"Opera/hokan (via Wayback Save Page)\", \"year\": \"2013\"}, {\"bucket\": \"human\", \"requests\": null, \"ua\": \"Opera/hokan (via Wayback Save Page)\", \"year\": \"2014\"}, {\"bucket\": \"human\", \"requests\": 2158.0, \"ua\": \"Opera/hokan (via Wayback Save Page)\", \"year\": \"2015\"}, {\"bucket\": \"human\", \"requests\": null, \"ua\": \"Opera/hokan (via Wayback Save Page)\", \"year\": \"2016\"}, {\"bucket\": \"human\", \"requests\": null, \"ua\": \"Opera/hokan (via Wayback Save Page)\", \"year\": \"2017\"}, {\"bucket\": \"human\", \"requests\": null, \"ua\": \"Opera/hokan (via Wayback Save Page)\", \"year\": \"2018\"}, {\"bucket\": \"bot\", \"requests\": null, \"ua\": \"Python Requests\", \"year\": \"2013\"}, {\"bucket\": \"bot\", \"requests\": 79.0, \"ua\": \"Python Requests\", \"year\": \"2014\"}, {\"bucket\": \"bot\", \"requests\": 827.0, \"ua\": \"Python Requests\", \"year\": \"2015\"}, {\"bucket\": \"bot\", \"requests\": 26603.0, \"ua\": \"Python Requests\", \"year\": \"2016\"}, {\"bucket\": \"bot\", \"requests\": 92122.0, \"ua\": \"Python Requests\", \"year\": \"2017\"}, {\"bucket\": \"bot\", \"requests\": 23673.0, \"ua\": \"Python Requests\", \"year\": \"2018\"}, {\"bucket\": \"human\", \"requests\": null, \"ua\": \"Firefox iOS\", \"year\": \"2013\"}, {\"bucket\": \"human\", \"requests\": null, \"ua\": \"Firefox iOS\", \"year\": \"2014\"}, {\"bucket\": \"human\", \"requests\": null, \"ua\": \"Firefox iOS\", \"year\": \"2015\"}, {\"bucket\": \"human\", \"requests\": 452.0, \"ua\": \"Firefox iOS\", \"year\": \"2016\"}, {\"bucket\": \"human\", \"requests\": 1597.0, \"ua\": \"Firefox iOS\", \"year\": \"2017\"}, {\"bucket\": \"human\", \"requests\": 3754.0, \"ua\": \"Firefox iOS\", \"year\": \"2018\"}, {\"bucket\": \"bot\", \"requests\": null, \"ua\": \"Watchbot\", \"year\": \"2013\"}, {\"bucket\": \"bot\", \"requests\": null, \"ua\": \"Watchbot\", \"year\": \"2014\"}, {\"bucket\": \"bot\", \"requests\": null, \"ua\": \"Watchbot\", \"year\": \"2015\"}, {\"bucket\": \"bot\", \"requests\": 1996.0, \"ua\": \"Watchbot\", \"year\": \"2016\"}, {\"bucket\": \"bot\", \"requests\": 322.0, \"ua\": \"Watchbot\", \"year\": \"2017\"}, {\"bucket\": \"bot\", \"requests\": 454.0, \"ua\": \"Watchbot\", \"year\": \"2018\"}, {\"bucket\": \"human\", \"requests\": null, \"ua\": \"K-Meleon\", \"year\": \"2013\"}, {\"bucket\": \"human\", \"requests\": 60.0, \"ua\": \"K-Meleon\", \"year\": \"2014\"}, {\"bucket\": \"human\", \"requests\": 851.0, \"ua\": \"K-Meleon\", \"year\": \"2015\"}, {\"bucket\": \"human\", \"requests\": 106.0, \"ua\": \"K-Meleon\", \"year\": \"2016\"}, {\"bucket\": \"human\", \"requests\": 493.0, \"ua\": \"K-Meleon\", \"year\": \"2017\"}, {\"bucket\": \"human\", \"requests\": 195.0, \"ua\": \"K-Meleon\", \"year\": \"2018\"}, {\"bucket\": \"bot\", \"requests\": null, \"ua\": \"Pinterest\", \"year\": \"2013\"}, {\"bucket\": \"bot\", \"requests\": 561.0, \"ua\": \"Pinterest\", \"year\": \"2014\"}, {\"bucket\": \"bot\", \"requests\": 2534.0, \"ua\": \"Pinterest\", \"year\": \"2015\"}, {\"bucket\": \"bot\", \"requests\": 2722.0, \"ua\": \"Pinterest\", \"year\": \"2016\"}, {\"bucket\": \"bot\", \"requests\": 1496.0, \"ua\": \"Pinterest\", \"year\": \"2017\"}, {\"bucket\": \"bot\", \"requests\": 5661.0, \"ua\": \"Pinterest\", \"year\": \"2018\"}, {\"bucket\": \"human\", \"requests\": null, \"ua\": \"Sleipnir\", \"year\": \"2013\"}, {\"bucket\": \"human\", \"requests\": 1373.0, \"ua\": \"Sleipnir\", \"year\": \"2014\"}, {\"bucket\": \"human\", \"requests\": 941.0, \"ua\": \"Sleipnir\", \"year\": \"2015\"}, {\"bucket\": \"human\", \"requests\": 928.0, \"ua\": \"Sleipnir\", \"year\": \"2016\"}, {\"bucket\": \"human\", \"requests\": 546.0, \"ua\": \"Sleipnir\", \"year\": \"2017\"}, {\"bucket\": \"human\", \"requests\": 770.0, \"ua\": \"Sleipnir\", \"year\": \"2018\"}, {\"bucket\": \"bot\", \"requests\": null, \"ua\": \"Python Wayback Backup API-Client\", \"year\": \"2013\"}, {\"bucket\": \"bot\", \"requests\": null, \"ua\": \"Python Wayback Backup API-Client\", \"year\": \"2014\"}, {\"bucket\": \"bot\", \"requests\": null, \"ua\": \"Python Wayback Backup API-Client\", \"year\": \"2015\"}, {\"bucket\": \"bot\", \"requests\": null, \"ua\": \"Python Wayback Backup API-Client\", \"year\": \"2016\"}, {\"bucket\": \"bot\", \"requests\": 35382.0, \"ua\": \"Python Wayback Backup API-Client\", \"year\": \"2017\"}, {\"bucket\": \"bot\", \"requests\": null, \"ua\": \"Python Wayback Backup API-Client\", \"year\": \"2018\"}, {\"bucket\": \"bot\", \"requests\": null, \"ua\": \"UptimeRobot\", \"year\": \"2013\"}, {\"bucket\": \"bot\", \"requests\": null, \"ua\": \"UptimeRobot\", \"year\": \"2014\"}, {\"bucket\": \"bot\", \"requests\": 50361.0, \"ua\": \"UptimeRobot\", \"year\": \"2015\"}, {\"bucket\": \"bot\", \"requests\": 43813.0, \"ua\": \"UptimeRobot\", \"year\": \"2016\"}, {\"bucket\": \"bot\", \"requests\": 405.0, \"ua\": \"UptimeRobot\", \"year\": \"2017\"}, {\"bucket\": \"bot\", \"requests\": 484.0, \"ua\": \"UptimeRobot\", \"year\": \"2018\"}]}};\n",
       "var opt = {};\n",
       "var type = \"vega-lite\";\n",
       "var id = \"54aa9026-e9dc-4eee-ac86-61fc5ebfab63\";\n",
       "\n",
       "var output_area = this;\n",
       "\n",
       "require([\"nbextensions/jupyter-vega/index\"], function(vega) {\n",
       "  var target = document.createElement(\"div\");\n",
       "  target.id = id;\n",
       "  target.className = \"vega-embed\";\n",
       "\n",
       "  var style = document.createElement(\"style\");\n",
       "  style.textContent = [\n",
       "    \".vega-embed .error p {\",\n",
       "    \"  color: firebrick;\",\n",
       "    \"  font-size: 14px;\",\n",
       "    \"}\",\n",
       "  ].join(\"\\\\n\");\n",
       "\n",
       "  // element is a jQuery wrapped DOM element inside the output area\n",
       "  // see http://ipython.readthedocs.io/en/stable/api/generated/\\\n",
       "  // IPython.display.html#IPython.display.Javascript.__init__\n",
       "  element[0].appendChild(target);\n",
       "  element[0].appendChild(style);\n",
       "\n",
       "  vega.render(\"#\" + id, spec, type, opt, output_area);\n",
       "}, function (err) {\n",
       "  if (err.requireType !== \"scripterror\") {\n",
       "    throw(err);\n",
       "  }\n",
       "});\n"
      ],
      "text/plain": [
       "<vega.vegalite.VegaLite at 0x7f263c358470>"
      ]
     },
     "metadata": {
      "jupyter-vega": "#54aa9026-e9dc-4eee-ac86-61fc5ebfab63"
     },
     "output_type": "display_data"
    },
    {
     "data": {
      "text/plain": []
     },
     "execution_count": 36,
     "metadata": {},
     "output_type": "execute_result"
    },
    {
     "data": {
      "image/png": "[encoded data removed]"
     },
     "metadata": {
      "jupyter-vega": "#54aa9026-e9dc-4eee-ac86-61fc5ebfab63"
     },
     "output_type": "display_data"
    }
   ],
   "source": [
    "chart4 = altair.Chart(bot_ratios).mark_bar(size=20).encode(\n",
    "    altair.X('sum(requests)', title='Archive Requests'),\n",
    "    altair.Y('year', title='One Day in Year'),    \n",
    "    altair.Color('bucket', title='type', scale=altair.Scale(scheme='tableau20'))\n",
    ")\n",
    "chart4 = chart4.properties(\n",
    "    width=600,\n",
    "    height=175,\n",
    "    title='Bot vs Human SPN Requests'\n",
    ")\n",
    "chart4"
   ]
  },
  {
   "cell_type": "markdown",
   "metadata": {},
   "source": [
    "So if you remember the anomalous number of requests in 2017 we can see that bots appear to have been responsible. The proportion of bot User-Agents is much greater in 2017. In fact all we have to do is look at the top User-Agent for that year, and it tells us which one is responsible:"
   ]
  },
  {
   "cell_type": "code",
   "execution_count": 31,
   "metadata": {},
   "outputs": [
    {
     "name": "stdout",
     "output_type": "stream",
     "text": [
      "Mozilla/5.0 (compatible; archive.org_bot; Wayback Machine Live Record; +http://archive.org/details/archive.org_bot) 6633531.0\n"
     ]
    }
   ],
   "source": [
    "dfy = df.sort_values('2017', ascending=False)\n",
    "first = dfy['2017'][0]\n",
    "print(dfy.index[0], dfy['2017'][0])"
   ]
  },
  {
   "cell_type": "markdown",
   "metadata": {},
   "source": [
    "Yes. it's the mysterious `Wayback Machine Live Record`. At 6 million requests it amounts for the majority of the bots in 2017--about half of the additional traffic. But what were these bots doing? I asked in the Internet Archive Slack and was told that this User-Agent is used by SavePageNow to request content when no User-Agent is used at all. So we can safely assume that this automated traffic since all browsers will send a User-Agent of some kind.\n",
    "\n",
    "But what can we infer about what types of material was being archived by the bots vs the humans? Answering these questions is a topic for another notebook. But for now let's save a mapping of User-Agents to their family so we can use it later when processing WARC data."
   ]
  },
  {
   "cell_type": "code",
   "execution_count": 37,
   "metadata": {},
   "outputs": [],
   "source": [
    "json.dump(ua_fam_map, open('results/user-agent-families.json', 'w'), indent=2)"
   ]
  },
  {
   "cell_type": "markdown",
   "metadata": {},
   "source": [
    "And we might as well save our top-50 User-Agents per year, along with whether we classed it as a bot or not."
   ]
  },
  {
   "cell_type": "code",
   "execution_count": 38,
   "metadata": {},
   "outputs": [],
   "source": [
    "top_uas = {ua: ua in bots for ua in top_50_uas}\n",
    "json.dump(top_uas, open('results/top-user-agents.json', 'w'), indent=2)"
   ]
  },
  {
   "cell_type": "code",
   "execution_count": null,
   "metadata": {},
   "outputs": [],
   "source": []
  }
 ],
 "metadata": {
  "kernelspec": {
   "display_name": "Python 3",
   "language": "python",
   "name": "python3"
  },
  "language_info": {
   "codemirror_mode": {
    "name": "ipython",
    "version": 3
   },
   "file_extension": ".py",
   "mimetype": "text/x-python",
   "name": "python",
   "nbconvert_exporter": "python",
   "pygments_lexer": "ipython3",
   "version": "3.6.4"
  }
 },
 "nbformat": 4,
 "nbformat_minor": 2
}
