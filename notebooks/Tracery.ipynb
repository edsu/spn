{
 "cells": [
  {
   "cell_type": "markdown",
   "metadata": {},
   "source": [
    "# Tracing SavePageNow\n",
    "\n",
    "In order to better understand the internal workings of SavePageNow and how they get imprinted in the collected WARC data we ran a series of experiments on on October 25, 2018 to archive a discrete set of URLs with three clients: \n",
    "\n",
    "* the SavePageNow form at [https://web.archive.org/](https://web.archive.org)\n",
    "* the [Wayback Machine Firefox Extension](https://addons.mozilla.org/en-US/firefox/addon/wayback-machine_new/)\n",
    "* a Python bot [spn-probe](https://github.com/edsu/spn-probe/)\n",
    "\n",
    "In each case we archived a distinct URL which identified the client, and the time so that we could reliably identify the relevant WARC records later. For example:\n",
    "\n",
    "* web form: https://mith.umd.edu/research/?ua=firefox&t=20181024230000\n",
    "* browser extension: https://mith.umd.edu/research/?ua=extension&t=20181024230000\n",
    "* spn-probe: https://web.archive.org/save/https://mith.umd.edu/research/?ua=spn-probe&t=20181024140003\n",
    "\n",
    "## Locating the Records\n",
    "\n",
    "In order to locate the records\n",
    "\n",
    "\n"
   ]
  },
  {
   "cell_type": "code",
   "execution_count": null,
   "metadata": {},
   "outputs": [],
   "source": []
  }
 ],
 "metadata": {
  "kernelspec": {
   "display_name": "Python 3",
   "language": "python",
   "name": "python3"
  },
  "language_info": {
   "codemirror_mode": {
    "name": "ipython",
    "version": 3
   },
   "file_extension": ".py",
   "mimetype": "text/x-python",
   "name": "python",
   "nbconvert_exporter": "python",
   "pygments_lexer": "ipython3",
   "version": "3.7.3"
  }
 },
 "nbformat": 4,
 "nbformat_minor": 2
}
