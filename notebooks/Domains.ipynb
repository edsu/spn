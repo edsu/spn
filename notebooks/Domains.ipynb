{
 "cells": [
  {
   "cell_type": "markdown",
   "metadata": {},
   "source": [
    "# Domains\n",
    "\n",
    "This notebook looks quickly at the top domains in our URL dataset. Remember this includes URLs that were filtered out in the URLS notebook (URLs for HTML, that had a 200 OK, and are correlated with the User-Agent that requested them."
   ]
  },
  {
   "cell_type": "code",
   "execution_count": 1,
   "metadata": {},
   "outputs": [],
   "source": [
    "import sys\n",
    "\n",
    "sys.path.append('../utils')\n",
    "from warc_spark import init\n",
    "\n",
    "sc, sqlc = init()\n",
    "urls = sqlc.read.csv('results/urls', header=True)"
   ]
  },
  {
   "cell_type": "code",
   "execution_count": 7,
   "metadata": {},
   "outputs": [
    {
     "name": "stdout",
     "output_type": "stream",
     "text": [
      "+-------------+----+-----+\n",
      "|       domain|year|  bot|\n",
      "+-------------+----+-----+\n",
      "| zoominfo.com|2017| true|\n",
      "|jeuxvideo.com|2017|false|\n",
      "| zoominfo.com|2017| true|\n",
      "| zoominfo.com|2017| true|\n",
      "| zoominfo.com|2017| true|\n",
      "+-------------+----+-----+\n",
      "only showing top 5 rows\n",
      "\n"
     ]
    },
    {
     "data": {
      "text/plain": [
       "DataFrame[domain: string, year: string, bot: string]"
      ]
     },
     "execution_count": 7,
     "metadata": {},
     "output_type": "execute_result"
    }
   ],
   "source": [
    "import tldextract\n",
    "\n",
    "def tld_bot(r):\n",
    "    d = tldextract.extract(r.url).registered_domain\n",
    "    y = r.date[0:4]\n",
    "    return (d, y, r.bot)\n",
    "\n",
    "domains = urls.rdd.map(tld_bot)\n",
    "domains = domains.toDF(['domain', 'year', 'bot'])\n",
    "domains.show(5)\n",
    "domains.persist()"
   ]
  },
  {
   "cell_type": "code",
   "execution_count": 12,
   "metadata": {},
   "outputs": [
    {
     "name": "stdout",
     "output_type": "stream",
     "text": [
      "+------------+-------+\n",
      "|      domain|  count|\n",
      "+------------+-------+\n",
      "|zoominfo.com|4051786|\n",
      "| youtube.com| 514881|\n",
      "|     kit.edu| 154754|\n",
      "| twitter.com| 111586|\n",
      "| bbspink.com|  90063|\n",
      "+------------+-------+\n",
      "only showing top 5 rows\n",
      "\n"
     ]
    }
   ],
   "source": [
    "from pyspark.sql.functions import desc\n",
    "\n",
    "domain_counts = domains.groupBy(domains.domain).count().sort(desc('count'))\n",
    "domain_counts.show(5)"
   ]
  },
  {
   "cell_type": "code",
   "execution_count": 15,
   "metadata": {},
   "outputs": [
    {
     "name": "stdout",
     "output_type": "stream",
     "text": [
      "+--------------------+-------+\n",
      "|              domain|  count|\n",
      "+--------------------+-------+\n",
      "|        zoominfo.com|4051786|\n",
      "|         youtube.com| 514881|\n",
      "|             kit.edu| 154754|\n",
      "|         twitter.com| 111586|\n",
      "|         bbspink.com|  90063|\n",
      "|        ccluster.com|  79984|\n",
      "|           alexa.com|  77544|\n",
      "|             8ch.net|  68715|\n",
      "|          reddit.com|  45221|\n",
      "|theduckwebcomics.com|  43298|\n",
      "|           ameblo.jp|  38067|\n",
      "|        facebook.com|  36143|\n",
      "|        ancestry.com|  30437|\n",
      "|     geograph.org.uk|  29621|\n",
      "|          google.com|  27525|\n",
      "|        clphs.edu.my|  22931|\n",
      "| turnvereinsursee.ch|  21480|\n",
      "|        tumblenet.ga|  19915|\n",
      "|     doubleclick.net|  18317|\n",
      "|         teamaol.com|  18215|\n",
      "|phoenixurbanspace...|  18058|\n",
      "|     socialblade.com|  17304|\n",
      "|              2ch.sc|  16993|\n",
      "|          statics.gq|  16391|\n",
      "|              svt.se|  15829|\n",
      "|        imagebam.com|  15264|\n",
      "|         homes.co.jp|  14739|\n",
      "|          tumblr.com|  14285|\n",
      "|        tvtropes.org|  14279|\n",
      "|           donmai.us|  14067|\n",
      "|            suumo.jp|  12428|\n",
      "|         livedoor.jp|  12386|\n",
      "|        wemakeit.com|  12369|\n",
      "|  poggiocivitate.org|  12145|\n",
      "|         taringa.net|  11563|\n",
      "|     adblockplus.org|  11210|\n",
      "|               bt.se|  10848|\n",
      "|             fc2.com|  10494|\n",
      "|           ascsa.net|  10477|\n",
      "|              smp.se|  10242|\n",
      "|      sydsvenskan.se|   9931|\n",
      "|     holdtheline.com|   9872|\n",
      "|  steamcommunity.com|   9848|\n",
      "|        durasite.net|   9354|\n",
      "|            twren.ch|   8293|\n",
      "|       jeuxvideo.com|   8086|\n",
      "|           bbc.co.uk|   8066|\n",
      "|        athome.co.jp|   8002|\n",
      "|      newshaumbra.it|   7912|\n",
      "|              x0.com|   7481|\n",
      "+--------------------+-------+\n",
      "only showing top 50 rows\n",
      "\n"
     ]
    }
   ],
   "source": [
    "domain_counts.show(50)"
   ]
  },
  {
   "cell_type": "markdown",
   "metadata": {},
   "source": [
    "Filter by bots/human:"
   ]
  },
  {
   "cell_type": "code",
   "execution_count": 1,
   "metadata": {},
   "outputs": [
    {
     "ename": "NameError",
     "evalue": "name 'domains' is not defined",
     "output_type": "error",
     "traceback": [
      "\u001b[0;31m---------------------------------------------------------------------------\u001b[0m",
      "\u001b[0;31mNameError\u001b[0m                                 Traceback (most recent call last)",
      "\u001b[0;32m<ipython-input-1-7e2568f01748>\u001b[0m in \u001b[0;36m<module>\u001b[0;34m\u001b[0m\n\u001b[0;32m----> 1\u001b[0;31m \u001b[0mdomains\u001b[0m\u001b[0;34m.\u001b[0m\u001b[0mcreateOrReplaceTempView\u001b[0m\u001b[0;34m(\u001b[0m\u001b[0;34m'domains'\u001b[0m\u001b[0;34m)\u001b[0m\u001b[0;34m\u001b[0m\u001b[0;34m\u001b[0m\u001b[0m\n\u001b[0m\u001b[1;32m      2\u001b[0m sql = \"\"\"\n\u001b[1;32m      3\u001b[0m       \u001b[0mSELECT\u001b[0m \u001b[0mdomain\u001b[0m\u001b[0;34m,\u001b[0m \u001b[0mcount\u001b[0m\u001b[0;34m(\u001b[0m\u001b[0mdomain\u001b[0m\u001b[0;34m)\u001b[0m \u001b[0mAS\u001b[0m \u001b[0mdomain_count\u001b[0m\u001b[0;34m\u001b[0m\u001b[0;34m\u001b[0m\u001b[0m\n\u001b[1;32m      4\u001b[0m       \u001b[0mFROM\u001b[0m \u001b[0mdomains\u001b[0m\u001b[0;34m\u001b[0m\u001b[0;34m\u001b[0m\u001b[0m\n\u001b[1;32m      5\u001b[0m       \u001b[0mWHERE\u001b[0m \u001b[0mbot\u001b[0m \u001b[0;34m=\u001b[0m \u001b[0;34m\"true\"\u001b[0m \u001b[0mAND\u001b[0m \u001b[0myear\u001b[0m \u001b[0;34m=\u001b[0m \u001b[0;34m\"2018\"\u001b[0m\u001b[0;34m\u001b[0m\u001b[0;34m\u001b[0m\u001b[0m\n",
      "\u001b[0;31mNameError\u001b[0m: name 'domains' is not defined"
     ]
    }
   ],
   "source": [
    "domains.createOrReplaceTempView('domains')\n",
    "sql = \"\"\"\n",
    "      SELECT domain, count(domain) AS domain_count\n",
    "      FROM domains\n",
    "      WHERE bot = \"true\" AND year = \"2018\"\n",
    "      GROUP BY domain\n",
    "      ORDER BY domain_count DESC\n",
    "      \"\"\"\n",
    "bots = sqlc.sql(sql)\n",
    "bots.show(50)"
   ]
  },
  {
   "cell_type": "code",
   "execution_count": 30,
   "metadata": {},
   "outputs": [
    {
     "name": "stdout",
     "output_type": "stream",
     "text": [
      "+--------------------+------------+\n",
      "|              domain|domain_count|\n",
      "+--------------------+------------+\n",
      "|          google.com|       17602|\n",
      "|         bbspink.com|       17253|\n",
      "|         youtube.com|       11644|\n",
      "|     holdtheline.com|        9710|\n",
      "|         twitter.com|        9363|\n",
      "|        facebook.com|        7871|\n",
      "|         livedoor.jp|        6474|\n",
      "|         writing.com|        6330|\n",
      "|      aaaclipart.com|        6053|\n",
      "|            wykop.pl|        5958|\n",
      "|          abelhas.pt|        5924|\n",
      "|   stackoverflow.com|        4912|\n",
      "|             8ch.net|        4657|\n",
      "|          reddit.com|        4304|\n",
      "|        durasite.net|        4190|\n",
      "|            suumo.jp|        4055|\n",
      "|       crypterium.io|        3801|\n",
      "|       wikipedia.org|        3490|\n",
      "|          tumblr.com|        3384|\n",
      "|   stackexchange.com|        3334|\n",
      "|           ameblo.jp|        2995|\n",
      "|  gina-rodriguez.net|        2855|\n",
      "|        wdgaming.net|        2837|\n",
      "|           exblog.jp|        2596|\n",
      "|         mozilla.org|        2236|\n",
      "|          spiegel.de|        2125|\n",
      "|     doubleclick.net|        2094|\n",
      "|          github.com|        2043|\n",
      "|             blog.jp|        1927|\n",
      "|  cricketarchive.com|        1882|\n",
      "|googleusercontent...|        1713|\n",
      "|civildefence.govt.nz|        1670|\n",
      "|        blogspot.com|        1413|\n",
      "|       w3schools.com|        1407|\n",
      "|             fc2.com|        1334|\n",
      "|   djangoproject.com|        1234|\n",
      "|       wordpress.com|        1221|\n",
      "|        witchgif.com|        1186|\n",
      "|     ardmediathek.de|        1186|\n",
      "|          allegro.pl|        1183|\n",
      "|googlesyndication...|        1071|\n",
      "|           ml314.com|        1022|\n",
      "|     myanimelist.net|        1021|\n",
      "|            usen.com|        1006|\n",
      "|         myboerse.bz|         981|\n",
      "|              vk.com|         964|\n",
      "|           qiita.com|         917|\n",
      "|          coches.net|         885|\n",
      "|      hatenablog.com|         884|\n",
      "|         bronnen.net|         878|\n",
      "+--------------------+------------+\n",
      "only showing top 50 rows\n",
      "\n"
     ]
    }
   ],
   "source": [
    "domains.createOrReplaceTempView('domains')\n",
    "sql = \"\"\"\n",
    "      SELECT \n",
    "        domain, \n",
    "        count(domain) AS domain_count\n",
    "      FROM domains\n",
    "      WHERE bot = \"false\" \n",
    "        AND year = \"2018\"\n",
    "      GROUP BY domain\n",
    "      ORDER BY domain_count DESC\n",
    "      \"\"\"\n",
    "browsers = sqlc.sql(sql)\n",
    "browsers.show(50)"
   ]
  },
  {
   "cell_type": "code",
   "execution_count": null,
   "metadata": {},
   "outputs": [],
   "source": []
  }
 ],
 "metadata": {
  "kernelspec": {
   "display_name": "Python 3",
   "language": "python",
   "name": "python3"
  },
  "language_info": {
   "codemirror_mode": {
    "name": "ipython",
    "version": 3
   },
   "file_extension": ".py",
   "mimetype": "text/x-python",
   "name": "python",
   "nbconvert_exporter": "python",
   "pygments_lexer": "ipython3",
   "version": "3.7.3"
  }
 },
 "nbformat": 4,
 "nbformat_minor": 2
}
