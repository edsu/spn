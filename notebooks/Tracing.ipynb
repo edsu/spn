{
 "cells": [
  {
   "cell_type": "markdown",
   "metadata": {},
   "source": [
    "Question: is it the case that when the *Referer* HTTP header is present in a WARC Request record then that means the request was the result of a browser loading a page via SavePageNow?\n",
    "\n",
    "So for example, an initial request:\n",
    "\n",
    "```\n",
    "WARC/1.0\n",
    "WARC-Type: request\n",
    "WARC-Record-ID: <urn:uuid:c85b117b-6d93-44bc-9fa6-5aa8adccde16>\n",
    "WARC-Date: 2018-10-25T13:06:50Z\n",
    "Content-Length: 752\n",
    "Content-Type: application/http; msgtype=request\n",
    "WARC-Concurrent-To: <urn:uuid:ca63542e-4b7c-492d-90f1-22d8b510a613>\n",
    "WARC-Target-URI: http://lh5.googleusercontent.com/-8ZuOWvFVpD0/UCq0O2AnxGI/AAAAAAAAE3M/Ji8mdynYKdg/Henry%2520Anglas%2520Padilla43.jpg?imgmax=150\n",
    "WARC-Warcinfo-ID: <urn:uuid:400c45c1-587e-43f9-b3fd-f23e1da89fa5>\n",
    "\n",
    "GET /-8ZuOWvFVpD0/UCq0O2AnxGI/AAAAAAAAE3M/Ji8mdynYKdg/Henry%2520Anglas%2520Padilla43.jpg?imgmax=150 HTTP/1.1\n",
    "Accept: image/webp,image/apng,image/*,*/*;q=0.8\n",
    "Accept-Language: en-US,en;q=0.9,fil;q=0.8,ja;q=0.7,und;q=0.6\n",
    "User-Agent: Mozilla/5.0 (Windows NT 10.0; Win64; x64) AppleWebKit/537.36 (KHTML, like Gecko) Chrome/69.0.3497.100 Safari/537.36\n",
    "Via: HTTP/1.0 web.archive.org (Wayback Save Page)\n",
    "Referer: http://www.tattooartproject.com/tattoo-artists/henry-anglas-padilla/\n",
    "Connection: close\n",
    "Host: lh5.googleusercontent.com\n",
    "Cookie: NID=144=aX8dAaZxj2uNrYS9aQ1XgxQ2iNuS0EeH_N757XyhPXdvIMdcl4o-hiO3Um3llJJA4lLhVIOjQbBNCoYLINFZCvmYO1MwYPjH3v6jM7zXDU3nRnPyfe5Lrvknlww-rf8tS5oDaEvgF-yuCfzlE7yFoQjStTN6BJOVJ4ICtDi2rP8\n",
    "Accept-Encoding: gzip,deflate\n",
    "```\n",
    "\n",
    "and the WARC Response (content ellided)\n",
    "\n",
    "```\n",
    "WARC/1.0\n",
    "WARC-Type: response\n",
    "WARC-Record-ID: <urn:uuid:ca63542e-4b7c-492d-90f1-22d8b510a613>\n",
    "WARC-Date: 2018-10-25T13:06:50Z\n",
    "Content-Length: 10568\n",
    "Content-Type: application/http; msgtype=response\n",
    "WARC-Payload-Digest: sha1:YETNE4FZOS3EW2JYOU7N2O3RF4OTN327\n",
    "WARC-Target-URI: http://lh5.googleusercontent.com/-8ZuOWvFVpD0/UCq0O2AnxGI/AAAAAAAAE\n",
    "3M/Ji8mdynYKdg/Henry%2520Anglas%2520Padilla43.jpg?imgmax=150\n",
    "WARC-Warcinfo-ID: <urn:uuid:400c45c1-587e-43f9-b3fd-f23e1da89fa5>\n",
    "\n",
    "HTTP/1.1 200 OK\n",
    "Access-Control-Expose-Headers: Content-Length\n",
    "ETag: \"v1373\"\n",
    "Expires: Fri, 26 Oct 2018 13:06:50 GMT\n",
    "Cache-Control: public, max-age=86400, no-transform\n",
    "Content-Disposition: inline;filename=\"Henry Anglas Padilla43.jpg\"\n",
    "Content-Type: image/jpeg\n",
    "Vary: Origin\n",
    "Access-Control-Allow-Origin: *\n",
    "Timing-Allow-Origin: *\n",
    "X-Content-Type-Options: nosniff\n",
    "Date: Thu, 25 Oct 2018 13:06:50 GMT\n",
    "Server: fife\n",
    "Content-Length: 10073\n",
    "X-XSS-Protection: 1; mode=block\n",
    "Connection: close\n",
    "\n",
    "...\n",
    "```\n",
    "\n"
   ]
  },
  {
   "cell_type": "code",
   "execution_count": null,
   "metadata": {},
   "outputs": [],
   "source": []
  }
 ],
 "metadata": {
  "kernelspec": {
   "display_name": "Python 3",
   "language": "python",
   "name": "python3"
  },
  "language_info": {
   "codemirror_mode": {
    "name": "ipython",
    "version": 3
   },
   "file_extension": ".py",
   "mimetype": "text/x-python",
   "name": "python",
   "nbconvert_exporter": "python",
   "pygments_lexer": "ipython3",
   "version": "3.7.3"
  }
 },
 "nbformat": 4,
 "nbformat_minor": 2
}
