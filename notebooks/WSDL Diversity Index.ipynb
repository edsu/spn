{
 "cells": [
  {
   "cell_type": "markdown",
   "metadata": {},
   "source": [
    "# WSDL Diversity Index\n",
    "\n",
    "Nwala developed a measure called the [WSDL Diversity Index](https://ws-dl.blogspot.com/2018/05/2018-05-04-exploration-of-url-diversity.html), which can be used to measure the difference between seed lists. The idea is further developed in [Jones et al. (2018)](https://arxiv.org/abs/1806.06878). In our case we can treat each request to the SavePageNow service as a seed. What does the diversity of SavePageNow URLs look like? \n",
    "\n",
    "Let's load up our urls dataset into Spark that was created with the URLs notebook. Since we have millions of URLs we're going to try to keep our processing in Spark as much as possible, which means we can't really use the implementation that Nwala [released](https://github.com/anwala/url-diversity). But we can borrow heavily from it, and the calculation is relatively easy to make.\n",
    "\n",
    "First lets start up Spark and load our URL dataset."
   ]
  },
  {
   "cell_type": "code",
   "execution_count": 59,
   "metadata": {},
   "outputs": [
    {
     "name": "stdout",
     "output_type": "stream",
     "text": [
      "+--------------------+--------------------+--------------------+--------------------+--------------------+-----------------+-----+\n",
      "|           record_id|           warc_file|                date|                 url|          user_agent|user_agent_family|  bot|\n",
      "+--------------------+--------------------+--------------------+--------------------+--------------------+-----------------+-----+\n",
      "|<urn:uuid:37efc42...|warcs/liveweb-201...|2017-10-25T08:48:04Z|https://www.zoomi...|        okhttp/3.8.1|           okhttp| true|\n",
      "|<urn:uuid:0c30c05...|warcs/liveweb-201...|2017-10-25T17:03:39Z|http://www.jeuxvi...|Mozilla/5.0 (Maci...|           Chrome|false|\n",
      "|<urn:uuid:c44821b...|warcs/liveweb-201...|2017-10-25T20:38:03Z|https://www.zoomi...|        okhttp/3.8.1|           okhttp| true|\n",
      "|<urn:uuid:cbc9b85...|warcs/liveweb-201...|2017-10-25T07:21:51Z|https://www.zoomi...|        okhttp/3.8.1|           okhttp| true|\n",
      "|<urn:uuid:7c5c319...|warcs/liveweb-201...|2017-10-25T23:37:36Z|https://www.zoomi...|        okhttp/3.8.1|           okhttp| true|\n",
      "+--------------------+--------------------+--------------------+--------------------+--------------------+-----------------+-----+\n",
      "only showing top 5 rows\n",
      "\n"
     ]
    }
   ],
   "source": [
    "import sys\n",
    "\n",
    "sys.path.append('../utils')\n",
    "\n",
    "from warc_spark import init\n",
    "\n",
    "sc, sqlc = init()\n",
    "df = sqlc.read.csv('results/urls', header=True)\n",
    "df.show(5)"
   ]
  },
  {
   "cell_type": "markdown",
   "metadata": {},
   "source": [
    "## Domain Diversity\n",
    "\n",
    "For the purposes here the domain diversity is of most interest because we want to see how content from the entire web is being selected in SavePageNow. For domains the calculation is basically:\n",
    "\n",
    "    (Number of Unique Domains - 1) / (Number of Items - 1)\n",
    "    \n",
    "[tldextract](https://github.com/john-kurkowski/tldextract) is a nice module for parsing a hostname to get its registered domain. It's much trickier than just taking the last three parts of hostname, and tldextract does the right thing."
   ]
  },
  {
   "cell_type": "code",
   "execution_count": 67,
   "metadata": {},
   "outputs": [
    {
     "data": {
      "text/plain": [
       "[('zoominfo.com', 'true'),\n",
       " ('jeuxvideo.com', 'false'),\n",
       " ('zoominfo.com', 'true'),\n",
       " ('zoominfo.com', 'true'),\n",
       " ('zoominfo.com', 'true')]"
      ]
     },
     "execution_count": 67,
     "metadata": {},
     "output_type": "execute_result"
    }
   ],
   "source": [
    "import tldextract\n",
    "\n",
    "# a function that takes a row, extracts the domain from the url, and whther it is a bot or not\n",
    "\n",
    "def domain_bot(r):\n",
    "    return (tldextract.extract(r.url).registered_domain, r.bot)\n",
    "\n",
    "results = df.rdd.map(domain_bot)\n",
    "results.persist()\n",
    "results.take(5)"
   ]
  },
  {
   "cell_type": "markdown",
   "metadata": {},
   "source": [
    "Calculate the Domain WSDL Diversity Index for the entire dataset."
   ]
  },
  {
   "cell_type": "code",
   "execution_count": 75,
   "metadata": {},
   "outputs": [
    {
     "data": {
      "text/plain": [
       "0.03569198843391795"
      ]
     },
     "execution_count": 75,
     "metadata": {},
     "output_type": "execute_result"
    }
   ],
   "source": [
    "results = results.toDF('domain', 'bot')\n",
    "item_count = results.count()\n",
    "domain_count = results.select('domain').distinct().count()\n",
    "(domain_count - 1) / (item_count - 1)"
   ]
  },
  {
   "cell_type": "markdown",
   "metadata": {},
   "source": [
    "We can also can look specifically at bots and humans to see if the domain diversity is any different between them."
   ]
  },
  {
   "cell_type": "code",
   "execution_count": 82,
   "metadata": {},
   "outputs": [
    {
     "data": {
      "text/plain": [
       "0.03369296117141282"
      ]
     },
     "execution_count": 82,
     "metadata": {},
     "output_type": "execute_result"
    }
   ],
   "source": [
    "import pyspark.sql.functions as f\n",
    "\n",
    "bots = results.filter(f.col('bot') == 'true')\n",
    "bot_items = bots.count()\n",
    "bot_domains = bots.distinct().count()\n",
    "(bot_domains - 1) / (bot_items - 1)"
   ]
  },
  {
   "cell_type": "code",
   "execution_count": 83,
   "metadata": {},
   "outputs": [
    {
     "data": {
      "text/plain": [
       "0.05788105665611979"
      ]
     },
     "execution_count": 83,
     "metadata": {},
     "output_type": "execute_result"
    }
   ],
   "source": [
    "humans = results.filter(f.col('bot') == 'false')\n",
    "human_items = humans.count()\n",
    "human_domains = humans.distinct().count()\n",
    "(human_domains - 1) / (human_items - 1)"
   ]
  },
  {
   "cell_type": "markdown",
   "metadata": {},
   "source": [
    "So there is a slight difference in diversity of domains selected by bots and people: 3.3% vs 5.8%. It would be interesting to see how these compare to other seed lists. It seems pretty small compared to the 38.6% reported in Jones et al."
   ]
  },
  {
   "cell_type": "code",
   "execution_count": 84,
   "metadata": {},
   "outputs": [
    {
     "name": "stdout",
     "output_type": "stream",
     "text": [
      "items: 7457669\n",
      "bots: 6292710\n",
      "humans: 1164959\n"
     ]
    }
   ],
   "source": [
    "print('items:', item_count)\n",
    "print('bots:', bot_items)\n",
    "print('humans:', human_items)"
   ]
  },
  {
   "cell_type": "markdown",
   "metadata": {},
   "source": [
    "## URL Diversity\n",
    "\n",
    "We can do the same for calculating the URL diversity. We need a function that will normalize our URLs per the WSDL Diversity Index measure.\n",
    "\n",
    "    (number of unique urls - 1) / (number of items - 1)"
   ]
  },
  {
   "cell_type": "code",
   "execution_count": 88,
   "metadata": {},
   "outputs": [
    {
     "data": {
      "text/plain": [
       "[('www.zoominfo.com/p/Gail-Kessler/-1657000950', 'true'),\n",
       " ('www.jeuxvideo.com/forums/42-51-53683620-1-0-1-0-pour-etre-assure-au-niveau-de-la-sante-aux-usa.htm',\n",
       "  'false'),\n",
       " ('www.zoominfo.com/p/Nur-Hanim/-1822630766', 'true'),\n",
       " ('www.zoominfo.com/p/Graeme-Randell/-1634203968', 'true'),\n",
       " ('www.zoominfo.com/p/Larry-Campos/-1862445193', 'true')]"
      ]
     },
     "execution_count": 88,
     "metadata": {},
     "output_type": "execute_result"
    }
   ],
   "source": [
    "from urllib.parse import urlparse\n",
    "\n",
    "def url_bot(r):\n",
    "    u = urlparse(r.url)\n",
    "    return (''.join([u.netloc, u.path]), r.bot)\n",
    "\n",
    "results = df.rdd.map(url_bot)\n",
    "results.persist()\n",
    "results.take(5)"
   ]
  },
  {
   "cell_type": "markdown",
   "metadata": {},
   "source": [
    "Ok now lets calculate the overall URL Diversity:"
   ]
  },
  {
   "cell_type": "code",
   "execution_count": 95,
   "metadata": {},
   "outputs": [
    {
     "data": {
      "text/plain": [
       "0.7650201108443014"
      ]
     },
     "execution_count": 95,
     "metadata": {},
     "output_type": "execute_result"
    }
   ],
   "source": [
    "results = results.toDF('url', 'bot')\n",
    "item_count = results.count()\n",
    "url_count = results.select('url').distinct().count()\n",
    "(url_count - 1) / (item_count - 1)"
   ]
  },
  {
   "cell_type": "code",
   "execution_count": 96,
   "metadata": {},
   "outputs": [
    {
     "data": {
      "text/plain": [
       "0.811429068148551"
      ]
     },
     "execution_count": 96,
     "metadata": {},
     "output_type": "execute_result"
    }
   ],
   "source": [
    "bots = results.filter(f.col('bot') == 'true')\n",
    "bot_items = bots.count()\n",
    "bot_urls = bots.distinct().count()\n",
    "(bot_urls - 1) / (bot_items - 1)"
   ]
  },
  {
   "cell_type": "code",
   "execution_count": 98,
   "metadata": {},
   "outputs": [
    {
     "data": {
      "text/plain": [
       "0.5326578297243334"
      ]
     },
     "execution_count": 98,
     "metadata": {},
     "output_type": "execute_result"
    }
   ],
   "source": [
    "humans = results.filter(f.col('bot') == 'false')\n",
    "human_items = humans.count()\n",
    "human_urls = humans.distinct().count()\n",
    "(human_urls - 1) / (human_items - 1)"
   ]
  },
  {
   "cell_type": "code",
   "execution_count": 99,
   "metadata": {},
   "outputs": [
    {
     "name": "stdout",
     "output_type": "stream",
     "text": [
      "items: 7457669\n",
      "bots: 6292710\n",
      "humans: 1164959\n"
     ]
    }
   ],
   "source": [
    "print('items:', item_count)\n",
    "print('bots:', bot_items)\n",
    "print('humans:', human_items)"
   ]
  },
  {
   "cell_type": "markdown",
   "metadata": {},
   "source": [
    "So for URLs the bots are selecting much more diverse URLs. This is interesting, particularly given the finding about domains."
   ]
  },
  {
   "cell_type": "code",
   "execution_count": null,
   "metadata": {},
   "outputs": [],
   "source": []
  }
 ],
 "metadata": {
  "kernelspec": {
   "display_name": "Python 3",
   "language": "python",
   "name": "python3"
  },
  "language_info": {
   "codemirror_mode": {
    "name": "ipython",
    "version": 3
   },
   "file_extension": ".py",
   "mimetype": "text/x-python",
   "name": "python",
   "nbconvert_exporter": "python",
   "pygments_lexer": "ipython3",
   "version": "3.7.3"
  }
 },
 "nbformat": 4,
 "nbformat_minor": 2
}
