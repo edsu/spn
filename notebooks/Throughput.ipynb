{
 "cells": [
  {
   "cell_type": "markdown",
   "metadata": {},
   "source": [
    "# Throughput\n",
    "\n",
    "We can calculate the requests per second for the days of data we have. We could parse the WARC data to look at the request records. But for efficiency we can use the CDX index file and assume that every response has a corresponding request."
   ]
  },
  {
   "cell_type": "code",
   "execution_count": 19,
   "metadata": {},
   "outputs": [
    {
     "data": {
      "text/plain": [
       "2056"
      ]
     },
     "execution_count": 19,
     "metadata": {},
     "output_type": "execute_result"
    }
   ],
   "source": [
    "import glob\n",
    "\n",
    "cdx_files = glob.glob('warcs/liveweb-*/*cdx.gz')\n",
    "len(cdx_files)"
   ]
  },
  {
   "cell_type": "markdown",
   "metadata": {},
   "source": [
    "We are going to need Spark to sort, since the CDX isn't ordered by time but by URL."
   ]
  },
  {
   "cell_type": "code",
   "execution_count": 1,
   "metadata": {},
   "outputs": [],
   "source": [
    "import sys\n",
    "\n",
    "sys.path.append('../utils')\n",
    "from warc_spark import init\n",
    "\n",
    "sc, sqlc = init()"
   ]
  },
  {
   "cell_type": "markdown",
   "metadata": {},
   "source": [
    "Here's a somewhat convoluted function that reads a set of cdx_files, opens them and returns an iterator for all the timestamps in the CDX files. We will use this function with Spark in a second."
   ]
  },
  {
   "cell_type": "code",
   "execution_count": 9,
   "metadata": {},
   "outputs": [],
   "source": [
    "import io\n",
    "import gzip\n",
    "\n",
    "def get_times(cdx_files):\n",
    "    for cdx_file in cdx_files:\n",
    "        with gzip.open(cdx_file, 'rb') as gz:\n",
    "            fh = io.BufferedReader(gz)\n",
    "            first = True\n",
    "            for line in fh.readlines():\n",
    "                # skip the first line in each file (header)\n",
    "                if first:\n",
    "                    first = False\n",
    "                    continue\n",
    "                parts = line.decode().split(\" \")\n",
    "                yield (parts[1], 1)"
   ]
  },
  {
   "cell_type": "markdown",
   "metadata": {},
   "source": [
    "Use Spark to read all the cdx files for 2018. "
   ]
  },
  {
   "cell_type": "code",
   "execution_count": 67,
   "metadata": {},
   "outputs": [
    {
     "data": {
      "text/plain": [
       "[('20161025002536', 1),\n",
       " ('20161025011918', 1),\n",
       " ('20161025011947', 1),\n",
       " ('20161024232642', 1),\n",
       " ('20161024232648', 1)]"
      ]
     },
     "execution_count": 67,
     "metadata": {},
     "output_type": "execute_result"
    }
   ],
   "source": [
    "cdx = sc.parallelize(cdx_files)\n",
    "times = cdx.mapPartitions(get_times)\n",
    "times.take(5)"
   ]
  },
  {
   "cell_type": "markdown",
   "metadata": {},
   "source": [
    "Group the results by seconds and count the number of requests in that second."
   ]
  },
  {
   "cell_type": "code",
   "execution_count": 75,
   "metadata": {},
   "outputs": [],
   "source": [
    "combined_times = times.combineByKey(\n",
    "    lambda r: 1,\n",
    "    lambda a, b: a + b,\n",
    "    lambda a, b: a + b\n",
    ")\n",
    "\n",
    "combined_times.take(25)\n",
    "df = combined_times.toDF(['time', 'count'])\n",
    "df.write.csv('results/times', compression=\"gzip\", header=True)"
   ]
  },
  {
   "cell_type": "code",
   "execution_count": 2,
   "metadata": {},
   "outputs": [],
   "source": [
    "spark_df = sqlc.read.csv('results/times', header=True, inferSchema=True)\n",
    "spark_df = spark_df.sort(spark_df['count'].desc())"
   ]
  },
  {
   "cell_type": "code",
   "execution_count": 3,
   "metadata": {},
   "outputs": [
    {
     "name": "stdout",
     "output_type": "stream",
     "text": [
      "+--------------+-----+\n",
      "|          time|count|\n",
      "+--------------+-----+\n",
      "|20141025215248|  814|\n",
      "|20141025215248|  814|\n",
      "|20171025141345|  674|\n",
      "|20171025141345|  674|\n",
      "|20181025141249|  652|\n",
      "|20181025141249|  652|\n",
      "|20181025135320|  634|\n",
      "|20181025135320|  634|\n",
      "|20171025092143|  624|\n",
      "|20171025092143|  624|\n",
      "+--------------+-----+\n",
      "only showing top 10 rows\n",
      "\n"
     ]
    }
   ],
   "source": [
    "spark_df.show(10)"
   ]
  },
  {
   "cell_type": "markdown",
   "metadata": {},
   "source": [
    "Convert to Pandas DataFrame so it's a bit easier to work with."
   ]
  },
  {
   "cell_type": "code",
   "execution_count": 4,
   "metadata": {},
   "outputs": [],
   "source": [
    "df = spark_df.toPandas()"
   ]
  },
  {
   "cell_type": "code",
   "execution_count": 5,
   "metadata": {},
   "outputs": [
    {
     "data": {
      "text/html": [
       "<div>\n",
       "<style scoped>\n",
       "    .dataframe tbody tr th:only-of-type {\n",
       "        vertical-align: middle;\n",
       "    }\n",
       "\n",
       "    .dataframe tbody tr th {\n",
       "        vertical-align: top;\n",
       "    }\n",
       "\n",
       "    .dataframe thead th {\n",
       "        text-align: right;\n",
       "    }\n",
       "</style>\n",
       "<table border=\"1\" class=\"dataframe\">\n",
       "  <thead>\n",
       "    <tr style=\"text-align: right;\">\n",
       "      <th></th>\n",
       "      <th>time</th>\n",
       "      <th>count</th>\n",
       "    </tr>\n",
       "  </thead>\n",
       "  <tbody>\n",
       "    <tr>\n",
       "      <th>0</th>\n",
       "      <td>2014-10-25 21:52:48</td>\n",
       "      <td>814</td>\n",
       "    </tr>\n",
       "    <tr>\n",
       "      <th>1</th>\n",
       "      <td>2014-10-25 21:52:48</td>\n",
       "      <td>814</td>\n",
       "    </tr>\n",
       "    <tr>\n",
       "      <th>2</th>\n",
       "      <td>2017-10-25 14:13:45</td>\n",
       "      <td>674</td>\n",
       "    </tr>\n",
       "    <tr>\n",
       "      <th>3</th>\n",
       "      <td>2017-10-25 14:13:45</td>\n",
       "      <td>674</td>\n",
       "    </tr>\n",
       "    <tr>\n",
       "      <th>4</th>\n",
       "      <td>2018-10-25 14:12:49</td>\n",
       "      <td>652</td>\n",
       "    </tr>\n",
       "    <tr>\n",
       "      <th>5</th>\n",
       "      <td>2018-10-25 14:12:49</td>\n",
       "      <td>652</td>\n",
       "    </tr>\n",
       "    <tr>\n",
       "      <th>6</th>\n",
       "      <td>2018-10-25 13:53:20</td>\n",
       "      <td>634</td>\n",
       "    </tr>\n",
       "    <tr>\n",
       "      <th>7</th>\n",
       "      <td>2018-10-25 13:53:20</td>\n",
       "      <td>634</td>\n",
       "    </tr>\n",
       "    <tr>\n",
       "      <th>8</th>\n",
       "      <td>2017-10-25 09:21:43</td>\n",
       "      <td>624</td>\n",
       "    </tr>\n",
       "    <tr>\n",
       "      <th>9</th>\n",
       "      <td>2017-10-25 09:21:43</td>\n",
       "      <td>624</td>\n",
       "    </tr>\n",
       "  </tbody>\n",
       "</table>\n",
       "</div>"
      ],
      "text/plain": [
       "                 time  count\n",
       "0 2014-10-25 21:52:48    814\n",
       "1 2014-10-25 21:52:48    814\n",
       "2 2017-10-25 14:13:45    674\n",
       "3 2017-10-25 14:13:45    674\n",
       "4 2018-10-25 14:12:49    652\n",
       "5 2018-10-25 14:12:49    652\n",
       "6 2018-10-25 13:53:20    634\n",
       "7 2018-10-25 13:53:20    634\n",
       "8 2017-10-25 09:21:43    624\n",
       "9 2017-10-25 09:21:43    624"
      ]
     },
     "execution_count": 5,
     "metadata": {},
     "output_type": "execute_result"
    }
   ],
   "source": [
    "import pandas\n",
    "\n",
    "df['time'] = pandas.to_datetime(df['time'], format='%Y%m%d%H%M%S')\n",
    "df.head(10)"
   ]
  },
  {
   "cell_type": "code",
   "execution_count": 6,
   "metadata": {},
   "outputs": [
    {
     "data": {
      "text/html": [
       "<div>\n",
       "<style scoped>\n",
       "    .dataframe tbody tr th:only-of-type {\n",
       "        vertical-align: middle;\n",
       "    }\n",
       "\n",
       "    .dataframe tbody tr th {\n",
       "        vertical-align: top;\n",
       "    }\n",
       "\n",
       "    .dataframe thead th {\n",
       "        text-align: right;\n",
       "    }\n",
       "</style>\n",
       "<table border=\"1\" class=\"dataframe\">\n",
       "  <thead>\n",
       "    <tr style=\"text-align: right;\">\n",
       "      <th></th>\n",
       "      <th>count</th>\n",
       "    </tr>\n",
       "    <tr>\n",
       "      <th>time</th>\n",
       "      <th></th>\n",
       "    </tr>\n",
       "  </thead>\n",
       "  <tbody>\n",
       "    <tr>\n",
       "      <th>2012-03-21 22:39:11</th>\n",
       "      <td>2</td>\n",
       "    </tr>\n",
       "    <tr>\n",
       "      <th>2012-03-21 22:39:11</th>\n",
       "      <td>2</td>\n",
       "    </tr>\n",
       "    <tr>\n",
       "      <th>2013-10-24 20:18:28</th>\n",
       "      <td>4</td>\n",
       "    </tr>\n",
       "    <tr>\n",
       "      <th>2013-10-24 20:18:28</th>\n",
       "      <td>4</td>\n",
       "    </tr>\n",
       "    <tr>\n",
       "      <th>2013-10-24 20:18:29</th>\n",
       "      <td>2</td>\n",
       "    </tr>\n",
       "    <tr>\n",
       "      <th>2013-10-24 20:18:29</th>\n",
       "      <td>2</td>\n",
       "    </tr>\n",
       "    <tr>\n",
       "      <th>2013-10-24 20:18:30</th>\n",
       "      <td>4</td>\n",
       "    </tr>\n",
       "    <tr>\n",
       "      <th>2013-10-24 20:18:30</th>\n",
       "      <td>4</td>\n",
       "    </tr>\n",
       "    <tr>\n",
       "      <th>2013-10-24 20:18:32</th>\n",
       "      <td>2</td>\n",
       "    </tr>\n",
       "    <tr>\n",
       "      <th>2013-10-24 20:18:32</th>\n",
       "      <td>2</td>\n",
       "    </tr>\n",
       "  </tbody>\n",
       "</table>\n",
       "</div>"
      ],
      "text/plain": [
       "                     count\n",
       "time                      \n",
       "2012-03-21 22:39:11      2\n",
       "2012-03-21 22:39:11      2\n",
       "2013-10-24 20:18:28      4\n",
       "2013-10-24 20:18:28      4\n",
       "2013-10-24 20:18:29      2\n",
       "2013-10-24 20:18:29      2\n",
       "2013-10-24 20:18:30      4\n",
       "2013-10-24 20:18:30      4\n",
       "2013-10-24 20:18:32      2\n",
       "2013-10-24 20:18:32      2"
      ]
     },
     "execution_count": 6,
     "metadata": {},
     "output_type": "execute_result"
    }
   ],
   "source": [
    "df = df.set_index('time')\n",
    "df = df.sort_index()\n",
    "df.head(10)"
   ]
  },
  {
   "cell_type": "markdown",
   "metadata": {},
   "source": [
    "Now we can easily look at just 2018-10-25 rows."
   ]
  },
  {
   "cell_type": "code",
   "execution_count": 7,
   "metadata": {},
   "outputs": [
    {
     "data": {
      "text/html": [
       "<div>\n",
       "<style scoped>\n",
       "    .dataframe tbody tr th:only-of-type {\n",
       "        vertical-align: middle;\n",
       "    }\n",
       "\n",
       "    .dataframe tbody tr th {\n",
       "        vertical-align: top;\n",
       "    }\n",
       "\n",
       "    .dataframe thead th {\n",
       "        text-align: right;\n",
       "    }\n",
       "</style>\n",
       "<table border=\"1\" class=\"dataframe\">\n",
       "  <thead>\n",
       "    <tr style=\"text-align: right;\">\n",
       "      <th></th>\n",
       "      <th>count</th>\n",
       "    </tr>\n",
       "    <tr>\n",
       "      <th>time</th>\n",
       "      <th></th>\n",
       "    </tr>\n",
       "  </thead>\n",
       "  <tbody>\n",
       "    <tr>\n",
       "      <th>2018-10-25 00:00:00</th>\n",
       "      <td>138</td>\n",
       "    </tr>\n",
       "    <tr>\n",
       "      <th>2018-10-25 00:00:00</th>\n",
       "      <td>138</td>\n",
       "    </tr>\n",
       "    <tr>\n",
       "      <th>2018-10-25 00:00:01</th>\n",
       "      <td>158</td>\n",
       "    </tr>\n",
       "    <tr>\n",
       "      <th>2018-10-25 00:00:01</th>\n",
       "      <td>158</td>\n",
       "    </tr>\n",
       "    <tr>\n",
       "      <th>2018-10-25 00:00:02</th>\n",
       "      <td>110</td>\n",
       "    </tr>\n",
       "    <tr>\n",
       "      <th>2018-10-25 00:00:02</th>\n",
       "      <td>110</td>\n",
       "    </tr>\n",
       "    <tr>\n",
       "      <th>2018-10-25 00:00:03</th>\n",
       "      <td>128</td>\n",
       "    </tr>\n",
       "    <tr>\n",
       "      <th>2018-10-25 00:00:03</th>\n",
       "      <td>128</td>\n",
       "    </tr>\n",
       "    <tr>\n",
       "      <th>2018-10-25 00:00:04</th>\n",
       "      <td>132</td>\n",
       "    </tr>\n",
       "    <tr>\n",
       "      <th>2018-10-25 00:00:04</th>\n",
       "      <td>132</td>\n",
       "    </tr>\n",
       "  </tbody>\n",
       "</table>\n",
       "</div>"
      ],
      "text/plain": [
       "                     count\n",
       "time                      \n",
       "2018-10-25 00:00:00    138\n",
       "2018-10-25 00:00:00    138\n",
       "2018-10-25 00:00:01    158\n",
       "2018-10-25 00:00:01    158\n",
       "2018-10-25 00:00:02    110\n",
       "2018-10-25 00:00:02    110\n",
       "2018-10-25 00:00:03    128\n",
       "2018-10-25 00:00:03    128\n",
       "2018-10-25 00:00:04    132\n",
       "2018-10-25 00:00:04    132"
      ]
     },
     "execution_count": 7,
     "metadata": {},
     "output_type": "execute_result"
    }
   ],
   "source": [
    "df_2018 = df['2018-10-25']\n",
    "df_2018.head(10)"
   ]
  },
  {
   "cell_type": "markdown",
   "metadata": {},
   "source": [
    "And the cool thing is we can resample by minute, which will roll up the values."
   ]
  },
  {
   "cell_type": "code",
   "execution_count": 8,
   "metadata": {},
   "outputs": [
    {
     "data": {
      "text/plain": [
       "24"
      ]
     },
     "execution_count": 8,
     "metadata": {},
     "output_type": "execute_result"
    }
   ],
   "source": [
    "df_2018 = df_2018.resample('H').sum()\n",
    "len(df_2018)"
   ]
  },
  {
   "cell_type": "code",
   "execution_count": 11,
   "metadata": {},
   "outputs": [
    {
     "data": {
      "application/javascript": [
       "var spec = {\"config\": {\"view\": {\"width\": 400, \"height\": 300}, \"mark\": {\"tooltip\": null}}, \"data\": {\"name\": \"data-72341dae1a7e9343cf2c8b1bf9fc6fef\"}, \"mark\": \"line\", \"encoding\": {\"x\": {\"type\": \"temporal\", \"field\": \"time\", \"title\": \"Time (UTC)\"}, \"y\": {\"type\": \"quantitative\", \"field\": \"count\"}}, \"title\": \"Requests per-hour\", \"width\": 800, \"$schema\": \"https://vega.github.io/schema/vega-lite/v3.3.0.json\", \"datasets\": {\"data-72341dae1a7e9343cf2c8b1bf9fc6fef\": [{\"time\": \"2018-10-25T00:00:00\", \"count\": 1000132}, {\"time\": \"2018-10-25T01:00:00\", \"count\": 809876}, {\"time\": \"2018-10-25T02:00:00\", \"count\": 815548}, {\"time\": \"2018-10-25T03:00:00\", \"count\": 943828}, {\"time\": \"2018-10-25T04:00:00\", \"count\": 836884}, {\"time\": \"2018-10-25T05:00:00\", \"count\": 790408}, {\"time\": \"2018-10-25T06:00:00\", \"count\": 1033904}, {\"time\": \"2018-10-25T07:00:00\", \"count\": 996732}, {\"time\": \"2018-10-25T08:00:00\", \"count\": 951084}, {\"time\": \"2018-10-25T09:00:00\", \"count\": 1162704}, {\"time\": \"2018-10-25T10:00:00\", \"count\": 883192}, {\"time\": \"2018-10-25T11:00:00\", \"count\": 912052}, {\"time\": \"2018-10-25T12:00:00\", \"count\": 1092100}, {\"time\": \"2018-10-25T13:00:00\", \"count\": 1299036}, {\"time\": \"2018-10-25T14:00:00\", \"count\": 1238888}, {\"time\": \"2018-10-25T15:00:00\", \"count\": 1121348}, {\"time\": \"2018-10-25T16:00:00\", \"count\": 1078300}, {\"time\": \"2018-10-25T17:00:00\", \"count\": 1358660}, {\"time\": \"2018-10-25T18:00:00\", \"count\": 1230020}, {\"time\": \"2018-10-25T19:00:00\", \"count\": 1175288}, {\"time\": \"2018-10-25T20:00:00\", \"count\": 1015832}, {\"time\": \"2018-10-25T21:00:00\", \"count\": 1167284}, {\"time\": \"2018-10-25T22:00:00\", \"count\": 881468}, {\"time\": \"2018-10-25T23:00:00\", \"count\": 738608}]}};\n",
       "var opt = {};\n",
       "var type = \"vega-lite\";\n",
       "var id = \"06f461f0-75d2-48e8-b251-9acfb57558b4\";\n",
       "\n",
       "var output_area = this;\n",
       "\n",
       "require([\"nbextensions/jupyter-vega/index\"], function(vega) {\n",
       "  var target = document.createElement(\"div\");\n",
       "  target.id = id;\n",
       "  target.className = \"vega-embed\";\n",
       "\n",
       "  var style = document.createElement(\"style\");\n",
       "  style.textContent = [\n",
       "    \".vega-embed .error p {\",\n",
       "    \"  color: firebrick;\",\n",
       "    \"  font-size: 14px;\",\n",
       "    \"}\",\n",
       "  ].join(\"\\\\n\");\n",
       "\n",
       "  // element is a jQuery wrapped DOM element inside the output area\n",
       "  // see http://ipython.readthedocs.io/en/stable/api/generated/\\\n",
       "  // IPython.display.html#IPython.display.Javascript.__init__\n",
       "  element[0].appendChild(target);\n",
       "  element[0].appendChild(style);\n",
       "\n",
       "  vega.render(\"#\" + id, spec, type, opt, output_area);\n",
       "}, function (err) {\n",
       "  if (err.requireType !== \"scripterror\") {\n",
       "    throw(err);\n",
       "  }\n",
       "});\n"
      ],
      "text/plain": [
       "<vega.vegalite.VegaLite at 0x112038860>"
      ]
     },
     "metadata": {
      "jupyter-vega": "#06f461f0-75d2-48e8-b251-9acfb57558b4"
     },
     "output_type": "display_data"
    },
    {
     "data": {
      "image/png": "[encoded data removed]"
     },
     "metadata": {
      "jupyter-vega": "#06f461f0-75d2-48e8-b251-9acfb57558b4"
     },
     "output_type": "display_data"
    },
    {
     "data": {
      "text/plain": []
     },
     "execution_count": 11,
     "metadata": {},
     "output_type": "execute_result"
    }
   ],
   "source": [
    "import altair\n",
    "altair.renderers.enable('notebook')\n",
    "\n",
    "chart = altair.Chart(df_2018.reset_index()).mark_line().encode(\n",
    "    altair.X('time:T', title='Time (UTC)'),\n",
    "    altair.Y('count:Q')\n",
    ")\n",
    "\n",
    "chart = chart.properties(\n",
    "    title='Requests per-hour',\n",
    "    width=800\n",
    ")\n",
    "\n",
    "chart"
   ]
  },
  {
   "cell_type": "code",
   "execution_count": null,
   "metadata": {},
   "outputs": [],
   "source": []
  }
 ],
 "metadata": {
  "kernelspec": {
   "display_name": "Python 3",
   "language": "python",
   "name": "python3"
  },
  "language_info": {
   "codemirror_mode": {
    "name": "ipython",
    "version": 3
   },
   "file_extension": ".py",
   "mimetype": "text/x-python",
   "name": "python",
   "nbconvert_exporter": "python",
   "pygments_lexer": "ipython3",
   "version": "3.7.3"
  }
 },
 "nbformat": 4,
 "nbformat_minor": 2
}
