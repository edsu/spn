{
 "cells": [
  {
   "cell_type": "markdown",
   "metadata": {},
   "source": [
    "# Sample\n",
    "\n",
    "This notebook can be used to sample WARC files from the liveweb collection, which corresponds to web archives created by Internet Archive's Save Page Now. This collection is ordinarily not public for privacy reasons, but Internet Archive do grant researchers access to their WARC collections on request."
   ]
  },
  {
   "cell_type": "code",
   "execution_count": 1,
   "metadata": {},
   "outputs": [],
   "source": [
    "import os\n",
    "import re\n",
    "import json\n",
    "import internetarchive as ia"
   ]
  },
  {
   "cell_type": "markdown",
   "metadata": {},
   "source": [
    "It will be important to know the total size of each item we are going to download for diagnostic purposes. This can only be obtained by fetching the item metadata from the Internet Archive API. Given an `item_id` this function will return the date, and size for each item."
   ]
  },
  {
   "cell_type": "code",
   "execution_count": 2,
   "metadata": {},
   "outputs": [],
   "source": [
    "def item_summary(item_id):\n",
    "    print(\"summarizing %s\" % item_id)\n",
    "    item = ia.get_item(item_id)\n",
    "\n",
    "    size = 0\n",
    "    for file in item.item_metadata.get('files', []):\n",
    "        if file['name'].endswith('arc.gz'):\n",
    "            size += int(file['size'])\n",
    "            \n",
    "    m = re.match('^.+-(\\d\\d\\d\\d)(\\d\\d)(\\d\\d)', item.item_metadata['metadata']['identifier'])\n",
    "    date = '%s-%s-%s' % m.groups()\n",
    "    \n",
    "    return date, size"
   ]
  },
  {
   "cell_type": "markdown",
   "metadata": {},
   "source": [
    "Let's try out the function on a known identifier for a liveweb item:"
   ]
  },
  {
   "cell_type": "code",
   "execution_count": 3,
   "metadata": {},
   "outputs": [
    {
     "name": "stdout",
     "output_type": "stream",
     "text": [
      "summarizing liveweb-20180608000829\n",
      "('2018-06-08', 12235011191)\n"
     ]
    }
   ],
   "source": [
    "print(item_summary('liveweb-20180608000829'))"
   ]
  },
  {
   "cell_type": "markdown",
   "metadata": {},
   "source": [
    "Now we need to build up an index of items in the liveweb collection by date. There are thousands of items to look at, so we save the result as `items.json` which will be returned immediately if it is available, unless `reindex` is set to `True`."
   ]
  },
  {
   "cell_type": "code",
   "execution_count": 4,
   "metadata": {},
   "outputs": [],
   "source": [
    "def get_index(reindex=False):\n",
    "    # look for previously computed index\n",
    "    if not reindex and os.path.isfile('Sample.json'):\n",
    "        return json.load(open('Sample.json'))\n",
    "    \n",
    "    item_index = {}\n",
    "    \n",
    "    for item in ia.search_items('collection:liveweb'):\n",
    "        \n",
    "        # get the date from the item identifier\n",
    "        date, size = item_summary(item['identifier'])\n",
    "        \n",
    "        if date not in item_index:\n",
    "            item_index[date] = []\n",
    " \n",
    "        item_index[date].append({'id': item['identifier'], 'size': size})\n",
    "\n",
    "    # save the index to disk\n",
    "    json.dump(item_index, open('Sample.json', 'w'), indent=2)\n",
    "    return item_index"
   ]
  },
  {
   "cell_type": "markdown",
   "metadata": {},
   "source": [
    "Ok, let's run it ... this will take a while if `Sample.json` isn't already available."
   ]
  },
  {
   "cell_type": "code",
   "execution_count": 5,
   "metadata": {},
   "outputs": [],
   "source": [
    "item_index = get_index()"
   ]
  },
  {
   "cell_type": "markdown",
   "metadata": {},
   "source": [
    "Now we can determine what days we want to sample, and download the associated WARC and ARC files. In our case we are going to get all the data for a particular day each year. We chose **October 25, 2013** because it is our best estimate of when the SPN feature went live for the public. This is based on a few pieces of information, notably:\n",
    "\n",
    "* the introduction of `'liveweb-` prefixed identifiers in the liveweb collection which happened on 2013-10-22. Previously only `live-` identifiers were used.\n",
    "* the only items being generated now in the liveweb collection have the `liveweb-` prefix.\n",
    "* the overwhelming majority of the items use the `liveweb-` identifier prefix: 28257 / 34336 = 82%. \n",
    "* a conversation in Internet Archive Slack with Mark Graham and Kenji Nagahashi about how the `liveweb-` items are what SPN creates, and that the previous two years of material were of unknown origin. Or at least Kenji couldn't remember what their provenance was.\n",
    "* the record in the wayback machine: [2013-10-24](https://web.archive.org/web/20131024095443/https://archive.org/web/) and [2013-10-25](https://web.archive.org/web/20131025143028/http://archive.org/web/) seems to indicate that the SPN feature went live on 2013-10-25, 5 days after the start of `liveweb-` prefixed identifiers.\n",
    "\n",
    "This will get a list of item identifiers that match the date and the identifier prefix. It will also keep track of how much storage will be needed to donwload them."
   ]
  },
  {
   "cell_type": "code",
   "execution_count": 11,
   "metadata": {},
   "outputs": [
    {
     "name": "stdout",
     "output_type": "stream",
     "text": [
      "There are 59 Internet Archive items to download\n",
      "The total size will be 708.02 GB\n"
     ]
    }
   ],
   "source": [
    "item_ids = []\n",
    "total_size = 0\n",
    "for year in range(2011, 2018):\n",
    "    date = '%s-10-25' % year\n",
    "    for item in item_index[date]:\n",
    "        if item['id'].startswith('liveweb-'):\n",
    "            item_ids.append(item['id'])\n",
    "            total_size += item['size']\n",
    "        \n",
    "print(\"There are %s Internet Archive items to download\" % len(item_ids))\n",
    "print(\"The total size will be %0.2f GB\" % (total_size / 1024 / 1024 / 1024.0))"
   ]
  },
  {
   "cell_type": "markdown",
   "metadata": {},
   "source": [
    "Now let's download them."
   ]
  },
  {
   "cell_type": "code",
   "execution_count": null,
   "metadata": {},
   "outputs": [],
   "source": [
    "count = 0\n",
    "for item_id in item_ids:\n",
    "    count += 1\n",
    "    print('[%s/%s] downloading %s' % (1, len(item_ids), item_id))\n",
    "    ia.download(\n",
    "        item_id,\n",
    "        glob_pattern=\"*arc.gz\",\n",
    "        destdir=\"data\",\n",
    "        ignore_existing=True\n",
    "    )"
   ]
  },
  {
   "cell_type": "markdown",
   "metadata": {},
   "source": [
    "The reality is that it can take weeks (or months) to sample and download, so you probably want to export this notebook as a .py file and run it on a reliable server in a screen or tmux session:\n",
    "\n",
    "```\n",
    "% jupyter nbconvert --to script Sample.ipynb\n",
    "% python Sample.py\n",
    "```\n"
   ]
  },
  {
   "cell_type": "code",
   "execution_count": null,
   "metadata": {},
   "outputs": [],
   "source": []
  }
 ],
 "metadata": {
  "kernelspec": {
   "display_name": "Python 3",
   "language": "python",
   "name": "python3"
  },
  "language_info": {
   "codemirror_mode": {
    "name": "ipython",
    "version": 3
   },
   "file_extension": ".py",
   "mimetype": "text/x-python",
   "name": "python",
   "nbconvert_exporter": "python",
   "pygments_lexer": "ipython3",
   "version": "3.7.0"
  }
 },
 "nbformat": 4,
 "nbformat_minor": 2
}
