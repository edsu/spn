{
 "cells": [
  {
   "cell_type": "markdown",
   "metadata": {},
   "source": [
    "# Sample\n",
    "\n",
    "This notebook can be used to sample WARC files from the liveweb collection, which corresponds to web archives created by Internet Archive's Save Page Now. This collection is ordinarily not public for privacy reasons, but Internet Archive do grant researchers access to their WARC collections on request."
   ]
  },
  {
   "cell_type": "code",
   "execution_count": null,
   "metadata": {},
   "outputs": [],
   "source": [
    "import os\n",
    "import re\n",
    "import json\n",
    "import internetarchive as ia"
   ]
  },
  {
   "cell_type": "markdown",
   "metadata": {},
   "source": [
    "First we need to build up an index of items in the liveweb collection by date. There are thousands of items to look at, so we save the result as `items.json` which will be returned immediately if it is available, unless `reindex` is set to `True`. "
   ]
  },
  {
   "cell_type": "code",
   "execution_count": null,
   "metadata": {},
   "outputs": [],
   "source": [
    "def get_index(reindex=False):\n",
    "    # look for previously computed index\n",
    "    if not reindex and os.path.isfile('items.json'):\n",
    "        return json.load(open('Items.json'))\n",
    "    \n",
    "    item_index = {}\n",
    "    \n",
    "    for item in ia.search_items('collection:liveweb'):\n",
    "        \n",
    "        # get the date from the item identifier\n",
    "        m = re.match('^.+-(\\d\\d\\d\\d)(\\d\\d)(\\d\\d)', item['identifier'])\n",
    "        date = '%s-%s-%s' % m.groups()\n",
    "        \n",
    "        if date not in item_index:\n",
    "            item_index[date] = []\n",
    " \n",
    "        item_index[date].append(item['identifier'])\n",
    "\n",
    "    # save the index to disk\n",
    "    json.dump(item_index, open('Items.json', 'w'))\n",
    "    return item_index"
   ]
  },
  {
   "cell_type": "markdown",
   "metadata": {},
   "source": [
    "Ok, let's run it ... this will take a while if `Items.json` isn't already available."
   ]
  },
  {
   "cell_type": "code",
   "execution_count": null,
   "metadata": {},
   "outputs": [],
   "source": [
    "item_index = get_index()"
   ]
  },
  {
   "cell_type": "markdown",
   "metadata": {},
   "source": [
    "Now we can determine what days we want to sample, and download the associated WARC and ARC files. In our case we are going to get all the data for a particular day each year. Feel free to change the day as needed."
   ]
  },
  {
   "cell_type": "code",
   "execution_count": null,
   "metadata": {},
   "outputs": [],
   "source": [
    "for year in range(2011, 2019):\n",
    "    date = '%s-05-28' % year\n",
    "    for item in item_index[date]:\n",
    "        print('downloading %s' % item)\n",
    "        ia.download(\n",
    "            id, \n",
    "            glob_pattern=\"*arc.gz\",\n",
    "            destdir=\"data\",\n",
    "            ignore_existing=True\n",
    "        )"
   ]
  },
  {
   "cell_type": "markdown",
   "metadata": {},
   "source": [
    "The reality is that it can take weeks (or months) to sample and download, so you probably want to export this notebook as a .py file and run it on a reliable server in a screen or tmux session:\n",
    "\n",
    "```\n",
    "% jupyter nbconvert --to script Sample.ipynb\n",
    "% python Sample.py\n",
    "```\n"
   ]
  },
  {
   "cell_type": "code",
   "execution_count": null,
   "metadata": {},
   "outputs": [],
   "source": []
  }
 ],
 "metadata": {
  "kernelspec": {
   "display_name": "Python 3",
   "language": "python",
   "name": "python3"
  },
  "language_info": {
   "codemirror_mode": {
    "name": "ipython",
    "version": 3
   },
   "file_extension": ".py",
   "mimetype": "text/x-python",
   "name": "python",
   "nbconvert_exporter": "python",
   "pygments_lexer": "ipython3",
   "version": "3.7.0"
  }
 },
 "nbformat": 4,
 "nbformat_minor": 2
}
