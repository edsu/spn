{
 "cells": [
  {
   "cell_type": "markdown",
   "metadata": {},
   "source": [
    "# Internet Archive LiveWeb Data"
   ]
  },
  {
   "cell_type": "markdown",
   "metadata": {},
   "source": [
    "The Internet Archive's [Save Page Now]() writes WARC data for archived web content to a particular Internet Archive collection called [liveweb](https://archive.org/details/liveweb). This data is not available to the public, however metadata about the items in the collections is. This notebook shows how you can examine the metadata to get the number of bytes per day that have been archived by talking to the Internet Archive's API.\n",
    "\n",
    "## Install\n",
    "\n",
    "If you are reading this you may have Jupyter already set up, but just in case you don't you'll want to install Python 3 and:\n",
    "\n",
    "    % pip install pipenv\n",
    "    % git clone https://github.com/edsu/spn\n",
    "    % cd spn\n",
    "    % pipenv install \n",
    "    \n",
    "And now you'll need to save your Internet Archive account login details. If you don't have an account go over to archive.org and create one, and then:\n",
    "\n",
    "    % ia configure\n",
    "    \n",
    "## Fetch Data\n",
    "\n",
    "Now we're ready to load and use the [internetarchive](https://github.com/jjjake/internetarchive) Python extension:\n",
    "    "
   ]
  },
  {
   "cell_type": "code",
   "execution_count": 17,
   "metadata": {},
   "outputs": [],
   "source": [
    "import os\n",
    "import re\n",
    "import json\n",
    "\n",
    "from internetarchive import search_items, get_item"
   ]
  },
  {
   "cell_type": "markdown",
   "metadata": {},
   "source": [
    "Now iterate through each item in the liveweb collection and count how much data there was per day of WARC or ARC data. This will store the dates and sizes in a dictionary keyed by date.\n",
    "\n",
    "Note, we only need to do this if we haven't previously generated the CSV. It takes a while..."
   ]
  },
  {
   "cell_type": "code",
   "execution_count": 22,
   "metadata": {},
   "outputs": [],
   "source": [
    "sizes = {}\n",
    "\n",
    "if not os.path.isfile('Sizes.csv'):\n",
    "\n",
    "    for result in search_items('collection:liveweb'):\n",
    "        item = get_item(result['identifier'])\n",
    "    \n",
    "        # count sizes of all arc.gz and warc.gz files in this item\n",
    "        size = 0\n",
    "        for file in item.item_metadata['files']:\n",
    "            if file['name'].endswith('arc.gz'):\n",
    "                size += int(file['size'])\n",
    "    \n",
    "        # get the date\n",
    "        m = re.match('^.+-(\\d\\d\\d\\d)(\\d\\d)(\\d\\d)', item.item_metadata['metadata']['identifier'])\n",
    "        date = '%s-%s-%s' % m.groups()\n",
    "    \n",
    "        # add this size to whatever we currently have for the date\n",
    "        sizes[date] = sizes.get(date, 0) + size\n",
    "    \n",
    "        if len(sizes) > 50:\n",
    "            break"
   ]
  },
  {
   "cell_type": "markdown",
   "metadata": {},
   "source": [
    "## Save Data\n",
    "\n",
    "Now let's write out the sizes by date to a CSV file. This way we won't need to fetch it every time we run the Notebook."
   ]
  },
  {
   "cell_type": "code",
   "execution_count": 24,
   "metadata": {},
   "outputs": [],
   "source": [
    "if sizes:\n",
    "\n",
    "    import csv\n",
    "\n",
    "    dates = sorted(sizes.keys())\n",
    "\n",
    "    with open('Sizes.csv', 'w') as output:\n",
    "        writer = csv.writer(output)\n",
    "        writer.writerow(['date', 'size'])\n",
    "        for date in dates:\n",
    "            writer.writerow([date, sizes[date]])"
   ]
  },
  {
   "cell_type": "code",
   "execution_count": null,
   "metadata": {},
   "outputs": [],
   "source": []
  }
 ],
 "metadata": {
  "kernelspec": {
   "display_name": "Python 3",
   "language": "python",
   "name": "python3"
  },
  "language_info": {
   "codemirror_mode": {
    "name": "ipython",
    "version": 3
   },
   "file_extension": ".py",
   "mimetype": "text/x-python",
   "name": "python",
   "nbconvert_exporter": "python",
   "pygments_lexer": "ipython3",
   "version": "3.6.4"
  }
 },
 "nbformat": 4,
 "nbformat_minor": 2
}
