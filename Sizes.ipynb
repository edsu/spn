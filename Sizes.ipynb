{
 "cells": [
  {
   "cell_type": "markdown",
   "metadata": {},
   "source": [
    "# Internet Archive SavePageNow Data"
   ]
  },
  {
   "cell_type": "markdown",
   "metadata": {},
   "source": [
    "The Internet Archive's [Save Page Now]() writes WARC data for archived web content to a particular Internet Archive collection called [liveweb](https://archive.org/details/liveweb). This archived web data is not available to the public, I think for privacy reasons, however basic metadata about the WARC data itself is. This notebook shows how you can examine this metadata to get a sense of the volume of data that is being added. It was developed as part of a research project with [Shawn Walker](http://shawnw.io/) and [Jess Ogden](https://archivingtheweb.me/).\n",
    "\n",
    "## Install\n",
    "\n",
    "If you are reading this you may have Jupyter already set up, but just in case you don't you'll want to install Python 3 and:\n",
    "\n",
    "    % pip install pipenv\n",
    "    % git clone https://github.com/edsu/spn\n",
    "    % cd spn\n",
    "    % pipenv install \n",
    "    \n",
    "And now you'll need to save your Internet Archive account login details. If you don't have an account go over to archive.org and create one, and then:\n",
    "\n",
    "    % ia configure\n",
    "    \n",
    "## Internet Archive Metadata\n",
    "\n",
    "Now we're ready to load and use the [internetarchive](https://github.com/jjjake/internetarchive) Python extension:\n",
    "    "
   ]
  },
  {
   "cell_type": "code",
   "execution_count": 1,
   "metadata": {},
   "outputs": [],
   "source": [
    "import internetarchive as ia"
   ]
  },
  {
   "cell_type": "markdown",
   "metadata": {},
   "source": [
    "Internet Archive organizes their stuff according to *collections*, which can contain one or many *items*. Each item then can contain one or many files. Collections and items have identifiers that uniquely identify them. For example if you know the the item identifier `liveweb-20180517162322` you can go get it and print its metadata:"
   ]
  },
  {
   "cell_type": "code",
   "execution_count": 2,
   "metadata": {},
   "outputs": [
    {
     "name": "stdout",
     "output_type": "stream",
     "text": [
      "{'identifier': 'liveweb-20180517162322', 'collection': ['liveweb', 'webwidecrawl', 'web'], 'mediatype': 'web', 'scanner': 'Internet Archive Python library 1.7.4', 'publicdate': '2018-05-17 16:24:11', 'title': 'liveweb-20180517162322', 'uploader': 'wbmcrawl@archive.org', 'addeddate': '2018-05-17 16:24:11', 'imagecount': '1104711', 'firstfiledate': '20180517054922', 'lastfiledate': '20180517175825', 'scandate': '20180517054922', 'date': '2018'}\n"
     ]
    }
   ],
   "source": [
    "item = ia.get_item('liveweb-20180517162322')\n",
    "print(item.metadata)"
   ]
  },
  {
   "cell_type": "markdown",
   "metadata": {},
   "source": [
    "It's a bit easier to read if we pretty print it:"
   ]
  },
  {
   "cell_type": "code",
   "execution_count": 3,
   "metadata": {},
   "outputs": [
    {
     "name": "stdout",
     "output_type": "stream",
     "text": [
      "{'addeddate': '2018-05-17 16:24:11',\n",
      " 'collection': ['liveweb', 'webwidecrawl', 'web'],\n",
      " 'date': '2018',\n",
      " 'firstfiledate': '20180517054922',\n",
      " 'identifier': 'liveweb-20180517162322',\n",
      " 'imagecount': '1104711',\n",
      " 'lastfiledate': '20180517175825',\n",
      " 'mediatype': 'web',\n",
      " 'publicdate': '2018-05-17 16:24:11',\n",
      " 'scandate': '20180517054922',\n",
      " 'scanner': 'Internet Archive Python library 1.7.4',\n",
      " 'title': 'liveweb-20180517162322',\n",
      " 'uploader': 'wbmcrawl@archive.org'}\n"
     ]
    }
   ],
   "source": [
    "from pprint import pprint\n",
    "pprint(item.metadata)"
   ]
  },
  {
   "cell_type": "markdown",
   "metadata": {},
   "source": [
    "Notice that the item identifier `liveweb-20180517162322` contains a date/time? We're going to take a bit of a leap here and assume that the date contained in there is the date that the WARC data was collected from SavePageNow. This might in fact not be the case, unless we learn more from Internet Archive about the provenance of this data.\n",
    "\n",
    "There's actually much more detailed metadata available for the files in the item. Here's how many files are in the item:"
   ]
  },
  {
   "cell_type": "code",
   "execution_count": 4,
   "metadata": {},
   "outputs": [
    {
     "name": "stdout",
     "output_type": "stream",
     "text": [
      "62\n"
     ]
    }
   ],
   "source": [
    "print(len(item.item_metadata['files']))"
   ]
  },
  {
   "cell_type": "markdown",
   "metadata": {},
   "source": [
    "We can see what metadata is available for the first file:"
   ]
  },
  {
   "cell_type": "code",
   "execution_count": 5,
   "metadata": {},
   "outputs": [
    {
     "name": "stdout",
     "output_type": "stream",
     "text": [
      "{'crc32': '9465c332',\n",
      " 'format': 'Web ARChive GZ',\n",
      " 'md5': 'd4282ca786cf235c0ab12e90ac48fe8b',\n",
      " 'mtime': '1526577104',\n",
      " 'name': 'cachegw-20180517054936-wwwb-app8.us.archive.org.warc.gz',\n",
      " 'private': 'true',\n",
      " 'sha1': 'd070f56bf40b647f3697484dd52c4dee44a46f50',\n",
      " 'size': '524288349',\n",
      " 'source': 'original'}\n"
     ]
    }
   ],
   "source": [
    "pprint(item.item_metadata['files'][0])"
   ]
  },
  {
   "cell_type": "markdown",
   "metadata": {},
   "source": [
    "See the *size* property? After inspecting other public items I was able to verify that this is in fact the number of bytes for the file.\n",
    "\n",
    "## Fetch the Data\n",
    "\n",
    "So now we know enough to write a function that can return the date and the size of an item given its identifier."
   ]
  },
  {
   "cell_type": "code",
   "execution_count": 6,
   "metadata": {},
   "outputs": [],
   "source": [
    "import re\n",
    "\n",
    "def item_summary(item_id):\n",
    "    item = ia.get_item(item_id)\n",
    "\n",
    "    size = 0\n",
    "    for file in item.item_metadata['files']:\n",
    "        if file['name'].endswith('arc.gz'):\n",
    "            size += int(file['size'])\n",
    "            \n",
    "    m = re.match('^.+-(\\d\\d\\d\\d)(\\d\\d)(\\d\\d)', item.item_metadata['metadata']['identifier'])\n",
    "    date = '%s-%s-%s' % m.groups()\n",
    "    \n",
    "    return date, size"
   ]
  },
  {
   "cell_type": "markdown",
   "metadata": {},
   "source": [
    "Let's give a try:"
   ]
  },
  {
   "cell_type": "code",
   "execution_count": 7,
   "metadata": {},
   "outputs": [
    {
     "name": "stdout",
     "output_type": "stream",
     "text": [
      "('2018-05-17', 10752290761)\n"
     ]
    }
   ],
   "source": [
    "print(item_summary('liveweb-20180517162322'))"
   ]
  },
  {
   "cell_type": "markdown",
   "metadata": {},
   "source": [
    "The internetarchive Python library doesn't offer an abstraction for collections. But it does provide a way to search for a collection and iterate through the items that it contains. So lets see how many items are contained in the collection:"
   ]
  },
  {
   "cell_type": "code",
   "execution_count": 8,
   "metadata": {},
   "outputs": [
    {
     "name": "stdout",
     "output_type": "stream",
     "text": [
      "30106\n"
     ]
    }
   ],
   "source": [
    "num_items = len(ia.search_items('collection:liveweb'))\n",
    "print(num_items)"
   ]
  },
  {
   "cell_type": "markdown",
   "metadata": {},
   "source": [
    "That's quite a few. If it takes a second to get the metadata for each item we are going to need to wait a while:"
   ]
  },
  {
   "cell_type": "code",
   "execution_count": 9,
   "metadata": {},
   "outputs": [
    {
     "name": "stdout",
     "output_type": "stream",
     "text": [
      "8.362777777777778 hours\n"
     ]
    }
   ],
   "source": [
    "print(num_items / 60 / 60.0, 'hours')"
   ]
  },
  {
   "cell_type": "markdown",
   "metadata": {},
   "source": [
    "Ok, so let's go through each item, get the size and day for the item, and store them in a dictionary. Since there may be more than one item in a day it's important to add to the existing value for a date instead of simply storing it."
   ]
  },
  {
   "cell_type": "code",
   "execution_count": 10,
   "metadata": {},
   "outputs": [],
   "source": [
    "import os\n",
    "import re\n",
    "import json\n",
    "\n",
    "sizes = {}\n",
    "\n",
    "if not os.path.isfile('Sizes.csv'):\n",
    "\n",
    "    for result in search_items('collection:liveweb'):\n",
    "        date, size = item_summary(result['identifier'])\n",
    "        sizes[date] = sizes.get(date, 0) + size\n",
    "        print(date, size, sizes[date])"
   ]
  },
  {
   "cell_type": "markdown",
   "metadata": {},
   "source": [
    "Now we can write out the *sizes* dictionary to a CSV file, where every row is a date. This way we won't need to fetch it every time we run this notebook."
   ]
  },
  {
   "cell_type": "code",
   "execution_count": 11,
   "metadata": {},
   "outputs": [],
   "source": [
    "if sizes:\n",
    "\n",
    "    import csv\n",
    "\n",
    "    dates = sorted(sizes.keys())\n",
    "\n",
    "    with open('Sizes.csv', 'w') as output:\n",
    "        writer = csv.writer(output)\n",
    "        writer.writerow(['date', 'size'])\n",
    "        for date in dates:\n",
    "            writer.writerow([date, sizes[date]])"
   ]
  },
  {
   "cell_type": "markdown",
   "metadata": {},
   "source": [
    "## Analyze the Data\n",
    "\n",
    "So now we have our CSV of data we can analyze it a bit with [pandas](https://pandas.pydata.org/) and maybe generate a useful graph. First we'll import pandas and load in the data as a pandas DataFrame.\n",
    "\n",
    "*Aside: I'm still learning pandas, and this is not meant to be a tutorial. If you want to learn more about all the amazing stuff you can do with it you'll want to spend some time in their excellent [tutorial](https://pandas.pydata.org/pandas-docs/stable/dsintro.html). If you work with R at all it should look pretty familiar. If not, treat this as just dipping your toe in to test the water. That's what I'm doing. If you do know pandas and notice a better way of doing any of this please let me know!*"
   ]
  },
  {
   "cell_type": "code",
   "execution_count": 12,
   "metadata": {},
   "outputs": [
    {
     "data": {
      "text/html": [
       "<div>\n",
       "<style scoped>\n",
       "    .dataframe tbody tr th:only-of-type {\n",
       "        vertical-align: middle;\n",
       "    }\n",
       "\n",
       "    .dataframe tbody tr th {\n",
       "        vertical-align: top;\n",
       "    }\n",
       "\n",
       "    .dataframe thead th {\n",
       "        text-align: right;\n",
       "    }\n",
       "</style>\n",
       "<table border=\"1\" class=\"dataframe\">\n",
       "  <thead>\n",
       "    <tr style=\"text-align: right;\">\n",
       "      <th></th>\n",
       "      <th>size</th>\n",
       "    </tr>\n",
       "    <tr>\n",
       "      <th>date</th>\n",
       "      <th></th>\n",
       "    </tr>\n",
       "  </thead>\n",
       "  <tbody>\n",
       "    <tr>\n",
       "      <th>2011-03-27</th>\n",
       "      <td>10646200928</td>\n",
       "    </tr>\n",
       "    <tr>\n",
       "      <th>2011-03-28</th>\n",
       "      <td>10707045468</td>\n",
       "    </tr>\n",
       "    <tr>\n",
       "      <th>2011-03-29</th>\n",
       "      <td>21394690378</td>\n",
       "    </tr>\n",
       "    <tr>\n",
       "      <th>2011-03-30</th>\n",
       "      <td>20976176471</td>\n",
       "    </tr>\n",
       "    <tr>\n",
       "      <th>2011-03-31</th>\n",
       "      <td>20678636646</td>\n",
       "    </tr>\n",
       "  </tbody>\n",
       "</table>\n",
       "</div>"
      ],
      "text/plain": [
       "                   size\n",
       "date                   \n",
       "2011-03-27  10646200928\n",
       "2011-03-28  10707045468\n",
       "2011-03-29  21394690378\n",
       "2011-03-30  20976176471\n",
       "2011-03-31  20678636646"
      ]
     },
     "execution_count": 12,
     "metadata": {},
     "output_type": "execute_result"
    }
   ],
   "source": [
    "import pandas as pd\n",
    "\n",
    "sizes = pd.read_csv('Sizes.csv', index_col=0, parse_dates=True)\n",
    "sizes.head()"
   ]
  },
  {
   "cell_type": "markdown",
   "metadata": {},
   "source": [
    "It looks like the liveweb data started saving back in 2011. So now we've got a DataFrame that is indexed by the day, with one Series *size* that contains the bytes. I don't know about you, but I find it difficult to think of size in terms of bytes. So let's use pandas to calcuate a gigabyte column for us using the bytes:"
   ]
  },
  {
   "cell_type": "code",
   "execution_count": 13,
   "metadata": {},
   "outputs": [
    {
     "data": {
      "text/html": [
       "<div>\n",
       "<style scoped>\n",
       "    .dataframe tbody tr th:only-of-type {\n",
       "        vertical-align: middle;\n",
       "    }\n",
       "\n",
       "    .dataframe tbody tr th {\n",
       "        vertical-align: top;\n",
       "    }\n",
       "\n",
       "    .dataframe thead th {\n",
       "        text-align: right;\n",
       "    }\n",
       "</style>\n",
       "<table border=\"1\" class=\"dataframe\">\n",
       "  <thead>\n",
       "    <tr style=\"text-align: right;\">\n",
       "      <th></th>\n",
       "      <th>size</th>\n",
       "      <th>gb</th>\n",
       "    </tr>\n",
       "    <tr>\n",
       "      <th>date</th>\n",
       "      <th></th>\n",
       "      <th></th>\n",
       "    </tr>\n",
       "  </thead>\n",
       "  <tbody>\n",
       "    <tr>\n",
       "      <th>2011-03-27</th>\n",
       "      <td>10646200928</td>\n",
       "      <td>9.915047</td>\n",
       "    </tr>\n",
       "    <tr>\n",
       "      <th>2011-03-28</th>\n",
       "      <td>10707045468</td>\n",
       "      <td>9.971713</td>\n",
       "    </tr>\n",
       "    <tr>\n",
       "      <th>2011-03-29</th>\n",
       "      <td>21394690378</td>\n",
       "      <td>19.925358</td>\n",
       "    </tr>\n",
       "    <tr>\n",
       "      <th>2011-03-30</th>\n",
       "      <td>20976176471</td>\n",
       "      <td>19.535587</td>\n",
       "    </tr>\n",
       "    <tr>\n",
       "      <th>2011-03-31</th>\n",
       "      <td>20678636646</td>\n",
       "      <td>19.258481</td>\n",
       "    </tr>\n",
       "  </tbody>\n",
       "</table>\n",
       "</div>"
      ],
      "text/plain": [
       "                   size         gb\n",
       "date                              \n",
       "2011-03-27  10646200928   9.915047\n",
       "2011-03-28  10707045468   9.971713\n",
       "2011-03-29  21394690378  19.925358\n",
       "2011-03-30  20976176471  19.535587\n",
       "2011-03-31  20678636646  19.258481"
      ]
     },
     "execution_count": 13,
     "metadata": {},
     "output_type": "execute_result"
    }
   ],
   "source": [
    "sizes = sizes.assign(gb=lambda x: x / 1024 ** 3)\n",
    "sizes.head()"
   ]
  },
  {
   "cell_type": "markdown",
   "metadata": {},
   "source": [
    "Now we can tell pandas to calcuate some statistics on our data:"
   ]
  },
  {
   "cell_type": "code",
   "execution_count": 14,
   "metadata": {},
   "outputs": [
    {
     "data": {
      "text/html": [
       "<div>\n",
       "<style scoped>\n",
       "    .dataframe tbody tr th:only-of-type {\n",
       "        vertical-align: middle;\n",
       "    }\n",
       "\n",
       "    .dataframe tbody tr th {\n",
       "        vertical-align: top;\n",
       "    }\n",
       "\n",
       "    .dataframe thead th {\n",
       "        text-align: right;\n",
       "    }\n",
       "</style>\n",
       "<table border=\"1\" class=\"dataframe\">\n",
       "  <thead>\n",
       "    <tr style=\"text-align: right;\">\n",
       "      <th></th>\n",
       "      <th>size</th>\n",
       "      <th>gb</th>\n",
       "    </tr>\n",
       "  </thead>\n",
       "  <tbody>\n",
       "    <tr>\n",
       "      <th>count</th>\n",
       "      <td>2.577000e+03</td>\n",
       "      <td>2577.000000</td>\n",
       "    </tr>\n",
       "    <tr>\n",
       "      <th>mean</th>\n",
       "      <td>1.233640e+11</td>\n",
       "      <td>114.891670</td>\n",
       "    </tr>\n",
       "    <tr>\n",
       "      <th>std</th>\n",
       "      <td>1.576385e+11</td>\n",
       "      <td>146.812322</td>\n",
       "    </tr>\n",
       "    <tr>\n",
       "      <th>min</th>\n",
       "      <td>6.920293e+09</td>\n",
       "      <td>6.445025</td>\n",
       "    </tr>\n",
       "    <tr>\n",
       "      <th>25%</th>\n",
       "      <td>4.369936e+10</td>\n",
       "      <td>40.698201</td>\n",
       "    </tr>\n",
       "    <tr>\n",
       "      <th>50%</th>\n",
       "      <td>7.512312e+10</td>\n",
       "      <td>69.963859</td>\n",
       "    </tr>\n",
       "    <tr>\n",
       "      <th>75%</th>\n",
       "      <td>1.321588e+11</td>\n",
       "      <td>123.082494</td>\n",
       "    </tr>\n",
       "    <tr>\n",
       "      <th>max</th>\n",
       "      <td>1.848625e+12</td>\n",
       "      <td>1721.666143</td>\n",
       "    </tr>\n",
       "  </tbody>\n",
       "</table>\n",
       "</div>"
      ],
      "text/plain": [
       "               size           gb\n",
       "count  2.577000e+03  2577.000000\n",
       "mean   1.233640e+11   114.891670\n",
       "std    1.576385e+11   146.812322\n",
       "min    6.920293e+09     6.445025\n",
       "25%    4.369936e+10    40.698201\n",
       "50%    7.512312e+10    69.963859\n",
       "75%    1.321588e+11   123.082494\n",
       "max    1.848625e+12  1721.666143"
      ]
     },
     "execution_count": 14,
     "metadata": {},
     "output_type": "execute_result"
    }
   ],
   "source": [
    "sizes.describe()"
   ]
  },
  {
   "cell_type": "markdown",
   "metadata": {},
   "source": [
    "## Visualize the Data\n",
    "\n",
    "Since we have thousands of days, it might be useful to see the stats by month rather than by day. That's not too hard to do since our dataframe as a date index and pandas support for [timeseries](https://pandas.pydata.org/pandas-docs/stable/timeseries.html#timeseries) data allows us to resample the dataframe on a monthly basis:"
   ]
  },
  {
   "cell_type": "code",
   "execution_count": 15,
   "metadata": {},
   "outputs": [
    {
     "data": {
      "text/html": [
       "<div>\n",
       "<style scoped>\n",
       "    .dataframe tbody tr th:only-of-type {\n",
       "        vertical-align: middle;\n",
       "    }\n",
       "\n",
       "    .dataframe tbody tr th {\n",
       "        vertical-align: top;\n",
       "    }\n",
       "\n",
       "    .dataframe thead th {\n",
       "        text-align: right;\n",
       "    }\n",
       "</style>\n",
       "<table border=\"1\" class=\"dataframe\">\n",
       "  <thead>\n",
       "    <tr style=\"text-align: right;\">\n",
       "      <th></th>\n",
       "      <th>size</th>\n",
       "      <th>gb</th>\n",
       "    </tr>\n",
       "    <tr>\n",
       "      <th>date</th>\n",
       "      <th></th>\n",
       "      <th></th>\n",
       "    </tr>\n",
       "  </thead>\n",
       "  <tbody>\n",
       "    <tr>\n",
       "      <th>2011-03-31</th>\n",
       "      <td>84402749891</td>\n",
       "      <td>78.606186</td>\n",
       "    </tr>\n",
       "    <tr>\n",
       "      <th>2011-04-30</th>\n",
       "      <td>958748826767</td>\n",
       "      <td>892.904426</td>\n",
       "    </tr>\n",
       "    <tr>\n",
       "      <th>2011-05-31</th>\n",
       "      <td>1087027126597</td>\n",
       "      <td>1012.372902</td>\n",
       "    </tr>\n",
       "    <tr>\n",
       "      <th>2011-06-30</th>\n",
       "      <td>1318207232774</td>\n",
       "      <td>1227.676154</td>\n",
       "    </tr>\n",
       "    <tr>\n",
       "      <th>2011-07-31</th>\n",
       "      <td>1355729191892</td>\n",
       "      <td>1262.621201</td>\n",
       "    </tr>\n",
       "  </tbody>\n",
       "</table>\n",
       "</div>"
      ],
      "text/plain": [
       "                     size           gb\n",
       "date                                  \n",
       "2011-03-31    84402749891    78.606186\n",
       "2011-04-30   958748826767   892.904426\n",
       "2011-05-31  1087027126597  1012.372902\n",
       "2011-06-30  1318207232774  1227.676154\n",
       "2011-07-31  1355729191892  1262.621201"
      ]
     },
     "execution_count": 15,
     "metadata": {},
     "output_type": "execute_result"
    }
   ],
   "source": [
    "sizes_by_month = sizes.resample('M').sum()\n",
    "sizes_by_month.head()"
   ]
  },
  {
   "cell_type": "code",
   "execution_count": 16,
   "metadata": {},
   "outputs": [
    {
     "data": {
      "text/plain": [
       "<matplotlib.axes._subplots.AxesSubplot at 0x1111587f0>"
      ]
     },
     "execution_count": 16,
     "metadata": {},
     "output_type": "execute_result"
    },
    {
     "data": {
      "image/png": "[encoded data removed]",
      "text/plain": [
       "<Figure size 432x288 with 1 Axes>"
      ]
     },
     "metadata": {},
     "output_type": "display_data"
    }
   ],
   "source": [
    "%matplotlib inline\n",
    "\n",
    "sizes_by_month['gb'].plot()"
   ]
  },
  {
   "cell_type": "markdown",
   "metadata": {},
   "source": [
    "Kinda cool right!? The dip at the end is the result of me running the data collection in the middle of May. So let's remove that:"
   ]
  },
  {
   "cell_type": "code",
   "execution_count": 17,
   "metadata": {},
   "outputs": [
    {
     "data": {
      "text/plain": [
       "Text(0.5,1,'Save-Page-Now Ingest Rate')"
      ]
     },
     "execution_count": 17,
     "metadata": {},
     "output_type": "execute_result"
    },
    {
     "data": {
      "image/png": "[encoded data removed]",
      "text/plain": [
       "<Figure size 720x360 with 1 Axes>"
      ]
     },
     "metadata": {},
     "output_type": "display_data"
    }
   ],
   "source": [
    "import datetime\n",
    "\n",
    "sizes_without_may = sizes_by_month['gb'].drop(datetime.date(2018, 5, 31))\n",
    "\n",
    "plot = sizes_without_may.plot(figsize=(10, 5))\n",
    "plot.set_xlabel('Year')\n",
    "plot.set_ylabel('Gigabytes per Month')\n",
    "plot.set_title('Save-Page-Now Ingest Rate')"
   ]
  },
  {
   "cell_type": "markdown",
   "metadata": {},
   "source": [
    "## Estimating Storage for Samples\n",
    "\n",
    "As part of our research project we are looking to explore and characterize the data that is being archived by SPN. Part of this will involve looking at what URLs and domains are being collected, the HTTP headers that the client is sending (which preserving the anonymity of the client), and also perhaps some content analysis. Downloading 296 TB isn't probably going to be feasible, so we are planning to sample the data in two ways: interval and event based sampling. In order to prepare our own analysis environment we need to calculate how much storage we're going to need.\n",
    "\n",
    "### Sampling by Interval\n",
    "\n",
    "For the systematic sampling we are going to download a day of WARC data at routine intevals. Starting at the beginning of the SPN data up to the present day. We can use our data to figure out the start end end of the time period, and then use pandas to calcuate the dates we want to look at."
   ]
  },
  {
   "cell_type": "code",
   "execution_count": 18,
   "metadata": {},
   "outputs": [
    {
     "name": "stdout",
     "output_type": "stream",
     "text": [
      "DatetimeIndex(['2011-12-31', '2012-12-31', '2013-12-31', '2014-12-31',\n",
      "               '2015-12-31', '2016-12-31', '2017-12-31'],\n",
      "              dtype='datetime64[ns]', freq='A-DEC')\n"
     ]
    }
   ],
   "source": [
    "start_date = min(sizes.index)\n",
    "end_date = max(sizes.index)\n",
    "annual = pd.date_range(start_date, end_date, freq='A')\n",
    "print(annual)"
   ]
  },
  {
   "cell_type": "markdown",
   "metadata": {},
   "source": [
    "Then we can use pandas to tell us the data sizes on those days as well as the total."
   ]
  },
  {
   "cell_type": "code",
   "execution_count": 19,
   "metadata": {},
   "outputs": [
    {
     "name": "stdout",
     "output_type": "stream",
     "text": [
      "date\n",
      "2011-12-31     48.475318\n",
      "2012-12-31     20.080549\n",
      "2013-12-31    312.535868\n",
      "2014-12-31     41.109204\n",
      "2015-12-31     51.898510\n",
      "2016-12-31    144.981586\n",
      "2017-12-31    362.544233\n",
      "Name: gb, dtype: float64\n",
      "\n",
      "Annual: 0.96 TB\n"
     ]
    }
   ],
   "source": [
    "annual_sizes = sizes['gb'].filter(annual)\n",
    "print(annual_sizes)\n",
    "print()\n",
    "print(\"Annual: %0.2f TB\" % (sum(annual_sizes)/1024))"
   ]
  },
  {
   "cell_type": "markdown",
   "metadata": {},
   "source": [
    "We're not actually sure exactly how much storage space we'll have available to us so it could be useful to have some other ranges and their totals handy:"
   ]
  },
  {
   "cell_type": "code",
   "execution_count": 20,
   "metadata": {},
   "outputs": [
    {
     "name": "stdout",
     "output_type": "stream",
     "text": [
      "Biannual: 2.74 TB\n",
      "Monthly: 10.11 TB\n",
      "Biweekly: 21.04 TB\n",
      "Weekly: 38.80 TB\n"
     ]
    }
   ],
   "source": [
    "print(\"Biannual: %0.2f TB\" % (sum(sizes['gb'].filter(pd.date_range(start_date, end_date, freq='6M'))) / 1024))\n",
    "print(\"Monthly: %0.2f TB\" % (sum(sizes['gb'].filter(pd.date_range(start_date, end_date, freq='1M'))) / 1024))\n",
    "print(\"Biweekly: %0.2f TB\" % (sum(sizes['gb'].filter(pd.date_range(start_date, end_date, freq='2W'))) / 1024))\n",
    "print(\"Weekly: %0.2f TB\" % (sum(sizes['gb'].filter(pd.date_range(start_date, end_date, freq='W'))) / 1024))"
   ]
  },
  {
   "cell_type": "markdown",
   "metadata": {},
   "source": [
    "### Sampling by Event\n",
    "\n",
    "We also want to zoom in on particular event time periods to see if behavior around them changes significantly. Here is a short list we have for events:\n",
    "\n",
    "* **Ferguson Protests** - 2014-08-09 - 2014-08-16\n",
    "* **Brexit Vote** - 2016-06-16 - 2016-06-24\n",
    "* **DataRescue** - 2018-01-15 - 2018-01-30"
   ]
  },
  {
   "cell_type": "code",
   "execution_count": 21,
   "metadata": {},
   "outputs": [
    {
     "name": "stdout",
     "output_type": "stream",
     "text": [
      "Ferguson 0.30 TB\n",
      "Brexit 0.94 TB\n",
      "DataRescue 6.10 TB\n"
     ]
    }
   ],
   "source": [
    "from datetime import date\n",
    "\n",
    "ferguson = pd.date_range(date(2014, 8, 9), date(2014, 8, 16))\n",
    "print('Ferguson %0.2f TB' % (sum(sizes['gb'].filter(ferguson)) / 1024))\n",
    "\n",
    "brexit = pd.date_range(date(2016, 6, 16), date(2016, 6, 24))\n",
    "print('Brexit %0.2f TB' % (sum(sizes['gb'].filter(brexit)) / 1024))\n",
    "\n",
    "datarescue = pd.date_range(date(2018, 1, 15), date(2018, 1, 30))\n",
    "print('DataRescue %0.2f TB' % (sum(sizes['gb'].filter(datarescue)) / 1024))\n"
   ]
  },
  {
   "cell_type": "markdown",
   "metadata": {},
   "source": [
    "### Total Storage\n",
    "\n",
    "This is accidentally kind of interesting because the DataRescue event does seem to be kind of anomlaous which you can see in the line graph above. So it looks like maximum we'd need at most **50 TB** of storage if we went with the weekly samply rate and the three events above. I suspect we'll want to have some processing space for derivative data, so maybe padding out to **75 TB** is a good idea? This will also let us decide on new events that we are interested in."
   ]
  },
  {
   "cell_type": "code",
   "execution_count": 22,
   "metadata": {},
   "outputs": [
    {
     "data": {
      "text/plain": [
       "46.14"
      ]
     },
     "execution_count": 22,
     "metadata": {},
     "output_type": "execute_result"
    }
   ],
   "source": [
    ".3 + .94 + 6.1 + 38.8 "
   ]
  },
  {
   "cell_type": "code",
   "execution_count": null,
   "metadata": {},
   "outputs": [],
   "source": []
  }
 ],
 "metadata": {
  "kernelspec": {
   "display_name": "Python 3",
   "language": "python",
   "name": "python3"
  },
  "language_info": {
   "codemirror_mode": {
    "name": "ipython",
    "version": 3
   },
   "file_extension": ".py",
   "mimetype": "text/x-python",
   "name": "python",
   "nbconvert_exporter": "python",
   "pygments_lexer": "ipython3",
   "version": "3.6.4"
  }
 },
 "nbformat": 4,
 "nbformat_minor": 2
}
